{
 "cells": [
  {
   "cell_type": "code",
   "execution_count": 48,
   "metadata": {},
   "outputs": [],
   "source": [
    "from itertools import product\n",
    "import matplotlib.pyplot as plt\n",
    "import matplotlib as mpl\n",
    "from mpl_toolkits.mplot3d import Axes3D\n",
    "import netCDF4 as nc\n",
    "import numpy as np\n",
    "import random\n",
    "from scipy.integrate import ode\n",
    "from scipy.interpolate import LinearNDInterpolator\n",
    "\n",
    "%matplotlib inline"
   ]
  },
  {
   "cell_type": "markdown",
   "metadata": {},
   "source": [
    "* Staggered grids : Done\n",
    "* Multiple points : Done\n",
    "* tmask\n",
    "* e1t etc\n",
    "* the surface"
   ]
  },
  {
   "cell_type": "code",
   "execution_count": 147,
   "metadata": {},
   "outputs": [],
   "source": [
    "def interpolator(t_mask, w_coords, v_coords, u_coords, w, v, u, point) :\n",
    "    dims = len(point)\n",
    "    rhs = np.zeros((3))\n",
    "    if t_mask[int(point[1]), int(point[2]), int(point[3]+0.5)] != 0:\n",
    "        for vel, coords, data in zip([0, 1, 2], [w_coords, v_coords, u_coords], [w, v, u]):\n",
    "            indices = []\n",
    "            sub_coords = []\n",
    "            for j in range(dims) :\n",
    "                idx = np.digitize([point[j]], coords[j])[0]   # finds the index of region\n",
    "                if (idx == len(coords[j])):\n",
    "                    print (j, 'out of bounds', point[j], vel, coords[j])\n",
    "                if (idx == 0):\n",
    "                    print (j, 'hit surface', point[j], vel, coords[j])\n",
    "                indices += [[idx - 1, idx]]\n",
    "                sub_coords += [coords[j][indices[-1]]]\n",
    "            indices = np.array([j for j in product(*indices)])\n",
    "            sub_coords = np.array([j for j in product(*sub_coords)])\n",
    "            sub_data = data[list(np.swapaxes(indices, 0, 1))]\n",
    "            li = LinearNDInterpolator(sub_coords, sub_data)\n",
    "            rhs[vel] = li([point])[0]\n",
    "    return rhs\n",
    "# from Jaime on Stackoverflow https://stackoverflow.com/users/110026/jaime"
   ]
  },
  {
   "cell_type": "code",
   "execution_count": 119,
   "metadata": {
    "collapsed": true
   },
   "outputs": [],
   "source": [
    "def derivatives(t, poss, t_mask, w_coords, v_coords, u_coords, w, v, u):\n",
    "    rhs = np.zeros_like(poss)\n",
    "    for ip in range(int(poss.shape[0]/3)):\n",
    "        point = np.array([t, poss[0+ip*3], poss[1+ip*3], poss[2+ip*3]])\n",
    "        rhs[0+ip*3:3+ip*3] = interpolator(t_mask, w_coords, v_coords, u_coords, w, v, u, point)/(\n",
    "            np.array([1., 500., 440]))\n",
    "    return np.array(rhs) # array or scalar, not a tuple"
   ]
  },
  {
   "cell_type": "markdown",
   "metadata": {},
   "source": [
    "# test starter\n",
    "tlen = 3\n",
    "nsize = 6\n",
    "# velocities\n",
    "u = 1 - 2* np.random.rand(tlen, nsize, nsize, nsize)\n",
    "v = 1 - 2*np.random.rand(tlen, nsize, nsize, nsize)\n",
    "w = 1 - 2*np.random.rand(tlen, nsize, nsize, nsize)\n",
    "# t-coordinates\n",
    "xcorrs = np.linspace(0, nsize-1, nsize)\n",
    "ycorrs = np.linspace(0, nsize-1, nsize)\n",
    "zcorrs = np.linspace(0, nsize-1, nsize)\n",
    "tcorrs = np.linspace(0, tlen-1, tlen)\n",
    "longaxis = max(len(xcorrs), len(ycorrs), len(zcorrs), len(tcorrs))\n",
    "print (longaxis)\n",
    "t_coords = np.zeros((4, longaxis))\n",
    "t_coords[0, 0:len(tcorrs)] = tcorrs\n",
    "t_coords[0, len(tcorrs):] = max(tcorrs)\n",
    "t_coords[1, 0:len(zcorrs)] = zcorrs\n",
    "t_coords[1, len(zcorrs):] = max(zcorrs)\n",
    "t_coords[2, 0:len(ycorrs)] = ycorrs\n",
    "t_coords[2, len(ycorrs):] = max(ycorrs)\n",
    "t_coords[3, 0:len(xcorrs)] = xcorrs\n",
    "t_coords[3, len(xcorrs):] = max(xcorrs)\n",
    "# other grids\n",
    "u_coords = np.copy(t_coords)\n",
    "u_coords[3] = t_coords[3] + 0.5\n",
    "v_coords = np.copy(t_coords)\n",
    "v_coords[2] = t_coords[2] + 0.5\n",
    "w_coords = np.copy(t_coords)\n",
    "w_coords[1] = t_coords[3] + 0.5\n",
    "# tmask\n",
    "t_mask = np.ones((zcorrs.shape[0], ycorrs.shape[0], xcorrs.shape[0]))\n",
    "print (t_mask.shape)\n",
    "t_mask[0] = 0\n",
    "t_mask[-1] = 0\n",
    "t_mask[:, 0] = 0\n",
    "t_mask[:, -1] = 0\n",
    "t_mask[..., 0] = 0\n",
    "t_mask[..., -1] = 0\n",
    "print (tcorrs, t_coords[0], u_coords[1], v_coords[2], w_coords[3])"
   ]
  },
  {
   "cell_type": "code",
   "execution_count": 208,
   "metadata": {},
   "outputs": [
    {
     "name": "stdout",
     "output_type": "stream",
     "text": [
      "[[   2.09779632  255.13152487  301.04620357]\n",
      " [   2.14403199  269.64935333  305.48853622]]\n"
     ]
    }
   ],
   "source": [
    "yi = np.zeros((2, 3))\n",
    "\n",
    "for i in range(npoints):\n",
    "    yi[i, 0] = random.uniform(0., t_coords[1, -1])\n",
    "    for j in range(1, 3, 1):\n",
    "        yi[i, j] = random.uniform(t_coords[j+1, 0], t_coords[j+1, -1])\n",
    "\n",
    "print (yi)"
   ]
  },
  {
   "cell_type": "code",
   "execution_count": 209,
   "metadata": {},
   "outputs": [
    {
     "name": "stdout",
     "output_type": "stream",
     "text": [
      "(3, 6, 21, 21) (4, 21)\n",
      "(3, 6, 21, 21) (4, 21)\n",
      "(3, 6, 21, 21) (4, 21)\n",
      "(40, 898, 398) (4, 21)\n",
      "[[   2.09779632  255.13152487  301.04620357]\n",
      " [   2.14403199  269.64935333  305.48853622]]\n",
      "(4,)\n",
      "[  1.49709780e+09   2.09779632e+00   2.55131525e+02   3.01046204e+02]\n",
      "[ -7.52405035e-05  -1.17523409e-03  -5.56893306e-03]\n",
      "[  1.49709780e+09   2.14403199e+00   2.69649353e+02   3.05488536e+02]\n",
      "[  2.21622758e-04  -2.32075628e-03  -4.01388744e-01]\n"
     ]
    }
   ],
   "source": [
    "print (w.shape, w_coords.shape)\n",
    "print (v.shape, v_coords.shape)\n",
    "print (u.shape, u_coords.shape)\n",
    "print (t_mask.shape, t_coords.shape)\n",
    "print (yi)\n",
    "testpoint = np.zeros((4))\n",
    "print (testpoint.shape)\n",
    "testpoint[1:] = yi[0]\n",
    "testpoint[0] = t0\n",
    "print (testpoint)\n",
    "velocity = interpolator(t_mask, w_coords, v_coords, u_coords, w, v, u, testpoint)\n",
    "print (velocity)\n",
    "if np.all(velocity == [0, 0, 0]):\n",
    "    t_mask[int(testpoint[1]), int(testpoint[2]), int(testpoint[3]+0.5)] = 0\n",
    "    print (int(testpoint[1]), int(testpoint[2]), int(testpoint[3]+0.5), 'zerod')\n",
    "testpoint[1:] = yi[1]\n",
    "print (testpoint)\n",
    "velocity = interpolator(t_mask, w_coords, v_coords, u_coords, w, v, u, testpoint)\n",
    "print (velocity)\n",
    "if np.all(velocity == [0, 0, 0]):\n",
    "    t_mask[int(testpoint[1]), int(testpoint[2]), int(testpoint[3]+0.5)] = 0\n",
    "    print (int(testpoint[1]), int(testpoint[2]), int(testpoint[3]+0.5), 'zerod')"
   ]
  },
  {
   "cell_type": "code",
   "execution_count": 220,
   "metadata": {
    "scrolled": false
   },
   "outputs": [
    {
     "data": {
      "image/png": "[encoded data removed]",
      "text/plain": [
       "<matplotlib.figure.Figure at 0x115eb6978>"
      ]
     },
     "metadata": {},
     "output_type": "display_data"
    }
   ],
   "source": [
    "# fig, ax = plt.subplots(1, 3, figsize=(10, 5))\n",
    "fig = plt.figure(figsize=(15, 5))\n",
    "ax[0] = fig.add_subplot(1, 3, 1)\n",
    "ax[1] = fig.add_subplot(1, 3, 2)\n",
    "ax[2] = fig.add_subplot(1, 3, 3, projection='3d')\n",
    "myintegrator = ode(derivatives).set_integrator('dopri5', atol=0.01)\n",
    "t0 = tcorrs[0]\n",
    "npoints = 2\n",
    "scale = 100.\n",
    "y0 = np.copy(yi)\n",
    "\n",
    "yp = np.ndarray.flatten(y0)\n",
    "\n",
    "for ip in range(npoints):\n",
    "    ax[0].plot(t0, y0[ip, 0]*scale, 'o')\n",
    "    ax[0].plot(t0, y0[ip, 1], 's')\n",
    "    ax[0].plot(t0, y0[ip, 2], '^')\n",
    "    ax[1].plot(y0[ip, 2], y0[ip, 1], 'bo')\n",
    "    ax[2].scatter(y0[ip, 2], y0[ip, 1], y0[ip, 0], c='y')\n",
    "    \n",
    "\n",
    "myintegrator.set_initial_value(yp, t0).set_f_params(t_mask, w_coords, v_coords, u_coords, w, v, u)\n",
    "dt = deltat/10.\n",
    "t1 = t0 + 1.5*deltat\n",
    "\n",
    "while myintegrator.successful() and myintegrator.t < t1:\n",
    "    myintegrator.integrate(myintegrator.t + dt)\n",
    "    y0 = np.reshape(myintegrator.y, (npoints, 3))\n",
    "    for ip in range(npoints):\n",
    "        ax[0].plot(myintegrator.t, y0[ip, 0]*scale, 'go')\n",
    "        ax[0].plot(myintegrator.t, y0[ip, 1], 'rs')\n",
    "        ax[0].plot(myintegrator.t, y0[ip, 2], 'k^')\n",
    "        ax[1].plot(y0[ip, 2], y0[ip, 1], 'm*')\n",
    "        ax[2].scatter(y0[ip, 2], y0[ip, 1], y0[ip, 0], c='b')\n",
    "\n",
    "\n",
    "for count in range(8):\n",
    "        \n",
    "    # update arrays\n",
    "    tcorrs, u_coords, v_coords, w_coords, u, v, w, nextindex = (\n",
    "        update_arrays(tcorrs, u_coords, v_coords, w_coords, u, v, w, deltat, nextindex))\n",
    "    t1 += deltat\n",
    "\n",
    "    while myintegrator.successful() and myintegrator.t < t1:\n",
    "        myintegrator.integrate(myintegrator.t + dt)\n",
    "        y0 = np.reshape(myintegrator.y, (npoints, 3))\n",
    "        for ip in range(npoints):\n",
    "            ax[0].plot(myintegrator.t, y0[ip, 0], 'go')\n",
    "            ax[0].plot(myintegrator.t, y0[ip, 1], 'rs')\n",
    "            ax[0].plot(myintegrator.t, y0[ip, 2], 'k^')\n",
    "            ax[1].plot(y0[ip, 2], y0[ip, 1], 'm*')\n",
    "            ax[2].scatter(y0[ip, 2], y0[ip, 1], y0[ip, 0], c='b')"
   ]
  },
  {
   "cell_type": "code",
   "execution_count": 216,
   "metadata": {
    "collapsed": true
   },
   "outputs": [],
   "source": [
    "def update_arrays(tcorrs, u_coords, v_coords, w_coords, u, v, w, deltat, nextindex):\n",
    "    tcorrs  = tcorrs + deltat\n",
    "    u_coords[0, 0:len(tcorrs)] = tcorrs\n",
    "    u_coords[0, len(tcorrs):] = max(tcorrs)\n",
    "    v_coords[0] = u_coords[0]\n",
    "    w_coords[0] = u_coords[0]\n",
    "    u[0:2] = u[1:3]\n",
    "    u[2, 1:] = udataset['uVelocity'][nextindex]\n",
    "    u[2, 0] = 2 * u[2, 2] - u[2, 1]\n",
    "    v[0:2] = v[1:3]\n",
    "    v[2, 1:] = vdataset['vVelocity'][nextindex]\n",
    "    v[2, 0] = 2 * v[2, 2] - v[2, 1]\n",
    "    w[0:2] = w[1:3]\n",
    "    w[2] = wdataset['wVelocity'][nextindex]\n",
    "    nextindex += 1\n",
    "    return tcorrs, u_coords, v_coords, w_coords, u, v, w, nextindex"
   ]
  },
  {
   "cell_type": "code",
   "execution_count": 212,
   "metadata": {},
   "outputs": [
    {
     "name": "stdout",
     "output_type": "stream",
     "text": [
      "(3, 6, 21, 21)\n"
     ]
    }
   ],
   "source": [
    "print (u.shape)"
   ]
  },
  {
   "cell_type": "code",
   "execution_count": 219,
   "metadata": {},
   "outputs": [
    {
     "name": "stdout",
     "output_type": "stream",
     "text": [
      "21\n",
      "(4, 21)\n",
      "(3, 6, 21, 21)\n",
      "(3, 6, 21, 21)\n",
      "(3, 6, 21, 21)\n",
      "(40, 898, 398)\n",
      "1.5 250.0 302.0\n",
      "-0.00781892426312 0.0108764423057 5.67423e-05\n",
      "0.0\n",
      "1.0\n",
      "[-0.5  0.5  1.5  2.5  3.5  4.5]\n"
     ]
    }
   ],
   "source": [
    "udataset = nc.Dataset('/Users/sallen/Downloads/ubcSSn3DuVelocity1hV16-10_9411_b69f_35e1.nc')\n",
    "# print (udataset)\n",
    "tcorrs = udataset['time'][:3]\n",
    "deltat = tcorrs[1] - tcorrs[0]\n",
    "xcorrs = udataset['gridX'][:]\n",
    "ycorrs = udataset['gridY'][:]\n",
    "depthsize = udataset['depth'][:].shape[0]\n",
    "zcorrs = np.linspace(-0.5, depthsize-0.5, depthsize+1)\n",
    "\n",
    "longaxis = max(len(xcorrs), len(ycorrs), len(zcorrs), len(tcorrs))\n",
    "print (longaxis)\n",
    "t_coords = np.zeros((4, longaxis))\n",
    "t_coords[0, 0:len(tcorrs)] = tcorrs\n",
    "t_coords[0, len(tcorrs):] = max(tcorrs)\n",
    "t_coords[1, 0:len(zcorrs)] = zcorrs\n",
    "t_coords[1, len(zcorrs):] = max(zcorrs)\n",
    "t_coords[2, 0:len(ycorrs)] = ycorrs\n",
    "t_coords[2, len(ycorrs):] = max(ycorrs)\n",
    "t_coords[3, 0:len(xcorrs)] = xcorrs\n",
    "t_coords[3, len(xcorrs):] = max(xcorrs)\n",
    "print (t_coords.shape)\n",
    "# other grids\n",
    "u_coords = np.copy(t_coords)\n",
    "u_coords[3] = t_coords[3] + 0.5\n",
    "v_coords = np.copy(t_coords)\n",
    "v_coords[2] = t_coords[2] + 0.5\n",
    "w_coords = np.copy(t_coords)\n",
    "w_coords[1] = t_coords[1] + 0.5\n",
    "\n",
    "u = np.zeros((3, len(zcorrs), len(ycorrs), len(xcorrs)))\n",
    "print (u.shape)\n",
    "u[:, 1:] = udataset['uVelocity'][0:3]\n",
    "u[:, 0] = 2 * u[:, 2] - u[:, 1]\n",
    "print (u.shape)\n",
    "\n",
    "v = np.zeros_like(u)\n",
    "vdataset = nc.Dataset('/Users/sallen/Downloads/ubcSSn3DvVelocity1hV16-10_a2b6_f6ad_26bd.nc')\n",
    "v[:, 1:] = vdataset['vVelocity'][0:3]\n",
    "v[:, 0] = 2 * v[:, 2] - v[:, 1]\n",
    "print (v.shape)\n",
    "\n",
    "wdataset = nc.Dataset('/Users/sallen/Downloads/ubcSSn3DwVelocity1hV16-10_9d37_aa6f_428c.nc')\n",
    "w = np.zeros_like(u)\n",
    "w = wdataset['wVelocity'][0:3]\n",
    "nextindex = 3\n",
    "\n",
    "t_mask = np.ones((40, 898, 398))\n",
    "print (t_mask.shape)\n",
    "t_mask[5:] = 0\n",
    "t_mask[:, 0:int(t_coords[2, 0]+1)] = 0\n",
    "t_mask[:, int(t_coords[2, -1]):] = 0\n",
    "t_mask[..., 0:int(t_coords[3, 0]+1)] = 0\n",
    "t_mask[..., int(t_coords[3, -1]):] = 0\n",
    "\n",
    "print (t_coords[1, 2], t_coords[2, 0], t_coords[3, 2])\n",
    "print (u[0, 2, 5, 2], v[0, 2, 5, 2], w[0, 2, 5, 2])\n",
    "print (t_mask[2, 250, 311])\n",
    "print (t_mask[4, 258, 312])\n",
    "print (zcorrs)"
   ]
  },
  {
   "cell_type": "code",
   "execution_count": null,
   "metadata": {
    "collapsed": true
   },
   "outputs": [],
   "source": [
    "2.99800437  250.21963892  311.72698054\n",
    "4.16521453  258.96741365  312.76911944"
   ]
  }
 ],
 "metadata": {
  "kernelspec": {
   "display_name": "Python 3",
   "language": "python",
   "name": "python3"
  },
  "language_info": {
   "codemirror_mode": {
    "name": "ipython",
    "version": 3
   },
   "file_extension": ".py",
   "mimetype": "text/x-python",
   "name": "python",
   "nbconvert_exporter": "python",
   "pygments_lexer": "ipython3",
   "version": "3.6.1"
  }
 },
 "nbformat": 4,
 "nbformat_minor": 2
}
