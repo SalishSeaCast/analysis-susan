{
 "cells": [
  {
   "cell_type": "code",
   "execution_count": null,
   "metadata": {
    "collapsed": true
   },
   "outputs": [],
   "source": [
    "from itertools import product\n",
    "import matplotlib.pyplot as plt\n",
    "import matplotlib as mpl\n",
    "from mpl_toolkits.mplot3d import Axes3D\n",
    "import netCDF4 as nc\n",
    "import numpy as np\n",
    "import random\n",
    "from scipy.integrate import ode\n",
    "from scipy.interpolate import LinearNDInterpolator\n",
    "\n",
    "%matplotlib inline"
   ]
  },
  {
   "cell_type": "markdown",
   "metadata": {},
   "source": [
    "* Staggered grids : Done\n",
    "* Multiple points : Done\n",
    "* tmask : Done (or at least fake one done)\n",
    "* off depth and onto grid (done)\n",
    "* e1t etc (sketched)\n",
    "* the surface (badly done)"
   ]
  },
  {
   "cell_type": "code",
   "execution_count": null,
   "metadata": {
    "collapsed": true
   },
   "outputs": [],
   "source": [
    "def interpolator(t_mask, e3w, e2v, e1u, w_coords, v_coords, u_coords, w, v, u, point) :\n",
    "    dims = len(point)\n",
    "    rhs = np.zeros((3))\n",
    "    if t_mask[int(point[1]), int(point[2]), int(point[3])] != 0:\n",
    "        for vel, scale, coords, data in zip([0, 1, 2], [e3w, e2v, e1u,], [w_coords, v_coords, u_coords], [w, v, u]):\n",
    "            indices = []\n",
    "            sub_coords = []\n",
    "            for j in range(dims) :\n",
    "                idx = np.digitize([point[j]], coords[j])[0]   # finds the index of region\n",
    "                if (idx == len(coords[j])):\n",
    "                    print (j, 'out of bounds', point[j], vel, coords[j])\n",
    "                if (idx == 0):\n",
    "                    print (j, 'hit surface', point[j], vel, coords[j])\n",
    "                indices += [[idx - 1, idx]]\n",
    "                sub_coords += [coords[j][indices[-1]]]\n",
    "            indices = np.array([j for j in product(*indices)])\n",
    "            sub_coords = np.array([j for j in product(*sub_coords)])\n",
    "            sub_data = data[list(np.swapaxes(indices, 0, 1))]\n",
    "            li = LinearNDInterpolator(sub_coords, sub_data)\n",
    "            rhs[vel] = li([point])[0]/scale\n",
    "    return rhs\n",
    "# from Jaime on Stackoverflow https://stackoverflow.com/users/110026/jaime"
   ]
  },
  {
   "cell_type": "code",
   "execution_count": null,
   "metadata": {
    "collapsed": true
   },
   "outputs": [],
   "source": [
    "def derivatives(t, poss, t_mask, e3w, e2v, e1u, w_coords, v_coords, u_coords, w, v, u):\n",
    "    rhs = np.zeros_like(poss)\n",
    "    for ip in range(int(poss.shape[0]/3)):\n",
    "        point = np.array([t, poss[0+ip*3], poss[1+ip*3], poss[2+ip*3]])\n",
    "        rhs[0+ip*3:3+ip*3] = interpolator(t_mask, e3w, e2v, e1u, w_coords, v_coords, u_coords, w, v, u, point)\n",
    "    return np.array(rhs) # array or scalar, not a tuple"
   ]
  },
  {
   "cell_type": "code",
   "execution_count": null,
   "metadata": {},
   "outputs": [],
   "source": [
    "# Choose new random points\n",
    "def random_points (t_coords, deltat):\n",
    "    t0 = tcorrs[0]\n",
    "    yi = np.zeros((27, 3))\n",
    "\n",
    "    tc = random.uniform(t0, t0+deltat)\n",
    "    zc = random.uniform(0., 1.)\n",
    "    yc = random.uniform(t_coords[2, 0], t_coords[2, -1])\n",
    "    xc = random.uniform(t_coords[3, 0], t_coords[3, -1])\n",
    "\n",
    "    print (tc, zc, yc, xc)\n",
    "\n",
    "    count = 0\n",
    "    for k in range(3):\n",
    "        for j in range(3):\n",
    "            for i in range(3):\n",
    "                yi[count, 0] = zc + k\n",
    "                yi[count, 1] = yc + j\n",
    "                yi[count, 2] = xc + i\n",
    "                count += 1\n",
    "    return yi"
   ]
  },
  {
   "cell_type": "code",
   "execution_count": null,
   "metadata": {},
   "outputs": [],
   "source": [
    "# Set up run: test points are not on the walls\n",
    "def test_points(t_coords, u_coords, v_coords, w_coords, tmask, yi):\n",
    "    testpoint = np.zeros((4))\n",
    "    for point in range(yi.shape[0])\n",
    "        testpoint[1:] = yi[point]\n",
    "        testpoint[0] = t0\n",
    "        print (testpoint)\n",
    "        velocity = interpolator(t_mask, e3w, e2v, e1u, w_coords, v_coords, u_coords, w, v, u, testpoint)\n",
    "        print (velocity)\n",
    "        if np.all(velocity == [0, 0, 0]):\n",
    "            t_mask[int(testpoint[1]), int(testpoint[2]), int(testpoint[3])] = 0\n",
    "            print (int(testpoint[1]), int(testpoint[2]), int(testpoint[3]), 'zerod')\n",
    "    return tmask"
   ]
  },
  {
   "cell_type": "code",
   "execution_count": null,
   "metadata": {
    "collapsed": true
   },
   "outputs": [],
   "source": [
    "def w_correction (w, total_depth, depth):\n",
    "    '''w in nc files, is real, but we want w relative to grid\n",
    "    that means w  at the surface is zero'''\n",
    "    stretching = w[:, 0]/total_depth\n",
    "    for i in range(6):\n",
    "        w[:, i] =- stretching*depth[:, i]\n",
    "    return w"
   ]
  },
  {
   "cell_type": "code",
   "execution_count": null,
   "metadata": {
    "scrolled": false
   },
   "outputs": [],
   "source": [
    "def get_initial_data():\n",
    "    udataset = nc.Dataset('/Users/sallen/Downloads/ubcSSn3DuVelocity1hV16-10_9411_b69f_35e1.nc')\n",
    "    tcorrs = udataset['time'][:3]\n",
    "    deltat = tcorrs[1] - tcorrs[0]\n",
    "    xcorrs = udataset['gridX'][:]\n",
    "    ycorrs = udataset['gridY'][:]\n",
    "    depthsize = udataset['depth'][:].shape[0]\n",
    "    zcorrs = np.linspace(0, depthsize, depthsize+1)  # this makes it depth, not grid point\n",
    "\n",
    "    longaxis = max(len(xcorrs), len(ycorrs), len(zcorrs), len(tcorrs))\n",
    "    print (longaxis)\n",
    "    t_coords = np.zeros((4, longaxis))\n",
    "    t_coords[0, 0:len(tcorrs)] = tcorrs\n",
    "    t_coords[0, len(tcorrs):] = max(tcorrs)\n",
    "    t_coords[1, 0:len(zcorrs)] = zcorrs\n",
    "    t_coords[1, len(zcorrs):] = max(zcorrs)\n",
    "    t_coords[2, 0:len(ycorrs)] = ycorrs\n",
    "    t_coords[2, len(ycorrs):] = max(ycorrs)\n",
    "    t_coords[3, 0:len(xcorrs)] = xcorrs\n",
    "    t_coords[3, len(xcorrs):] = max(xcorrs)\n",
    "    print (t_coords.shape)\n",
    "    # other grids\n",
    "    u_coords = np.copy(t_coords)\n",
    "    u_coords[3] = t_coords[3] + 0.5\n",
    "    v_coords = np.copy(t_coords)\n",
    "    v_coords[2] = t_coords[2] + 0.5\n",
    "    w_coords = np.copy(t_coords)\n",
    "    w_coords[1] = t_coords[1] - 0.5\n",
    "\n",
    "    u = np.zeros((3, len(zcorrs), len(ycorrs), len(xcorrs)))\n",
    "    print (u.shape)\n",
    "    u[:, 1:] = udataset['uVelocity'][0:3]\n",
    "    u[:, 0] = 2 * u[:, 2] - u[:, 1]\n",
    "    print (u.shape)\n",
    "\n",
    "    v = np.zeros_like(u)\n",
    "    vdataset = nc.Dataset('/Users/sallen/Downloads/ubcSSn3DvVelocity1hV16-10_a2b6_f6ad_26bd.nc')\n",
    "    v[:, 1:] = vdataset['vVelocity'][0:3]\n",
    "    v[:, 0] = 2 * v[:, 2] - v[:, 1]\n",
    "    print (v.shape)\n",
    "\n",
    "    wdataset = nc.Dataset('/Users/sallen/Downloads/ubcSSn3DwVelocity1hV16-10_9d37_aa6f_428c.nc')\n",
    "    w = np.zeros_like(u)\n",
    "    w = wdataset['wVelocity'][0:3]\n",
    "    print(w.max(), w.min())\n",
    "    #wdepths = g_depw\n",
    "    wdepths = np.zeros((3, 6, 21, 21))\n",
    "    for j in range(3):\n",
    "        for i in range(6):\n",
    "            wdepths[j, i] = wdataset['depth'][i]\n",
    "    w = w_correction(w, 150., wdepths)\n",
    "    print(w.shape)\n",
    "    print(w.max(), w.min())\n",
    "\n",
    "    nextindex = 3\n",
    "\n",
    "    # t_mask (here because it will be read in the real version)\n",
    "    t_mask = np.ones((40, 898, 398))\n",
    "    print (t_mask.shape)\n",
    "    t_mask[5:] = 0\n",
    "    t_mask[:, 0:int(t_coords[2, 0]+1)] = 0\n",
    "    t_mask[:, int(t_coords[2, -1]):] = 0\n",
    "    t_mask[..., 0:int(t_coords[3, 0]+1)] = 0\n",
    "    t_mask[..., int(t_coords[3, -1]):] = 0\n",
    "\n",
    "    # set scales, for now\n",
    "    e1u = 440\n",
    "    e2v = 500\n",
    "    e3w = 1\n",
    "    return tmask, e1u, e2v, e3w, u, v, w, t_coords, u_coords, v_coords, w_coords, deltat, nextindex"
   ]
  },
  {
   "cell_type": "code",
   "execution_count": null,
   "metadata": {
    "collapsed": true
   },
   "outputs": [],
   "source": [
    "def update_arrays(tcorrs, u_coords, v_coords, w_coords, u, v, w, deltat, nextindex):\n",
    "    tcorrs  = tcorrs + deltat\n",
    "    u_coords[0, 0:len(tcorrs)] = tcorrs\n",
    "    u_coords[0, len(tcorrs):] = max(tcorrs)\n",
    "    v_coords[0] = u_coords[0]\n",
    "    w_coords[0] = u_coords[0]\n",
    "    u[0:2] = u[1:3]\n",
    "    u[2, 1:] = udataset['uVelocity'][nextindex]\n",
    "    u[2, 0] = 2 * u[2, 2] - u[2, 1]\n",
    "    v[0:2] = v[1:3]\n",
    "    v[2, 1:] = vdataset['vVelocity'][nextindex]\n",
    "    v[2, 0] = 2 * v[2, 2] - v[2, 1]\n",
    "    w[0:2] = w[1:3]\n",
    "    w[2] = wdataset['wVelocity'][nextindex]\n",
    "    nextindex += 1\n",
    "    return tcorrs, u_coords, v_coords, w_coords, u, v, w, nextindex"
   ]
  },
  {
   "cell_type": "code",
   "execution_count": null,
   "metadata": {
    "collapsed": true
   },
   "outputs": [],
   "source": [
    "def myplotter(t0, y0, npoints, initial=False):\n",
    "    if initial:\n",
    "        for ip in range(npoints):\n",
    "            ax[0, 1].plot(t0, y0[ip, 0], 'yo')\n",
    "            ax[0, 0].plot(t0, y0[ip, 1], 'ys')\n",
    "            ax[0, 0].plot(t0, y0[ip, 2], 'y^')\n",
    "            ax[1, 0].plot(y0[ip, 2], y0[ip, 1], 'yo')\n",
    "            ax[1, 1].scatter(y0[ip, 2], y0[ip, 1], y0[ip, 0], c='y')\n",
    "    else:\n",
    "        for ip in range(npoints):\n",
    "            ax[0, 1].plot(t0, y0[ip, 0], 'bo')\n",
    "            ax[0, 0].plot(t0, y0[ip, 1], 'bs')\n",
    "            ax[0, 0].plot(t0, y0[ip, 2], 'b^')\n",
    "            ax[1, 0].plot(y0[ip, 2], y0[ip, 1], 'bo')\n",
    "            ax[1, 1].scatter(y0[ip, 2], y0[ip, 1], y0[ip, 0], c='by')"
   ]
  },
  {
   "cell_type": "code",
   "execution_count": null,
   "metadata": {
    "scrolled": false
   },
   "outputs": [],
   "source": [
    "# Main Cell\n",
    "\n",
    "# set up graphing\n",
    "fig, ax = plt.subplots(2, 2)    # initialize ax array\n",
    "fig = plt.figure(figsize=(15, 15))\n",
    "ax[0, 0] = fig.add_subplot(2, 2, 1)\n",
    "ax[0, 1] = fig.add_subplot(2, 2, 2)\n",
    "ax[1, 0] = fig.add_subplot(2, 2, 3)\n",
    "ax[1, 1] = fig.add_subplot(2, 2, 4, projection='3d')\n",
    "\n",
    "# get initial data\n",
    "tmask, e1u, e2v, e3w, u, v, w, t_coords, u_coords, v_coords, w_coords, deltat, nextindex = get_initial_data()\n",
    "# get a new point\n",
    "yi, npoints = random_points (t_coords, deltat)\n",
    "# test it (this version only) to build up mask\n",
    "tmask = test_points(t_coords, u_coords, v_coords, w_coords, tmask, yi)\n",
    "\n",
    "# set up values for integrator\n",
    "t0 = tcorrs[0]\n",
    "dt = deltat/10.\n",
    "npoints = yi.shape[0]\n",
    "y0 = np.copy(yi)\n",
    "yp = np.ndarray.flatten(y0)\n",
    "\n",
    "# plot initial points\n",
    "myplotter(t0, y0, npoints, initial=True)\n",
    "\n",
    "# initialize integrator    \n",
    "myintegrator = ode(derivatives).set_integrator('dopri5', atol=0.01)\n",
    "myintegrator.set_initial_value(yp, t0).set_f_params(t_mask, e3w, e2v, e1u, w_coords, v_coords, u_coords, w, v, u)\n",
    "\n",
    "# first segment\n",
    "t1 = t0 + 1.5*deltat\n",
    "\n",
    "while myintegrator.successful() and myintegrator.t < t1:\n",
    "    myintegrator.integrate(myintegrator.t + dt)\n",
    "    myplotter(myintegrator.t, np.reshape(myintegrator.y, (npoints, 3)))\n",
    "\n",
    "# and the rest\n",
    "for count in range(8):\n",
    "    # update arrays\n",
    "    tcorrs, u_coords, v_coords, w_coords, u, v, w, nextindex = (\n",
    "        update_arrays(tcorrs, u_coords, v_coords, w_coords, u, v, w, deltat, nextindex))\n",
    "    t1 += deltat\n",
    "  \n",
    "    while myintegrator.successful() and myintegrator.t < t1:\n",
    "        myintegrator.integrate(myintegrator.t + dt)\n",
    "        myplotter(myintegrator.t, np.reshape(myintegrator.y, (npoints, 3)))"
   ]
  },
  {
   "cell_type": "code",
   "execution_count": null,
   "metadata": {},
   "outputs": [],
   "source": [
    "udataset['depth'][:]"
   ]
  },
  {
   "cell_type": "code",
   "execution_count": null,
   "metadata": {
    "collapsed": true
   },
   "outputs": [],
   "source": [
    "zcorrs = np.linspace(0, depthsize, depthsize+1)"
   ]
  },
  {
   "cell_type": "code",
   "execution_count": null,
   "metadata": {},
   "outputs": [],
   "source": [
    "wdataset"
   ]
  },
  {
   "cell_type": "code",
   "execution_count": null,
   "metadata": {},
   "outputs": [],
   "source": []
  },
  {
   "cell_type": "code",
   "execution_count": null,
   "metadata": {
    "collapsed": true
   },
   "outputs": [],
   "source": []
  }
 ],
 "metadata": {
  "kernelspec": {
   "display_name": "Python 3",
   "language": "python",
   "name": "python3"
  },
  "language_info": {
   "codemirror_mode": {
    "name": "ipython",
    "version": 3
   },
   "file_extension": ".py",
   "mimetype": "text/x-python",
   "name": "python",
   "nbconvert_exporter": "python",
   "pygments_lexer": "ipython3",
   "version": "3.6.1"
  }
 },
 "nbformat": 4,
 "nbformat_minor": 2
}
