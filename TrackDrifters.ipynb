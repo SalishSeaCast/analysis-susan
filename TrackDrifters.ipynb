{
 "cells": [
  {
   "cell_type": "code",
   "execution_count": 48,
   "metadata": {},
   "outputs": [],
   "source": [
    "from itertools import product\n",
    "import matplotlib.pyplot as plt\n",
    "import matplotlib as mpl\n",
    "from mpl_toolkits.mplot3d import Axes3D\n",
    "import netCDF4 as nc\n",
    "import numpy as np\n",
    "import random\n",
    "from scipy.integrate import ode\n",
    "from scipy.interpolate import LinearNDInterpolator\n",
    "\n",
    "%matplotlib inline"
   ]
  },
  {
   "cell_type": "markdown",
   "metadata": {},
   "source": [
    "* Staggered grids : Done\n",
    "* Multiple points : Done\n",
    "* tmask : Done (or at least fake one done)\n",
    "* off depth and onto grid (done)\n",
    "* e1t etc (sketched)\n",
    "* the surface (badly done)"
   ]
  },
  {
   "cell_type": "code",
   "execution_count": 249,
   "metadata": {},
   "outputs": [],
   "source": [
    "def interpolator(t_mask, e3w, e2v, e1u, w_coords, v_coords, u_coords, w, v, u, point) :\n",
    "    dims = len(point)\n",
    "    rhs = np.zeros((3))\n",
    "    if t_mask[int(point[1]), int(point[2]), int(point[3])] != 0:\n",
    "        for vel, scale, coords, data in zip([0, 1, 2], [e3w, e2v, e1u,], [w_coords, v_coords, u_coords], [w, v, u]):\n",
    "            indices = []\n",
    "            sub_coords = []\n",
    "            for j in range(dims) :\n",
    "                idx = np.digitize([point[j]], coords[j])[0]   # finds the index of region\n",
    "                if (idx == len(coords[j])):\n",
    "                    print (j, 'out of bounds', point[j], vel, coords[j])\n",
    "                if (idx == 0):\n",
    "                    print (j, 'hit surface', point[j], vel, coords[j])\n",
    "                indices += [[idx - 1, idx]]\n",
    "                sub_coords += [coords[j][indices[-1]]]\n",
    "            indices = np.array([j for j in product(*indices)])\n",
    "            sub_coords = np.array([j for j in product(*sub_coords)])\n",
    "            sub_data = data[list(np.swapaxes(indices, 0, 1))]\n",
    "            li = LinearNDInterpolator(sub_coords, sub_data)\n",
    "            rhs[vel] = li([point])[0]/scale\n",
    "    return rhs\n",
    "# from Jaime on Stackoverflow https://stackoverflow.com/users/110026/jaime"
   ]
  },
  {
   "cell_type": "code",
   "execution_count": 230,
   "metadata": {
    "collapsed": true
   },
   "outputs": [],
   "source": [
    "def derivatives(t, poss, t_mask, e3w, e2v, e1u, w_coords, v_coords, u_coords, w, v, u):\n",
    "    rhs = np.zeros_like(poss)\n",
    "    for ip in range(int(poss.shape[0]/3)):\n",
    "        point = np.array([t, poss[0+ip*3], poss[1+ip*3], poss[2+ip*3]])\n",
    "        rhs[0+ip*3:3+ip*3] = interpolator(t_mask, e3w, e2v, e1u, w_coords, v_coords, u_coords, w, v, u, point)\n",
    "    return np.array(rhs) # array or scalar, not a tuple"
   ]
  },
  {
   "cell_type": "code",
   "execution_count": 302,
   "metadata": {},
   "outputs": [
    {
     "name": "stdout",
     "output_type": "stream",
     "text": [
      "(4, 21)\n",
      "[  1.49709780e+09   1.49710140e+09   1.49710500e+09   1.49710500e+09\n",
      "   1.49710500e+09   1.49710500e+09   1.49710500e+09   1.49710500e+09\n",
      "   1.49710500e+09   1.49710500e+09   1.49710500e+09   1.49710500e+09\n",
      "   1.49710500e+09   1.49710500e+09   1.49710500e+09   1.49710500e+09\n",
      "   1.49710500e+09   1.49710500e+09   1.49710500e+09   1.49710500e+09\n",
      "   1.49710500e+09]\n",
      "1497098167.09 0.23573497090288886 258.837184205 301.398559072\n"
     ]
    }
   ],
   "source": [
    "# Choose points\n",
    "yi = np.zeros((27, 3))\n",
    "\n",
    "tc = random.uniform(t0, t0+deltat)\n",
    "zc = random.uniform(0., 1.)\n",
    "yc = random.uniform(t_coords[2, 0], t_coords[2, -1])\n",
    "xc = random.uniform(t_coords[3, 0], t_coords[3, -1])\n",
    "\n",
    "print (tc, zc, yc, xc)\n",
    "\n",
    "for k in range(3):\n",
    "    for j in range(3):\n",
    "        for i in range(3):\n",
    "            yi[k, j, i] = [zc + k, yc + j, xc + i]"
   ]
  },
  {
   "cell_type": "code",
   "execution_count": 273,
   "metadata": {},
   "outputs": [
    {
     "name": "stdout",
     "output_type": "stream",
     "text": [
      "(3, 6, 21, 21) (4, 21)\n",
      "(3, 6, 21, 21) (4, 21)\n",
      "(3, 6, 21, 21) (4, 21)\n",
      "(40, 898, 398) (4, 21)\n",
      "[[   2.4274271   260.33152192  314.47658005]\n",
      " [   0.73223081  257.09782458  305.4965572 ]]\n",
      "(4,)\n",
      "[  1.49709780e+09   2.42742710e+00   2.60331522e+02   3.14476580e+02]\n",
      "[ 0.  0.  0.]\n",
      "2 260 314 zerod\n",
      "[  1.49709780e+09   7.32230810e-01   2.57097825e+02   3.05496557e+02]\n",
      "[  1.19897695e-05  -3.56751776e-05  -1.03925894e-04]\n"
     ]
    }
   ],
   "source": [
    "# Set up run: test points are not on the walls\n",
    "print (w.shape, w_coords.shape)\n",
    "print (v.shape, v_coords.shape)\n",
    "print (u.shape, u_coords.shape)\n",
    "print (t_mask.shape, t_coords.shape)\n",
    "print (yi)\n",
    "testpoint = np.zeros((4))\n",
    "print (testpoint.shape)\n",
    "testpoint[1:] = yi[0]\n",
    "testpoint[0] = t0\n",
    "print (testpoint)\n",
    "velocity = interpolator(t_mask, e3w, e2v, e1u, w_coords, v_coords, u_coords, w, v, u, testpoint)\n",
    "print (velocity)\n",
    "if np.all(velocity == [0, 0, 0]):\n",
    "    t_mask[int(testpoint[1]), int(testpoint[2]), int(testpoint[3])] = 0\n",
    "    print (int(testpoint[1]), int(testpoint[2]), int(testpoint[3]), 'zerod')\n",
    "testpoint[1:] = yi[1]\n",
    "print (testpoint)\n",
    "velocity = interpolator(t_mask, e3w, e2v, e1u, w_coords, v_coords, u_coords, w, v, u, testpoint)\n",
    "print (velocity)\n",
    "if np.all(velocity == [0, 0, 0]):\n",
    "    t_mask[int(testpoint[1]), int(testpoint[2]), int(testpoint[3])] = 0\n",
    "    print (int(testpoint[1]), int(testpoint[2]), int(testpoint[3]), 'zerod')"
   ]
  },
  {
   "cell_type": "code",
   "execution_count": 298,
   "metadata": {
    "scrolled": false
   },
   "outputs": [
    {
     "name": "stdout",
     "output_type": "stream",
     "text": [
      "[   2.4274271   260.33152192  314.47658005    0.73223073  256.98304052\n",
      "  304.66376389]\n",
      "1497106800.0 4\n",
      "1497110400.0 5\n",
      "1497114000.0 6\n",
      "1497117600.0 7\n",
      "1497121200.0 8\n",
      "1497124800.0 9\n",
      "1497128400.0 10\n",
      "1497132000.0 11\n"
     ]
    },
    {
     "data": {
      "image/png": "[encoded data removed]",
      "text/plain": [
       "<matplotlib.figure.Figure at 0x11ae02cf8>"
      ]
     },
     "metadata": {},
     "output_type": "display_data"
    }
   ],
   "source": [
    "# Main Cell\n",
    "fig = plt.figure(figsize=(15, 5))\n",
    "ax[0] = fig.add_subplot(1, 3, 1)\n",
    "ax[1] = fig.add_subplot(1, 3, 2)\n",
    "ax[2] = fig.add_subplot(1, 3, 3, projection='3d')\n",
    "myintegrator = ode(derivatives).set_integrator('dopri5', atol=0.01)\n",
    "t0 = tcorrs[0]\n",
    "npoints = 2\n",
    "scale = 100.\n",
    "y0 = np.copy(yi)\n",
    "\n",
    "yp = np.ndarray.flatten(y0)\n",
    "\n",
    "for ip in range(npoints):\n",
    "    ax[0].plot(t0, y0[ip, 0]*scale, 'o')\n",
    "    ax[0].plot(t0, y0[ip, 1], 's')\n",
    "    ax[0].plot(t0, y0[ip, 2], '^')\n",
    "    ax[1].plot(y0[ip, 2], y0[ip, 1], 'bo')\n",
    "    ax[2].scatter(y0[ip, 2], y0[ip, 1], y0[ip, 0], c='y')\n",
    "    \n",
    "\n",
    "myintegrator.set_initial_value(yp, t0).set_f_params(t_mask, e3w, e2v, e1u, w_coords, v_coords, u_coords, w, v, u)\n",
    "dt = deltat/10.\n",
    "t1 = t0 + 1.5*deltat\n",
    "\n",
    "testpointn = np.zeros((4))\n",
    "\n",
    "while myintegrator.successful() and myintegrator.t < t1:\n",
    "    myintegrator.integrate(myintegrator.t + dt)\n",
    "    y0 = np.reshape(myintegrator.y, (npoints, 3))\n",
    "    for ip in range(npoints):\n",
    "        ax[0].plot(myintegrator.t, y0[ip, 0]*scale, 'go')\n",
    "        ax[0].plot(myintegrator.t, y0[ip, 1], 'rs')\n",
    "        ax[0].plot(myintegrator.t, y0[ip, 2], 'k^')\n",
    "        ax[1].plot(y0[ip, 2], y0[ip, 1], 'm*')\n",
    "        ax[2].scatter(y0[ip, 2], y0[ip, 1], y0[ip, 0], c='b')\n",
    " \n",
    "print(myintegrator.y)\n",
    "\n",
    "for count in range(8):\n",
    "        \n",
    "    # update arrays\n",
    "    tcorrs, u_coords, v_coords, w_coords, u, v, w, nextindex = (\n",
    "        update_arrays(tcorrs, u_coords, v_coords, w_coords, u, v, w, deltat, nextindex))\n",
    "    t1 += deltat\n",
    "    print (t1, nextindex)\n",
    "\n",
    "    while myintegrator.successful() and myintegrator.t < t1:\n",
    "        myintegrator.integrate(myintegrator.t + dt)\n",
    "        y0 = np.reshape(myintegrator.y, (npoints, 3))\n",
    "        for ip in range(npoints):\n",
    "            ax[0].plot(myintegrator.t, y0[ip, 0]*scale, 'go')\n",
    "            ax[0].plot(myintegrator.t, y0[ip, 1], 'rs')\n",
    "            ax[0].plot(myintegrator.t, y0[ip, 2], 'k^')\n",
    "            ax[1].plot(y0[ip, 2], y0[ip, 1], 'm*')\n",
    "            ax[2].scatter(y0[ip, 2], y0[ip, 1], y0[ip, 0], c='b')"
   ]
  },
  {
   "cell_type": "code",
   "execution_count": 261,
   "metadata": {},
   "outputs": [
    {
     "name": "stdout",
     "output_type": "stream",
     "text": [
      "[   2.09779632  255.13152487  301.04620357    2.14403199  269.64935333\n",
      "  305.48853622]\n",
      "[  1.49709780e+09   2.09779632e+00   2.55131525e+02   3.01046204e+02]\n",
      "[ -4.97211030e-05  -5.43426471e-07  -5.16098596e-06]\n"
     ]
    }
   ],
   "source": [
    "print (yp)\n",
    "testpointn = np.zeros((4))\n",
    "testpointn[1:] = yp[0:3]\n",
    "testpointn[0] = t0\n",
    "print (testpointn)\n",
    "velocity = interpolator(t_mask, e3w, e2v, e1u, w_coords, v_coords, u_coords, w, v, u, testpointn)\n",
    "print (velocity)"
   ]
  },
  {
   "cell_type": "code",
   "execution_count": 216,
   "metadata": {
    "collapsed": true
   },
   "outputs": [],
   "source": [
    "def update_arrays(tcorrs, u_coords, v_coords, w_coords, u, v, w, deltat, nextindex):\n",
    "    tcorrs  = tcorrs + deltat\n",
    "    u_coords[0, 0:len(tcorrs)] = tcorrs\n",
    "    u_coords[0, len(tcorrs):] = max(tcorrs)\n",
    "    v_coords[0] = u_coords[0]\n",
    "    w_coords[0] = u_coords[0]\n",
    "    u[0:2] = u[1:3]\n",
    "    u[2, 1:] = udataset['uVelocity'][nextindex]\n",
    "    u[2, 0] = 2 * u[2, 2] - u[2, 1]\n",
    "    v[0:2] = v[1:3]\n",
    "    v[2, 1:] = vdataset['vVelocity'][nextindex]\n",
    "    v[2, 0] = 2 * v[2, 2] - v[2, 1]\n",
    "    w[0:2] = w[1:3]\n",
    "    w[2] = wdataset['wVelocity'][nextindex]\n",
    "    nextindex += 1\n",
    "    return tcorrs, u_coords, v_coords, w_coords, u, v, w, nextindex"
   ]
  },
  {
   "cell_type": "code",
   "execution_count": 297,
   "metadata": {},
   "outputs": [
    {
     "name": "stdout",
     "output_type": "stream",
     "text": [
      "21\n",
      "(4, 21)\n",
      "(3, 6, 21, 21)\n",
      "(3, 6, 21, 21)\n",
      "(3, 6, 21, 21)\n",
      "(3, 6, 21, 21)\n",
      "(40, 898, 398)\n",
      "2.0 250.0 302.0\n",
      "-0.00781892426312 0.0108764423057 -0.0\n",
      "0.0\n",
      "1.0\n",
      "[ 0.  1.  2.  3.  4.  5.]\n"
     ]
    }
   ],
   "source": [
    "# Set up the Data\n",
    "udataset = nc.Dataset('/Users/sallen/Downloads/ubcSSn3DuVelocity1hV16-10_9411_b69f_35e1.nc')\n",
    "# print (udataset)\n",
    "tcorrs = udataset['time'][:3]\n",
    "deltat = tcorrs[1] - tcorrs[0]\n",
    "xcorrs = udataset['gridX'][:]\n",
    "ycorrs = udataset['gridY'][:]\n",
    "depthsize = udataset['depth'][:].shape[0]\n",
    "zcorrs = np.linspace(0, depthsize, depthsize+1)  # this makes it depth, not grid point\n",
    "\n",
    "longaxis = max(len(xcorrs), len(ycorrs), len(zcorrs), len(tcorrs))\n",
    "print (longaxis)\n",
    "t_coords = np.zeros((4, longaxis))\n",
    "t_coords[0, 0:len(tcorrs)] = tcorrs\n",
    "t_coords[0, len(tcorrs):] = max(tcorrs)\n",
    "t_coords[1, 0:len(zcorrs)] = zcorrs\n",
    "t_coords[1, len(zcorrs):] = max(zcorrs)\n",
    "t_coords[2, 0:len(ycorrs)] = ycorrs\n",
    "t_coords[2, len(ycorrs):] = max(ycorrs)\n",
    "t_coords[3, 0:len(xcorrs)] = xcorrs\n",
    "t_coords[3, len(xcorrs):] = max(xcorrs)\n",
    "print (t_coords.shape)\n",
    "# other grids\n",
    "u_coords = np.copy(t_coords)\n",
    "u_coords[3] = t_coords[3] + 0.5\n",
    "v_coords = np.copy(t_coords)\n",
    "v_coords[2] = t_coords[2] + 0.5\n",
    "w_coords = np.copy(t_coords)\n",
    "w_coords[1] = t_coords[1] + 0.5\n",
    "\n",
    "u = np.zeros((3, len(zcorrs), len(ycorrs), len(xcorrs)))\n",
    "print (u.shape)\n",
    "u[:, 1:] = udataset['uVelocity'][0:3]\n",
    "u[:, 0] = 2 * u[:, 2] - u[:, 1]\n",
    "print (u.shape)\n",
    "\n",
    "v = np.zeros_like(u)\n",
    "vdataset = nc.Dataset('/Users/sallen/Downloads/ubcSSn3DvVelocity1hV16-10_a2b6_f6ad_26bd.nc')\n",
    "v[:, 1:] = vdataset['vVelocity'][0:3]\n",
    "v[:, 0] = 2 * v[:, 2] - v[:, 1]\n",
    "print (v.shape)\n",
    "\n",
    "wdataset = nc.Dataset('/Users/sallen/Downloads/ubcSSn3DwVelocity1hV16-10_9d37_aa6f_428c.nc')\n",
    "w = np.zeros_like(u)\n",
    "w = wdataset['wVelocity'][0:3]\n",
    "#wdepths = g_depw\n",
    "wdepths = np.zeros((3, 6, 21, 21))\n",
    "for j in range(3):\n",
    "    for i in range(6):\n",
    "        wdepths[j, i] = wdataset['depth'][i]\n",
    "w = w_correction(w, 150., wdepths)\n",
    "print(w.shape)\n",
    "\n",
    "nextindex = 3\n",
    "\n",
    "t_mask = np.ones((40, 898, 398))\n",
    "print (t_mask.shape)\n",
    "t_mask[5:] = 0\n",
    "t_mask[:, 0:int(t_coords[2, 0]+1)] = 0\n",
    "t_mask[:, int(t_coords[2, -1]):] = 0\n",
    "t_mask[..., 0:int(t_coords[3, 0]+1)] = 0\n",
    "t_mask[..., int(t_coords[3, -1]):] = 0\n",
    "\n",
    "print (t_coords[1, 2], t_coords[2, 0], t_coords[3, 2])\n",
    "print (u[0, 2, 5, 2], v[0, 2, 5, 2], w[0, 0, 5, 2])\n",
    "print (t_mask[2, 250, 311])\n",
    "print (t_mask[4, 258, 312])\n",
    "print (zcorrs)\n",
    "\n",
    "# set scales, for now\n",
    "e1u = 440\n",
    "e2v = 500\n",
    "e3w = 1"
   ]
  },
  {
   "cell_type": "code",
   "execution_count": 296,
   "metadata": {
    "collapsed": true
   },
   "outputs": [],
   "source": [
    "def w_correction (w, total_depth, depth):\n",
    "    '''w in nc files, is real, but we want w relative to grid\n",
    "    that means w  at the surface is zero'''\n",
    "    stretching = w[:, 0]/total_depth\n",
    "    for i in range(6):\n",
    "        w[:, i] =- stretching*depth[:, i]\n",
    "    return w"
   ]
  },
  {
   "cell_type": "code",
   "execution_count": 221,
   "metadata": {},
   "outputs": [
    {
     "data": {
      "text/plain": [
       "array([ 0.5000003 ,  1.5000031 ,  2.50001144,  3.50003052,  4.50007057], dtype=float32)"
      ]
     },
     "execution_count": 221,
     "metadata": {},
     "output_type": "execute_result"
    }
   ],
   "source": [
    "udataset['depth'][:]"
   ]
  },
  {
   "cell_type": "code",
   "execution_count": 224,
   "metadata": {},
   "outputs": [],
   "source": [
    "zcorrs = np.linspace(0, depthsize, depthsize+1)"
   ]
  },
  {
   "cell_type": "code",
   "execution_count": 226,
   "metadata": {},
   "outputs": [
    {
     "data": {
      "text/plain": [
       "<class 'netCDF4._netCDF4.Dataset'>\n",
       "root group (NETCDF3_CLASSIC data model, file format NETCDF3):\n",
       "    acknowledgement: MEOPAR, ONC, Compute Canada\n",
       "    cdm_data_type: Grid\n",
       "    Conventions: CF-1.6, COARDS, ACDD-1.3\n",
       "    coverage_content_type: modelResult\n",
       "    creator_email: sallen@eos.ubc.ca\n",
       "    creator_name: Salish Sea MEOPAR Project Contributors\n",
       "    creator_url: https://salishsea-meopar-docs.readthedocs.io/\n",
       "    description: ocean W grid variables\n",
       "    drawLandMask: over\n",
       "    geospatial_vertical_max: 5.0001\n",
       "    geospatial_vertical_min: 0.0\n",
       "    geospatial_vertical_positive: down\n",
       "    geospatial_vertical_units: m\n",
       "    history: 2017-06-11T20:37:30Z (local files)\n",
       "2017-06-11T20:37:30Z https://salishsea.eos.ubc.ca/erddap/griddap/ubcSSn3DwVelocity1hV16-10.nc?dissipation[(2017-06-10T12:30:00Z):1:(2017-06-10T23:30:00Z)][(0.0):1:(5.5)][(250):1:(270)][(300):1:(320)],vert_eddy_diff[(2017-06-10T12:30:00Z):1:(2017-06-10T23:30:00Z)][(0.0):1:(5.5)][(250):1:(270)][(300):1:(320)],vert_eddy_visc[(2017-06-10T12:30:00Z):1:(2017-06-10T23:30:00Z)][(0.0):1:(5.5)][(250):1:(270)][(300):1:(320)],wVelocity[(2017-06-10T12:30:00Z):1:(2017-06-10T23:30:00Z)][(0.0):1:(5.5)][(250):1:(270)][(300):1:(320)]\n",
       "    infoUrl: https://salishsea-meopar-docs.readthedocs.io/en/latest/results_server/index.html#salish-sea-model-results\n",
       "    institution: UBC EOAS\n",
       "    institution_fullname: Earth, Ocean & Atmospheric Sciences, University of British Columbia\n",
       "    keywords: circulation, currents, depthw, diffusion, diffusivity, dissipation, downwelling, eddy, energy, heat, kinetic energy, model results, momentum, ocean, ocean_vertical_heat_diffusivity, ocean_vertical_momentum_diffusivity, oceans,\n",
       "Oceans > Ocean Circulation > Diffusion,\n",
       "Oceans > Ocean Circulation > Ocean Currents,\n",
       "Oceans > Ocean Circulation > Upwelling/Downwelling,\n",
       "rate, sea water, seawater, time, time_counter, turbulent, upward, upward_sea_water_velocity, upwelling, velocity, vert_eddy_diff, vert_eddy_visc, vertical, viscosity, vovecrtz, w\n",
       "    keywords_vocabulary: GCMD Science Keywords\n",
       "    license: The Salish Sea MEOPAR NEMO model results are copyright 2013-2016\n",
       "by the Salish Sea MEOPAR Project Contributors and The University of British Columbia.\n",
       "\n",
       "They are licensed under the Apache License, Version 2.0. http://www.apache.org/licenses/LICENSE-2.0\n",
       "    name: SalishSea_1h_20170610_20170610\n",
       "    project: Salish Sea MEOPAR NEMO Model\n",
       "    sourceUrl: (local files)\n",
       "    standard_name_vocabulary: CF Standard Name Table v29\n",
       "    summary: Nowcast, Salish Sea, 3d w Velocity Field, Hourly, v16-10\n",
       "\n",
       "3d vertical (w) component velocity field values averaged over 1 hour intervals\n",
       "from Salish Sea NEMO model nowcast runs. The values are calculated for the entire model grid\n",
       "that includes the Juan de Fuca Strait, the Strait of Georgia, Puget Sound,\n",
       "and Johnstone Strait on the coasts of Washington State and British Columbia.\n",
       "Geo-location and depth data for the Salish Sea NEMO model grid are available in the ubcSSnBathymetry2V16-07 dataset.\n",
       "\n",
       "v1: wVelocity variable\n",
       "\n",
       "v2: Added eddy viscosity & diffusivity variables ve_eddy_visc & ve_eddy_diff\n",
       "v16-10: NEMO-3.6; ubcSSnBathymetry2V16-07 bathymetry; see infoUrl link for full details.\n",
       "        Renamed eddy viscosity & diffusivity variables to vert_eddy_visc & vert_eddy_diff\n",
       "        Added turbulent kinetic energy dissipation rate variable.\n",
       "    time_coverage_end: 2017-06-10T23:30:00Z\n",
       "    time_coverage_start: 2017-06-10T12:30:00Z\n",
       "    timeStamp: 2017-Jun-10 19:05:31 GMT\n",
       "    title: Nowcast, Salish Sea, 3d w Velocity Field, Hourly, v16-10\n",
       "    uuid: 3d7c0d8f-fffb-4ec9-a60d-e311a415007c\n",
       "    dimensions(sizes): time(12), depth(6), gridY(21), gridX(21)\n",
       "    variables(dimensions): float64 \u001b[4mtime\u001b[0m(time), float32 \u001b[4mdepth\u001b[0m(depth), int16 \u001b[4mgridY\u001b[0m(gridY), int16 \u001b[4mgridX\u001b[0m(gridX), float32 \u001b[4mdissipation\u001b[0m(time,depth,gridY,gridX), float32 \u001b[4mvert_eddy_diff\u001b[0m(time,depth,gridY,gridX), float32 \u001b[4mvert_eddy_visc\u001b[0m(time,depth,gridY,gridX), float32 \u001b[4mwVelocity\u001b[0m(time,depth,gridY,gridX)\n",
       "    groups: "
      ]
     },
     "execution_count": 226,
     "metadata": {},
     "output_type": "execute_result"
    }
   ],
   "source": [
    "wdataset"
   ]
  },
  {
   "cell_type": "code",
   "execution_count": null,
   "metadata": {
    "collapsed": true
   },
   "outputs": [],
   "source": []
  }
 ],
 "metadata": {
  "kernelspec": {
   "display_name": "Python 3",
   "language": "python",
   "name": "python3"
  },
  "language_info": {
   "codemirror_mode": {
    "name": "ipython",
    "version": 3
   },
   "file_extension": ".py",
   "mimetype": "text/x-python",
   "name": "python",
   "nbconvert_exporter": "python",
   "pygments_lexer": "ipython3",
   "version": "3.6.1"
  }
 },
 "nbformat": 4,
 "nbformat_minor": 2
}
