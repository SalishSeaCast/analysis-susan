{
 "cells": [
  {
   "cell_type": "code",
   "execution_count": 193,
   "metadata": {},
   "outputs": [],
   "source": [
    "from matplotlib import pyplot as plt\n",
    "import netCDF4 as nc\n",
    "import numpy as np\n",
    "from salishsea_tools import loadDataFRP, places, geo_tools\n",
    "\n",
    "%matplotlib inline"
   ]
  },
  {
   "cell_type": "code",
   "execution_count": 6,
   "metadata": {},
   "outputs": [
    {
     "name": "stdout",
     "output_type": "stream",
     "text": [
      "(40, 898, 398) 415 337 1.0\n",
      "(40, 898, 398) 415 337 2.0\n",
      "(40, 898, 398)"
     ]
    },
    {
     "name": "stderr",
     "output_type": "stream",
     "text": [
      "/home/sallen/anaconda/envs/py3/lib/python3.5/site-packages/numpy/ma/core.py:3883: FutureWarning: comparison to `None` will result in an elementwise object comparison in the future.\n",
      "  check = self.filled(0).__eq__(other)\n"
     ]
    },
    {
     "name": "stdout",
     "output_type": "stream",
     "text": [
      " 442 259 3.0\n",
      "(40, 898, 398) 438 268 4.0\n",
      "(40, 898, 398) 434 278 5.0\n",
      "(40, 898, 398) 432 281 6.0\n",
      "(40, 898, 398) 430 285 7.0\n",
      "(40, 898, 398) 428 289 8.0\n",
      "(40, 898, 398) 427 291 9.0\n",
      "(40, 898, 398) 412 291 10.0\n",
      "(40, 898, 398) 443 258 11.0\n",
      "(40, 898, 398) 438 268 12.0\n",
      "(40, 898, 398) 434 278 13.0\n",
      "(40, 898, 398) 432 281 14.1\n",
      "(40, 898, 398) 432 281 14.2\n",
      "(40, 898, 398) 432 287 15.0\n",
      "(40, 898, 398) 432 292 16.0\n",
      "(40, 898, 398) 427 291 17.0\n",
      "(40, 898, 398) 415 337 18.0\n"
     ]
    }
   ],
   "source": [
    "stationdata, casts = loadDataFRP.loadDataFRP_SSGrid()"
   ]
  },
  {
   "cell_type": "code",
   "execution_count": 10,
   "metadata": {},
   "outputs": [
    {
     "data": {
      "text/html": [
       "<div>\n",
       "<table border=\"1\" class=\"dataframe\">\n",
       "  <thead>\n",
       "    <tr style=\"text-align: right;\">\n",
       "      <th></th>\n",
       "      <th>Station</th>\n",
       "      <th>Date</th>\n",
       "      <th>Date_UTC</th>\n",
       "      <th>Time_UTC_hhmmss</th>\n",
       "      <th>Time_UTC_DecDay</th>\n",
       "      <th>LatDecDeg</th>\n",
       "      <th>LonDecDeg</th>\n",
       "      <th>LatDecDeg_surface</th>\n",
       "      <th>LonDecDeg_surface</th>\n",
       "      <th>LatDecDeg_bottom</th>\n",
       "      <th>...</th>\n",
       "      <th>SecchiDepth_m</th>\n",
       "      <th>BottleLetter</th>\n",
       "      <th>ALS_Turb_NTU</th>\n",
       "      <th>ALS_TSS_mgL</th>\n",
       "      <th>sb19Turb_uncorrected</th>\n",
       "      <th>sb19Sal</th>\n",
       "      <th>sb25Sal</th>\n",
       "      <th>ishift_sub19</th>\n",
       "      <th>pStart25</th>\n",
       "      <th>pEnd25</th>\n",
       "    </tr>\n",
       "  </thead>\n",
       "  <tbody>\n",
       "    <tr>\n",
       "      <th>0</th>\n",
       "      <td>1.0</td>\n",
       "      <td>20170410</td>\n",
       "      <td>20170410</td>\n",
       "      <td>17:54:17</td>\n",
       "      <td>0.746030</td>\n",
       "      <td>49.148333</td>\n",
       "      <td>-123.040000</td>\n",
       "      <td>NaN</td>\n",
       "      <td>NaN</td>\n",
       "      <td>NaN</td>\n",
       "      <td>...</td>\n",
       "      <td>0.6</td>\n",
       "      <td>NaN</td>\n",
       "      <td>NaN</td>\n",
       "      <td>NaN</td>\n",
       "      <td>770.1800</td>\n",
       "      <td>0.06790</td>\n",
       "      <td>0.10165</td>\n",
       "      <td>-2</td>\n",
       "      <td>769</td>\n",
       "      <td>1103</td>\n",
       "    </tr>\n",
       "    <tr>\n",
       "      <th>1</th>\n",
       "      <td>2.0</td>\n",
       "      <td>20170410</td>\n",
       "      <td>20170410</td>\n",
       "      <td>18:05:11</td>\n",
       "      <td>0.753600</td>\n",
       "      <td>49.148333</td>\n",
       "      <td>-123.040000</td>\n",
       "      <td>NaN</td>\n",
       "      <td>NaN</td>\n",
       "      <td>NaN</td>\n",
       "      <td>...</td>\n",
       "      <td>0.6</td>\n",
       "      <td>A</td>\n",
       "      <td>25.40</td>\n",
       "      <td>32.5</td>\n",
       "      <td>745.4985</td>\n",
       "      <td>0.12265</td>\n",
       "      <td>0.06790</td>\n",
       "      <td>2</td>\n",
       "      <td>740</td>\n",
       "      <td>1060</td>\n",
       "    </tr>\n",
       "    <tr>\n",
       "      <th>2</th>\n",
       "      <td>3.0</td>\n",
       "      <td>20170410</td>\n",
       "      <td>20170410</td>\n",
       "      <td>19:44:22</td>\n",
       "      <td>0.822477</td>\n",
       "      <td>49.099983</td>\n",
       "      <td>-123.526600</td>\n",
       "      <td>NaN</td>\n",
       "      <td>NaN</td>\n",
       "      <td>NaN</td>\n",
       "      <td>...</td>\n",
       "      <td>3.0</td>\n",
       "      <td>B</td>\n",
       "      <td>2.40</td>\n",
       "      <td>8.9</td>\n",
       "      <td>54.0550</td>\n",
       "      <td>25.84535</td>\n",
       "      <td>25.84735</td>\n",
       "      <td>9</td>\n",
       "      <td>599</td>\n",
       "      <td>1939</td>\n",
       "    </tr>\n",
       "    <tr>\n",
       "      <th>3</th>\n",
       "      <td>4.0</td>\n",
       "      <td>20170410</td>\n",
       "      <td>20170410</td>\n",
       "      <td>20:25:40</td>\n",
       "      <td>0.851157</td>\n",
       "      <td>49.100383</td>\n",
       "      <td>-123.467017</td>\n",
       "      <td>NaN</td>\n",
       "      <td>NaN</td>\n",
       "      <td>NaN</td>\n",
       "      <td>...</td>\n",
       "      <td>3.0</td>\n",
       "      <td>C</td>\n",
       "      <td>2.54</td>\n",
       "      <td>12.2</td>\n",
       "      <td>66.1860</td>\n",
       "      <td>25.49475</td>\n",
       "      <td>25.49710</td>\n",
       "      <td>3</td>\n",
       "      <td>683</td>\n",
       "      <td>1832</td>\n",
       "    </tr>\n",
       "    <tr>\n",
       "      <th>4</th>\n",
       "      <td>5.0</td>\n",
       "      <td>20170410</td>\n",
       "      <td>20170410</td>\n",
       "      <td>21:05:12</td>\n",
       "      <td>0.878611</td>\n",
       "      <td>49.100583</td>\n",
       "      <td>-123.400417</td>\n",
       "      <td>NaN</td>\n",
       "      <td>NaN</td>\n",
       "      <td>NaN</td>\n",
       "      <td>...</td>\n",
       "      <td>1.5</td>\n",
       "      <td>D</td>\n",
       "      <td>8.28</td>\n",
       "      <td>18.9</td>\n",
       "      <td>264.7250</td>\n",
       "      <td>16.30680</td>\n",
       "      <td>16.43395</td>\n",
       "      <td>5</td>\n",
       "      <td>598</td>\n",
       "      <td>1820</td>\n",
       "    </tr>\n",
       "    <tr>\n",
       "      <th>5</th>\n",
       "      <td>6.0</td>\n",
       "      <td>20170410</td>\n",
       "      <td>20170410</td>\n",
       "      <td>21:40:15</td>\n",
       "      <td>0.902951</td>\n",
       "      <td>49.100500</td>\n",
       "      <td>-123.375500</td>\n",
       "      <td>NaN</td>\n",
       "      <td>NaN</td>\n",
       "      <td>NaN</td>\n",
       "      <td>...</td>\n",
       "      <td>1.3</td>\n",
       "      <td>NaN</td>\n",
       "      <td>NaN</td>\n",
       "      <td>NaN</td>\n",
       "      <td>270.8475</td>\n",
       "      <td>15.78590</td>\n",
       "      <td>15.99810</td>\n",
       "      <td>5</td>\n",
       "      <td>581</td>\n",
       "      <td>1764</td>\n",
       "    </tr>\n",
       "    <tr>\n",
       "      <th>6</th>\n",
       "      <td>7.0</td>\n",
       "      <td>20170410</td>\n",
       "      <td>20170410</td>\n",
       "      <td>21:58:48</td>\n",
       "      <td>0.915833</td>\n",
       "      <td>49.100000</td>\n",
       "      <td>-123.350000</td>\n",
       "      <td>NaN</td>\n",
       "      <td>NaN</td>\n",
       "      <td>49.112500</td>\n",
       "      <td>...</td>\n",
       "      <td>1.2</td>\n",
       "      <td>E</td>\n",
       "      <td>8.60</td>\n",
       "      <td>15.7</td>\n",
       "      <td>245.6130</td>\n",
       "      <td>19.20975</td>\n",
       "      <td>19.81565</td>\n",
       "      <td>9</td>\n",
       "      <td>590</td>\n",
       "      <td>1785</td>\n",
       "    </tr>\n",
       "    <tr>\n",
       "      <th>7</th>\n",
       "      <td>8.0</td>\n",
       "      <td>20170410</td>\n",
       "      <td>20170410</td>\n",
       "      <td>22:30:56</td>\n",
       "      <td>0.938148</td>\n",
       "      <td>49.100333</td>\n",
       "      <td>-123.324667</td>\n",
       "      <td>NaN</td>\n",
       "      <td>NaN</td>\n",
       "      <td>49.103833</td>\n",
       "      <td>...</td>\n",
       "      <td>1.0</td>\n",
       "      <td>NaN</td>\n",
       "      <td>NaN</td>\n",
       "      <td>NaN</td>\n",
       "      <td>255.7415</td>\n",
       "      <td>16.88105</td>\n",
       "      <td>17.44155</td>\n",
       "      <td>9</td>\n",
       "      <td>1120</td>\n",
       "      <td>2250</td>\n",
       "    </tr>\n",
       "    <tr>\n",
       "      <th>8</th>\n",
       "      <td>9.0</td>\n",
       "      <td>20170410</td>\n",
       "      <td>20170410</td>\n",
       "      <td>22:45:20</td>\n",
       "      <td>0.948148</td>\n",
       "      <td>49.101500</td>\n",
       "      <td>-123.309000</td>\n",
       "      <td>NaN</td>\n",
       "      <td>NaN</td>\n",
       "      <td>49.102833</td>\n",
       "      <td>...</td>\n",
       "      <td>0.8</td>\n",
       "      <td>F</td>\n",
       "      <td>9.36</td>\n",
       "      <td>21.8</td>\n",
       "      <td>308.4425</td>\n",
       "      <td>13.52375</td>\n",
       "      <td>13.79160</td>\n",
       "      <td>9</td>\n",
       "      <td>635</td>\n",
       "      <td>859</td>\n",
       "    </tr>\n",
       "  </tbody>\n",
       "</table>\n",
       "<p>9 rows × 43 columns</p>\n",
       "</div>"
      ],
      "text/plain": [
       "   Station      Date  Date_UTC Time_UTC_hhmmss  Time_UTC_DecDay  LatDecDeg  \\\n",
       "0      1.0  20170410  20170410        17:54:17         0.746030  49.148333   \n",
       "1      2.0  20170410  20170410        18:05:11         0.753600  49.148333   \n",
       "2      3.0  20170410  20170410        19:44:22         0.822477  49.099983   \n",
       "3      4.0  20170410  20170410        20:25:40         0.851157  49.100383   \n",
       "4      5.0  20170410  20170410        21:05:12         0.878611  49.100583   \n",
       "5      6.0  20170410  20170410        21:40:15         0.902951  49.100500   \n",
       "6      7.0  20170410  20170410        21:58:48         0.915833  49.100000   \n",
       "7      8.0  20170410  20170410        22:30:56         0.938148  49.100333   \n",
       "8      9.0  20170410  20170410        22:45:20         0.948148  49.101500   \n",
       "\n",
       "    LonDecDeg  LatDecDeg_surface  LonDecDeg_surface  LatDecDeg_bottom   ...    \\\n",
       "0 -123.040000                NaN                NaN               NaN   ...     \n",
       "1 -123.040000                NaN                NaN               NaN   ...     \n",
       "2 -123.526600                NaN                NaN               NaN   ...     \n",
       "3 -123.467017                NaN                NaN               NaN   ...     \n",
       "4 -123.400417                NaN                NaN               NaN   ...     \n",
       "5 -123.375500                NaN                NaN               NaN   ...     \n",
       "6 -123.350000                NaN                NaN         49.112500   ...     \n",
       "7 -123.324667                NaN                NaN         49.103833   ...     \n",
       "8 -123.309000                NaN                NaN         49.102833   ...     \n",
       "\n",
       "   SecchiDepth_m  BottleLetter  ALS_Turb_NTU  ALS_TSS_mgL  \\\n",
       "0            0.6           NaN           NaN          NaN   \n",
       "1            0.6             A         25.40         32.5   \n",
       "2            3.0             B          2.40          8.9   \n",
       "3            3.0             C          2.54         12.2   \n",
       "4            1.5             D          8.28         18.9   \n",
       "5            1.3           NaN           NaN          NaN   \n",
       "6            1.2             E          8.60         15.7   \n",
       "7            1.0           NaN           NaN          NaN   \n",
       "8            0.8             F          9.36         21.8   \n",
       "\n",
       "   sb19Turb_uncorrected   sb19Sal   sb25Sal  ishift_sub19  pStart25  pEnd25  \n",
       "0              770.1800   0.06790   0.10165            -2       769    1103  \n",
       "1              745.4985   0.12265   0.06790             2       740    1060  \n",
       "2               54.0550  25.84535  25.84735             9       599    1939  \n",
       "3               66.1860  25.49475  25.49710             3       683    1832  \n",
       "4              264.7250  16.30680  16.43395             5       598    1820  \n",
       "5              270.8475  15.78590  15.99810             5       581    1764  \n",
       "6              245.6130  19.20975  19.81565             9       590    1785  \n",
       "7              255.7415  16.88105  17.44155             9      1120    2250  \n",
       "8              308.4425  13.52375  13.79160             9       635     859  \n",
       "\n",
       "[9 rows x 43 columns]"
      ]
     },
     "execution_count": 10,
     "metadata": {},
     "output_type": "execute_result"
    }
   ],
   "source": [
    "stationdata.drop(stationdata.index[9:], inplace=True)\n",
    "stationdata"
   ]
  },
  {
   "cell_type": "code",
   "execution_count": 33,
   "metadata": {},
   "outputs": [
    {
     "data": {
      "text/html": [
       "<div>\n",
       "<table border=\"1\" class=\"dataframe\">\n",
       "  <thead>\n",
       "    <tr style=\"text-align: right;\">\n",
       "      <th></th>\n",
       "      <th>Station</th>\n",
       "      <th>Date</th>\n",
       "      <th>Time_UTC_hhmmss</th>\n",
       "      <th>LatDecDeg</th>\n",
       "      <th>LonDecDeg</th>\n",
       "      <th>Sounding</th>\n",
       "    </tr>\n",
       "  </thead>\n",
       "  <tbody>\n",
       "    <tr>\n",
       "      <th>0</th>\n",
       "      <td>1.0</td>\n",
       "      <td>20170410</td>\n",
       "      <td>17:54:17</td>\n",
       "      <td>49.148333</td>\n",
       "      <td>-123.040000</td>\n",
       "      <td>16.0</td>\n",
       "    </tr>\n",
       "    <tr>\n",
       "      <th>1</th>\n",
       "      <td>2.0</td>\n",
       "      <td>20170410</td>\n",
       "      <td>18:05:11</td>\n",
       "      <td>49.148333</td>\n",
       "      <td>-123.040000</td>\n",
       "      <td>15.5</td>\n",
       "    </tr>\n",
       "    <tr>\n",
       "      <th>2</th>\n",
       "      <td>3.0</td>\n",
       "      <td>20170410</td>\n",
       "      <td>19:44:22</td>\n",
       "      <td>49.099983</td>\n",
       "      <td>-123.526600</td>\n",
       "      <td>316.0</td>\n",
       "    </tr>\n",
       "    <tr>\n",
       "      <th>3</th>\n",
       "      <td>4.0</td>\n",
       "      <td>20170410</td>\n",
       "      <td>20:25:40</td>\n",
       "      <td>49.100383</td>\n",
       "      <td>-123.467017</td>\n",
       "      <td>333.0</td>\n",
       "    </tr>\n",
       "    <tr>\n",
       "      <th>4</th>\n",
       "      <td>5.0</td>\n",
       "      <td>20170410</td>\n",
       "      <td>21:05:12</td>\n",
       "      <td>49.100583</td>\n",
       "      <td>-123.400417</td>\n",
       "      <td>243.0</td>\n",
       "    </tr>\n",
       "    <tr>\n",
       "      <th>5</th>\n",
       "      <td>6.0</td>\n",
       "      <td>20170410</td>\n",
       "      <td>21:40:15</td>\n",
       "      <td>49.100500</td>\n",
       "      <td>-123.375500</td>\n",
       "      <td>202.0</td>\n",
       "    </tr>\n",
       "    <tr>\n",
       "      <th>6</th>\n",
       "      <td>7.0</td>\n",
       "      <td>20170410</td>\n",
       "      <td>21:58:48</td>\n",
       "      <td>49.100000</td>\n",
       "      <td>-123.350000</td>\n",
       "      <td>156.0</td>\n",
       "    </tr>\n",
       "    <tr>\n",
       "      <th>7</th>\n",
       "      <td>8.0</td>\n",
       "      <td>20170410</td>\n",
       "      <td>22:30:56</td>\n",
       "      <td>49.100333</td>\n",
       "      <td>-123.324667</td>\n",
       "      <td>96.0</td>\n",
       "    </tr>\n",
       "    <tr>\n",
       "      <th>8</th>\n",
       "      <td>9.0</td>\n",
       "      <td>20170410</td>\n",
       "      <td>22:45:20</td>\n",
       "      <td>49.101500</td>\n",
       "      <td>-123.309000</td>\n",
       "      <td>13.0</td>\n",
       "    </tr>\n",
       "  </tbody>\n",
       "</table>\n",
       "</div>"
      ],
      "text/plain": [
       "   Station      Date Time_UTC_hhmmss  LatDecDeg   LonDecDeg  Sounding\n",
       "0      1.0  20170410        17:54:17  49.148333 -123.040000      16.0\n",
       "1      2.0  20170410        18:05:11  49.148333 -123.040000      15.5\n",
       "2      3.0  20170410        19:44:22  49.099983 -123.526600     316.0\n",
       "3      4.0  20170410        20:25:40  49.100383 -123.467017     333.0\n",
       "4      5.0  20170410        21:05:12  49.100583 -123.400417     243.0\n",
       "5      6.0  20170410        21:40:15  49.100500 -123.375500     202.0\n",
       "6      7.0  20170410        21:58:48  49.100000 -123.350000     156.0\n",
       "7      8.0  20170410        22:30:56  49.100333 -123.324667      96.0\n",
       "8      9.0  20170410        22:45:20  49.101500 -123.309000      13.0"
      ]
     },
     "execution_count": 33,
     "metadata": {},
     "output_type": "execute_result"
    }
   ],
   "source": [
    "mydata=stationdata.drop(['Date_UTC', 'Time_UTC_DecDay', 'LatDecDeg_surface', \n",
    "                         'LonDecDeg_surface', 'LatDecDeg_bottom', 'LonDecDeg_bottom', 'LatDecDeg_surf2',\n",
    "                        'LonDecDeg_surf2', 'LatDecDeg_Niskin', 'LonDecDeg_Niskin', 'LatDecDeg_end',\n",
    "                        'LonDecDeg_end', 'MaxWireOut_m', 'waveHeightEst_m', 'cloudyPct',\n",
    "                        'filename', 'time_PDT_hhmmss', 'time_PDT_decDay', 'time_on_PDT_hhmmss',\n",
    "                        'time_on_PDT_decDay', 'time_surface_PDT_hhmmss', 'time_surface_PDT_decDay',\n",
    "                        'time_bottom_PDT_hhmmss', 'time_bottom_PDT_decDay', 'time_surf2_PDT_hhmmss',\n",
    "                        'time_Niskin_PDT_hhmmss', 'time_off_PDT_hhmmss', 'SecchiDepth_m',\n",
    "                        'BottleLetter', 'ALS_Turb_NTU', 'ALS_TSS_mgL', 'sb19Turb_uncorrected',\n",
    "                        'sb19Sal', 'sb25Sal', 'ishift_sub19', 'pStart25', 'pEnd25'], axis=1)\n",
    "mydata"
   ]
  },
  {
   "cell_type": "code",
   "execution_count": 39,
   "metadata": {},
   "outputs": [],
   "source": [
    "river_mouth = {}\n",
    "river_mouth['lon'], river_mouth['lat'] = places.PLACES['Sandheads']['lon lat']"
   ]
  },
  {
   "cell_type": "code",
   "execution_count": 43,
   "metadata": {},
   "outputs": [
    {
     "data": {
      "text/html": [
       "<div>\n",
       "<table border=\"1\" class=\"dataframe\">\n",
       "  <thead>\n",
       "    <tr style=\"text-align: right;\">\n",
       "      <th></th>\n",
       "      <th>Station</th>\n",
       "      <th>Date</th>\n",
       "      <th>Time_UTC_hhmmss</th>\n",
       "      <th>LatDecDeg</th>\n",
       "      <th>LonDecDeg</th>\n",
       "      <th>Sounding</th>\n",
       "      <th>distance_from_mouth</th>\n",
       "    </tr>\n",
       "  </thead>\n",
       "  <tbody>\n",
       "    <tr>\n",
       "      <th>0</th>\n",
       "      <td>1.0</td>\n",
       "      <td>20170410</td>\n",
       "      <td>17:54:17</td>\n",
       "      <td>49.148333</td>\n",
       "      <td>-123.040000</td>\n",
       "      <td>16.0</td>\n",
       "      <td>19.655955</td>\n",
       "    </tr>\n",
       "    <tr>\n",
       "      <th>1</th>\n",
       "      <td>2.0</td>\n",
       "      <td>20170410</td>\n",
       "      <td>18:05:11</td>\n",
       "      <td>49.148333</td>\n",
       "      <td>-123.040000</td>\n",
       "      <td>15.5</td>\n",
       "      <td>19.655955</td>\n",
       "    </tr>\n",
       "    <tr>\n",
       "      <th>2</th>\n",
       "      <td>3.0</td>\n",
       "      <td>20170410</td>\n",
       "      <td>19:44:22</td>\n",
       "      <td>49.099983</td>\n",
       "      <td>-123.526600</td>\n",
       "      <td>316.0</td>\n",
       "      <td>16.486993</td>\n",
       "    </tr>\n",
       "    <tr>\n",
       "      <th>3</th>\n",
       "      <td>4.0</td>\n",
       "      <td>20170410</td>\n",
       "      <td>20:25:40</td>\n",
       "      <td>49.100383</td>\n",
       "      <td>-123.467017</td>\n",
       "      <td>333.0</td>\n",
       "      <td>12.151849</td>\n",
       "    </tr>\n",
       "    <tr>\n",
       "      <th>4</th>\n",
       "      <td>5.0</td>\n",
       "      <td>20170410</td>\n",
       "      <td>21:05:12</td>\n",
       "      <td>49.100583</td>\n",
       "      <td>-123.400417</td>\n",
       "      <td>243.0</td>\n",
       "      <td>7.306375</td>\n",
       "    </tr>\n",
       "    <tr>\n",
       "      <th>5</th>\n",
       "      <td>6.0</td>\n",
       "      <td>20170410</td>\n",
       "      <td>21:40:15</td>\n",
       "      <td>49.100500</td>\n",
       "      <td>-123.375500</td>\n",
       "      <td>202.0</td>\n",
       "      <td>5.493493</td>\n",
       "    </tr>\n",
       "    <tr>\n",
       "      <th>6</th>\n",
       "      <td>7.0</td>\n",
       "      <td>20170410</td>\n",
       "      <td>21:58:48</td>\n",
       "      <td>49.100000</td>\n",
       "      <td>-123.350000</td>\n",
       "      <td>156.0</td>\n",
       "      <td>3.637907</td>\n",
       "    </tr>\n",
       "    <tr>\n",
       "      <th>7</th>\n",
       "      <td>8.0</td>\n",
       "      <td>20170410</td>\n",
       "      <td>22:30:56</td>\n",
       "      <td>49.100333</td>\n",
       "      <td>-123.324667</td>\n",
       "      <td>96.0</td>\n",
       "      <td>1.795077</td>\n",
       "    </tr>\n",
       "    <tr>\n",
       "      <th>8</th>\n",
       "      <td>9.0</td>\n",
       "      <td>20170410</td>\n",
       "      <td>22:45:20</td>\n",
       "      <td>49.101500</td>\n",
       "      <td>-123.309000</td>\n",
       "      <td>13.0</td>\n",
       "      <td>0.675696</td>\n",
       "    </tr>\n",
       "  </tbody>\n",
       "</table>\n",
       "</div>"
      ],
      "text/plain": [
       "   Station      Date Time_UTC_hhmmss  LatDecDeg   LonDecDeg  Sounding  \\\n",
       "0      1.0  20170410        17:54:17  49.148333 -123.040000      16.0   \n",
       "1      2.0  20170410        18:05:11  49.148333 -123.040000      15.5   \n",
       "2      3.0  20170410        19:44:22  49.099983 -123.526600     316.0   \n",
       "3      4.0  20170410        20:25:40  49.100383 -123.467017     333.0   \n",
       "4      5.0  20170410        21:05:12  49.100583 -123.400417     243.0   \n",
       "5      6.0  20170410        21:40:15  49.100500 -123.375500     202.0   \n",
       "6      7.0  20170410        21:58:48  49.100000 -123.350000     156.0   \n",
       "7      8.0  20170410        22:30:56  49.100333 -123.324667      96.0   \n",
       "8      9.0  20170410        22:45:20  49.101500 -123.309000      13.0   \n",
       "\n",
       "   distance_from_mouth  \n",
       "0            19.655955  \n",
       "1            19.655955  \n",
       "2            16.486993  \n",
       "3            12.151849  \n",
       "4             7.306375  \n",
       "5             5.493493  \n",
       "6             3.637907  \n",
       "7             1.795077  \n",
       "8             0.675696  "
      ]
     },
     "execution_count": 43,
     "metadata": {},
     "output_type": "execute_result"
    }
   ],
   "source": [
    "mydata['distance_from_mouth'] = geo_tools.haversine(mydata['LonDecDeg'], mydata['LatDecDeg'], \n",
    "                                                    river_mouth['lon'], river_mouth['lat'])\n",
    "mydata"
   ]
  },
  {
   "cell_type": "code",
   "execution_count": 211,
   "metadata": {
    "collapsed": true
   },
   "outputs": [],
   "source": [
    "mydata['timepiece'] = [18, 18, 20, 20, 21, 22, 22, 23, 23]"
   ]
  },
  {
   "cell_type": "code",
   "execution_count": 201,
   "metadata": {},
   "outputs": [
    {
     "name": "stdout",
     "output_type": "stream",
     "text": [
      "(898, 398)\n"
     ]
    }
   ],
   "source": [
    "with nc.Dataset('/home/sallen/MEOPAR/grid/bathymetry_201702.nc') as bathyds:\n",
    "    model_lons, model_lats = bathyds['nav_lon'][:], bathyds['nav_lat'][:]"
   ]
  },
  {
   "cell_type": "code",
   "execution_count": 208,
   "metadata": {},
   "outputs": [
    {
     "name": "stdout",
     "output_type": "stream",
     "text": [
      "0.0\n"
     ]
    },
    {
     "name": "stderr",
     "output_type": "stream",
     "text": [
      "/home/sallen/anaconda/envs/py3/lib/python3.5/site-packages/pandas/core/indexing.py:140: SettingWithCopyWarning: \n",
      "A value is trying to be set on a copy of a slice from a DataFrame\n",
      "\n",
      "See the caveats in the documentation: http://pandas.pydata.org/pandas-docs/stable/indexing.html#indexing-view-versus-copy\n",
      "  self._setitem_with_indexer(indexer, value)\n"
     ]
    },
    {
     "name": "stdout",
     "output_type": "stream",
     "text": [
      "432.0\n"
     ]
    }
   ],
   "source": [
    "mydata['x'] = np.zeros((9))\n",
    "mydata['y'] = np.zeros((9))\n",
    "for n in range(9):\n",
    "    mydata.x.iloc[n], mydata.y.iloc[n] = geo_tools.find_closest_model_point(mydata['LonDecDeg'][n], mydata['LatDecDeg'][n],\n",
    "                                                             model_lons, model_lats)\n",
    "print(mydata.x.iloc[5])"
   ]
  },
  {
   "cell_type": "code",
   "execution_count": 113,
   "metadata": {
    "collapsed": true
   },
   "outputs": [],
   "source": [
    "salinities = np.empty((9, 26))\n",
    "depths = np.empty((9, 26))\n",
    "salinities[:] = np.NAN\n",
    "depths[:] = np.NAN"
   ]
  },
  {
   "cell_type": "code",
   "execution_count": 101,
   "metadata": {},
   "outputs": [
    {
     "data": {
      "text/html": [
       "<div>\n",
       "<table border=\"1\" class=\"dataframe\">\n",
       "  <thead>\n",
       "    <tr style=\"text-align: right;\">\n",
       "      <th></th>\n",
       "      <th>depth_m</th>\n",
       "      <th>indk</th>\n",
       "      <th>gsw_ctA0</th>\n",
       "      <th>gsw_srA0</th>\n",
       "      <th>xmiss</th>\n",
       "      <th>par</th>\n",
       "      <th>wetStar</th>\n",
       "      <th>sbeox0ML_L</th>\n",
       "      <th>turb</th>\n",
       "    </tr>\n",
       "  </thead>\n",
       "  <tbody>\n",
       "    <tr>\n",
       "      <th>0</th>\n",
       "      <td>0.500000</td>\n",
       "      <td>0</td>\n",
       "      <td>NaN</td>\n",
       "      <td>NaN</td>\n",
       "      <td>NaN</td>\n",
       "      <td>3.696123e+02</td>\n",
       "      <td>NaN</td>\n",
       "      <td>NaN</td>\n",
       "      <td>1.999826</td>\n",
       "    </tr>\n",
       "    <tr>\n",
       "      <th>1</th>\n",
       "      <td>1.500003</td>\n",
       "      <td>1</td>\n",
       "      <td>8.854292</td>\n",
       "      <td>25.578106</td>\n",
       "      <td>64.360508</td>\n",
       "      <td>2.153176e+02</td>\n",
       "      <td>13.112614</td>\n",
       "      <td>7.337838</td>\n",
       "      <td>2.054996</td>\n",
       "    </tr>\n",
       "    <tr>\n",
       "      <th>2</th>\n",
       "      <td>2.500011</td>\n",
       "      <td>2</td>\n",
       "      <td>8.768968</td>\n",
       "      <td>26.267741</td>\n",
       "      <td>68.323950</td>\n",
       "      <td>1.148769e+02</td>\n",
       "      <td>14.668691</td>\n",
       "      <td>6.901566</td>\n",
       "      <td>1.742632</td>\n",
       "    </tr>\n",
       "    <tr>\n",
       "      <th>3</th>\n",
       "      <td>3.500031</td>\n",
       "      <td>3</td>\n",
       "      <td>8.502463</td>\n",
       "      <td>27.683875</td>\n",
       "      <td>77.272761</td>\n",
       "      <td>7.100680e+01</td>\n",
       "      <td>11.366840</td>\n",
       "      <td>6.568123</td>\n",
       "      <td>1.233757</td>\n",
       "    </tr>\n",
       "    <tr>\n",
       "      <th>4</th>\n",
       "      <td>4.500071</td>\n",
       "      <td>4</td>\n",
       "      <td>8.437528</td>\n",
       "      <td>27.971358</td>\n",
       "      <td>83.312115</td>\n",
       "      <td>4.772259e+01</td>\n",
       "      <td>9.814813</td>\n",
       "      <td>6.475180</td>\n",
       "      <td>0.917036</td>\n",
       "    </tr>\n",
       "    <tr>\n",
       "      <th>5</th>\n",
       "      <td>5.500151</td>\n",
       "      <td>5</td>\n",
       "      <td>8.447946</td>\n",
       "      <td>28.136516</td>\n",
       "      <td>85.193878</td>\n",
       "      <td>3.361860e+01</td>\n",
       "      <td>8.867536</td>\n",
       "      <td>6.411832</td>\n",
       "      <td>0.799074</td>\n",
       "    </tr>\n",
       "    <tr>\n",
       "      <th>6</th>\n",
       "      <td>6.500310</td>\n",
       "      <td>6</td>\n",
       "      <td>8.471705</td>\n",
       "      <td>28.201405</td>\n",
       "      <td>85.793854</td>\n",
       "      <td>2.414218e+01</td>\n",
       "      <td>7.294544</td>\n",
       "      <td>6.366440</td>\n",
       "      <td>0.818419</td>\n",
       "    </tr>\n",
       "    <tr>\n",
       "      <th>7</th>\n",
       "      <td>7.500623</td>\n",
       "      <td>7</td>\n",
       "      <td>8.465294</td>\n",
       "      <td>28.246961</td>\n",
       "      <td>85.846768</td>\n",
       "      <td>1.738321e+01</td>\n",
       "      <td>7.194613</td>\n",
       "      <td>6.328358</td>\n",
       "      <td>0.764521</td>\n",
       "    </tr>\n",
       "    <tr>\n",
       "      <th>8</th>\n",
       "      <td>8.501236</td>\n",
       "      <td>8</td>\n",
       "      <td>8.462865</td>\n",
       "      <td>28.331292</td>\n",
       "      <td>85.534252</td>\n",
       "      <td>1.292721e+01</td>\n",
       "      <td>7.159151</td>\n",
       "      <td>6.361246</td>\n",
       "      <td>0.772199</td>\n",
       "    </tr>\n",
       "    <tr>\n",
       "      <th>9</th>\n",
       "      <td>9.502433</td>\n",
       "      <td>9</td>\n",
       "      <td>8.449480</td>\n",
       "      <td>28.562045</td>\n",
       "      <td>84.587486</td>\n",
       "      <td>9.354783e+00</td>\n",
       "      <td>8.752444</td>\n",
       "      <td>6.399064</td>\n",
       "      <td>0.805961</td>\n",
       "    </tr>\n",
       "    <tr>\n",
       "      <th>10</th>\n",
       "      <td>10.504766</td>\n",
       "      <td>10</td>\n",
       "      <td>8.404867</td>\n",
       "      <td>28.791970</td>\n",
       "      <td>86.679657</td>\n",
       "      <td>6.864533e+00</td>\n",
       "      <td>9.033805</td>\n",
       "      <td>6.194929</td>\n",
       "      <td>0.786107</td>\n",
       "    </tr>\n",
       "    <tr>\n",
       "      <th>11</th>\n",
       "      <td>11.509312</td>\n",
       "      <td>11</td>\n",
       "      <td>8.405413</td>\n",
       "      <td>28.933541</td>\n",
       "      <td>90.696137</td>\n",
       "      <td>5.310317e+00</td>\n",
       "      <td>5.551523</td>\n",
       "      <td>6.042598</td>\n",
       "      <td>0.577296</td>\n",
       "    </tr>\n",
       "    <tr>\n",
       "      <th>12</th>\n",
       "      <td>12.518167</td>\n",
       "      <td>12</td>\n",
       "      <td>8.411076</td>\n",
       "      <td>28.955822</td>\n",
       "      <td>91.306147</td>\n",
       "      <td>4.234168e+00</td>\n",
       "      <td>4.206983</td>\n",
       "      <td>5.978858</td>\n",
       "      <td>0.450091</td>\n",
       "    </tr>\n",
       "    <tr>\n",
       "      <th>13</th>\n",
       "      <td>13.535412</td>\n",
       "      <td>13</td>\n",
       "      <td>8.418357</td>\n",
       "      <td>28.973110</td>\n",
       "      <td>91.590311</td>\n",
       "      <td>3.377747e+00</td>\n",
       "      <td>3.632929</td>\n",
       "      <td>5.939851</td>\n",
       "      <td>0.474716</td>\n",
       "    </tr>\n",
       "    <tr>\n",
       "      <th>14</th>\n",
       "      <td>14.568982</td>\n",
       "      <td>14</td>\n",
       "      <td>8.424554</td>\n",
       "      <td>28.986681</td>\n",
       "      <td>91.717760</td>\n",
       "      <td>2.728736e+00</td>\n",
       "      <td>3.489254</td>\n",
       "      <td>5.893274</td>\n",
       "      <td>0.452231</td>\n",
       "    </tr>\n",
       "    <tr>\n",
       "      <th>15</th>\n",
       "      <td>15.634288</td>\n",
       "      <td>15</td>\n",
       "      <td>8.429688</td>\n",
       "      <td>29.023567</td>\n",
       "      <td>91.960479</td>\n",
       "      <td>2.173913e+00</td>\n",
       "      <td>3.346673</td>\n",
       "      <td>5.795549</td>\n",
       "      <td>0.402860</td>\n",
       "    </tr>\n",
       "    <tr>\n",
       "      <th>16</th>\n",
       "      <td>16.761173</td>\n",
       "      <td>16</td>\n",
       "      <td>8.428806</td>\n",
       "      <td>29.057074</td>\n",
       "      <td>92.277228</td>\n",
       "      <td>1.731535e+00</td>\n",
       "      <td>3.109573</td>\n",
       "      <td>5.672572</td>\n",
       "      <td>0.368328</td>\n",
       "    </tr>\n",
       "    <tr>\n",
       "      <th>17</th>\n",
       "      <td>18.007135</td>\n",
       "      <td>17</td>\n",
       "      <td>8.420964</td>\n",
       "      <td>29.088517</td>\n",
       "      <td>92.779804</td>\n",
       "      <td>1.352084e+00</td>\n",
       "      <td>3.049971</td>\n",
       "      <td>5.529882</td>\n",
       "      <td>0.386365</td>\n",
       "    </tr>\n",
       "    <tr>\n",
       "      <th>18</th>\n",
       "      <td>19.481785</td>\n",
       "      <td>18</td>\n",
       "      <td>8.414931</td>\n",
       "      <td>29.118110</td>\n",
       "      <td>93.290409</td>\n",
       "      <td>1.015578e+00</td>\n",
       "      <td>2.952214</td>\n",
       "      <td>5.394633</td>\n",
       "      <td>0.360912</td>\n",
       "    </tr>\n",
       "    <tr>\n",
       "      <th>19</th>\n",
       "      <td>21.389978</td>\n",
       "      <td>19</td>\n",
       "      <td>8.415972</td>\n",
       "      <td>29.159154</td>\n",
       "      <td>93.731228</td>\n",
       "      <td>7.167191e-01</td>\n",
       "      <td>2.743146</td>\n",
       "      <td>5.272123</td>\n",
       "      <td>0.304332</td>\n",
       "    </tr>\n",
       "    <tr>\n",
       "      <th>20</th>\n",
       "      <td>24.100256</td>\n",
       "      <td>20</td>\n",
       "      <td>8.425692</td>\n",
       "      <td>29.273114</td>\n",
       "      <td>94.484612</td>\n",
       "      <td>4.435834e-01</td>\n",
       "      <td>2.212582</td>\n",
       "      <td>4.960926</td>\n",
       "      <td>0.251384</td>\n",
       "    </tr>\n",
       "    <tr>\n",
       "      <th>21</th>\n",
       "      <td>28.229916</td>\n",
       "      <td>21</td>\n",
       "      <td>8.454400</td>\n",
       "      <td>29.399006</td>\n",
       "      <td>95.150042</td>\n",
       "      <td>2.285315e-01</td>\n",
       "      <td>1.821474</td>\n",
       "      <td>4.717139</td>\n",
       "      <td>0.209351</td>\n",
       "    </tr>\n",
       "    <tr>\n",
       "      <th>22</th>\n",
       "      <td>34.685757</td>\n",
       "      <td>22</td>\n",
       "      <td>8.472275</td>\n",
       "      <td>29.529439</td>\n",
       "      <td>95.390718</td>\n",
       "      <td>7.878432e-02</td>\n",
       "      <td>1.664014</td>\n",
       "      <td>4.545679</td>\n",
       "      <td>0.197917</td>\n",
       "    </tr>\n",
       "    <tr>\n",
       "      <th>23</th>\n",
       "      <td>44.517723</td>\n",
       "      <td>23</td>\n",
       "      <td>8.495820</td>\n",
       "      <td>29.693583</td>\n",
       "      <td>95.678715</td>\n",
       "      <td>6.959847e-03</td>\n",
       "      <td>1.490543</td>\n",
       "      <td>4.390345</td>\n",
       "      <td>0.186396</td>\n",
       "    </tr>\n",
       "    <tr>\n",
       "      <th>24</th>\n",
       "      <td>58.484333</td>\n",
       "      <td>24</td>\n",
       "      <td>8.375829</td>\n",
       "      <td>29.813706</td>\n",
       "      <td>95.671712</td>\n",
       "      <td>1.308112e-04</td>\n",
       "      <td>1.391574</td>\n",
       "      <td>4.526026</td>\n",
       "      <td>0.177530</td>\n",
       "    </tr>\n",
       "    <tr>\n",
       "      <th>25</th>\n",
       "      <td>76.585587</td>\n",
       "      <td>25</td>\n",
       "      <td>8.277836</td>\n",
       "      <td>29.893907</td>\n",
       "      <td>95.541837</td>\n",
       "      <td>1.000003e-12</td>\n",
       "      <td>1.273531</td>\n",
       "      <td>4.611794</td>\n",
       "      <td>0.186804</td>\n",
       "    </tr>\n",
       "  </tbody>\n",
       "</table>\n",
       "</div>"
      ],
      "text/plain": [
       "      depth_m  indk  gsw_ctA0   gsw_srA0      xmiss           par    wetStar  \\\n",
       "0    0.500000     0       NaN        NaN        NaN  3.696123e+02        NaN   \n",
       "1    1.500003     1  8.854292  25.578106  64.360508  2.153176e+02  13.112614   \n",
       "2    2.500011     2  8.768968  26.267741  68.323950  1.148769e+02  14.668691   \n",
       "3    3.500031     3  8.502463  27.683875  77.272761  7.100680e+01  11.366840   \n",
       "4    4.500071     4  8.437528  27.971358  83.312115  4.772259e+01   9.814813   \n",
       "5    5.500151     5  8.447946  28.136516  85.193878  3.361860e+01   8.867536   \n",
       "6    6.500310     6  8.471705  28.201405  85.793854  2.414218e+01   7.294544   \n",
       "7    7.500623     7  8.465294  28.246961  85.846768  1.738321e+01   7.194613   \n",
       "8    8.501236     8  8.462865  28.331292  85.534252  1.292721e+01   7.159151   \n",
       "9    9.502433     9  8.449480  28.562045  84.587486  9.354783e+00   8.752444   \n",
       "10  10.504766    10  8.404867  28.791970  86.679657  6.864533e+00   9.033805   \n",
       "11  11.509312    11  8.405413  28.933541  90.696137  5.310317e+00   5.551523   \n",
       "12  12.518167    12  8.411076  28.955822  91.306147  4.234168e+00   4.206983   \n",
       "13  13.535412    13  8.418357  28.973110  91.590311  3.377747e+00   3.632929   \n",
       "14  14.568982    14  8.424554  28.986681  91.717760  2.728736e+00   3.489254   \n",
       "15  15.634288    15  8.429688  29.023567  91.960479  2.173913e+00   3.346673   \n",
       "16  16.761173    16  8.428806  29.057074  92.277228  1.731535e+00   3.109573   \n",
       "17  18.007135    17  8.420964  29.088517  92.779804  1.352084e+00   3.049971   \n",
       "18  19.481785    18  8.414931  29.118110  93.290409  1.015578e+00   2.952214   \n",
       "19  21.389978    19  8.415972  29.159154  93.731228  7.167191e-01   2.743146   \n",
       "20  24.100256    20  8.425692  29.273114  94.484612  4.435834e-01   2.212582   \n",
       "21  28.229916    21  8.454400  29.399006  95.150042  2.285315e-01   1.821474   \n",
       "22  34.685757    22  8.472275  29.529439  95.390718  7.878432e-02   1.664014   \n",
       "23  44.517723    23  8.495820  29.693583  95.678715  6.959847e-03   1.490543   \n",
       "24  58.484333    24  8.375829  29.813706  95.671712  1.308112e-04   1.391574   \n",
       "25  76.585587    25  8.277836  29.893907  95.541837  1.000003e-12   1.273531   \n",
       "\n",
       "    sbeox0ML_L      turb  \n",
       "0          NaN  1.999826  \n",
       "1     7.337838  2.054996  \n",
       "2     6.901566  1.742632  \n",
       "3     6.568123  1.233757  \n",
       "4     6.475180  0.917036  \n",
       "5     6.411832  0.799074  \n",
       "6     6.366440  0.818419  \n",
       "7     6.328358  0.764521  \n",
       "8     6.361246  0.772199  \n",
       "9     6.399064  0.805961  \n",
       "10    6.194929  0.786107  \n",
       "11    6.042598  0.577296  \n",
       "12    5.978858  0.450091  \n",
       "13    5.939851  0.474716  \n",
       "14    5.893274  0.452231  \n",
       "15    5.795549  0.402860  \n",
       "16    5.672572  0.368328  \n",
       "17    5.529882  0.386365  \n",
       "18    5.394633  0.360912  \n",
       "19    5.272123  0.304332  \n",
       "20    4.960926  0.251384  \n",
       "21    4.717139  0.209351  \n",
       "22    4.545679  0.197917  \n",
       "23    4.390345  0.186396  \n",
       "24    4.526026  0.177530  \n",
       "25    4.611794  0.186804  "
      ]
     },
     "execution_count": 101,
     "metadata": {},
     "output_type": "execute_result"
    }
   ],
   "source": [
    "n = 3\n",
    "station = stationdata.iloc[n]\n",
    "cast = casts[station['Station']].dCast\n",
    "cast"
   ]
  },
  {
   "cell_type": "code",
   "execution_count": 280,
   "metadata": {},
   "outputs": [],
   "source": [
    "for n in range(9):\n",
    "    station = stationdata.iloc[n]\n",
    "    cast = casts[station['Station']].dCast\n",
    "    salinities[n, :cast.shape[0]] = cast['gsw_srA0']\n",
    "    depths[n, :cast.shape[0]] = cast['depth_m']\n",
    "    salinities[n, 0] = 1.1*salinities[n, 1] - 0.1*salinities[n, 2]"
   ]
  },
  {
   "cell_type": "code",
   "execution_count": 281,
   "metadata": {},
   "outputs": [
    {
     "name": "stdout",
     "output_type": "stream",
     "text": [
      "[3 2 1 1 5 1 1]\n"
     ]
    }
   ],
   "source": [
    "dsalinity = salinities[:, 1:] - salinities[:, 0:-1]\n",
    "halocline = np.nanargmax(dsalinity, axis=1)\n",
    "print(halocline[2:])"
   ]
  },
  {
   "cell_type": "code",
   "execution_count": 317,
   "metadata": {},
   "outputs": [
    {
     "data": {
      "text/plain": [
       "(16, 0)"
      ]
     },
     "execution_count": 317,
     "metadata": {},
     "output_type": "execute_result"
    },
    {
     "data": {
      "image/png": "[encoded data removed]",
      "text/plain": [
       "<matplotlib.figure.Figure at 0x7f1675dbae80>"
      ]
     },
     "metadata": {},
     "output_type": "display_data"
    }
   ],
   "source": [
    "lower = np.zeros((9))\n",
    "upper = np.zeros((9))\n",
    "dist = 10\n",
    "fig, ax = plt.subplots(1, 1, figsize=(20, 5))\n",
    "for n in [2, 3, 4, 5, 7, 8]:\n",
    "    ax.plot(salinities[n] - dist*mydata.distance_from_mouth[n], depths[n], '-x');\n",
    "    ax.plot(salinities[n, halocline[n]]- dist*mydata.distance_from_mouth[n], \n",
    "            depths[n, halocline[n]], 'o')\n",
    "    upper[n] = np.mean(salinities[n, 0:halocline[n]])\n",
    "    lower[n] = np.nanmean(salinities[n, halocline[n]+1:16])\n",
    "    ax.bar(upper[n]- dist*mydata.distance_from_mouth[n], halocline[n]+1 )\n",
    "    ax.bar(lower[n]- dist*mydata.distance_from_mouth[n], 16-halocline[n], 0.8, halocline[n]+1)\n",
    "ax.invert_yaxis()\n",
    "ax.set_ylim(16, 0)"
   ]
  },
  {
   "cell_type": "code",
   "execution_count": 284,
   "metadata": {},
   "outputs": [
    {
     "name": "stderr",
     "output_type": "stream",
     "text": [
      "/home/sallen/anaconda/envs/py3/lib/python3.5/site-packages/ipykernel/__main__.py:2: RuntimeWarning: invalid value encountered in true_divide\n",
      "  from ipykernel import kernelapp as app\n"
     ]
    },
    {
     "data": {
      "text/plain": [
       "[<matplotlib.lines.Line2D at 0x7f167a1d8438>]"
      ]
     },
     "execution_count": 284,
     "metadata": {},
     "output_type": "execute_result"
    },
    {
     "data": {
      "image/png": "[encoded data removed]",
      "text/plain": [
       "<matplotlib.figure.Figure at 0x7f167aa3e358>"
      ]
     },
     "metadata": {},
     "output_type": "display_data"
    }
   ],
   "source": [
    "R = 2.231440e+03*1.6\n",
    "entrain = upper/lower*R/(1-upper/lower)\n",
    "plt.plot(mydata.distance_from_mouth, entrain, 'o')"
   ]
  },
  {
   "cell_type": "code",
   "execution_count": 285,
   "metadata": {},
   "outputs": [
    {
     "data": {
      "text/plain": [
       "[<matplotlib.lines.Line2D at 0x7f167a13fbe0>]"
      ]
     },
     "execution_count": 285,
     "metadata": {},
     "output_type": "execute_result"
    },
    {
     "data": {
      "image/png": "[encoded data removed]",
      "text/plain": [
       "<matplotlib.figure.Figure at 0x7f167b01ccf8>"
      ]
     },
     "metadata": {},
     "output_type": "display_data"
    }
   ],
   "source": [
    "plt.plot(halocline)"
   ]
  },
  {
   "cell_type": "code",
   "execution_count": 302,
   "metadata": {},
   "outputs": [],
   "source": [
    "#thedata = nc.Dataset('/ocean/vdo/MEOPAR/completed-runs/threemonthbase/testD/SalishSea_1h_20170406_20170415_grid_T_20170410-20170410.nc')\n",
    "thedata = nc.Dataset('/ocean/vdo/MEOPAR/completed-runs/threemonthsa_2/testd/SalishSea_1h_20170406_20170415_grid_T_20170410-20170410.nc')\n",
    "deptht = thedata['deptht'][:]"
   ]
  },
  {
   "cell_type": "code",
   "execution_count": 303,
   "metadata": {},
   "outputs": [],
   "source": [
    "model_profile = np.zeros((9, 16))\n",
    "for n in range(9):\n",
    "    model_profile[n] = thedata['vosaline'][mydata['timepiece'][n], 0:16, mydata['x'][n], mydata['y'][n]]\n",
    "model_profile[8, 13:] = np.nan"
   ]
  },
  {
   "cell_type": "code",
   "execution_count": 304,
   "metadata": {},
   "outputs": [
    {
     "name": "stdout",
     "output_type": "stream",
     "text": [
      "[ 5  5 14 12  1  2  2  2  1]\n"
     ]
    }
   ],
   "source": [
    "dmsalinity = model_profile[:, 1:] - model_profile[:, 0:-1]\n",
    "mhalocline = np.nanargmax(dmsalinity, axis=1)\n",
    "print(mhalocline)"
   ]
  },
  {
   "cell_type": "code",
   "execution_count": 319,
   "metadata": {},
   "outputs": [
    {
     "data": {
      "text/plain": [
       "(16, 0)"
      ]
     },
     "execution_count": 319,
     "metadata": {},
     "output_type": "execute_result"
    },
    {
     "data": {
      "image/png": "[encoded data removed]",
      "text/plain": [
       "<matplotlib.figure.Figure at 0x7f1675b81e10>"
      ]
     },
     "metadata": {},
     "output_type": "display_data"
    }
   ],
   "source": [
    "dist = 10\n",
    "err = 0\n",
    "mlower = np.zeros((9))\n",
    "mupper = np.zeros((9))\n",
    "fig, ax = plt.subplots(1, 1, figsize=(20, 5))\n",
    "for n in [2, 3, 4, 5, 7, 8]:\n",
    "    ax.plot(salinities[n, 1:] - dist*mydata.distance_from_mouth[n], depths[n, 1:], '-x');\n",
    "    ax.plot(salinities[n, halocline[n]]- dist*mydata.distance_from_mouth[n], \n",
    "            depths[n, halocline[n]], 'o')\n",
    "for n in range(9):\n",
    "    ax.plot(model_profile[n, 1:] - (dist+err)*mydata.distance_from_mouth[n], deptht[1:16], '-+')\n",
    "    mupper[n] = np.mean(model_profile[n, 0:mhalocline[n]])\n",
    "    mlower[n] = np.nanmean(model_profile[n, mhalocline[n]+1:16])\n",
    "    ax.bar(mupper[n]- dist*mydata.distance_from_mouth[n], mhalocline[n]+1 )\n",
    "    ax.bar(mlower[n]- dist*mydata.distance_from_mouth[n], 16-mhalocline[n], 0.8, mhalocline[n]+1)\n",
    "ax.invert_yaxis()\n",
    "ax.set_ylim(16, 0)\n",
    "#ax.set_xlim(15, 30)"
   ]
  },
  {
   "cell_type": "code",
   "execution_count": 316,
   "metadata": {},
   "outputs": [
    {
     "data": {
      "text/plain": [
       "[<matplotlib.lines.Line2D at 0x7f1675d5de80>]"
      ]
     },
     "execution_count": 316,
     "metadata": {},
     "output_type": "execute_result"
    },
    {
     "data": {
      "image/png": "[encoded data removed]",
      "text/plain": [
       "<matplotlib.figure.Figure at 0x7f1675d5d5f8>"
      ]
     },
     "metadata": {},
     "output_type": "display_data"
    }
   ],
   "source": [
    "mentrain = mupper/mlower*R/(1-mupper/mlower)\n",
    "plt.plot(mydata.distance_from_mouth+err, mentrain, 'o')\n",
    "plt.plot(mydata.distance_from_mouth, entrain, 'o')"
   ]
  },
  {
   "cell_type": "code",
   "execution_count": 307,
   "metadata": {},
   "outputs": [
    {
     "data": {
      "text/plain": [
       "(13, 30)"
      ]
     },
     "execution_count": 307,
     "metadata": {},
     "output_type": "execute_result"
    },
    {
     "data": {
      "image/png": "[encoded data removed]",
      "text/plain": [
       "<matplotlib.figure.Figure at 0x7f16778edb70>"
      ]
     },
     "metadata": {},
     "output_type": "display_data"
    }
   ],
   "source": [
    "dist = 0\n",
    "err = 0\n",
    "fig, ax = plt.subplots(1, 1, figsize=(20, 5))\n",
    "for n in [2, 3, 4, 5, 7, 8]:\n",
    "    ax.bar(upper[n]- dist*mydata.distance_from_mouth[n], halocline[n]+1, color='g', alpha=0.1 )\n",
    "    ax.bar(lower[n]- dist*mydata.distance_from_mouth[n], 16-halocline[n], 0.8, halocline[n]+1, color='g', alpha=0.1)\n",
    "    ax.bar(mupper[n]- dist*mydata.distance_from_mouth[n], mhalocline[n]+1, color='b' , alpha=0.1)\n",
    "    ax.bar(mlower[n]- dist*mydata.distance_from_mouth[n], 16-mhalocline[n], 0.8, mhalocline[n]+1, color='b', alpha=0.1)\n",
    "ax.invert_yaxis()\n",
    "ax.set_ylim(16, 0)\n",
    "ax.set_xlim(13, 30)"
   ]
  },
  {
   "cell_type": "code",
   "execution_count": 314,
   "metadata": {},
   "outputs": [
    {
     "data": {
      "text/plain": [
       "[<matplotlib.lines.Line2D at 0x7f1675d9f940>]"
      ]
     },
     "execution_count": 314,
     "metadata": {},
     "output_type": "execute_result"
    },
    {
     "data": {
      "image/png": "[encoded data removed]",
      "text/plain": [
       "<matplotlib.figure.Figure at 0x7f1675e186d8>"
      ]
     },
     "metadata": {},
     "output_type": "display_data"
    }
   ],
   "source": [
    "err=3\n",
    "fig, ax = plt.subplots(1, 1, figsize=(20, 5))\n",
    "ax.plot(mydata.distance_from_mouth+err, mupper, 'o-')\n",
    "ax.plot(mydata.distance_from_mouth, upper, 'x-')"
   ]
  },
  {
   "cell_type": "code",
   "execution_count": 315,
   "metadata": {},
   "outputs": [
    {
     "data": {
      "text/plain": [
       "(25, 30)"
      ]
     },
     "execution_count": 315,
     "metadata": {},
     "output_type": "execute_result"
    },
    {
     "data": {
      "image/png": "[encoded data removed]",
      "text/plain": [
       "<matplotlib.figure.Figure at 0x7f1675df8f60>"
      ]
     },
     "metadata": {},
     "output_type": "display_data"
    }
   ],
   "source": [
    "fig, ax = plt.subplots(1, 1, figsize=(20, 5))\n",
    "ax.plot(mydata.distance_from_mouth+err, mlower, 'o-')\n",
    "ax.plot(mydata.distance_from_mouth, lower, 'x-')\n",
    "ax.set_ylim(25, 30)"
   ]
  },
  {
   "cell_type": "code",
   "execution_count": 309,
   "metadata": {},
   "outputs": [
    {
     "data": {
      "text/plain": [
       "<matplotlib.legend.Legend at 0x7f1676052eb8>"
      ]
     },
     "execution_count": 309,
     "metadata": {},
     "output_type": "execute_result"
    },
    {
     "data": {
      "image/png": "[encoded data removed]",
      "text/plain": [
       "<matplotlib.figure.Figure at 0x7f1676052cf8>"
      ]
     },
     "metadata": {},
     "output_type": "display_data"
    }
   ],
   "source": [
    "for fixer in np.arange(0, 0.2, 0.02):\n",
    "    plt.plot((1+fixer)*model_profile[:,1]-fixer*model_profile[:,2]-model_profile[:, 0], 'o', label=fixer)\n",
    "plt.legend(loc='lower left')"
   ]
  },
  {
   "cell_type": "code",
   "execution_count": null,
   "metadata": {
    "collapsed": true
   },
   "outputs": [],
   "source": []
  }
 ],
 "metadata": {
  "anaconda-cloud": {},
  "kernelspec": {
   "display_name": "Python [conda env:py3]",
   "language": "python",
   "name": "conda-env-py3-py"
  },
  "language_info": {
   "codemirror_mode": {
    "name": "ipython",
    "version": 3
   },
   "file_extension": ".py",
   "mimetype": "text/x-python",
   "name": "python",
   "nbconvert_exporter": "python",
   "pygments_lexer": "ipython3",
   "version": "3.5.2"
  },
  "toc": {
   "colors": {
    "hover_highlight": "#DAA520",
    "running_highlight": "#FF0000",
    "selected_highlight": "#FFD700"
   },
   "moveMenuLeft": true,
   "nav_menu": {
    "height": "12px",
    "width": "252px"
   },
   "navigate_menu": true,
   "number_sections": true,
   "sideBar": true,
   "threshold": 4,
   "toc_cell": false,
   "toc_section_display": "block",
   "toc_window_display": false,
   "widenNotebook": false
  }
 },
 "nbformat": 4,
 "nbformat_minor": 2
}
