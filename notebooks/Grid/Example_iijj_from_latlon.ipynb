{
 "cells": [
  {
   "cell_type": "code",
   "execution_count": 1,
   "metadata": {},
   "outputs": [],
   "source": [
    "import xarray as xr"
   ]
  },
  {
   "cell_type": "code",
   "execution_count": 2,
   "metadata": {},
   "outputs": [],
   "source": [
    "jjii = xr.open_dataset('~/MEOPAR/grid/grid_from_lat_lon_mask999.nc')"
   ]
  },
  {
   "cell_type": "code",
   "execution_count": 3,
   "metadata": {},
   "outputs": [
    {
     "name": "stdout",
     "output_type": "stream",
     "text": [
      "250 421\n"
     ]
    }
   ],
   "source": [
    "lat, lon = 49.0, -123.5\n",
    "method = 'nearest'\n",
    "jj = jjii.jj.sel(lats=lat, lons=lon, method=method).item()\n",
    "ii = jjii.ii.sel(lats=lat, lons=lon, method=method).item()\n",
    "print (ii, jj)"
   ]
  },
  {
   "cell_type": "code",
   "execution_count": 4,
   "metadata": {},
   "outputs": [],
   "source": [
    "jjii.close()"
   ]
  },
  {
   "cell_type": "code",
   "execution_count": null,
   "metadata": {},
   "outputs": [],
   "source": []
  },
  {
   "cell_type": "code",
   "execution_count": 8,
   "metadata": {},
   "outputs": [
    {
     "name": "stdout",
     "output_type": "stream",
     "text": [
      "[262 250 240] [289 421 554]\n"
     ]
    }
   ],
   "source": [
    "lats = xr.DataArray([48.5, 49, 49.5])\n",
    "lons = xr.DataArray([-123, -123.5, -124])\n",
    "jj = jjii.jj.sel(lats=lats, lons=lons, method=method).values\n",
    "ii = jjii.ii.sel(lats=lats, lons=lons, method=method).values\n",
    "print (ii, jj)"
   ]
  },
  {
   "cell_type": "code",
   "execution_count": null,
   "metadata": {},
   "outputs": [],
   "source": []
  }
 ],
 "metadata": {
  "kernelspec": {
   "display_name": "py39",
   "language": "python",
   "name": "py39"
  },
  "language_info": {
   "codemirror_mode": {
    "name": "ipython",
    "version": 3
   },
   "file_extension": ".py",
   "mimetype": "text/x-python",
   "name": "python",
   "nbconvert_exporter": "python",
   "pygments_lexer": "ipython3",
   "version": "3.9.1"
  }
 },
 "nbformat": 4,
 "nbformat_minor": 4
}
