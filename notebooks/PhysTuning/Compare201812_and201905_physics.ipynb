{
 "cells": [
  {
   "cell_type": "markdown",
   "metadata": {},
   "source": [
    "# Differences between 201812 and 201905 Physics #"
   ]
  },
  {
   "cell_type": "markdown",
   "metadata": {},
   "source": [
    "* Starting conditions: 201905 started in 2013, 201812 started in 2015\n",
    "* SSH Shift, Johnstone Strait is 0.05 m higher than Neah Bay in 201905 but 0.098 m higher in 2018\n",
    "* damping scales on open boundary baroclinic velocities differ"
   ]
  },
  {
   "cell_type": "markdown",
   "metadata": {},
   "source": [
    "## 2015 Comparison ##"
   ]
  },
  {
   "cell_type": "markdown",
   "metadata": {},
   "source": [
    "### Jan-Jun 2015 ###\n",
    "\n",
    "201812: <img src=\"firsthalf_201812.png\"><br>\n",
    "201905: <img src=\"firsthalf_201905.png\">\n",
    "\n",
    "| 201812      | Temperature | Salinity    |\n",
    "| ----------- | ----------- |-------------|\n",
    "| Bias        | <span style=\"color:orange\">0.258</span>       | 0.128       |\n",
    "| RMSE        | 0.516       | 0.495       |\n",
    "| WSS         | 0.942       | 0.968       |\n",
    "\n",
    "| 201905      | Temperature | Salinity    |\n",
    "| ----------- | ----------- |-------------|\n",
    "| Bias        | <span style=\"color:blue\">0.060</span>       | 0.075       |\n",
    "| RMSE        | 0.405       | 0.462       |\n",
    "| WSS         | 0.963       | 0.973       |\n",
    "\n",
    "All 201905 scores are better but in particular, temperature bias is 0.06oC versus 0.26oC and WS for temperature is 0.963 versus 0.942."
   ]
  },
  {
   "cell_type": "markdown",
   "metadata": {},
   "source": [
    "## 2016 Comparison ##"
   ]
  },
  {
   "cell_type": "markdown",
   "metadata": {},
   "source": [
    "### Jan-Jun 2016 ###\n",
    "\n",
    "201812: <img src=\"firsthalf2016_201812.png\"><br>\n",
    "201905: <img src=\"firsthalf2016_201905.png\">\n",
    "\n",
    "| 201812      | Temperature | Salinity    |\n",
    "| ----------- | ----------- |-------------|\n",
    "| Bias        | -0.033      | 0.155       |\n",
    "| RMSE        | 0.383       | 0.497       |\n",
    "| WSS         | 0.963       | 0.968       |\n",
    "\n",
    "| 201905      | Temperature | Salinity    |\n",
    "| ----------- | ----------- |-------------|\n",
    "| Bias        | -0.083      | 0.158       |\n",
    "| RMSE        | 0.382       | 0.488       |\n",
    "| WSS         | 0.964       | 0.969       |\n",
    "\n",
    "Scores are completely comparable. "
   ]
  },
  {
   "cell_type": "code",
   "execution_count": null,
   "metadata": {},
   "outputs": [],
   "source": []
  }
 ],
 "metadata": {
  "kernelspec": {
   "display_name": "py38_sqlAlchemy",
   "language": "python",
   "name": "py38_sqlalchemy"
  },
  "language_info": {
   "codemirror_mode": {
    "name": "ipython",
    "version": 3
   },
   "file_extension": ".py",
   "mimetype": "text/x-python",
   "name": "python",
   "nbconvert_exporter": "python",
   "pygments_lexer": "ipython3",
   "version": "3.8.6"
  }
 },
 "nbformat": 4,
 "nbformat_minor": 4
}
