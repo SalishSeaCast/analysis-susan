{
 "cells": [
  {
   "cell_type": "markdown",
   "metadata": {},
   "source": [
    "# Notebook to Evaluate New Bathymetry as the run coms in"
   ]
  },
  {
   "cell_type": "markdown",
   "metadata": {},
   "source": [
    "## Salinity top 5 m"
   ]
  },
  {
   "cell_type": "code",
   "execution_count": 41,
   "metadata": {},
   "outputs": [],
   "source": [
    "import datetime as dt\n",
    "import matplotlib.pyplot as plt\n",
    "from matplotlib.colors import LogNorm\n",
    "import numpy as np\n",
    "import pandas as pd\n",
    "import statsmodels.api as sm"
   ]
  },
  {
   "cell_type": "code",
   "execution_count": 2,
   "metadata": {},
   "outputs": [],
   "source": [
    "foramt = \"{:.2}\"\n",
    "myformat = {'bias': foramt, 'rmse': foramt, 'swillmott': foramt, 'slopedev': foramt, 'const': foramt,\n",
    "                         'systematic': foramt, 'nonsystematic':foramt, \n",
    "                    'spread': foramt}"
   ]
  },
  {
   "cell_type": "code",
   "execution_count": 3,
   "metadata": {},
   "outputs": [],
   "source": [
    "def bias(df, obs, mod):\n",
    "    diffy = df[mod] - df[obs]\n",
    "    return diffy.count(), diffy.mean()"
   ]
  },
  {
   "cell_type": "code",
   "execution_count": 4,
   "metadata": {},
   "outputs": [],
   "source": [
    "def rmse(df, obs, mod):\n",
    "    return (np.sqrt(((df[mod] - df[obs])**2).mean()))"
   ]
  },
  {
   "cell_type": "code",
   "execution_count": 5,
   "metadata": {},
   "outputs": [],
   "source": [
    "def swillmott(df, obs, mod):\n",
    "    meanobs = df[obs].mean()\n",
    "    return (((df[mod] - df[obs])**2).sum()\n",
    "            /(( (df[mod] - meanobs).abs() + (df[obs] - meanobs).abs() )**2).sum())"
   ]
  },
  {
   "cell_type": "code",
   "execution_count": 6,
   "metadata": {},
   "outputs": [],
   "source": [
    "def slope_inter(df, obs, mod):\n",
    "    X = df[obs]\n",
    "    y = df[mod]\n",
    "    X2 = X**2\n",
    "    X2 = X**2\n",
    "    X3 = X**3\n",
    "    X4 = X**4\n",
    "    X5 = X**5\n",
    "    X6 = X**6\n",
    "    X = np.column_stack((X, X2, X3, X4, X5, X6))\n",
    "    X = sm.add_constant(X)\n",
    "\n",
    "    # Fit and make the predictions by the model\n",
    "    model = sm.OLS(y, X, missing='drop').fit()\n",
    "    predictions = model.predict(X)\n",
    "    \n",
    "    nonsyst = np.sqrt(((y - predictions)**2).mean())\n",
    "    systematic = np.sqrt(((predictions - df[obs])**2).mean())\n",
    "    # print (model.params)\n",
    "    return predictions, model.params['x2'], model.params['x1'], model.params['const'], systematic, nonsyst"
   ]
  },
  {
   "cell_type": "code",
   "execution_count": 7,
   "metadata": {},
   "outputs": [],
   "source": [
    "def spread(df, obs, mod):\n",
    "    return 1 - ((df[mod] - df[mod].mean())**2).mean() / ((df[obs] - df[obs].mean())**2).mean() "
   ]
  },
  {
   "cell_type": "code",
   "execution_count": 8,
   "metadata": {},
   "outputs": [],
   "source": [
    "def read_pieces(pieces):\n",
    "    temp1 = pd.read_csv(pieces[0])\n",
    "    if 'ferry' in pieces[0]:\n",
    "        temp1['k'] = 1.5\n",
    "    for piece in pieces[1:]:\n",
    "        nextpiece = pd.read_csv(piece)\n",
    "        if 'ferry' in piece:\n",
    "            nextpiece['k'] = 1.5\n",
    "        temp1 = pd.concat([temp1, nextpiece], ignore_index=True)\n",
    "    return temp1"
   ]
  },
  {
   "cell_type": "code",
   "execution_count": 9,
   "metadata": {},
   "outputs": [],
   "source": [
    "def plot_and_stats(temp1, name):\n",
    "    fig, ax = plt.subplots(1, 1, figsize=(6, 5))\n",
    "    vmax = 34\n",
    "    vmin = 0\n",
    "    condition = temp1.k < 5\n",
    "    title = 'Salinity top 5 m'\n",
    "    counts, xedges, yedges, color = ax.hist2d(temp1.SA[condition], temp1.mod_vosaline[condition], \n",
    "                                           bins=np.arange(vmin, vmax, 0.5), norm=LogNorm());\n",
    "    fig.colorbar(color)\n",
    "    number, tbias = bias(temp1[condition], 'SA', 'mod_vosaline')\n",
    "    trmse = rmse(temp1[condition], 'SA', 'mod_vosaline')\n",
    "    tswillmott = swillmott(temp1[condition], 'SA', 'mod_vosaline')\n",
    "    predictions, m2, m, c, syst, nonsyst = slope_inter(temp1[condition], 'SA', 'mod_vosaline')\n",
    "    tspread = spread(temp1[condition], 'SA', 'mod_vosaline')\n",
    "    ax.plot([vmin, vmax], [vmin, vmax], 'w-');\n",
    "    xr = np.arange(vmin, vmax, 0.5)\n",
    "    ax.plot(temp1.SA[condition], predictions, 'r.');\n",
    "    ax.arrow(3, 27, 0, 1-tbias/2, head_width=0.5, head_length=0.2, length_includes_head=True)\n",
    "    ax.arrow(3, 29, 0, -1+tbias/2, head_width=0.5, head_length=0.2, length_includes_head=True)\n",
    "    ax.arrow(4, 27, 0, 1-syst/2, head_width=0.5, head_length=0.2, length_includes_head=True)\n",
    "    ax.arrow(4, 29, 0, -1+syst/2, head_width=0.5, head_length=0.2, length_includes_head=True)\n",
    "    ax.arrow(5, 27, 0, 1-nonsyst/2, head_width=0.5, head_length=0.2, length_includes_head=True)\n",
    "    ax.arrow(5, 29, 0, -1+nonsyst/2, head_width=0.5, head_length=0.2, length_includes_head=True);\n",
    "    Cp2 = {'number': number,\n",
    "            'bias': tbias,\n",
    "          'rmse': trmse,\n",
    "          'swillmott': tswillmott,\n",
    "          'slopedev': 1-m,\n",
    "          'const': c,\n",
    "          'systematic': syst,\n",
    "          'nonsystematic': nonsyst,\n",
    "          'spread': tspread}\n",
    "    ax.text(3-0.2, 22, 'bias', rotation=90)\n",
    "    ax.text(4-0.2, 21, 'systematic', rotation=90)\n",
    "    ax.text(5-0.2, 20, 'non-systematic', rotation=90)\n",
    "    ax.set_title(f'{name}, {title}');\n",
    "    dCp2 = pd.DataFrame(data=Cp2, index=[name])\n",
    "    return dCp2\n"
   ]
  },
  {
   "cell_type": "code",
   "execution_count": 10,
   "metadata": {},
   "outputs": [],
   "source": [
    "pieces = ('/home/sallen/202007/H201812/ObsModel_H201812_ctd_20150101_20151231.csv',\n",
    "     #    '/home/sallen/202007/H201812/ObsModel_H201812_ctd_20160101_20161231.csv',\n",
    "     #    '/home/sallen/202007/H201812/ObsModel_H201812_ctd_20170101_20171231.csv',\n",
    "         '/home/sallen/202007/H201812/ObsModel_H201812_psfts_20150101_20151231.csv',\n",
    "      #   '/home/sallen/202007/H201812/ObsModel_H201812_psfts_20160101_20161231.csv',\n",
    "      #    '/home/sallen/202007/H201812/ObsModel_H201812_psfts_20170101_20171231.csv',\n",
    "          '/home/sallen/202007/H201812/ObsModel_H201812_pugts_20150101_20151231.csv',\n",
    "      #    '/home/sallen/202007/H201812/ObsModel_H201812_pugts_20160101_20161231.csv',\n",
    "      #    '/home/sallen/202007/H201812/ObsModel_H201812_pugts_20170101_20171231.csv',\n",
    "          '/home/sallen/202007/H201812/ObsModel_H201812_ferry_20150101_20151231.csv',\n",
    "      #    '/home/sallen/202007/H201812/ObsModel_H201812_ferry_20160101_20161231.csv',\n",
    "      #    '/home/sallen/202007/H201812/ObsModel_H201812_ferry_20170101_20171231.csv'\n",
    "         )"
   ]
  },
  {
   "cell_type": "code",
   "execution_count": 14,
   "metadata": {},
   "outputs": [
    {
     "data": {
      "text/html": [
       "<style type=\"text/css\">\n",
       "</style>\n",
       "<table id=\"T_29193_\">\n",
       "  <thead>\n",
       "    <tr>\n",
       "      <th class=\"blank level0\" >&nbsp;</th>\n",
       "      <th class=\"col_heading level0 col0\" >number</th>\n",
       "      <th class=\"col_heading level0 col1\" >bias</th>\n",
       "      <th class=\"col_heading level0 col2\" >rmse</th>\n",
       "      <th class=\"col_heading level0 col3\" >swillmott</th>\n",
       "      <th class=\"col_heading level0 col4\" >slopedev</th>\n",
       "      <th class=\"col_heading level0 col5\" >const</th>\n",
       "      <th class=\"col_heading level0 col6\" >systematic</th>\n",
       "      <th class=\"col_heading level0 col7\" >nonsystematic</th>\n",
       "      <th class=\"col_heading level0 col8\" >spread</th>\n",
       "    </tr>\n",
       "  </thead>\n",
       "  <tbody>\n",
       "    <tr>\n",
       "      <th id=\"T_29193_level0_row0\" class=\"row_heading level0 row0\" >H201812</th>\n",
       "      <td id=\"T_29193_row0_col0\" class=\"data row0 col0\" >1505</td>\n",
       "      <td id=\"T_29193_row0_col1\" class=\"data row0 col1\" >-0.86</td>\n",
       "      <td id=\"T_29193_row0_col2\" class=\"data row0 col2\" >2.3</td>\n",
       "      <td id=\"T_29193_row0_col3\" class=\"data row0 col3\" >0.068</td>\n",
       "      <td id=\"T_29193_row0_col4\" class=\"data row0 col4\" >3e+01</td>\n",
       "      <td id=\"T_29193_row0_col5\" class=\"data row0 col5\" >6.6e+01</td>\n",
       "      <td id=\"T_29193_row0_col6\" class=\"data row0 col6\" >0.82</td>\n",
       "      <td id=\"T_29193_row0_col7\" class=\"data row0 col7\" >2.0</td>\n",
       "      <td id=\"T_29193_row0_col8\" class=\"data row0 col8\" >-0.51</td>\n",
       "    </tr>\n",
       "  </tbody>\n",
       "</table>\n"
      ],
      "text/plain": [
       "<pandas.io.formats.style.Styler at 0x7f07d9837a00>"
      ]
     },
     "execution_count": 14,
     "metadata": {},
     "output_type": "execute_result"
    },
    {
     "data": {
      "image/png": "[encoded data removed]",
      "text/plain": [
       "<Figure size 432x360 with 2 Axes>"
      ]
     },
     "metadata": {
      "needs_background": "light"
     },
     "output_type": "display_data"
    }
   ],
   "source": [
    "temp1 = read_pieces(pieces)\n",
    "temp1['SA'] = temp1.SA.fillna(value=temp1['salinity (g/kg)'])\n",
    "#temp1['SA'] = temp1['salinity (g/kg)']\n",
    "temp1.drop(columns='Unnamed: 0', inplace=True)\n",
    "temp1.drop_duplicates(inplace=True)\n",
    "d201812 = plot_and_stats(temp1[temp1.Month < 7], 'H201812')\n",
    "d201812.style.format(myformat)"
   ]
  },
  {
   "cell_type": "code",
   "execution_count": 16,
   "metadata": {},
   "outputs": [],
   "source": [
    "pieces = ('/home/sallen/202007/H201905/ObsModel_H201905_ctd_20150101_20151231.csv',\n",
    "       #  '/home/sallen/202007/H201905/ObsModel_H201905_ctd_20160101_20161231.csv',\n",
    "       #  '/home/sallen/202007/H201905/ObsModel_H201905_ctd_20170101_20171231.csv',\n",
    "         '/home/sallen/202007/H201905/ObsModel_H201905_psfts_20150101_20151231.csv',\n",
    "       #  '/home/sallen/202007/H201905/ObsModel_H201905_psfts_20160101_20161231.csv',\n",
    "       #   '/home/sallen/202007/H201905/ObsModel_H201905_psfts_20170101_20171231.csv',\n",
    "          '/home/sallen/202007/H201905/ObsModel_H201905_pugts_20150101_20151231.csv',\n",
    "       #   '/home/sallen/202007/H201905/ObsModel_H201905_pugts_20160101_20161231.csv',\n",
    "       #   '/home/sallen/202007/H201905/ObsModel_H201905_pugts_20170101_20171231.csv',\n",
    "          '/home/sallen/202007/H201905/ObsModel_H201905_ferry_20150101_20151231.csv',\n",
    "       #   '/home/sallen/202007/H201905/ObsModel_H201905_ferry_20160101_20161231.csv',\n",
    "       #   '/home/sallen/202007/H201905/ObsModel_H201905_ferry_20170101_20171231.csv'\n",
    "         )"
   ]
  },
  {
   "cell_type": "code",
   "execution_count": 17,
   "metadata": {},
   "outputs": [
    {
     "data": {
      "text/html": [
       "<style type=\"text/css\">\n",
       "</style>\n",
       "<table id=\"T_f5152_\">\n",
       "  <thead>\n",
       "    <tr>\n",
       "      <th class=\"blank level0\" >&nbsp;</th>\n",
       "      <th class=\"col_heading level0 col0\" >number</th>\n",
       "      <th class=\"col_heading level0 col1\" >bias</th>\n",
       "      <th class=\"col_heading level0 col2\" >rmse</th>\n",
       "      <th class=\"col_heading level0 col3\" >swillmott</th>\n",
       "      <th class=\"col_heading level0 col4\" >slopedev</th>\n",
       "      <th class=\"col_heading level0 col5\" >const</th>\n",
       "      <th class=\"col_heading level0 col6\" >systematic</th>\n",
       "      <th class=\"col_heading level0 col7\" >nonsystematic</th>\n",
       "      <th class=\"col_heading level0 col8\" >spread</th>\n",
       "    </tr>\n",
       "  </thead>\n",
       "  <tbody>\n",
       "    <tr>\n",
       "      <th id=\"T_f5152_level0_row0\" class=\"row_heading level0 row0\" >H201905</th>\n",
       "      <td id=\"T_f5152_row0_col0\" class=\"data row0 col0\" >1505</td>\n",
       "      <td id=\"T_f5152_row0_col1\" class=\"data row0 col1\" >-0.89</td>\n",
       "      <td id=\"T_f5152_row0_col2\" class=\"data row0 col2\" >2.2</td>\n",
       "      <td id=\"T_f5152_row0_col3\" class=\"data row0 col3\" >0.062</td>\n",
       "      <td id=\"T_f5152_row0_col4\" class=\"data row0 col4\" >3.5e+01</td>\n",
       "      <td id=\"T_f5152_row0_col5\" class=\"data row0 col5\" >8.2e+01</td>\n",
       "      <td id=\"T_f5152_row0_col6\" class=\"data row0 col6\" >0.84</td>\n",
       "      <td id=\"T_f5152_row0_col7\" class=\"data row0 col7\" >1.9</td>\n",
       "      <td id=\"T_f5152_row0_col8\" class=\"data row0 col8\" >-0.46</td>\n",
       "    </tr>\n",
       "  </tbody>\n",
       "</table>\n"
      ],
      "text/plain": [
       "<pandas.io.formats.style.Styler at 0x7f07d59f6250>"
      ]
     },
     "execution_count": 17,
     "metadata": {},
     "output_type": "execute_result"
    },
    {
     "data": {
      "image/png": "[encoded data removed]",
      "text/plain": [
       "<Figure size 432x360 with 2 Axes>"
      ]
     },
     "metadata": {
      "needs_background": "light"
     },
     "output_type": "display_data"
    }
   ],
   "source": [
    "temp1 = read_pieces(pieces)\n",
    "temp1['SA'] = temp1.SA.fillna(value=temp1['salinity (g/kg)'])\n",
    "#temp1['SA'] = temp1['salinity (g/kg)']\n",
    "temp1.drop(columns='Unnamed: 0', inplace=True)\n",
    "temp1.drop_duplicates(inplace=True)\n",
    "d201905 = plot_and_stats(temp1[temp1.Month < 7], 'H201905')\n",
    "d201905.style.format(myformat)"
   ]
  },
  {
   "cell_type": "code",
   "execution_count": 18,
   "metadata": {},
   "outputs": [],
   "source": [
    "pieces = ('/home/sallen/202007/202007C-p2/ObsModel_202007Cp2_ctd_20150101_20151231.csv',\n",
    "         '/home/sallen/202007/202007C-p2/ObsModel_202007Cp2_TSPUG_20150101-20151231.csv',\n",
    "   #      '/home/sallen/202007/202007C-p2/ObsModel_202007Cp2_ctd_20160101_20161231.csv',\n",
    "   #      '/home/sallen/202007/202007C-p2/ObsModel_202007Cp2_TSPUG_20160101-20161231.csv',\n",
    "   #      '/home/sallen/202007/202007C-p2/ObsModel_202007Cp2_TS_20170101-20170331.csv',\n",
    "   #      '/home/sallen/202007/202007C-p2/ObsModel_202007Cp2_TS_20170401-20170630.csv',\n",
    "   #      '/home/sallen/202007/202007C-p2/ObsModel_202007Cp2_TS_20170701-20170930.csv',\n",
    "   #      '/home/sallen/202007/202007C-p2/ObsModel_202007Cp2_TS_20171001-20171231.csv',\n",
    "   #      '/home/sallen/202007/202007C-p2/ObsModel_202007Cp2_TSPUG_20170101-20171231.csv',\n",
    "         '/home/sallen/202007/202007C-p2/ObsModel_202007Cp2_ferry_20150101_20150331.csv',\n",
    "         '/home/sallen/202007/202007C-p2/ObsModel_202007Cp2_ferry_20150401_20150630.csv',\n",
    "   #      '/home/sallen/202007/202007C-p2/ObsModel_202007Cp2_ferry_20150701_20150930.csv',\n",
    "   #      '/home/sallen/202007/202007C-p2/ObsModel_202007Cp2_ferry_20151001_20151231.csv',\n",
    "   #      '/home/sallen/202007/202007C-p2/ObsModel_202007Cp2_ferry_20160101_20160331.csv',\n",
    "   #      '/home/sallen/202007/202007C-p2/ObsModel_202007Cp2_ferry_20160301_20160630.csv',\n",
    "   #      '/home/sallen/202007/202007C-p2/ObsModel_202007Cp2_ferry_20160601_20160930.csv',\n",
    "   #      '/home/sallen/202007/202007C-p2/ObsModel_202007Cp2_ferry_20161001_20161231.csv',\n",
    "   #      '/home/sallen/202007/202007C-p2/ObsModel_202007Cp2_ferry_20170101_20170331.csv',\n",
    "   #      '/home/sallen/202007/202007C-p2/ObsModel_202007Cp2_ferry_20170401_20170630.csv',\n",
    "   #      '/home/sallen/202007/202007C-p2/ObsModel_202007Cp2_ferry_20170701_20170930.csv',\n",
    "   #      '/home/sallen/202007/202007C-p2/ObsModel_202007Cp2_ferry_20171001_20171231.csv',\n",
    "         '/home/sallen/202007/202007C-p2/ObsModel_202007Cp2_psfts_20150101_20151231.csv',\n",
    "   #       '/home/sallen/202007/202007C-p2/ObsModel_202007Cp2_psfts_20160101_20161231.csv',\n",
    "   #       '/home/sallen/202007/202007C-p2/ObsModel_202007Cp2_psfts_20170101_20171231.csv'\n",
    "         )"
   ]
  },
  {
   "cell_type": "code",
   "execution_count": 19,
   "metadata": {},
   "outputs": [
    {
     "data": {
      "text/html": [
       "<style type=\"text/css\">\n",
       "</style>\n",
       "<table id=\"T_53c44_\">\n",
       "  <thead>\n",
       "    <tr>\n",
       "      <th class=\"blank level0\" >&nbsp;</th>\n",
       "      <th class=\"col_heading level0 col0\" >number</th>\n",
       "      <th class=\"col_heading level0 col1\" >bias</th>\n",
       "      <th class=\"col_heading level0 col2\" >rmse</th>\n",
       "      <th class=\"col_heading level0 col3\" >swillmott</th>\n",
       "      <th class=\"col_heading level0 col4\" >slopedev</th>\n",
       "      <th class=\"col_heading level0 col5\" >const</th>\n",
       "      <th class=\"col_heading level0 col6\" >systematic</th>\n",
       "      <th class=\"col_heading level0 col7\" >nonsystematic</th>\n",
       "      <th class=\"col_heading level0 col8\" >spread</th>\n",
       "    </tr>\n",
       "  </thead>\n",
       "  <tbody>\n",
       "    <tr>\n",
       "      <th id=\"T_53c44_level0_row0\" class=\"row_heading level0 row0\" >Cp2</th>\n",
       "      <td id=\"T_53c44_row0_col0\" class=\"data row0 col0\" >1505</td>\n",
       "      <td id=\"T_53c44_row0_col1\" class=\"data row0 col1\" >-0.84</td>\n",
       "      <td id=\"T_53c44_row0_col2\" class=\"data row0 col2\" >2.2</td>\n",
       "      <td id=\"T_53c44_row0_col3\" class=\"data row0 col3\" >0.063</td>\n",
       "      <td id=\"T_53c44_row0_col4\" class=\"data row0 col4\" >4.1e+01</td>\n",
       "      <td id=\"T_53c44_row0_col5\" class=\"data row0 col5\" >9.1e+01</td>\n",
       "      <td id=\"T_53c44_row0_col6\" class=\"data row0 col6\" >0.8</td>\n",
       "      <td id=\"T_53c44_row0_col7\" class=\"data row0 col7\" >2.0</td>\n",
       "      <td id=\"T_53c44_row0_col8\" class=\"data row0 col8\" >-0.48</td>\n",
       "    </tr>\n",
       "  </tbody>\n",
       "</table>\n"
      ],
      "text/plain": [
       "<pandas.io.formats.style.Styler at 0x7f07d45473a0>"
      ]
     },
     "execution_count": 19,
     "metadata": {},
     "output_type": "execute_result"
    },
    {
     "data": {
      "image/png": "[encoded data removed]",
      "text/plain": [
       "<Figure size 432x360 with 2 Axes>"
      ]
     },
     "metadata": {
      "needs_background": "light"
     },
     "output_type": "display_data"
    }
   ],
   "source": [
    "temp1 = read_pieces(pieces)\n",
    "temp1['SA'] = temp1.SA.fillna(value=temp1['salinity (g/kg)'])\n",
    "#temp1['SA'] = temp1['salinity (g/kg)']\n",
    "temp1.drop(columns='Unnamed: 0', inplace=True)\n",
    "temp1.drop_duplicates(inplace=True)\n",
    "dCp2 = plot_and_stats(temp1[temp1.Month < 7], 'Cp2')\n",
    "dCp2.style.format(myformat)"
   ]
  },
  {
   "cell_type": "code",
   "execution_count": 20,
   "metadata": {},
   "outputs": [],
   "source": [
    "pieces = ('/home/sallen/202007/202007D-again/ObsModel_202007D-again_TS_20150101-20150331.csv',\n",
    "         '/home/sallen/202007/202007D-again/ObsModel_202007D-again_TS_20150401-20150630.csv',\n",
    " #        '/home/sallen/202007/202007D-again/ObsModel_202007D-again_TS_20150701-20150930.csv',\n",
    " #        '/home/sallen/202007/202007D-again/ObsModel_202007D-again_TS_20151001-20151231.csv',\n",
    "          '/home/sallen/202007/202007D-again/ObsModel_202007D-again_psfts_20150101_20151231.csv',\n",
    "         '/home/sallen/202007/202007D-again/ObsModel_202007D-again_pugts_20150101_20151231.csv',\n",
    " #         '/home/sallen/202007/202007D-again/ObsModel_202007D-again_ctd_20160101_20161231.csv',\n",
    " #         '/home/sallen/202007/202007D-again/ObsModel_202007D-again_psfts_20160101_20161231.csv',\n",
    " #         '/home/sallen/202007/202007D-again/ObsModel_202007D-again_pugts_20160101_20161231.csv',\n",
    " #         '/home/sallen/202007/202007D-again/ObsModel_202007D-again_ctd_20170101_20171231.csv',\n",
    " #         '/home/sallen/202007/202007D-again/ObsModel_202007D-again_psfts_20170101_20171231.csv',\n",
    " #         '/home/sallen/202007/202007D-again/ObsModel_202007D-again_pugts_20170101_20171231.csv',\n",
    "          '/home/sallen/202007/202007D-again/ObsModel_202007D-again_ferry_20150101_20151231.csv',\n",
    " #         '/home/sallen/202007/202007D-again/ObsModel_202007D-again_ferry_20160101_20161231.csv',\n",
    " #         '/home/sallen/202007/202007D-again/ObsModel_202007D-again_ferry_20170101_20171231.csv'\n",
    "        )"
   ]
  },
  {
   "cell_type": "code",
   "execution_count": 21,
   "metadata": {},
   "outputs": [
    {
     "data": {
      "text/html": [
       "<style type=\"text/css\">\n",
       "</style>\n",
       "<table id=\"T_f5d6e_\">\n",
       "  <thead>\n",
       "    <tr>\n",
       "      <th class=\"blank level0\" >&nbsp;</th>\n",
       "      <th class=\"col_heading level0 col0\" >number</th>\n",
       "      <th class=\"col_heading level0 col1\" >bias</th>\n",
       "      <th class=\"col_heading level0 col2\" >rmse</th>\n",
       "      <th class=\"col_heading level0 col3\" >swillmott</th>\n",
       "      <th class=\"col_heading level0 col4\" >slopedev</th>\n",
       "      <th class=\"col_heading level0 col5\" >const</th>\n",
       "      <th class=\"col_heading level0 col6\" >systematic</th>\n",
       "      <th class=\"col_heading level0 col7\" >nonsystematic</th>\n",
       "      <th class=\"col_heading level0 col8\" >spread</th>\n",
       "    </tr>\n",
       "  </thead>\n",
       "  <tbody>\n",
       "    <tr>\n",
       "      <th id=\"T_f5d6e_level0_row0\" class=\"row_heading level0 row0\" >Dagain</th>\n",
       "      <td id=\"T_f5d6e_row0_col0\" class=\"data row0 col0\" >1484</td>\n",
       "      <td id=\"T_f5d6e_row0_col1\" class=\"data row0 col1\" >-0.89</td>\n",
       "      <td id=\"T_f5d6e_row0_col2\" class=\"data row0 col2\" >2.2</td>\n",
       "      <td id=\"T_f5d6e_row0_col3\" class=\"data row0 col3\" >0.068</td>\n",
       "      <td id=\"T_f5d6e_row0_col4\" class=\"data row0 col4\" >3.3e+01</td>\n",
       "      <td id=\"T_f5d6e_row0_col5\" class=\"data row0 col5\" >7.4e+01</td>\n",
       "      <td id=\"T_f5d6e_row0_col6\" class=\"data row0 col6\" >0.91</td>\n",
       "      <td id=\"T_f5d6e_row0_col7\" class=\"data row0 col7\" >2.0</td>\n",
       "      <td id=\"T_f5d6e_row0_col8\" class=\"data row0 col8\" >-0.42</td>\n",
       "    </tr>\n",
       "  </tbody>\n",
       "</table>\n"
      ],
      "text/plain": [
       "<pandas.io.formats.style.Styler at 0x7f07d5905bb0>"
      ]
     },
     "execution_count": 21,
     "metadata": {},
     "output_type": "execute_result"
    },
    {
     "data": {
      "image/png": "[encoded data removed]",
      "text/plain": [
       "<Figure size 432x360 with 2 Axes>"
      ]
     },
     "metadata": {
      "needs_background": "light"
     },
     "output_type": "display_data"
    }
   ],
   "source": [
    "temp1 = read_pieces(pieces)\n",
    "temp1['SA'] = temp1.SA.fillna(value=temp1['salinity (g/kg)'])\n",
    "#temp1['SA'] = temp1['salinity (g/kg)']\n",
    "temp1.drop(columns='Unnamed: 0', inplace=True)\n",
    "temp1.drop_duplicates(inplace=True)\n",
    "Dagain = plot_and_stats(temp1[temp1.Month < 7], 'Dagain')\n",
    "Dagain.style.format(myformat)"
   ]
  },
  {
   "cell_type": "code",
   "execution_count": 23,
   "metadata": {},
   "outputs": [],
   "source": [
    "pieces = ('/home/sallen/202007/202007D-nociliates/ObsModel_202007D-nociliates_ctd_20150101_20151231.csv',\n",
    "  #      '/home/sallen/202007/202007D-nociliates/ObsModel_202007D-nociliates_ctd_20160101_20161231.csv',\n",
    "  #      '/home/sallen/202007/202007D-nociliates/ObsModel_202007D-nociliates_ctd_20170101_20171231.csv',\n",
    "        '/home/sallen/202007/202007D-nociliates/ObsModel_202007D-nociliates_psfts_20150101_20151231.csv',\n",
    "  #      '/home/sallen/202007/202007D-nociliates/ObsModel_202007D-nociliates_psfts_20160101_20161231.csv',\n",
    "  #      '/home/sallen/202007/202007D-nociliates/ObsModel_202007D-nociliates_psfts_20170101_20171231.csv',\n",
    "        '/home/sallen/202007/202007D-nociliates/ObsModel_202007D-nociliates_pugts_20150101_20151231.csv',\n",
    "  #      '/home/sallen/202007/202007D-nociliates/ObsModel_202007D-nociliates_pugts_20160101_20161231.csv',\n",
    "  #      '/home/sallen/202007/202007D-nociliates/ObsModel_202007D-nociliates_pugts_20170101_20171231.csv',         \n",
    "         '/home/sallen/202007/202007D-nociliates/ObsModel_202007D-nociliates_ferry_20150101_20151231.csv',     \n",
    "  #       '/home/sallen/202007/202007D-nociliates/ObsModel_202007D-nociliates_ferry_20160101_20161231.csv',\n",
    "  #       '/home/sallen/202007/202007D-nociliates/ObsModel_202007D-nociliates_ferry_20170101_20171231.csv'\n",
    "         )"
   ]
  },
  {
   "cell_type": "code",
   "execution_count": 24,
   "metadata": {},
   "outputs": [
    {
     "data": {
      "text/html": [
       "<style type=\"text/css\">\n",
       "</style>\n",
       "<table id=\"T_1539d_\">\n",
       "  <thead>\n",
       "    <tr>\n",
       "      <th class=\"blank level0\" >&nbsp;</th>\n",
       "      <th class=\"col_heading level0 col0\" >number</th>\n",
       "      <th class=\"col_heading level0 col1\" >bias</th>\n",
       "      <th class=\"col_heading level0 col2\" >rmse</th>\n",
       "      <th class=\"col_heading level0 col3\" >swillmott</th>\n",
       "      <th class=\"col_heading level0 col4\" >slopedev</th>\n",
       "      <th class=\"col_heading level0 col5\" >const</th>\n",
       "      <th class=\"col_heading level0 col6\" >systematic</th>\n",
       "      <th class=\"col_heading level0 col7\" >nonsystematic</th>\n",
       "      <th class=\"col_heading level0 col8\" >spread</th>\n",
       "    </tr>\n",
       "  </thead>\n",
       "  <tbody>\n",
       "    <tr>\n",
       "      <th id=\"T_1539d_level0_row0\" class=\"row_heading level0 row0\" >D-noCil</th>\n",
       "      <td id=\"T_1539d_row0_col0\" class=\"data row0 col0\" >1505</td>\n",
       "      <td id=\"T_1539d_row0_col1\" class=\"data row0 col1\" >-0.93</td>\n",
       "      <td id=\"T_1539d_row0_col2\" class=\"data row0 col2\" >2.3</td>\n",
       "      <td id=\"T_1539d_row0_col3\" class=\"data row0 col3\" >0.068</td>\n",
       "      <td id=\"T_1539d_row0_col4\" class=\"data row0 col4\" >2.6e+01</td>\n",
       "      <td id=\"T_1539d_row0_col5\" class=\"data row0 col5\" >5.5e+01</td>\n",
       "      <td id=\"T_1539d_row0_col6\" class=\"data row0 col6\" >0.87</td>\n",
       "      <td id=\"T_1539d_row0_col7\" class=\"data row0 col7\" >2.1</td>\n",
       "      <td id=\"T_1539d_row0_col8\" class=\"data row0 col8\" >-0.56</td>\n",
       "    </tr>\n",
       "  </tbody>\n",
       "</table>\n"
      ],
      "text/plain": [
       "<pandas.io.formats.style.Styler at 0x7f07d44ce700>"
      ]
     },
     "execution_count": 24,
     "metadata": {},
     "output_type": "execute_result"
    },
    {
     "data": {
      "image/png": "[encoded data removed]",
      "text/plain": [
       "<Figure size 432x360 with 2 Axes>"
      ]
     },
     "metadata": {
      "needs_background": "light"
     },
     "output_type": "display_data"
    }
   ],
   "source": [
    "temp1 = read_pieces(pieces)\n",
    "temp1['SA'] = temp1.SA.fillna(value=temp1['salinity (g/kg)'])\n",
    "#temp1['SA'] = temp1['salinity (g/kg)']\n",
    "temp1.drop(columns='Unnamed: 0', inplace=True)\n",
    "temp1.drop_duplicates(inplace=True)\n",
    "DnoC = plot_and_stats(temp1[temp1.Month < 7], 'D-noCil')\n",
    "DnoC.style.format(myformat)"
   ]
  },
  {
   "cell_type": "code",
   "execution_count": 25,
   "metadata": {},
   "outputs": [],
   "source": [
    "pieces = ('/home/sallen/202007/202007D-lowR/ObsModel_202007D-lowR_ctd_20150101_20151231.csv',\n",
    "          '/home/sallen/202007/202007D-lowR/ObsModel_202007D-lowR_psfts_20150101_20151231.csv',\n",
    "         '/home/sallen/202007/202007D-lowR/ObsModel_202007D-lowR_pugts_20150101_20151231.csv',\n",
    "      #   '/home/sallen/202007/202007D-lowR/ObsModel_202007D-lowR_ctd_20160101_20161231.csv',\n",
    "      #    '/home/sallen/202007/202007D-lowR/ObsModel_202007D-lowR_psfts_20160101_20161231.csv',\n",
    "      #   '/home/sallen/202007/202007D-lowR/ObsModel_202007D-lowR_pugts_20160101_20161231.csv',\n",
    "      #   '/home/sallen/202007/202007D-lowR/ObsModel_202007D-lowR_ctd_20170101_20171231.csv',\n",
    "      #    '/home/sallen/202007/202007D-lowR/ObsModel_202007D-lowR_psfts_20170101_20171231.csv',\n",
    "      #   '/home/sallen/202007/202007D-lowR/ObsModel_202007D-lowR_pugts_20170101_20171231.csv',\n",
    "         '/home/sallen/202007/202007D-lowR/ObsModel_202007D-lowR_ferry_20150101_20151231.csv',\n",
    "      #   '/home/sallen/202007/202007D-lowR/ObsModel_202007D-lowR_ferry_20160101_20161231.csv',\n",
    "      #   '/home/sallen/202007/202007D-lowR/ObsModel_202007D-lowR_ferry_20170101_20171231.csv'\n",
    "         )"
   ]
  },
  {
   "cell_type": "code",
   "execution_count": 26,
   "metadata": {},
   "outputs": [
    {
     "data": {
      "text/html": [
       "<style type=\"text/css\">\n",
       "</style>\n",
       "<table id=\"T_de48d_\">\n",
       "  <thead>\n",
       "    <tr>\n",
       "      <th class=\"blank level0\" >&nbsp;</th>\n",
       "      <th class=\"col_heading level0 col0\" >number</th>\n",
       "      <th class=\"col_heading level0 col1\" >bias</th>\n",
       "      <th class=\"col_heading level0 col2\" >rmse</th>\n",
       "      <th class=\"col_heading level0 col3\" >swillmott</th>\n",
       "      <th class=\"col_heading level0 col4\" >slopedev</th>\n",
       "      <th class=\"col_heading level0 col5\" >const</th>\n",
       "      <th class=\"col_heading level0 col6\" >systematic</th>\n",
       "      <th class=\"col_heading level0 col7\" >nonsystematic</th>\n",
       "      <th class=\"col_heading level0 col8\" >spread</th>\n",
       "    </tr>\n",
       "  </thead>\n",
       "  <tbody>\n",
       "    <tr>\n",
       "      <th id=\"T_de48d_level0_row0\" class=\"row_heading level0 row0\" >D-lowR</th>\n",
       "      <td id=\"T_de48d_row0_col0\" class=\"data row0 col0\" >1505</td>\n",
       "      <td id=\"T_de48d_row0_col1\" class=\"data row0 col1\" >-0.9</td>\n",
       "      <td id=\"T_de48d_row0_col2\" class=\"data row0 col2\" >2.3</td>\n",
       "      <td id=\"T_de48d_row0_col3\" class=\"data row0 col3\" >0.071</td>\n",
       "      <td id=\"T_de48d_row0_col4\" class=\"data row0 col4\" >6.1e+01</td>\n",
       "      <td id=\"T_de48d_row0_col5\" class=\"data row0 col5\" >1.4e+02</td>\n",
       "      <td id=\"T_de48d_row0_col6\" class=\"data row0 col6\" >0.92</td>\n",
       "      <td id=\"T_de48d_row0_col7\" class=\"data row0 col7\" >2.0</td>\n",
       "      <td id=\"T_de48d_row0_col8\" class=\"data row0 col8\" >-0.49</td>\n",
       "    </tr>\n",
       "  </tbody>\n",
       "</table>\n"
      ],
      "text/plain": [
       "<pandas.io.formats.style.Styler at 0x7f07d4482f70>"
      ]
     },
     "execution_count": 26,
     "metadata": {},
     "output_type": "execute_result"
    },
    {
     "data": {
      "image/png": "[encoded data removed]",
      "text/plain": [
       "<Figure size 432x360 with 2 Axes>"
      ]
     },
     "metadata": {
      "needs_background": "light"
     },
     "output_type": "display_data"
    }
   ],
   "source": [
    "temp1 = read_pieces(pieces)\n",
    "temp1['SA'] = temp1.SA.fillna(value=temp1['salinity (g/kg)'])\n",
    "#temp1['SA'] = temp1['salinity (g/kg)']\n",
    "temp1.drop(columns='Unnamed: 0', inplace=True)\n",
    "temp1.drop_duplicates(inplace=True)\n",
    "DlowR = plot_and_stats(temp1[temp1.Month < 7], 'D-lowR')\n",
    "DlowR.style.format(myformat)"
   ]
  },
  {
   "cell_type": "code",
   "execution_count": 44,
   "metadata": {},
   "outputs": [],
   "source": [
    "pieces = (\n",
    "  #       '/home//sallen/202007/202007C-p3/ObsModel_202007Cp3_ctd_20150101_20151231.csv',\n",
    " #        '/home//sallen/202007/202007C-p3/ObsModel_202007Cp3_ctd_20160101_20161231.csv',\n",
    " #         '/home//sallen/202007/202007C-p3/ObsModel_202007Cp3_ctd_20170101_20171231.csv',\n",
    "  #       '/home//sallen/202007/202007C-p3/ObsModel_202007Cp3_TSPUG_20150101-20151231.csv',\n",
    " #        '/home//sallen/202007/202007C-p3/ObsModel_202007Cp3_pugts_20160101_20161231.csv',\n",
    " #        '/home//sallen/202007/202007C-p3/ObsModel_202007Cp3_pugts_20170101_20171231.csv',\n",
    "  #       '/home//sallen/202007/202007C-p3/ObsModel_202007Cp3_psfts_20150101_20151231.csv',\n",
    "  #       '/home//sallen/202007/202007C-p3/ObsModel_202007Cp3_psfts_20160101_20161231.csv',\n",
    "  #       '/home//sallen/202007/202007C-p3/ObsModel_202007Cp3_psfts_20170101_20171231.csv',\n",
    "         '/home//sallen/202007/202007C-p3/ObsModel_202007Cp3_ferry_20150101_20150331.csv',\n",
    "        '/home//sallen/202007/202007C-p3/ObsModel_202007Cp3_ferry_20150401_20150630.csv',\n",
    "   #     '/home//sallen/202007/202007C-p3/ObsModel_202007Cp3_ferry_20150701_20150930.csv',\n",
    "   #     '/home//sallen/202007/202007C-p3/ObsModel_202007Cp3_ferry_20151001_20151231.csv',\n",
    "   #      '/home//sallen/202007/202007C-p3/ObsModel_202007Cp3_ferry_20160101_20160331.csv',\n",
    "   # '/home//sallen/202007/202007C-p3/ObsModel_202007Cp3_ferry_20160401_20160630.csv',\n",
    "   # '/home//sallen/202007/202007C-p3/ObsModel_202007Cp3_ferry_20160701_20160930.csv',\n",
    "   # '/home//sallen/202007/202007C-p3/ObsModel_202007Cp3_ferry_20161001_20161231.csv',\n",
    "   #      '/home//sallen/202007/202007C-p3/ObsModel_202007Cp3_ferry_20170101_20171231.csv'\n",
    ")"
   ]
  },
  {
   "cell_type": "code",
   "execution_count": 47,
   "metadata": {},
   "outputs": [
    {
     "data": {
      "text/html": [
       "<style type=\"text/css\">\n",
       "</style>\n",
       "<table id=\"T_20f1c_\">\n",
       "  <thead>\n",
       "    <tr>\n",
       "      <th class=\"blank level0\" >&nbsp;</th>\n",
       "      <th class=\"col_heading level0 col0\" >number</th>\n",
       "      <th class=\"col_heading level0 col1\" >bias</th>\n",
       "      <th class=\"col_heading level0 col2\" >rmse</th>\n",
       "      <th class=\"col_heading level0 col3\" >swillmott</th>\n",
       "      <th class=\"col_heading level0 col4\" >slopedev</th>\n",
       "      <th class=\"col_heading level0 col5\" >const</th>\n",
       "      <th class=\"col_heading level0 col6\" >systematic</th>\n",
       "      <th class=\"col_heading level0 col7\" >nonsystematic</th>\n",
       "      <th class=\"col_heading level0 col8\" >spread</th>\n",
       "    </tr>\n",
       "  </thead>\n",
       "  <tbody>\n",
       "    <tr>\n",
       "      <th id=\"T_20f1c_level0_row0\" class=\"row_heading level0 row0\" >Cp3</th>\n",
       "      <td id=\"T_20f1c_row0_col0\" class=\"data row0 col0\" >94347</td>\n",
       "      <td id=\"T_20f1c_row0_col1\" class=\"data row0 col1\" >2.0</td>\n",
       "      <td id=\"T_20f1c_row0_col2\" class=\"data row0 col2\" >5.2</td>\n",
       "      <td id=\"T_20f1c_row0_col3\" class=\"data row0 col3\" >0.23</td>\n",
       "      <td id=\"T_20f1c_row0_col4\" class=\"data row0 col4\" >-1.4</td>\n",
       "      <td id=\"T_20f1c_row0_col5\" class=\"data row0 col5\" >9.2</td>\n",
       "      <td id=\"T_20f1c_row0_col6\" class=\"data row0 col6\" >4.0</td>\n",
       "      <td id=\"T_20f1c_row0_col7\" class=\"data row0 col7\" >3.4</td>\n",
       "      <td id=\"T_20f1c_row0_col8\" class=\"data row0 col8\" >0.49</td>\n",
       "    </tr>\n",
       "  </tbody>\n",
       "</table>\n"
      ],
      "text/plain": [
       "<pandas.io.formats.style.Styler at 0x7f07d4476e50>"
      ]
     },
     "execution_count": 47,
     "metadata": {},
     "output_type": "execute_result"
    },
    {
     "data": {
      "image/png": "[encoded data removed]",
      "text/plain": [
       "<Figure size 432x360 with 2 Axes>"
      ]
     },
     "metadata": {
      "needs_background": "light"
     },
     "output_type": "display_data"
    }
   ],
   "source": [
    "temp1 = read_pieces(pieces)\n",
    "#emp1['SA'] = temp1.SA.fillna(value=temp1['salinity (g/kg)'])\n",
    "temp1['SA'] = temp1['salinity (g/kg)']\n",
    "temp1.drop(columns='Unnamed: 0', inplace=True)\n",
    "temp1.drop_duplicates(inplace=True)\n",
    "modCp3 = plot_and_stats(temp1, 'Cp3')\n",
    "modCp3.style.format(myformat)"
   ]
  },
  {
   "cell_type": "code",
   "execution_count": 30,
   "metadata": {},
   "outputs": [],
   "source": [
    "pieces = ('/home/sallen/202007/202007F/ObsModel_202007F_ctd_20150101_20151231.csv',\n",
    "          '/home/sallen/202007/202007F/ObsModel_202007F_psfts_20150101_20151231.csv',\n",
    "         '/home/sallen/202007/202007F/ObsModel_202007F_pugts_20150101_20151231.csv',\n",
    "        # '/home/sallen/202007/202007F/ObsModel_202007F_ctd_20160101_20161231.csv',\n",
    "        #  '/home/sallen/202007/202007F/ObsModel_202007F_psfts_20160101_20161231.csv',\n",
    "        # '/home/sallen/202007/202007F/ObsModel_202007F_pugts_20160101_20161231.csv',\n",
    "        # '/home/sallen/202007/202007F/ObsModel_202007F_ctd_20170101_20171231.csv',\n",
    "        #  '/home/sallen/202007/202007F/ObsModel_202007F_psfts_20170101_20171231.csv',\n",
    "        # '/home/sallen/202007/202007F/ObsModel_202007F_pugts_20170101_20171231.csv',\n",
    "         '/home/sallen/202007/202007F/ObsModel_202007F_ferry_20150101_20151231.csv',\n",
    "        # '/home/sallen/202007/202007F/ObsModel_202007F_ferry_20160101_20161231.csv',\n",
    "        # '/home/sallen/202007/202007F/ObsModel_202007F_ferry_20170101_20171231.csv'\n",
    "         )"
   ]
  },
  {
   "cell_type": "code",
   "execution_count": 31,
   "metadata": {},
   "outputs": [
    {
     "data": {
      "text/html": [
       "<style type=\"text/css\">\n",
       "</style>\n",
       "<table id=\"T_21160_\">\n",
       "  <thead>\n",
       "    <tr>\n",
       "      <th class=\"blank level0\" >&nbsp;</th>\n",
       "      <th class=\"col_heading level0 col0\" >number</th>\n",
       "      <th class=\"col_heading level0 col1\" >bias</th>\n",
       "      <th class=\"col_heading level0 col2\" >rmse</th>\n",
       "      <th class=\"col_heading level0 col3\" >swillmott</th>\n",
       "      <th class=\"col_heading level0 col4\" >slopedev</th>\n",
       "      <th class=\"col_heading level0 col5\" >const</th>\n",
       "      <th class=\"col_heading level0 col6\" >systematic</th>\n",
       "      <th class=\"col_heading level0 col7\" >nonsystematic</th>\n",
       "      <th class=\"col_heading level0 col8\" >spread</th>\n",
       "    </tr>\n",
       "  </thead>\n",
       "  <tbody>\n",
       "    <tr>\n",
       "      <th id=\"T_21160_level0_row0\" class=\"row_heading level0 row0\" >F</th>\n",
       "      <td id=\"T_21160_row0_col0\" class=\"data row0 col0\" >1505</td>\n",
       "      <td id=\"T_21160_row0_col1\" class=\"data row0 col1\" >-0.65</td>\n",
       "      <td id=\"T_21160_row0_col2\" class=\"data row0 col2\" >2.1</td>\n",
       "      <td id=\"T_21160_row0_col3\" class=\"data row0 col3\" >0.06</td>\n",
       "      <td id=\"T_21160_row0_col4\" class=\"data row0 col4\" >5.2e+01</td>\n",
       "      <td id=\"T_21160_row0_col5\" class=\"data row0 col5\" >1.2e+02</td>\n",
       "      <td id=\"T_21160_row0_col6\" class=\"data row0 col6\" >0.69</td>\n",
       "      <td id=\"T_21160_row0_col7\" class=\"data row0 col7\" >1.9</td>\n",
       "      <td id=\"T_21160_row0_col8\" class=\"data row0 col8\" >-0.43</td>\n",
       "    </tr>\n",
       "  </tbody>\n",
       "</table>\n"
      ],
      "text/plain": [
       "<pandas.io.formats.style.Styler at 0x7f07d34ce730>"
      ]
     },
     "execution_count": 31,
     "metadata": {},
     "output_type": "execute_result"
    },
    {
     "data": {
      "image/png": "[encoded data removed]",
      "text/plain": [
       "<Figure size 432x360 with 2 Axes>"
      ]
     },
     "metadata": {
      "needs_background": "light"
     },
     "output_type": "display_data"
    }
   ],
   "source": [
    "temp1 = read_pieces(pieces)\n",
    "temp1['SA'] = temp1.SA.fillna(value=temp1['salinity (g/kg)'])\n",
    "#temp1['SA'] = temp1['salinity (g/kg)']\n",
    "temp1.drop(columns='Unnamed: 0', inplace=True)\n",
    "temp1.drop_duplicates(inplace=True)\n",
    "modF = plot_and_stats(temp1[temp1.Month < 7], 'F')\n",
    "modF.style.format(myformat)"
   ]
  },
  {
   "cell_type": "code",
   "execution_count": 48,
   "metadata": {},
   "outputs": [],
   "source": [
    "pieces = (#'/home/sallen/202007/202007G-p1/ObsModel_202007Gp1_ctd_20150101_20150331.csv', \n",
    "          #'/home/sallen/202007/202007G-p1/ObsModel_202007Gp1_ctd_20150401_20150630.csv',\n",
    "          #'/home/sallen/202007/202007G-p1/ObsModel_202007Gp1_psfts_20150101_20150331.csv',\n",
    "          #'/home/sallen/202007/202007G-p1/ObsModel_202007Gp1_psfts_20150401_20150630.csv',\n",
    "          #'/home/sallen/202007/202007G-p1/ObsModel_202007Gp1_pugts_20150101_20150331.csv',\n",
    "          #'/home/sallen/202007/202007G-p1/ObsModel_202007Gp1_pugts_20150401_20150630.csv',\n",
    "          '/home/sallen/202007/202007G-p1/ObsModel_202007Gp1_ferry_20150101_20150331.csv',\n",
    "          '/home/sallen/202007/202007G-p1/ObsModel_202007Gp1_ferry_20150401_20150630.csv',\n",
    "         )"
   ]
  },
  {
   "cell_type": "code",
   "execution_count": 49,
   "metadata": {},
   "outputs": [
    {
     "data": {
      "text/html": [
       "<style type=\"text/css\">\n",
       "</style>\n",
       "<table id=\"T_d9675_\">\n",
       "  <thead>\n",
       "    <tr>\n",
       "      <th class=\"blank level0\" >&nbsp;</th>\n",
       "      <th class=\"col_heading level0 col0\" >number</th>\n",
       "      <th class=\"col_heading level0 col1\" >bias</th>\n",
       "      <th class=\"col_heading level0 col2\" >rmse</th>\n",
       "      <th class=\"col_heading level0 col3\" >swillmott</th>\n",
       "      <th class=\"col_heading level0 col4\" >slopedev</th>\n",
       "      <th class=\"col_heading level0 col5\" >const</th>\n",
       "      <th class=\"col_heading level0 col6\" >systematic</th>\n",
       "      <th class=\"col_heading level0 col7\" >nonsystematic</th>\n",
       "      <th class=\"col_heading level0 col8\" >spread</th>\n",
       "    </tr>\n",
       "  </thead>\n",
       "  <tbody>\n",
       "    <tr>\n",
       "      <th id=\"T_d9675_level0_row0\" class=\"row_heading level0 row0\" >Gp1</th>\n",
       "      <td id=\"T_d9675_row0_col0\" class=\"data row0 col0\" >94347</td>\n",
       "      <td id=\"T_d9675_row0_col1\" class=\"data row0 col1\" >2.0</td>\n",
       "      <td id=\"T_d9675_row0_col2\" class=\"data row0 col2\" >4.8</td>\n",
       "      <td id=\"T_d9675_row0_col3\" class=\"data row0 col3\" >0.19</td>\n",
       "      <td id=\"T_d9675_row0_col4\" class=\"data row0 col4\" >0.82</td>\n",
       "      <td id=\"T_d9675_row0_col5\" class=\"data row0 col5\" >1.5e+01</td>\n",
       "      <td id=\"T_d9675_row0_col6\" class=\"data row0 col6\" >3.6</td>\n",
       "      <td id=\"T_d9675_row0_col7\" class=\"data row0 col7\" >3.2</td>\n",
       "      <td id=\"T_d9675_row0_col8\" class=\"data row0 col8\" >0.45</td>\n",
       "    </tr>\n",
       "  </tbody>\n",
       "</table>\n"
      ],
      "text/plain": [
       "<pandas.io.formats.style.Styler at 0x7f07d18590d0>"
      ]
     },
     "execution_count": 49,
     "metadata": {},
     "output_type": "execute_result"
    },
    {
     "data": {
      "image/png": "[encoded data removed]",
      "text/plain": [
       "<Figure size 432x360 with 2 Axes>"
      ]
     },
     "metadata": {
      "needs_background": "light"
     },
     "output_type": "display_data"
    }
   ],
   "source": [
    "temp1 = read_pieces(pieces)\n",
    "#temp1['SA'] = temp1.SA.fillna(value=temp1['salinity (g/kg)'])\n",
    "temp1['SA'] = temp1['salinity (g/kg)']\n",
    "temp1.drop(columns='Unnamed: 0', inplace=True)\n",
    "temp1.drop_duplicates(inplace=True)\n",
    "modGp1 = plot_and_stats(temp1, 'Gp1')\n",
    "modGp1.style.format(myformat)"
   ]
  },
  {
   "cell_type": "code",
   "execution_count": 34,
   "metadata": {},
   "outputs": [],
   "source": [
    "def highlight_max_min(s):\n",
    "    '''\n",
    "    highlight the maximum in a Series yellow.\n",
    "    '''\n",
    "    is_max = abs(s) == abs(s).max()\n",
    "    is_min = abs(s) == abs(s).min()\n",
    "    color = []\n",
    "    for v, v2 in zip(is_max, is_min):\n",
    "        if v:\n",
    "            color.append('red')\n",
    "        elif v2:\n",
    "            color.append('darkgreen')\n",
    "        else:\n",
    "            color.append('black')\n",
    "    return ['color: %s' % color[i] for i in range(len(is_max))]"
   ]
  },
  {
   "cell_type": "code",
   "execution_count": 50,
   "metadata": {},
   "outputs": [
    {
     "data": {
      "text/html": [
       "<style type=\"text/css\">\n",
       "#T_0b375_row0_col0, #T_0b375_row0_col1, #T_0b375_row0_col2, #T_0b375_row0_col3, #T_0b375_row0_col4, #T_0b375_row0_col5, #T_0b375_row0_col6, #T_0b375_row0_col8, #T_0b375_row1_col0, #T_0b375_row1_col1, #T_0b375_row1_col2, #T_0b375_row1_col3, #T_0b375_row1_col4, #T_0b375_row1_col5, #T_0b375_row1_col6, #T_0b375_row1_col7, #T_0b375_row1_col8, #T_0b375_row2_col1, #T_0b375_row2_col2, #T_0b375_row2_col3, #T_0b375_row2_col4, #T_0b375_row2_col5, #T_0b375_row2_col6, #T_0b375_row2_col7, #T_0b375_row3_col0, #T_0b375_row3_col1, #T_0b375_row3_col2, #T_0b375_row3_col3, #T_0b375_row3_col4, #T_0b375_row3_col5, #T_0b375_row3_col6, #T_0b375_row3_col7, #T_0b375_row4_col0, #T_0b375_row4_col1, #T_0b375_row4_col2, #T_0b375_row4_col3, #T_0b375_row4_col6, #T_0b375_row4_col7, #T_0b375_row4_col8, #T_0b375_row5_col4, #T_0b375_row5_col8, #T_0b375_row6_col0, #T_0b375_row6_col4, #T_0b375_row6_col5, #T_0b375_row6_col7, #T_0b375_row6_col8, #T_0b375_row7_col1, #T_0b375_row7_col2, #T_0b375_row7_col3, #T_0b375_row7_col5, #T_0b375_row7_col6, #T_0b375_row7_col7, #T_0b375_row7_col8 {\n",
       "  color: black;\n",
       "}\n",
       "#T_0b375_row0_col7, #T_0b375_row2_col0, #T_0b375_row2_col8, #T_0b375_row5_col5, #T_0b375_row6_col1, #T_0b375_row6_col2, #T_0b375_row6_col3, #T_0b375_row6_col6, #T_0b375_row7_col4 {\n",
       "  color: darkgreen;\n",
       "}\n",
       "#T_0b375_row3_col8, #T_0b375_row4_col4, #T_0b375_row4_col5, #T_0b375_row5_col0, #T_0b375_row5_col1, #T_0b375_row5_col2, #T_0b375_row5_col3, #T_0b375_row5_col6, #T_0b375_row5_col7, #T_0b375_row7_col0 {\n",
       "  color: red;\n",
       "}\n",
       "</style>\n",
       "<table id=\"T_0b375_\">\n",
       "  <thead>\n",
       "    <tr>\n",
       "      <th class=\"blank level0\" >&nbsp;</th>\n",
       "      <th class=\"col_heading level0 col0\" >number</th>\n",
       "      <th class=\"col_heading level0 col1\" >bias</th>\n",
       "      <th class=\"col_heading level0 col2\" >rmse</th>\n",
       "      <th class=\"col_heading level0 col3\" >swillmott</th>\n",
       "      <th class=\"col_heading level0 col4\" >slopedev</th>\n",
       "      <th class=\"col_heading level0 col5\" >const</th>\n",
       "      <th class=\"col_heading level0 col6\" >systematic</th>\n",
       "      <th class=\"col_heading level0 col7\" >nonsystematic</th>\n",
       "      <th class=\"col_heading level0 col8\" >spread</th>\n",
       "    </tr>\n",
       "  </thead>\n",
       "  <tbody>\n",
       "    <tr>\n",
       "      <th id=\"T_0b375_level0_row0\" class=\"row_heading level0 row0\" >H201905</th>\n",
       "      <td id=\"T_0b375_row0_col0\" class=\"data row0 col0\" >1505</td>\n",
       "      <td id=\"T_0b375_row0_col1\" class=\"data row0 col1\" >-0.89</td>\n",
       "      <td id=\"T_0b375_row0_col2\" class=\"data row0 col2\" >2.2</td>\n",
       "      <td id=\"T_0b375_row0_col3\" class=\"data row0 col3\" >0.062</td>\n",
       "      <td id=\"T_0b375_row0_col4\" class=\"data row0 col4\" >3.5e+01</td>\n",
       "      <td id=\"T_0b375_row0_col5\" class=\"data row0 col5\" >8.2e+01</td>\n",
       "      <td id=\"T_0b375_row0_col6\" class=\"data row0 col6\" >0.84</td>\n",
       "      <td id=\"T_0b375_row0_col7\" class=\"data row0 col7\" >1.9</td>\n",
       "      <td id=\"T_0b375_row0_col8\" class=\"data row0 col8\" >-0.46</td>\n",
       "    </tr>\n",
       "    <tr>\n",
       "      <th id=\"T_0b375_level0_row1\" class=\"row_heading level0 row1\" >Cp2</th>\n",
       "      <td id=\"T_0b375_row1_col0\" class=\"data row1 col0\" >1505</td>\n",
       "      <td id=\"T_0b375_row1_col1\" class=\"data row1 col1\" >-0.84</td>\n",
       "      <td id=\"T_0b375_row1_col2\" class=\"data row1 col2\" >2.2</td>\n",
       "      <td id=\"T_0b375_row1_col3\" class=\"data row1 col3\" >0.063</td>\n",
       "      <td id=\"T_0b375_row1_col4\" class=\"data row1 col4\" >4.1e+01</td>\n",
       "      <td id=\"T_0b375_row1_col5\" class=\"data row1 col5\" >9.1e+01</td>\n",
       "      <td id=\"T_0b375_row1_col6\" class=\"data row1 col6\" >0.8</td>\n",
       "      <td id=\"T_0b375_row1_col7\" class=\"data row1 col7\" >2.0</td>\n",
       "      <td id=\"T_0b375_row1_col8\" class=\"data row1 col8\" >-0.48</td>\n",
       "    </tr>\n",
       "    <tr>\n",
       "      <th id=\"T_0b375_level0_row2\" class=\"row_heading level0 row2\" >Dagain</th>\n",
       "      <td id=\"T_0b375_row2_col0\" class=\"data row2 col0\" >1484</td>\n",
       "      <td id=\"T_0b375_row2_col1\" class=\"data row2 col1\" >-0.89</td>\n",
       "      <td id=\"T_0b375_row2_col2\" class=\"data row2 col2\" >2.2</td>\n",
       "      <td id=\"T_0b375_row2_col3\" class=\"data row2 col3\" >0.068</td>\n",
       "      <td id=\"T_0b375_row2_col4\" class=\"data row2 col4\" >3.3e+01</td>\n",
       "      <td id=\"T_0b375_row2_col5\" class=\"data row2 col5\" >7.4e+01</td>\n",
       "      <td id=\"T_0b375_row2_col6\" class=\"data row2 col6\" >0.91</td>\n",
       "      <td id=\"T_0b375_row2_col7\" class=\"data row2 col7\" >2.0</td>\n",
       "      <td id=\"T_0b375_row2_col8\" class=\"data row2 col8\" >-0.42</td>\n",
       "    </tr>\n",
       "    <tr>\n",
       "      <th id=\"T_0b375_level0_row3\" class=\"row_heading level0 row3\" >D-noCil</th>\n",
       "      <td id=\"T_0b375_row3_col0\" class=\"data row3 col0\" >1505</td>\n",
       "      <td id=\"T_0b375_row3_col1\" class=\"data row3 col1\" >-0.93</td>\n",
       "      <td id=\"T_0b375_row3_col2\" class=\"data row3 col2\" >2.3</td>\n",
       "      <td id=\"T_0b375_row3_col3\" class=\"data row3 col3\" >0.068</td>\n",
       "      <td id=\"T_0b375_row3_col4\" class=\"data row3 col4\" >2.6e+01</td>\n",
       "      <td id=\"T_0b375_row3_col5\" class=\"data row3 col5\" >5.5e+01</td>\n",
       "      <td id=\"T_0b375_row3_col6\" class=\"data row3 col6\" >0.87</td>\n",
       "      <td id=\"T_0b375_row3_col7\" class=\"data row3 col7\" >2.1</td>\n",
       "      <td id=\"T_0b375_row3_col8\" class=\"data row3 col8\" >-0.56</td>\n",
       "    </tr>\n",
       "    <tr>\n",
       "      <th id=\"T_0b375_level0_row4\" class=\"row_heading level0 row4\" >D-lowR</th>\n",
       "      <td id=\"T_0b375_row4_col0\" class=\"data row4 col0\" >1505</td>\n",
       "      <td id=\"T_0b375_row4_col1\" class=\"data row4 col1\" >-0.9</td>\n",
       "      <td id=\"T_0b375_row4_col2\" class=\"data row4 col2\" >2.3</td>\n",
       "      <td id=\"T_0b375_row4_col3\" class=\"data row4 col3\" >0.071</td>\n",
       "      <td id=\"T_0b375_row4_col4\" class=\"data row4 col4\" >6.1e+01</td>\n",
       "      <td id=\"T_0b375_row4_col5\" class=\"data row4 col5\" >1.4e+02</td>\n",
       "      <td id=\"T_0b375_row4_col6\" class=\"data row4 col6\" >0.92</td>\n",
       "      <td id=\"T_0b375_row4_col7\" class=\"data row4 col7\" >2.0</td>\n",
       "      <td id=\"T_0b375_row4_col8\" class=\"data row4 col8\" >-0.49</td>\n",
       "    </tr>\n",
       "    <tr>\n",
       "      <th id=\"T_0b375_level0_row5\" class=\"row_heading level0 row5\" >Cp3</th>\n",
       "      <td id=\"T_0b375_row5_col0\" class=\"data row5 col0\" >94347</td>\n",
       "      <td id=\"T_0b375_row5_col1\" class=\"data row5 col1\" >2.0</td>\n",
       "      <td id=\"T_0b375_row5_col2\" class=\"data row5 col2\" >5.2</td>\n",
       "      <td id=\"T_0b375_row5_col3\" class=\"data row5 col3\" >0.23</td>\n",
       "      <td id=\"T_0b375_row5_col4\" class=\"data row5 col4\" >-1.4</td>\n",
       "      <td id=\"T_0b375_row5_col5\" class=\"data row5 col5\" >9.2</td>\n",
       "      <td id=\"T_0b375_row5_col6\" class=\"data row5 col6\" >4.0</td>\n",
       "      <td id=\"T_0b375_row5_col7\" class=\"data row5 col7\" >3.4</td>\n",
       "      <td id=\"T_0b375_row5_col8\" class=\"data row5 col8\" >0.49</td>\n",
       "    </tr>\n",
       "    <tr>\n",
       "      <th id=\"T_0b375_level0_row6\" class=\"row_heading level0 row6\" >F</th>\n",
       "      <td id=\"T_0b375_row6_col0\" class=\"data row6 col0\" >1505</td>\n",
       "      <td id=\"T_0b375_row6_col1\" class=\"data row6 col1\" >-0.65</td>\n",
       "      <td id=\"T_0b375_row6_col2\" class=\"data row6 col2\" >2.1</td>\n",
       "      <td id=\"T_0b375_row6_col3\" class=\"data row6 col3\" >0.06</td>\n",
       "      <td id=\"T_0b375_row6_col4\" class=\"data row6 col4\" >5.2e+01</td>\n",
       "      <td id=\"T_0b375_row6_col5\" class=\"data row6 col5\" >1.2e+02</td>\n",
       "      <td id=\"T_0b375_row6_col6\" class=\"data row6 col6\" >0.69</td>\n",
       "      <td id=\"T_0b375_row6_col7\" class=\"data row6 col7\" >1.9</td>\n",
       "      <td id=\"T_0b375_row6_col8\" class=\"data row6 col8\" >-0.43</td>\n",
       "    </tr>\n",
       "    <tr>\n",
       "      <th id=\"T_0b375_level0_row7\" class=\"row_heading level0 row7\" >Gp1</th>\n",
       "      <td id=\"T_0b375_row7_col0\" class=\"data row7 col0\" >94347</td>\n",
       "      <td id=\"T_0b375_row7_col1\" class=\"data row7 col1\" >2.0</td>\n",
       "      <td id=\"T_0b375_row7_col2\" class=\"data row7 col2\" >4.8</td>\n",
       "      <td id=\"T_0b375_row7_col3\" class=\"data row7 col3\" >0.19</td>\n",
       "      <td id=\"T_0b375_row7_col4\" class=\"data row7 col4\" >0.82</td>\n",
       "      <td id=\"T_0b375_row7_col5\" class=\"data row7 col5\" >1.5e+01</td>\n",
       "      <td id=\"T_0b375_row7_col6\" class=\"data row7 col6\" >3.6</td>\n",
       "      <td id=\"T_0b375_row7_col7\" class=\"data row7 col7\" >3.2</td>\n",
       "      <td id=\"T_0b375_row7_col8\" class=\"data row7 col8\" >0.45</td>\n",
       "    </tr>\n",
       "  </tbody>\n",
       "</table>\n"
      ],
      "text/plain": [
       "<pandas.io.formats.style.Styler at 0x7f07d1877760>"
      ]
     },
     "execution_count": 50,
     "metadata": {},
     "output_type": "execute_result"
    }
   ],
   "source": [
    "alltogether = pd.concat([d201905, dCp2, Dagain, DnoC, DlowR, modCp3, modF, modGp1], axis=0)\n",
    "foramt = \"{:.2}\"\n",
    "alltogether.style.format(myformat).apply(highlight_max_min)"
   ]
  },
  {
   "cell_type": "markdown",
   "metadata": {},
   "source": [
    "So far, so good for Gp1. (no ferry)"
   ]
  },
  {
   "cell_type": "code",
   "execution_count": 36,
   "metadata": {},
   "outputs": [
    {
     "data": {
      "text/html": [
       "<div>\n",
       "<style scoped>\n",
       "    .dataframe tbody tr th:only-of-type {\n",
       "        vertical-align: middle;\n",
       "    }\n",
       "\n",
       "    .dataframe tbody tr th {\n",
       "        vertical-align: top;\n",
       "    }\n",
       "\n",
       "    .dataframe thead th {\n",
       "        text-align: right;\n",
       "    }\n",
       "</style>\n",
       "<table border=\"1\" class=\"dataframe\">\n",
       "  <thead>\n",
       "    <tr style=\"text-align: right;\">\n",
       "      <th></th>\n",
       "      <th>Year</th>\n",
       "      <th>Month</th>\n",
       "      <th>Day</th>\n",
       "      <th>Hour</th>\n",
       "      <th>Lat</th>\n",
       "      <th>Lon</th>\n",
       "      <th>Z</th>\n",
       "      <th>SA</th>\n",
       "      <th>CT</th>\n",
       "      <th>Fluor</th>\n",
       "      <th>...</th>\n",
       "      <th>temperature (degrees_Celcius)</th>\n",
       "      <th>salinity (g/kg)</th>\n",
       "      <th>turbidity (NTU)</th>\n",
       "      <th>o2_concentration_corrected (ml/l)</th>\n",
       "      <th>oxygen (uM)</th>\n",
       "      <th>conservative temperature (oC)</th>\n",
       "      <th>indf_ptrc_T</th>\n",
       "      <th>ih_ptrc_T</th>\n",
       "      <th>indf_grid_T</th>\n",
       "      <th>ih_grid_T</th>\n",
       "    </tr>\n",
       "  </thead>\n",
       "  <tbody>\n",
       "    <tr>\n",
       "      <th>0</th>\n",
       "      <td>2015.0</td>\n",
       "      <td>1.0</td>\n",
       "      <td>9.0</td>\n",
       "      <td>16.994444</td>\n",
       "      <td>49.328833</td>\n",
       "      <td>-124.080833</td>\n",
       "      <td>0.991487</td>\n",
       "      <td>25.146111</td>\n",
       "      <td>6.992043</td>\n",
       "      <td>NaN</td>\n",
       "      <td>...</td>\n",
       "      <td>NaN</td>\n",
       "      <td>NaN</td>\n",
       "      <td>NaN</td>\n",
       "      <td>NaN</td>\n",
       "      <td>NaN</td>\n",
       "      <td>NaN</td>\n",
       "      <td>NaN</td>\n",
       "      <td>NaN</td>\n",
       "      <td>NaN</td>\n",
       "      <td>NaN</td>\n",
       "    </tr>\n",
       "    <tr>\n",
       "      <th>1</th>\n",
       "      <td>2015.0</td>\n",
       "      <td>1.0</td>\n",
       "      <td>9.0</td>\n",
       "      <td>16.994444</td>\n",
       "      <td>49.328833</td>\n",
       "      <td>-124.080833</td>\n",
       "      <td>2.082117</td>\n",
       "      <td>25.243427</td>\n",
       "      <td>7.082535</td>\n",
       "      <td>NaN</td>\n",
       "      <td>...</td>\n",
       "      <td>NaN</td>\n",
       "      <td>NaN</td>\n",
       "      <td>NaN</td>\n",
       "      <td>NaN</td>\n",
       "      <td>NaN</td>\n",
       "      <td>NaN</td>\n",
       "      <td>NaN</td>\n",
       "      <td>NaN</td>\n",
       "      <td>NaN</td>\n",
       "      <td>NaN</td>\n",
       "    </tr>\n",
       "    <tr>\n",
       "      <th>2</th>\n",
       "      <td>2015.0</td>\n",
       "      <td>1.0</td>\n",
       "      <td>9.0</td>\n",
       "      <td>16.994444</td>\n",
       "      <td>49.328833</td>\n",
       "      <td>-124.080833</td>\n",
       "      <td>2.974446</td>\n",
       "      <td>25.319752</td>\n",
       "      <td>7.117362</td>\n",
       "      <td>NaN</td>\n",
       "      <td>...</td>\n",
       "      <td>NaN</td>\n",
       "      <td>NaN</td>\n",
       "      <td>NaN</td>\n",
       "      <td>NaN</td>\n",
       "      <td>NaN</td>\n",
       "      <td>NaN</td>\n",
       "      <td>NaN</td>\n",
       "      <td>NaN</td>\n",
       "      <td>NaN</td>\n",
       "      <td>NaN</td>\n",
       "    </tr>\n",
       "    <tr>\n",
       "      <th>3</th>\n",
       "      <td>2015.0</td>\n",
       "      <td>1.0</td>\n",
       "      <td>9.0</td>\n",
       "      <td>16.994444</td>\n",
       "      <td>49.328833</td>\n",
       "      <td>-124.080833</td>\n",
       "      <td>3.965919</td>\n",
       "      <td>25.378789</td>\n",
       "      <td>7.148240</td>\n",
       "      <td>NaN</td>\n",
       "      <td>...</td>\n",
       "      <td>NaN</td>\n",
       "      <td>NaN</td>\n",
       "      <td>NaN</td>\n",
       "      <td>NaN</td>\n",
       "      <td>NaN</td>\n",
       "      <td>NaN</td>\n",
       "      <td>NaN</td>\n",
       "      <td>NaN</td>\n",
       "      <td>NaN</td>\n",
       "      <td>NaN</td>\n",
       "    </tr>\n",
       "    <tr>\n",
       "      <th>4</th>\n",
       "      <td>2015.0</td>\n",
       "      <td>1.0</td>\n",
       "      <td>9.0</td>\n",
       "      <td>16.994444</td>\n",
       "      <td>49.328833</td>\n",
       "      <td>-124.080833</td>\n",
       "      <td>4.957386</td>\n",
       "      <td>25.423254</td>\n",
       "      <td>7.173524</td>\n",
       "      <td>NaN</td>\n",
       "      <td>...</td>\n",
       "      <td>NaN</td>\n",
       "      <td>NaN</td>\n",
       "      <td>NaN</td>\n",
       "      <td>NaN</td>\n",
       "      <td>NaN</td>\n",
       "      <td>NaN</td>\n",
       "      <td>NaN</td>\n",
       "      <td>NaN</td>\n",
       "      <td>NaN</td>\n",
       "      <td>NaN</td>\n",
       "    </tr>\n",
       "    <tr>\n",
       "      <th>...</th>\n",
       "      <td>...</td>\n",
       "      <td>...</td>\n",
       "      <td>...</td>\n",
       "      <td>...</td>\n",
       "      <td>...</td>\n",
       "      <td>...</td>\n",
       "      <td>...</td>\n",
       "      <td>...</td>\n",
       "      <td>...</td>\n",
       "      <td>...</td>\n",
       "      <td>...</td>\n",
       "      <td>...</td>\n",
       "      <td>...</td>\n",
       "      <td>...</td>\n",
       "      <td>...</td>\n",
       "      <td>...</td>\n",
       "      <td>...</td>\n",
       "      <td>...</td>\n",
       "      <td>...</td>\n",
       "      <td>...</td>\n",
       "      <td>...</td>\n",
       "    </tr>\n",
       "    <tr>\n",
       "      <th>326807</th>\n",
       "      <td>NaN</td>\n",
       "      <td>NaN</td>\n",
       "      <td>NaN</td>\n",
       "      <td>NaN</td>\n",
       "      <td>49.216750</td>\n",
       "      <td>-123.793333</td>\n",
       "      <td>NaN</td>\n",
       "      <td>24.274913</td>\n",
       "      <td>NaN</td>\n",
       "      <td>NaN</td>\n",
       "      <td>...</td>\n",
       "      <td>20.222367</td>\n",
       "      <td>24.274913</td>\n",
       "      <td>14.487867</td>\n",
       "      <td>6.471354</td>\n",
       "      <td>289.017151</td>\n",
       "      <td>20.553822</td>\n",
       "      <td>89.0</td>\n",
       "      <td>23.0</td>\n",
       "      <td>89.0</td>\n",
       "      <td>23.0</td>\n",
       "    </tr>\n",
       "    <tr>\n",
       "      <th>326808</th>\n",
       "      <td>NaN</td>\n",
       "      <td>NaN</td>\n",
       "      <td>NaN</td>\n",
       "      <td>NaN</td>\n",
       "      <td>49.216900</td>\n",
       "      <td>-123.801350</td>\n",
       "      <td>NaN</td>\n",
       "      <td>24.272384</td>\n",
       "      <td>NaN</td>\n",
       "      <td>NaN</td>\n",
       "      <td>...</td>\n",
       "      <td>20.419550</td>\n",
       "      <td>24.272384</td>\n",
       "      <td>14.758067</td>\n",
       "      <td>6.482401</td>\n",
       "      <td>289.510515</td>\n",
       "      <td>20.754024</td>\n",
       "      <td>89.0</td>\n",
       "      <td>23.0</td>\n",
       "      <td>89.0</td>\n",
       "      <td>23.0</td>\n",
       "    </tr>\n",
       "    <tr>\n",
       "      <th>326809</th>\n",
       "      <td>NaN</td>\n",
       "      <td>NaN</td>\n",
       "      <td>NaN</td>\n",
       "      <td>NaN</td>\n",
       "      <td>49.217000</td>\n",
       "      <td>-123.809350</td>\n",
       "      <td>NaN</td>\n",
       "      <td>24.307717</td>\n",
       "      <td>NaN</td>\n",
       "      <td>NaN</td>\n",
       "      <td>...</td>\n",
       "      <td>20.440467</td>\n",
       "      <td>24.307717</td>\n",
       "      <td>15.015400</td>\n",
       "      <td>6.492939</td>\n",
       "      <td>289.981156</td>\n",
       "      <td>20.774163</td>\n",
       "      <td>89.0</td>\n",
       "      <td>23.0</td>\n",
       "      <td>89.0</td>\n",
       "      <td>23.0</td>\n",
       "    </tr>\n",
       "    <tr>\n",
       "      <th>326810</th>\n",
       "      <td>NaN</td>\n",
       "      <td>NaN</td>\n",
       "      <td>NaN</td>\n",
       "      <td>NaN</td>\n",
       "      <td>49.216317</td>\n",
       "      <td>-123.817233</td>\n",
       "      <td>NaN</td>\n",
       "      <td>24.324730</td>\n",
       "      <td>NaN</td>\n",
       "      <td>NaN</td>\n",
       "      <td>...</td>\n",
       "      <td>20.165100</td>\n",
       "      <td>24.324730</td>\n",
       "      <td>15.285600</td>\n",
       "      <td>6.525314</td>\n",
       "      <td>291.427034</td>\n",
       "      <td>20.494183</td>\n",
       "      <td>89.0</td>\n",
       "      <td>23.0</td>\n",
       "      <td>89.0</td>\n",
       "      <td>23.0</td>\n",
       "    </tr>\n",
       "    <tr>\n",
       "      <th>326811</th>\n",
       "      <td>NaN</td>\n",
       "      <td>NaN</td>\n",
       "      <td>NaN</td>\n",
       "      <td>NaN</td>\n",
       "      <td>49.214883</td>\n",
       "      <td>-123.824833</td>\n",
       "      <td>NaN</td>\n",
       "      <td>24.321130</td>\n",
       "      <td>NaN</td>\n",
       "      <td>NaN</td>\n",
       "      <td>...</td>\n",
       "      <td>20.421733</td>\n",
       "      <td>24.321130</td>\n",
       "      <td>14.809533</td>\n",
       "      <td>6.531139</td>\n",
       "      <td>291.687187</td>\n",
       "      <td>20.754738</td>\n",
       "      <td>89.0</td>\n",
       "      <td>23.0</td>\n",
       "      <td>89.0</td>\n",
       "      <td>23.0</td>\n",
       "    </tr>\n",
       "  </tbody>\n",
       "</table>\n",
       "<p>326812 rows × 49 columns</p>\n",
       "</div>"
      ],
      "text/plain": [
       "          Year  Month  Day       Hour        Lat         Lon         Z  \\\n",
       "0       2015.0    1.0  9.0  16.994444  49.328833 -124.080833  0.991487   \n",
       "1       2015.0    1.0  9.0  16.994444  49.328833 -124.080833  2.082117   \n",
       "2       2015.0    1.0  9.0  16.994444  49.328833 -124.080833  2.974446   \n",
       "3       2015.0    1.0  9.0  16.994444  49.328833 -124.080833  3.965919   \n",
       "4       2015.0    1.0  9.0  16.994444  49.328833 -124.080833  4.957386   \n",
       "...        ...    ...  ...        ...        ...         ...       ...   \n",
       "326807     NaN    NaN  NaN        NaN  49.216750 -123.793333       NaN   \n",
       "326808     NaN    NaN  NaN        NaN  49.216900 -123.801350       NaN   \n",
       "326809     NaN    NaN  NaN        NaN  49.217000 -123.809350       NaN   \n",
       "326810     NaN    NaN  NaN        NaN  49.216317 -123.817233       NaN   \n",
       "326811     NaN    NaN  NaN        NaN  49.214883 -123.824833       NaN   \n",
       "\n",
       "               SA        CT  Fluor  ... temperature (degrees_Celcius)  \\\n",
       "0       25.146111  6.992043    NaN  ...                           NaN   \n",
       "1       25.243427  7.082535    NaN  ...                           NaN   \n",
       "2       25.319752  7.117362    NaN  ...                           NaN   \n",
       "3       25.378789  7.148240    NaN  ...                           NaN   \n",
       "4       25.423254  7.173524    NaN  ...                           NaN   \n",
       "...           ...       ...    ...  ...                           ...   \n",
       "326807  24.274913       NaN    NaN  ...                     20.222367   \n",
       "326808  24.272384       NaN    NaN  ...                     20.419550   \n",
       "326809  24.307717       NaN    NaN  ...                     20.440467   \n",
       "326810  24.324730       NaN    NaN  ...                     20.165100   \n",
       "326811  24.321130       NaN    NaN  ...                     20.421733   \n",
       "\n",
       "        salinity (g/kg)  turbidity (NTU)  o2_concentration_corrected (ml/l)  \\\n",
       "0                   NaN              NaN                                NaN   \n",
       "1                   NaN              NaN                                NaN   \n",
       "2                   NaN              NaN                                NaN   \n",
       "3                   NaN              NaN                                NaN   \n",
       "4                   NaN              NaN                                NaN   \n",
       "...                 ...              ...                                ...   \n",
       "326807        24.274913        14.487867                           6.471354   \n",
       "326808        24.272384        14.758067                           6.482401   \n",
       "326809        24.307717        15.015400                           6.492939   \n",
       "326810        24.324730        15.285600                           6.525314   \n",
       "326811        24.321130        14.809533                           6.531139   \n",
       "\n",
       "        oxygen (uM)  conservative temperature (oC)  indf_ptrc_T  ih_ptrc_T  \\\n",
       "0               NaN                            NaN          NaN        NaN   \n",
       "1               NaN                            NaN          NaN        NaN   \n",
       "2               NaN                            NaN          NaN        NaN   \n",
       "3               NaN                            NaN          NaN        NaN   \n",
       "4               NaN                            NaN          NaN        NaN   \n",
       "...             ...                            ...          ...        ...   \n",
       "326807   289.017151                      20.553822         89.0       23.0   \n",
       "326808   289.510515                      20.754024         89.0       23.0   \n",
       "326809   289.981156                      20.774163         89.0       23.0   \n",
       "326810   291.427034                      20.494183         89.0       23.0   \n",
       "326811   291.687187                      20.754738         89.0       23.0   \n",
       "\n",
       "        indf_grid_T  ih_grid_T  \n",
       "0               NaN        NaN  \n",
       "1               NaN        NaN  \n",
       "2               NaN        NaN  \n",
       "3               NaN        NaN  \n",
       "4               NaN        NaN  \n",
       "...             ...        ...  \n",
       "326807         89.0       23.0  \n",
       "326808         89.0       23.0  \n",
       "326809         89.0       23.0  \n",
       "326810         89.0       23.0  \n",
       "326811         89.0       23.0  \n",
       "\n",
       "[326812 rows x 49 columns]"
      ]
     },
     "execution_count": 36,
     "metadata": {},
     "output_type": "execute_result"
    }
   ],
   "source": [
    "And good for Gp1 ferry only compared to Cp3"
   ]
  },
  {
   "cell_type": "code",
   "execution_count": 37,
   "metadata": {},
   "outputs": [],
   "source": [
    "pieces = (\n",
    "          '/home/sallen/202007/202007G-p1/ObsModel_202007Gp1_ferry_20150101_20150331.csv',\n",
    "      \n",
    "         )"
   ]
  },
  {
   "cell_type": "code",
   "execution_count": 38,
   "metadata": {},
   "outputs": [],
   "source": [
    "temp1 = read_pieces(pieces)"
   ]
  },
  {
   "cell_type": "code",
   "execution_count": 43,
   "metadata": {},
   "outputs": [
    {
     "ename": "AttributeError",
     "evalue": "'Series' object has no attribute 'to_datetime'",
     "output_type": "error",
     "traceback": [
      "\u001b[0;31m---------------------------------------------------------------------------\u001b[0m",
      "\u001b[0;31mAttributeError\u001b[0m                            Traceback (most recent call last)",
      "\u001b[0;32m<ipython-input-43-4416d3fb4b96>\u001b[0m in \u001b[0;36m<module>\u001b[0;34m\u001b[0m\n\u001b[0;32m----> 1\u001b[0;31m \u001b[0mtemp1\u001b[0m\u001b[0;34m[\u001b[0m\u001b[0mtemp1\u001b[0m\u001b[0;34m[\u001b[0m\u001b[0;34m'time (UTC)'\u001b[0m\u001b[0;34m]\u001b[0m\u001b[0;34m.\u001b[0m\u001b[0mto_datetime\u001b[0m\u001b[0;34m(\u001b[0m\u001b[0;34m)\u001b[0m \u001b[0;34m<\u001b[0m \u001b[0mdt\u001b[0m\u001b[0;34m.\u001b[0m\u001b[0mdatetime\u001b[0m\u001b[0;34m(\u001b[0m\u001b[0;36m2015\u001b[0m\u001b[0;34m,\u001b[0m \u001b[0;36m7\u001b[0m\u001b[0;34m,\u001b[0m \u001b[0;36m1\u001b[0m\u001b[0;34m)\u001b[0m\u001b[0;34m]\u001b[0m\u001b[0;34m\u001b[0m\u001b[0;34m\u001b[0m\u001b[0m\n\u001b[0m",
      "\u001b[0;32m/ocean/sallen/miniconda3/envs/py39/lib/python3.9/site-packages/pandas/core/generic.py\u001b[0m in \u001b[0;36m__getattr__\u001b[0;34m(self, name)\u001b[0m\n\u001b[1;32m   5476\u001b[0m         ):\n\u001b[1;32m   5477\u001b[0m             \u001b[0;32mreturn\u001b[0m \u001b[0mself\u001b[0m\u001b[0;34m[\u001b[0m\u001b[0mname\u001b[0m\u001b[0;34m]\u001b[0m\u001b[0;34m\u001b[0m\u001b[0;34m\u001b[0m\u001b[0m\n\u001b[0;32m-> 5478\u001b[0;31m         \u001b[0;32mreturn\u001b[0m \u001b[0mobject\u001b[0m\u001b[0;34m.\u001b[0m\u001b[0m__getattribute__\u001b[0m\u001b[0;34m(\u001b[0m\u001b[0mself\u001b[0m\u001b[0;34m,\u001b[0m \u001b[0mname\u001b[0m\u001b[0;34m)\u001b[0m\u001b[0;34m\u001b[0m\u001b[0;34m\u001b[0m\u001b[0m\n\u001b[0m\u001b[1;32m   5479\u001b[0m \u001b[0;34m\u001b[0m\u001b[0m\n\u001b[1;32m   5480\u001b[0m     \u001b[0;32mdef\u001b[0m \u001b[0m__setattr__\u001b[0m\u001b[0;34m(\u001b[0m\u001b[0mself\u001b[0m\u001b[0;34m,\u001b[0m \u001b[0mname\u001b[0m\u001b[0;34m:\u001b[0m \u001b[0mstr\u001b[0m\u001b[0;34m,\u001b[0m \u001b[0mvalue\u001b[0m\u001b[0;34m)\u001b[0m \u001b[0;34m->\u001b[0m \u001b[0;32mNone\u001b[0m\u001b[0;34m:\u001b[0m\u001b[0;34m\u001b[0m\u001b[0;34m\u001b[0m\u001b[0m\n",
      "\u001b[0;31mAttributeError\u001b[0m: 'Series' object has no attribute 'to_datetime'"
     ]
    }
   ],
   "source": [
    "temp1[temp1['time (UTC)'].to_datetime() < dt.datetime(2015, 7, 1)]"
   ]
  },
  {
   "cell_type": "code",
   "execution_count": null,
   "metadata": {},
   "outputs": [],
   "source": []
  }
 ],
 "metadata": {
  "kernelspec": {
   "display_name": "py39",
   "language": "python",
   "name": "py39"
  },
  "language_info": {
   "codemirror_mode": {
    "name": "ipython",
    "version": 3
   },
   "file_extension": ".py",
   "mimetype": "text/x-python",
   "name": "python",
   "nbconvert_exporter": "python",
   "pygments_lexer": "ipython3",
   "version": "3.9.2"
  }
 },
 "nbformat": 4,
 "nbformat_minor": 4
}
