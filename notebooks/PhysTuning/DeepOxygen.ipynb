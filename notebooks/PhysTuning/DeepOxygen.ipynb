{
 "cells": [
  {
   "cell_type": "markdown",
   "metadata": {},
   "source": [
    "## Oxygen 20 m and Below"
   ]
  },
  {
   "cell_type": "code",
   "execution_count": 11,
   "metadata": {},
   "outputs": [],
   "source": [
    "import datetime as dt\n",
    "import matplotlib.pyplot as plt\n",
    "from matplotlib.colors import LogNorm\n",
    "import numpy as np\n",
    "import pandas as pd\n",
    "import statsmodels.api as sm\n",
    "import xarray as xr"
   ]
  },
  {
   "cell_type": "code",
   "execution_count": 12,
   "metadata": {},
   "outputs": [],
   "source": [
    "foramt = \"{:.2}\"\n",
    "myformat = {'bias': foramt, 'rmse': foramt, 'swillmott': foramt, 'slopedev': foramt, 'const': foramt,\n",
    "                         'systematic': foramt, 'nonsystematic':foramt, \n",
    "                    'spread': foramt}"
   ]
  },
  {
   "cell_type": "code",
   "execution_count": 13,
   "metadata": {},
   "outputs": [],
   "source": [
    "with xr.open_dataset('/home/sallen/MEOPAR/grid/mesh_mask201702.nc') as mesh:\n",
    "    deptht = mesh.gdept_1d[0].values"
   ]
  },
  {
   "cell_type": "code",
   "execution_count": 14,
   "metadata": {},
   "outputs": [],
   "source": [
    "def bias(df, obs, mod):\n",
    "    diffy = df[mod] - df[obs]\n",
    "    return diffy.count(), diffy.mean()"
   ]
  },
  {
   "cell_type": "code",
   "execution_count": 15,
   "metadata": {},
   "outputs": [],
   "source": [
    "def rmse(df, obs, mod):\n",
    "    return (np.sqrt(((df[mod] - df[obs])**2).mean()))"
   ]
  },
  {
   "cell_type": "code",
   "execution_count": 16,
   "metadata": {},
   "outputs": [],
   "source": [
    "def swillmott(df, obs, mod):\n",
    "    meanobs = df[obs].mean()\n",
    "    return (((df[mod] - df[obs])**2).sum()\n",
    "            /(( (df[mod] - meanobs).abs() + (df[obs] - meanobs).abs() )**2).sum())"
   ]
  },
  {
   "cell_type": "code",
   "execution_count": 17,
   "metadata": {},
   "outputs": [],
   "source": [
    "def slope_inter(df, obs, mod):\n",
    "    X = df[obs]\n",
    "    y = df[mod]\n",
    "    X = sm.add_constant(X)\n",
    "\n",
    "    # Fit and make the predictions by the model\n",
    "    model = sm.OLS(y, X, missing='drop').fit()\n",
    "    predictions = model.predict(X)\n",
    "    \n",
    "    nonsyst = np.sqrt(((y - predictions)**2).mean())\n",
    "    systematic = np.sqrt(((predictions - df[obs])**2).mean())\n",
    "    return model.params[obs], model.params['const'], systematic, nonsyst"
   ]
  },
  {
   "cell_type": "code",
   "execution_count": 18,
   "metadata": {},
   "outputs": [],
   "source": [
    "def spread(df, obs, mod):\n",
    "    return 1 - ((df[mod] - df[mod].mean())**2).mean() / ((df[obs] - df[obs].mean())**2).mean() "
   ]
  },
  {
   "cell_type": "code",
   "execution_count": 19,
   "metadata": {},
   "outputs": [],
   "source": [
    "def read_pieces(pieces):\n",
    "    temp1 = pd.read_csv(pieces[0])\n",
    "    for piece in pieces[1:]:\n",
    "        nextpiece = pd.read_csv(piece)\n",
    "        temp1 = pd.concat([temp1, nextpiece], ignore_index=True)\n",
    "    return temp1"
   ]
  },
  {
   "cell_type": "code",
   "execution_count": 20,
   "metadata": {},
   "outputs": [],
   "source": [
    "def plot_and_stats(temp1, name, idepth, jdepth):\n",
    "    fig, ax = plt.subplots(1, 1, figsize=(6, 5))\n",
    "    vmax = 300\n",
    "    vmin = 50\n",
    "    print (deptht[idepth], deptht[jdepth])\n",
    "    counts, xedges, yedges, color = ax.hist2d(temp1['Oxygen_Dissolved'][(temp1.k >= idepth) & (temp1.k <= jdepth)], \n",
    "                                              temp1.mod_dissolved_oxygen[(temp1.k >= idepth) & (temp1.k <= jdepth)], \n",
    "                                           bins=np.arange(vmin, vmax, 5), norm=LogNorm());\n",
    "#    fig.colorbar(color)\n",
    "    number, tbias = bias(temp1[(temp1.k >= idepth) & (temp1.k <= jdepth)], 'Oxygen_Dissolved', 'mod_dissolved_oxygen')\n",
    "    trmse = rmse(temp1[(temp1.k >= idepth) & (temp1.k <= jdepth)], 'Oxygen_Dissolved', 'mod_dissolved_oxygen')\n",
    "    tswillmott = swillmott(temp1[temp1.k >=idepth], 'Oxygen_Dissolved', 'mod_dissolved_oxygen')\n",
    "    m, c, syst, nonsyst = slope_inter(temp1[(temp1.k >= idepth) & (temp1.k <= jdepth)], 'Oxygen_Dissolved', 'mod_dissolved_oxygen')\n",
    "    tspread = spread(temp1[temp1.k >= idepth], 'Oxygen_Dissolved', 'mod_dissolved_oxygen')\n",
    "    ax.plot([vmin, vmax], [vmin, vmax], 'w-');\n",
    "    xr = np.arange(vmin, vmax, 0.5)\n",
    "    ax.plot(xr, c + m * xr, 'r-');\n",
    "    ax.arrow(5, 30, 0, 2-np.abs(tbias)/2, head_width=0.5, head_length=0.2, length_includes_head=True)\n",
    "    ax.arrow(5, 34, 0, -2+np.abs(tbias)/2, head_width=0.5, head_length=0.2, length_includes_head=True)\n",
    "    ax.arrow(7, 30, 0, 2-syst/2, head_width=0.5, head_length=0.2, length_includes_head=True)\n",
    "    ax.arrow(7, 34, 0, -2+syst/2, head_width=0.5, head_length=0.2, length_includes_head=True)\n",
    "    ax.arrow(9, 29, 0, 3-nonsyst/2, head_width=0.5, head_length=0.2, length_includes_head=True)\n",
    "    ax.arrow(9, 35, 0, -3+nonsyst/2, head_width=0.5, head_length=0.2, length_includes_head=True);\n",
    "    Cp2 = {'number': number,\n",
    "            'bias': tbias,\n",
    "          'rmse': trmse,\n",
    "          'swillmott': tswillmott,\n",
    "          'slopedev': 1-m,\n",
    "          'const': c,\n",
    "          'systematic': syst,\n",
    "          'nonsystematic': nonsyst,\n",
    "          'spread': tspread}\n",
    "    ax.text(5-0.6, 26, 'bias', rotation=90)\n",
    "    ax.text(7-0.6, 22, 'systematic', rotation=90)\n",
    "    ax.text(9-0.6, 19, 'non-systematic', rotation=90)\n",
    "    ax.set_title(f'{name}, Dissolved Oxygen below 20 m');\n",
    "    dCp2 = pd.DataFrame(data=Cp2, index=[name])\n",
    "    return dCp2\n"
   ]
  },
  {
   "cell_type": "code",
   "execution_count": 12,
   "metadata": {},
   "outputs": [],
   "source": [
    "pieces = ('/home/sallen/202007/H201812/ObsModel_201812_Bio_20150101-20151231.csv',\n",
    "   #      '/home/sallen/202007/H201812/ObsModel_201812_Bio_20160101-20161231.csv',\n",
    "  #       '/home/sallen/202007/H201812/ObsModel_201812_Bio_20170101-20171231.csv',\n",
    "  #       '/home/sallen/202007/H201812/ObsModel_201812_PSF_20150101-20151231.csv',\n",
    "  #       '/home/sallen/202007/H201905/ObsModel_201812_PSF_20160101-20161231.csv',\n",
    "  #       '/home/sallen/202007/H201905/ObsModel_201812_PSF_20170101-20171231.csv',\n",
    "  #       '/home/sallen/202007/H201812/ObsModel_H201812_pug_20150101_20151231.csv',\n",
    "  #       '/home/sallen/202007/H201812/ObsModel_H201812_pug_20160101_20161231.csv',\n",
    "  #       '/home/sallen/202007/H201812/ObsModel_H201812_pug_20170101_20171231.csv',\n",
    "  #       '/home/sallen/202007/H201812/ObsModel_H201812_hplc_20150101_20151231.csv',\n",
    "  #       '/home/sallen/202007/H201812/ObsModel_H201812_hplc_20160101_20161231.csv',\n",
    "  #       '/home/sallen/202007/H201812/ObsModel_H201812_hplc_20170101_20171231.csv')\n",
    "         )"
   ]
  },
  {
   "cell_type": "code",
   "execution_count": 14,
   "metadata": {},
   "outputs": [
    {
     "data": {
      "text/plain": [
       "Index(['Unnamed: 0', 'Year', 'Month', 'Day', 'Hour', 'Lat', 'Lon', 'Pressure',\n",
       "       'Depth', 'Ammonium', 'Ammonium_units', 'Chlorophyll_Extracted',\n",
       "       'Chlorophyll_Extracted_units', 'N', 'Si', 'Silicate_units', 'AbsSal',\n",
       "       'ConsT', 'Z', 'dtUTC', 'j', 'i', 'mod_nitrate', 'mod_silicon',\n",
       "       'mod_ammonium', 'mod_diatoms', 'mod_ciliates', 'mod_flagellates',\n",
       "       'mod_vosaline', 'mod_votemper', 'k'],\n",
       "      dtype='object')"
      ]
     },
     "execution_count": 14,
     "metadata": {},
     "output_type": "execute_result"
    }
   ],
   "source": [
    "temp1 = read_pieces(pieces)\n",
    "temp1.keys()"
   ]
  },
  {
   "cell_type": "code",
   "execution_count": 13,
   "metadata": {},
   "outputs": [
    {
     "name": "stdout",
     "output_type": "stream",
     "text": [
      "21.38997868353431 441.4661096800038\n"
     ]
    },
    {
     "name": "stderr",
     "output_type": "stream",
     "text": [
      "/ocean/sallen/miniconda3/envs/py39/lib/python3.9/site-packages/statsmodels/tsa/tsatools.py:142: FutureWarning: In a future version of pandas all arguments of concat except for the argument 'objs' will be keyword-only\n",
      "  x = pd.concat(x[::order], 1)\n"
     ]
    },
    {
     "data": {
      "text/html": [
       "<style type=\"text/css\">\n",
       "</style>\n",
       "<table id=\"T_d8d09_\">\n",
       "  <thead>\n",
       "    <tr>\n",
       "      <th class=\"blank level0\" >&nbsp;</th>\n",
       "      <th class=\"col_heading level0 col0\" >number</th>\n",
       "      <th class=\"col_heading level0 col1\" >bias</th>\n",
       "      <th class=\"col_heading level0 col2\" >rmse</th>\n",
       "      <th class=\"col_heading level0 col3\" >swillmott</th>\n",
       "      <th class=\"col_heading level0 col4\" >slopedev</th>\n",
       "      <th class=\"col_heading level0 col5\" >const</th>\n",
       "      <th class=\"col_heading level0 col6\" >systematic</th>\n",
       "      <th class=\"col_heading level0 col7\" >nonsystematic</th>\n",
       "      <th class=\"col_heading level0 col8\" >spread</th>\n",
       "    </tr>\n",
       "  </thead>\n",
       "  <tbody>\n",
       "    <tr>\n",
       "      <th id=\"T_d8d09_level0_row0\" class=\"row_heading level0 row0\" >H201812</th>\n",
       "      <td id=\"T_d8d09_row0_col0\" class=\"data row0 col0\" >2940</td>\n",
       "      <td id=\"T_d8d09_row0_col1\" class=\"data row0 col1\" >-1.5</td>\n",
       "      <td id=\"T_d8d09_row0_col2\" class=\"data row0 col2\" >3.5</td>\n",
       "      <td id=\"T_d8d09_row0_col3\" class=\"data row0 col3\" >0.13</td>\n",
       "      <td id=\"T_d8d09_row0_col4\" class=\"data row0 col4\" >0.14</td>\n",
       "      <td id=\"T_d8d09_row0_col5\" class=\"data row0 col5\" >2.0</td>\n",
       "      <td id=\"T_d8d09_row0_col6\" class=\"data row0 col6\" >1.7</td>\n",
       "      <td id=\"T_d8d09_row0_col7\" class=\"data row0 col7\" >3.1</td>\n",
       "      <td id=\"T_d8d09_row0_col8\" class=\"data row0 col8\" >-0.16</td>\n",
       "    </tr>\n",
       "  </tbody>\n",
       "</table>\n"
      ],
      "text/plain": [
       "<pandas.io.formats.style.Styler at 0x7fc39277b0d0>"
      ]
     },
     "execution_count": 13,
     "metadata": {},
     "output_type": "execute_result"
    },
    {
     "data": {
      "image/png": "[encoded data removed]",
      "text/plain": [
       "<Figure size 432x360 with 2 Axes>"
      ]
     },
     "metadata": {
      "needs_background": "light"
     },
     "output_type": "display_data"
    }
   ],
   "source": [
    "temp1 = read_pieces(pieces)\n",
    "temp1['NO3'] = temp1.N.fillna(value=temp1.NO23).fillna(value=temp1['Nitrate_plus_Nitrite [umol/L]'])\n",
    "idepth = 19\n",
    "jdepth = 39\n",
    "d201812 = plot_and_stats(temp1, 'H201812', idepth, jdepth)\n",
    "d201812.style.format(myformat)"
   ]
  },
  {
   "cell_type": "code",
   "execution_count": 14,
   "metadata": {},
   "outputs": [],
   "source": [
    "pieces = ('/home/sallen/202007/H201905/ObsModel_201905_Bio_20150101-20151231.csv',\n",
    "         '/home/sallen/202007/H201905/ObsModel_201905_Bio_20160101-20161231.csv',\n",
    "         '/home/sallen/202007/H201905/ObsModel_201905_Bio_20170101-20171231.csv',\n",
    "         '/home/sallen/202007/H201905/ObsModel_201905_PSF_20150101-20151231.csv',\n",
    "  #       '/home/sallen/202007/H201905/ObsModel_201905_PSF_20160101-20161231.csv',\n",
    "  #       '/home/sallen/202007/H201905/ObsModel_201905_PSF_20170101-20171231.csv',\n",
    "         '/home/sallen/202007/H201905/ObsModel_H201905_pug_20150101_20151231.csv',\n",
    "         '/home/sallen/202007/H201905/ObsModel_H201905_pug_20160101_20161231.csv',\n",
    "         '/home/sallen/202007/H201905/ObsModel_H201905_pug_20170101_20171231.csv',\n",
    "         '/home/sallen/202007/H201905/ObsModel_H201905_hplc_20150101_20151231.csv',\n",
    "         '/home/sallen/202007/H201905/ObsModel_H201905_hplc_20160101_20161231.csv',\n",
    "         '/home/sallen/202007/H201905/ObsModel_H201905_hplc_20170101_20171231.csv')"
   ]
  },
  {
   "cell_type": "code",
   "execution_count": 15,
   "metadata": {},
   "outputs": [
    {
     "name": "stdout",
     "output_type": "stream",
     "text": [
      "21.38997868353431 441.4661096800038\n"
     ]
    },
    {
     "name": "stderr",
     "output_type": "stream",
     "text": [
      "/ocean/sallen/miniconda3/envs/py39/lib/python3.9/site-packages/statsmodels/tsa/tsatools.py:142: FutureWarning: In a future version of pandas all arguments of concat except for the argument 'objs' will be keyword-only\n",
      "  x = pd.concat(x[::order], 1)\n"
     ]
    },
    {
     "data": {
      "text/html": [
       "<style type=\"text/css\">\n",
       "</style>\n",
       "<table id=\"T_ec77b_\">\n",
       "  <thead>\n",
       "    <tr>\n",
       "      <th class=\"blank level0\" >&nbsp;</th>\n",
       "      <th class=\"col_heading level0 col0\" >number</th>\n",
       "      <th class=\"col_heading level0 col1\" >bias</th>\n",
       "      <th class=\"col_heading level0 col2\" >rmse</th>\n",
       "      <th class=\"col_heading level0 col3\" >swillmott</th>\n",
       "      <th class=\"col_heading level0 col4\" >slopedev</th>\n",
       "      <th class=\"col_heading level0 col5\" >const</th>\n",
       "      <th class=\"col_heading level0 col6\" >systematic</th>\n",
       "      <th class=\"col_heading level0 col7\" >nonsystematic</th>\n",
       "      <th class=\"col_heading level0 col8\" >spread</th>\n",
       "    </tr>\n",
       "  </thead>\n",
       "  <tbody>\n",
       "    <tr>\n",
       "      <th id=\"T_ec77b_level0_row0\" class=\"row_heading level0 row0\" >H201905</th>\n",
       "      <td id=\"T_ec77b_row0_col0\" class=\"data row0 col0\" >2940</td>\n",
       "      <td id=\"T_ec77b_row0_col1\" class=\"data row0 col1\" >-1.5</td>\n",
       "      <td id=\"T_ec77b_row0_col2\" class=\"data row0 col2\" >3.3</td>\n",
       "      <td id=\"T_ec77b_row0_col3\" class=\"data row0 col3\" >0.14</td>\n",
       "      <td id=\"T_ec77b_row0_col4\" class=\"data row0 col4\" >0.33</td>\n",
       "      <td id=\"T_ec77b_row0_col5\" class=\"data row0 col5\" >6.8</td>\n",
       "      <td id=\"T_ec77b_row0_col6\" class=\"data row0 col6\" >2.2</td>\n",
       "      <td id=\"T_ec77b_row0_col7\" class=\"data row0 col7\" >2.4</td>\n",
       "      <td id=\"T_ec77b_row0_col8\" class=\"data row0 col8\" >0.31</td>\n",
       "    </tr>\n",
       "  </tbody>\n",
       "</table>\n"
      ],
      "text/plain": [
       "<pandas.io.formats.style.Styler at 0x7fc4c0486d60>"
      ]
     },
     "execution_count": 15,
     "metadata": {},
     "output_type": "execute_result"
    },
    {
     "data": {
      "image/png": "[encoded data removed]",
      "text/plain": [
       "<Figure size 432x360 with 2 Axes>"
      ]
     },
     "metadata": {
      "needs_background": "light"
     },
     "output_type": "display_data"
    }
   ],
   "source": [
    "temp1 = read_pieces(pieces)\n",
    "temp1['NO3'] = temp1.N.fillna(value=temp1.NO23).fillna(value=temp1['Nitrate_plus_Nitrite [umol/L]'])\n",
    "idepth = 19\n",
    "jdepth = 39\n",
    "d201905 = plot_and_stats(temp1, 'H201905', idepth, jdepth)\n",
    "d201905.style.format(myformat)"
   ]
  },
  {
   "cell_type": "code",
   "execution_count": 27,
   "metadata": {},
   "outputs": [],
   "source": [
    "pieces = ('/data/sallen/results/MEOPAR/202111/ObsModel_202111_bot_20150101_20151231.csv',\n",
    "         '/data/sallen/results/MEOPAR/202111/ObsModel_202111_bot_20160101_20161231.csv')"
   ]
  },
  {
   "cell_type": "code",
   "execution_count": 28,
   "metadata": {},
   "outputs": [
    {
     "name": "stdout",
     "output_type": "stream",
     "text": [
      "21.38997868353431 441.4661096800038\n"
     ]
    },
    {
     "name": "stderr",
     "output_type": "stream",
     "text": [
      "/ocean/sallen/miniconda3/envs/py39/lib/python3.9/site-packages/statsmodels/tsa/tsatools.py:142: FutureWarning: In a future version of pandas all arguments of concat except for the argument 'objs' will be keyword-only\n",
      "  x = pd.concat(x[::order], 1)\n"
     ]
    },
    {
     "data": {
      "text/html": [
       "<style type=\"text/css\">\n",
       "</style>\n",
       "<table id=\"T_30c9a_\">\n",
       "  <thead>\n",
       "    <tr>\n",
       "      <th class=\"blank level0\" >&nbsp;</th>\n",
       "      <th class=\"col_heading level0 col0\" >number</th>\n",
       "      <th class=\"col_heading level0 col1\" >bias</th>\n",
       "      <th class=\"col_heading level0 col2\" >rmse</th>\n",
       "      <th class=\"col_heading level0 col3\" >swillmott</th>\n",
       "      <th class=\"col_heading level0 col4\" >slopedev</th>\n",
       "      <th class=\"col_heading level0 col5\" >const</th>\n",
       "      <th class=\"col_heading level0 col6\" >systematic</th>\n",
       "      <th class=\"col_heading level0 col7\" >nonsystematic</th>\n",
       "      <th class=\"col_heading level0 col8\" >spread</th>\n",
       "    </tr>\n",
       "  </thead>\n",
       "  <tbody>\n",
       "    <tr>\n",
       "      <th id=\"T_30c9a_level0_row0\" class=\"row_heading level0 row0\" >v202111</th>\n",
       "      <td id=\"T_30c9a_row0_col0\" class=\"data row0 col0\" >1249</td>\n",
       "      <td id=\"T_30c9a_row0_col1\" class=\"data row0 col1\" >-4.5</td>\n",
       "      <td id=\"T_30c9a_row0_col2\" class=\"data row0 col2\" >2.1e+01</td>\n",
       "      <td id=\"T_30c9a_row0_col3\" class=\"data row0 col3\" >0.067</td>\n",
       "      <td id=\"T_30c9a_row0_col4\" class=\"data row0 col4\" >0.12</td>\n",
       "      <td id=\"T_30c9a_row0_col5\" class=\"data row0 col5\" >1.5e+01</td>\n",
       "      <td id=\"T_30c9a_row0_col6\" class=\"data row0 col6\" >6.7</td>\n",
       "      <td id=\"T_30c9a_row0_col7\" class=\"data row0 col7\" >2e+01</td>\n",
       "      <td id=\"T_30c9a_row0_col8\" class=\"data row0 col8\" >-0.00014</td>\n",
       "    </tr>\n",
       "  </tbody>\n",
       "</table>\n"
      ],
      "text/plain": [
       "<pandas.io.formats.style.Styler at 0x7f3f8ffaff70>"
      ]
     },
     "execution_count": 28,
     "metadata": {},
     "output_type": "execute_result"
    },
    {
     "data": {
      "image/png": "[encoded data removed]",
      "text/plain": [
       "<Figure size 432x360 with 1 Axes>"
      ]
     },
     "metadata": {
      "needs_background": "light"
     },
     "output_type": "display_data"
    }
   ],
   "source": [
    "temp1 = read_pieces(pieces)\n",
    "idepth = 19\n",
    "jdepth = 39\n",
    "v202111 = plot_and_stats(temp1, 'v202111', idepth, jdepth)\n",
    "v202111.style.format(myformat)"
   ]
  },
  {
   "cell_type": "code",
   "execution_count": null,
   "metadata": {},
   "outputs": [
    {
     "data": {
      "text/html": [
       "<style type=\"text/css\">\n",
       "#T_d4bc7_row0_col0, #T_d4bc7_row0_col7, #T_d4bc7_row1_col0, #T_d4bc7_row1_col5, #T_d4bc7_row2_col0, #T_d4bc7_row3_col1, #T_d4bc7_row3_col2, #T_d4bc7_row3_col3, #T_d4bc7_row3_col6, #T_d4bc7_row4_col0, #T_d4bc7_row6_col4, #T_d4bc7_row6_col8 {\n",
       "  color: red;\n",
       "}\n",
       "#T_d4bc7_row0_col1, #T_d4bc7_row0_col2, #T_d4bc7_row0_col8, #T_d4bc7_row1_col1, #T_d4bc7_row1_col2, #T_d4bc7_row1_col3, #T_d4bc7_row1_col4, #T_d4bc7_row1_col6, #T_d4bc7_row1_col7, #T_d4bc7_row1_col8, #T_d4bc7_row2_col1, #T_d4bc7_row2_col2, #T_d4bc7_row2_col3, #T_d4bc7_row2_col4, #T_d4bc7_row2_col5, #T_d4bc7_row2_col6, #T_d4bc7_row2_col7, #T_d4bc7_row2_col8, #T_d4bc7_row3_col4, #T_d4bc7_row3_col5, #T_d4bc7_row3_col7, #T_d4bc7_row4_col1, #T_d4bc7_row4_col2, #T_d4bc7_row4_col3, #T_d4bc7_row4_col4, #T_d4bc7_row4_col5, #T_d4bc7_row4_col6, #T_d4bc7_row4_col7, #T_d4bc7_row4_col8, #T_d4bc7_row5_col0, #T_d4bc7_row5_col1, #T_d4bc7_row5_col2, #T_d4bc7_row5_col3, #T_d4bc7_row5_col4, #T_d4bc7_row5_col5, #T_d4bc7_row5_col6, #T_d4bc7_row5_col7, #T_d4bc7_row5_col8, #T_d4bc7_row6_col0, #T_d4bc7_row6_col1, #T_d4bc7_row6_col2, #T_d4bc7_row6_col3, #T_d4bc7_row6_col5, #T_d4bc7_row6_col6, #T_d4bc7_row7_col0, #T_d4bc7_row7_col1, #T_d4bc7_row7_col2, #T_d4bc7_row7_col3, #T_d4bc7_row7_col4, #T_d4bc7_row7_col5, #T_d4bc7_row7_col6, #T_d4bc7_row7_col7, #T_d4bc7_row7_col8, #T_d4bc7_row8_col0, #T_d4bc7_row8_col1, #T_d4bc7_row8_col2, #T_d4bc7_row8_col3, #T_d4bc7_row8_col4, #T_d4bc7_row8_col5, #T_d4bc7_row8_col6, #T_d4bc7_row8_col7, #T_d4bc7_row8_col8, #T_d4bc7_row9_col0, #T_d4bc7_row9_col3, #T_d4bc7_row9_col4, #T_d4bc7_row9_col5, #T_d4bc7_row9_col6, #T_d4bc7_row9_col7, #T_d4bc7_row9_col8, #T_d4bc7_row10_col0, #T_d4bc7_row10_col1, #T_d4bc7_row10_col2, #T_d4bc7_row10_col3, #T_d4bc7_row10_col4, #T_d4bc7_row10_col5, #T_d4bc7_row10_col6, #T_d4bc7_row10_col7, #T_d4bc7_row10_col8 {\n",
       "  color: black;\n",
       "}\n",
       "#T_d4bc7_row0_col3, #T_d4bc7_row0_col4, #T_d4bc7_row0_col5, #T_d4bc7_row0_col6, #T_d4bc7_row3_col0, #T_d4bc7_row3_col8, #T_d4bc7_row6_col7, #T_d4bc7_row9_col1, #T_d4bc7_row9_col2 {\n",
       "  color: darkgreen;\n",
       "}\n",
       "</style>\n",
       "<table id=\"T_d4bc7_\">\n",
       "  <thead>\n",
       "    <tr>\n",
       "      <th class=\"blank level0\" >&nbsp;</th>\n",
       "      <th class=\"col_heading level0 col0\" >number</th>\n",
       "      <th class=\"col_heading level0 col1\" >bias</th>\n",
       "      <th class=\"col_heading level0 col2\" >rmse</th>\n",
       "      <th class=\"col_heading level0 col3\" >swillmott</th>\n",
       "      <th class=\"col_heading level0 col4\" >slopedev</th>\n",
       "      <th class=\"col_heading level0 col5\" >const</th>\n",
       "      <th class=\"col_heading level0 col6\" >systematic</th>\n",
       "      <th class=\"col_heading level0 col7\" >nonsystematic</th>\n",
       "      <th class=\"col_heading level0 col8\" >spread</th>\n",
       "    </tr>\n",
       "  </thead>\n",
       "  <tbody>\n",
       "    <tr>\n",
       "      <th id=\"T_d4bc7_level0_row0\" class=\"row_heading level0 row0\" >H201812</th>\n",
       "      <td id=\"T_d4bc7_row0_col0\" class=\"data row0 col0\" >2940</td>\n",
       "      <td id=\"T_d4bc7_row0_col1\" class=\"data row0 col1\" >-1.5</td>\n",
       "      <td id=\"T_d4bc7_row0_col2\" class=\"data row0 col2\" >3.5</td>\n",
       "      <td id=\"T_d4bc7_row0_col3\" class=\"data row0 col3\" >0.13</td>\n",
       "      <td id=\"T_d4bc7_row0_col4\" class=\"data row0 col4\" >0.14</td>\n",
       "      <td id=\"T_d4bc7_row0_col5\" class=\"data row0 col5\" >2.0</td>\n",
       "      <td id=\"T_d4bc7_row0_col6\" class=\"data row0 col6\" >1.7</td>\n",
       "      <td id=\"T_d4bc7_row0_col7\" class=\"data row0 col7\" >3.1</td>\n",
       "      <td id=\"T_d4bc7_row0_col8\" class=\"data row0 col8\" >-0.16</td>\n",
       "    </tr>\n",
       "    <tr>\n",
       "      <th id=\"T_d4bc7_level0_row1\" class=\"row_heading level0 row1\" >H201905</th>\n",
       "      <td id=\"T_d4bc7_row1_col0\" class=\"data row1 col0\" >2940</td>\n",
       "      <td id=\"T_d4bc7_row1_col1\" class=\"data row1 col1\" >-1.5</td>\n",
       "      <td id=\"T_d4bc7_row1_col2\" class=\"data row1 col2\" >3.3</td>\n",
       "      <td id=\"T_d4bc7_row1_col3\" class=\"data row1 col3\" >0.14</td>\n",
       "      <td id=\"T_d4bc7_row1_col4\" class=\"data row1 col4\" >0.33</td>\n",
       "      <td id=\"T_d4bc7_row1_col5\" class=\"data row1 col5\" >6.8</td>\n",
       "      <td id=\"T_d4bc7_row1_col6\" class=\"data row1 col6\" >2.2</td>\n",
       "      <td id=\"T_d4bc7_row1_col7\" class=\"data row1 col7\" >2.4</td>\n",
       "      <td id=\"T_d4bc7_row1_col8\" class=\"data row1 col8\" >0.31</td>\n",
       "    </tr>\n",
       "    <tr>\n",
       "      <th id=\"T_d4bc7_level0_row2\" class=\"row_heading level0 row2\" >Cp2</th>\n",
       "      <td id=\"T_d4bc7_row2_col0\" class=\"data row2 col0\" >2940</td>\n",
       "      <td id=\"T_d4bc7_row2_col1\" class=\"data row2 col1\" >-2.2</td>\n",
       "      <td id=\"T_d4bc7_row2_col2\" class=\"data row2 col2\" >3.6</td>\n",
       "      <td id=\"T_d4bc7_row2_col3\" class=\"data row2 col3\" >0.15</td>\n",
       "      <td id=\"T_d4bc7_row2_col4\" class=\"data row2 col4\" >0.24</td>\n",
       "      <td id=\"T_d4bc7_row2_col5\" class=\"data row2 col5\" >3.8</td>\n",
       "      <td id=\"T_d4bc7_row2_col6\" class=\"data row2 col6\" >2.5</td>\n",
       "      <td id=\"T_d4bc7_row2_col7\" class=\"data row2 col7\" >2.6</td>\n",
       "      <td id=\"T_d4bc7_row2_col8\" class=\"data row2 col8\" >0.13</td>\n",
       "    </tr>\n",
       "    <tr>\n",
       "      <th id=\"T_d4bc7_level0_row3\" class=\"row_heading level0 row3\" >Cp3</th>\n",
       "      <td id=\"T_d4bc7_row3_col0\" class=\"data row3 col0\" >2936</td>\n",
       "      <td id=\"T_d4bc7_row3_col1\" class=\"data row3 col1\" >-2.3</td>\n",
       "      <td id=\"T_d4bc7_row3_col2\" class=\"data row3 col2\" >3.7</td>\n",
       "      <td id=\"T_d4bc7_row3_col3\" class=\"data row3 col3\" >0.15</td>\n",
       "      <td id=\"T_d4bc7_row3_col4\" class=\"data row3 col4\" >0.23</td>\n",
       "      <td id=\"T_d4bc7_row3_col5\" class=\"data row3 col5\" >3.7</td>\n",
       "      <td id=\"T_d4bc7_row3_col6\" class=\"data row3 col6\" >2.5</td>\n",
       "      <td id=\"T_d4bc7_row3_col7\" class=\"data row3 col7\" >2.6</td>\n",
       "      <td id=\"T_d4bc7_row3_col8\" class=\"data row3 col8\" >0.12</td>\n",
       "    </tr>\n",
       "    <tr>\n",
       "      <th id=\"T_d4bc7_level0_row4\" class=\"row_heading level0 row4\" >Dagain</th>\n",
       "      <td id=\"T_d4bc7_row4_col0\" class=\"data row4 col0\" >2940</td>\n",
       "      <td id=\"T_d4bc7_row4_col1\" class=\"data row4 col1\" >-1.7</td>\n",
       "      <td id=\"T_d4bc7_row4_col2\" class=\"data row4 col2\" >3.3</td>\n",
       "      <td id=\"T_d4bc7_row4_col3\" class=\"data row4 col3\" >0.14</td>\n",
       "      <td id=\"T_d4bc7_row4_col4\" class=\"data row4 col4\" >0.32</td>\n",
       "      <td id=\"T_d4bc7_row4_col5\" class=\"data row4 col5\" >6.5</td>\n",
       "      <td id=\"T_d4bc7_row4_col6\" class=\"data row4 col6\" >2.3</td>\n",
       "      <td id=\"T_d4bc7_row4_col7\" class=\"data row4 col7\" >2.3</td>\n",
       "      <td id=\"T_d4bc7_row4_col8\" class=\"data row4 col8\" >0.31</td>\n",
       "    </tr>\n",
       "    <tr>\n",
       "      <th id=\"T_d4bc7_level0_row5\" class=\"row_heading level0 row5\" >D-noCil</th>\n",
       "      <td id=\"T_d4bc7_row5_col0\" class=\"data row5 col0\" >2938</td>\n",
       "      <td id=\"T_d4bc7_row5_col1\" class=\"data row5 col1\" >-2.2</td>\n",
       "      <td id=\"T_d4bc7_row5_col2\" class=\"data row5 col2\" >3.6</td>\n",
       "      <td id=\"T_d4bc7_row5_col3\" class=\"data row5 col3\" >0.14</td>\n",
       "      <td id=\"T_d4bc7_row5_col4\" class=\"data row5 col4\" >0.25</td>\n",
       "      <td id=\"T_d4bc7_row5_col5\" class=\"data row5 col5\" >4.1</td>\n",
       "      <td id=\"T_d4bc7_row5_col6\" class=\"data row5 col6\" >2.5</td>\n",
       "      <td id=\"T_d4bc7_row5_col7\" class=\"data row5 col7\" >2.6</td>\n",
       "      <td id=\"T_d4bc7_row5_col8\" class=\"data row5 col8\" >0.16</td>\n",
       "    </tr>\n",
       "    <tr>\n",
       "      <th id=\"T_d4bc7_level0_row6\" class=\"row_heading level0 row6\" >D-lowR</th>\n",
       "      <td id=\"T_d4bc7_row6_col0\" class=\"data row6 col0\" >2938</td>\n",
       "      <td id=\"T_d4bc7_row6_col1\" class=\"data row6 col1\" >-1.6</td>\n",
       "      <td id=\"T_d4bc7_row6_col2\" class=\"data row6 col2\" >3.2</td>\n",
       "      <td id=\"T_d4bc7_row6_col3\" class=\"data row6 col3\" >0.14</td>\n",
       "      <td id=\"T_d4bc7_row6_col4\" class=\"data row6 col4\" >0.33</td>\n",
       "      <td id=\"T_d4bc7_row6_col5\" class=\"data row6 col5\" >6.8</td>\n",
       "      <td id=\"T_d4bc7_row6_col6\" class=\"data row6 col6\" >2.3</td>\n",
       "      <td id=\"T_d4bc7_row6_col7\" class=\"data row6 col7\" >2.3</td>\n",
       "      <td id=\"T_d4bc7_row6_col8\" class=\"data row6 col8\" >0.32</td>\n",
       "    </tr>\n",
       "    <tr>\n",
       "      <th id=\"T_d4bc7_level0_row7\" class=\"row_heading level0 row7\" >F</th>\n",
       "      <td id=\"T_d4bc7_row7_col0\" class=\"data row7 col0\" >2938</td>\n",
       "      <td id=\"T_d4bc7_row7_col1\" class=\"data row7 col1\" >-1.8</td>\n",
       "      <td id=\"T_d4bc7_row7_col2\" class=\"data row7 col2\" >3.4</td>\n",
       "      <td id=\"T_d4bc7_row7_col3\" class=\"data row7 col3\" >0.15</td>\n",
       "      <td id=\"T_d4bc7_row7_col4\" class=\"data row7 col4\" >0.32</td>\n",
       "      <td id=\"T_d4bc7_row7_col5\" class=\"data row7 col5\" >6.3</td>\n",
       "      <td id=\"T_d4bc7_row7_col6\" class=\"data row7 col6\" >2.4</td>\n",
       "      <td id=\"T_d4bc7_row7_col7\" class=\"data row7 col7\" >2.4</td>\n",
       "      <td id=\"T_d4bc7_row7_col8\" class=\"data row7 col8\" >0.29</td>\n",
       "    </tr>\n",
       "    <tr>\n",
       "      <th id=\"T_d4bc7_level0_row8\" class=\"row_heading level0 row8\" >H</th>\n",
       "      <td id=\"T_d4bc7_row8_col0\" class=\"data row8 col0\" >2938</td>\n",
       "      <td id=\"T_d4bc7_row8_col1\" class=\"data row8 col1\" >-1.8</td>\n",
       "      <td id=\"T_d4bc7_row8_col2\" class=\"data row8 col2\" >3.4</td>\n",
       "      <td id=\"T_d4bc7_row8_col3\" class=\"data row8 col3\" >0.13</td>\n",
       "      <td id=\"T_d4bc7_row8_col4\" class=\"data row8 col4\" >0.27</td>\n",
       "      <td id=\"T_d4bc7_row8_col5\" class=\"data row8 col5\" >5.0</td>\n",
       "      <td id=\"T_d4bc7_row8_col6\" class=\"data row8 col6\" >2.2</td>\n",
       "      <td id=\"T_d4bc7_row8_col7\" class=\"data row8 col7\" >2.6</td>\n",
       "      <td id=\"T_d4bc7_row8_col8\" class=\"data row8 col8\" >0.19</td>\n",
       "    </tr>\n",
       "    <tr>\n",
       "      <th id=\"T_d4bc7_level0_row9\" class=\"row_heading level0 row9\" >Gp1</th>\n",
       "      <td id=\"T_d4bc7_row9_col0\" class=\"data row9 col0\" >2938</td>\n",
       "      <td id=\"T_d4bc7_row9_col1\" class=\"data row9 col1\" >-1.5</td>\n",
       "      <td id=\"T_d4bc7_row9_col2\" class=\"data row9 col2\" >3.2</td>\n",
       "      <td id=\"T_d4bc7_row9_col3\" class=\"data row9 col3\" >0.13</td>\n",
       "      <td id=\"T_d4bc7_row9_col4\" class=\"data row9 col4\" >0.3</td>\n",
       "      <td id=\"T_d4bc7_row9_col5\" class=\"data row9 col5\" >6.0</td>\n",
       "      <td id=\"T_d4bc7_row9_col6\" class=\"data row9 col6\" >2.1</td>\n",
       "      <td id=\"T_d4bc7_row9_col7\" class=\"data row9 col7\" >2.4</td>\n",
       "      <td id=\"T_d4bc7_row9_col8\" class=\"data row9 col8\" >0.26</td>\n",
       "    </tr>\n",
       "    <tr>\n",
       "      <th id=\"T_d4bc7_level0_row10\" class=\"row_heading level0 row10\" >Gp2</th>\n",
       "      <td id=\"T_d4bc7_row10_col0\" class=\"data row10 col0\" >2938</td>\n",
       "      <td id=\"T_d4bc7_row10_col1\" class=\"data row10 col1\" >-1.5</td>\n",
       "      <td id=\"T_d4bc7_row10_col2\" class=\"data row10 col2\" >3.2</td>\n",
       "      <td id=\"T_d4bc7_row10_col3\" class=\"data row10 col3\" >0.13</td>\n",
       "      <td id=\"T_d4bc7_row10_col4\" class=\"data row10 col4\" >0.31</td>\n",
       "      <td id=\"T_d4bc7_row10_col5\" class=\"data row10 col5\" >6.2</td>\n",
       "      <td id=\"T_d4bc7_row10_col6\" class=\"data row10 col6\" >2.1</td>\n",
       "      <td id=\"T_d4bc7_row10_col7\" class=\"data row10 col7\" >2.4</td>\n",
       "      <td id=\"T_d4bc7_row10_col8\" class=\"data row10 col8\" >0.27</td>\n",
       "    </tr>\n",
       "  </tbody>\n",
       "</table>\n"
      ],
      "text/plain": [
       "<pandas.io.formats.style.Styler at 0x7fc3894c0e80>"
      ]
     },
     "execution_count": 42,
     "metadata": {},
     "output_type": "execute_result"
    }
   ],
   "source": [
    "alltogether = pd.concat([d201812, d201905, dCp2, modCp3, Dagain, DnoC, DlowR, modF, modH, modGp1, modGp2], axis=0)\n",
    "foramt = \"{:.2}\"\n",
    "alltogether.style.format(myformat).apply(highlight_max_min)"
   ]
  },
  {
   "cell_type": "code",
   "execution_count": null,
   "metadata": {},
   "outputs": [],
   "source": []
  }
 ],
 "metadata": {
  "kernelspec": {
   "display_name": "py39",
   "language": "python",
   "name": "py39"
  },
  "language_info": {
   "codemirror_mode": {
    "name": "ipython",
    "version": 3
   },
   "file_extension": ".py",
   "mimetype": "text/x-python",
   "name": "python",
   "nbconvert_exporter": "python",
   "pygments_lexer": "ipython3",
   "version": "3.9.2"
  }
 },
 "nbformat": 4,
 "nbformat_minor": 4
}
