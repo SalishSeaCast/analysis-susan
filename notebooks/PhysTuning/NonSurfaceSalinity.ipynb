{
 "cells": [
  {
   "cell_type": "markdown",
   "metadata": {},
   "source": [
    "# Evaluation of Salinity Below 5 m"
   ]
  },
  {
   "cell_type": "markdown",
   "metadata": {},
   "source": [
    "## Salinity 5 m and deeper  \n",
    "Now with removing bad data."
   ]
  },
  {
   "cell_type": "code",
   "execution_count": 1,
   "metadata": {},
   "outputs": [],
   "source": [
    "import datetime as dt\n",
    "import matplotlib.pyplot as plt\n",
    "from matplotlib.colors import LogNorm\n",
    "import netCDF4 as nc\n",
    "import numpy as np\n",
    "import pandas as pd\n",
    "import statsmodels.api as sm\n",
    "\n",
    "from salishsea_tools import viz_tools\n",
    "\n",
    "%matplotlib inline"
   ]
  },
  {
   "cell_type": "code",
   "execution_count": 2,
   "metadata": {},
   "outputs": [],
   "source": [
    "foramt = \"{:.2}\"\n",
    "myformat = {'bias': foramt, 'rmse': foramt, 'swillmott': foramt, 'slopedev': foramt, 'const': foramt,\n",
    "                         'systematic': foramt, 'nonsystematic':foramt, \n",
    "                    'spread': foramt}"
   ]
  },
  {
   "cell_type": "code",
   "execution_count": 3,
   "metadata": {},
   "outputs": [],
   "source": [
    "def bias(df, obs, mod):\n",
    "    diffy = df[mod] - df[obs]\n",
    "    return diffy.count(), diffy.mean()"
   ]
  },
  {
   "cell_type": "code",
   "execution_count": 4,
   "metadata": {},
   "outputs": [],
   "source": [
    "def rmse(df, obs, mod):\n",
    "    return (np.sqrt(((df[mod] - df[obs])**2).mean()))"
   ]
  },
  {
   "cell_type": "code",
   "execution_count": 5,
   "metadata": {},
   "outputs": [],
   "source": [
    "def swillmott(df, obs, mod):\n",
    "    meanobs = df[obs].mean()\n",
    "    return (((df[mod] - df[obs])**2).sum()\n",
    "            /(( (df[mod] - meanobs).abs() + (df[obs] - meanobs).abs() )**2).sum())"
   ]
  },
  {
   "cell_type": "code",
   "execution_count": 6,
   "metadata": {},
   "outputs": [],
   "source": [
    "def slope_inter(df, obs, mod):\n",
    "    X = df[obs]\n",
    "    y = df[mod]\n",
    "    X = sm.add_constant(X)\n",
    "\n",
    "    # Fit and make the predictions by the model\n",
    "    model = sm.OLS(y, X, missing='drop').fit()\n",
    "    predictions = model.predict(X)\n",
    "    \n",
    "    nonsyst = np.sqrt(((y - predictions)**2).mean())\n",
    "    systematic = np.sqrt(((predictions - df[obs])**2).mean())\n",
    "    return model.params[obs], model.params['const'], systematic, nonsyst"
   ]
  },
  {
   "cell_type": "code",
   "execution_count": 7,
   "metadata": {},
   "outputs": [],
   "source": [
    "def spread(df, obs, mod):\n",
    "    return 1 - ((df[mod] - df[mod].mean())**2).mean() / ((df[obs] - df[obs].mean())**2).mean() "
   ]
  },
  {
   "cell_type": "code",
   "execution_count": 8,
   "metadata": {},
   "outputs": [],
   "source": [
    "def read_pieces(pieces):\n",
    "    temp1 = pd.read_csv(pieces[0])\n",
    "    for piece in pieces[1:]:\n",
    "        nextpiece = pd.read_csv(piece)\n",
    "        temp1 = pd.concat([temp1, nextpiece], ignore_index=True)\n",
    "    return temp1"
   ]
  },
  {
   "cell_type": "code",
   "execution_count": 9,
   "metadata": {},
   "outputs": [],
   "source": [
    "def filter_bad_data(temp1):\n",
    "    temp1_nohook = temp1[(temp1.Lat > 47.30) | (temp1.Lon < -122.5) | (temp1.Z < 5) | (temp1.SA > 26) ]\n",
    "    temp1_nobox_nohook = temp1_nohook[(temp1['depth (m)'] != 107) | (temp1.SA > 29)]\n",
    "    return temp1_nobox_nohook"
   ]
  },
  {
   "cell_type": "code",
   "execution_count": 10,
   "metadata": {},
   "outputs": [],
   "source": [
    "def plot_and_stats(temp1, name):\n",
    "    fig, ax = plt.subplots(1, 1, figsize=(6, 5))\n",
    "    vmax = 36\n",
    "    vmin = 12\n",
    "    counts, xedges, yedges, color = ax.hist2d(temp1.SA[temp1.k >= 5], temp1.mod_vosaline[temp1.k >= 5], \n",
    "                                           bins=np.arange(vmin, vmax, 0.5), norm=LogNorm());\n",
    "    fig.colorbar(color)\n",
    "    number, tbias = bias(temp1[temp1.k >= 5], 'SA', 'mod_vosaline')\n",
    "    trmse = rmse(temp1[temp1.k >= 5], 'SA', 'mod_vosaline')\n",
    "    tswillmott = swillmott(temp1[temp1.k >=5], 'SA', 'mod_vosaline')\n",
    "    m, c, syst, nonsyst = slope_inter(temp1[temp1.k >= 5], 'SA', 'mod_vosaline')\n",
    "    tspread = spread(temp1[temp1.k >= 5], 'SA', 'mod_vosaline')\n",
    "    ax.plot([vmin, vmax], [vmin, vmax], 'w-');\n",
    "    ax.plot(np.arange(vmin, vmax, 0.5), c + m*np.arange(vmin, vmax, 0.5), 'r-');\n",
    "    ax.arrow(13, 31, 0, 1-tbias/2, head_width=0.5, head_length=0.2, length_includes_head=True)\n",
    "    ax.arrow(13, 33, 0, -1+tbias/2, head_width=0.5, head_length=0.2, length_includes_head=True)\n",
    "    ax.arrow(14, 31, 0, 1-syst/2, head_width=0.5, head_length=0.2, length_includes_head=True)\n",
    "    ax.arrow(14, 33, 0, -1+syst/2, head_width=0.5, head_length=0.2, length_includes_head=True)\n",
    "    ax.arrow(15, 31, 0, 1-nonsyst/2, head_width=0.5, head_length=0.2, length_includes_head=True)\n",
    "    ax.arrow(15, 33, 0, -1+nonsyst/2, head_width=0.5, head_length=0.2, length_includes_head=True);\n",
    "    Cp2 = {'number': number,\n",
    "            'bias': tbias,\n",
    "          'rmse': trmse,\n",
    "          'swillmott': tswillmott,\n",
    "          'slopedev': 1-m,\n",
    "          'const': c,\n",
    "          'systematic': syst,\n",
    "          'nonsystematic': nonsyst,\n",
    "          'spread': tspread}\n",
    "    ax.text(13-0.2, 26, 'bias', rotation=90)\n",
    "    ax.text(14-0.2, 25, 'systematic', rotation=90)\n",
    "    ax.text(15-0.2, 24, 'non-systematic', rotation=90)\n",
    "    ax.set_title(f'{name}, Salinity below 5 m');\n",
    "    dCp2 = pd.DataFrame(data=Cp2, index=[name])\n",
    "    return dCp2\n"
   ]
  },
  {
   "cell_type": "code",
   "execution_count": 18,
   "metadata": {},
   "outputs": [],
   "source": [
    "pieces = ('/home/sallen/202007/H201812/ObsModel_H201812_ctd_20150101_20151231.csv',\n",
    "         '/home/sallen/202007/H201812/ObsModel_H201812_ctd_20160101_20161231.csv',\n",
    "         '/home/sallen/202007/H201812/ObsModel_H201812_ctd_20170101_20171231.csv',\n",
    "         '/home/sallen/202007/H201812/ObsModel_H201812_psfts_20150101_20151231.csv',\n",
    "         '/home/sallen/202007/H201812/ObsModel_H201812_psfts_20160101_20161231.csv',\n",
    "          '/home/sallen/202007/H201812/ObsModel_H201812_psfts_20170101_20171231.csv',\n",
    "          '/home/sallen/202007/H201812/ObsModel_H201812_pugts_20150101_20151231.csv',\n",
    "          '/home/sallen/202007/H201812/ObsModel_H201812_pugts_20160101_20161231.csv',\n",
    "          '/home/sallen/202007/H201812/ObsModel_H201812_pugts_20170101_20171231.csv',\n",
    "          '/home/sallen/202007/H201812/ObsModel_H201812_onc_20150101_20151231.csv',\n",
    "          '/home/sallen/202007/H201812/ObsModel_H201812_onc_20160101_20161231.csv',\n",
    "          '/home/sallen/202007/H201812/ObsModel_H201812_onc_20170101_20171231.csv'\n",
    "         )"
   ]
  },
  {
   "cell_type": "code",
   "execution_count": 19,
   "metadata": {},
   "outputs": [
    {
     "name": "stderr",
     "output_type": "stream",
     "text": [
      "/ocean/sallen/miniconda3/envs/py39/lib/python3.9/site-packages/statsmodels/tsa/tsatools.py:142: FutureWarning: In a future version of pandas all arguments of concat except for the argument 'objs' will be keyword-only\n",
      "  x = pd.concat(x[::order], 1)\n"
     ]
    },
    {
     "data": {
      "text/html": [
       "<style type=\"text/css\">\n",
       "</style>\n",
       "<table id=\"T_8ff38_\">\n",
       "  <thead>\n",
       "    <tr>\n",
       "      <th class=\"blank level0\" >&nbsp;</th>\n",
       "      <th class=\"col_heading level0 col0\" >number</th>\n",
       "      <th class=\"col_heading level0 col1\" >bias</th>\n",
       "      <th class=\"col_heading level0 col2\" >rmse</th>\n",
       "      <th class=\"col_heading level0 col3\" >swillmott</th>\n",
       "      <th class=\"col_heading level0 col4\" >slopedev</th>\n",
       "      <th class=\"col_heading level0 col5\" >const</th>\n",
       "      <th class=\"col_heading level0 col6\" >systematic</th>\n",
       "      <th class=\"col_heading level0 col7\" >nonsystematic</th>\n",
       "      <th class=\"col_heading level0 col8\" >spread</th>\n",
       "    </tr>\n",
       "  </thead>\n",
       "  <tbody>\n",
       "    <tr>\n",
       "      <th id=\"T_8ff38_level0_row0\" class=\"row_heading level0 row0\" >H201812</th>\n",
       "      <td id=\"T_8ff38_row0_col0\" class=\"data row0 col0\" >1312447</td>\n",
       "      <td id=\"T_8ff38_row0_col1\" class=\"data row0 col1\" >0.15</td>\n",
       "      <td id=\"T_8ff38_row0_col2\" class=\"data row0 col2\" >0.5</td>\n",
       "      <td id=\"T_8ff38_row0_col3\" class=\"data row0 col3\" >0.056</td>\n",
       "      <td id=\"T_8ff38_row0_col4\" class=\"data row0 col4\" >0.13</td>\n",
       "      <td id=\"T_8ff38_row0_col5\" class=\"data row0 col5\" >4.1</td>\n",
       "      <td id=\"T_8ff38_row0_col6\" class=\"data row0 col6\" >0.21</td>\n",
       "      <td id=\"T_8ff38_row0_col7\" class=\"data row0 col7\" >0.45</td>\n",
       "      <td id=\"T_8ff38_row0_col8\" class=\"data row0 col8\" >0.07</td>\n",
       "    </tr>\n",
       "  </tbody>\n",
       "</table>\n"
      ],
      "text/plain": [
       "<pandas.io.formats.style.Styler at 0x7f93ab3c2bb0>"
      ]
     },
     "execution_count": 19,
     "metadata": {},
     "output_type": "execute_result"
    },
    {
     "data": {
      "image/png": "[encoded data removed]",
      "text/plain": [
       "<Figure size 432x360 with 2 Axes>"
      ]
     },
     "metadata": {
      "needs_background": "light"
     },
     "output_type": "display_data"
    }
   ],
   "source": [
    "temp1 = read_pieces(pieces)\n",
    "temp1['SA'] = temp1.SA.fillna(value=temp1['salinity (g/kg)'])\n",
    "#temp1['SA'] = temp1['salinity (g/kg)']\n",
    "temp1.drop(columns='Unnamed: 0', inplace=True)\n",
    "temp1.drop_duplicates(inplace=True)\n",
    "#d201812 = plot_and_stats(filter_bad_data(temp1), 'H201812')\n",
    "d201812 = plot_and_stats(temp1, 'H201812')\n",
    "d201812.style.format(myformat)"
   ]
  },
  {
   "cell_type": "code",
   "execution_count": 13,
   "metadata": {},
   "outputs": [],
   "source": [
    "pieces = (\n",
    "         '/home/sallen/202007/H201905/ObsModel_H201905_ctd_20150101_20151231.csv',\n",
    "         '/home/sallen/202007/H201905/ObsModel_H201905_ctd_20160101_20161231.csv',\n",
    "  #       '/home/sallen/202007/H201905/ObsModel_H201905_ctd_20170101_20171231.csv',\n",
    "         '/home/sallen/202007/H201905/ObsModel_H201905_psfts_20150101_20151231.csv',\n",
    "         '/home/sallen/202007/H201905/ObsModel_H201905_psfts_20160101_20161231.csv',\n",
    "  #        '/home/sallen/202007/H201905/ObsModel_H201905_psfts_20170101_20171231.csv',\n",
    "         '/home/sallen/202007/H201905/ObsModel_H201905_pugts_20150101_20151231.csv',\n",
    "          '/home/sallen/202007/H201905/ObsModel_H201905_pugts_20160101_20161231.csv',\n",
    "  #        '/home/sallen/202007/H201905/ObsModel_H201905_pugts_20170101_20171231.csv',\n",
    "          '/home/sallen/202007/H201905/ObsModel_H201905_onc_20150101_20150331.csv',\n",
    "          '/home/sallen/202007/H201905/ObsModel_H201905_onc_20150301_20150630.csv',\n",
    "          '/home/sallen/202007/H201905/ObsModel_H201905_onc_20150601_20150930.csv',\n",
    "          '/home/sallen/202007/H201905/ObsModel_H201905_onc_20150901_20151231.csv',\n",
    "         '/home/sallen/202007/H201905/ObsModel_H201905_onc_20160101_20161231.csv',\n",
    "  #        '/home/sallen/202007/H201905/ObsModel_H201905_onc_20170101_20171231.csv'\n",
    "         )"
   ]
  },
  {
   "cell_type": "code",
   "execution_count": 14,
   "metadata": {},
   "outputs": [
    {
     "name": "stderr",
     "output_type": "stream",
     "text": [
      "/ocean/sallen/miniconda3/envs/py39/lib/python3.9/site-packages/statsmodels/tsa/tsatools.py:142: FutureWarning: In a future version of pandas all arguments of concat except for the argument 'objs' will be keyword-only\n",
      "  x = pd.concat(x[::order], 1)\n"
     ]
    },
    {
     "data": {
      "text/html": [
       "<style type=\"text/css\">\n",
       "</style>\n",
       "<table id=\"T_3e4a8_\">\n",
       "  <thead>\n",
       "    <tr>\n",
       "      <th class=\"blank level0\" >&nbsp;</th>\n",
       "      <th class=\"col_heading level0 col0\" >number</th>\n",
       "      <th class=\"col_heading level0 col1\" >bias</th>\n",
       "      <th class=\"col_heading level0 col2\" >rmse</th>\n",
       "      <th class=\"col_heading level0 col3\" >swillmott</th>\n",
       "      <th class=\"col_heading level0 col4\" >slopedev</th>\n",
       "      <th class=\"col_heading level0 col5\" >const</th>\n",
       "      <th class=\"col_heading level0 col6\" >systematic</th>\n",
       "      <th class=\"col_heading level0 col7\" >nonsystematic</th>\n",
       "      <th class=\"col_heading level0 col8\" >spread</th>\n",
       "    </tr>\n",
       "  </thead>\n",
       "  <tbody>\n",
       "    <tr>\n",
       "      <th id=\"T_3e4a8_level0_row0\" class=\"row_heading level0 row0\" >H201905</th>\n",
       "      <td id=\"T_3e4a8_row0_col0\" class=\"data row0 col0\" >909943</td>\n",
       "      <td id=\"T_3e4a8_row0_col1\" class=\"data row0 col1\" >0.088</td>\n",
       "      <td id=\"T_3e4a8_row0_col2\" class=\"data row0 col2\" >0.39</td>\n",
       "      <td id=\"T_3e4a8_row0_col3\" class=\"data row0 col3\" >0.036</td>\n",
       "      <td id=\"T_3e4a8_row0_col4\" class=\"data row0 col4\" >0.07</td>\n",
       "      <td id=\"T_3e4a8_row0_col5\" class=\"data row0 col5\" >2.2</td>\n",
       "      <td id=\"T_3e4a8_row0_col6\" class=\"data row0 col6\" >0.11</td>\n",
       "      <td id=\"T_3e4a8_row0_col7\" class=\"data row0 col7\" >0.38</td>\n",
       "      <td id=\"T_3e4a8_row0_col8\" class=\"data row0 col8\" >0.0046</td>\n",
       "    </tr>\n",
       "  </tbody>\n",
       "</table>\n"
      ],
      "text/plain": [
       "<pandas.io.formats.style.Styler at 0x7f93ab826400>"
      ]
     },
     "execution_count": 14,
     "metadata": {},
     "output_type": "execute_result"
    },
    {
     "data": {
      "image/png": "[encoded data removed]",
      "text/plain": [
       "<Figure size 432x360 with 2 Axes>"
      ]
     },
     "metadata": {
      "needs_background": "light"
     },
     "output_type": "display_data"
    }
   ],
   "source": [
    "temp1 = read_pieces(pieces)\n",
    "temp1['SA'] = temp1.SA.fillna(value=temp1['salinity (g/kg)'])\n",
    "#temp1['SA'] = temp1['salinity (g/kg)']\n",
    "temp1.drop(columns='Unnamed: 0', inplace=True)\n",
    "temp1.drop_duplicates(inplace=True)\n",
    "#d201905 = plot_and_stats(filter_bad_data(temp1), 'H201905')\n",
    "d201905 = plot_and_stats(temp1, 'H201905')\n",
    "d201905.style.format(myformat)"
   ]
  },
  {
   "cell_type": "markdown",
   "metadata": {},
   "source": [
    "## 2017 only"
   ]
  },
  {
   "cell_type": "code",
   "execution_count": 15,
   "metadata": {},
   "outputs": [
    {
     "ename": "ValueError",
     "evalue": "minvalue must be positive",
     "output_type": "error",
     "traceback": [
      "\u001b[0;31m---------------------------------------------------------------------------\u001b[0m",
      "\u001b[0;31mValueError\u001b[0m                                Traceback (most recent call last)",
      "\u001b[0;32m<ipython-input-15-4eec77a11af1>\u001b[0m in \u001b[0;36m<module>\u001b[0;34m\u001b[0m\n\u001b[1;32m      3\u001b[0m \u001b[0mntemp\u001b[0m\u001b[0;34m.\u001b[0m\u001b[0msort_index\u001b[0m\u001b[0;34m(\u001b[0m\u001b[0minplace\u001b[0m\u001b[0;34m=\u001b[0m\u001b[0;32mTrue\u001b[0m\u001b[0;34m)\u001b[0m\u001b[0;34m\u001b[0m\u001b[0;34m\u001b[0m\u001b[0m\n\u001b[1;32m      4\u001b[0m \u001b[0mntemp\u001b[0m\u001b[0;34m.\u001b[0m\u001b[0mindex\u001b[0m \u001b[0;34m=\u001b[0m \u001b[0mpd\u001b[0m\u001b[0;34m.\u001b[0m\u001b[0mto_datetime\u001b[0m\u001b[0;34m(\u001b[0m\u001b[0mntemp\u001b[0m\u001b[0;34m.\u001b[0m\u001b[0mindex\u001b[0m\u001b[0;34m)\u001b[0m\u001b[0;34m\u001b[0m\u001b[0;34m\u001b[0m\u001b[0m\n\u001b[0;32m----> 5\u001b[0;31m \u001b[0md201812\u001b[0m \u001b[0;34m=\u001b[0m \u001b[0mplot_and_stats\u001b[0m\u001b[0;34m(\u001b[0m\u001b[0mntemp\u001b[0m\u001b[0;34m[\u001b[0m\u001b[0mntemp\u001b[0m\u001b[0;34m.\u001b[0m\u001b[0mindex\u001b[0m \u001b[0;34m>\u001b[0m \u001b[0mdt\u001b[0m\u001b[0;34m.\u001b[0m\u001b[0mdatetime\u001b[0m\u001b[0;34m(\u001b[0m\u001b[0;36m2017\u001b[0m\u001b[0;34m,\u001b[0m \u001b[0;36m1\u001b[0m\u001b[0;34m,\u001b[0m \u001b[0;36m1\u001b[0m\u001b[0;34m)\u001b[0m\u001b[0;34m]\u001b[0m\u001b[0;34m,\u001b[0m \u001b[0;34m'H201812'\u001b[0m\u001b[0;34m)\u001b[0m\u001b[0;34m\u001b[0m\u001b[0;34m\u001b[0m\u001b[0m\n\u001b[0m\u001b[1;32m      6\u001b[0m \u001b[0md201812\u001b[0m\u001b[0;34m.\u001b[0m\u001b[0mstyle\u001b[0m\u001b[0;34m.\u001b[0m\u001b[0mformat\u001b[0m\u001b[0;34m(\u001b[0m\u001b[0mmyformat\u001b[0m\u001b[0;34m)\u001b[0m\u001b[0;34m\u001b[0m\u001b[0;34m\u001b[0m\u001b[0m\n",
      "\u001b[0;32m<ipython-input-10-334acd327d00>\u001b[0m in \u001b[0;36mplot_and_stats\u001b[0;34m(temp1, name)\u001b[0m\n\u001b[1;32m      5\u001b[0m     counts, xedges, yedges, color = ax.hist2d(temp1.SA[temp1.k >= 5], temp1.mod_vosaline[temp1.k >= 5], \n\u001b[1;32m      6\u001b[0m                                            bins=np.arange(vmin, vmax, 0.5), norm=LogNorm());\n\u001b[0;32m----> 7\u001b[0;31m     \u001b[0mfig\u001b[0m\u001b[0;34m.\u001b[0m\u001b[0mcolorbar\u001b[0m\u001b[0;34m(\u001b[0m\u001b[0mcolor\u001b[0m\u001b[0;34m)\u001b[0m\u001b[0;34m\u001b[0m\u001b[0;34m\u001b[0m\u001b[0m\n\u001b[0m\u001b[1;32m      8\u001b[0m     \u001b[0mnumber\u001b[0m\u001b[0;34m,\u001b[0m \u001b[0mtbias\u001b[0m \u001b[0;34m=\u001b[0m \u001b[0mbias\u001b[0m\u001b[0;34m(\u001b[0m\u001b[0mtemp1\u001b[0m\u001b[0;34m[\u001b[0m\u001b[0mtemp1\u001b[0m\u001b[0;34m.\u001b[0m\u001b[0mk\u001b[0m \u001b[0;34m>=\u001b[0m \u001b[0;36m5\u001b[0m\u001b[0;34m]\u001b[0m\u001b[0;34m,\u001b[0m \u001b[0;34m'SA'\u001b[0m\u001b[0;34m,\u001b[0m \u001b[0;34m'mod_vosaline'\u001b[0m\u001b[0;34m)\u001b[0m\u001b[0;34m\u001b[0m\u001b[0;34m\u001b[0m\u001b[0m\n\u001b[1;32m      9\u001b[0m     \u001b[0mtrmse\u001b[0m \u001b[0;34m=\u001b[0m \u001b[0mrmse\u001b[0m\u001b[0;34m(\u001b[0m\u001b[0mtemp1\u001b[0m\u001b[0;34m[\u001b[0m\u001b[0mtemp1\u001b[0m\u001b[0;34m.\u001b[0m\u001b[0mk\u001b[0m \u001b[0;34m>=\u001b[0m \u001b[0;36m5\u001b[0m\u001b[0;34m]\u001b[0m\u001b[0;34m,\u001b[0m \u001b[0;34m'SA'\u001b[0m\u001b[0;34m,\u001b[0m \u001b[0;34m'mod_vosaline'\u001b[0m\u001b[0;34m)\u001b[0m\u001b[0;34m\u001b[0m\u001b[0;34m\u001b[0m\u001b[0m\n",
      "\u001b[0;32m/ocean/sallen/miniconda3/envs/py39/lib/python3.9/site-packages/matplotlib/figure.py\u001b[0m in \u001b[0;36mcolorbar\u001b[0;34m(self, mappable, cax, ax, use_gridspec, **kw)\u001b[0m\n\u001b[1;32m   2341\u001b[0m                              'panchor']\n\u001b[1;32m   2342\u001b[0m         \u001b[0mcb_kw\u001b[0m \u001b[0;34m=\u001b[0m \u001b[0;34m{\u001b[0m\u001b[0mk\u001b[0m\u001b[0;34m:\u001b[0m \u001b[0mv\u001b[0m \u001b[0;32mfor\u001b[0m \u001b[0mk\u001b[0m\u001b[0;34m,\u001b[0m \u001b[0mv\u001b[0m \u001b[0;32min\u001b[0m \u001b[0mkw\u001b[0m\u001b[0;34m.\u001b[0m\u001b[0mitems\u001b[0m\u001b[0;34m(\u001b[0m\u001b[0;34m)\u001b[0m \u001b[0;32mif\u001b[0m \u001b[0mk\u001b[0m \u001b[0;32mnot\u001b[0m \u001b[0;32min\u001b[0m \u001b[0mNON_COLORBAR_KEYS\u001b[0m\u001b[0;34m}\u001b[0m\u001b[0;34m\u001b[0m\u001b[0;34m\u001b[0m\u001b[0m\n\u001b[0;32m-> 2343\u001b[0;31m         \u001b[0mcb\u001b[0m \u001b[0;34m=\u001b[0m \u001b[0mcbar\u001b[0m\u001b[0;34m.\u001b[0m\u001b[0mcolorbar_factory\u001b[0m\u001b[0;34m(\u001b[0m\u001b[0mcax\u001b[0m\u001b[0;34m,\u001b[0m \u001b[0mmappable\u001b[0m\u001b[0;34m,\u001b[0m \u001b[0;34m**\u001b[0m\u001b[0mcb_kw\u001b[0m\u001b[0;34m)\u001b[0m\u001b[0;34m\u001b[0m\u001b[0;34m\u001b[0m\u001b[0m\n\u001b[0m\u001b[1;32m   2344\u001b[0m \u001b[0;34m\u001b[0m\u001b[0m\n\u001b[1;32m   2345\u001b[0m         \u001b[0mself\u001b[0m\u001b[0;34m.\u001b[0m\u001b[0msca\u001b[0m\u001b[0;34m(\u001b[0m\u001b[0mcurrent_ax\u001b[0m\u001b[0;34m)\u001b[0m\u001b[0;34m\u001b[0m\u001b[0;34m\u001b[0m\u001b[0m\n",
      "\u001b[0;32m/ocean/sallen/miniconda3/envs/py39/lib/python3.9/site-packages/matplotlib/colorbar.py\u001b[0m in \u001b[0;36mcolorbar_factory\u001b[0;34m(cax, mappable, **kwargs)\u001b[0m\n\u001b[1;32m   1732\u001b[0m         \u001b[0mcb\u001b[0m \u001b[0;34m=\u001b[0m \u001b[0mColorbarPatch\u001b[0m\u001b[0;34m(\u001b[0m\u001b[0mcax\u001b[0m\u001b[0;34m,\u001b[0m \u001b[0mmappable\u001b[0m\u001b[0;34m,\u001b[0m \u001b[0;34m**\u001b[0m\u001b[0mkwargs\u001b[0m\u001b[0;34m)\u001b[0m\u001b[0;34m\u001b[0m\u001b[0;34m\u001b[0m\u001b[0m\n\u001b[1;32m   1733\u001b[0m     \u001b[0;32melse\u001b[0m\u001b[0;34m:\u001b[0m\u001b[0;34m\u001b[0m\u001b[0;34m\u001b[0m\u001b[0m\n\u001b[0;32m-> 1734\u001b[0;31m         \u001b[0mcb\u001b[0m \u001b[0;34m=\u001b[0m \u001b[0mColorbar\u001b[0m\u001b[0;34m(\u001b[0m\u001b[0mcax\u001b[0m\u001b[0;34m,\u001b[0m \u001b[0mmappable\u001b[0m\u001b[0;34m,\u001b[0m \u001b[0;34m**\u001b[0m\u001b[0mkwargs\u001b[0m\u001b[0;34m)\u001b[0m\u001b[0;34m\u001b[0m\u001b[0;34m\u001b[0m\u001b[0m\n\u001b[0m\u001b[1;32m   1735\u001b[0m \u001b[0;34m\u001b[0m\u001b[0m\n\u001b[1;32m   1736\u001b[0m     \u001b[0mcid\u001b[0m \u001b[0;34m=\u001b[0m \u001b[0mmappable\u001b[0m\u001b[0;34m.\u001b[0m\u001b[0mcallbacksSM\u001b[0m\u001b[0;34m.\u001b[0m\u001b[0mconnect\u001b[0m\u001b[0;34m(\u001b[0m\u001b[0;34m'changed'\u001b[0m\u001b[0;34m,\u001b[0m \u001b[0mcb\u001b[0m\u001b[0;34m.\u001b[0m\u001b[0mupdate_normal\u001b[0m\u001b[0;34m)\u001b[0m\u001b[0;34m\u001b[0m\u001b[0;34m\u001b[0m\u001b[0m\n",
      "\u001b[0;32m/ocean/sallen/miniconda3/envs/py39/lib/python3.9/site-packages/matplotlib/colorbar.py\u001b[0m in \u001b[0;36m__init__\u001b[0;34m(self, ax, mappable, **kwargs)\u001b[0m\n\u001b[1;32m   1226\u001b[0m             \u001b[0;32mif\u001b[0m \u001b[0misinstance\u001b[0m\u001b[0;34m(\u001b[0m\u001b[0mmappable\u001b[0m\u001b[0;34m,\u001b[0m \u001b[0mmartist\u001b[0m\u001b[0;34m.\u001b[0m\u001b[0mArtist\u001b[0m\u001b[0;34m)\u001b[0m\u001b[0;34m:\u001b[0m\u001b[0;34m\u001b[0m\u001b[0;34m\u001b[0m\u001b[0m\n\u001b[1;32m   1227\u001b[0m                 \u001b[0m_add_disjoint_kwargs\u001b[0m\u001b[0;34m(\u001b[0m\u001b[0mkwargs\u001b[0m\u001b[0;34m,\u001b[0m \u001b[0malpha\u001b[0m\u001b[0;34m=\u001b[0m\u001b[0mmappable\u001b[0m\u001b[0;34m.\u001b[0m\u001b[0mget_alpha\u001b[0m\u001b[0;34m(\u001b[0m\u001b[0;34m)\u001b[0m\u001b[0;34m)\u001b[0m\u001b[0;34m\u001b[0m\u001b[0;34m\u001b[0m\u001b[0m\n\u001b[0;32m-> 1228\u001b[0;31m             \u001b[0mColorbarBase\u001b[0m\u001b[0;34m.\u001b[0m\u001b[0m__init__\u001b[0m\u001b[0;34m(\u001b[0m\u001b[0mself\u001b[0m\u001b[0;34m,\u001b[0m \u001b[0max\u001b[0m\u001b[0;34m,\u001b[0m \u001b[0;34m**\u001b[0m\u001b[0mkwargs\u001b[0m\u001b[0;34m)\u001b[0m\u001b[0;34m\u001b[0m\u001b[0;34m\u001b[0m\u001b[0m\n\u001b[0m\u001b[1;32m   1229\u001b[0m \u001b[0;34m\u001b[0m\u001b[0m\n\u001b[1;32m   1230\u001b[0m     \u001b[0;34m@\u001b[0m\u001b[0mcbook\u001b[0m\u001b[0;34m.\u001b[0m\u001b[0mdeprecated\u001b[0m\u001b[0;34m(\u001b[0m\u001b[0;34m\"3.3\"\u001b[0m\u001b[0;34m,\u001b[0m \u001b[0malternative\u001b[0m\u001b[0;34m=\u001b[0m\u001b[0;34m\"update_normal\"\u001b[0m\u001b[0;34m)\u001b[0m\u001b[0;34m\u001b[0m\u001b[0;34m\u001b[0m\u001b[0m\n",
      "\u001b[0;32m/ocean/sallen/miniconda3/envs/py39/lib/python3.9/site-packages/matplotlib/cbook/deprecation.py\u001b[0m in \u001b[0;36mwrapper\u001b[0;34m(*args, **kwargs)\u001b[0m\n\u001b[1;32m    449\u001b[0m                 \u001b[0;34m\"parameter will become keyword-only %(removal)s.\"\u001b[0m\u001b[0;34m,\u001b[0m\u001b[0;34m\u001b[0m\u001b[0;34m\u001b[0m\u001b[0m\n\u001b[1;32m    450\u001b[0m                 name=name, obj_type=f\"parameter of {func.__name__}()\")\n\u001b[0;32m--> 451\u001b[0;31m         \u001b[0;32mreturn\u001b[0m \u001b[0mfunc\u001b[0m\u001b[0;34m(\u001b[0m\u001b[0;34m*\u001b[0m\u001b[0margs\u001b[0m\u001b[0;34m,\u001b[0m \u001b[0;34m**\u001b[0m\u001b[0mkwargs\u001b[0m\u001b[0;34m)\u001b[0m\u001b[0;34m\u001b[0m\u001b[0;34m\u001b[0m\u001b[0m\n\u001b[0m\u001b[1;32m    452\u001b[0m \u001b[0;34m\u001b[0m\u001b[0m\n\u001b[1;32m    453\u001b[0m     \u001b[0;32mreturn\u001b[0m \u001b[0mwrapper\u001b[0m\u001b[0;34m\u001b[0m\u001b[0;34m\u001b[0m\u001b[0m\n",
      "\u001b[0;32m/ocean/sallen/miniconda3/envs/py39/lib/python3.9/site-packages/matplotlib/colorbar.py\u001b[0m in \u001b[0;36m__init__\u001b[0;34m(self, ax, cmap, norm, alpha, values, boundaries, orientation, ticklocation, extend, spacing, ticks, format, drawedges, filled, extendfrac, extendrect, label)\u001b[0m\n\u001b[1;32m    489\u001b[0m         \u001b[0;32melse\u001b[0m\u001b[0;34m:\u001b[0m\u001b[0;34m\u001b[0m\u001b[0;34m\u001b[0m\u001b[0m\n\u001b[1;32m    490\u001b[0m             \u001b[0mself\u001b[0m\u001b[0;34m.\u001b[0m\u001b[0mformatter\u001b[0m \u001b[0;34m=\u001b[0m \u001b[0mformat\u001b[0m  \u001b[0;31m# Assume it is a Formatter or None\u001b[0m\u001b[0;34m\u001b[0m\u001b[0;34m\u001b[0m\u001b[0m\n\u001b[0;32m--> 491\u001b[0;31m         \u001b[0mself\u001b[0m\u001b[0;34m.\u001b[0m\u001b[0mdraw_all\u001b[0m\u001b[0;34m(\u001b[0m\u001b[0;34m)\u001b[0m\u001b[0;34m\u001b[0m\u001b[0;34m\u001b[0m\u001b[0m\n\u001b[0m\u001b[1;32m    492\u001b[0m \u001b[0;34m\u001b[0m\u001b[0m\n\u001b[1;32m    493\u001b[0m     \u001b[0;32mdef\u001b[0m \u001b[0m_extend_lower\u001b[0m\u001b[0;34m(\u001b[0m\u001b[0mself\u001b[0m\u001b[0;34m)\u001b[0m\u001b[0;34m:\u001b[0m\u001b[0;34m\u001b[0m\u001b[0;34m\u001b[0m\u001b[0m\n",
      "\u001b[0;32m/ocean/sallen/miniconda3/envs/py39/lib/python3.9/site-packages/matplotlib/colorbar.py\u001b[0m in \u001b[0;36mdraw_all\u001b[0;34m(self)\u001b[0m\n\u001b[1;32m    506\u001b[0m         \u001b[0;31m# sets self._boundaries and self._values in real data units.\u001b[0m\u001b[0;34m\u001b[0m\u001b[0;34m\u001b[0m\u001b[0;34m\u001b[0m\u001b[0m\n\u001b[1;32m    507\u001b[0m         \u001b[0;31m# takes into account extend values:\u001b[0m\u001b[0;34m\u001b[0m\u001b[0;34m\u001b[0m\u001b[0;34m\u001b[0m\u001b[0m\n\u001b[0;32m--> 508\u001b[0;31m         \u001b[0mself\u001b[0m\u001b[0;34m.\u001b[0m\u001b[0m_process_values\u001b[0m\u001b[0;34m(\u001b[0m\u001b[0;34m)\u001b[0m\u001b[0;34m\u001b[0m\u001b[0;34m\u001b[0m\u001b[0m\n\u001b[0m\u001b[1;32m    509\u001b[0m         \u001b[0;31m# sets self.vmin and vmax in data units, but just for the part of the\u001b[0m\u001b[0;34m\u001b[0m\u001b[0;34m\u001b[0m\u001b[0;34m\u001b[0m\u001b[0m\n\u001b[1;32m    510\u001b[0m         \u001b[0;31m# colorbar that is not part of the extend patch:\u001b[0m\u001b[0;34m\u001b[0m\u001b[0;34m\u001b[0m\u001b[0;34m\u001b[0m\u001b[0m\n",
      "\u001b[0;32m/ocean/sallen/miniconda3/envs/py39/lib/python3.9/site-packages/matplotlib/colorbar.py\u001b[0m in \u001b[0;36m_process_values\u001b[0;34m(self, b)\u001b[0m\n\u001b[1;32m    961\u001b[0m                 expander=0.1)\n\u001b[1;32m    962\u001b[0m \u001b[0;34m\u001b[0m\u001b[0m\n\u001b[0;32m--> 963\u001b[0;31m             \u001b[0mb\u001b[0m \u001b[0;34m=\u001b[0m \u001b[0mself\u001b[0m\u001b[0;34m.\u001b[0m\u001b[0mnorm\u001b[0m\u001b[0;34m.\u001b[0m\u001b[0minverse\u001b[0m\u001b[0;34m(\u001b[0m\u001b[0mself\u001b[0m\u001b[0;34m.\u001b[0m\u001b[0m_uniform_y\u001b[0m\u001b[0;34m(\u001b[0m\u001b[0mself\u001b[0m\u001b[0;34m.\u001b[0m\u001b[0mcmap\u001b[0m\u001b[0;34m.\u001b[0m\u001b[0mN\u001b[0m \u001b[0;34m+\u001b[0m \u001b[0;36m1\u001b[0m\u001b[0;34m)\u001b[0m\u001b[0;34m)\u001b[0m\u001b[0;34m\u001b[0m\u001b[0;34m\u001b[0m\u001b[0m\n\u001b[0m\u001b[1;32m    964\u001b[0m \u001b[0;34m\u001b[0m\u001b[0m\n\u001b[1;32m    965\u001b[0m             \u001b[0;32mif\u001b[0m \u001b[0misinstance\u001b[0m\u001b[0;34m(\u001b[0m\u001b[0mself\u001b[0m\u001b[0;34m.\u001b[0m\u001b[0mnorm\u001b[0m\u001b[0;34m,\u001b[0m \u001b[0;34m(\u001b[0m\u001b[0mcolors\u001b[0m\u001b[0;34m.\u001b[0m\u001b[0mPowerNorm\u001b[0m\u001b[0;34m,\u001b[0m \u001b[0mcolors\u001b[0m\u001b[0;34m.\u001b[0m\u001b[0mLogNorm\u001b[0m\u001b[0;34m)\u001b[0m\u001b[0;34m)\u001b[0m\u001b[0;34m:\u001b[0m\u001b[0;34m\u001b[0m\u001b[0;34m\u001b[0m\u001b[0m\n",
      "\u001b[0;32m/ocean/sallen/miniconda3/envs/py39/lib/python3.9/site-packages/matplotlib/colors.py\u001b[0m in \u001b[0;36minverse\u001b[0;34m(self, value)\u001b[0m\n\u001b[1;32m   1218\u001b[0m         \u001b[0;32mif\u001b[0m \u001b[0;32mnot\u001b[0m \u001b[0mself\u001b[0m\u001b[0;34m.\u001b[0m\u001b[0mscaled\u001b[0m\u001b[0;34m(\u001b[0m\u001b[0;34m)\u001b[0m\u001b[0;34m:\u001b[0m\u001b[0;34m\u001b[0m\u001b[0;34m\u001b[0m\u001b[0m\n\u001b[1;32m   1219\u001b[0m             \u001b[0;32mraise\u001b[0m \u001b[0mValueError\u001b[0m\u001b[0;34m(\u001b[0m\u001b[0;34m\"Not invertible until scaled\"\u001b[0m\u001b[0;34m)\u001b[0m\u001b[0;34m\u001b[0m\u001b[0;34m\u001b[0m\u001b[0m\n\u001b[0;32m-> 1220\u001b[0;31m         \u001b[0mself\u001b[0m\u001b[0;34m.\u001b[0m\u001b[0m_check_vmin_vmax\u001b[0m\u001b[0;34m(\u001b[0m\u001b[0;34m)\u001b[0m\u001b[0;34m\u001b[0m\u001b[0;34m\u001b[0m\u001b[0m\n\u001b[0m\u001b[1;32m   1221\u001b[0m         \u001b[0mvmin\u001b[0m\u001b[0;34m,\u001b[0m \u001b[0mvmax\u001b[0m \u001b[0;34m=\u001b[0m \u001b[0mself\u001b[0m\u001b[0;34m.\u001b[0m\u001b[0mvmin\u001b[0m\u001b[0;34m,\u001b[0m \u001b[0mself\u001b[0m\u001b[0;34m.\u001b[0m\u001b[0mvmax\u001b[0m\u001b[0;34m\u001b[0m\u001b[0;34m\u001b[0m\u001b[0m\n\u001b[1;32m   1222\u001b[0m \u001b[0;34m\u001b[0m\u001b[0m\n",
      "\u001b[0;32m/ocean/sallen/miniconda3/envs/py39/lib/python3.9/site-packages/matplotlib/colors.py\u001b[0m in \u001b[0;36m_check_vmin_vmax\u001b[0;34m(self)\u001b[0m\n\u001b[1;32m   1179\u001b[0m             \u001b[0;32mraise\u001b[0m \u001b[0mValueError\u001b[0m\u001b[0;34m(\u001b[0m\u001b[0;34m\"minvalue must be less than or equal to maxvalue\"\u001b[0m\u001b[0;34m)\u001b[0m\u001b[0;34m\u001b[0m\u001b[0;34m\u001b[0m\u001b[0m\n\u001b[1;32m   1180\u001b[0m         \u001b[0;32melif\u001b[0m \u001b[0mself\u001b[0m\u001b[0;34m.\u001b[0m\u001b[0mvmin\u001b[0m \u001b[0;34m<=\u001b[0m \u001b[0;36m0\u001b[0m\u001b[0;34m:\u001b[0m\u001b[0;34m\u001b[0m\u001b[0;34m\u001b[0m\u001b[0m\n\u001b[0;32m-> 1181\u001b[0;31m             \u001b[0;32mraise\u001b[0m \u001b[0mValueError\u001b[0m\u001b[0;34m(\u001b[0m\u001b[0;34m\"minvalue must be positive\"\u001b[0m\u001b[0;34m)\u001b[0m\u001b[0;34m\u001b[0m\u001b[0;34m\u001b[0m\u001b[0m\n\u001b[0m\u001b[1;32m   1182\u001b[0m \u001b[0;34m\u001b[0m\u001b[0m\n\u001b[1;32m   1183\u001b[0m     \u001b[0;32mdef\u001b[0m \u001b[0m__call__\u001b[0m\u001b[0;34m(\u001b[0m\u001b[0mself\u001b[0m\u001b[0;34m,\u001b[0m \u001b[0mvalue\u001b[0m\u001b[0;34m,\u001b[0m \u001b[0mclip\u001b[0m\u001b[0;34m=\u001b[0m\u001b[0;32mNone\u001b[0m\u001b[0;34m)\u001b[0m\u001b[0;34m:\u001b[0m\u001b[0;34m\u001b[0m\u001b[0;34m\u001b[0m\u001b[0m\n",
      "\u001b[0;31mValueError\u001b[0m: minvalue must be positive"
     ]
    },
    {
     "name": "stdout",
     "output_type": "stream",
     "text": [
      "Error in callback <function install_repl_displayhook.<locals>.post_execute at 0x7f94dbcb71f0> (for post_execute):\n"
     ]
    },
    {
     "ename": "ValueError",
     "evalue": "minvalue must be positive",
     "output_type": "error",
     "traceback": [
      "\u001b[0;31m---------------------------------------------------------------------------\u001b[0m",
      "\u001b[0;31mValueError\u001b[0m                                Traceback (most recent call last)",
      "\u001b[0;32m/ocean/sallen/miniconda3/envs/py39/lib/python3.9/site-packages/matplotlib/pyplot.py\u001b[0m in \u001b[0;36mpost_execute\u001b[0;34m()\u001b[0m\n\u001b[1;32m    136\u001b[0m             \u001b[0;32mdef\u001b[0m \u001b[0mpost_execute\u001b[0m\u001b[0;34m(\u001b[0m\u001b[0;34m)\u001b[0m\u001b[0;34m:\u001b[0m\u001b[0;34m\u001b[0m\u001b[0;34m\u001b[0m\u001b[0m\n\u001b[1;32m    137\u001b[0m                 \u001b[0;32mif\u001b[0m \u001b[0mmatplotlib\u001b[0m\u001b[0;34m.\u001b[0m\u001b[0mis_interactive\u001b[0m\u001b[0;34m(\u001b[0m\u001b[0;34m)\u001b[0m\u001b[0;34m:\u001b[0m\u001b[0;34m\u001b[0m\u001b[0;34m\u001b[0m\u001b[0m\n\u001b[0;32m--> 138\u001b[0;31m                     \u001b[0mdraw_all\u001b[0m\u001b[0;34m(\u001b[0m\u001b[0;34m)\u001b[0m\u001b[0;34m\u001b[0m\u001b[0;34m\u001b[0m\u001b[0m\n\u001b[0m\u001b[1;32m    139\u001b[0m \u001b[0;34m\u001b[0m\u001b[0m\n\u001b[1;32m    140\u001b[0m             \u001b[0;31m# IPython >= 2\u001b[0m\u001b[0;34m\u001b[0m\u001b[0;34m\u001b[0m\u001b[0;34m\u001b[0m\u001b[0m\n",
      "\u001b[0;32m/ocean/sallen/miniconda3/envs/py39/lib/python3.9/site-packages/matplotlib/_pylab_helpers.py\u001b[0m in \u001b[0;36mdraw_all\u001b[0;34m(cls, force)\u001b[0m\n\u001b[1;32m    136\u001b[0m         \u001b[0;32mfor\u001b[0m \u001b[0mmanager\u001b[0m \u001b[0;32min\u001b[0m \u001b[0mcls\u001b[0m\u001b[0;34m.\u001b[0m\u001b[0mget_all_fig_managers\u001b[0m\u001b[0;34m(\u001b[0m\u001b[0;34m)\u001b[0m\u001b[0;34m:\u001b[0m\u001b[0;34m\u001b[0m\u001b[0;34m\u001b[0m\u001b[0m\n\u001b[1;32m    137\u001b[0m             \u001b[0;32mif\u001b[0m \u001b[0mforce\u001b[0m \u001b[0;32mor\u001b[0m \u001b[0mmanager\u001b[0m\u001b[0;34m.\u001b[0m\u001b[0mcanvas\u001b[0m\u001b[0;34m.\u001b[0m\u001b[0mfigure\u001b[0m\u001b[0;34m.\u001b[0m\u001b[0mstale\u001b[0m\u001b[0;34m:\u001b[0m\u001b[0;34m\u001b[0m\u001b[0;34m\u001b[0m\u001b[0m\n\u001b[0;32m--> 138\u001b[0;31m                 \u001b[0mmanager\u001b[0m\u001b[0;34m.\u001b[0m\u001b[0mcanvas\u001b[0m\u001b[0;34m.\u001b[0m\u001b[0mdraw_idle\u001b[0m\u001b[0;34m(\u001b[0m\u001b[0;34m)\u001b[0m\u001b[0;34m\u001b[0m\u001b[0;34m\u001b[0m\u001b[0m\n\u001b[0m\u001b[1;32m    139\u001b[0m \u001b[0;34m\u001b[0m\u001b[0m\n\u001b[1;32m    140\u001b[0m \u001b[0;34m\u001b[0m\u001b[0m\n",
      "\u001b[0;32m/ocean/sallen/miniconda3/envs/py39/lib/python3.9/site-packages/matplotlib/backend_bases.py\u001b[0m in \u001b[0;36mdraw_idle\u001b[0;34m(self, *args, **kwargs)\u001b[0m\n\u001b[1;32m   2010\u001b[0m         \u001b[0;32mif\u001b[0m \u001b[0;32mnot\u001b[0m \u001b[0mself\u001b[0m\u001b[0;34m.\u001b[0m\u001b[0m_is_idle_drawing\u001b[0m\u001b[0;34m:\u001b[0m\u001b[0;34m\u001b[0m\u001b[0;34m\u001b[0m\u001b[0m\n\u001b[1;32m   2011\u001b[0m             \u001b[0;32mwith\u001b[0m \u001b[0mself\u001b[0m\u001b[0;34m.\u001b[0m\u001b[0m_idle_draw_cntx\u001b[0m\u001b[0;34m(\u001b[0m\u001b[0;34m)\u001b[0m\u001b[0;34m:\u001b[0m\u001b[0;34m\u001b[0m\u001b[0;34m\u001b[0m\u001b[0m\n\u001b[0;32m-> 2012\u001b[0;31m                 \u001b[0mself\u001b[0m\u001b[0;34m.\u001b[0m\u001b[0mdraw\u001b[0m\u001b[0;34m(\u001b[0m\u001b[0;34m*\u001b[0m\u001b[0margs\u001b[0m\u001b[0;34m,\u001b[0m \u001b[0;34m**\u001b[0m\u001b[0mkwargs\u001b[0m\u001b[0;34m)\u001b[0m\u001b[0;34m\u001b[0m\u001b[0;34m\u001b[0m\u001b[0m\n\u001b[0m\u001b[1;32m   2013\u001b[0m \u001b[0;34m\u001b[0m\u001b[0m\n\u001b[1;32m   2014\u001b[0m     \u001b[0;34m@\u001b[0m\u001b[0mcbook\u001b[0m\u001b[0;34m.\u001b[0m\u001b[0mdeprecated\u001b[0m\u001b[0;34m(\u001b[0m\u001b[0;34m\"3.2\"\u001b[0m\u001b[0;34m)\u001b[0m\u001b[0;34m\u001b[0m\u001b[0;34m\u001b[0m\u001b[0m\n",
      "\u001b[0;32m/ocean/sallen/miniconda3/envs/py39/lib/python3.9/site-packages/matplotlib/backends/backend_agg.py\u001b[0m in \u001b[0;36mdraw\u001b[0;34m(self)\u001b[0m\n\u001b[1;32m    405\u001b[0m              (self.toolbar._wait_cursor_for_draw_cm() if self.toolbar\n\u001b[1;32m    406\u001b[0m               else nullcontext()):\n\u001b[0;32m--> 407\u001b[0;31m             \u001b[0mself\u001b[0m\u001b[0;34m.\u001b[0m\u001b[0mfigure\u001b[0m\u001b[0;34m.\u001b[0m\u001b[0mdraw\u001b[0m\u001b[0;34m(\u001b[0m\u001b[0mself\u001b[0m\u001b[0;34m.\u001b[0m\u001b[0mrenderer\u001b[0m\u001b[0;34m)\u001b[0m\u001b[0;34m\u001b[0m\u001b[0;34m\u001b[0m\u001b[0m\n\u001b[0m\u001b[1;32m    408\u001b[0m             \u001b[0;31m# A GUI class may be need to update a window using this draw, so\u001b[0m\u001b[0;34m\u001b[0m\u001b[0;34m\u001b[0m\u001b[0;34m\u001b[0m\u001b[0m\n\u001b[1;32m    409\u001b[0m             \u001b[0;31m# don't forget to call the superclass.\u001b[0m\u001b[0;34m\u001b[0m\u001b[0;34m\u001b[0m\u001b[0;34m\u001b[0m\u001b[0m\n",
      "\u001b[0;32m/ocean/sallen/miniconda3/envs/py39/lib/python3.9/site-packages/matplotlib/artist.py\u001b[0m in \u001b[0;36mdraw_wrapper\u001b[0;34m(artist, renderer, *args, **kwargs)\u001b[0m\n\u001b[1;32m     39\u001b[0m                 \u001b[0mrenderer\u001b[0m\u001b[0;34m.\u001b[0m\u001b[0mstart_filter\u001b[0m\u001b[0;34m(\u001b[0m\u001b[0;34m)\u001b[0m\u001b[0;34m\u001b[0m\u001b[0;34m\u001b[0m\u001b[0m\n\u001b[1;32m     40\u001b[0m \u001b[0;34m\u001b[0m\u001b[0m\n\u001b[0;32m---> 41\u001b[0;31m             \u001b[0;32mreturn\u001b[0m \u001b[0mdraw\u001b[0m\u001b[0;34m(\u001b[0m\u001b[0martist\u001b[0m\u001b[0;34m,\u001b[0m \u001b[0mrenderer\u001b[0m\u001b[0;34m,\u001b[0m \u001b[0;34m*\u001b[0m\u001b[0margs\u001b[0m\u001b[0;34m,\u001b[0m \u001b[0;34m**\u001b[0m\u001b[0mkwargs\u001b[0m\u001b[0;34m)\u001b[0m\u001b[0;34m\u001b[0m\u001b[0;34m\u001b[0m\u001b[0m\n\u001b[0m\u001b[1;32m     42\u001b[0m         \u001b[0;32mfinally\u001b[0m\u001b[0;34m:\u001b[0m\u001b[0;34m\u001b[0m\u001b[0;34m\u001b[0m\u001b[0m\n\u001b[1;32m     43\u001b[0m             \u001b[0;32mif\u001b[0m \u001b[0martist\u001b[0m\u001b[0;34m.\u001b[0m\u001b[0mget_agg_filter\u001b[0m\u001b[0;34m(\u001b[0m\u001b[0;34m)\u001b[0m \u001b[0;32mis\u001b[0m \u001b[0;32mnot\u001b[0m \u001b[0;32mNone\u001b[0m\u001b[0;34m:\u001b[0m\u001b[0;34m\u001b[0m\u001b[0;34m\u001b[0m\u001b[0m\n",
      "\u001b[0;32m/ocean/sallen/miniconda3/envs/py39/lib/python3.9/site-packages/matplotlib/figure.py\u001b[0m in \u001b[0;36mdraw\u001b[0;34m(self, renderer)\u001b[0m\n\u001b[1;32m   1861\u001b[0m \u001b[0;34m\u001b[0m\u001b[0m\n\u001b[1;32m   1862\u001b[0m             \u001b[0mself\u001b[0m\u001b[0;34m.\u001b[0m\u001b[0mpatch\u001b[0m\u001b[0;34m.\u001b[0m\u001b[0mdraw\u001b[0m\u001b[0;34m(\u001b[0m\u001b[0mrenderer\u001b[0m\u001b[0;34m)\u001b[0m\u001b[0;34m\u001b[0m\u001b[0;34m\u001b[0m\u001b[0m\n\u001b[0;32m-> 1863\u001b[0;31m             mimage._draw_list_compositing_images(\n\u001b[0m\u001b[1;32m   1864\u001b[0m                 renderer, self, artists, self.suppressComposite)\n\u001b[1;32m   1865\u001b[0m \u001b[0;34m\u001b[0m\u001b[0m\n",
      "\u001b[0;32m/ocean/sallen/miniconda3/envs/py39/lib/python3.9/site-packages/matplotlib/image.py\u001b[0m in \u001b[0;36m_draw_list_compositing_images\u001b[0;34m(renderer, parent, artists, suppress_composite)\u001b[0m\n\u001b[1;32m    129\u001b[0m     \u001b[0;32mif\u001b[0m \u001b[0mnot_composite\u001b[0m \u001b[0;32mor\u001b[0m \u001b[0;32mnot\u001b[0m \u001b[0mhas_images\u001b[0m\u001b[0;34m:\u001b[0m\u001b[0;34m\u001b[0m\u001b[0;34m\u001b[0m\u001b[0m\n\u001b[1;32m    130\u001b[0m         \u001b[0;32mfor\u001b[0m \u001b[0ma\u001b[0m \u001b[0;32min\u001b[0m \u001b[0martists\u001b[0m\u001b[0;34m:\u001b[0m\u001b[0;34m\u001b[0m\u001b[0;34m\u001b[0m\u001b[0m\n\u001b[0;32m--> 131\u001b[0;31m             \u001b[0ma\u001b[0m\u001b[0;34m.\u001b[0m\u001b[0mdraw\u001b[0m\u001b[0;34m(\u001b[0m\u001b[0mrenderer\u001b[0m\u001b[0;34m)\u001b[0m\u001b[0;34m\u001b[0m\u001b[0;34m\u001b[0m\u001b[0m\n\u001b[0m\u001b[1;32m    132\u001b[0m     \u001b[0;32melse\u001b[0m\u001b[0;34m:\u001b[0m\u001b[0;34m\u001b[0m\u001b[0;34m\u001b[0m\u001b[0m\n\u001b[1;32m    133\u001b[0m         \u001b[0;31m# Composite any adjacent images together\u001b[0m\u001b[0;34m\u001b[0m\u001b[0;34m\u001b[0m\u001b[0;34m\u001b[0m\u001b[0m\n",
      "\u001b[0;32m/ocean/sallen/miniconda3/envs/py39/lib/python3.9/site-packages/matplotlib/artist.py\u001b[0m in \u001b[0;36mdraw_wrapper\u001b[0;34m(artist, renderer, *args, **kwargs)\u001b[0m\n\u001b[1;32m     39\u001b[0m                 \u001b[0mrenderer\u001b[0m\u001b[0;34m.\u001b[0m\u001b[0mstart_filter\u001b[0m\u001b[0;34m(\u001b[0m\u001b[0;34m)\u001b[0m\u001b[0;34m\u001b[0m\u001b[0;34m\u001b[0m\u001b[0m\n\u001b[1;32m     40\u001b[0m \u001b[0;34m\u001b[0m\u001b[0m\n\u001b[0;32m---> 41\u001b[0;31m             \u001b[0;32mreturn\u001b[0m \u001b[0mdraw\u001b[0m\u001b[0;34m(\u001b[0m\u001b[0martist\u001b[0m\u001b[0;34m,\u001b[0m \u001b[0mrenderer\u001b[0m\u001b[0;34m,\u001b[0m \u001b[0;34m*\u001b[0m\u001b[0margs\u001b[0m\u001b[0;34m,\u001b[0m \u001b[0;34m**\u001b[0m\u001b[0mkwargs\u001b[0m\u001b[0;34m)\u001b[0m\u001b[0;34m\u001b[0m\u001b[0;34m\u001b[0m\u001b[0m\n\u001b[0m\u001b[1;32m     42\u001b[0m         \u001b[0;32mfinally\u001b[0m\u001b[0;34m:\u001b[0m\u001b[0;34m\u001b[0m\u001b[0;34m\u001b[0m\u001b[0m\n\u001b[1;32m     43\u001b[0m             \u001b[0;32mif\u001b[0m \u001b[0martist\u001b[0m\u001b[0;34m.\u001b[0m\u001b[0mget_agg_filter\u001b[0m\u001b[0;34m(\u001b[0m\u001b[0;34m)\u001b[0m \u001b[0;32mis\u001b[0m \u001b[0;32mnot\u001b[0m \u001b[0;32mNone\u001b[0m\u001b[0;34m:\u001b[0m\u001b[0;34m\u001b[0m\u001b[0;34m\u001b[0m\u001b[0m\n",
      "\u001b[0;32m/ocean/sallen/miniconda3/envs/py39/lib/python3.9/site-packages/matplotlib/cbook/deprecation.py\u001b[0m in \u001b[0;36mwrapper\u001b[0;34m(*inner_args, **inner_kwargs)\u001b[0m\n\u001b[1;32m    409\u001b[0m                          \u001b[0;32melse\u001b[0m \u001b[0mdeprecation_addendum\u001b[0m\u001b[0;34m,\u001b[0m\u001b[0;34m\u001b[0m\u001b[0;34m\u001b[0m\u001b[0m\n\u001b[1;32m    410\u001b[0m                 **kwargs)\n\u001b[0;32m--> 411\u001b[0;31m         \u001b[0;32mreturn\u001b[0m \u001b[0mfunc\u001b[0m\u001b[0;34m(\u001b[0m\u001b[0;34m*\u001b[0m\u001b[0minner_args\u001b[0m\u001b[0;34m,\u001b[0m \u001b[0;34m**\u001b[0m\u001b[0minner_kwargs\u001b[0m\u001b[0;34m)\u001b[0m\u001b[0;34m\u001b[0m\u001b[0;34m\u001b[0m\u001b[0m\n\u001b[0m\u001b[1;32m    412\u001b[0m \u001b[0;34m\u001b[0m\u001b[0m\n\u001b[1;32m    413\u001b[0m     \u001b[0;32mreturn\u001b[0m \u001b[0mwrapper\u001b[0m\u001b[0;34m\u001b[0m\u001b[0;34m\u001b[0m\u001b[0m\n",
      "\u001b[0;32m/ocean/sallen/miniconda3/envs/py39/lib/python3.9/site-packages/matplotlib/axes/_base.py\u001b[0m in \u001b[0;36mdraw\u001b[0;34m(self, renderer, inframe)\u001b[0m\n\u001b[1;32m   2745\u001b[0m             \u001b[0mrenderer\u001b[0m\u001b[0;34m.\u001b[0m\u001b[0mstop_rasterizing\u001b[0m\u001b[0;34m(\u001b[0m\u001b[0;34m)\u001b[0m\u001b[0;34m\u001b[0m\u001b[0;34m\u001b[0m\u001b[0m\n\u001b[1;32m   2746\u001b[0m \u001b[0;34m\u001b[0m\u001b[0m\n\u001b[0;32m-> 2747\u001b[0;31m         \u001b[0mmimage\u001b[0m\u001b[0;34m.\u001b[0m\u001b[0m_draw_list_compositing_images\u001b[0m\u001b[0;34m(\u001b[0m\u001b[0mrenderer\u001b[0m\u001b[0;34m,\u001b[0m \u001b[0mself\u001b[0m\u001b[0;34m,\u001b[0m \u001b[0martists\u001b[0m\u001b[0;34m)\u001b[0m\u001b[0;34m\u001b[0m\u001b[0;34m\u001b[0m\u001b[0m\n\u001b[0m\u001b[1;32m   2748\u001b[0m \u001b[0;34m\u001b[0m\u001b[0m\n\u001b[1;32m   2749\u001b[0m         \u001b[0mrenderer\u001b[0m\u001b[0;34m.\u001b[0m\u001b[0mclose_group\u001b[0m\u001b[0;34m(\u001b[0m\u001b[0;34m'axes'\u001b[0m\u001b[0;34m)\u001b[0m\u001b[0;34m\u001b[0m\u001b[0;34m\u001b[0m\u001b[0m\n",
      "\u001b[0;32m/ocean/sallen/miniconda3/envs/py39/lib/python3.9/site-packages/matplotlib/image.py\u001b[0m in \u001b[0;36m_draw_list_compositing_images\u001b[0;34m(renderer, parent, artists, suppress_composite)\u001b[0m\n\u001b[1;32m    129\u001b[0m     \u001b[0;32mif\u001b[0m \u001b[0mnot_composite\u001b[0m \u001b[0;32mor\u001b[0m \u001b[0;32mnot\u001b[0m \u001b[0mhas_images\u001b[0m\u001b[0;34m:\u001b[0m\u001b[0;34m\u001b[0m\u001b[0;34m\u001b[0m\u001b[0m\n\u001b[1;32m    130\u001b[0m         \u001b[0;32mfor\u001b[0m \u001b[0ma\u001b[0m \u001b[0;32min\u001b[0m \u001b[0martists\u001b[0m\u001b[0;34m:\u001b[0m\u001b[0;34m\u001b[0m\u001b[0;34m\u001b[0m\u001b[0m\n\u001b[0;32m--> 131\u001b[0;31m             \u001b[0ma\u001b[0m\u001b[0;34m.\u001b[0m\u001b[0mdraw\u001b[0m\u001b[0;34m(\u001b[0m\u001b[0mrenderer\u001b[0m\u001b[0;34m)\u001b[0m\u001b[0;34m\u001b[0m\u001b[0;34m\u001b[0m\u001b[0m\n\u001b[0m\u001b[1;32m    132\u001b[0m     \u001b[0;32melse\u001b[0m\u001b[0;34m:\u001b[0m\u001b[0;34m\u001b[0m\u001b[0;34m\u001b[0m\u001b[0m\n\u001b[1;32m    133\u001b[0m         \u001b[0;31m# Composite any adjacent images together\u001b[0m\u001b[0;34m\u001b[0m\u001b[0;34m\u001b[0m\u001b[0;34m\u001b[0m\u001b[0m\n",
      "\u001b[0;32m/ocean/sallen/miniconda3/envs/py39/lib/python3.9/site-packages/matplotlib/artist.py\u001b[0m in \u001b[0;36mdraw_wrapper\u001b[0;34m(artist, renderer, *args, **kwargs)\u001b[0m\n\u001b[1;32m     39\u001b[0m                 \u001b[0mrenderer\u001b[0m\u001b[0;34m.\u001b[0m\u001b[0mstart_filter\u001b[0m\u001b[0;34m(\u001b[0m\u001b[0;34m)\u001b[0m\u001b[0;34m\u001b[0m\u001b[0;34m\u001b[0m\u001b[0m\n\u001b[1;32m     40\u001b[0m \u001b[0;34m\u001b[0m\u001b[0m\n\u001b[0;32m---> 41\u001b[0;31m             \u001b[0;32mreturn\u001b[0m \u001b[0mdraw\u001b[0m\u001b[0;34m(\u001b[0m\u001b[0martist\u001b[0m\u001b[0;34m,\u001b[0m \u001b[0mrenderer\u001b[0m\u001b[0;34m,\u001b[0m \u001b[0;34m*\u001b[0m\u001b[0margs\u001b[0m\u001b[0;34m,\u001b[0m \u001b[0;34m**\u001b[0m\u001b[0mkwargs\u001b[0m\u001b[0;34m)\u001b[0m\u001b[0;34m\u001b[0m\u001b[0;34m\u001b[0m\u001b[0m\n\u001b[0m\u001b[1;32m     42\u001b[0m         \u001b[0;32mfinally\u001b[0m\u001b[0;34m:\u001b[0m\u001b[0;34m\u001b[0m\u001b[0;34m\u001b[0m\u001b[0m\n\u001b[1;32m     43\u001b[0m             \u001b[0;32mif\u001b[0m \u001b[0martist\u001b[0m\u001b[0;34m.\u001b[0m\u001b[0mget_agg_filter\u001b[0m\u001b[0;34m(\u001b[0m\u001b[0;34m)\u001b[0m \u001b[0;32mis\u001b[0m \u001b[0;32mnot\u001b[0m \u001b[0;32mNone\u001b[0m\u001b[0;34m:\u001b[0m\u001b[0;34m\u001b[0m\u001b[0;34m\u001b[0m\u001b[0m\n",
      "\u001b[0;32m/ocean/sallen/miniconda3/envs/py39/lib/python3.9/site-packages/matplotlib/collections.py\u001b[0m in \u001b[0;36mdraw\u001b[0;34m(self, renderer)\u001b[0m\n\u001b[1;32m   2022\u001b[0m                 \u001b[0moffsets\u001b[0m \u001b[0;34m=\u001b[0m \u001b[0mnp\u001b[0m\u001b[0;34m.\u001b[0m\u001b[0mcolumn_stack\u001b[0m\u001b[0;34m(\u001b[0m\u001b[0;34m[\u001b[0m\u001b[0mxs\u001b[0m\u001b[0;34m,\u001b[0m \u001b[0mys\u001b[0m\u001b[0;34m]\u001b[0m\u001b[0;34m)\u001b[0m\u001b[0;34m\u001b[0m\u001b[0;34m\u001b[0m\u001b[0m\n\u001b[1;32m   2023\u001b[0m \u001b[0;34m\u001b[0m\u001b[0m\n\u001b[0;32m-> 2024\u001b[0;31m         \u001b[0mself\u001b[0m\u001b[0;34m.\u001b[0m\u001b[0mupdate_scalarmappable\u001b[0m\u001b[0;34m(\u001b[0m\u001b[0;34m)\u001b[0m\u001b[0;34m\u001b[0m\u001b[0;34m\u001b[0m\u001b[0m\n\u001b[0m\u001b[1;32m   2025\u001b[0m \u001b[0;34m\u001b[0m\u001b[0m\n\u001b[1;32m   2026\u001b[0m         \u001b[0;32mif\u001b[0m \u001b[0;32mnot\u001b[0m \u001b[0mtransform\u001b[0m\u001b[0;34m.\u001b[0m\u001b[0mis_affine\u001b[0m\u001b[0;34m:\u001b[0m\u001b[0;34m\u001b[0m\u001b[0;34m\u001b[0m\u001b[0m\n",
      "\u001b[0;32m/ocean/sallen/miniconda3/envs/py39/lib/python3.9/site-packages/matplotlib/collections.py\u001b[0m in \u001b[0;36mupdate_scalarmappable\u001b[0;34m(self)\u001b[0m\n\u001b[1;32m    853\u001b[0m             \u001b[0;32mreturn\u001b[0m\u001b[0;34m\u001b[0m\u001b[0;34m\u001b[0m\u001b[0m\n\u001b[1;32m    854\u001b[0m         \u001b[0;32mif\u001b[0m \u001b[0mself\u001b[0m\u001b[0;34m.\u001b[0m\u001b[0m_is_filled\u001b[0m\u001b[0;34m:\u001b[0m\u001b[0;34m\u001b[0m\u001b[0;34m\u001b[0m\u001b[0m\n\u001b[0;32m--> 855\u001b[0;31m             \u001b[0mself\u001b[0m\u001b[0;34m.\u001b[0m\u001b[0m_facecolors\u001b[0m \u001b[0;34m=\u001b[0m \u001b[0mself\u001b[0m\u001b[0;34m.\u001b[0m\u001b[0mto_rgba\u001b[0m\u001b[0;34m(\u001b[0m\u001b[0mself\u001b[0m\u001b[0;34m.\u001b[0m\u001b[0m_A\u001b[0m\u001b[0;34m,\u001b[0m \u001b[0mself\u001b[0m\u001b[0;34m.\u001b[0m\u001b[0m_alpha\u001b[0m\u001b[0;34m)\u001b[0m\u001b[0;34m\u001b[0m\u001b[0;34m\u001b[0m\u001b[0m\n\u001b[0m\u001b[1;32m    856\u001b[0m         \u001b[0;32melif\u001b[0m \u001b[0mself\u001b[0m\u001b[0;34m.\u001b[0m\u001b[0m_is_stroked\u001b[0m\u001b[0;34m:\u001b[0m\u001b[0;34m\u001b[0m\u001b[0;34m\u001b[0m\u001b[0m\n\u001b[1;32m    857\u001b[0m             \u001b[0mself\u001b[0m\u001b[0;34m.\u001b[0m\u001b[0m_edgecolors\u001b[0m \u001b[0;34m=\u001b[0m \u001b[0mself\u001b[0m\u001b[0;34m.\u001b[0m\u001b[0mto_rgba\u001b[0m\u001b[0;34m(\u001b[0m\u001b[0mself\u001b[0m\u001b[0;34m.\u001b[0m\u001b[0m_A\u001b[0m\u001b[0;34m,\u001b[0m \u001b[0mself\u001b[0m\u001b[0;34m.\u001b[0m\u001b[0m_alpha\u001b[0m\u001b[0;34m)\u001b[0m\u001b[0;34m\u001b[0m\u001b[0;34m\u001b[0m\u001b[0m\n",
      "\u001b[0;32m/ocean/sallen/miniconda3/envs/py39/lib/python3.9/site-packages/matplotlib/cm.py\u001b[0m in \u001b[0;36mto_rgba\u001b[0;34m(self, x, alpha, bytes, norm)\u001b[0m\n\u001b[1;32m    330\u001b[0m         \u001b[0mx\u001b[0m \u001b[0;34m=\u001b[0m \u001b[0mma\u001b[0m\u001b[0;34m.\u001b[0m\u001b[0masarray\u001b[0m\u001b[0;34m(\u001b[0m\u001b[0mx\u001b[0m\u001b[0;34m)\u001b[0m\u001b[0;34m\u001b[0m\u001b[0;34m\u001b[0m\u001b[0m\n\u001b[1;32m    331\u001b[0m         \u001b[0;32mif\u001b[0m \u001b[0mnorm\u001b[0m\u001b[0;34m:\u001b[0m\u001b[0;34m\u001b[0m\u001b[0;34m\u001b[0m\u001b[0m\n\u001b[0;32m--> 332\u001b[0;31m             \u001b[0mx\u001b[0m \u001b[0;34m=\u001b[0m \u001b[0mself\u001b[0m\u001b[0;34m.\u001b[0m\u001b[0mnorm\u001b[0m\u001b[0;34m(\u001b[0m\u001b[0mx\u001b[0m\u001b[0;34m)\u001b[0m\u001b[0;34m\u001b[0m\u001b[0;34m\u001b[0m\u001b[0m\n\u001b[0m\u001b[1;32m    333\u001b[0m         \u001b[0mrgba\u001b[0m \u001b[0;34m=\u001b[0m \u001b[0mself\u001b[0m\u001b[0;34m.\u001b[0m\u001b[0mcmap\u001b[0m\u001b[0;34m(\u001b[0m\u001b[0mx\u001b[0m\u001b[0;34m,\u001b[0m \u001b[0malpha\u001b[0m\u001b[0;34m=\u001b[0m\u001b[0malpha\u001b[0m\u001b[0;34m,\u001b[0m \u001b[0mbytes\u001b[0m\u001b[0;34m=\u001b[0m\u001b[0mbytes\u001b[0m\u001b[0;34m)\u001b[0m\u001b[0;34m\u001b[0m\u001b[0;34m\u001b[0m\u001b[0m\n\u001b[1;32m    334\u001b[0m         \u001b[0;32mreturn\u001b[0m \u001b[0mrgba\u001b[0m\u001b[0;34m\u001b[0m\u001b[0;34m\u001b[0m\u001b[0m\n",
      "\u001b[0;32m/ocean/sallen/miniconda3/envs/py39/lib/python3.9/site-packages/matplotlib/colors.py\u001b[0m in \u001b[0;36m__call__\u001b[0;34m(self, value, clip)\u001b[0m\n\u001b[1;32m   1190\u001b[0m \u001b[0;34m\u001b[0m\u001b[0m\n\u001b[1;32m   1191\u001b[0m         \u001b[0mself\u001b[0m\u001b[0;34m.\u001b[0m\u001b[0mautoscale_None\u001b[0m\u001b[0;34m(\u001b[0m\u001b[0mresult\u001b[0m\u001b[0;34m)\u001b[0m\u001b[0;34m\u001b[0m\u001b[0;34m\u001b[0m\u001b[0m\n\u001b[0;32m-> 1192\u001b[0;31m         \u001b[0mself\u001b[0m\u001b[0;34m.\u001b[0m\u001b[0m_check_vmin_vmax\u001b[0m\u001b[0;34m(\u001b[0m\u001b[0;34m)\u001b[0m\u001b[0;34m\u001b[0m\u001b[0;34m\u001b[0m\u001b[0m\n\u001b[0m\u001b[1;32m   1193\u001b[0m         \u001b[0mvmin\u001b[0m\u001b[0;34m,\u001b[0m \u001b[0mvmax\u001b[0m \u001b[0;34m=\u001b[0m \u001b[0mself\u001b[0m\u001b[0;34m.\u001b[0m\u001b[0mvmin\u001b[0m\u001b[0;34m,\u001b[0m \u001b[0mself\u001b[0m\u001b[0;34m.\u001b[0m\u001b[0mvmax\u001b[0m\u001b[0;34m\u001b[0m\u001b[0;34m\u001b[0m\u001b[0m\n\u001b[1;32m   1194\u001b[0m         \u001b[0;32mif\u001b[0m \u001b[0mvmin\u001b[0m \u001b[0;34m==\u001b[0m \u001b[0mvmax\u001b[0m\u001b[0;34m:\u001b[0m\u001b[0;34m\u001b[0m\u001b[0;34m\u001b[0m\u001b[0m\n",
      "\u001b[0;32m/ocean/sallen/miniconda3/envs/py39/lib/python3.9/site-packages/matplotlib/colors.py\u001b[0m in \u001b[0;36m_check_vmin_vmax\u001b[0;34m(self)\u001b[0m\n\u001b[1;32m   1179\u001b[0m             \u001b[0;32mraise\u001b[0m \u001b[0mValueError\u001b[0m\u001b[0;34m(\u001b[0m\u001b[0;34m\"minvalue must be less than or equal to maxvalue\"\u001b[0m\u001b[0;34m)\u001b[0m\u001b[0;34m\u001b[0m\u001b[0;34m\u001b[0m\u001b[0m\n\u001b[1;32m   1180\u001b[0m         \u001b[0;32melif\u001b[0m \u001b[0mself\u001b[0m\u001b[0;34m.\u001b[0m\u001b[0mvmin\u001b[0m \u001b[0;34m<=\u001b[0m \u001b[0;36m0\u001b[0m\u001b[0;34m:\u001b[0m\u001b[0;34m\u001b[0m\u001b[0;34m\u001b[0m\u001b[0m\n\u001b[0;32m-> 1181\u001b[0;31m             \u001b[0;32mraise\u001b[0m \u001b[0mValueError\u001b[0m\u001b[0;34m(\u001b[0m\u001b[0;34m\"minvalue must be positive\"\u001b[0m\u001b[0;34m)\u001b[0m\u001b[0;34m\u001b[0m\u001b[0;34m\u001b[0m\u001b[0m\n\u001b[0m\u001b[1;32m   1182\u001b[0m \u001b[0;34m\u001b[0m\u001b[0m\n\u001b[1;32m   1183\u001b[0m     \u001b[0;32mdef\u001b[0m \u001b[0m__call__\u001b[0m\u001b[0;34m(\u001b[0m\u001b[0mself\u001b[0m\u001b[0;34m,\u001b[0m \u001b[0mvalue\u001b[0m\u001b[0;34m,\u001b[0m \u001b[0mclip\u001b[0m\u001b[0;34m=\u001b[0m\u001b[0;32mNone\u001b[0m\u001b[0;34m)\u001b[0m\u001b[0;34m:\u001b[0m\u001b[0;34m\u001b[0m\u001b[0;34m\u001b[0m\u001b[0m\n",
      "\u001b[0;31mValueError\u001b[0m: minvalue must be positive"
     ]
    },
    {
     "data": {
      "image/png": "[encoded data removed]",
      "text/plain": [
       "<Figure size 432x360 with 2 Axes>"
      ]
     },
     "metadata": {
      "needs_background": "light"
     },
     "output_type": "display_data"
    }
   ],
   "source": [
    "ntemp = filter_bad_data(temp1)\n",
    "ntemp.set_index('dtUTC', inplace=True)\n",
    "ntemp.sort_index(inplace=True)\n",
    "ntemp.index = pd.to_datetime(ntemp.index)\n",
    "d201812 = plot_and_stats(ntemp[ntemp.index > dt.datetime(2017, 1, 1)], 'H201812')\n",
    "d201812.style.format(myformat)"
   ]
  },
  {
   "cell_type": "code",
   "execution_count": null,
   "metadata": {},
   "outputs": [],
   "source": [
    "ntemp = filter_bad_data(temp1)\n",
    "ntemp.set_index('dtUTC', inplace=True)\n",
    "ntemp.sort_index(inplace=True)\n",
    "ntemp.index = pd.to_datetime(ntemp.index)\n",
    "d201905 = plot_and_stats(ntemp[ntemp.index > dt.datetime(2017, 1, 1)], 'H201905')\n",
    "d201905.style.format(myformat)"
   ]
  },
  {
   "cell_type": "markdown",
   "metadata": {},
   "source": [
    "## SSH difference North to West ##\n",
    "Change in along strait pressure is the major difference between 201812 and 201905.  We have gone back to 201812 (9.8 cm).\n",
    "Analysis over the whole time period shows 201905 is better but the initial conditions for these runs is not the same.\n",
    "If we look just at 2017, after the initial conditions have had time to disappear (201812 was started in 2015), we see drift to higher salinity bias but this drift is less in 201812, slightly supporting the higher pressure difference."
   ]
  },
  {
   "cell_type": "markdown",
   "metadata": {},
   "source": [
    "### Back to All Years"
   ]
  },
  {
   "cell_type": "code",
   "execution_count": null,
   "metadata": {},
   "outputs": [],
   "source": [
    "pieces = ('/home/sallen/202007/202007C-p2/ObsModel_202007Cp2_ctd_20150101_20151231.csv',\n",
    "         '/home/sallen/202007/202007C-p2/ObsModel_202007Cp2_TSPUG_20150101-20151231.csv',\n",
    "         '/home/sallen/202007/202007C-p2/ObsModel_202007Cp2_ctd_20160101_20161231.csv',\n",
    "         '/home/sallen/202007/202007C-p2/ObsModel_202007Cp2_TSPUG_20160101-20161231.csv',\n",
    "  #       '/home/sallen/202007/202007C-p2/ObsModel_202007Cp2_TS_20170101-20170331.csv',\n",
    "  #       '/home/sallen/202007/202007C-p2/ObsModel_202007Cp2_TS_20170401-20170630.csv',\n",
    "  #       '/home/sallen/202007/202007C-p2/ObsModel_202007Cp2_TS_20170701-20170930.csv',\n",
    "  #       '/home/sallen/202007/202007C-p2/ObsModel_202007Cp2_TS_20171001-20171231.csv',\n",
    "  #       '/home/sallen/202007/202007C-p2/ObsModel_202007Cp2_TSPUG_20170101-20171231.csv',\n",
    "         '/home/sallen/202007/202007C-p2/ObsModel_202007Cp2_onc_20150101_20151231.csv',\n",
    "        '/home/sallen/202007/202007C-p2/ObsModel_202007Cp2_onc_20160101_20161231.csv',\n",
    " #        '/home/sallen/202007/202007C-p2/ObsModel_202007Cp2_onc_20170101_20171231.csv',\n",
    "         '/home/sallen/202007/202007C-p2/ObsModel_202007Cp2_psfts_20150101_20151231.csv',\n",
    "         '/home/sallen/202007/202007C-p2/ObsModel_202007Cp2_psfts_20160101_20161231.csv',\n",
    " #        '/home/sallen/202007/202007C-p2/ObsModel_202007Cp2_psfts_20170101_20171231.csv'\n",
    "         )"
   ]
  },
  {
   "cell_type": "code",
   "execution_count": null,
   "metadata": {},
   "outputs": [],
   "source": [
    "temp1 = read_pieces(pieces)\n",
    "temp1['SA'] = temp1.SA.fillna(value=temp1['salinity (g/kg)'])\n",
    "#temp1['SA'] = temp1['salinity (g/kg)']\n",
    "temp1.drop(columns='Unnamed: 0', inplace=True)\n",
    "temp1.drop_duplicates(inplace=True)\n",
    "dCp2 = plot_and_stats(filter_bad_data(temp1), 'Cp2')\n",
    "dCp2.style.format(myformat)"
   ]
  },
  {
   "cell_type": "code",
   "execution_count": null,
   "metadata": {},
   "outputs": [],
   "source": [
    "pieces = ('/home/sallen/202007/202007D-again/ObsModel_202007D-again_TS_20150101-20150331.csv',\n",
    "         '/home/sallen/202007/202007D-again/ObsModel_202007D-again_TS_20150401-20150630.csv',\n",
    "         '/home/sallen/202007/202007D-again/ObsModel_202007D-again_TS_20150701-20150930.csv',\n",
    "         '/home/sallen/202007/202007D-again/ObsModel_202007D-again_TS_20151001-20151231.csv',\n",
    "         '/home/sallen/202007/202007D-again/ObsModel_202007D-again_pugts_20150101_20151231.csv',\n",
    "          '/home/sallen/202007/202007D-again/ObsModel_202007D-again_ctd_20160101_20161231.csv',\n",
    "          '/home/sallen/202007/202007D-again/ObsModel_202007D-again_pugts_20160101_20161231.csv',\n",
    "          '/home/sallen/202007/202007D-again/ObsModel_202007D-again_ctd_20170101_20171231.csv',\n",
    "          '/home/sallen/202007/202007D-again/ObsModel_202007D-again_pugts_20170101_20171231.csv',\n",
    "          '/home/sallen/202007/202007D-again/ObsModel_202007D-again_onc_20150101_20151231.csv',\n",
    "          '/home/sallen/202007/202007D-again/ObsModel_202007D-again_onc_20160101_20161231.csv',\n",
    "          '/home/sallen/202007/202007D-again/ObsModel_202007D-again_onc_20170101_20171231.csv',\n",
    "          '/home/sallen/202007/202007D-again/ObsModel_202007D-again_psfts_20150101_20151231.csv',\n",
    "          '/home/sallen/202007/202007D-again/ObsModel_202007D-again_psfts_20160101_20161231.csv',\n",
    "          '/home/sallen/202007/202007D-again/ObsModel_202007D-again_psfts_20170101_20171231.csv'\n",
    "        )"
   ]
  },
  {
   "cell_type": "code",
   "execution_count": null,
   "metadata": {},
   "outputs": [],
   "source": [
    "temp1 = read_pieces(pieces)\n",
    "temp1['SA'] = temp1.SA.fillna(value=temp1['salinity (g/kg)'])\n",
    "#temp1['SA'] = temp1['salinity (g/kg)']\n",
    "temp1.drop(columns='Unnamed: 0', inplace=True)\n",
    "temp1.drop_duplicates(inplace=True)\n",
    "Dagain = plot_and_stats(filter_bad_data(temp1), 'Dagain')\n",
    "Dagain.style.format(myformat)"
   ]
  },
  {
   "cell_type": "code",
   "execution_count": null,
   "metadata": {},
   "outputs": [],
   "source": [
    "pieces = ('/home/sallen/202007/202007D-nociliates/ObsModel_202007D-nociliates_ctd_20150101_20151231.csv',\n",
    "        '/home/sallen/202007/202007D-nociliates/ObsModel_202007D-nociliates_ctd_20160101_20161231.csv',\n",
    "        '/home/sallen/202007/202007D-nociliates/ObsModel_202007D-nociliates_ctd_20170101_20171231.csv',\n",
    "        '/home/sallen/202007/202007D-nociliates/ObsModel_202007D-nociliates_psfts_20150101_20151231.csv',\n",
    "        '/home/sallen/202007/202007D-nociliates/ObsModel_202007D-nociliates_psfts_20160101_20161231.csv',\n",
    "        '/home/sallen/202007/202007D-nociliates/ObsModel_202007D-nociliates_psfts_20170101_20171231.csv',\n",
    "        '/home/sallen/202007/202007D-nociliates/ObsModel_202007D-nociliates_pugts_20150101_20151231.csv',\n",
    "        '/home/sallen/202007/202007D-nociliates/ObsModel_202007D-nociliates_pugts_20160101_20161231.csv',\n",
    "        '/home/sallen/202007/202007D-nociliates/ObsModel_202007D-nociliates_pugts_20170101_20171231.csv',\n",
    "         '/home/sallen/202007/202007D-nociliates/ObsModel_202007D-nociliates_onc_20150101_20151231.csv',\n",
    "         '/home/sallen/202007/202007D-nociliates/ObsModel_202007D-nociliates_onc_20160101_20161231.csv',\n",
    "         '/home/sallen/202007/202007D-nociliates/ObsModel_202007D-nociliates_onc_20170101_20171231.csv'\n",
    "        )"
   ]
  },
  {
   "cell_type": "code",
   "execution_count": null,
   "metadata": {},
   "outputs": [],
   "source": [
    "temp1 = read_pieces(pieces)\n",
    "temp1['SA'] = temp1.SA.fillna(value=temp1['salinity (g/kg)'])\n",
    "#temp1['SA'] = temp1['salinity (g/kg)']\n",
    "temp1.drop(columns='Unnamed: 0', inplace=True)\n",
    "temp1.drop_duplicates(inplace=True)\n",
    "DnoC = plot_and_stats(filter_bad_data(temp1), 'D-noCil')\n",
    "DnoC.style.format(myformat)"
   ]
  },
  {
   "cell_type": "code",
   "execution_count": null,
   "metadata": {},
   "outputs": [],
   "source": [
    "pieces = ('/home/sallen/202007/202007D-lowR/ObsModel_202007D-lowR_ctd_20150101_20151231.csv',\n",
    "         '/home/sallen/202007/202007D-lowR/ObsModel_202007D-lowR_pugts_20150101_20151231.csv',\n",
    "         '/home/sallen/202007/202007D-lowR/ObsModel_202007D-lowR_ctd_20160101_20161231.csv',\n",
    "         '/home/sallen/202007/202007D-lowR/ObsModel_202007D-lowR_pugts_20160101_20161231.csv',\n",
    "         '/home/sallen/202007/202007D-lowR/ObsModel_202007D-lowR_ctd_20170101_20171231.csv',\n",
    "         '/home/sallen/202007/202007D-lowR/ObsModel_202007D-lowR_pugts_20170101_20171231.csv',\n",
    "         '/home/sallen/202007/202007D-lowR/ObsModel_202007D-lowR_psfts_20150101_20151231.csv',\n",
    "         '/home/sallen/202007/202007D-lowR/ObsModel_202007D-lowR_psfts_20160101_20161231.csv',\n",
    "         '/home/sallen/202007/202007D-lowR/ObsModel_202007D-lowR_psfts_20170101_20171231.csv',\n",
    "         '/home/sallen/202007/202007D-lowR/ObsModel_202007D-lowR_onc_20150101_20151231.csv',\n",
    "         '/home/sallen/202007/202007D-lowR/ObsModel_202007D-lowR_onc_20160101_20161231.csv',\n",
    "         '/home/sallen/202007/202007D-lowR/ObsModel_202007D-lowR_onc_20170101_20171231.csv'\n",
    "         )"
   ]
  },
  {
   "cell_type": "code",
   "execution_count": null,
   "metadata": {},
   "outputs": [],
   "source": [
    "temp1 = read_pieces(pieces)\n",
    "temp1['SA'] = temp1.SA.fillna(value=temp1['salinity (g/kg)'])\n",
    "#temp1['SA'] = temp1['salinity (g/kg)']\n",
    "temp1.drop(columns='Unnamed: 0', inplace=True)\n",
    "temp1.drop_duplicates(inplace=True)\n",
    "DlowR = plot_and_stats(filter_bad_data(temp1), 'D-lowR')\n",
    "DlowR.style.format(myformat)"
   ]
  },
  {
   "cell_type": "code",
   "execution_count": null,
   "metadata": {},
   "outputs": [],
   "source": [
    "pieces = (\n",
    "         '/home//sallen/202007/202007C-p3/ObsModel_202007Cp3_ctd_20150101_20151231.csv',\n",
    "         '/home//sallen/202007/202007C-p3/ObsModel_202007Cp3_ctd_20160101_20161231.csv',\n",
    "#          '/home//sallen/202007/202007C-p3/ObsModel_202007Cp3_ctd_20170101_20171231.csv',\n",
    "         '/home//sallen/202007/202007C-p3/ObsModel_202007Cp3_TSPUG_20150101-20151231.csv',\n",
    "         '/home//sallen/202007/202007C-p3/ObsModel_202007Cp3_pugts_20160101_20161231.csv',\n",
    " #        '/home//sallen/202007/202007C-p3/ObsModel_202007Cp3_pugts_20170101_20171231.csv',\n",
    "         '/home//sallen/202007/202007C-p3/ObsModel_202007Cp3_psfts_20150101_20151231.csv',\n",
    "         '/home//sallen/202007/202007C-p3/ObsModel_202007Cp3_psfts_20160101_20161231.csv',\n",
    " #        '/home//sallen/202007/202007C-p3/ObsModel_202007Cp3_psfts_20170101_20171231.csv',\n",
    "         '/home//sallen/202007/202007C-p3/ObsModel_202007Cp3_onc_20150101_20151231.csv',\n",
    "         '/home//sallen/202007/202007C-p3/ObsModel_202007Cp3_onc_20160101_20161231.csv',\n",
    " #        '/home//sallen/202007/202007C-p3/ObsModel_202007Cp3_onc_20170101_20171231.csv'\n",
    ")"
   ]
  },
  {
   "cell_type": "code",
   "execution_count": null,
   "metadata": {},
   "outputs": [],
   "source": [
    "temp1 = read_pieces(pieces)\n",
    "temp1['SA'] = temp1.SA.fillna(value=temp1['salinity (g/kg)'])\n",
    "#temp1['SA'] = temp1['salinity (g/kg)']\n",
    "temp1.drop(columns='Unnamed: 0', inplace=True)\n",
    "temp1.drop_duplicates(inplace=True)\n",
    "modCp3 = plot_and_stats(filter_bad_data(temp1), 'Cp3')\n",
    "modCp3.style.format(myformat)"
   ]
  },
  {
   "cell_type": "code",
   "execution_count": null,
   "metadata": {},
   "outputs": [],
   "source": [
    "pieces = ('/home/sallen/202007/202007F/ObsModel_202007F_ctd_20150101_20151231.csv',\n",
    "         '/home/sallen/202007/202007F/ObsModel_202007F_pugts_20150101_20151231.csv',\n",
    "         '/home/sallen/202007/202007F/ObsModel_202007F_ctd_20160101_20161231.csv',\n",
    "         '/home/sallen/202007/202007F/ObsModel_202007F_pugts_20160101_20161231.csv',\n",
    "         '/home/sallen/202007/202007F/ObsModel_202007F_ctd_20170101_20171231.csv',\n",
    "         '/home/sallen/202007/202007F/ObsModel_202007F_pugts_20170101_20171231.csv',\n",
    "         '/home/sallen/202007/202007F/ObsModel_202007F_psfts_20150101_20151231.csv',\n",
    "         '/home/sallen/202007/202007F/ObsModel_202007F_psfts_20160101_20161231.csv',\n",
    "         '/home/sallen/202007/202007F/ObsModel_202007F_psfts_20170101_20171231.csv',\n",
    "         '/home/sallen/202007/202007F/ObsModel_202007F_onc_20150101_20151231.csv',\n",
    "         '/home/sallen/202007/202007F/ObsModel_202007F_onc_20160101_20161231.csv',\n",
    "         '/home/sallen/202007/202007F/ObsModel_202007F_onc_20170101_20171231.csv'\n",
    "         )"
   ]
  },
  {
   "cell_type": "code",
   "execution_count": null,
   "metadata": {},
   "outputs": [],
   "source": [
    "temp1 = read_pieces(pieces)\n",
    "temp1['SA'] = temp1.SA.fillna(value=temp1['salinity (g/kg)'])\n",
    "#temp1['SA'] = temp1['salinity (g/kg)']\n",
    "temp1.drop(columns='Unnamed: 0', inplace=True)\n",
    "temp1.drop_duplicates(inplace=True)\n",
    "modF = plot_and_stats(filter_bad_data(temp1), 'F')\n",
    "modF.style.format(myformat)"
   ]
  },
  {
   "cell_type": "code",
   "execution_count": null,
   "metadata": {},
   "outputs": [],
   "source": [
    "pieces = ('/home/sallen/202007/202007G-p1/ObsModel_202007Gp1_ctd_20150101_20151231.csv',\n",
    "          '/home/sallen/202007/202007G-p1/ObsModel_202007Gp1_psfts_20150101_20151231.csv',\n",
    "          '/home/sallen/202007/202007G-p1/ObsModel_202007Gp1_pugts_20150101_20151231.csv',\n",
    "          '/home/sallen/202007/202007G-p1/ObsModel_202007Gp1_onc_20150101_20151231.csv',\n",
    "          '/home/sallen/202007/202007G-p1/ObsModel_202007Gp1_ctd_20160101_20161231.csv',\n",
    "     '/home/sallen/202007/202007G-p1/ObsModel_202007Gp1_onc_20160101_20161231.csv',\n",
    "          '/home/sallen/202007/202007G-p1/ObsModel_202007Gp1_psfts_20160101_20161231.csv',\n",
    "          '/home/sallen/202007/202007G-p1/ObsModel_202007Gp1_pugts_20160101_20161231.csv',\n",
    "#          '/home/sallen/202007/202007G-p1/ObsModel_202007Gp1_ctd_20170101_20171231.csv',\n",
    "#       '/home/sallen/202007/202007G-p1/ObsModel_202007Gp1_onc_20170101_20171231.csv',\n",
    "#          '/home/sallen/202007/202007G-p1/ObsModel_202007Gp1_psfts_20170101_20171231.csv',\n",
    "#          '/home/sallen/202007/202007G-p1/ObsModel_202007Gp1_pugts_20170101_20171231.csv',\n",
    "          \n",
    "         )"
   ]
  },
  {
   "cell_type": "code",
   "execution_count": null,
   "metadata": {},
   "outputs": [],
   "source": [
    "temp2 = read_pieces(pieces)\n",
    "temp2['SA'] = temp2.SA.fillna(value=temp2['salinity (g/kg)'])\n",
    "#temp1['SA'] = temp1['salinity (g/kg)']\n",
    "temp2.drop(columns='Unnamed: 0', inplace=True)\n",
    "temp2.drop_duplicates(inplace=True)\n",
    "modGp1 = plot_and_stats(filter_bad_data(temp2), 'Gp1')\n",
    "modGp1.style.format(myformat)"
   ]
  },
  {
   "cell_type": "code",
   "execution_count": null,
   "metadata": {},
   "outputs": [],
   "source": [
    "fig, axs = plt.subplots(1, 3, figsize=(18, 5))\n",
    "vmax = 36\n",
    "vmin = 12\n",
    "counts, xedges, yedges, color = axs[0].hist2d(temp1.SA[temp1.k >= 5], temp1.mod_vosaline[temp1.k >= 5], \n",
    "                                           bins=np.arange(vmin, vmax, 0.5), norm=LogNorm());\n",
    "counts2, xedges, yedges, color = axs[1].hist2d(temp2.SA[temp2.k >= 5], temp2.mod_vosaline[temp2.k >= 5], \n",
    "                                           bins=np.arange(vmin, vmax, 0.5), norm=LogNorm());\n",
    "color = axs[2].pcolormesh((counts2 - counts), cmap='bwr', vmax=5, vmin=-5)\n",
    "#axs[2].hist2d(temp1.SA[temp1.k >=5], temp1.mod_vosaline[temp1.k >=5] - temp2.mod_vosaline[temp2.k >=5])\n",
    "fig.colorbar(color, ax=axs[2]);"
   ]
  },
  {
   "cell_type": "code",
   "execution_count": null,
   "metadata": {},
   "outputs": [],
   "source": [
    "pieces = ('/home/sallen/202007/202007G-p2/ObsModel_202007Gp2_ctd_20150101_20151231.csv',\n",
    "          '/home/sallen/202007/202007G-p2/ObsModel_202007Gp2_psfts_20150101_20151231.csv',\n",
    "          '/home/sallen/202007/202007G-p2/ObsModel_202007Gp2_pugts_20150101_20151231.csv',\n",
    "          '/home/sallen/202007/202007G-p2/ObsModel_202007Gp2_onc_20150101_20151231.csv',\n",
    "          '/home/sallen/202007/202007G-p2/ObsModel_202007Gp2f0_ctd_20160101_20161231.csv',\n",
    "     '/home/sallen/202007/202007G-p2/ObsModel_202007Gp2f0_onc_20160101_20161231.csv',\n",
    "          '/home/sallen/202007/202007G-p2/ObsModel_202007Gp2f0_psfts_20160101_20161231.csv',\n",
    "          '/home/sallen/202007/202007G-p2/ObsModel_202007Gp2f0_pugts_20160101_20161231.csv',\n",
    "#          '/home/sallen/202007/202007G-p2/ObsModel_202007Gp2f0_ctd_20170101_20171231.csv',\n",
    "#       '/home/sallen/202007/202007G-p2/ObsModel_202007Gp2f0_onc_20170101_20171231.csv',\n",
    "#          '/home/sallen/202007/202007G-p2/ObsModel_202007Gp2f0_psfts_20170101_20171231.csv',\n",
    "#          '/home/sallen/202007/202007G-p2/ObsModel_202007Gp2f0_pugts_20170101_20171231.csv',\n",
    "          \n",
    "         )"
   ]
  },
  {
   "cell_type": "code",
   "execution_count": null,
   "metadata": {},
   "outputs": [],
   "source": [
    "temp1 = read_pieces(pieces)\n",
    "temp1['SA'] = temp1.SA.fillna(value=temp1['salinity (g/kg)'])\n",
    "#temp1['SA'] = temp1['salinity (g/kg)']\n",
    "temp1.drop(columns='Unnamed: 0', inplace=True)\n",
    "temp1.drop_duplicates(inplace=True)\n",
    "modGp2 = plot_and_stats(filter_bad_data(temp1), 'Gp2')\n",
    "modGp2.style.format(myformat)"
   ]
  },
  {
   "cell_type": "code",
   "execution_count": null,
   "metadata": {},
   "outputs": [],
   "source": [
    "pieces = ('/home/sallen/202007/202007H/ObsModel_202007H_ctd_20150101_20151231.csv',\n",
    "          '/home/sallen/202007/202007H/ObsModel_202007H_psfts_20150101_20151231.csv',\n",
    "          '/home/sallen/202007/202007H/ObsModel_202007H_pugts_20150101_20151231.csv',\n",
    "          '/home/sallen/202007/202007H/ObsModel_202007H_onc_20150101_20151231.csv',\n",
    "          '/home/sallen/202007/202007H/ObsModel_202007H_ctd_20160101_20161231.csv',\n",
    "     '/home/sallen/202007/202007H/ObsModel_202007H_onc_20160101_20161231.csv',\n",
    "          '/home/sallen/202007/202007H/ObsModel_202007H_psfts_20160101_20161231.csv',\n",
    "          '/home/sallen/202007/202007H/ObsModel_202007H_pugts_20160101_20161231.csv',\n",
    "          '/home/sallen/202007/202007H/ObsModel_202007H_ctd_20170101_20171231.csv',\n",
    "       '/home/sallen/202007/202007H/ObsModel_202007H_onc_20170101_20171231.csv',\n",
    "          '/home/sallen/202007/202007H/ObsModel_202007H_psfts_20170101_20171231.csv',\n",
    "          '/home/sallen/202007/202007H/ObsModel_202007H_pugts_20170101_20171231.csv',\n",
    "          \n",
    "         )"
   ]
  },
  {
   "cell_type": "code",
   "execution_count": null,
   "metadata": {},
   "outputs": [],
   "source": [
    "temp1 = read_pieces(pieces)\n",
    "temp1['SA'] = temp1.SA.fillna(value=temp1['salinity (g/kg)'])\n",
    "#temp1['SA'] = temp1['salinity (g/kg)']\n",
    "temp1.drop(columns='Unnamed: 0', inplace=True)\n",
    "temp1.drop_duplicates(inplace=True)\n",
    "modH = plot_and_stats(filter_bad_data(temp1), 'H')\n",
    "modH.style.format(myformat)"
   ]
  },
  {
   "cell_type": "code",
   "execution_count": null,
   "metadata": {},
   "outputs": [],
   "source": [
    "pieces = ('/data/sallen/results/MEOPAR/202111/ObsModel_202111_ctd_20150101_20151231.csv',\n",
    "         '/data/sallen/results/MEOPAR/202111/ObsModel_202111_psfts_20150101_20151231.csv',\n",
    "         '/data/sallen/results/MEOPAR/202111/ObsModel_202111_pugts_20150101_20151231.csv',\n",
    "          '/data/sallen/results/MEOPAR/202111/ObsModel_202111_onc_20150101_20151231.csv',\n",
    "          '/data/sallen/results/MEOPAR/202111/ObsModel_202111_ctd_20160101_20161231.csv',\n",
    "          '/data/sallen/results/MEOPAR/202111/ObsModel_202111_psfts_20160101_20161231.csv',\n",
    "          '/data/sallen/results/MEOPAR/202111/ObsModel_202111_pugts_20160101_20161231.csv',\n",
    "          '/data/sallen/results/MEOPAR/202111/ObsModel_202111_onc_20160101_20161231.csv',\n",
    "         )"
   ]
  },
  {
   "cell_type": "code",
   "execution_count": null,
   "metadata": {},
   "outputs": [],
   "source": [
    "temp1 = read_pieces(pieces)\n",
    "temp1['SA'] = temp1.SA.fillna(value=temp1['salinity (g/kg)'])\n",
    "temp1.drop(columns='Unnamed: 0', inplace=True)\n",
    "temp1.drop_duplicates(inplace=True)\n",
    "modv202111 = plot_and_stats(filter_bad_data(temp1), 'v202111')\n",
    "modv202111.style.format(myformat)"
   ]
  },
  {
   "cell_type": "code",
   "execution_count": null,
   "metadata": {},
   "outputs": [],
   "source": [
    "def highlight_max_min(s):\n",
    "    '''\n",
    "    highlight the minimum/maximum in a Series.\n",
    "    '''\n",
    "    is_max = abs(s) == abs(s).max()\n",
    "    is_min = abs(s) == abs(s).min()\n",
    "    color = []\n",
    "    for v, v2 in zip(is_max, is_min):\n",
    "        if v:\n",
    "            color.append('red')\n",
    "        elif v2:\n",
    "            color.append('darkgreen')\n",
    "        else:\n",
    "            color.append('black')\n",
    "    return ['color: %s' % color[i] for i in range(len(is_max))]"
   ]
  },
  {
   "cell_type": "code",
   "execution_count": null,
   "metadata": {},
   "outputs": [],
   "source": [
    "alltogether = pd.concat([d201812,d201905,dCp2, \n",
    "                         #Dagain, DnoC, DlowR, \n",
    "                         modCp3, #modF, modH, \n",
    "                         modGp1, modGp2,\n",
    "                        modv202111], axis=0)\n",
    "foramt = \"{:.2}\"\n",
    "alltogether.style.format(myformat).apply(highlight_max_min)"
   ]
  },
  {
   "cell_type": "markdown",
   "metadata": {},
   "source": [
    "F is best, more important than the change in biology compared to Cp3, it is run continuously through the years and started in Nov 2014.   \n",
    "New bathymetry is even better in pretty much every way. However, the new waves are not as good.  Increase the bias slightly.  At the same point, the difference is .01!"
   ]
  },
  {
   "cell_type": "markdown",
   "metadata": {},
   "source": [
    "## Below this line: all is original before removing bad data"
   ]
  },
  {
   "cell_type": "code",
   "execution_count": null,
   "metadata": {},
   "outputs": [],
   "source": [
    "alltogether = pd.concat([d201812,d201905, dCp2, Dagain, DnoC, DlowR, modF], axis=0)\n",
    "foramt = \"{:.2}\"\n",
    "alltogether.style.format(myformat).apply(highlight_max_min)"
   ]
  },
  {
   "cell_type": "markdown",
   "metadata": {},
   "source": [
    "## The Hook ##\n",
    "\n",
    "Note the hook at obs=22, model=30 : what is this?"
   ]
  },
  {
   "cell_type": "code",
   "execution_count": null,
   "metadata": {},
   "outputs": [],
   "source": [
    "temp1.keys()"
   ]
  },
  {
   "cell_type": "code",
   "execution_count": null,
   "metadata": {},
   "outputs": [],
   "source": [
    "plt.plot(temp1.Lon[(temp1.SA < 25) & (temp1.mod_vosaline >27)],\n",
    "         temp1.Lat[(temp1.SA < 25) & (temp1.mod_vosaline >27)], 'ro');"
   ]
  },
  {
   "cell_type": "code",
   "execution_count": null,
   "metadata": {},
   "outputs": [],
   "source": [
    "plt.plot(temp1.Lon[(temp1.SA < 25) & (temp1.mod_vosaline >27)],\n",
    "         -temp1.Z[(temp1.SA < 25) & (temp1.mod_vosaline >27)], 'ro');"
   ]
  },
  {
   "cell_type": "code",
   "execution_count": null,
   "metadata": {},
   "outputs": [],
   "source": [
    "print (temp1[(temp1.SA < 25) & (temp1.mod_vosaline > 27) & (temp1.Z > 20)])"
   ]
  },
  {
   "cell_type": "code",
   "execution_count": null,
   "metadata": {},
   "outputs": [],
   "source": [
    "plt.plot(temp1.SA[(temp1.SA < 25) & (temp1.mod_vosaline > 27) & (temp1.Z > 20)],\n",
    " -temp1.Z[(temp1.SA < 25) & (temp1.mod_vosaline > 27) & (temp1.Z > 20)])"
   ]
  },
  {
   "cell_type": "code",
   "execution_count": null,
   "metadata": {},
   "outputs": [],
   "source": [
    "plt.plot(temp1.SA[temp1.Lat < 47.30], \n",
    " -temp1.Z[temp1.Lat < 47.30], 'o')"
   ]
  },
  {
   "cell_type": "code",
   "execution_count": null,
   "metadata": {},
   "outputs": [],
   "source": [
    "fig, ax = plt.subplots(figsize = (6,6))\n",
    "viz_tools.set_aspect(ax, coords = 'map')\n",
    "grid = nc.Dataset('/home/sallen/MEOPAR/grid/bathymetry_201702.nc')\n",
    "viz_tools.plot_coastline(ax, grid, coords = 'map')\n",
    "ax.set_ylim(47, 47.5)\n",
    "#ax.legend()\n",
    "ax.set_xlim(-123.3, -122.2);\n",
    "\n",
    "ax.plot(temp1.Lon[temp1.Lat < 47.30], \n",
    " temp1.Lat[temp1.Lat < 47.30], 'o');\n",
    "\n",
    "ax.plot(-122.450123, 47.290377,'r+');"
   ]
  },
  {
   "cell_type": "code",
   "execution_count": null,
   "metadata": {},
   "outputs": [],
   "source": [
    "plt.plot(temp1.SA[(temp1.Lat < 47.30) & (temp1.Lon > -122.5)], \n",
    " -temp1.Z[(temp1.Lat < 47.30) & (temp1.Lon > -122.5)], 'o')\n",
    "plt.ylim(-20, 0)"
   ]
  },
  {
   "cell_type": "code",
   "execution_count": null,
   "metadata": {},
   "outputs": [],
   "source": [
    "temp1 = read_pieces(pieces)\n",
    "temp1['SA'] = temp1.SA.fillna(value=temp1['salinity (g/kg)'])\n",
    "#temp1['SA'] = temp1['salinity (g/kg)']\n",
    "temp1.drop(columns='Unnamed: 0', inplace=True)\n",
    "temp1.drop_duplicates(inplace=True)\n",
    "modF = plot_and_stats(temp1[(temp1.Lat > 47.30) | (temp1.Lon < -122.5) | (temp1.Z < 5) | (temp1.SA > 26)], 'F')\n",
    "modF.style.format(myformat)"
   ]
  },
  {
   "cell_type": "markdown",
   "metadata": {},
   "source": [
    "## The Hook\n",
    "\n",
    "Is due to a single bad profile in Tacoma Harbor.  Removing it, removes the hook and decreases the rmse, the sWillmott, the slopedev, the const, the systematic and non-systematic error and the spread deviation."
   ]
  },
  {
   "cell_type": "markdown",
   "metadata": {},
   "source": [
    "## The Box"
   ]
  },
  {
   "cell_type": "code",
   "execution_count": null,
   "metadata": {},
   "outputs": [],
   "source": [
    "modF = plot_and_stats(temp1[(temp1.mod_vosaline > 30.5) & (temp1.SA < 29)], 'F')\n",
    "modF.style.format(myformat)"
   ]
  },
  {
   "cell_type": "code",
   "execution_count": null,
   "metadata": {},
   "outputs": [],
   "source": [
    "fig, ax = plt.subplots(figsize = (6,6))\n",
    "viz_tools.set_aspect(ax, coords = 'map')\n",
    "grid = nc.Dataset('/home/sallen/MEOPAR/grid/bathymetry_201702.nc')\n",
    "viz_tools.plot_coastline(ax, grid, coords = 'map')\n",
    "\n",
    "ax.plot(temp1.Lon[(temp1.mod_vosaline > 30.5) & (temp1.SA < 29)], \n",
    " temp1.Lat[(temp1.mod_vosaline > 30.5) & (temp1.SA < 29)], 'o');\n"
   ]
  },
  {
   "cell_type": "code",
   "execution_count": null,
   "metadata": {},
   "outputs": [],
   "source": [
    "plt.plot(temp1.SA[(temp1.mod_vosaline > 30.5) & (temp1.SA < 29)], \n",
    " -temp1.Z[(temp1.mod_vosaline > 30.5) & (temp1.SA < 29)], 'o')\n",
    "plt.plot(temp1.mod_vosaline[(temp1.mod_vosaline > 30.5) & (temp1.SA < 29)], \n",
    " -temp1.Z[(temp1.mod_vosaline > 30.5) & (temp1.SA < 29)], 'g+')\n",
    "plt.plot(temp1.SA[(temp1.mod_vosaline > 30.5) & (temp1.SA < 29)], \n",
    " -temp1['depth (m)'][(temp1.mod_vosaline > 30.5) & (temp1.SA < 29)], 'o')\n",
    "plt.plot(temp1.mod_vosaline[(temp1.mod_vosaline > 30.5) & (temp1.SA < 29)], \n",
    " -temp1['depth (m)'][(temp1.mod_vosaline > 30.5) & (temp1.SA < 29)], 'g+')"
   ]
  },
  {
   "cell_type": "code",
   "execution_count": null,
   "metadata": {},
   "outputs": [],
   "source": [
    "plt.plot(temp1.SA[temp1['depth (m)'] == 107])"
   ]
  },
  {
   "cell_type": "markdown",
   "metadata": {},
   "source": [
    "According to ONC, all 2017 (that lower data) failed QC."
   ]
  },
  {
   "cell_type": "code",
   "execution_count": null,
   "metadata": {},
   "outputs": [],
   "source": [
    "temp1 = read_pieces(pieces)\n",
    "temp1['SA'] = temp1.SA.fillna(value=temp1['salinity (g/kg)'])\n",
    "#temp1['SA'] = temp1['salinity (g/kg)']\n",
    "temp1.drop(columns='Unnamed: 0', inplace=True)\n",
    "temp1.drop_duplicates(inplace=True)\n",
    "temp1_nohook = temp1[(temp1.Lat > 47.30) | (temp1.Lon < -122.5) | (temp1.Z < 5) | (temp1.SA > 26) ]\n",
    "temp1_nobox_nohook = temp1_nohook[(temp1['depth (m)'] != 107) | (temp1.SA > 29)]\n",
    "modF = plot_and_stats(temp1_nobox_nohook, 'F')\n",
    "modF.style.format(myformat)"
   ]
  },
  {
   "cell_type": "code",
   "execution_count": null,
   "metadata": {},
   "outputs": [],
   "source": [
    "## Without Puget Sound"
   ]
  },
  {
   "cell_type": "code",
   "execution_count": null,
   "metadata": {},
   "outputs": [],
   "source": [
    "pieces = ('/home/sallen/202007/202007F/ObsModel_202007F_ctd_20150101_20151231.csv',\n",
    "        # '/home/sallen/202007/202007F/ObsModel_202007F_pugts_20150101_20151231.csv',\n",
    "         '/home/sallen/202007/202007F/ObsModel_202007F_ctd_20160101_20161231.csv',\n",
    "       #  '/home/sallen/202007/202007F/ObsModel_202007F_pugts_20160101_20161231.csv',\n",
    "         '/home/sallen/202007/202007F/ObsModel_202007F_ctd_20170101_20171231.csv',\n",
    "       #  '/home/sallen/202007/202007F/ObsModel_202007F_pugts_20170101_20171231.csv',\n",
    "         '/home/sallen/202007/202007F/ObsModel_202007F_psfts_20150101_20151231.csv',\n",
    "         '/home/sallen/202007/202007F/ObsModel_202007F_psfts_20160101_20161231.csv',\n",
    "         '/home/sallen/202007/202007F/ObsModel_202007F_psfts_20170101_20171231.csv',\n",
    "         '/home/sallen/202007/202007F/ObsModel_202007F_onc_20150101_20151231.csv',\n",
    "         '/home/sallen/202007/202007F/ObsModel_202007F_onc_20160101_20161231.csv',\n",
    "         '/home/sallen/202007/202007F/ObsModel_202007F_onc_20170101_20171231.csv'\n",
    "         )"
   ]
  },
  {
   "cell_type": "code",
   "execution_count": null,
   "metadata": {},
   "outputs": [],
   "source": [
    "temp1 = read_pieces(pieces)\n",
    "temp1['SA'] = temp1.SA.fillna(value=temp1['salinity (g/kg)'])\n",
    "#temp1['SA'] = temp1['salinity (g/kg)']\n",
    "temp1.drop(columns='Unnamed: 0', inplace=True)\n",
    "temp1.drop_duplicates(inplace=True)\n",
    "temp1_nohook = temp1[(temp1.Lat > 47.30) | (temp1.Lon < -122.5) | (temp1.Z < 5) | (temp1.SA > 26) ]\n",
    "temp1_nobox_nohook = temp1_nohook[(temp1['depth (m)'] != 107) | (temp1.SA > 29)]\n",
    "modF = plot_and_stats(temp1_nobox_nohook, 'F')\n",
    "modF.style.format(myformat)"
   ]
  },
  {
   "cell_type": "code",
   "execution_count": null,
   "metadata": {},
   "outputs": [],
   "source": [
    "fig, ax = plt.subplots(figsize = (6,6))\n",
    "viz_tools.set_aspect(ax, coords = 'map')\n",
    "viz_tools.plot_coastline(ax, grid, coords = 'map')\n",
    "\n",
    "ax.plot(temp1.Lon[(temp1.mod_vosaline > 25) & (temp1.SA < 23) & (temp1.k >= 5)], \n",
    " temp1.Lat[(temp1.mod_vosaline > 25) & (temp1.SA < 23) & (temp1.k >= 5)], 'o');\n"
   ]
  },
  {
   "cell_type": "code",
   "execution_count": null,
   "metadata": {},
   "outputs": [],
   "source": [
    "plt.plot(temp1.Lat[(temp1.mod_vosaline > 25) & (temp1.SA < 23) & (temp1.k >=5)], \n",
    " -temp1.Z[(temp1.mod_vosaline > 25) & (temp1.SA < 23)& (temp1.k >=5)], 'o');\n",
    "plt.plot(temp1.Lat[(temp1.mod_vosaline > 25) & (temp1.SA < 23) & (temp1.k >=5)], \n",
    " -temp1['depth (m)'][(temp1.mod_vosaline > 25) & (temp1.SA < 23) & (temp1.k >=5)], 'o');"
   ]
  },
  {
   "cell_type": "markdown",
   "metadata": {},
   "source": [
    "This region of the distribution is reflecting too high salinity in the model in the halocline of the SoG."
   ]
  },
  {
   "cell_type": "code",
   "execution_count": null,
   "metadata": {},
   "outputs": [],
   "source": [
    "fig, ax = plt.subplots(figsize = (6,6))\n",
    "viz_tools.set_aspect(ax, coords = 'map')\n",
    "viz_tools.plot_coastline(ax, grid, coords = 'map')\n",
    "\n",
    "ax.plot(temp1.Lon[(temp1.mod_vosaline < 23) & (temp1.SA > 25) & (temp1.k >= 5)], \n",
    " temp1.Lat[(temp1.mod_vosaline < 23) & (temp1.SA > 25) & (temp1.k >= 5)], 'o');"
   ]
  },
  {
   "cell_type": "code",
   "execution_count": null,
   "metadata": {},
   "outputs": [],
   "source": [
    "plt.plot(temp1.Lat[(temp1.mod_vosaline < 23) & (temp1.SA > 25) & (temp1.k >=5)], \n",
    " -temp1.Z[(temp1.mod_vosaline < 23) & (temp1.SA > 25)& (temp1.k >=5)], 'o');\n",
    "plt.plot(temp1.Lat[(temp1.mod_vosaline < 23) & (temp1.SA > 25) & (temp1.k >=5)], \n",
    " -temp1['depth (m)'][(temp1.mod_vosaline < 23) & (temp1.SA > 25) & (temp1.k >=5)], 'o');"
   ]
  },
  {
   "cell_type": "markdown",
   "metadata": {},
   "source": [
    "More limited cases when the model is too fresh compared to the obs.  Note that this most often occurs on the west side, whereas the high salinities are on the east side."
   ]
  },
  {
   "cell_type": "code",
   "execution_count": null,
   "metadata": {},
   "outputs": [],
   "source": [
    "temp1['dtUTC'] = pd.to_datetime(temp1.dtUTC)"
   ]
  },
  {
   "cell_type": "code",
   "execution_count": null,
   "metadata": {},
   "outputs": [],
   "source": [
    "fig, ax = plt.subplots(1, 1, figsize=(15, 4))\n",
    "ax.plot(temp1.dtUTC[(temp1.mod_vosaline < 23) & (temp1.SA > 25) & (temp1.k >=5)], \n",
    " -temp1.Z[(temp1.mod_vosaline < 23) & (temp1.SA > 25)& (temp1.k >=5)], 'o');\n",
    "ax.plot(temp1.dtUTC[(temp1.mod_vosaline < 23) & (temp1.SA > 25) & (temp1.k >=5)], \n",
    " -temp1['depth (m)'][(temp1.mod_vosaline < 23) & (temp1.SA > 25) & (temp1.k >=5)], 'o');\n",
    "ax.plot(temp1.dtUTC[(temp1.mod_vosaline > 25) & (temp1.SA < 23) & (temp1.k >=5)], \n",
    " -temp1.Z[(temp1.mod_vosaline > 25) & (temp1.SA < 23)& (temp1.k >=5)], 'r+');\n",
    "ax.plot(temp1.dtUTC[(temp1.mod_vosaline > 25) & (temp1.SA < 23) & (temp1.k >=5)], \n",
    " -temp1['depth (m)'][(temp1.mod_vosaline > 25) & (temp1.SA < 23) & (temp1.k >=5)], 'r+');\n",
    "ax.tick_params(labelrotation=90)"
   ]
  },
  {
   "cell_type": "code",
   "execution_count": null,
   "metadata": {},
   "outputs": [],
   "source": [
    "temp2017 = temp1[temp1.dtUTC > dt.datetime(2017, 1, 1)]"
   ]
  },
  {
   "cell_type": "code",
   "execution_count": null,
   "metadata": {},
   "outputs": [],
   "source": [
    "fig, ax = plt.subplots(figsize = (6,6))\n",
    "viz_tools.set_aspect(ax, coords = 'map')\n",
    "viz_tools.plot_coastline(ax, grid, coords = 'map')\n",
    "ax.plot(temp2017.Lon[(temp2017.mod_vosaline < 23) & (temp2017.SA > 25) & (temp2017.k >=5)], \n",
    " temp2017.Lat[(temp2017.mod_vosaline < 23) & (temp2017.SA > 25)& (temp2017.k >=5)], 'bo');\n",
    "ax.plot(temp2017.Lon[(temp2017.mod_vosaline > 25) & (temp2017.SA < 23) & (temp2017.k >=5)], \n",
    " temp2017.Lat[(temp2017.mod_vosaline > 25) & (temp2017.SA < 23)& (temp2017.k >=5)], 'r+');"
   ]
  },
  {
   "cell_type": "markdown",
   "metadata": {},
   "source": [
    "Looking just at 2017 case, it is clear that the east side is too salt in the model and the west side is too fresh.  Suggesting that the cross-strait tilt of the isohalines is not strong enough."
   ]
  }
 ],
 "metadata": {
  "kernelspec": {
   "display_name": "py39",
   "language": "python",
   "name": "py39"
  },
  "language_info": {
   "codemirror_mode": {
    "name": "ipython",
    "version": 3
   },
   "file_extension": ".py",
   "mimetype": "text/x-python",
   "name": "python",
   "nbconvert_exporter": "python",
   "pygments_lexer": "ipython3",
   "version": "3.9.2"
  }
 },
 "nbformat": 4,
 "nbformat_minor": 4
}
