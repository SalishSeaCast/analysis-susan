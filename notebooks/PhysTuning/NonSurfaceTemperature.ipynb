{
 "cells": [
  {
   "cell_type": "markdown",
   "metadata": {},
   "source": [
    "# Notebook to Start Pulling it All Together"
   ]
  },
  {
   "cell_type": "markdown",
   "metadata": {},
   "source": [
    "## Temperature 5 m and deeper"
   ]
  },
  {
   "cell_type": "code",
   "execution_count": 64,
   "metadata": {},
   "outputs": [],
   "source": [
    "import matplotlib.pyplot as plt\n",
    "from matplotlib.colors import LogNorm\n",
    "import numpy as np\n",
    "import pandas as pd\n",
    "import statsmodels.api as sm"
   ]
  },
  {
   "cell_type": "code",
   "execution_count": 153,
   "metadata": {},
   "outputs": [],
   "source": [
    "def bias(df, obs, mod):\n",
    "    return len(df), (df[mod] - df[obs]).mean()"
   ]
  },
  {
   "cell_type": "code",
   "execution_count": 59,
   "metadata": {},
   "outputs": [],
   "source": [
    "def rmse(df, obs, mod):\n",
    "    return (np.sqrt(((df[mod] - df[obs])**2).mean()))"
   ]
  },
  {
   "cell_type": "code",
   "execution_count": 61,
   "metadata": {},
   "outputs": [],
   "source": [
    "def swillmott(df, obs, mod):\n",
    "    meanobs = df[obs].mean()\n",
    "    return (((df[mod] - df[obs])**2).sum()\n",
    "            /(( (df[mod] - meanobs).abs() + (df[obs] - meanobs).abs() )**2).sum())"
   ]
  },
  {
   "cell_type": "code",
   "execution_count": 210,
   "metadata": {},
   "outputs": [],
   "source": [
    "def slope_inter(df, obs, mod):\n",
    "    X = df[obs]\n",
    "    y = df[mod]\n",
    "    X = sm.add_constant(X)\n",
    "\n",
    "    # Fit and make the predictions by the model\n",
    "    model = sm.OLS(y, X, missing='drop').fit()\n",
    "    predictions = model.predict(X)\n",
    "    \n",
    "    nonsyst = np.sqrt(((y - predictions)**2).mean())\n",
    "    systematic = np.sqrt(((predictions - df[obs])**2).mean())\n",
    "    return model.params[obs], model.params['const'], systematic, nonsyst"
   ]
  },
  {
   "cell_type": "code",
   "execution_count": 233,
   "metadata": {},
   "outputs": [],
   "source": [
    "def spread(df, obs, mod):\n",
    "    return 1 - ((df[mod] - df[mod].mean())**2).mean() / ((df[obs] - df[obs].mean())**2).mean() "
   ]
  },
  {
   "cell_type": "code",
   "execution_count": 134,
   "metadata": {},
   "outputs": [],
   "source": [
    "def read_pieces(pieces):\n",
    "    temp1 = pd.read_csv(pieces[0])\n",
    "    for piece in pieces[1:]:\n",
    "        nextpiece = pd.read_csv(piece)\n",
    "        temp1 = pd.concat([temp1, nextpiece], ignore_index=True)\n",
    "    return temp1"
   ]
  },
  {
   "cell_type": "code",
   "execution_count": 234,
   "metadata": {},
   "outputs": [],
   "source": [
    "def plot_and_stats(temp1, name):\n",
    "    fig, ax = plt.subplots(1, 1, figsize=(5, 5))\n",
    "    ax.hist2d(temp1.CT[temp1.k >= 5], temp1.mod_votemper[temp1.k >= 5], bins=np.arange(4, 20, 0.5), norm=LogNorm());\n",
    "    number, tbias = bias(temp1[temp1.k >= 5], 'CT', 'mod_votemper')\n",
    "    trmse = rmse(temp1[temp1.k >= 5], 'CT', 'mod_votemper')\n",
    "    tswillmott = swillmott(temp1[temp1.k >=5], 'CT', 'mod_votemper')\n",
    "    m, c, syst, nonsyst = slope_inter(temp1[temp1.k >= 5], 'CT', 'mod_votemper')\n",
    "    tspread = spread(temp1[temp1.k >= 5], 'CT', 'mod_votemper')\n",
    "    ax.plot([4, 19.5], [4, 19.5], 'w-');\n",
    "    ax.plot(np.arange(4, 20, 0.5), c + m*np.arange(4, 20, 0.5), 'r-');\n",
    "    ax.arrow(5, 16, 0, 1-tbias/2, head_width=0.5, head_length=0.2, length_includes_head=True)\n",
    "    ax.arrow(5, 18, 0, -1+tbias/2, head_width=0.5, head_length=0.2, length_includes_head=True)\n",
    "    ax.arrow(6, 16, 0, 1-syst/2, head_width=0.5, head_length=0.2, length_includes_head=True)\n",
    "    ax.arrow(6, 18, 0, -1+syst/2, head_width=0.5, head_length=0.2, length_includes_head=True)\n",
    "    ax.arrow(7, 16, 0, 1-nonsyst/2, head_width=0.5, head_length=0.2, length_includes_head=True)\n",
    "    ax.arrow(7, 18, 0, -1+nonsyst/2, head_width=0.5, head_length=0.2, length_includes_head=True);\n",
    "    Cp2 = {'number': number,\n",
    "            'bias': tbias,\n",
    "          'rmse': trmse,\n",
    "          'swillmott': tswillmott,\n",
    "          'slopedev': 1-m,\n",
    "          'const': c,\n",
    "          'systematic': syst,\n",
    "          'nonsystematic': nonsyst,\n",
    "          'spread': tspread}\n",
    "    ax.text(5-0.2, 14, 'bias', rotation=90)\n",
    "    ax.text(6-0.2, 13, 'systematic', rotation=90)\n",
    "    ax.text(7-0.2, 12, 'non-systematic', rotation=90)\n",
    "    ax.set_title(f'{name}, Temperature below 5 m');\n",
    "    dCp2 = pd.DataFrame(data=Cp2, index=[name])\n",
    "    return dCp2\n"
   ]
  },
  {
   "cell_type": "code",
   "execution_count": 235,
   "metadata": {},
   "outputs": [],
   "source": [
    "pieces = ('/home/sallen/202007/202007C-p2/ObsModel_202007Cp2_TS_20150101-20150331.csv',\n",
    "         '/home/sallen/202007/202007C-p2/ObsModel_202007Cp2_TS_20150401-20150630.csv',\n",
    "         '/home/sallen/202007/202007C-p2/ObsModel_202007Cp2_TS_20150701-20150930.csv',\n",
    "         '/home/sallen/202007/202007C-p2/ObsModel_202007Cp2_TS_20151001-20151231.csv',\n",
    "         '/home/sallen/202007/202007C-p2/ObsModel_202007Cp2_TSPUG_20150101-20151231.csv',\n",
    "         '/home/sallen/202007/202007C-p2/ObsModel_202007Cp2_TS_20160101-20160331.csv',\n",
    "         '/home/sallen/202007/202007C-p2/ObsModel_202007Cp2_TS_20160401-20160630.csv',\n",
    "         '/home/sallen/202007/202007C-p2/ObsModel_202007Cp2_TS_20160701-20160930.csv',\n",
    "         '/home/sallen/202007/202007C-p2/ObsModel_202007Cp2_TS_20161001-20161231.csv',\n",
    "         '/home/sallen/202007/202007C-p2/ObsModel_202007Cp2_TSPUG_20160101-20161231.csv',\n",
    "         '/home/sallen/202007/202007C-p2/ObsModel_202007Cp2_TS_20170101-20170331.csv',\n",
    "         '/home/sallen/202007/202007C-p2/ObsModel_202007Cp2_TS_20170401-20170630.csv',\n",
    "         '/home/sallen/202007/202007C-p2/ObsModel_202007Cp2_TS_20170701-20170930.csv',\n",
    "         '/home/sallen/202007/202007C-p2/ObsModel_202007Cp2_TS_20171001-20171231.csv',\n",
    "         '/home/sallen/202007/202007C-p2/ObsModel_202007Cp2_TSPUG_20170101-20171231.csv')"
   ]
  },
  {
   "cell_type": "code",
   "execution_count": 236,
   "metadata": {},
   "outputs": [
    {
     "data": {
      "text/html": [
       "<div>\n",
       "<style scoped>\n",
       "    .dataframe tbody tr th:only-of-type {\n",
       "        vertical-align: middle;\n",
       "    }\n",
       "\n",
       "    .dataframe tbody tr th {\n",
       "        vertical-align: top;\n",
       "    }\n",
       "\n",
       "    .dataframe thead th {\n",
       "        text-align: right;\n",
       "    }\n",
       "</style>\n",
       "<table border=\"1\" class=\"dataframe\">\n",
       "  <thead>\n",
       "    <tr style=\"text-align: right;\">\n",
       "      <th></th>\n",
       "      <th>number</th>\n",
       "      <th>bias</th>\n",
       "      <th>rmse</th>\n",
       "      <th>swillmott</th>\n",
       "      <th>slopedev</th>\n",
       "      <th>const</th>\n",
       "      <th>systematic</th>\n",
       "      <th>nonsystematic</th>\n",
       "      <th>spread</th>\n",
       "    </tr>\n",
       "  </thead>\n",
       "  <tbody>\n",
       "    <tr>\n",
       "      <th>Cp2</th>\n",
       "      <td>552175</td>\n",
       "      <td>-0.105918</td>\n",
       "      <td>0.45508</td>\n",
       "      <td>0.032549</td>\n",
       "      <td>0.105152</td>\n",
       "      <td>0.941392</td>\n",
       "      <td>0.173684</td>\n",
       "      <td>0.420632</td>\n",
       "      <td>0.095888</td>\n",
       "    </tr>\n",
       "  </tbody>\n",
       "</table>\n",
       "</div>"
      ],
      "text/plain": [
       "     number      bias     rmse  swillmott  slopedev     const  systematic  \\\n",
       "Cp2  552175 -0.105918  0.45508   0.032549  0.105152  0.941392    0.173684   \n",
       "\n",
       "     nonsystematic    spread  \n",
       "Cp2       0.420632  0.095888  "
      ]
     },
     "execution_count": 236,
     "metadata": {},
     "output_type": "execute_result"
    },
    {
     "data": {
      "image/png": "[encoded data removed]",
      "text/plain": [
       "<Figure size 360x360 with 1 Axes>"
      ]
     },
     "metadata": {
      "needs_background": "light"
     },
     "output_type": "display_data"
    }
   ],
   "source": [
    "temp1 = read_pieces(pieces)\n",
    "dCp2 = plot_and_stats(temp1, 'Cp2')\n",
    "dCp2"
   ]
  },
  {
   "cell_type": "code",
   "execution_count": 237,
   "metadata": {},
   "outputs": [],
   "source": [
    "pieces = ('/home/sallen/202007/202007D-again/ObsModel_202007D-again_TS_20150101-20150331.csv',\n",
    "         '/home/sallen/202007/202007D-again/ObsModel_202007D-again_TS_20150401-20150630.csv',\n",
    "         '/home/sallen/202007/202007D-again/ObsModel_202007D-again_TS_20150701-20150930.csv',\n",
    "         '/home/sallen/202007/202007D-again/ObsModel_202007D-again_TS_20151001-20151231.csv',\n",
    "         '/home/sallen/202007/202007D-again/ObsModel_202007D-again_pugts_20150101_20151231.csv',\n",
    "          '/home/sallen/202007/202007D-again/ObsModel_202007D-again_ctd_20160101_20161231.csv',\n",
    "          '/home/sallen/202007/202007D-again/ObsModel_202007D-again_pugts_20160101_20161231.csv',\n",
    "          '/home/sallen/202007/202007D-again/ObsModel_202007D-again_ctd_20170101_20171231.csv',\n",
    "          '/home/sallen/202007/202007D-again/ObsModel_202007D-again_pugts_20170101_20171231.csv'\n",
    "        )"
   ]
  },
  {
   "cell_type": "code",
   "execution_count": 238,
   "metadata": {},
   "outputs": [
    {
     "data": {
      "text/html": [
       "<div>\n",
       "<style scoped>\n",
       "    .dataframe tbody tr th:only-of-type {\n",
       "        vertical-align: middle;\n",
       "    }\n",
       "\n",
       "    .dataframe tbody tr th {\n",
       "        vertical-align: top;\n",
       "    }\n",
       "\n",
       "    .dataframe thead th {\n",
       "        text-align: right;\n",
       "    }\n",
       "</style>\n",
       "<table border=\"1\" class=\"dataframe\">\n",
       "  <thead>\n",
       "    <tr style=\"text-align: right;\">\n",
       "      <th></th>\n",
       "      <th>number</th>\n",
       "      <th>bias</th>\n",
       "      <th>rmse</th>\n",
       "      <th>swillmott</th>\n",
       "      <th>slopedev</th>\n",
       "      <th>const</th>\n",
       "      <th>systematic</th>\n",
       "      <th>nonsystematic</th>\n",
       "      <th>spread</th>\n",
       "    </tr>\n",
       "  </thead>\n",
       "  <tbody>\n",
       "    <tr>\n",
       "      <th>Dagain</th>\n",
       "      <td>555128</td>\n",
       "      <td>-0.105961</td>\n",
       "      <td>0.453529</td>\n",
       "      <td>0.032363</td>\n",
       "      <td>0.104881</td>\n",
       "      <td>0.938525</td>\n",
       "      <td>0.173368</td>\n",
       "      <td>0.419085</td>\n",
       "      <td>0.09599</td>\n",
       "    </tr>\n",
       "  </tbody>\n",
       "</table>\n",
       "</div>"
      ],
      "text/plain": [
       "        number      bias      rmse  swillmott  slopedev     const  systematic  \\\n",
       "Dagain  555128 -0.105961  0.453529   0.032363  0.104881  0.938525    0.173368   \n",
       "\n",
       "        nonsystematic   spread  \n",
       "Dagain       0.419085  0.09599  "
      ]
     },
     "execution_count": 238,
     "metadata": {},
     "output_type": "execute_result"
    },
    {
     "data": {
      "image/png": "[encoded data removed]",
      "text/plain": [
       "<Figure size 360x360 with 1 Axes>"
      ]
     },
     "metadata": {
      "needs_background": "light"
     },
     "output_type": "display_data"
    }
   ],
   "source": [
    "temp3 = read_pieces(pieces)\n",
    "Dagain = plot_and_stats(temp3, 'Dagain')\n",
    "Dagain"
   ]
  },
  {
   "cell_type": "code",
   "execution_count": 243,
   "metadata": {},
   "outputs": [],
   "source": [
    "pieces = ('/home/sallen/202007/202007D-lowR/ObsModel_202007D-lowR_ctd_20150101_20151231.csv',\n",
    "         '/home/sallen/202007/202007D-lowR/ObsModel_202007D-lowR_pugts_20150101_20151231.csv',\n",
    "         '/home/sallen/202007/202007D-lowR/ObsModel_202007D-lowR_ctd_20160101_20161231.csv',\n",
    "         '/home/sallen/202007/202007D-lowR/ObsModel_202007D-lowR_pugts_20160101_20161231.csv',\n",
    "         '/home/sallen/202007/202007D-lowR/ObsModel_202007D-lowR_ctd_20170101_20171231.csv',\n",
    "         '/home/sallen/202007/202007D-lowR/ObsModel_202007D-lowR_pugts_20170101_20171231.csv',)"
   ]
  },
  {
   "cell_type": "code",
   "execution_count": 244,
   "metadata": {},
   "outputs": [
    {
     "data": {
      "text/html": [
       "<div>\n",
       "<style scoped>\n",
       "    .dataframe tbody tr th:only-of-type {\n",
       "        vertical-align: middle;\n",
       "    }\n",
       "\n",
       "    .dataframe tbody tr th {\n",
       "        vertical-align: top;\n",
       "    }\n",
       "\n",
       "    .dataframe thead th {\n",
       "        text-align: right;\n",
       "    }\n",
       "</style>\n",
       "<table border=\"1\" class=\"dataframe\">\n",
       "  <thead>\n",
       "    <tr style=\"text-align: right;\">\n",
       "      <th></th>\n",
       "      <th>number</th>\n",
       "      <th>bias</th>\n",
       "      <th>rmse</th>\n",
       "      <th>swillmott</th>\n",
       "      <th>slopedev</th>\n",
       "      <th>const</th>\n",
       "      <th>systematic</th>\n",
       "      <th>nonsystematic</th>\n",
       "      <th>spread</th>\n",
       "    </tr>\n",
       "  </thead>\n",
       "  <tbody>\n",
       "    <tr>\n",
       "      <th>D-lowR</th>\n",
       "      <td>559683</td>\n",
       "      <td>-0.10209</td>\n",
       "      <td>0.450698</td>\n",
       "      <td>0.031878</td>\n",
       "      <td>0.10081</td>\n",
       "      <td>0.901671</td>\n",
       "      <td>0.166712</td>\n",
       "      <td>0.418731</td>\n",
       "      <td>0.088763</td>\n",
       "    </tr>\n",
       "  </tbody>\n",
       "</table>\n",
       "</div>"
      ],
      "text/plain": [
       "        number     bias      rmse  swillmott  slopedev     const  systematic  \\\n",
       "D-lowR  559683 -0.10209  0.450698   0.031878   0.10081  0.901671    0.166712   \n",
       "\n",
       "        nonsystematic    spread  \n",
       "D-lowR       0.418731  0.088763  "
      ]
     },
     "execution_count": 244,
     "metadata": {},
     "output_type": "execute_result"
    },
    {
     "data": {
      "image/png": "[encoded data removed]",
      "text/plain": [
       "<Figure size 360x360 with 1 Axes>"
      ]
     },
     "metadata": {
      "needs_background": "light"
     },
     "output_type": "display_data"
    }
   ],
   "source": [
    "temp2 = read_pieces(pieces)\n",
    "DlowR = plot_and_stats(temp2, 'D-lowR')\n",
    "DlowR"
   ]
  },
  {
   "cell_type": "code",
   "execution_count": 239,
   "metadata": {},
   "outputs": [],
   "source": [
    "pieces = ('/home/sallen/202007/202007F/ObsModel_202007F_ctd_20150101_20151231.csv',\n",
    "         '/home/sallen/202007/202007F/ObsModel_202007F_pugts_20150101_20151231.csv',\n",
    "         '/home/sallen/202007/202007F/ObsModel_202007F_ctd_20160101_20161231.csv',\n",
    "         '/home/sallen/202007/202007F/ObsModel_202007F_pugts_20160101_20161231.csv',\n",
    "         '/home/sallen/202007/202007F/ObsModel_202007F_ctd_20170101_20171231.csv',\n",
    "         '/home/sallen/202007/202007F/ObsModel_202007F_pugts_20170101_20171231.csv',)"
   ]
  },
  {
   "cell_type": "code",
   "execution_count": 240,
   "metadata": {},
   "outputs": [
    {
     "data": {
      "text/html": [
       "<div>\n",
       "<style scoped>\n",
       "    .dataframe tbody tr th:only-of-type {\n",
       "        vertical-align: middle;\n",
       "    }\n",
       "\n",
       "    .dataframe tbody tr th {\n",
       "        vertical-align: top;\n",
       "    }\n",
       "\n",
       "    .dataframe thead th {\n",
       "        text-align: right;\n",
       "    }\n",
       "</style>\n",
       "<table border=\"1\" class=\"dataframe\">\n",
       "  <thead>\n",
       "    <tr style=\"text-align: right;\">\n",
       "      <th></th>\n",
       "      <th>number</th>\n",
       "      <th>bias</th>\n",
       "      <th>rmse</th>\n",
       "      <th>swillmott</th>\n",
       "      <th>slopedev</th>\n",
       "      <th>const</th>\n",
       "      <th>systematic</th>\n",
       "      <th>nonsystematic</th>\n",
       "      <th>spread</th>\n",
       "    </tr>\n",
       "  </thead>\n",
       "  <tbody>\n",
       "    <tr>\n",
       "      <th>F</th>\n",
       "      <td>559683</td>\n",
       "      <td>-0.067417</td>\n",
       "      <td>0.437647</td>\n",
       "      <td>0.029173</td>\n",
       "      <td>0.070968</td>\n",
       "      <td>0.639205</td>\n",
       "      <td>0.114689</td>\n",
       "      <td>0.422352</td>\n",
       "      <td>0.032344</td>\n",
       "    </tr>\n",
       "  </tbody>\n",
       "</table>\n",
       "</div>"
      ],
      "text/plain": [
       "   number      bias      rmse  swillmott  slopedev     const  systematic  \\\n",
       "F  559683 -0.067417  0.437647   0.029173  0.070968  0.639205    0.114689   \n",
       "\n",
       "   nonsystematic    spread  \n",
       "F       0.422352  0.032344  "
      ]
     },
     "execution_count": 240,
     "metadata": {},
     "output_type": "execute_result"
    },
    {
     "data": {
      "image/png": "[encoded data removed]",
      "text/plain": [
       "<Figure size 360x360 with 1 Axes>"
      ]
     },
     "metadata": {
      "needs_background": "light"
     },
     "output_type": "display_data"
    }
   ],
   "source": [
    "temp2 = read_pieces(pieces)\n",
    "modF = plot_and_stats(temp2, 'F')\n",
    "modF"
   ]
  },
  {
   "cell_type": "code",
   "execution_count": 245,
   "metadata": {},
   "outputs": [
    {
     "data": {
      "text/html": [
       "<style  type=\"text/css\" >\n",
       "#T_03245_row0_col0,#T_03245_row2_col7,#T_03245_row3_col1,#T_03245_row3_col2,#T_03245_row3_col3,#T_03245_row3_col4,#T_03245_row3_col5,#T_03245_row3_col6,#T_03245_row3_col8{\n",
       "            color:  darkgreen;\n",
       "        }#T_03245_row0_col1,#T_03245_row0_col7,#T_03245_row0_col8,#T_03245_row1_col0,#T_03245_row1_col2,#T_03245_row1_col3,#T_03245_row1_col4,#T_03245_row1_col5,#T_03245_row1_col6,#T_03245_row1_col7,#T_03245_row2_col1,#T_03245_row2_col2,#T_03245_row2_col3,#T_03245_row2_col4,#T_03245_row2_col5,#T_03245_row2_col6,#T_03245_row2_col8{\n",
       "            color:  black;\n",
       "        }#T_03245_row0_col2,#T_03245_row0_col3,#T_03245_row0_col4,#T_03245_row0_col5,#T_03245_row0_col6,#T_03245_row1_col1,#T_03245_row1_col8,#T_03245_row2_col0,#T_03245_row3_col0,#T_03245_row3_col7{\n",
       "            color:  red;\n",
       "        }</style><table id=\"T_03245_\" ><thead>    <tr>        <th class=\"blank level0\" ></th>        <th class=\"col_heading level0 col0\" >number</th>        <th class=\"col_heading level0 col1\" >bias</th>        <th class=\"col_heading level0 col2\" >rmse</th>        <th class=\"col_heading level0 col3\" >swillmott</th>        <th class=\"col_heading level0 col4\" >slopedev</th>        <th class=\"col_heading level0 col5\" >const</th>        <th class=\"col_heading level0 col6\" >systematic</th>        <th class=\"col_heading level0 col7\" >nonsystematic</th>        <th class=\"col_heading level0 col8\" >spread</th>    </tr></thead><tbody>\n",
       "                <tr>\n",
       "                        <th id=\"T_03245_level0_row0\" class=\"row_heading level0 row0\" >Cp2</th>\n",
       "                        <td id=\"T_03245_row0_col0\" class=\"data row0 col0\" >552175</td>\n",
       "                        <td id=\"T_03245_row0_col1\" class=\"data row0 col1\" >-0.11</td>\n",
       "                        <td id=\"T_03245_row0_col2\" class=\"data row0 col2\" >0.46</td>\n",
       "                        <td id=\"T_03245_row0_col3\" class=\"data row0 col3\" >0.033</td>\n",
       "                        <td id=\"T_03245_row0_col4\" class=\"data row0 col4\" >0.11</td>\n",
       "                        <td id=\"T_03245_row0_col5\" class=\"data row0 col5\" >0.94</td>\n",
       "                        <td id=\"T_03245_row0_col6\" class=\"data row0 col6\" >0.17</td>\n",
       "                        <td id=\"T_03245_row0_col7\" class=\"data row0 col7\" >0.42</td>\n",
       "                        <td id=\"T_03245_row0_col8\" class=\"data row0 col8\" >0.096</td>\n",
       "            </tr>\n",
       "            <tr>\n",
       "                        <th id=\"T_03245_level0_row1\" class=\"row_heading level0 row1\" >Dagain</th>\n",
       "                        <td id=\"T_03245_row1_col0\" class=\"data row1 col0\" >555128</td>\n",
       "                        <td id=\"T_03245_row1_col1\" class=\"data row1 col1\" >-0.11</td>\n",
       "                        <td id=\"T_03245_row1_col2\" class=\"data row1 col2\" >0.45</td>\n",
       "                        <td id=\"T_03245_row1_col3\" class=\"data row1 col3\" >0.032</td>\n",
       "                        <td id=\"T_03245_row1_col4\" class=\"data row1 col4\" >0.1</td>\n",
       "                        <td id=\"T_03245_row1_col5\" class=\"data row1 col5\" >0.94</td>\n",
       "                        <td id=\"T_03245_row1_col6\" class=\"data row1 col6\" >0.17</td>\n",
       "                        <td id=\"T_03245_row1_col7\" class=\"data row1 col7\" >0.42</td>\n",
       "                        <td id=\"T_03245_row1_col8\" class=\"data row1 col8\" >0.096</td>\n",
       "            </tr>\n",
       "            <tr>\n",
       "                        <th id=\"T_03245_level0_row2\" class=\"row_heading level0 row2\" >D-lowR</th>\n",
       "                        <td id=\"T_03245_row2_col0\" class=\"data row2 col0\" >559683</td>\n",
       "                        <td id=\"T_03245_row2_col1\" class=\"data row2 col1\" >-0.1</td>\n",
       "                        <td id=\"T_03245_row2_col2\" class=\"data row2 col2\" >0.45</td>\n",
       "                        <td id=\"T_03245_row2_col3\" class=\"data row2 col3\" >0.032</td>\n",
       "                        <td id=\"T_03245_row2_col4\" class=\"data row2 col4\" >0.1</td>\n",
       "                        <td id=\"T_03245_row2_col5\" class=\"data row2 col5\" >0.9</td>\n",
       "                        <td id=\"T_03245_row2_col6\" class=\"data row2 col6\" >0.17</td>\n",
       "                        <td id=\"T_03245_row2_col7\" class=\"data row2 col7\" >0.42</td>\n",
       "                        <td id=\"T_03245_row2_col8\" class=\"data row2 col8\" >0.089</td>\n",
       "            </tr>\n",
       "            <tr>\n",
       "                        <th id=\"T_03245_level0_row3\" class=\"row_heading level0 row3\" >F</th>\n",
       "                        <td id=\"T_03245_row3_col0\" class=\"data row3 col0\" >559683</td>\n",
       "                        <td id=\"T_03245_row3_col1\" class=\"data row3 col1\" >-0.067</td>\n",
       "                        <td id=\"T_03245_row3_col2\" class=\"data row3 col2\" >0.44</td>\n",
       "                        <td id=\"T_03245_row3_col3\" class=\"data row3 col3\" >0.029</td>\n",
       "                        <td id=\"T_03245_row3_col4\" class=\"data row3 col4\" >0.071</td>\n",
       "                        <td id=\"T_03245_row3_col5\" class=\"data row3 col5\" >0.64</td>\n",
       "                        <td id=\"T_03245_row3_col6\" class=\"data row3 col6\" >0.11</td>\n",
       "                        <td id=\"T_03245_row3_col7\" class=\"data row3 col7\" >0.42</td>\n",
       "                        <td id=\"T_03245_row3_col8\" class=\"data row3 col8\" >0.032</td>\n",
       "            </tr>\n",
       "    </tbody></table>"
      ],
      "text/plain": [
       "<pandas.io.formats.style.Styler at 0x7f162848c910>"
      ]
     },
     "execution_count": 245,
     "metadata": {},
     "output_type": "execute_result"
    }
   ],
   "source": [
    "alltogether = pd.concat([dCp2, Dagain, DlowR, modF], axis=0)\n",
    "foramt = \"{:.2}\"\n",
    "alltogether.style.format({'bias': foramt, 'rmse': foramt, 'swillmott': foramt, 'slopedev': foramt, 'const': foramt,\n",
    "                         'systematic': foramt, 'nonsystematic':foramt, \n",
    "                    'spread': foramt}).apply(highlight_max_min)"
   ]
  },
  {
   "cell_type": "code",
   "execution_count": 180,
   "metadata": {},
   "outputs": [],
   "source": [
    "def color_max_min(val):\n",
    "    \"\"\"\n",
    "    Takes a scalar and returns a string with\n",
    "    the css property `'color: red'` for negative\n",
    "    strings, black otherwise.\n",
    "    \"\"\"\n",
    "    color = 'red' if val < 0 else 'black'\n",
    "    return 'color: %s' % color"
   ]
  },
  {
   "cell_type": "code",
   "execution_count": 231,
   "metadata": {},
   "outputs": [],
   "source": [
    "def highlight_max_min(s):\n",
    "    '''\n",
    "    highlight the maximum in a Series yellow.\n",
    "    '''\n",
    "    is_max = abs(s) == abs(s).max()\n",
    "    is_min = abs(s) == abs(s).min()\n",
    "    color = []\n",
    "    for v, v2 in zip(is_max, is_min):\n",
    "        if v:\n",
    "            color.append('red')\n",
    "        elif v2:\n",
    "            color.append('darkgreen')\n",
    "        else:\n",
    "            color.append('black')\n",
    "    return ['color: %s' % color[i] for i in range(len(is_max))]"
   ]
  },
  {
   "cell_type": "code",
   "execution_count": null,
   "metadata": {},
   "outputs": [],
   "source": []
  }
 ],
 "metadata": {
  "kernelspec": {
   "display_name": "py39",
   "language": "python",
   "name": "py39"
  },
  "language_info": {
   "codemirror_mode": {
    "name": "ipython",
    "version": 3
   },
   "file_extension": ".py",
   "mimetype": "text/x-python",
   "name": "python",
   "nbconvert_exporter": "python",
   "pygments_lexer": "ipython3",
   "version": "3.9.1"
  }
 },
 "nbformat": 4,
 "nbformat_minor": 4
}
