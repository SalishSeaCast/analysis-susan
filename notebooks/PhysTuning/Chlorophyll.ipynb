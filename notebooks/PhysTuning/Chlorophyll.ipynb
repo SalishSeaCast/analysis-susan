{
 "cells": [
  {
   "cell_type": "markdown",
   "metadata": {},
   "source": [
    "## Chlorophyll"
   ]
  },
  {
   "cell_type": "code",
   "execution_count": 1,
   "metadata": {},
   "outputs": [],
   "source": [
    "import datetime as dt\n",
    "import matplotlib.pyplot as plt\n",
    "from matplotlib.colors import LogNorm\n",
    "import numpy as np\n",
    "import pandas as pd\n",
    "import statsmodels.api as sm\n",
    "import xarray as xr"
   ]
  },
  {
   "cell_type": "code",
   "execution_count": 2,
   "metadata": {},
   "outputs": [],
   "source": [
    "N2Chl = 1.8"
   ]
  },
  {
   "cell_type": "code",
   "execution_count": 3,
   "metadata": {},
   "outputs": [],
   "source": [
    "foramt = \"{:.2}\"\n",
    "myformat = {'bias': foramt, 'rmse': foramt, 'swillmott': foramt, 'slopedev': foramt, 'const': foramt,\n",
    "                         'systematic': foramt, 'nonsystematic':foramt, \n",
    "                    'spread': foramt}"
   ]
  },
  {
   "cell_type": "code",
   "execution_count": 4,
   "metadata": {},
   "outputs": [],
   "source": [
    "with xr.open_dataset('/home/sallen/MEOPAR/grid/mesh_mask201702.nc') as mesh:\n",
    "    deptht = mesh.gdept_1d[0].values"
   ]
  },
  {
   "cell_type": "code",
   "execution_count": 5,
   "metadata": {},
   "outputs": [],
   "source": [
    "def bias(df, obs, mod):\n",
    "    diffy = df[mod] - df[obs]\n",
    "    return diffy.count(), diffy.mean()"
   ]
  },
  {
   "cell_type": "code",
   "execution_count": 6,
   "metadata": {},
   "outputs": [],
   "source": [
    "def rmse(df, obs, mod):\n",
    "    return (np.sqrt(((df[mod] - df[obs])**2).mean()))"
   ]
  },
  {
   "cell_type": "code",
   "execution_count": 7,
   "metadata": {},
   "outputs": [],
   "source": [
    "def swillmott(df, obs, mod):\n",
    "    meanobs = df[obs].mean()\n",
    "    return (((df[mod] - df[obs])**2).sum()\n",
    "            /(( (df[mod] - meanobs).abs() + (df[obs] - meanobs).abs() )**2).sum())"
   ]
  },
  {
   "cell_type": "code",
   "execution_count": 8,
   "metadata": {},
   "outputs": [],
   "source": [
    "def slope_inter(df, obs, mod):\n",
    "    X = df[obs]\n",
    "    y = df[mod]\n",
    "    X = sm.add_constant(X)\n",
    "\n",
    "    # Fit and make the predictions by the model\n",
    "    model = sm.OLS(y, X, missing='drop').fit()\n",
    "    predictions = model.predict(X)\n",
    "    \n",
    "    nonsyst = np.sqrt(((y - predictions)**2).mean())\n",
    "    systematic = np.sqrt(((predictions - df[obs])**2).mean())\n",
    "    return model.params[obs], model.params['const'], systematic, nonsyst"
   ]
  },
  {
   "cell_type": "code",
   "execution_count": 9,
   "metadata": {},
   "outputs": [],
   "source": [
    "def spread(df, obs, mod):\n",
    "    return 1 - ((df[mod] - df[mod].mean())**2).mean() / ((df[obs] - df[obs].mean())**2).mean() "
   ]
  },
  {
   "cell_type": "code",
   "execution_count": 10,
   "metadata": {},
   "outputs": [],
   "source": [
    "def read_pieces(pieces):\n",
    "    temp1 = pd.read_csv(pieces[0])\n",
    "    for piece in pieces[1:]:\n",
    "        nextpiece = pd.read_csv(piece)\n",
    "        temp1 = pd.concat([temp1, nextpiece], ignore_index=True)\n",
    "    return temp1"
   ]
  },
  {
   "cell_type": "code",
   "execution_count": 11,
   "metadata": {},
   "outputs": [],
   "source": [
    "def plot_and_stats(temp1, name, obs, mod, idepth, jdepth):\n",
    "    fig, ax = plt.subplots(1, 1, figsize=(6, 5))\n",
    "    vmax = np.log10(50)\n",
    "    vmin = -2\n",
    "    print (deptht[idepth], deptht[jdepth])\n",
    "    counts, xedges, yedges, color = ax.hist2d(temp1[obs][(temp1.k >= idepth) & (temp1.k <= jdepth)], \n",
    "                                              temp1[mod][(temp1.k >= idepth) & (temp1.k <= jdepth)], \n",
    "                                           bins=np.arange(vmin, vmax, 0.1), norm=LogNorm());\n",
    "    fig.colorbar(color)\n",
    "    number, tbias = bias(temp1[(temp1.k >= idepth) & (temp1.k <= jdepth)], obs, mod)\n",
    "    trmse = rmse(temp1[(temp1.k >= idepth) & (temp1.k <= jdepth)], obs, mod)\n",
    "    tswillmott = swillmott(temp1[temp1.k >=idepth], obs, mod)\n",
    "    m, c, syst, nonsyst = slope_inter(temp1[(temp1.k >= idepth) & (temp1.k <= jdepth)], obs, mod)\n",
    "    tspread = spread(temp1[temp1.k >= idepth], obs, mod)\n",
    "    ax.plot([vmin, vmax], [vmin, vmax], 'w-');\n",
    "    xr = np.arange(vmin, vmax, 0.5)\n",
    "    ax.plot(xr, c + m * xr, 'r-');\n",
    "    sc = 0.25\n",
    "    sh = 0.5\n",
    "    bot = 0.5\n",
    "    top = bot + 2*sh \n",
    "    ax.arrow(-1.9, bot, 0, sh-tbias/2, head_width=0.5*sc, head_length=0.2*sc, length_includes_head=True)\n",
    "    ax.arrow(-1.9, top, 0, -sh+tbias/2, head_width=0.5*sc, head_length=0.2*sc, length_includes_head=True)\n",
    "    ax.arrow(-1.7, bot, 0, sh-syst/2, head_width=0.5*sc, head_length=0.2*sc, length_includes_head=True)\n",
    "    ax.arrow(-1.7, top, 0, -sh+syst/2, head_width=0.5*sc, head_length=0.2*sc, length_includes_head=True)\n",
    "    ax.arrow(-1.5, bot, 0, sh-nonsyst/2, head_width=0.5*sc, head_length=0.2*sc, length_includes_head=True)\n",
    "    ax.arrow(-1.5, top, 0, -sh+nonsyst/2, head_width=0.5*sc, head_length=0.2*sc, length_includes_head=True);\n",
    "    Cp2 = {'number': number,\n",
    "            'bias': tbias,\n",
    "          'rmse': trmse,\n",
    "          'swillmott': tswillmott,\n",
    "          'slopedev': 1-m,\n",
    "          'const': c,\n",
    "          'systematic': syst,\n",
    "          'nonsystematic': nonsyst,\n",
    "          'spread': tspread}\n",
    "    ax.text(-1.9-0.05, 0, 'bias', rotation=90)\n",
    "    ax.text(-1.7-0.05, -0.3, 'systematic', rotation=90)\n",
    "    ax.text(-1.5-0.05, -0.5, 'non-systematic', rotation=90)\n",
    "    ax.set_title(f'{name}, Log Chlorophyll');\n",
    "    dCp2 = pd.DataFrame(data=Cp2, index=[name])\n",
    "    return dCp2\n"
   ]
  },
  {
   "cell_type": "code",
   "execution_count": 12,
   "metadata": {},
   "outputs": [],
   "source": [
    "pieces = ('/home/sallen/202007/H201812/ObsModel_201812_Bio_20150101-20151231.csv',\n",
    "         '/home/sallen/202007/H201812/ObsModel_201812_Bio_20160101-20161231.csv',\n",
    "         '/home/sallen/202007/H201812/ObsModel_201812_Bio_20170101-20171231.csv',\n",
    "         '/home/sallen/202007/H201812/ObsModel_201812_PSF_20150101-20151231.csv',\n",
    "         '/home/sallen/202007/H201812/ObsModel_201812_PSF_20160101-20161231.csv',\n",
    "         '/home/sallen/202007/H201812/ObsModel_201812_PSF_20170101-20171231.csv',\n",
    "         '/home/sallen/202007/H201812/ObsModel_H201812_pug_20150101_20151231.csv',\n",
    "         '/home/sallen/202007/H201812/ObsModel_H201812_pug_20160101_20161231.csv',\n",
    "         '/home/sallen/202007/H201812/ObsModel_H201812_pug_20170101_20171231.csv',\n",
    "         '/home/sallen/202007/H201812/ObsModel_H201812_hplc_20150101_20151231.csv',\n",
    "         '/home/sallen/202007/H201812/ObsModel_H201812_hplc_20160101_20161231.csv',\n",
    "         '/home/sallen/202007/H201812/ObsModel_H201812_hplc_20170101_20171231.csv')"
   ]
  },
  {
   "cell_type": "code",
   "execution_count": 13,
   "metadata": {},
   "outputs": [
    {
     "data": {
      "text/plain": [
       "Index(['Unnamed: 0', 'Year', 'Month', 'Day', 'Hour', 'Lat', 'Lon', 'Pressure',\n",
       "       'Depth', 'Ammonium', 'Ammonium_units', 'Chlorophyll_Extracted',\n",
       "       'Chlorophyll_Extracted_units', 'N', 'Si', 'Silicate_units', 'AbsSal',\n",
       "       'ConsT', 'Z', 'dtUTC', 'j', 'i', 'mod_nitrate', 'mod_silicon',\n",
       "       'mod_ammonium', 'mod_diatoms', 'mod_ciliates', 'mod_flagellates',\n",
       "       'mod_vosaline', 'mod_votemper', 'k', 'NO23', 'PO4', 'Station', 'Chl',\n",
       "       'Depth_m', 'Phaeo', 'SA', 'CT', 'pLat', 'pLon', 'tdiffH', 'Basin',\n",
       "       'Amm', 'p', 'Sample_Number', 'Diatoms-1', 'Diatoms-2', 'Prasinophytes',\n",
       "       'Cryptophytes', 'Dinoflagellates', 'Haptophytes', 'Dictyochophytes',\n",
       "       'Raphidophytes', 'Cyanobacteria', 'TchlA (ug/L)',\n",
       "       'Chlorophyll:Extracted [mg/m^3]', 'Nitrate_plus_Nitrite [umol/L]',\n",
       "       'Silicate [umol/L]', 'Fluorescence:URU [mg/m^3]'],\n",
       "      dtype='object')"
      ]
     },
     "execution_count": 13,
     "metadata": {},
     "output_type": "execute_result"
    }
   ],
   "source": [
    "temp1 = read_pieces(pieces)\n",
    "temp1.keys()"
   ]
  },
  {
   "cell_type": "code",
   "execution_count": 14,
   "metadata": {},
   "outputs": [
    {
     "name": "stdout",
     "output_type": "stream",
     "text": [
      "0.5000002726327963 441.4661096800038\n"
     ]
    },
    {
     "name": "stderr",
     "output_type": "stream",
     "text": [
      "/ocean/sallen/miniconda3/envs/py39/lib/python3.9/site-packages/statsmodels/tsa/tsatools.py:142: FutureWarning: In a future version of pandas all arguments of concat except for the argument 'objs' will be keyword-only\n",
      "  x = pd.concat(x[::order], 1)\n"
     ]
    },
    {
     "data": {
      "text/html": [
       "<style type=\"text/css\">\n",
       "</style>\n",
       "<table id=\"T_2f225_\">\n",
       "  <thead>\n",
       "    <tr>\n",
       "      <th class=\"blank level0\" >&nbsp;</th>\n",
       "      <th class=\"col_heading level0 col0\" >number</th>\n",
       "      <th class=\"col_heading level0 col1\" >bias</th>\n",
       "      <th class=\"col_heading level0 col2\" >rmse</th>\n",
       "      <th class=\"col_heading level0 col3\" >swillmott</th>\n",
       "      <th class=\"col_heading level0 col4\" >slopedev</th>\n",
       "      <th class=\"col_heading level0 col5\" >const</th>\n",
       "      <th class=\"col_heading level0 col6\" >systematic</th>\n",
       "      <th class=\"col_heading level0 col7\" >nonsystematic</th>\n",
       "      <th class=\"col_heading level0 col8\" >spread</th>\n",
       "    </tr>\n",
       "  </thead>\n",
       "  <tbody>\n",
       "    <tr>\n",
       "      <th id=\"T_2f225_level0_row0\" class=\"row_heading level0 row0\" >H201812</th>\n",
       "      <td id=\"T_2f225_row0_col0\" class=\"data row0 col0\" >1543</td>\n",
       "      <td id=\"T_2f225_row0_col1\" class=\"data row0 col1\" >0.19</td>\n",
       "      <td id=\"T_2f225_row0_col2\" class=\"data row0 col2\" >0.58</td>\n",
       "      <td id=\"T_2f225_row0_col3\" class=\"data row0 col3\" >0.45</td>\n",
       "      <td id=\"T_2f225_row0_col4\" class=\"data row0 col4\" >0.63</td>\n",
       "      <td id=\"T_2f225_row0_col5\" class=\"data row0 col5\" >0.37</td>\n",
       "      <td id=\"T_2f225_row0_col6\" class=\"data row0 col6\" >0.34</td>\n",
       "      <td id=\"T_2f225_row0_col7\" class=\"data row0 col7\" >0.47</td>\n",
       "      <td id=\"T_2f225_row0_col8\" class=\"data row0 col8\" >-1.7</td>\n",
       "    </tr>\n",
       "  </tbody>\n",
       "</table>\n"
      ],
      "text/plain": [
       "<pandas.io.formats.style.Styler at 0x7f3854114760>"
      ]
     },
     "execution_count": 14,
     "metadata": {},
     "output_type": "execute_result"
    },
    {
     "data": {
      "image/png": "[encoded data removed]",
      "text/plain": [
       "<Figure size 432x360 with 2 Axes>"
      ]
     },
     "metadata": {
      "needs_background": "light"
     },
     "output_type": "display_data"
    }
   ],
   "source": [
    "temp1 = read_pieces(pieces)\n",
    "temp1['Chl'] = temp1.Chl.fillna(value=temp1.Chlorophyll_Extracted).fillna(value=temp1['TchlA (ug/L)']).fillna(value=temp1['Chlorophyll:Extracted [mg/m^3]'])\n",
    "temp1['mod_chl'] = (temp1.mod_diatoms + temp1.mod_ciliates + temp1.mod_flagellates) * N2Chl\n",
    "temp1['log_chl'] = np.log10(temp1.Chl)\n",
    "temp1['log_mod_chl'] = np.log10(temp1.mod_chl)\n",
    "idepth = 0\n",
    "jdepth = 39\n",
    "d201812 = plot_and_stats(temp1, 'H201812', 'log_chl', 'log_mod_chl', idepth, jdepth)\n",
    "d201812.style.format(myformat)"
   ]
  },
  {
   "cell_type": "code",
   "execution_count": 15,
   "metadata": {},
   "outputs": [],
   "source": [
    "pieces = ('/home/sallen/202007/H201905/ObsModel_201905_Bio_20150101-20151231.csv',\n",
    "         '/home/sallen/202007/H201905/ObsModel_201905_Bio_20160101-20161231.csv',\n",
    "         '/home/sallen/202007/H201905/ObsModel_201905_Bio_20170101-20171231.csv',\n",
    "         '/home/sallen/202007/H201905/ObsModel_201905_PSF_20150101-20151231.csv',\n",
    "         '/home/sallen/202007/H201905/ObsModel_201905_PSF_20160101-20161231.csv',\n",
    "         '/home/sallen/202007/H201905/ObsModel_201905_PSF_20170101-20171231.csv',\n",
    "         '/home/sallen/202007/H201905/ObsModel_H201905_pug_20150101_20151231.csv',\n",
    "         '/home/sallen/202007/H201905/ObsModel_H201905_pug_20160101_20161231.csv',\n",
    "         '/home/sallen/202007/H201905/ObsModel_H201905_pug_20170101_20171231.csv',\n",
    "         '/home/sallen/202007/H201905/ObsModel_H201905_hplc_20150101_20151231.csv',\n",
    "         '/home/sallen/202007/H201905/ObsModel_H201905_hplc_20160101_20161231.csv',\n",
    "         '/home/sallen/202007/H201905/ObsModel_H201905_hplc_20170101_20171231.csv')"
   ]
  },
  {
   "cell_type": "code",
   "execution_count": 16,
   "metadata": {},
   "outputs": [
    {
     "name": "stdout",
     "output_type": "stream",
     "text": [
      "0.5000002726327963 441.4661096800038\n"
     ]
    },
    {
     "name": "stderr",
     "output_type": "stream",
     "text": [
      "/ocean/sallen/miniconda3/envs/py39/lib/python3.9/site-packages/statsmodels/tsa/tsatools.py:142: FutureWarning: In a future version of pandas all arguments of concat except for the argument 'objs' will be keyword-only\n",
      "  x = pd.concat(x[::order], 1)\n"
     ]
    },
    {
     "data": {
      "text/html": [
       "<style type=\"text/css\">\n",
       "</style>\n",
       "<table id=\"T_71eaa_\">\n",
       "  <thead>\n",
       "    <tr>\n",
       "      <th class=\"blank level0\" >&nbsp;</th>\n",
       "      <th class=\"col_heading level0 col0\" >number</th>\n",
       "      <th class=\"col_heading level0 col1\" >bias</th>\n",
       "      <th class=\"col_heading level0 col2\" >rmse</th>\n",
       "      <th class=\"col_heading level0 col3\" >swillmott</th>\n",
       "      <th class=\"col_heading level0 col4\" >slopedev</th>\n",
       "      <th class=\"col_heading level0 col5\" >const</th>\n",
       "      <th class=\"col_heading level0 col6\" >systematic</th>\n",
       "      <th class=\"col_heading level0 col7\" >nonsystematic</th>\n",
       "      <th class=\"col_heading level0 col8\" >spread</th>\n",
       "    </tr>\n",
       "  </thead>\n",
       "  <tbody>\n",
       "    <tr>\n",
       "      <th id=\"T_71eaa_level0_row0\" class=\"row_heading level0 row0\" >H201905</th>\n",
       "      <td id=\"T_71eaa_row0_col0\" class=\"data row0 col0\" >1543</td>\n",
       "      <td id=\"T_71eaa_row0_col1\" class=\"data row0 col1\" >-0.12</td>\n",
       "      <td id=\"T_71eaa_row0_col2\" class=\"data row0 col2\" >0.63</td>\n",
       "      <td id=\"T_71eaa_row0_col3\" class=\"data row0 col3\" >0.45</td>\n",
       "      <td id=\"T_71eaa_row0_col4\" class=\"data row0 col4\" >0.56</td>\n",
       "      <td id=\"T_71eaa_row0_col5\" class=\"data row0 col5\" >0.043</td>\n",
       "      <td id=\"T_71eaa_row0_col6\" class=\"data row0 col6\" >0.28</td>\n",
       "      <td id=\"T_71eaa_row0_col7\" class=\"data row0 col7\" >0.57</td>\n",
       "      <td id=\"T_71eaa_row0_col8\" class=\"data row0 col8\" >-2.5</td>\n",
       "    </tr>\n",
       "  </tbody>\n",
       "</table>\n"
      ],
      "text/plain": [
       "<pandas.io.formats.style.Styler at 0x7f3728beee50>"
      ]
     },
     "execution_count": 16,
     "metadata": {},
     "output_type": "execute_result"
    },
    {
     "data": {
      "image/png": "[encoded data removed]",
      "text/plain": [
       "<Figure size 432x360 with 2 Axes>"
      ]
     },
     "metadata": {
      "needs_background": "light"
     },
     "output_type": "display_data"
    }
   ],
   "source": [
    "temp1 = read_pieces(pieces)\n",
    "temp1['Chl'] = temp1.Chl.fillna(value=temp1.Chlorophyll_Extracted).fillna(value=temp1['TchlA (ug/L)']).fillna(value=temp1['Chlorophyll:Extracted [mg/m^3]'])\n",
    "temp1['mod_chl'] = (temp1.mod_diatoms + temp1.mod_ciliates + temp1.mod_flagellates) * N2Chl\n",
    "temp1['log_chl'] = np.log10(temp1.Chl)\n",
    "temp1['log_mod_chl'] = np.log10(temp1.mod_chl)\n",
    "idepth = 0\n",
    "jdepth = 39\n",
    "d201905 = plot_and_stats(temp1, 'H201905', 'log_chl', 'log_mod_chl', idepth, jdepth)\n",
    "d201905.style.format(myformat)"
   ]
  },
  {
   "cell_type": "code",
   "execution_count": 17,
   "metadata": {},
   "outputs": [],
   "source": [
    "pieces = ('/home/sallen/202007/202007C-p2/ObsModel_202007Cp2_Bio_20150101-20151231.csv',\n",
    "         '/home/sallen/202007/202007C-p2/ObsModel_202007Cp2_Bio_20160101-20161231.csv',\n",
    "         '/home/sallen/202007/202007C-p2/ObsModel_202007Cp2_Bio_20170101-20171231.csv',\n",
    "         '/home/sallen/202007/202007C-p2/ObsModel_202007Cp2_PSF_20150101-20151231.csv',\n",
    "         '/home/sallen/202007/202007C-p2/ObsModel_202007Cp2_PSF_20160101-20161231.csv',\n",
    "         '/home/sallen/202007/202007C-p2/ObsModel_202007Cp2_PSF_20170101-20171231.csv',\n",
    "         '/home/sallen/202007/202007C-p2/ObsModel_202007Cp2_PUG_20150101-20151231.csv',\n",
    "         '/home/sallen/202007/202007C-p2/ObsModel_202007Cp2_PUG_20160101-20161231.csv',\n",
    "         '/home/sallen/202007/202007C-p2/ObsModel_202007Cp2_PUG_20170101-20171231.csv',\n",
    "         '/home/sallen/202007/202007C-p2/ObsModel_202007Cp2_hplc_20150101_20151231.csv',\n",
    "         '/home/sallen/202007/202007C-p2/ObsModel_202007Cp2_hplc_20160101_20161231.csv',\n",
    "         '/home/sallen/202007/202007C-p2/ObsModel_202007Cp2_hplc_20170101_20171231.csv')"
   ]
  },
  {
   "cell_type": "code",
   "execution_count": 18,
   "metadata": {},
   "outputs": [
    {
     "name": "stdout",
     "output_type": "stream",
     "text": [
      "0.5000002726327963 441.4661096800038\n"
     ]
    },
    {
     "name": "stderr",
     "output_type": "stream",
     "text": [
      "/ocean/sallen/miniconda3/envs/py39/lib/python3.9/site-packages/statsmodels/tsa/tsatools.py:142: FutureWarning: In a future version of pandas all arguments of concat except for the argument 'objs' will be keyword-only\n",
      "  x = pd.concat(x[::order], 1)\n"
     ]
    },
    {
     "data": {
      "text/html": [
       "<style type=\"text/css\">\n",
       "</style>\n",
       "<table id=\"T_1f32b_\">\n",
       "  <thead>\n",
       "    <tr>\n",
       "      <th class=\"blank level0\" >&nbsp;</th>\n",
       "      <th class=\"col_heading level0 col0\" >number</th>\n",
       "      <th class=\"col_heading level0 col1\" >bias</th>\n",
       "      <th class=\"col_heading level0 col2\" >rmse</th>\n",
       "      <th class=\"col_heading level0 col3\" >swillmott</th>\n",
       "      <th class=\"col_heading level0 col4\" >slopedev</th>\n",
       "      <th class=\"col_heading level0 col5\" >const</th>\n",
       "      <th class=\"col_heading level0 col6\" >systematic</th>\n",
       "      <th class=\"col_heading level0 col7\" >nonsystematic</th>\n",
       "      <th class=\"col_heading level0 col8\" >spread</th>\n",
       "    </tr>\n",
       "  </thead>\n",
       "  <tbody>\n",
       "    <tr>\n",
       "      <th id=\"T_1f32b_level0_row0\" class=\"row_heading level0 row0\" >Cp2</th>\n",
       "      <td id=\"T_1f32b_row0_col0\" class=\"data row0 col0\" >1543</td>\n",
       "      <td id=\"T_1f32b_row0_col1\" class=\"data row0 col1\" >0.11</td>\n",
       "      <td id=\"T_1f32b_row0_col2\" class=\"data row0 col2\" >0.56</td>\n",
       "      <td id=\"T_1f32b_row0_col3\" class=\"data row0 col3\" >0.42</td>\n",
       "      <td id=\"T_1f32b_row0_col4\" class=\"data row0 col4\" >0.58</td>\n",
       "      <td id=\"T_1f32b_row0_col5\" class=\"data row0 col5\" >0.28</td>\n",
       "      <td id=\"T_1f32b_row0_col6\" class=\"data row0 col6\" >0.29</td>\n",
       "      <td id=\"T_1f32b_row0_col7\" class=\"data row0 col7\" >0.48</td>\n",
       "      <td id=\"T_1f32b_row0_col8\" class=\"data row0 col8\" >-2.1</td>\n",
       "    </tr>\n",
       "  </tbody>\n",
       "</table>\n"
      ],
      "text/plain": [
       "<pandas.io.formats.style.Styler at 0x7f372873c070>"
      ]
     },
     "execution_count": 18,
     "metadata": {},
     "output_type": "execute_result"
    },
    {
     "data": {
      "image/png": "[encoded data removed]",
      "text/plain": [
       "<Figure size 432x360 with 2 Axes>"
      ]
     },
     "metadata": {
      "needs_background": "light"
     },
     "output_type": "display_data"
    }
   ],
   "source": [
    "temp1 = read_pieces(pieces)\n",
    "temp1['Chl'] = temp1.Chl.fillna(value=temp1.Chlorophyll_Extracted).fillna(value=temp1['TchlA (ug/L)']).fillna(value=temp1['Chlorophyll:Extracted [mg/m^3]'])\n",
    "temp1['mod_chl'] = (temp1.mod_diatoms + temp1.mod_ciliates + temp1.mod_flagellates) * N2Chl\n",
    "temp1['log_chl'] = np.log10(temp1.Chl)\n",
    "temp1['log_mod_chl'] = np.log10(temp1.mod_chl)\n",
    "idepth = 0\n",
    "jdepth = 39\n",
    "dCp2 = plot_and_stats(temp1, 'Cp2', 'log_chl', 'log_mod_chl', idepth, jdepth)\n",
    "dCp2.style.format(myformat)"
   ]
  },
  {
   "cell_type": "code",
   "execution_count": 19,
   "metadata": {},
   "outputs": [],
   "source": [
    "pieces = ('/home/sallen/202007/202007C-p3/ObsModel_202007Cp3_bot_20150101_20151231.csv',\n",
    "          '/home/sallen/202007/202007C-p3/ObsModel_202007Cp3_bot_20160101_20161231.csv',\n",
    "          '/home/sallen/202007/202007C-p3/ObsModel_202007Cp3_bot_20170101_20171231.csv',\n",
    "         '/home/sallen/202007/202007C-p3/ObsModel_202007Cp3_psf_20150101_20150331.csv',\n",
    "          '/home/sallen/202007/202007C-p3/ObsModel_202007Cp3_psf_20150401_20150630.csv',\n",
    "          '/home/sallen/202007/202007C-p3/ObsModel_202007Cp3_PSF_20150701-20151231.csv',\n",
    "          '/home/sallen/202007/202007C-p3/ObsModel_202007Cp3_psf_20160101_20161231.csv',\n",
    "          '/home/sallen/202007/202007C-p3/ObsModel_202007Cp3_psf_20170101_20171231.csv',\n",
    "         '/home/sallen/202007/202007C-p3/ObsModel_202007Cp3_pug_20150101_20150331.csv',\n",
    "          '/home/sallen/202007/202007C-p3/ObsModel_202007Cp3_pug_20150401_20150630.csv',\n",
    "          '/home/sallen/202007/202007C-p3/ObsModel_202007Cp3_PUG_20150701-20151231.csv',\n",
    "          '/home/sallen/202007/202007C-p3/ObsModel_202007Cp3_pug_20160101_20161231.csv',\n",
    "          '/home/sallen/202007/202007C-p3/ObsModel_202007Cp3_pug_20170101_20171231.csv',\n",
    "         '/home/sallen/202007/202007C-p3/ObsModel_202007Cp3_hplc_20150101_20151231.csv',\n",
    "         '/home/sallen/202007/202007C-p3/ObsModel_202007Cp3_hplc_20160101_20161231.csv',\n",
    "         '/home/sallen/202007/202007C-p3/ObsModel_202007Cp3_hplc_20170101_20171231.csv')"
   ]
  },
  {
   "cell_type": "code",
   "execution_count": 20,
   "metadata": {},
   "outputs": [
    {
     "name": "stdout",
     "output_type": "stream",
     "text": [
      "0.5000002726327963 441.4661096800038\n"
     ]
    },
    {
     "name": "stderr",
     "output_type": "stream",
     "text": [
      "/ocean/sallen/miniconda3/envs/py39/lib/python3.9/site-packages/statsmodels/tsa/tsatools.py:142: FutureWarning: In a future version of pandas all arguments of concat except for the argument 'objs' will be keyword-only\n",
      "  x = pd.concat(x[::order], 1)\n"
     ]
    },
    {
     "data": {
      "text/html": [
       "<style type=\"text/css\">\n",
       "</style>\n",
       "<table id=\"T_5db8e_\">\n",
       "  <thead>\n",
       "    <tr>\n",
       "      <th class=\"blank level0\" >&nbsp;</th>\n",
       "      <th class=\"col_heading level0 col0\" >number</th>\n",
       "      <th class=\"col_heading level0 col1\" >bias</th>\n",
       "      <th class=\"col_heading level0 col2\" >rmse</th>\n",
       "      <th class=\"col_heading level0 col3\" >swillmott</th>\n",
       "      <th class=\"col_heading level0 col4\" >slopedev</th>\n",
       "      <th class=\"col_heading level0 col5\" >const</th>\n",
       "      <th class=\"col_heading level0 col6\" >systematic</th>\n",
       "      <th class=\"col_heading level0 col7\" >nonsystematic</th>\n",
       "      <th class=\"col_heading level0 col8\" >spread</th>\n",
       "    </tr>\n",
       "  </thead>\n",
       "  <tbody>\n",
       "    <tr>\n",
       "      <th id=\"T_5db8e_level0_row0\" class=\"row_heading level0 row0\" >Cp3</th>\n",
       "      <td id=\"T_5db8e_row0_col0\" class=\"data row0 col0\" >1540</td>\n",
       "      <td id=\"T_5db8e_row0_col1\" class=\"data row0 col1\" >0.12</td>\n",
       "      <td id=\"T_5db8e_row0_col2\" class=\"data row0 col2\" >0.57</td>\n",
       "      <td id=\"T_5db8e_row0_col3\" class=\"data row0 col3\" >0.42</td>\n",
       "      <td id=\"T_5db8e_row0_col4\" class=\"data row0 col4\" >0.58</td>\n",
       "      <td id=\"T_5db8e_row0_col5\" class=\"data row0 col5\" >0.28</td>\n",
       "      <td id=\"T_5db8e_row0_col6\" class=\"data row0 col6\" >0.29</td>\n",
       "      <td id=\"T_5db8e_row0_col7\" class=\"data row0 col7\" >0.49</td>\n",
       "      <td id=\"T_5db8e_row0_col8\" class=\"data row0 col8\" >-2.1</td>\n",
       "    </tr>\n",
       "  </tbody>\n",
       "</table>\n"
      ],
      "text/plain": [
       "<pandas.io.formats.style.Styler at 0x7f37286a12b0>"
      ]
     },
     "execution_count": 20,
     "metadata": {},
     "output_type": "execute_result"
    },
    {
     "data": {
      "image/png": "[encoded data removed]",
      "text/plain": [
       "<Figure size 432x360 with 2 Axes>"
      ]
     },
     "metadata": {
      "needs_background": "light"
     },
     "output_type": "display_data"
    }
   ],
   "source": [
    "temp1 = read_pieces(pieces)\n",
    "temp1['Chl'] = temp1.Chl.fillna(value=temp1.Chlorophyll_Extracted).fillna(value=temp1['TchlA (ug/L)']).fillna(value=temp1['Chlorophyll:Extracted [mg/m^3]'])\n",
    "temp1['mod_chl'] = (temp1.mod_diatoms + temp1.mod_ciliates + temp1.mod_flagellates) * N2Chl\n",
    "temp1['log_chl'] = np.log10(temp1.Chl)\n",
    "temp1['log_mod_chl'] = np.log10(temp1.mod_chl)\n",
    "idepth = 0\n",
    "jdepth = 39\n",
    "dCp3 = plot_and_stats(temp1, 'Cp3', 'log_chl', 'log_mod_chl', idepth, jdepth)\n",
    "dCp3.style.format(myformat)"
   ]
  },
  {
   "cell_type": "code",
   "execution_count": 21,
   "metadata": {},
   "outputs": [],
   "source": [
    "pieces = ('/home/sallen/202007/202007D-again/ObsModel_202007D-again_Bio_20150101-20151231.csv',\n",
    "         '/home/sallen/202007/202007D-again/ObsModel_202007D-again_Bio_20160101-20161231.csv',\n",
    "         '/home/sallen/202007/202007D-again/ObsModel_202007D-again_Bio_20170101-20171231.csv',\n",
    "         '/home/sallen/202007/202007D-again/ObsModel_202007D-again_PSF_20150101-20151231.csv',\n",
    "         '/home/sallen/202007/202007D-again/ObsModel_202007D-again_PSF_20160101-20161231.csv',\n",
    "          '/home/sallen/202007/202007D-again/ObsModel_202007D-again_PSF_20170101-20171231.csv',\n",
    "          '/home/sallen/202007/202007D-again/ObsModel_202007D-again_pug_20150101_20151231.csv',\n",
    "          '/home/sallen/202007/202007D-again/ObsModel_202007D-again_pug_20160101_20161231.csv',\n",
    "          '/home/sallen/202007/202007D-again/ObsModel_202007D-again_pug_20170101_20171231.csv',\n",
    "          '/home/sallen/202007/202007D-again/ObsModel_202007D-again_hplc_20150101_20151231.csv',\n",
    "          '/home/sallen/202007/202007D-again/ObsModel_202007D-again_hplc_20160101_20161231.csv',\n",
    "          '/home/sallen/202007/202007D-again/ObsModel_202007D-again_hplc_20170101_20171231.csv'\n",
    "        )"
   ]
  },
  {
   "cell_type": "code",
   "execution_count": 22,
   "metadata": {},
   "outputs": [
    {
     "name": "stdout",
     "output_type": "stream",
     "text": [
      "0.5000002726327963 441.4661096800038\n"
     ]
    },
    {
     "name": "stderr",
     "output_type": "stream",
     "text": [
      "/ocean/sallen/miniconda3/envs/py39/lib/python3.9/site-packages/statsmodels/tsa/tsatools.py:142: FutureWarning: In a future version of pandas all arguments of concat except for the argument 'objs' will be keyword-only\n",
      "  x = pd.concat(x[::order], 1)\n"
     ]
    },
    {
     "data": {
      "text/html": [
       "<style type=\"text/css\">\n",
       "</style>\n",
       "<table id=\"T_f917b_\">\n",
       "  <thead>\n",
       "    <tr>\n",
       "      <th class=\"blank level0\" >&nbsp;</th>\n",
       "      <th class=\"col_heading level0 col0\" >number</th>\n",
       "      <th class=\"col_heading level0 col1\" >bias</th>\n",
       "      <th class=\"col_heading level0 col2\" >rmse</th>\n",
       "      <th class=\"col_heading level0 col3\" >swillmott</th>\n",
       "      <th class=\"col_heading level0 col4\" >slopedev</th>\n",
       "      <th class=\"col_heading level0 col5\" >const</th>\n",
       "      <th class=\"col_heading level0 col6\" >systematic</th>\n",
       "      <th class=\"col_heading level0 col7\" >nonsystematic</th>\n",
       "      <th class=\"col_heading level0 col8\" >spread</th>\n",
       "    </tr>\n",
       "  </thead>\n",
       "  <tbody>\n",
       "    <tr>\n",
       "      <th id=\"T_f917b_level0_row0\" class=\"row_heading level0 row0\" >D-again</th>\n",
       "      <td id=\"T_f917b_row0_col0\" class=\"data row0 col0\" >1543</td>\n",
       "      <td id=\"T_f917b_row0_col1\" class=\"data row0 col1\" >-0.067</td>\n",
       "      <td id=\"T_f917b_row0_col2\" class=\"data row0 col2\" >0.56</td>\n",
       "      <td id=\"T_f917b_row0_col3\" class=\"data row0 col3\" >0.44</td>\n",
       "      <td id=\"T_f917b_row0_col4\" class=\"data row0 col4\" >0.62</td>\n",
       "      <td id=\"T_f917b_row0_col5\" class=\"data row0 col5\" >0.11</td>\n",
       "      <td id=\"T_f917b_row0_col6\" class=\"data row0 col6\" >0.29</td>\n",
       "      <td id=\"T_f917b_row0_col7\" class=\"data row0 col7\" >0.47</td>\n",
       "      <td id=\"T_f917b_row0_col8\" class=\"data row0 col8\" >-2.2</td>\n",
       "    </tr>\n",
       "  </tbody>\n",
       "</table>\n"
      ],
      "text/plain": [
       "<pandas.io.formats.style.Styler at 0x7f37286a1970>"
      ]
     },
     "execution_count": 22,
     "metadata": {},
     "output_type": "execute_result"
    },
    {
     "data": {
      "image/png": "[encoded data removed]",
      "text/plain": [
       "<Figure size 432x360 with 2 Axes>"
      ]
     },
     "metadata": {
      "needs_background": "light"
     },
     "output_type": "display_data"
    }
   ],
   "source": [
    "temp1 = read_pieces(pieces)\n",
    "temp1['Chl'] = temp1.Chl.fillna(value=temp1.Chlorophyll_Extracted).fillna(value=temp1['TchlA (ug/L)']).fillna(value=temp1['Chlorophyll:Extracted [mg/m^3]'])\n",
    "temp1['mod_chl'] = (temp1.mod_diatoms + temp1.mod_ciliates + temp1.mod_flagellates) * N2Chl\n",
    "temp1['log_chl'] = np.log10(temp1.Chl)\n",
    "temp1['log_mod_chl'] = np.log10(temp1.mod_chl)\n",
    "idepth = 0\n",
    "jdepth = 39\n",
    "Dagain = plot_and_stats(temp1, 'D-again', 'log_chl', 'log_mod_chl', idepth, jdepth)\n",
    "Dagain.style.format(myformat)"
   ]
  },
  {
   "cell_type": "code",
   "execution_count": 23,
   "metadata": {},
   "outputs": [],
   "source": [
    "pieces = ('/home/sallen/202007/202007D-lowR/ObsModel_202007D-lowR_Bio_20150101-20151231.csv',\n",
    "         '/home/sallen/202007/202007D-lowR/ObsModel_202007D-lowR_bot_20160101_20161231.csv',\n",
    "         '/home/sallen/202007/202007D-lowR/ObsModel_202007D-lowR_bot_20170101_20171231.csv',\n",
    "         '/home/sallen/202007/202007D-lowR/ObsModel_202007D-lowR_PSF_20150101-20151231.csv',\n",
    "         '/home/sallen/202007/202007D-lowR/ObsModel_202007D-lowR_psf_20160101_20161231.csv',\n",
    "         '/home/sallen/202007/202007D-lowR/ObsModel_202007D-lowR_psf_20170101_20171231.csv',\n",
    "         '/home/sallen/202007/202007D-lowR/ObsModel_202007D-lowR_pug_20150101_20151231.csv',\n",
    "         '/home/sallen/202007/202007D-lowR/ObsModel_202007D-lowR_pug_20160101_20161231.csv',\n",
    "         '/home/sallen/202007/202007D-lowR/ObsModel_202007D-lowR_pug_20170101_20171231.csv',\n",
    "         '/home/sallen/202007/202007D-lowR/ObsModel_202007D-lowR_hplc_20150101_20151231.csv',\n",
    "         '/home/sallen/202007/202007D-lowR/ObsModel_202007D-lowR_hplc_20160101_20161231.csv',\n",
    "         '/home/sallen/202007/202007D-lowR/ObsModel_202007D-lowR_hplc_20170101_20171231.csv')"
   ]
  },
  {
   "cell_type": "code",
   "execution_count": 24,
   "metadata": {},
   "outputs": [
    {
     "name": "stdout",
     "output_type": "stream",
     "text": [
      "0.5000002726327963 441.4661096800038\n"
     ]
    },
    {
     "name": "stderr",
     "output_type": "stream",
     "text": [
      "/ocean/sallen/miniconda3/envs/py39/lib/python3.9/site-packages/statsmodels/tsa/tsatools.py:142: FutureWarning: In a future version of pandas all arguments of concat except for the argument 'objs' will be keyword-only\n",
      "  x = pd.concat(x[::order], 1)\n"
     ]
    },
    {
     "data": {
      "text/html": [
       "<style type=\"text/css\">\n",
       "</style>\n",
       "<table id=\"T_a3986_\">\n",
       "  <thead>\n",
       "    <tr>\n",
       "      <th class=\"blank level0\" >&nbsp;</th>\n",
       "      <th class=\"col_heading level0 col0\" >number</th>\n",
       "      <th class=\"col_heading level0 col1\" >bias</th>\n",
       "      <th class=\"col_heading level0 col2\" >rmse</th>\n",
       "      <th class=\"col_heading level0 col3\" >swillmott</th>\n",
       "      <th class=\"col_heading level0 col4\" >slopedev</th>\n",
       "      <th class=\"col_heading level0 col5\" >const</th>\n",
       "      <th class=\"col_heading level0 col6\" >systematic</th>\n",
       "      <th class=\"col_heading level0 col7\" >nonsystematic</th>\n",
       "      <th class=\"col_heading level0 col8\" >spread</th>\n",
       "    </tr>\n",
       "  </thead>\n",
       "  <tbody>\n",
       "    <tr>\n",
       "      <th id=\"T_a3986_level0_row0\" class=\"row_heading level0 row0\" >D-lowR</th>\n",
       "      <td id=\"T_a3986_row0_col0\" class=\"data row0 col0\" >1543</td>\n",
       "      <td id=\"T_a3986_row0_col1\" class=\"data row0 col1\" >-0.017</td>\n",
       "      <td id=\"T_a3986_row0_col2\" class=\"data row0 col2\" >0.55</td>\n",
       "      <td id=\"T_a3986_row0_col3\" class=\"data row0 col3\" >0.45</td>\n",
       "      <td id=\"T_a3986_row0_col4\" class=\"data row0 col4\" >0.62</td>\n",
       "      <td id=\"T_a3986_row0_col5\" class=\"data row0 col5\" >0.16</td>\n",
       "      <td id=\"T_a3986_row0_col6\" class=\"data row0 col6\" >0.29</td>\n",
       "      <td id=\"T_a3986_row0_col7\" class=\"data row0 col7\" >0.47</td>\n",
       "      <td id=\"T_a3986_row0_col8\" class=\"data row0 col8\" >-1.9</td>\n",
       "    </tr>\n",
       "  </tbody>\n",
       "</table>\n"
      ],
      "text/plain": [
       "<pandas.io.formats.style.Styler at 0x7f3728b2ee50>"
      ]
     },
     "execution_count": 24,
     "metadata": {},
     "output_type": "execute_result"
    },
    {
     "data": {
      "image/png": "[encoded data removed]",
      "text/plain": [
       "<Figure size 432x360 with 2 Axes>"
      ]
     },
     "metadata": {
      "needs_background": "light"
     },
     "output_type": "display_data"
    }
   ],
   "source": [
    "temp1 = read_pieces(pieces)\n",
    "temp1['Chl'] = temp1.Chl.fillna(value=temp1.Chlorophyll_Extracted).fillna(value=temp1['TchlA (ug/L)']).fillna(value=temp1['Chlorophyll:Extracted [mg/m^3]'])\n",
    "temp1['mod_chl'] = (temp1.mod_diatoms + temp1.mod_ciliates + temp1.mod_flagellates) * N2Chl\n",
    "temp1['log_chl'] = np.log10(temp1.Chl)\n",
    "temp1['log_mod_chl'] = np.log10(temp1.mod_chl)\n",
    "idepth = 0\n",
    "jdepth = 39\n",
    "DlowR = plot_and_stats(temp1, 'D-lowR', 'log_chl', 'log_mod_chl', idepth, jdepth)\n",
    "DlowR.style.format(myformat)"
   ]
  },
  {
   "cell_type": "code",
   "execution_count": 25,
   "metadata": {},
   "outputs": [],
   "source": [
    "pieces = ('/home/sallen/202007/202007F/ObsModel_202007F_bot_20150101_20151231.csv',\n",
    "          '/home/sallen/202007/202007F/ObsModel_202007F_bot_20160101_20161231.csv',\n",
    "          '/home/sallen/202007/202007F/ObsModel_202007F_bot_20170101_20171231.csv',\n",
    "         '/home/sallen/202007/202007F/ObsModel_202007F_psf_20150101_20151231.csv',\n",
    "          '/home/sallen/202007/202007F/ObsModel_202007F_psf_20160101_20161231.csv',\n",
    "          '/home/sallen/202007/202007F/ObsModel_202007F_psf_20170101_20171231.csv',\n",
    "         '/home/sallen/202007/202007F/ObsModel_202007F_pug_20150101_20151231.csv',\n",
    "          '/home/sallen/202007/202007F/ObsModel_202007F_pug_20160101_20161231.csv',\n",
    "          '/home/sallen/202007/202007F/ObsModel_202007F_pug_20170101_20171231.csv',\n",
    "         '/home/sallen/202007/202007F/ObsModel_202007F_hplc_20150101_20151231.csv',\n",
    "         '/home/sallen/202007/202007F/ObsModel_202007F_hplc_20160101_20161231.csv',\n",
    "         '/home/sallen/202007/202007F/ObsModel_202007F_hplc_20170101_20171231.csv')"
   ]
  },
  {
   "cell_type": "code",
   "execution_count": 26,
   "metadata": {},
   "outputs": [
    {
     "name": "stdout",
     "output_type": "stream",
     "text": [
      "0.5000002726327963 441.4661096800038\n"
     ]
    },
    {
     "name": "stderr",
     "output_type": "stream",
     "text": [
      "/ocean/sallen/miniconda3/envs/py39/lib/python3.9/site-packages/statsmodels/tsa/tsatools.py:142: FutureWarning: In a future version of pandas all arguments of concat except for the argument 'objs' will be keyword-only\n",
      "  x = pd.concat(x[::order], 1)\n"
     ]
    },
    {
     "data": {
      "text/html": [
       "<style type=\"text/css\">\n",
       "</style>\n",
       "<table id=\"T_7c9ab_\">\n",
       "  <thead>\n",
       "    <tr>\n",
       "      <th class=\"blank level0\" >&nbsp;</th>\n",
       "      <th class=\"col_heading level0 col0\" >number</th>\n",
       "      <th class=\"col_heading level0 col1\" >bias</th>\n",
       "      <th class=\"col_heading level0 col2\" >rmse</th>\n",
       "      <th class=\"col_heading level0 col3\" >swillmott</th>\n",
       "      <th class=\"col_heading level0 col4\" >slopedev</th>\n",
       "      <th class=\"col_heading level0 col5\" >const</th>\n",
       "      <th class=\"col_heading level0 col6\" >systematic</th>\n",
       "      <th class=\"col_heading level0 col7\" >nonsystematic</th>\n",
       "      <th class=\"col_heading level0 col8\" >spread</th>\n",
       "    </tr>\n",
       "  </thead>\n",
       "  <tbody>\n",
       "    <tr>\n",
       "      <th id=\"T_7c9ab_level0_row0\" class=\"row_heading level0 row0\" >F</th>\n",
       "      <td id=\"T_7c9ab_row0_col0\" class=\"data row0 col0\" >1543</td>\n",
       "      <td id=\"T_7c9ab_row0_col1\" class=\"data row0 col1\" >-0.11</td>\n",
       "      <td id=\"T_7c9ab_row0_col2\" class=\"data row0 col2\" >0.57</td>\n",
       "      <td id=\"T_7c9ab_row0_col3\" class=\"data row0 col3\" >0.46</td>\n",
       "      <td id=\"T_7c9ab_row0_col4\" class=\"data row0 col4\" >0.63</td>\n",
       "      <td id=\"T_7c9ab_row0_col5\" class=\"data row0 col5\" >0.076</td>\n",
       "      <td id=\"T_7c9ab_row0_col6\" class=\"data row0 col6\" >0.31</td>\n",
       "      <td id=\"T_7c9ab_row0_col7\" class=\"data row0 col7\" >0.48</td>\n",
       "      <td id=\"T_7c9ab_row0_col8\" class=\"data row0 col8\" >-1.8</td>\n",
       "    </tr>\n",
       "  </tbody>\n",
       "</table>\n"
      ],
      "text/plain": [
       "<pandas.io.formats.style.Styler at 0x7f3728ae5040>"
      ]
     },
     "execution_count": 26,
     "metadata": {},
     "output_type": "execute_result"
    },
    {
     "data": {
      "image/png": "[encoded data removed]",
      "text/plain": [
       "<Figure size 432x360 with 2 Axes>"
      ]
     },
     "metadata": {
      "needs_background": "light"
     },
     "output_type": "display_data"
    }
   ],
   "source": [
    "temp1 = read_pieces(pieces)\n",
    "temp1['Chl'] = temp1.Chl.fillna(value=temp1.Chlorophyll_Extracted).fillna(value=temp1['TchlA (ug/L)']).fillna(value=temp1['Chlorophyll:Extracted [mg/m^3]'])\n",
    "temp1['mod_chl'] = (temp1.mod_diatoms + temp1.mod_ciliates + temp1.mod_flagellates) * N2Chl\n",
    "temp1['log_chl'] = np.log10(temp1.Chl)\n",
    "temp1['log_mod_chl'] = np.log10(temp1.mod_chl)\n",
    "idepth = 0\n",
    "jdepth = 39\n",
    "modF = plot_and_stats(temp1, 'F', 'log_chl', 'log_mod_chl', idepth, jdepth)\n",
    "modF.style.format(myformat)"
   ]
  },
  {
   "cell_type": "code",
   "execution_count": 29,
   "metadata": {},
   "outputs": [],
   "source": [
    "pieces = ('/home/sallen/202007/202007H/ObsModel_202007H_bot_20150101_20151231.csv',\n",
    "          '/home/sallen/202007/202007H/ObsModel_202007H_bot_20160101_20161231.csv',\n",
    "          '/home/sallen/202007/202007H/ObsModel_202007H_bot_20170101_20171231.csv',\n",
    "          '/home/sallen/202007/202007H/ObsModel_202007H_hplc_20150101_20151231.csv',\n",
    "          '/home/sallen/202007/202007H/ObsModel_202007H_hplc_20160101_20161231.csv',\n",
    "          '/home/sallen/202007/202007H/ObsModel_202007H_hplc_20170101_20171231.csv',\n",
    "          '/home/sallen/202007/202007H/ObsModel_202007H_pug_20150101_20151231.csv',\n",
    "          '/home/sallen/202007/202007H/ObsModel_202007H_pug_20160101_20161231.csv',\n",
    "          '/home/sallen/202007/202007H/ObsModel_202007H_pug_20170101_20171231.csv',\n",
    "            '/home/sallen/202007/202007H/ObsModel_202007H_psf_20150101_20151231.csv',\n",
    "          '/home/sallen/202007/202007H/ObsModel_202007H_psf_20160101_20161231.csv',\n",
    "        '/home/sallen/202007/202007H/ObsModel_202007H_psf_20170101_20171231.csv',\n",
    "         )"
   ]
  },
  {
   "cell_type": "code",
   "execution_count": 30,
   "metadata": {},
   "outputs": [
    {
     "name": "stdout",
     "output_type": "stream",
     "text": [
      "0.5000002726327963 441.4661096800038\n"
     ]
    },
    {
     "name": "stderr",
     "output_type": "stream",
     "text": [
      "/ocean/sallen/miniconda3/envs/py39/lib/python3.9/site-packages/statsmodels/tsa/tsatools.py:142: FutureWarning: In a future version of pandas all arguments of concat except for the argument 'objs' will be keyword-only\n",
      "  x = pd.concat(x[::order], 1)\n"
     ]
    },
    {
     "data": {
      "text/html": [
       "<style type=\"text/css\">\n",
       "</style>\n",
       "<table id=\"T_e66c7_\">\n",
       "  <thead>\n",
       "    <tr>\n",
       "      <th class=\"blank level0\" >&nbsp;</th>\n",
       "      <th class=\"col_heading level0 col0\" >number</th>\n",
       "      <th class=\"col_heading level0 col1\" >bias</th>\n",
       "      <th class=\"col_heading level0 col2\" >rmse</th>\n",
       "      <th class=\"col_heading level0 col3\" >swillmott</th>\n",
       "      <th class=\"col_heading level0 col4\" >slopedev</th>\n",
       "      <th class=\"col_heading level0 col5\" >const</th>\n",
       "      <th class=\"col_heading level0 col6\" >systematic</th>\n",
       "      <th class=\"col_heading level0 col7\" >nonsystematic</th>\n",
       "      <th class=\"col_heading level0 col8\" >spread</th>\n",
       "    </tr>\n",
       "  </thead>\n",
       "  <tbody>\n",
       "    <tr>\n",
       "      <th id=\"T_e66c7_level0_row0\" class=\"row_heading level0 row0\" >H</th>\n",
       "      <td id=\"T_e66c7_row0_col0\" class=\"data row0 col0\" >1543</td>\n",
       "      <td id=\"T_e66c7_row0_col1\" class=\"data row0 col1\" >-0.011</td>\n",
       "      <td id=\"T_e66c7_row0_col2\" class=\"data row0 col2\" >0.58</td>\n",
       "      <td id=\"T_e66c7_row0_col3\" class=\"data row0 col3\" >0.45</td>\n",
       "      <td id=\"T_e66c7_row0_col4\" class=\"data row0 col4\" >0.6</td>\n",
       "      <td id=\"T_e66c7_row0_col5\" class=\"data row0 col5\" >0.16</td>\n",
       "      <td id=\"T_e66c7_row0_col6\" class=\"data row0 col6\" >0.28</td>\n",
       "      <td id=\"T_e66c7_row0_col7\" class=\"data row0 col7\" >0.51</td>\n",
       "      <td id=\"T_e66c7_row0_col8\" class=\"data row0 col8\" >-1.7</td>\n",
       "    </tr>\n",
       "  </tbody>\n",
       "</table>\n"
      ],
      "text/plain": [
       "<pandas.io.formats.style.Styler at 0x7f37285286d0>"
      ]
     },
     "execution_count": 30,
     "metadata": {},
     "output_type": "execute_result"
    },
    {
     "data": {
      "image/png": "[encoded data removed]",
      "text/plain": [
       "<Figure size 432x360 with 2 Axes>"
      ]
     },
     "metadata": {
      "needs_background": "light"
     },
     "output_type": "display_data"
    }
   ],
   "source": [
    "temp1 = read_pieces(pieces)\n",
    "temp1['Chl'] = temp1.Chl.fillna(value=temp1.Chlorophyll_Extracted).fillna(value=temp1['TchlA (ug/L)']).fillna(value=temp1['Chlorophyll:Extracted [mg/m^3]'])\n",
    "temp1['mod_chl'] = (temp1.mod_diatoms + temp1.mod_ciliates + temp1.mod_flagellates) * N2Chl\n",
    "temp1['log_chl'] = np.log10(temp1.Chl)\n",
    "temp1['log_mod_chl'] = np.log10(temp1.mod_chl)\n",
    "idepth = 0\n",
    "jdepth = 39\n",
    "modH = plot_and_stats(temp1, 'H', 'log_chl', 'log_mod_chl', idepth, jdepth)\n",
    "modH.style.format(myformat)"
   ]
  },
  {
   "cell_type": "code",
   "execution_count": 32,
   "metadata": {},
   "outputs": [],
   "source": [
    "pieces = ('/home/sallen/202007/202007G-p1/ObsModel_202007Gp1_bot_20150101_20151231.csv',\n",
    "          '/home/sallen/202007/202007G-p1/ObsModel_202007Gp1_bot_20160101_20161231.csv',\n",
    "          '/home/sallen/202007/202007G-p1/ObsModel_202007Gp1_bot_20170101_20171231.csv',\n",
    "         '/home/sallen/202007/202007G-p1/ObsModel_202007Gp1_psf_20150101_20151231.csv',\n",
    "          '/home/sallen/202007/202007G-p1/ObsModel_202007Gp1_psf_20160101_20161231.csv',\n",
    "          '/home/sallen/202007/202007G-p1/ObsModel_202007Gp1_psf_20170101_20171231.csv',\n",
    "          '/home/sallen/202007/202007G-p1/ObsModel_202007Gp1_pug_20150101_20151231.csv',\n",
    "          '/home/sallen/202007/202007G-p1/ObsModel_202007Gp1_pug_20160101_20161231.csv',\n",
    "          '/home/sallen/202007/202007G-p1/ObsModel_202007Gp1_pug_20170101_20171231.csv',\n",
    "         '/home/sallen/202007/202007G-p1/ObsModel_202007Gp1_hplc_20150101_20151231.csv',\n",
    "         '/home/sallen/202007/202007G-p1/ObsModel_202007Gp1_hplc_20160101_20161231.csv',\n",
    "         '/home/sallen/202007/202007G-p1/ObsModel_202007Gp1_hplc_20170101_20171231.csv'\n",
    "         )"
   ]
  },
  {
   "cell_type": "code",
   "execution_count": 33,
   "metadata": {},
   "outputs": [
    {
     "name": "stdout",
     "output_type": "stream",
     "text": [
      "0.5000002726327963 441.4661096800038\n"
     ]
    },
    {
     "name": "stderr",
     "output_type": "stream",
     "text": [
      "/ocean/sallen/miniconda3/envs/py39/lib/python3.9/site-packages/statsmodels/tsa/tsatools.py:142: FutureWarning: In a future version of pandas all arguments of concat except for the argument 'objs' will be keyword-only\n",
      "  x = pd.concat(x[::order], 1)\n"
     ]
    },
    {
     "data": {
      "text/html": [
       "<style type=\"text/css\">\n",
       "</style>\n",
       "<table id=\"T_a0a3a_\">\n",
       "  <thead>\n",
       "    <tr>\n",
       "      <th class=\"blank level0\" >&nbsp;</th>\n",
       "      <th class=\"col_heading level0 col0\" >number</th>\n",
       "      <th class=\"col_heading level0 col1\" >bias</th>\n",
       "      <th class=\"col_heading level0 col2\" >rmse</th>\n",
       "      <th class=\"col_heading level0 col3\" >swillmott</th>\n",
       "      <th class=\"col_heading level0 col4\" >slopedev</th>\n",
       "      <th class=\"col_heading level0 col5\" >const</th>\n",
       "      <th class=\"col_heading level0 col6\" >systematic</th>\n",
       "      <th class=\"col_heading level0 col7\" >nonsystematic</th>\n",
       "      <th class=\"col_heading level0 col8\" >spread</th>\n",
       "    </tr>\n",
       "  </thead>\n",
       "  <tbody>\n",
       "    <tr>\n",
       "      <th id=\"T_a0a3a_level0_row0\" class=\"row_heading level0 row0\" >Gp1</th>\n",
       "      <td id=\"T_a0a3a_row0_col0\" class=\"data row0 col0\" >1543</td>\n",
       "      <td id=\"T_a0a3a_row0_col1\" class=\"data row0 col1\" >-0.0058</td>\n",
       "      <td id=\"T_a0a3a_row0_col2\" class=\"data row0 col2\" >0.56</td>\n",
       "      <td id=\"T_a0a3a_row0_col3\" class=\"data row0 col3\" >0.43</td>\n",
       "      <td id=\"T_a0a3a_row0_col4\" class=\"data row0 col4\" >0.59</td>\n",
       "      <td id=\"T_a0a3a_row0_col5\" class=\"data row0 col5\" >0.16</td>\n",
       "      <td id=\"T_a0a3a_row0_col6\" class=\"data row0 col6\" >0.27</td>\n",
       "      <td id=\"T_a0a3a_row0_col7\" class=\"data row0 col7\" >0.49</td>\n",
       "      <td id=\"T_a0a3a_row0_col8\" class=\"data row0 col8\" >-1.8</td>\n",
       "    </tr>\n",
       "  </tbody>\n",
       "</table>\n"
      ],
      "text/plain": [
       "<pandas.io.formats.style.Styler at 0x7f3728abea30>"
      ]
     },
     "execution_count": 33,
     "metadata": {},
     "output_type": "execute_result"
    },
    {
     "data": {
      "image/png": "[encoded data removed]",
      "text/plain": [
       "<Figure size 432x360 with 2 Axes>"
      ]
     },
     "metadata": {
      "needs_background": "light"
     },
     "output_type": "display_data"
    }
   ],
   "source": [
    "temp1 = read_pieces(pieces)\n",
    "temp1['Chl'] = temp1.Chl.fillna(value=temp1.Chlorophyll_Extracted).fillna(value=temp1['TchlA (ug/L)']).fillna(value=temp1['Chlorophyll:Extracted [mg/m^3]'])\n",
    "temp1['mod_chl'] = (temp1.mod_diatoms + temp1.mod_ciliates + temp1.mod_flagellates) * N2Chl\n",
    "temp1['log_chl'] = np.log10(temp1.Chl)\n",
    "temp1['log_mod_chl'] = np.log10(temp1.mod_chl)\n",
    "idepth = 0\n",
    "jdepth = 39\n",
    "modGp1 = plot_and_stats(temp1, 'Gp1', 'log_chl', 'log_mod_chl', idepth, jdepth)\n",
    "modGp1.style.format(myformat)"
   ]
  },
  {
   "cell_type": "code",
   "execution_count": 35,
   "metadata": {},
   "outputs": [],
   "source": [
    "pieces = ('/home/sallen/202007/202007G-p2/ObsModel_202007Gp2_bot_20150101_20151231.csv',\n",
    "          '/home/sallen/202007/202007G-p2/ObsModel_202007Gp2f0_bot_20160101_20161231.csv',\n",
    "          '/home/sallen/202007/202007G-p2/ObsModel_202007Gp2f0_bot_20170101_20171231.csv',\n",
    "         '/home/sallen/202007/202007G-p2/ObsModel_202007Gp2_psf_20150101_20151231.csv',\n",
    "          '/home/sallen/202007/202007G-p2/ObsModel_202007Gp2f0_psf_20160101_20161231.csv',\n",
    "          '/home/sallen/202007/202007G-p2/ObsModel_202007Gp2f0_psf_20170101_20171231.csv',\n",
    "         '/home/sallen/202007/202007G-p2/ObsModel_202007Gp2_pug_20150101_20151231.csv',\n",
    "          '/home/sallen/202007/202007G-p2/ObsModel_202007Gp2f0_pug_20160101_20161231.csv',\n",
    "          '/home/sallen/202007/202007G-p2/ObsModel_202007Gp2f0_pug_20170101_20171231.csv',\n",
    "         '/home/sallen/202007/202007G-p2/ObsModel_202007Gp2_hplc_20150101_20151231.csv',\n",
    "         '/home/sallen/202007/202007G-p2/ObsModel_202007Gp2f0_hplc_20160101_20161231.csv',\n",
    "         '/home/sallen/202007/202007G-p2/ObsModel_202007Gp2f0_hplc_20170101_20171231.csv')"
   ]
  },
  {
   "cell_type": "code",
   "execution_count": 36,
   "metadata": {},
   "outputs": [
    {
     "name": "stdout",
     "output_type": "stream",
     "text": [
      "0.5000002726327963 441.4661096800038\n"
     ]
    },
    {
     "name": "stderr",
     "output_type": "stream",
     "text": [
      "/ocean/sallen/miniconda3/envs/py39/lib/python3.9/site-packages/statsmodels/tsa/tsatools.py:142: FutureWarning: In a future version of pandas all arguments of concat except for the argument 'objs' will be keyword-only\n",
      "  x = pd.concat(x[::order], 1)\n"
     ]
    },
    {
     "data": {
      "text/html": [
       "<style type=\"text/css\">\n",
       "</style>\n",
       "<table id=\"T_3e074_\">\n",
       "  <thead>\n",
       "    <tr>\n",
       "      <th class=\"blank level0\" >&nbsp;</th>\n",
       "      <th class=\"col_heading level0 col0\" >number</th>\n",
       "      <th class=\"col_heading level0 col1\" >bias</th>\n",
       "      <th class=\"col_heading level0 col2\" >rmse</th>\n",
       "      <th class=\"col_heading level0 col3\" >swillmott</th>\n",
       "      <th class=\"col_heading level0 col4\" >slopedev</th>\n",
       "      <th class=\"col_heading level0 col5\" >const</th>\n",
       "      <th class=\"col_heading level0 col6\" >systematic</th>\n",
       "      <th class=\"col_heading level0 col7\" >nonsystematic</th>\n",
       "      <th class=\"col_heading level0 col8\" >spread</th>\n",
       "    </tr>\n",
       "  </thead>\n",
       "  <tbody>\n",
       "    <tr>\n",
       "      <th id=\"T_3e074_level0_row0\" class=\"row_heading level0 row0\" >Gp2</th>\n",
       "      <td id=\"T_3e074_row0_col0\" class=\"data row0 col0\" >1543</td>\n",
       "      <td id=\"T_3e074_row0_col1\" class=\"data row0 col1\" >-0.0047</td>\n",
       "      <td id=\"T_3e074_row0_col2\" class=\"data row0 col2\" >0.59</td>\n",
       "      <td id=\"T_3e074_row0_col3\" class=\"data row0 col3\" >0.46</td>\n",
       "      <td id=\"T_3e074_row0_col4\" class=\"data row0 col4\" >0.6</td>\n",
       "      <td id=\"T_3e074_row0_col5\" class=\"data row0 col5\" >0.17</td>\n",
       "      <td id=\"T_3e074_row0_col6\" class=\"data row0 col6\" >0.27</td>\n",
       "      <td id=\"T_3e074_row0_col7\" class=\"data row0 col7\" >0.52</td>\n",
       "      <td id=\"T_3e074_row0_col8\" class=\"data row0 col8\" >-1.7</td>\n",
       "    </tr>\n",
       "  </tbody>\n",
       "</table>\n"
      ],
      "text/plain": [
       "<pandas.io.formats.style.Styler at 0x7f372842ae80>"
      ]
     },
     "execution_count": 36,
     "metadata": {},
     "output_type": "execute_result"
    },
    {
     "data": {
      "image/png": "[encoded data removed]",
      "text/plain": [
       "<Figure size 432x360 with 2 Axes>"
      ]
     },
     "metadata": {
      "needs_background": "light"
     },
     "output_type": "display_data"
    }
   ],
   "source": [
    "temp1 = read_pieces(pieces)\n",
    "temp1['Chl'] = temp1.Chl.fillna(value=temp1.Chlorophyll_Extracted).fillna(value=temp1['TchlA (ug/L)']).fillna(value=temp1['Chlorophyll:Extracted [mg/m^3]'])\n",
    "temp1['mod_chl'] = (temp1.mod_diatoms + temp1.mod_ciliates + temp1.mod_flagellates) * N2Chl\n",
    "temp1['log_chl'] = np.log10(temp1.Chl)\n",
    "temp1['log_mod_chl'] = np.log10(temp1.mod_chl)\n",
    "idepth = 0\n",
    "jdepth = 39\n",
    "modGp2 = plot_and_stats(temp1, 'Gp2', 'log_chl', 'log_mod_chl', idepth, jdepth)\n",
    "modGp2.style.format(myformat)"
   ]
  },
  {
   "cell_type": "code",
   "execution_count": 27,
   "metadata": {},
   "outputs": [],
   "source": [
    "def highlight_max_min(s):\n",
    "    '''\n",
    "    highlight the maximum in a Series yellow.\n",
    "    '''\n",
    "    is_max = abs(s) == abs(s).max()\n",
    "    is_min = abs(s) == abs(s).min()\n",
    "    color = []\n",
    "    for v, v2 in zip(is_max, is_min):\n",
    "        if v:\n",
    "            color.append('red')\n",
    "        elif v2:\n",
    "            color.append('darkgreen')\n",
    "        else:\n",
    "            color.append('black')\n",
    "    return ['color: %s' % color[i] for i in range(len(is_max))]"
   ]
  },
  {
   "cell_type": "code",
   "execution_count": 38,
   "metadata": {},
   "outputs": [
    {
     "data": {
      "text/html": [
       "<style type=\"text/css\">\n",
       "#T_b0507_row0_col0, #T_b0507_row0_col1, #T_b0507_row0_col5, #T_b0507_row0_col6, #T_b0507_row1_col0, #T_b0507_row1_col2, #T_b0507_row1_col7, #T_b0507_row1_col8, #T_b0507_row2_col0, #T_b0507_row4_col0, #T_b0507_row5_col0, #T_b0507_row6_col0, #T_b0507_row6_col3, #T_b0507_row6_col4, #T_b0507_row7_col0, #T_b0507_row8_col0, #T_b0507_row9_col0 {\n",
       "  color: red;\n",
       "}\n",
       "#T_b0507_row0_col2, #T_b0507_row0_col3, #T_b0507_row0_col4, #T_b0507_row1_col1, #T_b0507_row1_col3, #T_b0507_row1_col6, #T_b0507_row2_col1, #T_b0507_row2_col2, #T_b0507_row2_col4, #T_b0507_row2_col5, #T_b0507_row2_col6, #T_b0507_row2_col7, #T_b0507_row2_col8, #T_b0507_row3_col1, #T_b0507_row3_col2, #T_b0507_row3_col3, #T_b0507_row3_col4, #T_b0507_row3_col5, #T_b0507_row3_col6, #T_b0507_row3_col7, #T_b0507_row3_col8, #T_b0507_row4_col1, #T_b0507_row4_col2, #T_b0507_row4_col3, #T_b0507_row4_col4, #T_b0507_row4_col5, #T_b0507_row4_col6, #T_b0507_row4_col7, #T_b0507_row4_col8, #T_b0507_row5_col1, #T_b0507_row5_col3, #T_b0507_row5_col4, #T_b0507_row5_col5, #T_b0507_row5_col6, #T_b0507_row5_col7, #T_b0507_row5_col8, #T_b0507_row6_col1, #T_b0507_row6_col2, #T_b0507_row6_col5, #T_b0507_row6_col6, #T_b0507_row6_col7, #T_b0507_row6_col8, #T_b0507_row7_col1, #T_b0507_row7_col2, #T_b0507_row7_col3, #T_b0507_row7_col4, #T_b0507_row7_col5, #T_b0507_row7_col7, #T_b0507_row7_col8, #T_b0507_row8_col2, #T_b0507_row8_col3, #T_b0507_row8_col4, #T_b0507_row8_col5, #T_b0507_row8_col6, #T_b0507_row8_col7, #T_b0507_row8_col8, #T_b0507_row9_col1, #T_b0507_row9_col2, #T_b0507_row9_col3, #T_b0507_row9_col4, #T_b0507_row9_col5, #T_b0507_row9_col6, #T_b0507_row9_col7, #T_b0507_row9_col8 {\n",
       "  color: black;\n",
       "}\n",
       "#T_b0507_row0_col7, #T_b0507_row0_col8, #T_b0507_row1_col4, #T_b0507_row1_col5, #T_b0507_row2_col3, #T_b0507_row3_col0, #T_b0507_row5_col2, #T_b0507_row7_col6, #T_b0507_row8_col1 {\n",
       "  color: darkgreen;\n",
       "}\n",
       "</style>\n",
       "<table id=\"T_b0507_\">\n",
       "  <thead>\n",
       "    <tr>\n",
       "      <th class=\"blank level0\" >&nbsp;</th>\n",
       "      <th class=\"col_heading level0 col0\" >number</th>\n",
       "      <th class=\"col_heading level0 col1\" >bias</th>\n",
       "      <th class=\"col_heading level0 col2\" >rmse</th>\n",
       "      <th class=\"col_heading level0 col3\" >swillmott</th>\n",
       "      <th class=\"col_heading level0 col4\" >slopedev</th>\n",
       "      <th class=\"col_heading level0 col5\" >const</th>\n",
       "      <th class=\"col_heading level0 col6\" >systematic</th>\n",
       "      <th class=\"col_heading level0 col7\" >nonsystematic</th>\n",
       "      <th class=\"col_heading level0 col8\" >spread</th>\n",
       "    </tr>\n",
       "  </thead>\n",
       "  <tbody>\n",
       "    <tr>\n",
       "      <th id=\"T_b0507_level0_row0\" class=\"row_heading level0 row0\" >H201812</th>\n",
       "      <td id=\"T_b0507_row0_col0\" class=\"data row0 col0\" >1543</td>\n",
       "      <td id=\"T_b0507_row0_col1\" class=\"data row0 col1\" >0.19</td>\n",
       "      <td id=\"T_b0507_row0_col2\" class=\"data row0 col2\" >0.58</td>\n",
       "      <td id=\"T_b0507_row0_col3\" class=\"data row0 col3\" >0.45</td>\n",
       "      <td id=\"T_b0507_row0_col4\" class=\"data row0 col4\" >0.63</td>\n",
       "      <td id=\"T_b0507_row0_col5\" class=\"data row0 col5\" >0.37</td>\n",
       "      <td id=\"T_b0507_row0_col6\" class=\"data row0 col6\" >0.34</td>\n",
       "      <td id=\"T_b0507_row0_col7\" class=\"data row0 col7\" >0.47</td>\n",
       "      <td id=\"T_b0507_row0_col8\" class=\"data row0 col8\" >-1.7</td>\n",
       "    </tr>\n",
       "    <tr>\n",
       "      <th id=\"T_b0507_level0_row1\" class=\"row_heading level0 row1\" >H201905</th>\n",
       "      <td id=\"T_b0507_row1_col0\" class=\"data row1 col0\" >1543</td>\n",
       "      <td id=\"T_b0507_row1_col1\" class=\"data row1 col1\" >-0.12</td>\n",
       "      <td id=\"T_b0507_row1_col2\" class=\"data row1 col2\" >0.63</td>\n",
       "      <td id=\"T_b0507_row1_col3\" class=\"data row1 col3\" >0.45</td>\n",
       "      <td id=\"T_b0507_row1_col4\" class=\"data row1 col4\" >0.56</td>\n",
       "      <td id=\"T_b0507_row1_col5\" class=\"data row1 col5\" >0.043</td>\n",
       "      <td id=\"T_b0507_row1_col6\" class=\"data row1 col6\" >0.28</td>\n",
       "      <td id=\"T_b0507_row1_col7\" class=\"data row1 col7\" >0.57</td>\n",
       "      <td id=\"T_b0507_row1_col8\" class=\"data row1 col8\" >-2.5</td>\n",
       "    </tr>\n",
       "    <tr>\n",
       "      <th id=\"T_b0507_level0_row2\" class=\"row_heading level0 row2\" >Cp2</th>\n",
       "      <td id=\"T_b0507_row2_col0\" class=\"data row2 col0\" >1543</td>\n",
       "      <td id=\"T_b0507_row2_col1\" class=\"data row2 col1\" >0.11</td>\n",
       "      <td id=\"T_b0507_row2_col2\" class=\"data row2 col2\" >0.56</td>\n",
       "      <td id=\"T_b0507_row2_col3\" class=\"data row2 col3\" >0.42</td>\n",
       "      <td id=\"T_b0507_row2_col4\" class=\"data row2 col4\" >0.58</td>\n",
       "      <td id=\"T_b0507_row2_col5\" class=\"data row2 col5\" >0.28</td>\n",
       "      <td id=\"T_b0507_row2_col6\" class=\"data row2 col6\" >0.29</td>\n",
       "      <td id=\"T_b0507_row2_col7\" class=\"data row2 col7\" >0.48</td>\n",
       "      <td id=\"T_b0507_row2_col8\" class=\"data row2 col8\" >-2.1</td>\n",
       "    </tr>\n",
       "    <tr>\n",
       "      <th id=\"T_b0507_level0_row3\" class=\"row_heading level0 row3\" >Cp3</th>\n",
       "      <td id=\"T_b0507_row3_col0\" class=\"data row3 col0\" >1540</td>\n",
       "      <td id=\"T_b0507_row3_col1\" class=\"data row3 col1\" >0.12</td>\n",
       "      <td id=\"T_b0507_row3_col2\" class=\"data row3 col2\" >0.57</td>\n",
       "      <td id=\"T_b0507_row3_col3\" class=\"data row3 col3\" >0.42</td>\n",
       "      <td id=\"T_b0507_row3_col4\" class=\"data row3 col4\" >0.58</td>\n",
       "      <td id=\"T_b0507_row3_col5\" class=\"data row3 col5\" >0.28</td>\n",
       "      <td id=\"T_b0507_row3_col6\" class=\"data row3 col6\" >0.29</td>\n",
       "      <td id=\"T_b0507_row3_col7\" class=\"data row3 col7\" >0.49</td>\n",
       "      <td id=\"T_b0507_row3_col8\" class=\"data row3 col8\" >-2.1</td>\n",
       "    </tr>\n",
       "    <tr>\n",
       "      <th id=\"T_b0507_level0_row4\" class=\"row_heading level0 row4\" >D-again</th>\n",
       "      <td id=\"T_b0507_row4_col0\" class=\"data row4 col0\" >1543</td>\n",
       "      <td id=\"T_b0507_row4_col1\" class=\"data row4 col1\" >-0.067</td>\n",
       "      <td id=\"T_b0507_row4_col2\" class=\"data row4 col2\" >0.56</td>\n",
       "      <td id=\"T_b0507_row4_col3\" class=\"data row4 col3\" >0.44</td>\n",
       "      <td id=\"T_b0507_row4_col4\" class=\"data row4 col4\" >0.62</td>\n",
       "      <td id=\"T_b0507_row4_col5\" class=\"data row4 col5\" >0.11</td>\n",
       "      <td id=\"T_b0507_row4_col6\" class=\"data row4 col6\" >0.29</td>\n",
       "      <td id=\"T_b0507_row4_col7\" class=\"data row4 col7\" >0.47</td>\n",
       "      <td id=\"T_b0507_row4_col8\" class=\"data row4 col8\" >-2.2</td>\n",
       "    </tr>\n",
       "    <tr>\n",
       "      <th id=\"T_b0507_level0_row5\" class=\"row_heading level0 row5\" >D-lowR</th>\n",
       "      <td id=\"T_b0507_row5_col0\" class=\"data row5 col0\" >1543</td>\n",
       "      <td id=\"T_b0507_row5_col1\" class=\"data row5 col1\" >-0.017</td>\n",
       "      <td id=\"T_b0507_row5_col2\" class=\"data row5 col2\" >0.55</td>\n",
       "      <td id=\"T_b0507_row5_col3\" class=\"data row5 col3\" >0.45</td>\n",
       "      <td id=\"T_b0507_row5_col4\" class=\"data row5 col4\" >0.62</td>\n",
       "      <td id=\"T_b0507_row5_col5\" class=\"data row5 col5\" >0.16</td>\n",
       "      <td id=\"T_b0507_row5_col6\" class=\"data row5 col6\" >0.29</td>\n",
       "      <td id=\"T_b0507_row5_col7\" class=\"data row5 col7\" >0.47</td>\n",
       "      <td id=\"T_b0507_row5_col8\" class=\"data row5 col8\" >-1.9</td>\n",
       "    </tr>\n",
       "    <tr>\n",
       "      <th id=\"T_b0507_level0_row6\" class=\"row_heading level0 row6\" >F</th>\n",
       "      <td id=\"T_b0507_row6_col0\" class=\"data row6 col0\" >1543</td>\n",
       "      <td id=\"T_b0507_row6_col1\" class=\"data row6 col1\" >-0.11</td>\n",
       "      <td id=\"T_b0507_row6_col2\" class=\"data row6 col2\" >0.57</td>\n",
       "      <td id=\"T_b0507_row6_col3\" class=\"data row6 col3\" >0.46</td>\n",
       "      <td id=\"T_b0507_row6_col4\" class=\"data row6 col4\" >0.63</td>\n",
       "      <td id=\"T_b0507_row6_col5\" class=\"data row6 col5\" >0.076</td>\n",
       "      <td id=\"T_b0507_row6_col6\" class=\"data row6 col6\" >0.31</td>\n",
       "      <td id=\"T_b0507_row6_col7\" class=\"data row6 col7\" >0.48</td>\n",
       "      <td id=\"T_b0507_row6_col8\" class=\"data row6 col8\" >-1.8</td>\n",
       "    </tr>\n",
       "    <tr>\n",
       "      <th id=\"T_b0507_level0_row7\" class=\"row_heading level0 row7\" >Gp1</th>\n",
       "      <td id=\"T_b0507_row7_col0\" class=\"data row7 col0\" >1543</td>\n",
       "      <td id=\"T_b0507_row7_col1\" class=\"data row7 col1\" >-0.0058</td>\n",
       "      <td id=\"T_b0507_row7_col2\" class=\"data row7 col2\" >0.56</td>\n",
       "      <td id=\"T_b0507_row7_col3\" class=\"data row7 col3\" >0.43</td>\n",
       "      <td id=\"T_b0507_row7_col4\" class=\"data row7 col4\" >0.59</td>\n",
       "      <td id=\"T_b0507_row7_col5\" class=\"data row7 col5\" >0.16</td>\n",
       "      <td id=\"T_b0507_row7_col6\" class=\"data row7 col6\" >0.27</td>\n",
       "      <td id=\"T_b0507_row7_col7\" class=\"data row7 col7\" >0.49</td>\n",
       "      <td id=\"T_b0507_row7_col8\" class=\"data row7 col8\" >-1.8</td>\n",
       "    </tr>\n",
       "    <tr>\n",
       "      <th id=\"T_b0507_level0_row8\" class=\"row_heading level0 row8\" >Gp2</th>\n",
       "      <td id=\"T_b0507_row8_col0\" class=\"data row8 col0\" >1543</td>\n",
       "      <td id=\"T_b0507_row8_col1\" class=\"data row8 col1\" >-0.0047</td>\n",
       "      <td id=\"T_b0507_row8_col2\" class=\"data row8 col2\" >0.59</td>\n",
       "      <td id=\"T_b0507_row8_col3\" class=\"data row8 col3\" >0.46</td>\n",
       "      <td id=\"T_b0507_row8_col4\" class=\"data row8 col4\" >0.6</td>\n",
       "      <td id=\"T_b0507_row8_col5\" class=\"data row8 col5\" >0.17</td>\n",
       "      <td id=\"T_b0507_row8_col6\" class=\"data row8 col6\" >0.27</td>\n",
       "      <td id=\"T_b0507_row8_col7\" class=\"data row8 col7\" >0.52</td>\n",
       "      <td id=\"T_b0507_row8_col8\" class=\"data row8 col8\" >-1.7</td>\n",
       "    </tr>\n",
       "    <tr>\n",
       "      <th id=\"T_b0507_level0_row9\" class=\"row_heading level0 row9\" >H</th>\n",
       "      <td id=\"T_b0507_row9_col0\" class=\"data row9 col0\" >1543</td>\n",
       "      <td id=\"T_b0507_row9_col1\" class=\"data row9 col1\" >-0.011</td>\n",
       "      <td id=\"T_b0507_row9_col2\" class=\"data row9 col2\" >0.58</td>\n",
       "      <td id=\"T_b0507_row9_col3\" class=\"data row9 col3\" >0.45</td>\n",
       "      <td id=\"T_b0507_row9_col4\" class=\"data row9 col4\" >0.6</td>\n",
       "      <td id=\"T_b0507_row9_col5\" class=\"data row9 col5\" >0.16</td>\n",
       "      <td id=\"T_b0507_row9_col6\" class=\"data row9 col6\" >0.28</td>\n",
       "      <td id=\"T_b0507_row9_col7\" class=\"data row9 col7\" >0.51</td>\n",
       "      <td id=\"T_b0507_row9_col8\" class=\"data row9 col8\" >-1.7</td>\n",
       "    </tr>\n",
       "  </tbody>\n",
       "</table>\n"
      ],
      "text/plain": [
       "<pandas.io.formats.style.Styler at 0x7f37286ae190>"
      ]
     },
     "execution_count": 38,
     "metadata": {},
     "output_type": "execute_result"
    }
   ],
   "source": [
    "alltogether = pd.concat([d201812, d201905, dCp2, dCp3, Dagain, DlowR, modF, modGp1, modGp2, modH], axis=0)\n",
    "foramt = \"{:.2}\"\n",
    "alltogether.style.format(myformat).apply(highlight_max_min)"
   ]
  },
  {
   "cell_type": "markdown",
   "metadata": {},
   "source": [
    "**Conclusion** All of the \"new\" runs are pretty similar and are better than either H201812 or H201905.  lowR is a bit better than F, perhaps because F has no ciliates.  All of the new bathy, the new NH and the new waves improves the bias, but the rmse is improved only with the new bathy."
   ]
  },
  {
   "cell_type": "code",
   "execution_count": null,
   "metadata": {},
   "outputs": [],
   "source": []
  }
 ],
 "metadata": {
  "kernelspec": {
   "display_name": "py39",
   "language": "python",
   "name": "py39"
  },
  "language_info": {
   "codemirror_mode": {
    "name": "ipython",
    "version": 3
   },
   "file_extension": ".py",
   "mimetype": "text/x-python",
   "name": "python",
   "nbconvert_exporter": "python",
   "pygments_lexer": "ipython3",
   "version": "3.9.2"
  }
 },
 "nbformat": 4,
 "nbformat_minor": 4
}
