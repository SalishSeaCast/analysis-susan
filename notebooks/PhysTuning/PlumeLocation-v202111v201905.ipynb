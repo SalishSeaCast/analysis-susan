{
 "cells": [
  {
   "cell_type": "markdown",
   "id": "99a43d2f-5464-467e-b799-03d7030c6ab4",
   "metadata": {},
   "source": [
    "# Show new bathy improvement\n",
    "## comparison of \"v201905\" to \"v202111\""
   ]
  },
  {
   "cell_type": "code",
   "execution_count": 1,
   "id": "28892bb5-21d9-4f7a-aceb-95b54aedd4b6",
   "metadata": {},
   "outputs": [],
   "source": [
    "import cmocean.cm as cm\n",
    "import datetime as dt\n",
    "import matplotlib.pyplot as plt\n",
    "from matplotlib.colors import LogNorm\n",
    "import numpy as np\n",
    "import pandas as pd\n",
    "import statsmodels.api as sm\n",
    "from scipy import stats\n",
    "import xarray as xr"
   ]
  },
  {
   "cell_type": "code",
   "execution_count": 2,
   "id": "ed37e597-93c8-4d81-a3f0-bbd7e836257b",
   "metadata": {},
   "outputs": [],
   "source": [
    "def read_pieces(pieces):\n",
    "    temp1 = pd.read_csv(pieces[0])\n",
    "    if 'ferry' in pieces[0]:\n",
    "        temp1['k'] = 1.5\n",
    "    for piece in pieces[1:]:\n",
    "        nextpiece = pd.read_csv(piece)\n",
    "        if 'ferry' in piece:\n",
    "            nextpiece['k'] = 1.5\n",
    "        temp1 = pd.concat([temp1, nextpiece], ignore_index=True)\n",
    "    return temp1"
   ]
  },
  {
   "cell_type": "code",
   "execution_count": 3,
   "id": "494963ba-ddf4-402c-8b46-eec7a54c5619",
   "metadata": {},
   "outputs": [],
   "source": [
    "def cleanup_ferry(temp3):\n",
    "    return temp3[((temp3.SA > 0.2) | (temp3.mod_vosaline - temp3.SA < 20)) & ((temp3.Lon > -123.8) | (temp3.SA > 14))]"
   ]
  },
  {
   "cell_type": "code",
   "execution_count": 4,
   "id": "38d47a02-1816-4b03-aa19-c16ecf80f4c0",
   "metadata": {},
   "outputs": [],
   "source": [
    "pieces = (\n",
    "         ['/data/sallen/results/MEOPAR/202111/ObsModel//ObsModel_201905R_ferry_20190101_20191231.csv']\n",
    "         )"
   ]
  },
  {
   "cell_type": "code",
   "execution_count": 5,
   "id": "1d1398bd-2a21-4728-bf06-a8cebd1112bd",
   "metadata": {},
   "outputs": [],
   "source": [
    "temp2 = read_pieces(pieces)\n",
    "temp2['SA'] = temp2['salinity (g/kg)']\n",
    "temp2.drop(columns='Unnamed: 0', inplace=True)\n",
    "temp2.drop_duplicates(inplace=True)"
   ]
  },
  {
   "cell_type": "code",
   "execution_count": 6,
   "id": "9dae6ab3-0267-45af-b9e1-87df83b60458",
   "metadata": {},
   "outputs": [],
   "source": [
    "pieces = (\n",
    "         ['/data/sallen/results/MEOPAR/202111/ObsModel//ObsModel_202111_ferry_20190101_20191231.csv']\n",
    "         )"
   ]
  },
  {
   "cell_type": "code",
   "execution_count": 7,
   "id": "4fc8df3c-1190-4f39-8d0f-359ae33beda0",
   "metadata": {},
   "outputs": [],
   "source": [
    "temp3 = read_pieces(pieces)\n",
    "temp3['SA'] = temp3['salinity (g/kg)']\n",
    "temp3.drop(columns='Unnamed: 0', inplace=True)\n",
    "temp3.drop_duplicates(inplace=True)\n",
    "temp3 = cleanup_ferry(temp3)"
   ]
  },
  {
   "cell_type": "code",
   "execution_count": 8,
   "id": "d5cd6e69-7aee-4ed4-a74d-41914808f223",
   "metadata": {},
   "outputs": [
    {
     "data": {
      "image/png": "[encoded data removed]",
      "text/plain": [
       "<Figure size 648x504 with 1 Axes>"
      ]
     },
     "metadata": {
      "needs_background": "light"
     },
     "output_type": "display_data"
    }
   ],
   "source": [
    "fig, ax = plt.subplots(1, 1, figsize=(9, 7))\n",
    "bin_means, bin_edges, binnumber = stats.binned_statistic(temp2.Lon, temp2.SA, 'mean', bins=100)\n",
    "plt.hlines(bin_means, bin_edges[:-1], bin_edges[1:], colors='tab:green', lw=5,\n",
    "               label='Obs');\n",
    "bin_means, bin_edges, binnumber = stats.binned_statistic(temp2.Lon, temp2.mod_vosaline, 'mean', bins=100)\n",
    "plt.hlines(bin_means, bin_edges[:-1], bin_edges[1:], colors='tab:blue', lw=5,\n",
    "               label='201905');\n",
    "bin_means, bin_edges, binnumber = stats.binned_statistic(temp3.Lon, temp3.mod_vosaline, 'mean', bins=100)\n",
    "plt.hlines(bin_means, bin_edges[:-1], bin_edges[1:], colors='tab:orange', lw=5,\n",
    "               label='202111');\n",
    "\n",
    "ax.set_xlabel('Longitude')\n",
    "ax.set_ylabel('Salinity (g kg$^{-1}$)')\n",
    "ax.set_title('Average Plume Position')\n",
    "plt.grid();\n",
    "plt.legend(loc='lower left');"
   ]
  },
  {
   "cell_type": "code",
   "execution_count": null,
   "id": "2845ad46-c507-4f66-ada7-b3a2339684a2",
   "metadata": {},
   "outputs": [],
   "source": []
  }
 ],
 "metadata": {
  "kernelspec": {
   "display_name": "py39",
   "language": "python",
   "name": "py39"
  },
  "language_info": {
   "codemirror_mode": {
    "name": "ipython",
    "version": 3
   },
   "file_extension": ".py",
   "mimetype": "text/x-python",
   "name": "python",
   "nbconvert_exporter": "python",
   "pygments_lexer": "ipython3",
   "version": "3.9.2"
  }
 },
 "nbformat": 4,
 "nbformat_minor": 5
}
