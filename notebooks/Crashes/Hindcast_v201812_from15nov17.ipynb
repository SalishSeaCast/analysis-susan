{
 "cells": [
  {
   "cell_type": "markdown",
   "metadata": {
    "toc": true
   },
   "source": [
    "<h1>Table of Contents<span class=\"tocSkip\"></span></h1>\n",
    "<div class=\"toc\"><ul class=\"toc-item\"></ul></div>"
   ]
  },
  {
   "cell_type": "markdown",
   "metadata": {},
   "source": [
    "Crashing on first time step on the western boundary at 2 392 25 in fortran."
   ]
  },
  {
   "cell_type": "markdown",
   "metadata": {},
   "source": [
    "Going to try smoothing the restart file."
   ]
  },
  {
   "cell_type": "code",
   "execution_count": 1,
   "metadata": {},
   "outputs": [],
   "source": [
    "import matplotlib.pyplot as plt\n",
    "import numpy as np\n",
    "import xarray as xr\n",
    "\n",
    "%matplotlib inline"
   ]
  },
  {
   "cell_type": "code",
   "execution_count": 2,
   "metadata": {},
   "outputs": [
    {
     "data": {
      "text/html": [
       "<pre>&lt;xarray.Dataset&gt;\n",
       "Dimensions:       (t: 1, x: 398, y: 898, z: 40)\n",
       "Dimensions without coordinates: t, x, y, z\n",
       "Data variables:\n",
       "    nav_lon       (y, x) float32 ...\n",
       "    nav_lat       (y, x) float32 ...\n",
       "    nav_lev       (z) float32 ...\n",
       "    time_counter  (t) float64 ...\n",
       "    kt            float64 ...\n",
       "    ndastp        float64 ...\n",
       "    adatrj        float64 ...\n",
       "    ssh_ibb       (t, y, x) float64 ...\n",
       "    rnf_b         (t, y, x) float64 ...\n",
       "    rnf_hc_b      (t, y, x) float64 ...\n",
       "    rnf_sc_b      (t, y, x) float64 ...\n",
       "    utau_b        (t, y, x) float64 ...\n",
       "    vtau_b        (t, y, x) float64 ...\n",
       "    qns_b         (t, y, x) float64 ...\n",
       "    emp_b         (t, y, x) float64 ...\n",
       "    sfx_b         (t, y, x) float64 ...\n",
       "    en            (t, z, y, x) float64 ...\n",
       "    avt           (t, z, y, x) float64 ...\n",
       "    avm           (t, z, y, x) float64 ...\n",
       "    avmu          (t, z, y, x) float64 ...\n",
       "    avmv          (t, z, y, x) float64 ...\n",
       "    mxln          (t, z, y, x) float64 ...\n",
       "    ub2_b         (t, y, x) float64 ...\n",
       "    vb2_b         (t, y, x) float64 ...\n",
       "    sbc_hc_b      (t, y, x) float64 ...\n",
       "    sbc_sc_b      (t, y, x) float64 ...\n",
       "    qsr_hc_b      (t, z, y, x) float64 ...\n",
       "    fraqsr_1lev   (t, y, x) float64 ...\n",
       "    fse3t_b       (t, z, y, x) float64 ...\n",
       "    fse3t_n       (t, z, y, x) float64 ...\n",
       "    rdt           float64 ...\n",
       "    rdttra1       float64 ...\n",
       "    ub            (t, z, y, x) float64 ...\n",
       "    vb            (t, z, y, x) float64 ...\n",
       "    tb            (t, z, y, x) float64 ...\n",
       "    sb            (t, z, y, x) float64 ...\n",
       "    rotb          (t, z, y, x) float64 ...\n",
       "    hdivb         (t, z, y, x) float64 ...\n",
       "    sshb          (t, y, x) float64 ...\n",
       "    un            (t, z, y, x) float64 ...\n",
       "    vn            (t, z, y, x) float64 ...\n",
       "    tn            (t, z, y, x) float64 ...\n",
       "    sn            (t, z, y, x) float64 ...\n",
       "    rotn          (t, z, y, x) float64 ...\n",
       "    hdivn         (t, z, y, x) float64 ...\n",
       "    sshn          (t, y, x) float64 ...\n",
       "    rhop          (t, z, y, x) float64 ...\n",
       "Attributes:\n",
       "    file_name:  SalishSea_03162240_restart.nc\n",
       "    TimeStamp:  16/06/2020 01:52:05 -0700</pre>"
      ],
      "text/plain": [
       "<xarray.Dataset>\n",
       "Dimensions:       (t: 1, x: 398, y: 898, z: 40)\n",
       "Dimensions without coordinates: t, x, y, z\n",
       "Data variables:\n",
       "    nav_lon       (y, x) float32 ...\n",
       "    nav_lat       (y, x) float32 ...\n",
       "    nav_lev       (z) float32 ...\n",
       "    time_counter  (t) float64 ...\n",
       "    kt            float64 ...\n",
       "    ndastp        float64 ...\n",
       "    adatrj        float64 ...\n",
       "    ssh_ibb       (t, y, x) float64 ...\n",
       "    rnf_b         (t, y, x) float64 ...\n",
       "    rnf_hc_b      (t, y, x) float64 ...\n",
       "    rnf_sc_b      (t, y, x) float64 ...\n",
       "    utau_b        (t, y, x) float64 ...\n",
       "    vtau_b        (t, y, x) float64 ...\n",
       "    qns_b         (t, y, x) float64 ...\n",
       "    emp_b         (t, y, x) float64 ...\n",
       "    sfx_b         (t, y, x) float64 ...\n",
       "    en            (t, z, y, x) float64 ...\n",
       "    avt           (t, z, y, x) float64 ...\n",
       "    avm           (t, z, y, x) float64 ...\n",
       "    avmu          (t, z, y, x) float64 ...\n",
       "    avmv          (t, z, y, x) float64 ...\n",
       "    mxln          (t, z, y, x) float64 ...\n",
       "    ub2_b         (t, y, x) float64 ...\n",
       "    vb2_b         (t, y, x) float64 ...\n",
       "    sbc_hc_b      (t, y, x) float64 ...\n",
       "    sbc_sc_b      (t, y, x) float64 ...\n",
       "    qsr_hc_b      (t, z, y, x) float64 ...\n",
       "    fraqsr_1lev   (t, y, x) float64 ...\n",
       "    fse3t_b       (t, z, y, x) float64 ...\n",
       "    fse3t_n       (t, z, y, x) float64 ...\n",
       "    rdt           float64 ...\n",
       "    rdttra1       float64 ...\n",
       "    ub            (t, z, y, x) float64 ...\n",
       "    vb            (t, z, y, x) float64 ...\n",
       "    tb            (t, z, y, x) float64 ...\n",
       "    sb            (t, z, y, x) float64 ...\n",
       "    rotb          (t, z, y, x) float64 ...\n",
       "    hdivb         (t, z, y, x) float64 ...\n",
       "    sshb          (t, y, x) float64 ...\n",
       "    un            (t, z, y, x) float64 ...\n",
       "    vn            (t, z, y, x) float64 ...\n",
       "    tn            (t, z, y, x) float64 ...\n",
       "    sn            (t, z, y, x) float64 ...\n",
       "    rotn          (t, z, y, x) float64 ...\n",
       "    hdivn         (t, z, y, x) float64 ...\n",
       "    sshn          (t, y, x) float64 ...\n",
       "    rhop          (t, z, y, x) float64 ...\n",
       "Attributes:\n",
       "    file_name:  SalishSea_03162240_restart.nc\n",
       "    TimeStamp:  16/06/2020 01:52:05 -0700"
      ]
     },
     "execution_count": 2,
     "metadata": {},
     "output_type": "execute_result"
    }
   ],
   "source": [
    "restart_file = xr.open_dataset('/Users/sallen/Documents/MEOPAR/Crashes_Data/SalishSea_03162240_restart.nc')\n",
    "restart_file"
   ]
  },
  {
   "cell_type": "markdown",
   "metadata": {},
   "source": [
    "Look at velocity"
   ]
  },
  {
   "cell_type": "code",
   "execution_count": 6,
   "metadata": {},
   "outputs": [
    {
     "data": {
      "image/png": "[encoded data removed]",
      "text/plain": [
       "<Figure size 432x288 with 1 Axes>"
      ]
     },
     "metadata": {
      "needs_background": "light"
     },
     "output_type": "display_data"
    }
   ],
   "source": [
    "ib, ie = 385, 467\n",
    "uveln19 = restart_file.un[0, 25-1]\n",
    "uvelb19 = restart_file.ub[0, 25-1]\n",
    "uvelb19[ib:ie, 1].plot(label=\"Before 1\", linewidth=5)\n",
    "uveln19[ib:ie, 1].plot(label=\"Next 1\")\n",
    "uvelb19[ib:ie, 3].plot(label=\"Before 3\", linewidth=5)\n",
    "uveln19[ib:ie, 3].plot(label=\"Next 3\")\n",
    "plt.plot([392-ib, 392-ib], [-0.5, 2], color='k');\n",
    "plt.legend();"
   ]
  },
  {
   "cell_type": "code",
   "execution_count": 7,
   "metadata": {},
   "outputs": [],
   "source": [
    "restart_file.un[0, :, :, 1] = restart_file.un[0, :, :, 2]\n",
    "restart_file.ub[0, :, :, 1] = restart_file.ub[0, :, :, 2]\n",
    "restart_file.vn[0, :, :, 1] = restart_file.vn[0, :, :, 2]\n",
    "restart_file.vb[0, :, :, 1] = restart_file.vb[0, :, :, 2]"
   ]
  },
  {
   "cell_type": "code",
   "execution_count": 8,
   "metadata": {},
   "outputs": [
    {
     "data": {
      "text/plain": [
       "{'file_name': 'SalishSea_03162240_restart.nc',\n",
       " 'TimeStamp': '16/06/2020 01:52:05 -0700',\n",
       " 'Modified': 'copied velocity one away from west boundary to boundary'}"
      ]
     },
     "execution_count": 8,
     "metadata": {},
     "output_type": "execute_result"
    }
   ],
   "source": [
    "restart_file.attrs['Modified'] = 'copied velocity one away from west boundary to boundary'\n",
    "restart_file.attrs"
   ]
  },
  {
   "cell_type": "code",
   "execution_count": 9,
   "metadata": {},
   "outputs": [],
   "source": [
    "restart_file.to_netcdf('SalishSea_03162240_restart.nc')"
   ]
  },
  {
   "cell_type": "code",
   "execution_count": null,
   "metadata": {},
   "outputs": [],
   "source": []
  }
 ],
 "metadata": {
  "kernelspec": {
   "display_name": "Python 3",
   "language": "python",
   "name": "python3"
  },
  "language_info": {
   "codemirror_mode": {
    "name": "ipython",
    "version": 3
   },
   "file_extension": ".py",
   "mimetype": "text/x-python",
   "name": "python",
   "nbconvert_exporter": "python",
   "pygments_lexer": "ipython3",
   "version": "3.7.6"
  },
  "toc": {
   "base_numbering": 1,
   "nav_menu": {},
   "number_sections": true,
   "sideBar": true,
   "skip_h1_title": false,
   "title_cell": "Table of Contents",
   "title_sidebar": "Contents",
   "toc_cell": true,
   "toc_position": {},
   "toc_section_display": true,
   "toc_window_display": false
  }
 },
 "nbformat": 4,
 "nbformat_minor": 2
}
