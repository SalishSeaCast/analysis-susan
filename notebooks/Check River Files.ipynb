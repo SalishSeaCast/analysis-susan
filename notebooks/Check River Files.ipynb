{
 "cells": [
  {
   "cell_type": "markdown",
   "metadata": {},
   "source": [
    "# Check River Flows"
   ]
  },
  {
   "cell_type": "code",
   "execution_count": 1,
   "metadata": {
    "collapsed": true
   },
   "outputs": [],
   "source": [
    "import matplotlib.pyplot as plt\n",
    "import netCDF4 as nc\n",
    "import numpy as np\n",
    "\n",
    "from salishsea_tools import nc_tools\n",
    "\n",
    "%matplotlib inline"
   ]
  },
  {
   "cell_type": "code",
   "execution_count": 2,
   "metadata": {
    "collapsed": false
   },
   "outputs": [],
   "source": [
    "def find_points(flow):\n",
    "    for i in range(390, 501):\n",
    "        for j in range(280, 398):\n",
    "            if flow[0,i,j] != 0:\n",
    "                print (i,j, lat[i,j], lon[i,j], flow[0,i,j] * e1t[i,j] * e2t[i,j]/\n",
    "                      (e1t[500, 395] * e2t[500, 395]))"
   ]
  },
  {
   "cell_type": "code",
   "execution_count": 12,
   "metadata": {
    "collapsed": true
   },
   "outputs": [],
   "source": [
    "def check_points(flow, tmask):\n",
    "    for i in range(898):\n",
    "        for j in range(398):\n",
    "            if tmask[0, i, j] !=1:\n",
    "                if flow[0, i, j] != 0:\n",
    "                    print ('Land River', i ,j)"
   ]
  },
  {
   "cell_type": "code",
   "execution_count": 6,
   "metadata": {
    "collapsed": false
   },
   "outputs": [],
   "source": [
    "grid = nc.Dataset('/ocean/sallen/allen/research/MEOPAR/NEMO-forcing/grid/bathymetry_201702.nc')\n",
    "lat = grid.variables['nav_lat'][:,:]\n",
    "lon = grid.variables['nav_lon'][:,:]\n",
    "depth = grid.variables['Bathymetry'][:]\n",
    "grid.close()\n",
    "mesh = nc.Dataset('../../../NEMO-forcing/grid/mesh_mask201702.nc')\n",
    "e1t = mesh.variables['e1t'][0,:]\n",
    "e2t = mesh.variables['e2t'][0,:]\n",
    "tmask = mesh.variables['tmask'][0,:]\n",
    "mesh.close()"
   ]
  },
  {
   "cell_type": "code",
   "execution_count": 4,
   "metadata": {
    "collapsed": false
   },
   "outputs": [],
   "source": [
    "river1 = nc.Dataset('/results/forcing/rivers/R201702DFraCElse_y2014m09d12.nc')\n",
    "river2 = nc.Dataset('/ocean/sallen/allen/research/MEOPAR/NEMO-forcing/rivers/rivers_month_201702.nc')\n"
   ]
  },
  {
   "cell_type": "code",
   "execution_count": 5,
   "metadata": {
    "collapsed": false
   },
   "outputs": [
    {
     "name": "stdout",
     "output_type": "stream",
     "text": [
      "Sep 12, 2014\n",
      "Daily\n",
      "457 343 49.3154449463 -123.139831543 0.0816339215203\n",
      "458 343 49.3193588257 -123.143196106 0.0816194329737\n",
      "459 343 49.3232688904 -123.146560669 0.0816049362553\n",
      "500 394 49.5787086487 -123.02016449 11.9428140937\n",
      "Monthly\n",
      "457 343 49.3154449463 -123.139831543 0.0454712606178\n",
      "458 343 49.3193588257 -123.143196106 0.0454631902904\n",
      "459 343 49.3232688904 -123.146560669 0.0454551154111\n",
      "500 394 49.5787086487 -123.02016449 8.10383673878\n",
      "Difference\n",
      "457 343 49.3154449463 -123.139831543 -0.0361626609025\n",
      "458 343 49.3193588257 -123.143196106 -0.0361562426833\n",
      "459 343 49.3232688904 -123.146560669 -0.0361498208442\n",
      "500 394 49.5787086487 -123.02016449 -3.8389773549\n"
     ]
    }
   ],
   "source": [
    "print ('Sep 12, 2014')\n",
    "print ('Daily')\n",
    "find_points(river1.variables['rorunoff'][:,:,:])\n",
    "print ('Monthly')\n",
    "find_points(river2.variables['rorunoff'][:,:,:])\n",
    "print ('Difference')\n",
    "find_points(river2.variables['rorunoff'][:,:,:] - river1.variables['rorunoff'][:,:,:])\n"
   ]
  },
  {
   "cell_type": "code",
   "execution_count": 14,
   "metadata": {
    "collapsed": false
   },
   "outputs": [
    {
     "name": "stdout",
     "output_type": "stream",
     "text": [
      "Land River 806 126\n"
     ]
    }
   ],
   "source": [
    "check_points(river2.variables['rorunoff'][:,:,:], tmask)"
   ]
  },
  {
   "cell_type": "code",
   "execution_count": 13,
   "metadata": {
    "collapsed": false
   },
   "outputs": [
    {
     "name": "stdout",
     "output_type": "stream",
     "text": [
      "Land River 806 126\n"
     ]
    }
   ],
   "source": [
    "check_points(river2.variables['rorunoff'][:,:,:], tmask)"
   ]
  },
  {
   "cell_type": "code",
   "execution_count": 16,
   "metadata": {
    "collapsed": false
   },
   "outputs": [
    {
     "data": {
      "image/png": "[encoded data removed]",
      "text/plain": [
       "<matplotlib.figure.Figure at 0x7f1c7afb8e48>"
      ]
     },
     "metadata": {},
     "output_type": "display_data"
    }
   ],
   "source": [
    "fig, ax = plt.subplots(1,1,figsize=(15,7.5))\n",
    "imin = 780; imax = 830; jmin = 100; jmax = 150\n",
    "cmap = plt.get_cmap('winter_r')\n",
    "cmap.set_bad('burlywood')\n",
    "mesh = ax.pcolormesh(depth[imin:imax,jmin:jmax], cmap=cmap)\n",
    "ax.set_xlabel('Grid Points')\n",
    "ax.set_ylabel('Grid Points')\n",
    "cbar=fig.colorbar(mesh)\n",
    "cbar.set_label('Depth (m)')\n",
    "ax.plot(806+0.5-imin, 126+0.5-jmin,'ko');"
   ]
  },
  {
   "cell_type": "code",
   "execution_count": null,
   "metadata": {
    "collapsed": true
   },
   "outputs": [],
   "source": []
  }
 ],
 "metadata": {
  "anaconda-cloud": {},
  "kernelspec": {
   "display_name": "Python [conda env:py3]",
   "language": "python",
   "name": "conda-env-py3-py"
  },
  "language_info": {
   "codemirror_mode": {
    "name": "ipython",
    "version": 3
   },
   "file_extension": ".py",
   "mimetype": "text/x-python",
   "name": "python",
   "nbconvert_exporter": "python",
   "pygments_lexer": "ipython3",
   "version": "3.5.2"
  }
 },
 "nbformat": 4,
 "nbformat_minor": 0
}
