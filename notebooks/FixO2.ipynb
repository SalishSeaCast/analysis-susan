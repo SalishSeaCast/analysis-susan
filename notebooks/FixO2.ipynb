{
 "cells": [
  {
   "cell_type": "markdown",
   "metadata": {},
   "source": [
    "# Reset oxygen to 180 in restart file and Nitrate to 30.45"
   ]
  },
  {
   "cell_type": "code",
   "execution_count": 36,
   "metadata": {
    "collapsed": true
   },
   "outputs": [],
   "source": [
    "import matplotlib.pyplot as plt\n",
    "import netCDF4 as nc\n",
    "import numpy as np\n",
    "\n",
    "%matplotlib inline"
   ]
  },
  {
   "cell_type": "code",
   "execution_count": 37,
   "metadata": {
    "collapsed": true
   },
   "outputs": [],
   "source": [
    "myfile = '../SalishSea_00190800_restart_trc.nc'"
   ]
  },
  {
   "cell_type": "code",
   "execution_count": 38,
   "metadata": {
    "collapsed": false
   },
   "outputs": [
    {
     "name": "stdout",
     "output_type": "stream",
     "text": [
      "odict_keys(['TRBDOC', 'TRBMICZ', 'TRBMYRI', 'TRBNH4', 'TRBNO3', 'TRBO2', 'TRBPHY', 'TRBPHY2', 'TRBPOC', 'TRBSi', 'TRBbSi', 'TRNDOC', 'TRNMICZ', 'TRNMYRI', 'TRNNH4', 'TRNNO3', 'TRNO2', 'TRNPHY', 'TRNPHY2', 'TRNPOC', 'TRNSi', 'TRNbSi', 'adatrj', 'kt', 'nav_lat', 'nav_lev', 'nav_lon', 'ndastp', 'rdttrc1', 'rnf_pis_DOC_b', 'rnf_pis_MICZ_b', 'rnf_pis_MYRI_b', 'rnf_pis_NH4_b', 'rnf_pis_NO3_b', 'rnf_pis_O2_b', 'rnf_pis_PHY2_b', 'rnf_pis_PHY_b', 'rnf_pis_POC_b', 'rnf_pis_Si_b', 'rnf_pis_bSi_b', 'sbc_DOC_b', 'sbc_MICZ_b', 'sbc_MYRI_b', 'sbc_NH4_b', 'sbc_NO3_b', 'sbc_O2_b', 'sbc_PHY2_b', 'sbc_PHY_b', 'sbc_POC_b', 'sbc_Si_b', 'sbc_bSi_b', 'time_counter'])\n"
     ]
    }
   ],
   "source": [
    "data = nc.Dataset(myfile, 'r+')\n",
    "print (data.variables.keys())"
   ]
  },
  {
   "cell_type": "code",
   "execution_count": 39,
   "metadata": {
    "collapsed": false
   },
   "outputs": [
    {
     "name": "stdout",
     "output_type": "stream",
     "text": [
      "2.44034342823e+34\n",
      "180.0\n",
      "2.45204385776e+34\n",
      "180.0\n",
      "5.29226986442e+32\n",
      "180.0\n",
      "0.0\n",
      "0.0\n"
     ]
    }
   ],
   "source": [
    "for key in ['TRBO2', 'TRNO2', 'rnf_pis_O2_b', 'sbc_O2_b']:\n",
    "    variable = data.variables[key][:]\n",
    "    print (np.max(variable))\n",
    "    variable = np.clip(variable, 0, 180)\n",
    "    print (np.max(variable))\n",
    "    data.variables[key][:] = variable"
   ]
  },
  {
   "cell_type": "code",
   "execution_count": 40,
   "metadata": {
    "collapsed": false
   },
   "outputs": [
    {
     "name": "stdout",
     "output_type": "stream",
     "text": [
      "40.093858056\n",
      "30.45\n",
      "40.0938636793\n",
      "30.45\n",
      "0.175164633378\n",
      "0.175164633378\n",
      "0.0\n",
      "0.0\n"
     ]
    }
   ],
   "source": [
    "for key in ['TRBNO3', 'TRNNO3', 'rnf_pis_NO3_b', 'sbc_NO3_b']:\n",
    "    variable = data.variables[key][:]\n",
    "    print (np.max(variable))\n",
    "    variable = np.clip(variable, 0, 30.45)\n",
    "    print (np.max(variable))\n",
    "    data.variables[key][:] = variable"
   ]
  },
  {
   "cell_type": "code",
   "execution_count": 41,
   "metadata": {
    "collapsed": false
   },
   "outputs": [],
   "source": [
    "data.close()"
   ]
  },
  {
   "cell_type": "code",
   "execution_count": null,
   "metadata": {
    "collapsed": true
   },
   "outputs": [],
   "source": []
  }
 ],
 "metadata": {
  "kernelspec": {
   "display_name": "Python 3",
   "language": "python",
   "name": "python3"
  },
  "language_info": {
   "codemirror_mode": {
    "name": "ipython",
    "version": 3
   },
   "file_extension": ".py",
   "mimetype": "text/x-python",
   "name": "python",
   "nbconvert_exporter": "python",
   "pygments_lexer": "ipython3",
   "version": "3.5.1"
  }
 },
 "nbformat": 4,
 "nbformat_minor": 0
}
