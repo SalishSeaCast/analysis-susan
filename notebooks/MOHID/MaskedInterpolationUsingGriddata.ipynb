{
 "cells": [
  {
   "cell_type": "markdown",
   "metadata": {
    "toc": "true"
   },
   "source": [
    " # Table of Contents\n",
    "<div class=\"toc\" style=\"margin-top: 1em;\"><ul class=\"toc-item\" id=\"toc-level0\"><li><span><a href=\"http://localhost:8888/notebooks/notebooks/RPN/Untitled.ipynb?kernel_name=conda-env-anaconda3-py#Imports\" data-toc-modified-id=\"Imports-1\"><span class=\"toc-item-num\">1&nbsp;&nbsp;</span>Imports</a></span></li><li><span><a href=\"http://localhost:8888/notebooks/notebooks/RPN/Untitled.ipynb?kernel_name=conda-env-anaconda3-py#Data,-Interpolate-RPN-onto-OPS-grid\" data-toc-modified-id=\"Data,-Interpolate-RPN-onto-OPS-grid-2\"><span class=\"toc-item-num\">2&nbsp;&nbsp;</span>Data, Interpolate RPN onto OPS grid</a></span></li><li><span><a href=\"http://localhost:8888/notebooks/notebooks/RPN/Untitled.ipynb?kernel_name=conda-env-anaconda3-py#OPS-Grid-(where-we-want-the-values)\" data-toc-modified-id=\"OPS-Grid-(where-we-want-the-values)-3\"><span class=\"toc-item-num\">3&nbsp;&nbsp;</span>OPS Grid (where we want the values)</a></span></li><li><span><a href=\"http://localhost:8888/notebooks/notebooks/RPN/Untitled.ipynb?kernel_name=conda-env-anaconda3-py#Make-a-water-mask-(here-based-on-the-temperature)\" data-toc-modified-id=\"Make-a-water-mask-(here-based-on-the-temperature)-4\"><span class=\"toc-item-num\">4&nbsp;&nbsp;</span>Make a water mask (here based on the temperature)</a></span></li><li><span><a href=\"http://localhost:8888/notebooks/notebooks/RPN/Untitled.ipynb?kernel_name=conda-env-anaconda3-py#Set-up-the-fields-to-be-interpolated-and-mask-them\" data-toc-modified-id=\"Set-up-the-fields-to-be-interpolated-and-mask-them-5\"><span class=\"toc-item-num\">5&nbsp;&nbsp;</span>Set up the fields to be interpolated and mask them</a></span></li><li><span><a href=\"http://localhost:8888/notebooks/notebooks/RPN/Untitled.ipynb?kernel_name=conda-env-anaconda3-py#Run-Interpolation-and-Time-it\" data-toc-modified-id=\"Run-Interpolation-and-Time-it-6\"><span class=\"toc-item-num\">6&nbsp;&nbsp;</span>Run Interpolation and Time it</a></span></li></ul></div>"
   ]
  },
  {
   "cell_type": "markdown",
   "metadata": {},
   "source": [
    "# Imports"
   ]
  },
  {
   "cell_type": "code",
   "execution_count": 1,
   "metadata": {
    "collapsed": true
   },
   "outputs": [],
   "source": [
    "import numpy as np\n",
    "from scipy import interpolate\n",
    "import xarray as xr"
   ]
  },
  {
   "cell_type": "markdown",
   "metadata": {},
   "source": [
    "# Data, Interpolate RPN onto OPS grid"
   ]
  },
  {
   "cell_type": "code",
   "execution_count": 2,
   "metadata": {
    "collapsed": true
   },
   "outputs": [],
   "source": [
    "rpndata = xr.open_dataset('./2014110206_007.nc')\n",
    "opsdata = xr.open_dataset('ops_y2014m11d02.nc')"
   ]
  },
  {
   "cell_type": "markdown",
   "metadata": {},
   "source": [
    "# OPS Grid (where we want the values)"
   ]
  },
  {
   "cell_type": "code",
   "execution_count": 3,
   "metadata": {
    "collapsed": true
   },
   "outputs": [],
   "source": [
    "xnew = opsdata['nav_lon'][:]\n",
    "ynew = opsdata['nav_lat'][:]"
   ]
  },
  {
   "cell_type": "markdown",
   "metadata": {},
   "source": [
    "# Make a water mask (here based on the temperature)"
   ]
  },
  {
   "cell_type": "code",
   "execution_count": 4,
   "metadata": {
    "collapsed": true
   },
   "outputs": [],
   "source": [
    "TT = rpndata['TT'][0, 0]\n",
    "mymask = TT > 282 - 273.15"
   ]
  },
  {
   "cell_type": "markdown",
   "metadata": {},
   "source": [
    "# Set up the fields to be interpolated and mask them"
   ]
  },
  {
   "cell_type": "code",
   "execution_count": 5,
   "metadata": {},
   "outputs": [],
   "source": [
    "allx = np.array(rpndata['nav_lon'])\n",
    "ally = np.array(rpndata['nav_lat'])\n",
    "allfield = np.array(rpndata['PN'][0, 0])\n",
    "inx = allx[mymask]\n",
    "iny = ally[mymask]\n",
    "points = np.array((inx, iny)).T\n",
    "field = allfield[mymask]"
   ]
  },
  {
   "cell_type": "markdown",
   "metadata": {},
   "source": [
    "# Run Interpolation and Time it"
   ]
  },
  {
   "cell_type": "code",
   "execution_count": 6,
   "metadata": {},
   "outputs": [
    {
     "name": "stdout",
     "output_type": "stream",
     "text": [
      "CPU times: user 896 ms, sys: 43.8 ms, total: 940 ms\n",
      "Wall time: 944 ms\n"
     ]
    }
   ],
   "source": [
    "%%time\n",
    "field_on_ops = interpolate.griddata(points, field, (xnew, ynew))"
   ]
  }
 ],
 "metadata": {
  "kernelspec": {
   "display_name": "Python [conda env:anaconda3]",
   "language": "python",
   "name": "conda-env-anaconda3-py"
  },
  "language_info": {
   "codemirror_mode": {
    "name": "ipython",
    "version": 3
   },
   "file_extension": ".py",
   "mimetype": "text/x-python",
   "name": "python",
   "nbconvert_exporter": "python",
   "pygments_lexer": "ipython3",
   "version": "3.6.1"
  },
  "toc": {
   "nav_menu": {},
   "number_sections": true,
   "sideBar": true,
   "skip_h1_title": false,
   "toc_cell": true,
   "toc_position": {},
   "toc_section_display": "block",
   "toc_window_display": false
  }
 },
 "nbformat": 4,
 "nbformat_minor": 2
}
