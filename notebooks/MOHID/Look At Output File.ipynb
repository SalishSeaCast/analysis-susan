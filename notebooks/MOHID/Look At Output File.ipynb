{
 "cells": [
  {
   "cell_type": "markdown",
   "metadata": {
    "toc": "true"
   },
   "source": [
    " # Table of Contents\n",
    "<div class=\"toc\" style=\"margin-top: 1em;\"><ul class=\"toc-item\" id=\"toc-level0\"><li><span><a href=\"http://localhost:8890/notebooks/MOHID/Look%20At%20Output%20File.ipynb#Open-File,-Set-Region\" data-toc-modified-id=\"Open-File,-Set-Region-1\"><span class=\"toc-item-num\">1&nbsp;&nbsp;</span>Open File, Set Region</a></span></li><li><span><a href=\"http://localhost:8890/notebooks/MOHID/Look%20At%20Output%20File.ipynb#Oil-3D-at-Last-Time\" data-toc-modified-id=\"Oil-3D-at-Last-Time-2\"><span class=\"toc-item-num\">2&nbsp;&nbsp;</span>Oil 3D at Last Time</a></span></li><li><span><a href=\"http://localhost:8890/notebooks/MOHID/Look%20At%20Output%20File.ipynb#3D-Oil-through-Time\" data-toc-modified-id=\"3D-Oil-through-Time-3\"><span class=\"toc-item-num\">3&nbsp;&nbsp;</span>3D Oil through Time</a></span></li><li><span><a href=\"http://localhost:8890/notebooks/MOHID/Look%20At%20Output%20File.ipynb#Arrival-Time\" data-toc-modified-id=\"Arrival-Time-4\"><span class=\"toc-item-num\">4&nbsp;&nbsp;</span>Arrival Time</a></span></li><li><span><a href=\"http://localhost:8890/notebooks/MOHID/Look%20At%20Output%20File.ipynb#Beaching-Time\" data-toc-modified-id=\"Beaching-Time-5\"><span class=\"toc-item-num\">5&nbsp;&nbsp;</span>Beaching Time</a></span></li></ul></div>"
   ]
  },
  {
   "cell_type": "markdown",
   "metadata": {},
   "source": [
    "# Open File, Set Region"
   ]
  },
  {
   "cell_type": "code",
   "execution_count": 1,
   "metadata": {},
   "outputs": [],
   "source": [
    "import matplotlib.pyplot as plt\n",
    "from matplotlib import ticker\n",
    "import numpy as np\n",
    "import xarray as xr\n",
    "%matplotlib inline"
   ]
  },
  {
   "cell_type": "code",
   "execution_count": 2,
   "metadata": {},
   "outputs": [
    {
     "data": {
      "text/plain": [
       "<xarray.Dataset>\n",
       "Dimensions:              (grid_x: 396, grid_y: 896, grid_z: 40, time: 167)\n",
       "Coordinates:\n",
       "  * time                 (time) datetime64[ns] 2015-04-08T00:30:00 ...\n",
       "  * grid_y               (grid_y) int16 0 1 2 3 4 5 6 7 8 9 10 11 12 13 14 ...\n",
       "  * grid_x               (grid_x) int16 0 1 2 3 4 5 6 7 8 9 10 11 12 13 14 ...\n",
       "  * grid_z               (grid_z) int16 0 1 2 3 4 5 6 7 8 9 10 11 12 13 14 ...\n",
       "Data variables:\n",
       "    OilConcentration_2D  (time, grid_y, grid_x) float64 ...\n",
       "    Thickness_2D         (time, grid_y, grid_x) float64 ...\n",
       "    Dissolution_3D       (time, grid_z, grid_y, grid_x) float64 ...\n",
       "    OilConcentration_3D  (time, grid_z, grid_y, grid_x) float64 ...\n",
       "    Beaching_Time        (grid_y, grid_x) datetime64[ns] ...\n",
       "    Oil_Arrival_Time     (grid_y, grid_x) datetime64[ns] ...\n",
       "Attributes:\n",
       "    nco_openmp_thread_number:   1\n",
       "    history:                    Mon Nov 26 18:58:12 2018: ncks -4 -L4 -A /tmp...\n",
       "    NCO:                        4.7.2\n",
       "    history_of_appended_files:  Mon Nov 26 18:58:12 2018: Appended file /tmp/..."
      ]
     },
     "execution_count": 2,
     "metadata": {},
     "output_type": "execute_result"
    }
   ],
   "source": [
    "ds = xr.open_dataset('Lagrangian_7_st_georgia_nested.nc')\n",
    "ds"
   ]
  },
  {
   "cell_type": "code",
   "execution_count": 76,
   "metadata": {
    "collapsed": true
   },
   "outputs": [],
   "source": [
    "imin, imax = 430, 500\n",
    "jmin, jmax = 280, 350\n",
    "ztop = 39 # this is backward to NEMO"
   ]
  },
  {
   "cell_type": "markdown",
   "metadata": {},
   "source": [
    "# Oil 3D at Last Time"
   ]
  },
  {
   "cell_type": "code",
   "execution_count": 77,
   "metadata": {},
   "outputs": [
    {
     "name": "stderr",
     "output_type": "stream",
     "text": [
      "/Users/sallen/anaconda3/lib/python3.6/site-packages/ipykernel/__main__.py:2: RuntimeWarning: divide by zero encountered in log10\n",
      "  from ipykernel import kernelapp as app\n"
     ]
    }
   ],
   "source": [
    "last_oil = ds.OilConcentration_3D[-1, ztop, imin:imax, jmin:jmax]\n",
    "log_oil = np.log10(last_oil.values)\n",
    "m = np.isinf(log_oil)\n",
    "ma_log_oil = np.ma.masked_array(log_oil, mask=m)"
   ]
  },
  {
   "cell_type": "code",
   "execution_count": 97,
   "metadata": {
    "scrolled": false
   },
   "outputs": [
    {
     "data": {
      "image/png": "[encoded data removed]",
      "text/plain": [
       "<matplotlib.figure.Figure at 0x122156940>"
      ]
     },
     "metadata": {},
     "output_type": "display_data"
    }
   ],
   "source": [
    "plt.pcolormesh(ma_log_oil)\n",
    "plt.title('Log Oil Concentration at Last Time')\n",
    "plt.colorbar();"
   ]
  },
  {
   "cell_type": "markdown",
   "metadata": {},
   "source": [
    "Its all on the beach!"
   ]
  },
  {
   "cell_type": "markdown",
   "metadata": {},
   "source": [
    "# 3D Oil through Time"
   ]
  },
  {
   "cell_type": "code",
   "execution_count": 104,
   "metadata": {},
   "outputs": [
    {
     "name": "stderr",
     "output_type": "stream",
     "text": [
      "/Users/sallen/anaconda3/lib/python3.6/site-packages/ipykernel/__main__.py:2: RuntimeWarning: divide by zero encountered in log10\n",
      "  from ipykernel import kernelapp as app\n"
     ]
    }
   ],
   "source": [
    "myoils = ds.OilConcentration_3D[40:166:14, ztop, imin:imax, jmin:jmax]   # Grab some times\n",
    "log_myoil = np.log10(myoils.values)\n",
    "m = np.isinf(log_myoil)\n",
    "ma_log_myoil = np.ma.masked_array(log_myoil, mask=m)"
   ]
  },
  {
   "cell_type": "code",
   "execution_count": 105,
   "metadata": {},
   "outputs": [
    {
     "name": "stderr",
     "output_type": "stream",
     "text": [
      "/Users/sallen/anaconda3/lib/python3.6/site-packages/matplotlib/colors.py:823: UserWarning: Warning: converting a masked element to nan.\n",
      "  dtype = np.min_scalar_type(value)\n",
      "/Users/sallen/anaconda3/lib/python3.6/site-packages/numpy/ma/core.py:2809: UserWarning: Warning: converting a masked element to nan.\n",
      "  order=order, subok=True, ndmin=ndmin)\n"
     ]
    },
    {
     "data": {
      "image/png": "[encoded data removed]",
      "text/plain": [
       "<matplotlib.figure.Figure at 0x123280ac8>"
      ]
     },
     "metadata": {},
     "output_type": "display_data"
    }
   ],
   "source": [
    "fig, axs = plt.subplots(3, 3, figsize=(15,15))\n",
    "icount = 0\n",
    "for i in range(3):\n",
    "    for j in range(3):\n",
    "        axs[i, j].pcolormesh(ma_log_myoil[icount])\n",
    "        icount += 1"
   ]
  },
  {
   "cell_type": "markdown",
   "metadata": {},
   "source": [
    "Pretty weirdly discontinuous.....  Maybe our minimums set too high?"
   ]
  },
  {
   "cell_type": "markdown",
   "metadata": {},
   "source": [
    "# Arrival Time"
   ]
  },
  {
   "cell_type": "code",
   "execution_count": 88,
   "metadata": {
    "collapsed": true
   },
   "outputs": [],
   "source": [
    "arrival = ds.Oil_Arrival_Time[imin:imax, jmin:jmax]"
   ]
  },
  {
   "cell_type": "code",
   "execution_count": 89,
   "metadata": {},
   "outputs": [
    {
     "name": "stderr",
     "output_type": "stream",
     "text": [
      "/Users/sallen/anaconda3/lib/python3.6/site-packages/ipykernel/__main__.py:1: DeprecationWarning: parsing timezone aware datetimes is deprecated; this will raise an error in the future\n",
      "  if __name__ == '__main__':\n"
     ]
    }
   ],
   "source": [
    "ts = (arrival.values - np.datetime64('2015-04-08T00:00:00Z')) / np.timedelta64(24, 'h')"
   ]
  },
  {
   "cell_type": "code",
   "execution_count": 109,
   "metadata": {},
   "outputs": [
    {
     "data": {
      "text/plain": [
       "<matplotlib.colorbar.Colorbar at 0x1233370b8>"
      ]
     },
     "execution_count": 109,
     "metadata": {},
     "output_type": "execute_result"
    },
    {
     "data": {
      "image/png": "[encoded data removed]",
      "text/plain": [
       "<matplotlib.figure.Figure at 0x1250a72e8>"
      ]
     },
     "metadata": {},
     "output_type": "display_data"
    }
   ],
   "source": [
    "plt.pcolormesh(ts)\n",
    "plt.colorbar(label='Days')"
   ]
  },
  {
   "cell_type": "markdown",
   "metadata": {},
   "source": [
    "Okay, that makes sense.  Nice streaks heading south!"
   ]
  },
  {
   "cell_type": "markdown",
   "metadata": {},
   "source": [
    "# Beaching Time"
   ]
  },
  {
   "cell_type": "code",
   "execution_count": 91,
   "metadata": {},
   "outputs": [
    {
     "name": "stderr",
     "output_type": "stream",
     "text": [
      "/Users/sallen/anaconda3/lib/python3.6/site-packages/ipykernel/__main__.py:2: DeprecationWarning: parsing timezone aware datetimes is deprecated; this will raise an error in the future\n",
      "  from ipykernel import kernelapp as app\n"
     ]
    }
   ],
   "source": [
    "beach = ds.Beaching_Time[imin:imax, jmin:jmax]\n",
    "tsb = (beach.values - np.datetime64('2015-04-08T00:00:00Z')) / np.timedelta64(24, 'h')"
   ]
  },
  {
   "cell_type": "code",
   "execution_count": 110,
   "metadata": {},
   "outputs": [
    {
     "data": {
      "image/png": "[encoded data removed]",
      "text/plain": [
       "<matplotlib.figure.Figure at 0x122dfd4a8>"
      ]
     },
     "metadata": {},
     "output_type": "display_data"
    }
   ],
   "source": [
    "plt.pcolormesh(tsb)\n",
    "plt.colorbar(label='Days');"
   ]
  },
  {
   "cell_type": "code",
   "execution_count": null,
   "metadata": {
    "collapsed": true
   },
   "outputs": [],
   "source": []
  }
 ],
 "metadata": {
  "kernelspec": {
   "display_name": "Python [default]",
   "language": "python",
   "name": "python3"
  },
  "language_info": {
   "codemirror_mode": {
    "name": "ipython",
    "version": 3
   },
   "file_extension": ".py",
   "mimetype": "text/x-python",
   "name": "python",
   "nbconvert_exporter": "python",
   "pygments_lexer": "ipython3",
   "version": "3.6.1"
  },
  "toc": {
   "nav_menu": {},
   "number_sections": true,
   "sideBar": true,
   "skip_h1_title": false,
   "toc_cell": true,
   "toc_position": {},
   "toc_section_display": "block",
   "toc_window_display": false
  }
 },
 "nbformat": 4,
 "nbformat_minor": 2
}
