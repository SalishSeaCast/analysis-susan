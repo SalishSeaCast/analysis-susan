{
 "cells": [
  {
   "cell_type": "code",
   "execution_count": 1,
   "metadata": {
    "collapsed": false
   },
   "outputs": [
    {
     "name": "stderr",
     "output_type": "stream",
     "text": [
      "/home/sallen/anaconda/envs/py3/lib/python3.5/site-packages/pandas/computation/__init__.py:19: UserWarning: The installed version of numexpr 2.4.4 is not supported in pandas and will be not be used\n",
      "\n",
      "  UserWarning)\n"
     ]
    }
   ],
   "source": [
    "import pandas as pd"
   ]
  },
  {
   "cell_type": "markdown",
   "metadata": {},
   "source": [
    "## Forcing ##"
   ]
  },
  {
   "cell_type": "code",
   "execution_count": 2,
   "metadata": {
    "collapsed": true
   },
   "outputs": [],
   "source": [
    "river_flow_file = 'river_flow.csv'\n",
    "wind_file = 'wind.csv'\n",
    "tide_file = 'day_avg_tide_pd.csv'"
   ]
  },
  {
   "cell_type": "code",
   "execution_count": 11,
   "metadata": {
    "collapsed": false
   },
   "outputs": [
    {
     "name": "stdout",
     "output_type": "stream",
     "text": [
      "2013-10-17 965    2016-06-09\n",
      "Name: date, dtype: object\n"
     ]
    }
   ],
   "source": [
    "river_flow = pd.read_csv(river_flow_file)\n",
    "print (river_flow['date'][0], river_flow['date'][-2:-1])"
   ]
  },
  {
   "cell_type": "code",
   "execution_count": 27,
   "metadata": {
    "collapsed": false
   },
   "outputs": [
    {
     "name": "stdout",
     "output_type": "stream",
     "text": [
      "2014-10-19 553    2016-04-24\n",
      "Name: datetime, dtype: object\n"
     ]
    }
   ],
   "source": [
    "wind = pd.read_csv(wind_file)\n",
    "print (wind['datetime'][0], wind['datetime'][-2:-1])"
   ]
  },
  {
   "cell_type": "code",
   "execution_count": 18,
   "metadata": {
    "collapsed": false
   },
   "outputs": [
    {
     "name": "stdout",
     "output_type": "stream",
     "text": [
      "2014-09-24 624    2016-06-09\n",
      "Name: time, dtype: object\n"
     ]
    }
   ],
   "source": [
    "tides = pd.read_csv(tide_file)\n",
    "print (tides['time'][0], tides['time'][-2:-1])"
   ]
  },
  {
   "cell_type": "markdown",
   "metadata": {},
   "source": [
    "### Summary ###\n",
    "- Winds: Sep 19, 2014 to April 24, 2016\n",
    "- River: Oct 2013 to June 9, 2016\n",
    "- Tides: Sep 24, 2014 to June 9, 2016"
   ]
  },
  {
   "cell_type": "markdown",
   "metadata": {},
   "source": [
    "## Results ##"
   ]
  },
  {
   "cell_type": "code",
   "execution_count": 19,
   "metadata": {
    "collapsed": true
   },
   "outputs": [],
   "source": [
    "SB_VictoriaSill = pd.read_csv('SB_VictoriaSill.csv')\n",
    "SB_VictoriaSillIn = pd.read_csv('SB_VictoriaSillIn.csv')"
   ]
  },
  {
   "cell_type": "code",
   "execution_count": 22,
   "metadata": {
    "collapsed": false
   },
   "outputs": [
    {
     "name": "stdout",
     "output_type": "stream",
     "text": [
      "2014-11-11T00:00:00+00:00 502    2016-03-27T00:00:00+00:00\n",
      "Name: date, dtype: object\n",
      "2014-11-11T00:00:00+00:00 502    2016-03-27T00:00:00+00:00\n",
      "Name: date, dtype: object\n"
     ]
    }
   ],
   "source": [
    "print (SB_VictoriaSill['date'][0], SB_VictoriaSill['date'][-2:-1])\n",
    "print (SB_VictoriaSillIn['date'][0], SB_VictoriaSillIn['date'][-2:-1])"
   ]
  },
  {
   "cell_type": "code",
   "execution_count": 24,
   "metadata": {
    "collapsed": false
   },
   "outputs": [
    {
     "name": "stdout",
     "output_type": "stream",
     "text": [
      "2014-10-27T00:00:00+00:00 502    2016-03-12T00:00:00+00:00\n",
      "Name: date, dtype: object\n",
      "2014-10-27T00:00:00+00:00 502    2016-03-12T00:00:00+00:00\n",
      "Name: date, dtype: object\n"
     ]
    }
   ],
   "source": [
    "SF_VictoriaSill = pd.read_csv('SF_VictoriaSill.csv')\n",
    "SF_VictoriaSillIn = pd.read_csv('SF_VictoriaSillIn.csv')\n",
    "print (SF_VictoriaSill['date'][0], SF_VictoriaSill['date'][-2:-1])\n",
    "print (SF_VictoriaSillIn['date'][0], SF_VictoriaSillIn['date'][-2:-1])"
   ]
  },
  {
   "cell_type": "code",
   "execution_count": 25,
   "metadata": {
    "collapsed": false
   },
   "outputs": [
    {
     "name": "stdout",
     "output_type": "stream",
     "text": [
      "2014-10-27T00:00:00+00:00 502    2016-03-12T00:00:00+00:00\n",
      "Name: date, dtype: object\n",
      "2014-10-27T00:00:00+00:00 502    2016-03-12T00:00:00+00:00\n",
      "Name: date, dtype: object\n"
     ]
    }
   ],
   "source": [
    "NF_FraserRidge = pd.read_csv('NF_FraserRidge.csv')\n",
    "NF_FraserRidgeIn = pd.read_csv('NF_FraserRidgeIn.csv')\n",
    "print (NF_FraserRidge['date'][0], NF_FraserRidge['date'][-2:-1])\n",
    "print (NF_FraserRidgeIn['date'][0], NF_FraserRidgeIn['date'][-2:-1])"
   ]
  },
  {
   "cell_type": "code",
   "execution_count": 26,
   "metadata": {
    "collapsed": false
   },
   "outputs": [
    {
     "name": "stdout",
     "output_type": "stream",
     "text": [
      "2014-11-11T00:00:00+00:00 502    2016-03-27T00:00:00+00:00\n",
      "Name: date, dtype: object\n",
      "2014-11-11T00:00:00+00:00 502    2016-03-27T00:00:00+00:00\n",
      "Name: date, dtype: object\n"
     ]
    }
   ],
   "source": [
    "NB_FraserRidge = pd.read_csv('NB_FraserRidge.csv')\n",
    "NB_FraserRidgeIn = pd.read_csv('NB_FraserRidgeIn.csv')\n",
    "print (NB_FraserRidge['date'][0], NB_FraserRidge['date'][-2:-1])\n",
    "print (NB_FraserRidgeIn['date'][0], NB_FraserRidgeIn['date'][-2:-1])"
   ]
  },
  {
   "cell_type": "code",
   "execution_count": null,
   "metadata": {
    "collapsed": true
   },
   "outputs": [],
   "source": []
  }
 ],
 "metadata": {
  "kernelspec": {
   "display_name": "Python 3",
   "language": "python",
   "name": "python3"
  },
  "language_info": {
   "codemirror_mode": {
    "name": "ipython",
    "version": 3
   },
   "file_extension": ".py",
   "mimetype": "text/x-python",
   "name": "python",
   "nbconvert_exporter": "python",
   "pygments_lexer": "ipython3",
   "version": "3.5.1"
  }
 },
 "nbformat": 4,
 "nbformat_minor": 0
}
