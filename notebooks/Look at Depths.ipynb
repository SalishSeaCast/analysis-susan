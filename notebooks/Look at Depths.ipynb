{
 "cells": [
  {
   "cell_type": "code",
   "execution_count": 2,
   "metadata": {
    "collapsed": true
   },
   "outputs": [],
   "source": [
    "import numpy as np\n",
    "import matplotlib.pyplot as plt\n",
    "%matplotlib inline"
   ]
  },
  {
   "cell_type": "code",
   "execution_count": 12,
   "metadata": {
    "collapsed": true
   },
   "outputs": [],
   "source": [
    "def NEMO_tanh(ks, a, kth, acr):\n",
    "    \"\"\"A generic tanh used in NEMO\"\"\"\n",
    "    return a* np.tanh((ks-kth)/acr)\n",
    "def NEMO_tanh_integral(ks, a, kth, acr):\n",
    "    \"\"\"A generic integrated tanh used in NEMO grid\"\"\"\n",
    "    return a*acr*np.log(np.cosh((ks-kth)/acr))"
   ]
  },
  {
   "cell_type": "code",
   "execution_count": 31,
   "metadata": {
    "collapsed": false
   },
   "outputs": [
    {
     "name": "stdout",
     "output_type": "stream",
     "text": [
      "3117.79416836\n"
     ]
    },
    {
     "data": {
      "text/plain": [
       "[<matplotlib.lines.Line2D at 0x7f6449cfa978>]"
      ]
     },
     "execution_count": 31,
     "metadata": {},
     "output_type": "execute_result"
    },
    {
     "data": {
      "image/png": "[encoded data removed]",
      "text/plain": [
       "<matplotlib.figure.Figure at 0x7f6449daaf28>"
      ]
     },
     "metadata": {},
     "output_type": "display_data"
    }
   ],
   "source": [
    "ks = np.arange(27)\n",
    "ppa0 = 155.3\n",
    "ppa1 = 146.\n",
    "pkth = 0.\n",
    "ppacr = 10.\n",
    "depths = ppa0*ks + NEMO_tanh_integral(ks, ppa1, ppkth, ppacr)\n",
    "ppsur = depths[0]\n",
    "depths = depths - ppsur\n",
    "print (depths[-1])\n",
    "plt.plot(ks, depths, 'o')"
   ]
  },
  {
   "cell_type": "code",
   "execution_count": null,
   "metadata": {
    "collapsed": true
   },
   "outputs": [],
   "source": []
  }
 ],
 "metadata": {
  "kernelspec": {
   "display_name": "Python 3",
   "language": "python",
   "name": "python3"
  },
  "language_info": {
   "codemirror_mode": {
    "name": "ipython",
    "version": 3
   },
   "file_extension": ".py",
   "mimetype": "text/x-python",
   "name": "python",
   "nbconvert_exporter": "python",
   "pygments_lexer": "ipython3",
   "version": "3.6.0"
  }
 },
 "nbformat": 4,
 "nbformat_minor": 2
}
