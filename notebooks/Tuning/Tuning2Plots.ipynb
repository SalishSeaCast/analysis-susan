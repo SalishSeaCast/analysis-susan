{
 "cells": [
  {
   "cell_type": "code",
   "execution_count": 1,
   "metadata": {},
   "outputs": [
    {
     "name": "stderr",
     "output_type": "stream",
     "text": [
      "/home/sallen/anaconda/envs/py38/lib/python3.7/site-packages/dask/config.py:168: YAMLLoadWarning: calling yaml.load() without Loader=... is deprecated, as the default Loader is unsafe. Please read https://msg.pyyaml.org/load for full details.\n",
      "  data = yaml.load(f.read()) or {}\n",
      "/home/sallen/anaconda/envs/py38/lib/python3.7/site-packages/distributed/config.py:20: YAMLLoadWarning: calling yaml.load() without Loader=... is deprecated, as the default Loader is unsafe. Please read https://msg.pyyaml.org/load for full details.\n",
      "  defaults = yaml.load(f)\n"
     ]
    }
   ],
   "source": [
    "import datetime\n",
    "import matplotlib.pyplot as plt\n",
    "from pathlib import Path\n",
    "import pickle\n",
    "from salishsea_tools import places\n",
    "import xarray as xr\n",
    "\n",
    "%matplotlib inline"
   ]
  },
  {
   "cell_type": "code",
   "execution_count": 2,
   "metadata": {},
   "outputs": [],
   "source": [
    "T1path = Path('/data/sallen/results/MEOPAR/tuning/tuning1')\n",
    "T2path = Path('/data/sallen/results/MEOPAR/tuning/tuning2')"
   ]
  },
  {
   "cell_type": "code",
   "execution_count": 3,
   "metadata": {},
   "outputs": [],
   "source": [
    "def chl_plot(ax, basefiles, T1files, T2files):\n",
    "\n",
    "    for basefile in basefiles:\n",
    "        filein = open(basefile, 'rb')\n",
    "        base = pickle.load(filein)\n",
    "        for i in range(len(base)):\n",
    "            base[i].plot(ax=ax, color='blue')\n",
    "        filein.close()\n",
    "        \n",
    "    for T1file in T1files:\n",
    "        T1 = xr.open_dataset(T1path/T1file)\n",
    "        (T1.diatoms[:, 0, 0, 0]+T1.flagellates[:, 0, 0, 0]+T1.ciliates[:, 0, 0, 0]).plot(ax=ax, color='purple')\n",
    "        T1.close()  \n",
    "        \n",
    "    for T2file in T2files:\n",
    "        T2 = xr.open_dataset(T2path/T2file)\n",
    "        (T2.diatoms[:, 0, 0, 0]+T2.flagellates[:, 0, 0, 0]+T2.ciliates[:, 0, 0, 0]).plot(ax=ax, color='darkgreen')\n",
    "        T2.close()  "
   ]
  },
  {
   "cell_type": "code",
   "execution_count": 4,
   "metadata": {},
   "outputs": [],
   "source": [
    "def bloom_timing(T1files, T1Nfiles, T2files, T2Nfiles, startdate, enddate):\n",
    "    fig, ax = plt.subplots(1, 1, figsize=(15, 4))\n",
    "    ax2 = ax.twinx()\n",
    "    \n",
    "    for T1file in T1files:\n",
    "        T1 = xr.open_dataset(T1path/T1file)\n",
    "        (T1.diatoms[:, 0, 0, 0]+T1.flagellates[:, 0, 0, 0]+T1.ciliates[:, 0, 0, 0]).plot(ax=ax, color='purple')\n",
    "        T1.close() \n",
    "        \n",
    "    for T1file in T1Nfiles:\n",
    "        T1 = xr.open_dataset(T1path/T1file)\n",
    "        (T1.nitrate[:, 0, 0, 0]).plot(ax=ax2, color='pink')\n",
    "        T1.close() \n",
    "    \n",
    "    for T2file in T2files:\n",
    "        T2 = xr.open_dataset(T2path/T2file)\n",
    "        (T2.diatoms[:, 0, 0, 0]+T2.flagellates[:, 0, 0, 0]+T2.ciliates[:, 0, 0, 0]).plot(ax=ax, color='darkgreen')\n",
    "        T2.close() \n",
    "        \n",
    "    for T2file in T2Nfiles:\n",
    "        T2 = xr.open_dataset(T2path/T2file)\n",
    "        (T2.nitrate[:, 0, 0, 0]).plot(ax=ax2, color='lime')\n",
    "        T2.close() \n",
    "        \n",
    "    ax.set_xlim(startdate, enddate)\n",
    "    ax2.set_ylim(0, 2) \n",
    "    ax.grid(axis='x')\n",
    "    ax2.grid(axis='y')"
   ]
  },
  {
   "cell_type": "markdown",
   "metadata": {},
   "source": [
    "## 2015"
   ]
  },
  {
   "cell_type": "code",
   "execution_count": 5,
   "metadata": {},
   "outputs": [
    {
     "ename": "TypeError",
     "evalue": "chl_plot() missing 1 required positional argument: 'T2files'",
     "output_type": "error",
     "traceback": [
      "\u001b[0;31m---------------------------------------------------------------------------\u001b[0m",
      "\u001b[0;31mTypeError\u001b[0m                                 Traceback (most recent call last)",
      "\u001b[0;32m<ipython-input-5-1fe389dac7be>\u001b[0m in \u001b[0;36m<module>\u001b[0;34m\u001b[0m\n\u001b[1;32m      2\u001b[0m Tsfiles = ['01nov14/S3_201411-201411.nc', '01nov14/S3_201412-201412.nc', '01nov14/S3_201501-201501.nc', \n\u001b[1;32m      3\u001b[0m            '01nov14/S3_201502-201502.nc', '01nov14/S3_201503-201503.nc', '01nov14/S3_201504-201504.nc']\n\u001b[0;32m----> 4\u001b[0;31m \u001b[0mchl_plot\u001b[0m\u001b[0;34m(\u001b[0m\u001b[0mbasefiles\u001b[0m\u001b[0;34m,\u001b[0m \u001b[0mTsfiles\u001b[0m\u001b[0;34m,\u001b[0m \u001b[0mTsfiles\u001b[0m\u001b[0;34m)\u001b[0m\u001b[0;34m\u001b[0m\u001b[0;34m\u001b[0m\u001b[0m\n\u001b[0m",
      "\u001b[0;31mTypeError\u001b[0m: chl_plot() missing 1 required positional argument: 'T2files'"
     ]
    }
   ],
   "source": [
    "basefiles = ['novdec2014_base.pkl', 'janfeb2015_base.pkl', 'marapr2015_base.pkl']\n",
    "Tsfiles = ['01nov14/S3_201411-201411.nc', '01nov14/S3_201412-201412.nc', '01nov14/S3_201501-201501.nc', \n",
    "           '01nov14/S3_201502-201502.nc', '01nov14/S3_201503-201503.nc', '01nov14/S3_201504-201504.nc']\n",
    "chl_plot(basefiles, Tsfiles, Tsfiles)"
   ]
  },
  {
   "cell_type": "code",
   "execution_count": null,
   "metadata": {},
   "outputs": [],
   "source": [
    "bloom_timing(Tsfiles, Tsfiles, Tsfiles, Tsfiles, datetime.datetime(2015, 3, 1), datetime.datetime(2015, 3, 15))"
   ]
  },
  {
   "cell_type": "markdown",
   "metadata": {},
   "source": [
    "## 2016"
   ]
  },
  {
   "cell_type": "code",
   "execution_count": null,
   "metadata": {
    "scrolled": true
   },
   "outputs": [],
   "source": [
    "basefiles = ['nov2015_base.pkl', 'janfeb2016_base.pkl', 'marapr2016_T1.pkl']\n",
    "T1files = ['01nov15_secondtime/S3_201511-201511.nc', '01nov15_secondtime/S3_201512-201512.nc', \n",
    "           '01nov15_secondtime/S3_201601-201601.nc', '01nov15_secondtime/S3_201602-201602.nc',\n",
    "          '01mar16_secondtime/S3_201603-201603.nc', '01mar16_secondtime/S3_201604-201604.nc']\n",
    "T2files = ['01nov15/S3_201511-201511.nc', '01nov15/S3_201512-201512.nc', \n",
    "           '01nov15/S3_201601-201601.nc', '01nov15/S3_201602-201602.nc',\n",
    "          '01nov15/S3_201603-201603.nc', '01nov15/S3_201604-201604.nc']\n",
    "chl_plot(basefiles, T1files, T2files)"
   ]
  },
  {
   "cell_type": "code",
   "execution_count": null,
   "metadata": {},
   "outputs": [],
   "source": [
    "bloom_timing(T1files, T1files, T2files, T2files, datetime.datetime(2016, 3, 19), datetime.datetime(2016, 4, 2))"
   ]
  },
  {
   "cell_type": "markdown",
   "metadata": {},
   "source": [
    "## 2017"
   ]
  },
  {
   "cell_type": "code",
   "execution_count": null,
   "metadata": {},
   "outputs": [],
   "source": [
    "basefiles = ['nov2016_base.pkl', 'dec2016_base.pkl', 'jan2017_base.pkl', 'feb2017_base.pkl', 'mar2017_base.pkl',\n",
    "            'apr2017_base.pkl']\n",
    "T1files = ['01nov16/S3_201611-201611.nc', '01nov16/S3_201612-201612.nc', '01nov16/S3_201701-201701.nc', \n",
    "           '01nov16/S3_201702-201702.nc', '01nov16/S3_201703-201703.nc', '31mar17/S3_201703-201704.nc']\n",
    "T2files = ['01nov16/S3_201611-201611.nc', '01nov16/S3_201612-201612.nc', '01nov16/S3_201701-201701.nc', \n",
    "           '01nov16/S3_201702-201702.nc', '01nov16/S3_201703-201703.nc', '01nov16/S3_201704-201704.nc']\n",
    "chl_plot(basefiles, T1files, T2files)"
   ]
  },
  {
   "cell_type": "code",
   "execution_count": null,
   "metadata": {},
   "outputs": [],
   "source": [
    "bloom_timing(T1files, T1files, T2files, T2files, datetime.datetime(2017, 3, 18), datetime.datetime(2017, 4, 30))"
   ]
  },
  {
   "cell_type": "code",
   "execution_count": null,
   "metadata": {},
   "outputs": [],
   "source": [
    "fig, axs = plt.subplots(3, 1, figsize=(12, 10))\n",
    "basefiles = ['novdec2014_base.pkl', 'janfeb2015_base.pkl', 'marapr2015_base.pkl']\n",
    "Tsfiles = ['01nov14/S3_201411-201411.nc', '01nov14/S3_201412-201412.nc', '01nov14/S3_201501-201501.nc', \n",
    "           '01nov14/S3_201502-201502.nc', '01nov14/S3_201503-201503.nc', '01nov14/S3_201504-201504.nc']\n",
    "chl_plot(axs[0], basefiles, Tsfiles, Tsfiles)\n",
    "axs[0].text(datetime.datetime(2014, 11, 1), 8, '2015', fontsize=20)\n",
    "basefiles = ['nov2015_base.pkl', 'janfeb2016_base.pkl', 'marapr2016_T1.pkl']\n",
    "T1files = ['01nov15_secondtime/S3_201511-201511.nc', '01nov15_secondtime/S3_201512-201512.nc', \n",
    "           '01nov15_secondtime/S3_201601-201601.nc', '01nov15_secondtime/S3_201602-201602.nc',\n",
    "          '01mar16_secondtime/S3_201603-201603.nc', '01mar16_secondtime/S3_201604-201604.nc']\n",
    "T2files = ['01nov15/S3_201511-201511.nc', '01nov15/S3_201512-201512.nc', \n",
    "           '01nov15/S3_201601-201601.nc', '01nov15/S3_201602-201602.nc',\n",
    "          '01nov15/S3_201603-201603.nc', '01nov15/S3_201604-201604.nc']\n",
    "chl_plot(axs[1], basefiles, T1files, T2files)\n",
    "axs[1].text(datetime.datetime(2015, 11, 1), 8, '2016', fontsize=20)\n",
    "basefiles = ['nov2016_base.pkl', 'dec2016_base.pkl', 'jan2017_base.pkl', 'feb2017_base.pkl', 'mar2017_base.pkl',\n",
    "            'apr2017_base.pkl']\n",
    "T1files = ['01nov16/S3_201611-201611.nc', '01nov16/S3_201612-201612.nc', '01nov16/S3_201701-201701.nc', \n",
    "           '01nov16/S3_201702-201702.nc', '01nov16/S3_201703-201703.nc', '31mar17/S3_201703-201704.nc']\n",
    "T2files = ['01nov16/S3_201611-201611.nc', '01nov16/S3_201612-201612.nc', '01nov16/S3_201701-201701.nc', \n",
    "           '01nov16/S3_201702-201702.nc', '01nov16/S3_201703-201703.nc', '01nov16/S3_201704-201704.nc']\n",
    "chl_plot(axs[2], basefiles, T1files, T2files)\n",
    "axs[2].text(datetime.datetime(2016, 11, 1), 8, '2017', fontsize=20);"
   ]
  },
  {
   "cell_type": "markdown",
   "metadata": {},
   "source": [
    "## Chl Time Series at S3"
   ]
  },
  {
   "cell_type": "code",
   "execution_count": null,
   "metadata": {},
   "outputs": [],
   "source": []
  }
 ],
 "metadata": {
  "kernelspec": {
   "display_name": "Python 3",
   "language": "python",
   "name": "python3"
  },
  "language_info": {
   "codemirror_mode": {
    "name": "ipython",
    "version": 3
   },
   "file_extension": ".py",
   "mimetype": "text/x-python",
   "name": "python",
   "nbconvert_exporter": "python",
   "pygments_lexer": "ipython3",
   "version": "3.7.3"
  }
 },
 "nbformat": 4,
 "nbformat_minor": 2
}
