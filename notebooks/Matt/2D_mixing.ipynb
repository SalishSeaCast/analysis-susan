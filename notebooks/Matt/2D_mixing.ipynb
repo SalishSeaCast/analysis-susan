{
 "cells": [
  {
   "cell_type": "markdown",
   "metadata": {},
   "source": [
    "Jose Valenti's 2-D testing notebook with SEA swimming kernel added"
   ]
  },
  {
   "cell_type": "code",
   "execution_count": 1,
   "metadata": {},
   "outputs": [],
   "source": [
    "%matplotlib inline\n",
    "from parcels import Field, FieldSet, ParticleSet,Variable, JITParticle, ErrorCode\n",
    "import numpy as np\n",
    "import pandas as pd\n",
    "import matplotlib.pyplot as plt\n",
    "from matplotlib import rc, animation\n",
    "import xarray as xr\n",
    "from datetime import datetime\n",
    "import os\n",
    "\n",
    "from IPython.display import Image\n",
    "rc('animation', html='html5')"
   ]
  },
  {
   "cell_type": "code",
   "execution_count": 3,
   "metadata": {},
   "outputs": [],
   "source": [
    "def make_prefix(date, res='h'):\n",
    "    \"\"\"Construct path prefix for local SalishSeaCast results given date object and paths dict\n",
    "    e.g., /results2/SalishSea/nowcast-green.201905/daymonthyear/SalishSea_1h_yyyymmdd_yyyymmdd\n",
    "    \"\"\"\n",
    "    path = '/results2/SalishSea/nowcast-green.202111/'\n",
    "    datestr = '_'.join(np.repeat(date.strftime('%Y%m%d'), 2))\n",
    "    folder = date.strftime(\"%d%b%y\").lower()\n",
    "    prefix = os.path.join(path, f'{folder}/SalishSea_1{res}_{datestr}')\n",
    "    \n",
    "    return prefix"
   ]
  },
  {
   "cell_type": "code",
   "execution_count": 197,
   "metadata": {},
   "outputs": [],
   "source": [
    "#Pick hour,day and location.\n",
    "hour = 0\n",
    "path_NEMO = make_prefix(datetime(2018, 8, 1))\n",
    "lati = 49.224563\n",
    "loni = -123.605357\n",
    "jjii = xr.open_dataset('~/MEOPAR/grid/grid_from_lat_lon_mask999.nc')\n",
    "j = [jjii.jj.sel(lats=lati, lons=loni, method='nearest').item()][0]\n",
    "i = [jjii.ii.sel(lats=lati, lons=loni, method='nearest').item()][0]\n",
    "\n",
    "#Specify some simulation parameters\n",
    "T = 5e3 * 100 #s (run time)\n",
    "dt = 5 #s (timestep)\n",
    "N = 10e3 #number of particles\n",
    "outputdt = 500 #s (how often do you want output?)\n",
    "outputpath = '/data/sallen/results/MEOPAR/Parcels/Outputmix.zarr'"
   ]
  },
  {
   "cell_type": "code",
   "execution_count": 7,
   "metadata": {},
   "outputs": [],
   "source": [
    "def DeleteParticle(particle, fieldset, time):\n",
    "    \"\"\"Delete particle from OceanParcels simulation to avoid run failure\"\"\"\n",
    "    print(f'Particle {particle.id} lost !! [{particle.time}, {particle.depth}, {particle.lat}, {particle.lon}]')\n",
    "    particle.delete()"
   ]
  },
  {
   "cell_type": "code",
   "execution_count": 8,
   "metadata": {},
   "outputs": [],
   "source": [
    "#Load data from NEMO\n",
    "Wdat = xr.open_dataset(path_NEMO+'_grid_W.nc', decode_times=False)\n",
    "mbathy = xr.open_dataset('/ocean/jvalenti/MOAD/grid/mesh_mask202108.nc').mbathy[0,j,i].item()\n",
    "depth = np.array(Wdat.depthw[:mbathy+1]).astype('float32')\n",
    "Kz_col = np.array(Wdat.vert_eddy_diff[hour,:mbathy+1,j,i]).astype('float32')\n",
    "#Kz_col[0]=Kz_col[1]"
   ]
  },
  {
   "cell_type": "code",
   "execution_count": 9,
   "metadata": {},
   "outputs": [
    {
     "name": "stderr",
     "output_type": "stream",
     "text": [
      "/tmp/ipykernel_2241827/3686291716.py:6: RuntimeWarning: divide by zero encountered in divide\n",
      "  dtmax = np.min(1/abs(Kzp2))\n"
     ]
    },
    {
     "name": "stdout",
     "output_type": "stream",
     "text": [
      "Dt should be << 364.6658286739023\n"
     ]
    },
    {
     "data": {
      "image/png": "[encoded data removed]",
      "text/plain": [
       "<Figure size 640x480 with 1 Axes>"
      ]
     },
     "metadata": {},
     "output_type": "display_data"
    }
   ],
   "source": [
    "depth2 = np.arange(depth[0],depth[-1],1)\n",
    "Kz2 = np.interp(depth2, depth, Kz_col)\n",
    "plt.plot(Kz_col,-depth)\n",
    "Kzp = np.gradient(Kz2, depth2[1]-depth2[0])\n",
    "Kzp2 = np.gradient(Kzp, depth2[1]-depth2[0])\n",
    "dtmax = np.min(1/abs(Kzp2))\n",
    "print(f'Dt should be << {dtmax}')"
   ]
  },
  {
   "cell_type": "code",
   "execution_count": 10,
   "metadata": {},
   "outputs": [],
   "source": [
    "#Here you can define as many particle variables as you want specifying the initial values. In this case, I use the variable to set a constant.\n",
    "class MPParticle(JITParticle):\n",
    "    Kh = Variable('Kh', initial =  0.0) #If you want horizontal mixing activated change value here\n",
    "    bath = Variable('bath', initial= depth[-1])"
   ]
  },
  {
   "cell_type": "code",
   "execution_count": 11,
   "metadata": {},
   "outputs": [],
   "source": [
    "#Mixing Kernel\n",
    "def tu_mix(particle,fieldset,time):\n",
    "    bath= particle.bath #109.73707\n",
    "    if particle.depth+1 > bath: #Forward euler\n",
    "        Kzdz = (fieldset.Kz[time,particle.depth,particle.lat, particle.lon]-fieldset.Kz[time,particle.depth-1,particle.lat, particle.lon]) #forward difference \n",
    "    else:\n",
    "        Kzdz = (fieldset.Kz[time,particle.depth+1,particle.lat, particle.lon]-fieldset.Kz[time,particle.depth,particle.lat, particle.lon]) #backward difference \n",
    "    dgrad = Kzdz * particle.dt \n",
    "    if particle.depth+0.5*dgrad > 0 and particle.depth+0.5*dgrad < bath:\n",
    "        kk = fieldset.Kz[time,particle.depth+0.5*dgrad,particle.lat, particle.lon] #Vertical diffusivity SSC  \n",
    "    else:\n",
    "        kk = fieldset.Kz[time, bath,particle.lat, particle.lon] #Vertical diffusivity SSC \n",
    "    Kx = particle.Kh\n",
    "    Rr = ParcelsRandom.uniform(-1, 1)\n",
    "    Rr2 = ParcelsRandom.uniform(-1, 1)\n",
    "    d_random = sqrt(3*2*kk*particle.dt) * Rr\n",
    "    d_randomx = sqrt(3*2*Kx*particle.dt) * Rr2\n",
    "    Dlayerz = 0.5*sqrt(kk * particle.dt) #1m mixing layer\n",
    "    Dlayerx = 0.5*sqrt(Kx * particle.dt)\n",
    "    if particle.lon + d_randomx < 0:\n",
    "        particle.lon = Dlayerx * ParcelsRandom.uniform(0, 1)\n",
    "    elif particle.lon + d_randomx > 2e3:\n",
    "        particle.lon = 2e3 - Dlayerx * ParcelsRandom.uniform(0, 1)\n",
    "    else: \n",
    "        particle.lon=particle.lon + d_randomx\n",
    "    if d_random + dgrad +particle.depth > bath: #randomly in boundary mixed layer\n",
    "        particle.depth = bath - Dlayerz * ParcelsRandom.uniform(0, 1)\n",
    "    elif d_random +particle.depth +dgrad < 0:\n",
    "            particle.depth = Dlayerz * ParcelsRandom.uniform(0, 1) #Well mixed boundary layer\n",
    "    else:\n",
    "        particle.depth += d_random + dgrad "
   ]
  },
  {
   "cell_type": "code",
   "execution_count": 177,
   "metadata": {},
   "outputs": [],
   "source": [
    "#Swimming Kernel\n",
    "def tu_swim(particle, fieldset, time):\n",
    "    mbath = particle.bath\n",
    "    sink = 20e-3\n",
    "    swim = 32.5e-3\n",
    "    dt = 200 # how often they change direction\n",
    "    kappa = swim**2 * dt\n",
    "    eff_swim = sqrt(kappa / particle.dt)\n",
    "\n",
    "    upward = 1.05   # tendency to swim more upward than sink\n",
    "    zswim = (- particle.dt * (upward-1)*sink + particle.dt * \n",
    "             (eff_swim - upward*sink) * math.cos(ParcelsRandom.uniform(0, 2* math.pi)))\n",
    "    if particle.depth + zswim < 0:\n",
    "        particle.depth = 0\n",
    "    elif particle.depth + zswim > mbath:\n",
    "        particle.depth = mbath\n",
    "    else:\n",
    "        particle.depth += zswim"
   ]
  },
  {
   "cell_type": "code",
   "execution_count": 12,
   "metadata": {},
   "outputs": [],
   "source": [
    "#Define domain, velocity fields and Kz \n",
    "dim = 100\n",
    "dep = len(depth)\n",
    "lon = np.linspace(0., 2e3, dim, dtype=np.float32)\n",
    "\n",
    "#Build fieldsets for OP\n",
    "U = Field('U', np.zeros((dep, dim), dtype=np.float32), lon=lon, depth=depth)\n",
    "V = Field('V', np.zeros((dep, dim), dtype=np.float32), lon=lon, depth=depth)\n",
    "Kz_data = np.zeros((dep, dim), dtype=np.float32)\n",
    "for i in range(dim):\n",
    "    Kz_data[:,i]=Kz_col   \n",
    "Kz = Field('Kz', Kz_data, grid=U.grid)\n",
    "fieldset = FieldSet(U,V)\n",
    "fieldset.add_field(Kz)"
   ]
  },
  {
   "cell_type": "code",
   "execution_count": 198,
   "metadata": {},
   "outputs": [],
   "source": [
    "#Start with random distribution\n",
    "lon_g = np.random.uniform(low=lon[0], high=lon[-1], size=(int(N),))\n",
    "depth_g = np.random.uniform(low=depth[0], high=depth[-1], size=(int(N),))\n",
    "lat_g = np.zeros(int(N),)"
   ]
  },
  {
   "cell_type": "code",
   "execution_count": 25,
   "metadata": {},
   "outputs": [],
   "source": [
    "def run_turb_test(lon_g,depth_g):\n",
    "    pset = ParticleSet(fieldset, pclass=MPParticle, lon=lon_g, depth=depth_g,lat = lat_g)\n",
    "    output_file = pset.ParticleFile(name=outputpath, outputdt=outputdt)\n",
    "    KE = tu_swim + pset.Kernel(tu_mix) #if you want to add more kernels use:  KE = tu_mix + NAME_KERNEL1 + ...\n",
    "    pset.execute(KE , runtime=T, dt=dt, output_file=output_file,recovery={ErrorCode.ErrorOutOfBounds: DeleteParticle})"
   ]
  },
  {
   "cell_type": "code",
   "execution_count": 199,
   "metadata": {},
   "outputs": [
    {
     "name": "stderr",
     "output_type": "stream",
     "text": [
      "INFO: Compiled ArrayMPParticletu_swimtu_mix ==> /tmp/parcels-1052/lib7dd53cf8e44bc6db89bbe7833ecfd6c5_0.so\n",
      "INFO: Output files are stored in /data/sallen/results/MEOPAR/Parcels/Outputmix.zarr.\n",
      "100%|█████████████████████████████████████████████████████████████████████████████████████████████████████████████████| 500000.0/500000.0 [09:17<00:00, 897.33it/s]\n"
     ]
    }
   ],
   "source": [
    "run_turb_test(lon_g,depth_g)"
   ]
  },
  {
   "cell_type": "code",
   "execution_count": 200,
   "metadata": {},
   "outputs": [
    {
     "name": "stderr",
     "output_type": "stream",
     "text": [
      "/ocean/sallen/miniconda3/envs/py311_parcels/lib/python3.11/site-packages/xarray/backends/plugins.py:159: RuntimeWarning: 'netcdf4' fails while guessing\n",
      "  warnings.warn(f\"{engine!r} fails while guessing\", RuntimeWarning)\n",
      "/ocean/sallen/miniconda3/envs/py311_parcels/lib/python3.11/site-packages/xarray/backends/plugins.py:159: RuntimeWarning: 'scipy' fails while guessing\n",
      "  warnings.warn(f\"{engine!r} fails while guessing\", RuntimeWarning)\n"
     ]
    }
   ],
   "source": [
    "dat = xr.load_dataset('/data/sallen/results/MEOPAR/Parcels/Outputmix.zarr')"
   ]
  },
  {
   "cell_type": "code",
   "execution_count": 201,
   "metadata": {},
   "outputs": [
    {
     "data": {
      "text/plain": [
       "4317568"
      ]
     },
     "execution_count": 201,
     "metadata": {},
     "output_type": "execute_result"
    },
    {
     "data": {
      "image/png": "[encoded data removed]",
      "text/plain": [
       "<Figure size 640x480 with 1 Axes>"
      ]
     },
     "metadata": {},
     "output_type": "display_data"
    }
   ],
   "source": [
    "counts, bins = np.histogram(dat.z, bins = 10)\n",
    "plt.stairs(counts, bins)\n",
    "plt.grid()\n",
    "counts[0]"
   ]
  },
  {
   "cell_type": "code",
   "execution_count": 202,
   "metadata": {},
   "outputs": [
    {
     "data": {
      "text/plain": [
       "2038"
      ]
     },
     "execution_count": 202,
     "metadata": {},
     "output_type": "execute_result"
    },
    {
     "data": {
      "image/png": "[encoded data removed]",
      "text/plain": [
       "<Figure size 640x480 with 1 Axes>"
      ]
     },
     "metadata": {},
     "output_type": "display_data"
    }
   ],
   "source": [
    "counts, bins = np.histogram(dat.z[:, -1], bins = 38)\n",
    "plt.stairs(counts, bins)\n",
    "plt.grid()\n",
    "counts[0]"
   ]
  },
  {
   "cell_type": "code",
   "execution_count": 207,
   "metadata": {},
   "outputs": [
    {
     "data": {
      "image/png": "[encoded data removed]",
      "text/plain": [
       "<Figure size 640x480 with 1 Axes>"
      ]
     },
     "metadata": {},
     "output_type": "display_data"
    }
   ],
   "source": [
    "fig, ax = plt.subplots(1, 1)\n",
    "ax.hist(dat.z[:, 0], alpha=0.2, label='Start');\n",
    "ax.hist(dat.z[:, 250], alpha=0.2, label='1.2e5s');\n",
    "ax.hist(dat.z[:, 500], alpha=0.2, label='2.5e5s');\n",
    "ax.hist(dat.z[:, 750], alpha=0.2, label='3.8e5s');\n",
    "ax.hist(dat.z[:, 1000], alpha=0.2, label='5e5s');\n",
    "ax.legend();\n",
    "ax.set_xlabel('Depth (m)')\n",
    "ax.set_ylabel('Counts, 10000 total');"
   ]
  },
  {
   "cell_type": "code",
   "execution_count": 203,
   "metadata": {},
   "outputs": [
    {
     "data": {
      "text/html": [
       "<div><svg style=\"position: absolute; width: 0; height: 0; overflow: hidden\">\n",
       "<defs>\n",
       "<symbol id=\"icon-database\" viewBox=\"0 0 32 32\">\n",
       "<path d=\"M16 0c-8.837 0-16 2.239-16 5v4c0 2.761 7.163 5 16 5s16-2.239 16-5v-4c0-2.761-7.163-5-16-5z\"></path>\n",
       "<path d=\"M16 17c-8.837 0-16-2.239-16-5v6c0 2.761 7.163 5 16 5s16-2.239 16-5v-6c0 2.761-7.163 5-16 5z\"></path>\n",
       "<path d=\"M16 26c-8.837 0-16-2.239-16-5v6c0 2.761 7.163 5 16 5s16-2.239 16-5v-6c0 2.761-7.163 5-16 5z\"></path>\n",
       "</symbol>\n",
       "<symbol id=\"icon-file-text2\" viewBox=\"0 0 32 32\">\n",
       "<path d=\"M28.681 7.159c-0.694-0.947-1.662-2.053-2.724-3.116s-2.169-2.030-3.116-2.724c-1.612-1.182-2.393-1.319-2.841-1.319h-15.5c-1.378 0-2.5 1.121-2.5 2.5v27c0 1.378 1.122 2.5 2.5 2.5h23c1.378 0 2.5-1.122 2.5-2.5v-19.5c0-0.448-0.137-1.23-1.319-2.841zM24.543 5.457c0.959 0.959 1.712 1.825 2.268 2.543h-4.811v-4.811c0.718 0.556 1.584 1.309 2.543 2.268zM28 29.5c0 0.271-0.229 0.5-0.5 0.5h-23c-0.271 0-0.5-0.229-0.5-0.5v-27c0-0.271 0.229-0.5 0.5-0.5 0 0 15.499-0 15.5 0v7c0 0.552 0.448 1 1 1h7v19.5z\"></path>\n",
       "<path d=\"M23 26h-14c-0.552 0-1-0.448-1-1s0.448-1 1-1h14c0.552 0 1 0.448 1 1s-0.448 1-1 1z\"></path>\n",
       "<path d=\"M23 22h-14c-0.552 0-1-0.448-1-1s0.448-1 1-1h14c0.552 0 1 0.448 1 1s-0.448 1-1 1z\"></path>\n",
       "<path d=\"M23 18h-14c-0.552 0-1-0.448-1-1s0.448-1 1-1h14c0.552 0 1 0.448 1 1s-0.448 1-1 1z\"></path>\n",
       "</symbol>\n",
       "</defs>\n",
       "</svg>\n",
       "<style>/* CSS stylesheet for displaying xarray objects in jupyterlab.\n",
       " *\n",
       " */\n",
       "\n",
       ":root {\n",
       "  --xr-font-color0: var(--jp-content-font-color0, rgba(0, 0, 0, 1));\n",
       "  --xr-font-color2: var(--jp-content-font-color2, rgba(0, 0, 0, 0.54));\n",
       "  --xr-font-color3: var(--jp-content-font-color3, rgba(0, 0, 0, 0.38));\n",
       "  --xr-border-color: var(--jp-border-color2, #e0e0e0);\n",
       "  --xr-disabled-color: var(--jp-layout-color3, #bdbdbd);\n",
       "  --xr-background-color: var(--jp-layout-color0, white);\n",
       "  --xr-background-color-row-even: var(--jp-layout-color1, white);\n",
       "  --xr-background-color-row-odd: var(--jp-layout-color2, #eeeeee);\n",
       "}\n",
       "\n",
       "html[theme=dark],\n",
       "body[data-theme=dark],\n",
       "body.vscode-dark {\n",
       "  --xr-font-color0: rgba(255, 255, 255, 1);\n",
       "  --xr-font-color2: rgba(255, 255, 255, 0.54);\n",
       "  --xr-font-color3: rgba(255, 255, 255, 0.38);\n",
       "  --xr-border-color: #1F1F1F;\n",
       "  --xr-disabled-color: #515151;\n",
       "  --xr-background-color: #111111;\n",
       "  --xr-background-color-row-even: #111111;\n",
       "  --xr-background-color-row-odd: #313131;\n",
       "}\n",
       "\n",
       ".xr-wrap {\n",
       "  display: block !important;\n",
       "  min-width: 300px;\n",
       "  max-width: 700px;\n",
       "}\n",
       "\n",
       ".xr-text-repr-fallback {\n",
       "  /* fallback to plain text repr when CSS is not injected (untrusted notebook) */\n",
       "  display: none;\n",
       "}\n",
       "\n",
       ".xr-header {\n",
       "  padding-top: 6px;\n",
       "  padding-bottom: 6px;\n",
       "  margin-bottom: 4px;\n",
       "  border-bottom: solid 1px var(--xr-border-color);\n",
       "}\n",
       "\n",
       ".xr-header > div,\n",
       ".xr-header > ul {\n",
       "  display: inline;\n",
       "  margin-top: 0;\n",
       "  margin-bottom: 0;\n",
       "}\n",
       "\n",
       ".xr-obj-type,\n",
       ".xr-array-name {\n",
       "  margin-left: 2px;\n",
       "  margin-right: 10px;\n",
       "}\n",
       "\n",
       ".xr-obj-type {\n",
       "  color: var(--xr-font-color2);\n",
       "}\n",
       "\n",
       ".xr-sections {\n",
       "  padding-left: 0 !important;\n",
       "  display: grid;\n",
       "  grid-template-columns: 150px auto auto 1fr 20px 20px;\n",
       "}\n",
       "\n",
       ".xr-section-item {\n",
       "  display: contents;\n",
       "}\n",
       "\n",
       ".xr-section-item input {\n",
       "  display: none;\n",
       "}\n",
       "\n",
       ".xr-section-item input + label {\n",
       "  color: var(--xr-disabled-color);\n",
       "}\n",
       "\n",
       ".xr-section-item input:enabled + label {\n",
       "  cursor: pointer;\n",
       "  color: var(--xr-font-color2);\n",
       "}\n",
       "\n",
       ".xr-section-item input:enabled + label:hover {\n",
       "  color: var(--xr-font-color0);\n",
       "}\n",
       "\n",
       ".xr-section-summary {\n",
       "  grid-column: 1;\n",
       "  color: var(--xr-font-color2);\n",
       "  font-weight: 500;\n",
       "}\n",
       "\n",
       ".xr-section-summary > span {\n",
       "  display: inline-block;\n",
       "  padding-left: 0.5em;\n",
       "}\n",
       "\n",
       ".xr-section-summary-in:disabled + label {\n",
       "  color: var(--xr-font-color2);\n",
       "}\n",
       "\n",
       ".xr-section-summary-in + label:before {\n",
       "  display: inline-block;\n",
       "  content: '►';\n",
       "  font-size: 11px;\n",
       "  width: 15px;\n",
       "  text-align: center;\n",
       "}\n",
       "\n",
       ".xr-section-summary-in:disabled + label:before {\n",
       "  color: var(--xr-disabled-color);\n",
       "}\n",
       "\n",
       ".xr-section-summary-in:checked + label:before {\n",
       "  content: '▼';\n",
       "}\n",
       "\n",
       ".xr-section-summary-in:checked + label > span {\n",
       "  display: none;\n",
       "}\n",
       "\n",
       ".xr-section-summary,\n",
       ".xr-section-inline-details {\n",
       "  padding-top: 4px;\n",
       "  padding-bottom: 4px;\n",
       "}\n",
       "\n",
       ".xr-section-inline-details {\n",
       "  grid-column: 2 / -1;\n",
       "}\n",
       "\n",
       ".xr-section-details {\n",
       "  display: none;\n",
       "  grid-column: 1 / -1;\n",
       "  margin-bottom: 5px;\n",
       "}\n",
       "\n",
       ".xr-section-summary-in:checked ~ .xr-section-details {\n",
       "  display: contents;\n",
       "}\n",
       "\n",
       ".xr-array-wrap {\n",
       "  grid-column: 1 / -1;\n",
       "  display: grid;\n",
       "  grid-template-columns: 20px auto;\n",
       "}\n",
       "\n",
       ".xr-array-wrap > label {\n",
       "  grid-column: 1;\n",
       "  vertical-align: top;\n",
       "}\n",
       "\n",
       ".xr-preview {\n",
       "  color: var(--xr-font-color3);\n",
       "}\n",
       "\n",
       ".xr-array-preview,\n",
       ".xr-array-data {\n",
       "  padding: 0 5px !important;\n",
       "  grid-column: 2;\n",
       "}\n",
       "\n",
       ".xr-array-data,\n",
       ".xr-array-in:checked ~ .xr-array-preview {\n",
       "  display: none;\n",
       "}\n",
       "\n",
       ".xr-array-in:checked ~ .xr-array-data,\n",
       ".xr-array-preview {\n",
       "  display: inline-block;\n",
       "}\n",
       "\n",
       ".xr-dim-list {\n",
       "  display: inline-block !important;\n",
       "  list-style: none;\n",
       "  padding: 0 !important;\n",
       "  margin: 0;\n",
       "}\n",
       "\n",
       ".xr-dim-list li {\n",
       "  display: inline-block;\n",
       "  padding: 0;\n",
       "  margin: 0;\n",
       "}\n",
       "\n",
       ".xr-dim-list:before {\n",
       "  content: '(';\n",
       "}\n",
       "\n",
       ".xr-dim-list:after {\n",
       "  content: ')';\n",
       "}\n",
       "\n",
       ".xr-dim-list li:not(:last-child):after {\n",
       "  content: ',';\n",
       "  padding-right: 5px;\n",
       "}\n",
       "\n",
       ".xr-has-index {\n",
       "  font-weight: bold;\n",
       "}\n",
       "\n",
       ".xr-var-list,\n",
       ".xr-var-item {\n",
       "  display: contents;\n",
       "}\n",
       "\n",
       ".xr-var-item > div,\n",
       ".xr-var-item label,\n",
       ".xr-var-item > .xr-var-name span {\n",
       "  background-color: var(--xr-background-color-row-even);\n",
       "  margin-bottom: 0;\n",
       "}\n",
       "\n",
       ".xr-var-item > .xr-var-name:hover span {\n",
       "  padding-right: 5px;\n",
       "}\n",
       "\n",
       ".xr-var-list > li:nth-child(odd) > div,\n",
       ".xr-var-list > li:nth-child(odd) > label,\n",
       ".xr-var-list > li:nth-child(odd) > .xr-var-name span {\n",
       "  background-color: var(--xr-background-color-row-odd);\n",
       "}\n",
       "\n",
       ".xr-var-name {\n",
       "  grid-column: 1;\n",
       "}\n",
       "\n",
       ".xr-var-dims {\n",
       "  grid-column: 2;\n",
       "}\n",
       "\n",
       ".xr-var-dtype {\n",
       "  grid-column: 3;\n",
       "  text-align: right;\n",
       "  color: var(--xr-font-color2);\n",
       "}\n",
       "\n",
       ".xr-var-preview {\n",
       "  grid-column: 4;\n",
       "}\n",
       "\n",
       ".xr-index-preview {\n",
       "  grid-column: 2 / 5;\n",
       "  color: var(--xr-font-color2);\n",
       "}\n",
       "\n",
       ".xr-var-name,\n",
       ".xr-var-dims,\n",
       ".xr-var-dtype,\n",
       ".xr-preview,\n",
       ".xr-attrs dt {\n",
       "  white-space: nowrap;\n",
       "  overflow: hidden;\n",
       "  text-overflow: ellipsis;\n",
       "  padding-right: 10px;\n",
       "}\n",
       "\n",
       ".xr-var-name:hover,\n",
       ".xr-var-dims:hover,\n",
       ".xr-var-dtype:hover,\n",
       ".xr-attrs dt:hover {\n",
       "  overflow: visible;\n",
       "  width: auto;\n",
       "  z-index: 1;\n",
       "}\n",
       "\n",
       ".xr-var-attrs,\n",
       ".xr-var-data,\n",
       ".xr-index-data {\n",
       "  display: none;\n",
       "  background-color: var(--xr-background-color) !important;\n",
       "  padding-bottom: 5px !important;\n",
       "}\n",
       "\n",
       ".xr-var-attrs-in:checked ~ .xr-var-attrs,\n",
       ".xr-var-data-in:checked ~ .xr-var-data,\n",
       ".xr-index-data-in:checked ~ .xr-index-data {\n",
       "  display: block;\n",
       "}\n",
       "\n",
       ".xr-var-data > table {\n",
       "  float: right;\n",
       "}\n",
       "\n",
       ".xr-var-name span,\n",
       ".xr-var-data,\n",
       ".xr-index-name div,\n",
       ".xr-index-data,\n",
       ".xr-attrs {\n",
       "  padding-left: 25px !important;\n",
       "}\n",
       "\n",
       ".xr-attrs,\n",
       ".xr-var-attrs,\n",
       ".xr-var-data,\n",
       ".xr-index-data {\n",
       "  grid-column: 1 / -1;\n",
       "}\n",
       "\n",
       "dl.xr-attrs {\n",
       "  padding: 0;\n",
       "  margin: 0;\n",
       "  display: grid;\n",
       "  grid-template-columns: 125px auto;\n",
       "}\n",
       "\n",
       ".xr-attrs dt,\n",
       ".xr-attrs dd {\n",
       "  padding: 0;\n",
       "  margin: 0;\n",
       "  float: left;\n",
       "  padding-right: 10px;\n",
       "  width: auto;\n",
       "}\n",
       "\n",
       ".xr-attrs dt {\n",
       "  font-weight: normal;\n",
       "  grid-column: 1;\n",
       "}\n",
       "\n",
       ".xr-attrs dt:hover span {\n",
       "  display: inline-block;\n",
       "  background: var(--xr-background-color);\n",
       "  padding-right: 10px;\n",
       "}\n",
       "\n",
       ".xr-attrs dd {\n",
       "  grid-column: 2;\n",
       "  white-space: pre-wrap;\n",
       "  word-break: break-all;\n",
       "}\n",
       "\n",
       ".xr-icon-database,\n",
       ".xr-icon-file-text2,\n",
       ".xr-no-icon {\n",
       "  display: inline-block;\n",
       "  vertical-align: middle;\n",
       "  width: 1em;\n",
       "  height: 1.5em !important;\n",
       "  stroke-width: 0;\n",
       "  stroke: currentColor;\n",
       "  fill: currentColor;\n",
       "}\n",
       "</style><pre class='xr-text-repr-fallback'>&lt;xarray.DataArray &#x27;z&#x27; (trajectory: 10000, obs: 1001)&gt;\n",
       "array([[318.40012 , 322.81976 , 316.6718  , ...,  35.15516 ,  34.96169 ,\n",
       "         36.59638 ],\n",
       "       [308.2987  , 303.785   , 299.35007 , ...,  88.31035 , 104.21346 ,\n",
       "        104.53158 ],\n",
       "       [283.37183 , 284.9309  , 287.20145 , ...,  75.31794 ,  78.55005 ,\n",
       "         77.27778 ],\n",
       "       ...,\n",
       "       [ 39.582085,  39.44461 ,  38.477936, ...,  10.086257,  18.717882,\n",
       "         10.913623],\n",
       "       [262.08463 , 263.5026  , 272.3003  , ...,  41.190125,  30.105026,\n",
       "         26.925617],\n",
       "       [216.18736 , 209.55241 , 208.488   , ...,   8.928456,  15.020411,\n",
       "         19.468466]], dtype=float32)\n",
       "Coordinates:\n",
       "  * obs         (obs) int32 0 1 2 3 4 5 6 7 ... 993 994 995 996 997 998 999 1000\n",
       "  * trajectory  (trajectory) int64 370000 370001 370002 ... 379997 379998 379999\n",
       "Attributes:\n",
       "    long_name:      \n",
       "    positive:       down\n",
       "    standard_name:  depth\n",
       "    units:          m</pre><div class='xr-wrap' style='display:none'><div class='xr-header'><div class='xr-obj-type'>xarray.DataArray</div><div class='xr-array-name'>'z'</div><ul class='xr-dim-list'><li><span class='xr-has-index'>trajectory</span>: 10000</li><li><span class='xr-has-index'>obs</span>: 1001</li></ul></div><ul class='xr-sections'><li class='xr-section-item'><div class='xr-array-wrap'><input id='section-00a38a3b-178d-4e9e-a3f1-6225bdf97eb2' class='xr-array-in' type='checkbox' checked><label for='section-00a38a3b-178d-4e9e-a3f1-6225bdf97eb2' title='Show/hide data repr'><svg class='icon xr-icon-database'><use xlink:href='#icon-database'></use></svg></label><div class='xr-array-preview xr-preview'><span>318.4 322.8 316.7 325.8 335.0 329.9 ... 16.23 10.18 8.928 15.02 19.47</span></div><div class='xr-array-data'><pre>array([[318.40012 , 322.81976 , 316.6718  , ...,  35.15516 ,  34.96169 ,\n",
       "         36.59638 ],\n",
       "       [308.2987  , 303.785   , 299.35007 , ...,  88.31035 , 104.21346 ,\n",
       "        104.53158 ],\n",
       "       [283.37183 , 284.9309  , 287.20145 , ...,  75.31794 ,  78.55005 ,\n",
       "         77.27778 ],\n",
       "       ...,\n",
       "       [ 39.582085,  39.44461 ,  38.477936, ...,  10.086257,  18.717882,\n",
       "         10.913623],\n",
       "       [262.08463 , 263.5026  , 272.3003  , ...,  41.190125,  30.105026,\n",
       "         26.925617],\n",
       "       [216.18736 , 209.55241 , 208.488   , ...,   8.928456,  15.020411,\n",
       "         19.468466]], dtype=float32)</pre></div></div></li><li class='xr-section-item'><input id='section-06509b31-2163-45fc-8145-83830a516f69' class='xr-section-summary-in' type='checkbox'  checked><label for='section-06509b31-2163-45fc-8145-83830a516f69' class='xr-section-summary' >Coordinates: <span>(2)</span></label><div class='xr-section-inline-details'></div><div class='xr-section-details'><ul class='xr-var-list'><li class='xr-var-item'><div class='xr-var-name'><span class='xr-has-index'>obs</span></div><div class='xr-var-dims'>(obs)</div><div class='xr-var-dtype'>int32</div><div class='xr-var-preview xr-preview'>0 1 2 3 4 ... 996 997 998 999 1000</div><input id='attrs-c94a00e3-ba59-4916-8e1c-095c732c20fc' class='xr-var-attrs-in' type='checkbox' disabled><label for='attrs-c94a00e3-ba59-4916-8e1c-095c732c20fc' title='Show/Hide attributes'><svg class='icon xr-icon-file-text2'><use xlink:href='#icon-file-text2'></use></svg></label><input id='data-b117145c-9ad5-4b2c-8457-cb9013b4c4bf' class='xr-var-data-in' type='checkbox'><label for='data-b117145c-9ad5-4b2c-8457-cb9013b4c4bf' title='Show/Hide data repr'><svg class='icon xr-icon-database'><use xlink:href='#icon-database'></use></svg></label><div class='xr-var-attrs'><dl class='xr-attrs'></dl></div><div class='xr-var-data'><pre>array([   0,    1,    2, ...,  998,  999, 1000], dtype=int32)</pre></div></li><li class='xr-var-item'><div class='xr-var-name'><span class='xr-has-index'>trajectory</span></div><div class='xr-var-dims'>(trajectory)</div><div class='xr-var-dtype'>int64</div><div class='xr-var-preview xr-preview'>370000 370001 ... 379998 379999</div><input id='attrs-7d5b4a71-272b-47c3-94e6-05145d8da383' class='xr-var-attrs-in' type='checkbox' disabled><label for='attrs-7d5b4a71-272b-47c3-94e6-05145d8da383' title='Show/Hide attributes'><svg class='icon xr-icon-file-text2'><use xlink:href='#icon-file-text2'></use></svg></label><input id='data-154d3c33-9a6a-438d-abd0-72073b97a34a' class='xr-var-data-in' type='checkbox'><label for='data-154d3c33-9a6a-438d-abd0-72073b97a34a' title='Show/Hide data repr'><svg class='icon xr-icon-database'><use xlink:href='#icon-database'></use></svg></label><div class='xr-var-attrs'><dl class='xr-attrs'></dl></div><div class='xr-var-data'><pre>array([370000, 370001, 370002, ..., 379997, 379998, 379999])</pre></div></li></ul></div></li><li class='xr-section-item'><input id='section-c3e51791-6d4a-41a0-a81d-f3dd990abf18' class='xr-section-summary-in' type='checkbox'  ><label for='section-c3e51791-6d4a-41a0-a81d-f3dd990abf18' class='xr-section-summary' >Indexes: <span>(2)</span></label><div class='xr-section-inline-details'></div><div class='xr-section-details'><ul class='xr-var-list'><li class='xr-var-item'><div class='xr-index-name'><div>obs</div></div><div class='xr-index-preview'>PandasIndex</div><div></div><input id='index-acc2a1f0-518e-4329-ad41-dacc6807f20a' class='xr-index-data-in' type='checkbox'/><label for='index-acc2a1f0-518e-4329-ad41-dacc6807f20a' title='Show/Hide index repr'><svg class='icon xr-icon-database'><use xlink:href='#icon-database'></use></svg></label><div class='xr-index-data'><pre>PandasIndex(Index([   0,    1,    2,    3,    4,    5,    6,    7,    8,    9,\n",
       "       ...\n",
       "        991,  992,  993,  994,  995,  996,  997,  998,  999, 1000],\n",
       "      dtype=&#x27;int32&#x27;, name=&#x27;obs&#x27;, length=1001))</pre></div></li><li class='xr-var-item'><div class='xr-index-name'><div>trajectory</div></div><div class='xr-index-preview'>PandasIndex</div><div></div><input id='index-ab5176f0-d5a0-4cb9-afb0-3a1a927b77fa' class='xr-index-data-in' type='checkbox'/><label for='index-ab5176f0-d5a0-4cb9-afb0-3a1a927b77fa' title='Show/Hide index repr'><svg class='icon xr-icon-database'><use xlink:href='#icon-database'></use></svg></label><div class='xr-index-data'><pre>PandasIndex(Index([370000, 370001, 370002, 370003, 370004, 370005, 370006, 370007, 370008,\n",
       "       370009,\n",
       "       ...\n",
       "       379990, 379991, 379992, 379993, 379994, 379995, 379996, 379997, 379998,\n",
       "       379999],\n",
       "      dtype=&#x27;int64&#x27;, name=&#x27;trajectory&#x27;, length=10000))</pre></div></li></ul></div></li><li class='xr-section-item'><input id='section-c86800f2-7535-4526-b014-38eebb9ef530' class='xr-section-summary-in' type='checkbox'  checked><label for='section-c86800f2-7535-4526-b014-38eebb9ef530' class='xr-section-summary' >Attributes: <span>(4)</span></label><div class='xr-section-inline-details'></div><div class='xr-section-details'><dl class='xr-attrs'><dt><span>long_name :</span></dt><dd></dd><dt><span>positive :</span></dt><dd>down</dd><dt><span>standard_name :</span></dt><dd>depth</dd><dt><span>units :</span></dt><dd>m</dd></dl></div></li></ul></div></div>"
      ],
      "text/plain": [
       "<xarray.DataArray 'z' (trajectory: 10000, obs: 1001)>\n",
       "array([[318.40012 , 322.81976 , 316.6718  , ...,  35.15516 ,  34.96169 ,\n",
       "         36.59638 ],\n",
       "       [308.2987  , 303.785   , 299.35007 , ...,  88.31035 , 104.21346 ,\n",
       "        104.53158 ],\n",
       "       [283.37183 , 284.9309  , 287.20145 , ...,  75.31794 ,  78.55005 ,\n",
       "         77.27778 ],\n",
       "       ...,\n",
       "       [ 39.582085,  39.44461 ,  38.477936, ...,  10.086257,  18.717882,\n",
       "         10.913623],\n",
       "       [262.08463 , 263.5026  , 272.3003  , ...,  41.190125,  30.105026,\n",
       "         26.925617],\n",
       "       [216.18736 , 209.55241 , 208.488   , ...,   8.928456,  15.020411,\n",
       "         19.468466]], dtype=float32)\n",
       "Coordinates:\n",
       "  * obs         (obs) int32 0 1 2 3 4 5 6 7 ... 993 994 995 996 997 998 999 1000\n",
       "  * trajectory  (trajectory) int64 370000 370001 370002 ... 379997 379998 379999\n",
       "Attributes:\n",
       "    long_name:      \n",
       "    positive:       down\n",
       "    standard_name:  depth\n",
       "    units:          m"
      ]
     },
     "execution_count": 203,
     "metadata": {},
     "output_type": "execute_result"
    }
   ],
   "source": [
    "dat.z"
   ]
  },
  {
   "cell_type": "code",
   "execution_count": 185,
   "metadata": {},
   "outputs": [
    {
     "data": {
      "text/plain": [
       "125.0"
      ]
     },
     "execution_count": 185,
     "metadata": {},
     "output_type": "execute_result"
    }
   ],
   "source": [
    "50*2.5"
   ]
  },
  {
   "cell_type": "code",
   "execution_count": null,
   "metadata": {},
   "outputs": [],
   "source": []
  },
  {
   "cell_type": "code",
   "execution_count": null,
   "metadata": {},
   "outputs": [],
   "source": []
  },
  {
   "cell_type": "code",
   "execution_count": null,
   "metadata": {},
   "outputs": [],
   "source": []
  }
 ],
 "metadata": {
  "kernelspec": {
   "display_name": "Python 3 (ipykernel)",
   "language": "python",
   "name": "python3"
  },
  "language_info": {
   "codemirror_mode": {
    "name": "ipython",
    "version": 3
   },
   "file_extension": ".py",
   "mimetype": "text/x-python",
   "name": "python",
   "nbconvert_exporter": "python",
   "pygments_lexer": "ipython3",
   "version": "3.11.4"
  },
  "vscode": {
   "interpreter": {
    "hash": "5231541ec7da1806fd4dd02418819151069191aae488b983f94d003ad3b768ff"
   }
  }
 },
 "nbformat": 4,
 "nbformat_minor": 4
}
