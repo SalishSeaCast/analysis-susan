{
 "cells": [
  {
   "cell_type": "markdown",
   "metadata": {},
   "source": [
    "Check the rivers and move if necessary"
   ]
  },
  {
   "cell_type": "code",
   "execution_count": 13,
   "metadata": {
    "collapsed": true
   },
   "outputs": [],
   "source": [
    "import cmocean.cm as cm\n",
    "import matplotlib.pyplot as plt\n",
    "import netCDF4 as nc\n",
    "import numpy as np\n",
    "\n",
    "from salishsea_tools import geo_tools\n",
    "\n",
    "%matplotlib inline"
   ]
  },
  {
   "cell_type": "markdown",
   "metadata": {},
   "source": [
    "### Open the Files"
   ]
  },
  {
   "cell_type": "code",
   "execution_count": 2,
   "metadata": {
    "collapsed": false
   },
   "outputs": [],
   "source": [
    "old_rivers_file = nc.Dataset('/ocean/sallen/allen/research/MEOPAR/NEMO-forcing/rivers/rivers_month_allArms.nc')\n",
    "old_runoff = old_rivers_file.variables['rorunoff'][0]\n",
    "old_rivers_file.close()"
   ]
  },
  {
   "cell_type": "code",
   "execution_count": 23,
   "metadata": {
    "collapsed": true
   },
   "outputs": [],
   "source": [
    "bathy_file = nc.Dataset('/ocean/sallen/allen/research/MEOPAR/NEMO-forcing/grid/bathymetry_201702.nc')\n",
    "bathy = bathy_file.variables['Bathymetry'][:]\n",
    "model_lats = bathy_file.variables['nav_lat'][:]\n",
    "model_lons = bathy_file.variables['nav_lon'][:]\n",
    "bathy_file.close()"
   ]
  },
  {
   "cell_type": "code",
   "execution_count": 14,
   "metadata": {
    "collapsed": true
   },
   "outputs": [],
   "source": [
    "oldbathy_file = nc.Dataset('/ocean/sallen/allen/research/MEOPAR/NEMO-forcing/grid/bathy_downonegrid2.nc')\n",
    "oldbathy = oldbathy_file.variables['Bathymetry'][:]\n",
    "\n",
    "oldbathy_file.close()"
   ]
  },
  {
   "cell_type": "markdown",
   "metadata": {},
   "source": [
    "### Set up the Plotting"
   ]
  },
  {
   "cell_type": "code",
   "execution_count": 5,
   "metadata": {
    "collapsed": false
   },
   "outputs": [
    {
     "name": "stdout",
     "output_type": "stream",
     "text": [
      "161\n",
      "New  10 195 -- 0.582787\n",
      "New  48 197 -- 0.0220814\n",
      "New  60 149 -- 0.0222095\n",
      "New  64 153 -- 0.0222076\n",
      "New  68 210 -- 0.0497651\n",
      "New  73 149 -- 0.0222318\n",
      "New  74 153 -- 0.0444505\n",
      "New  75 103 -- 0.119175\n",
      "New  88 246 -- 0.295163\n",
      "New  95 118 -- 0.00595015\n",
      "New  113 174 -- 0.0111315\n",
      "New  119 167 -- 0.0415882\n",
      "New  124 177 -- 0.0594151\n",
      "New  137 215 -- 0.0148588\n",
      "New  143 318 -- 1.63944\n",
      "New  146 199 -- 0.104134\n",
      "New  149 208 -- 0.0148792\n",
      "New  182 219 -- 0.0746571\n",
      "New  185 240 -- 0.0597553\n",
      "New  199 202 -- 0.0149556\n",
      "New  345 35 -- 0.14701\n",
      "New  348 31 -- 0.0734996\n",
      "New  362 357 -- 0.00769356\n",
      "New  500 395 -- 8.10384\n",
      "New  541 175 -- 0.135782\n",
      "New  563 150 -- 0.135851\n",
      "New  578 137 -- 0.054376\n",
      "New  617 120 -- 0.0409057\n",
      "New  648 121 -- 0.0273798\n",
      "New  705 122 -- 0.16658\n",
      "New  749 123 -- 0.338642\n",
      "New  770 117 -- 0.0640528\n",
      "New  839 107 -- 0.00553165\n",
      "New  844 93 -- 0.00458729\n",
      "New  848 87 -- 0.00640779\n",
      "New  891 45 -- 0.00446882\n",
      "New  897 294 -- 0.633499\n",
      "124\n",
      "on the south boundary [137] [ 0.44179672]\n",
      "on the west boundary [] []\n",
      "on the north boundary [294] [ 0.]\n",
      "on the east boundary [] []\n"
     ]
    },
    {
     "name": "stderr",
     "output_type": "stream",
     "text": [
      "/home/sallen/anaconda/envs/py3/lib/python3.5/site-packages/ipykernel/__main__.py:17: VisibleDeprecationWarning: boolean index did not match indexed array along dimension 0; dimension is 898 but corresponding boolean dimension is 161\n",
      "/home/sallen/anaconda/envs/py3/lib/python3.5/site-packages/ipykernel/__main__.py:18: VisibleDeprecationWarning: boolean index did not match indexed array along dimension 1; dimension is 398 but corresponding boolean dimension is 161\n",
      "/home/sallen/anaconda/envs/py3/lib/python3.5/site-packages/ipykernel/__main__.py:19: VisibleDeprecationWarning: boolean index did not match indexed array along dimension 0; dimension is 898 but corresponding boolean dimension is 161\n",
      "/home/sallen/anaconda/envs/py3/lib/python3.5/site-packages/ipykernel/__main__.py:20: VisibleDeprecationWarning: boolean index did not match indexed array along dimension 1; dimension is 398 but corresponding boolean dimension is 161\n"
     ]
    }
   ],
   "source": [
    "# check bathymetry\n",
    "count = 0\n",
    "ii, jj = np.where(old_runoff > 0.)\n",
    "for i, j in zip(ii, jj):\n",
    "    if oldbathy[i, j] >= 4:\n",
    "        count += 1\n",
    "    else:\n",
    "        print ('Old ', i, j, oldbathy[i, j])\n",
    "print (count)\n",
    "count = 0\n",
    "for i, j in zip(ii, jj):\n",
    "    if bathy[i, j] >= 4:\n",
    "        count += 1\n",
    "    else:\n",
    "        print ('New ',i, j, bathy[i, j], old_runoff[i, j])\n",
    "print (count)\n",
    "print (\"on the south boundary\", jj[ii == 0], old_runoff[ii == 0, jj[ii == 0]])\n",
    "print (\"on the west boundary\", ii[jj == 0], old_runoff[ii[jj == 0], jj== 0])\n",
    "print (\"on the north boundary\", jj[ii == 897], old_runoff[ii == 897, jj[ii == 897]])\n",
    "print (\"on the east boundary\", ii[jj == 397], old_runoff[ii[jj == 397], jj== 397])"
   ]
  },
  {
   "cell_type": "code",
   "execution_count": 6,
   "metadata": {
    "collapsed": false
   },
   "outputs": [],
   "source": [
    "cmap = cm.deep\n",
    "cmap.set_bad('darkgreen')"
   ]
  },
  {
   "cell_type": "code",
   "execution_count": 33,
   "metadata": {
    "collapsed": false
   },
   "outputs": [
    {
     "data": {
      "text/plain": [
       "[<matplotlib.lines.Line2D at 0x7f9f117e66d8>]"
      ]
     },
     "execution_count": 33,
     "metadata": {},
     "output_type": "execute_result"
    },
    {
     "data": {
      "image/png": "[encoded data removed]",
      "text/plain": [
       "<matplotlib.figure.Figure at 0x7f9f10352710>"
      ]
     },
     "metadata": {},
     "output_type": "display_data"
    }
   ],
   "source": [
    "fig, axs = plt.subplots(1, 2, figsize=(10, 5))\n",
    "imin = 120; jmin = 280\n",
    "di = 100; dj = 100\n",
    "axs[0].pcolormesh(oldbathy, cmap=cmap)\n",
    "axs[0].set_xlim((jmin, jmin+dj))\n",
    "axs[0].set_ylim((imin, imin+di))\n",
    "#for i in range(imin, imin+di):\n",
    "#    for j in range(jmin, jmin+dj):\n",
    "#        if old_runoff[i, j] > 0:\n",
    "#            axs[0].plot(j+0.5, i+0.5, 'r*')\n",
    "axs[1].plot(Y+0.5, X+0.5, 'o')\n",
    "axs[1].pcolormesh(bathy, cmap=cmap)\n",
    "axs[1].set_xlim((jmin, jmin+dj))\n",
    "axs[1].set_ylim((imin, imin+di))\n",
    "for i in range(imin, imin+di):\n",
    "    for j in range(jmin, jmin+dj):\n",
    "        if old_runoff[i, j] > 0:\n",
    "            axs[1].plot(j+0.5, i+0.5, 'r*')\n",
    "axs[1].plot(298-2+0.5, 636-1+0.5, 'yx')"
   ]
  },
  {
   "cell_type": "code",
   "execution_count": 32,
   "metadata": {
    "collapsed": false
   },
   "outputs": [
    {
     "name": "stdout",
     "output_type": "stream",
     "text": [
      "147 315\n"
     ]
    }
   ],
   "source": [
    "X, Y =geo_tools.find_closest_model_point(lat=48.03663, lon=-122.24222, \n",
    "                                   model_lats=model_lats, model_lons=model_lons)\n",
    "print (X, Y)"
   ]
  },
  {
   "cell_type": "code",
   "execution_count": 8,
   "metadata": {
    "collapsed": false
   },
   "outputs": [
    {
     "ename": "SyntaxError",
     "evalue": "invalid syntax (<ipython-input-8-65176d3946ee>, line 2)",
     "output_type": "error",
     "traceback": [
      "\u001b[0;36m  File \u001b[0;32m\"<ipython-input-8-65176d3946ee>\"\u001b[0;36m, line \u001b[0;32m2\u001b[0m\n\u001b[0;31m    'DeerJohnsGoldboroughMillSkookumKennedySchneider': {\u001b[0m\n\u001b[0m                                                     ^\u001b[0m\n\u001b[0;31mSyntaxError\u001b[0m\u001b[0;31m:\u001b[0m invalid syntax\n"
     ]
    }
   ],
   "source": [
    "# Need Splitting:\n",
    "'DeerJohnsGoldboroughMillSkookumKennedySchneider': {\n",
    "                'prop': 0.375 * WRIA14, 'i': 47, 'j': 130, 'di': 1, 'dj': 1, 'depth': 3,\n",
    "            },\n",
    "            'DeerJohnsGoldboroughMillSkookumKennedySchneiderPerry': {\n",
    "                'prop': 0.475 * WRIA14, 'i': 20, 'j': 120, 'di': 1, 'dj': 1, 'depth': 3,\n",
    "            },\n",
    "            'McClaneDeschutesWoodwardWoodland': {\n",
    "                'prop': 1.0 * WRIA13, 'i': 22, 'j': 121, 'di': 1, 'dj': 1, 'depth': 3,\n",
    "            },\n"
   ]
  },
  {
   "cell_type": "code",
   "execution_count": null,
   "metadata": {
    "collapsed": true
   },
   "outputs": [],
   "source": []
  }
 ],
 "metadata": {
  "anaconda-cloud": {},
  "kernelspec": {
   "display_name": "Python [conda env:py3]",
   "language": "python",
   "name": "conda-env-py3-py"
  },
  "language_info": {
   "codemirror_mode": {
    "name": "ipython",
    "version": 3
   },
   "file_extension": ".py",
   "mimetype": "text/x-python",
   "name": "python",
   "nbconvert_exporter": "python",
   "pygments_lexer": "ipython3",
   "version": "3.5.2"
  }
 },
 "nbformat": 4,
 "nbformat_minor": 2
}
