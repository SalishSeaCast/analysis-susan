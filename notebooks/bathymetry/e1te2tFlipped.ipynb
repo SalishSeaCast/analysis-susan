{
 "cells": [
  {
   "cell_type": "markdown",
   "metadata": {},
   "source": [
    "## Test Michael's Assertion that e1t and e2t are flipped"
   ]
  },
  {
   "cell_type": "code",
   "execution_count": 1,
   "metadata": {
    "collapsed": true
   },
   "outputs": [],
   "source": [
    "import netCDF4 as nc\n",
    "from salishsea_tools import geo_tools"
   ]
  },
  {
   "cell_type": "code",
   "execution_count": 2,
   "metadata": {
    "collapsed": true
   },
   "outputs": [],
   "source": [
    "mesh_grid = nc.Dataset('/ocean/sallen/allen/research/MEOPAR/NEMO-forcing/grid/mesh_mask_downbyone2.nc') \n",
    "mesh_bathy = nc.Dataset('/ocean/sallen/allen/research/MEOPAR/NEMO-forcing/grid/bathy_downonegrid2.nc')"
   ]
  },
  {
   "cell_type": "code",
   "execution_count": 3,
   "metadata": {
    "collapsed": true
   },
   "outputs": [],
   "source": [
    "mesh_lat = mesh_grid.variables['nav_lat'][:]\n",
    "mesh_lon = mesh_grid.variables['nav_lon'][:]\n",
    "e1t = mesh_grid.variables['e1t'][:]\n",
    "e2t = mesh_grid.variables['e2t'][:]"
   ]
  },
  {
   "cell_type": "code",
   "execution_count": 4,
   "metadata": {
    "collapsed": false
   },
   "outputs": [],
   "source": [
    "bathy_lat = mesh_bathy.variables['nav_lat'][:]\n",
    "bathy_lon = mesh_bathy.variables['nav_lon'][:]"
   ]
  },
  {
   "cell_type": "code",
   "execution_count": 5,
   "metadata": {
    "collapsed": true
   },
   "outputs": [],
   "source": [
    "mesh_grid.close()\n",
    "mesh_bathy.close()"
   ]
  },
  {
   "cell_type": "code",
   "execution_count": 6,
   "metadata": {
    "collapsed": false
   },
   "outputs": [
    {
     "name": "stdout",
     "output_type": "stream",
     "text": [
      "From mesh 48.6629  N  123.346 W\n",
      "From bathy 48.6628608704 N 123.346435547 W\n"
     ]
    }
   ],
   "source": [
    "ii = 345; jj=231  # a random point\n",
    "print ('From mesh', mesh_lat[ii, jj], ' N ', -mesh_lon[ii, jj], 'W')\n",
    "print ('From bathy', bathy_lat[ii, jj], 'N', -bathy_lon[ii, jj], 'W')"
   ]
  },
  {
   "cell_type": "code",
   "execution_count": 7,
   "metadata": {
    "collapsed": false
   },
   "outputs": [
    {
     "name": "stdout",
     "output_type": "stream",
     "text": [
      "Grid Size e1t 503.18632932\n",
      "Grid Size from long/lat 437.825221915\n"
     ]
    }
   ],
   "source": [
    "print ('Grid Size e1t', e1t[0, ii,jj])\n",
    "print ('Grid Size from long/lat', geo_tools.haversine(mesh_lon[ii, jj], mesh_lat[ii, jj],\n",
    "                                                     mesh_lon[ii, jj+1], mesh_lat[ii, jj+1])*1000.)"
   ]
  },
  {
   "cell_type": "code",
   "execution_count": 8,
   "metadata": {
    "collapsed": false
   },
   "outputs": [
    {
     "name": "stdout",
     "output_type": "stream",
     "text": [
      "Grid Size e2t 437.266355617\n",
      "Grid Size from long/lat 502.633189601\n"
     ]
    }
   ],
   "source": [
    "print ('Grid Size e2t', e2t[0, ii,jj])\n",
    "print ('Grid Size from long/lat', geo_tools.haversine(mesh_lon[ii, jj], mesh_lat[ii, jj],\n",
    "                                                     mesh_lon[ii+1, jj], mesh_lat[ii+1, jj])*1000.)"
   ]
  },
  {
   "cell_type": "markdown",
   "metadata": {},
   "source": [
    "## Conclusion:\n",
    "Indeed e1t and e2t are flipped.  Also our haversine or NEMO's calculation is only good to 3 sig figs"
   ]
  }
 ],
 "metadata": {
  "anaconda-cloud": {},
  "kernelspec": {
   "display_name": "Python [conda env:py3]",
   "language": "python",
   "name": "conda-env-py3-py"
  },
  "language_info": {
   "codemirror_mode": {
    "name": "ipython",
    "version": 3
   },
   "file_extension": ".py",
   "mimetype": "text/x-python",
   "name": "python",
   "nbconvert_exporter": "python",
   "pygments_lexer": "ipython3",
   "version": "3.5.2"
  }
 },
 "nbformat": 4,
 "nbformat_minor": 2
}
