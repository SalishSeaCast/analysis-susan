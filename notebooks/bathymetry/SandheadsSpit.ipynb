{
 "cells": [
  {
   "cell_type": "markdown",
   "metadata": {},
   "source": [
    "# Variable Bottom Friction to Represent Sandheads Spit"
   ]
  },
  {
   "cell_type": "code",
   "execution_count": 91,
   "metadata": {
    "collapsed": true
   },
   "outputs": [],
   "source": [
    "import matplotlib.pyplot as plt\n",
    "import netCDF4 as nc\n",
    "import numpy as np\n",
    "\n",
    "from salishsea_tools import bathy_tools\n",
    "from salishsea_tools import nc_tools\n",
    "\n",
    "%matplotlib inline"
   ]
  },
  {
   "cell_type": "code",
   "execution_count": 17,
   "metadata": {
    "collapsed": false
   },
   "outputs": [],
   "source": [
    "# import bathymetry with and without the jetty\n",
    "bathy6 = nc.Dataset('/ocean/sallen/allen/research/MEOPAR/nemo-forcing/grid/bathy_meter_SalishSea6.nc')\n",
    "bathy9 = nc.Dataset('/ocean/sallen/allen/research/MEOPAR/nemo-forcing/grid/bathy_meter_SalishSea10.nc')\n",
    "depth6 = bathy6.variables['Bathymetry'][:]\n",
    "depth9 = bathy9.variables['Bathymetry'][:]"
   ]
  },
  {
   "cell_type": "code",
   "execution_count": 56,
   "metadata": {
    "collapsed": false
   },
   "outputs": [
    {
     "name": "stdout",
     "output_type": "stream",
     "text": [
      "(22,) (22,)\n",
      "[295 296 297 298 299 300 301 302 303 304 305 306 307 307 308 308 309 309\n",
      " 310 310 311 312]\n"
     ]
    },
    {
     "data": {
      "text/plain": [
       "[<matplotlib.lines.Line2D at 0x7f28d5ee3860>]"
      ]
     },
     "execution_count": 56,
     "metadata": {},
     "output_type": "execute_result"
    },
    {
     "data": {
      "image/png": "[encoded data removed]",
      "text/plain": [
       "<matplotlib.figure.Figure at 0x7f28d6354940>"
      ]
     },
     "metadata": {},
     "output_type": "display_data"
    }
   ],
   "source": [
    "fig, ax = plt.subplots(1, 3, figsize=(15, 4))\n",
    "cmap = 'spectral'\n",
    "ax[0].pcolormesh(depth6, cmap=cmap, vmax=20)\n",
    "ax[1].pcolormesh(depth9, cmap=cmap, vmax=20)\n",
    "ax[2].pcolormesh(depth6-depth9, cmap='viridis')\n",
    "for axi in ax:\n",
    "    axi.set_ylim((420, 430))\n",
    "    axi.set_xlim((292, 315))\n",
    "x = np.arange(295, 308)\n",
    "y = np.ones(13)*428\n",
    "x = np.append(x, (307, 308))\n",
    "y = np.append(y, (427, 427))\n",
    "x = np.append(x, (308, 309))\n",
    "y = np.append(y, (426, 426))\n",
    "x = np.append(x, (309, 310))\n",
    "y = np.append(y, (425, 425))\n",
    "x = np.append(x, (310, 311, 312))\n",
    "y = np.append(y, (424, 424, 424))\n",
    "print (x.shape, y.shape)\n",
    "print (x)\n",
    "ax[2].plot(x+0.5, y+0.5, 'oy')\n",
    "ax[2].plot(x+0.5, y, 'rs')\n",
    "ax[2].plot(x+0.5, y+1, 'rs')\n",
    "ax[2].plot(x, y+0.5, 'gs')\n",
    "ax[2].plot(x+1, y+0.5, 'gs')\n",
    "ax[2].plot(x[:13]+0.5, y[:13]+1, 'k*')\n",
    "ax[2].plot(x[12]+1, y[12]+0.5, 'k*')\n",
    "ax[2].plot(x[14]+0.5, y[14]+1, 'k*')\n",
    "ax[2].plot(x[14]+1, y[14]+0.5, 'k*')\n",
    "ax[2].plot(x[16]+0.5, y[16]+1, 'k*')\n",
    "ax[2].plot(x[16]+1, y[16]+0.5, 'k*')\n",
    "ax[2].plot(x[18]+0.5, y[18]+1, 'k*')\n",
    "ax[2].plot(x[18]+1, y[18]+0.5, 'k*')\n",
    "ax[2].plot(x[20:22]+0.5, y[20:22]+1, 'k*')\n"
   ]
  },
  {
   "cell_type": "code",
   "execution_count": 64,
   "metadata": {
    "collapsed": false
   },
   "outputs": [
    {
     "name": "stdout",
     "output_type": "stream",
     "text": [
      "(22,) (22,)\n",
      "[295 296 297 298 299 300 301 302 303 304 305 306 307 307 308 308 309 309\n",
      " 310 310 311 312]\n"
     ]
    },
    {
     "data": {
      "text/plain": [
       "<matplotlib.colorbar.Colorbar at 0x7f28d5991828>"
      ]
     },
     "execution_count": 64,
     "metadata": {},
     "output_type": "execute_result"
    },
    {
     "data": {
      "image/png": "[encoded data removed]",
      "text/plain": [
       "<matplotlib.figure.Figure at 0x7f28d5a63358>"
      ]
     },
     "metadata": {},
     "output_type": "display_data"
    }
   ],
   "source": [
    "fig, ax = plt.subplots(1, 1, figsize=(15, 7))\n",
    "mesh = ax.pcolormesh(depth9, cmap='viridis', vmax=20)\n",
    "ax.set_ylim((420, 430))\n",
    "ax.set_xlim((292, 315))\n",
    "x = np.arange(295, 308)\n",
    "y = np.ones(13)*428\n",
    "x = np.append(x, (307, 308))\n",
    "y = np.append(y, (427, 427))\n",
    "x = np.append(x, (308, 309))\n",
    "y = np.append(y, (426, 426))\n",
    "x = np.append(x, (309, 310))\n",
    "y = np.append(y, (425, 425))\n",
    "x = np.append(x, (310, 311, 312))\n",
    "y = np.append(y, (424, 424, 424))\n",
    "print (x.shape, y.shape)\n",
    "print (x)\n",
    "ax.plot(x+0.5, y+0.5, 'oy')\n",
    "ax.plot(x+0.5, y, 'rs')\n",
    "ax.plot(x+0.5, y+1, 'rs')\n",
    "ax.plot(x, y+0.5, 'gs')\n",
    "ax.plot(x+1, y+0.5, 'gs')\n",
    "ax.plot(x[:13]+0.5, y[:13]+1, 'k*')\n",
    "ax.plot(x[12]+1, y[12]+0.5, 'k*')\n",
    "ax.plot(x[14]+0.5, y[14]+1, 'k*')\n",
    "ax.plot(x[14]+1, y[14]+0.5, 'k*')\n",
    "ax.plot(x[16]+0.5, y[16]+1, 'k*')\n",
    "ax.plot(x[16]+1, y[16]+0.5, 'k*')\n",
    "ax.plot(x[18]+0.5, y[18]+1, 'k*')\n",
    "ax.plot(x[18]+1, y[18]+0.5, 'k*')\n",
    "ax.plot(x[20:22]+0.5, y[20:22]+1, 'k*')\n",
    "fig.colorbar(mesh)"
   ]
  },
  {
   "cell_type": "code",
   "execution_count": 65,
   "metadata": {
    "collapsed": true
   },
   "outputs": [],
   "source": [
    "dbyone = nc.Dataset('/ocean/sallen/allen/research/MEOPAR/nemo-forcing/grid/bathy_downonegrid.nc')\n",
    "mydepth = dbyone.variables['Bathymetry'][:]"
   ]
  },
  {
   "cell_type": "code",
   "execution_count": 76,
   "metadata": {
    "collapsed": false
   },
   "outputs": [
    {
     "data": {
      "text/plain": [
       "<matplotlib.colorbar.Colorbar at 0x7f28d53ce3c8>"
      ]
     },
     "execution_count": 76,
     "metadata": {},
     "output_type": "execute_result"
    },
    {
     "data": {
      "image/png": "[encoded data removed]",
      "text/plain": [
       "<matplotlib.figure.Figure at 0x7f28d55c7588>"
      ]
     },
     "metadata": {},
     "output_type": "display_data"
    }
   ],
   "source": [
    "fig, ax = plt.subplots(1, 1, figsize=(15, 7))\n",
    "mesh = ax.pcolormesh(mydepth, cmap='copper', vmin=4, vmax=12)\n",
    "ax.set_ylim((420, 430))\n",
    "ax.set_xlim((292, 315))\n",
    "fig.colorbar(mesh)"
   ]
  },
  {
   "cell_type": "code",
   "execution_count": 105,
   "metadata": {
    "collapsed": false
   },
   "outputs": [
    {
     "data": {
      "text/plain": [
       "<matplotlib.colorbar.Colorbar at 0x7f28d4cbf8d0>"
      ]
     },
     "execution_count": 105,
     "metadata": {},
     "output_type": "execute_result"
    },
    {
     "data": {
      "image/png": "[encoded data removed]",
      "text/plain": [
       "<matplotlib.figure.Figure at 0x7f28d4df7ba8>"
      ]
     },
     "metadata": {},
     "output_type": "display_data"
    }
   ],
   "source": [
    "newdepth = np.ma.copy(mydepth)\n",
    "mask_for_jetty = np.zeros_like(mydepth)\n",
    "for i, j in zip(x, y):\n",
    "    newdepth[j, i] = 4.0\n",
    "    mask_for_jetty[j, i] = 1.0\n",
    "fig, ax = plt.subplots(1, 1, figsize=(15, 7))\n",
    "mesh = ax.pcolormesh(newdepth, cmap='copper', vmin=4, vmax=12)\n",
    "ax.set_ylim((420, 430))\n",
    "ax.set_xlim((292, 315))\n",
    "fig.colorbar(mesh)"
   ]
  },
  {
   "cell_type": "code",
   "execution_count": 85,
   "metadata": {
    "collapsed": true
   },
   "outputs": [],
   "source": [
    "# lets smooth\n",
    "max_dh_over_hbar = 0.8\n",
    "depthsmooth = bathy_tools.smooth(newdepth[:], max_norm_depth_diff=max_dh_over_hbar, smooth_factor=0.2)"
   ]
  },
  {
   "cell_type": "code",
   "execution_count": 88,
   "metadata": {
    "collapsed": false
   },
   "outputs": [
    {
     "name": "stdout",
     "output_type": "stream",
     "text": [
      "0.0\n",
      "0.0\n"
     ]
    }
   ],
   "source": [
    "print (np.max(depthsmooth-newdepth))\n",
    "print (np.min(depthsmooth-newdepth))"
   ]
  },
  {
   "cell_type": "code",
   "execution_count": 93,
   "metadata": {
    "collapsed": false
   },
   "outputs": [
    {
     "name": "stdout",
     "output_type": "stream",
     "text": [
      "898 398\n",
      "<class 'netCDF4._netCDF4.Dimension'>: name = 'y', size = 898\n",
      "\n",
      "<class 'netCDF4._netCDF4.Dimension'>: name = 'x', size = 398\n",
      "\n"
     ]
    }
   ],
   "source": [
    "ysize = depthsmooth.shape[0]; xsize = depthsmooth.shape[1]\n",
    "print (ysize, xsize)\n",
    "\n",
    "new_bathy = nc.Dataset('/ocean/sallen/allen/research/MEOPAR/NEMO-forcing/grid/bathy_dbO_shallow_jetty.nc', 'w')\n",
    "new_bathy.createDimension('y', ysize)\n",
    "new_bathy.createDimension('x', xsize)\n",
    "nc_tools.show_dimensions(new_bathy)"
   ]
  },
  {
   "cell_type": "code",
   "execution_count": 94,
   "metadata": {
    "collapsed": true
   },
   "outputs": [],
   "source": [
    "newlons = new_bathy.createVariable('nav_lon', float, ('y', 'x'), zlib=True)\n",
    "newlons.setncattr('units', 'degrees_east')\n",
    "newlats = new_bathy.createVariable('nav_lat', float, ('y', 'x'), zlib=True)\n",
    "newlats.setncattr('units', 'degrees_north')\n",
    "newdepths = new_bathy.createVariable(\n",
    "    'Bathymetry', float, ('y', 'x'), \n",
    "    zlib=True, least_significant_digit=0.1, fill_value=0)\n",
    "newdepths.setncattr('units', 'metres')\n",
    "\n",
    "newlons[:] = dbyone.variables['nav_lon']\n",
    "newlats[:] = dbyone.variables['nav_lat']\n",
    "newdepths[:] = depthsmooth[:]"
   ]
  },
  {
   "cell_type": "code",
   "execution_count": 95,
   "metadata": {
    "collapsed": false
   },
   "outputs": [
    {
     "name": "stdout",
     "output_type": "stream",
     "text": [
      "file format: NETCDF4\n"
     ]
    }
   ],
   "source": [
    "nc_tools.show_dataset_attrs(new_bathy)"
   ]
  },
  {
   "cell_type": "code",
   "execution_count": 97,
   "metadata": {
    "collapsed": false
   },
   "outputs": [
    {
     "name": "stdout",
     "output_type": "stream",
     "text": [
      "\n",
      "[2013-10-30 13:18] Created netCDF4 zlib=True dataset.\n",
      "[2013-10-30 15:22] Set depths between 0 and 4m to 4m and those >428m to 428m.\n",
      "[2013-10-31 17:10] Algorithmic smoothing.\n",
      "[2013-11-21 19:53] Reverted to pre-smothing dataset (repo rev 3b301b5b9b6d).\n",
      "[2013-11-21 20:14] Updated dataset and variable attributes to CF-1.6 conventions & project standards.\n",
      "[2013-11-21 20:47] Removed east end of Jervis Inlet and Toba Inlet region due to deficient source bathymetry data in Cascadia dataset.\n",
      "[2013-11-21 21:52] Algorithmic smoothing.\n",
      "[2014-01-01 14:44] Smoothed mouth of Juan de Fuca\n",
      "[2015-] Jie made Fraser River\n",
      "[2015-12-24 11:46] dropped by one grid thickness, smoothed to 0.8\n",
      "\n"
     ]
    }
   ],
   "source": [
    "print (dbyone.history)"
   ]
  },
  {
   "cell_type": "code",
   "execution_count": 99,
   "metadata": {
    "collapsed": false
   },
   "outputs": [],
   "source": [
    "new_bathy.history = \"\"\"\n",
    "[2013-10-30 13:18] Created netCDF4 zlib=True dataset.\n",
    "[2013-10-30 15:22] Set depths between 0 and 4m to 4m and those >428m to 428m.\n",
    "[2013-10-31 17:10] Algorithmic smoothing.\n",
    "[2013-11-21 19:53] Reverted to pre-smothing dataset (repo rev 3b301b5b9b6d).\n",
    "[2013-11-21 20:14] Updated dataset and variable attributes to CF-1.6 conventions & project standards.\n",
    "[2013-11-21 20:47] Removed east end of Jervis Inlet and Toba Inlet region due to deficient source bathymetry data in Cascadia dataset.\n",
    "[2013-11-21 21:52] Algorithmic smoothing.\n",
    "[2014-01-01 14:44] Smoothed mouth of Juan de Fuca\n",
    "[2015-] Jie made Fraser River\n",
    "[2015-12-24 11:46] dropped by one grid thickness, smoothed to 0.8\n",
    "[2016-05-21 13:34] shallow jetty to 4m\n",
    "\"\"\""
   ]
  },
  {
   "cell_type": "code",
   "execution_count": 100,
   "metadata": {
    "collapsed": true
   },
   "outputs": [],
   "source": [
    "new_bathy.conventions = \"\"\"\n",
    "CF-1.6\"\"\"\n",
    "\n",
    "new_bathy.title= \"\"\"\n",
    "Salish Sea NEMO Bathymetry\"\"\"\n",
    "\n",
    "new_bathy.institution= \"\"\" \n",
    "Dept of Earth, Ocean & Atmospheric Sciences, University of British Columbia\"\"\"\n",
    "\n",
    "new_bathy.references= \"\"\" \n",
    "https://bitbucket.org/salishsea/nemo-forcing/src/tip/grid/bathy_dbO_shallow_jetty.nc\"\"\"\n",
    "\n",
    "new_bathy.comment= \"\"\"\n",
    "Based on 1_bathymetry_seagrid_WestCoast.nc file from 2-Oct-2013 WCSD_PREP tarball provided by J-P Paquin.\n",
    "\"\"\"\n",
    "\n",
    "new_bathy.source= \"\"\" \n",
    "https://bitbucket.org/salishsea/tools/src/tip/bathymetry/SalishSeaBathy.ipynb\n",
    "https://bitbucket.org/salishsea/tools/src/tip/bathymetry/SmoothMouthJdF.ipynb\n",
    "https://bitbucket.org/salishsea/tools/src/tip/bathymetry/Deepen by Grid Thickness.ipynb\n",
    "https://bitbucket.org/salishsea/analysis-susan/src/tip/notebooks/bathymetry/SandheadsSpit.ipynb\n",
    "\"\"\"\n",
    "\n",
    "new_bathy.close()"
   ]
  },
  {
   "cell_type": "code",
   "execution_count": 101,
   "metadata": {
    "collapsed": false
   },
   "outputs": [
    {
     "name": "stdout",
     "output_type": "stream",
     "text": [
      "898 398\n",
      "<class 'netCDF4._netCDF4.Dimension'>: name = 'y', size = 898\n",
      "\n",
      "<class 'netCDF4._netCDF4.Dimension'>: name = 'x', size = 398\n",
      "\n"
     ]
    }
   ],
   "source": [
    "ysize = depthsmooth.shape[0]; xsize = depthsmooth.shape[1]\n",
    "print (ysize, xsize)\n",
    "\n",
    "jetty_mask = nc.Dataset('/ocean/sallen/allen/research/MEOPAR/NEMO-forcing/grid/jetty_mask.nc', 'w')\n",
    "jetty_mask.createDimension('y', ysize)\n",
    "jetty_mask.createDimension('x', xsize)\n",
    "nc_tools.show_dimensions(jetty_mask)"
   ]
  },
  {
   "cell_type": "code",
   "execution_count": 102,
   "metadata": {
    "collapsed": true
   },
   "outputs": [],
   "source": [
    "newlons = jetty_mask.createVariable('nav_lon', float, ('y', 'x'), zlib=True)\n",
    "newlons.setncattr('units', 'degrees_east')\n",
    "newlats = jetty_mask.createVariable('nav_lat', float, ('y', 'x'), zlib=True)\n",
    "newlats.setncattr('units', 'degrees_north')\n",
    "friction_mask = jetty_mask.createVariable(\n",
    "    'high_friction', float, ('y', 'x'), \n",
    "    zlib=True, least_significant_digit=0.01, fill_value=0)\n",
    "friction_mask.setncattr('units', 'none')"
   ]
  },
  {
   "cell_type": "code",
   "execution_count": 107,
   "metadata": {
    "collapsed": false
   },
   "outputs": [],
   "source": [
    "newlons[:] = dbyone.variables['nav_lon']\n",
    "newlats[:] = dbyone.variables['nav_lat']\n",
    "friction_mask[:] = mask_for_jetty[:]"
   ]
  },
  {
   "cell_type": "code",
   "execution_count": 108,
   "metadata": {
    "collapsed": true
   },
   "outputs": [],
   "source": [
    "jetty_mask.history = \"\"\"\n",
    "[2016-05-21 13:52] One over jetty, zero everywhere else, position from Jie's bathymetry 10\n",
    "\"\"\"\n",
    "\n",
    "jetty_mask.conventions = \"\"\"\n",
    "CF-1.6\"\"\"\n",
    "\n",
    "jetty_mask.title= \"\"\"\n",
    "Mask to Enhance Friction over Jetties\"\"\"\n",
    "\n",
    "jetty_mask.institution= \"\"\" \n",
    "Dept of Earth, Ocean & Atmospheric Sciences, University of British Columbia\"\"\"\n",
    "\n",
    "jetty_mask.references= \"\"\" \n",
    "https://bitbucket.org/salishsea/nemo-forcing/src/tip/grid/jetty_mask.nc\"\"\"\n",
    "\n",
    "jetty_mask.comment= \"\"\"\n",
    "One over Sandheads Jetty, zero elsewhere\n",
    "\"\"\"\n",
    "\n",
    "jetty_mask.source= \"\"\" \n",
    "https://bitbucket.org/salishsea/analysis-susan/src/tip/notebooks/bathymetry/SandheadsSpit.ipynb\n",
    "\"\"\"\n",
    "\n",
    "jetty_mask.close()"
   ]
  },
  {
   "cell_type": "code",
   "execution_count": null,
   "metadata": {
    "collapsed": true
   },
   "outputs": [],
   "source": []
  }
 ],
 "metadata": {
  "kernelspec": {
   "display_name": "Python 3",
   "language": "python",
   "name": "python3"
  },
  "language_info": {
   "codemirror_mode": {
    "name": "ipython",
    "version": 3
   },
   "file_extension": ".py",
   "mimetype": "text/x-python",
   "name": "python",
   "nbconvert_exporter": "python",
   "pygments_lexer": "ipython3",
   "version": "3.5.1"
  }
 },
 "nbformat": 4,
 "nbformat_minor": 0
}
