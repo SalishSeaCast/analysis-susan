{
 "cells": [
  {
   "cell_type": "code",
   "execution_count": 13,
   "metadata": {
    "collapsed": false
   },
   "outputs": [],
   "source": [
    "import matplotlib.pyplot as plt\n",
    "import numpy as np\n",
    "import pandas as pd\n",
    "import pickle\n",
    "import utm\n",
    "\n",
    "%matplotlib inline"
   ]
  },
  {
   "cell_type": "code",
   "execution_count": 2,
   "metadata": {
    "collapsed": false
   },
   "outputs": [
    {
     "name": "stdout",
     "output_type": "stream",
     "text": [
      "451425.000000,5342645.000000,164.593\r",
      "\r\n",
      "451450.000000,5342645.000000,164.953\r",
      "\r\n",
      "451475.000000,5342645.000000,165.782\r",
      "\r\n",
      "451500.000000,5342645.000000,165.901\r",
      "\r\n",
      "451325.000000,5342670.000000,162.446\r",
      "\r\n",
      "451350.000000,5342670.000000,162.775\r",
      "\r\n",
      "451375.000000,5342670.000000,162.745\r",
      "\r\n",
      "451400.000000,5342670.000000,163.344\r",
      "\r\n",
      "451425.000000,5342670.000000,164.193\r",
      "\r\n",
      "451450.000000,5342670.000000,164.603\r",
      "\r\n"
     ]
    }
   ],
   "source": [
    "filename = '/ocean/sallen/allen/research/MEOPAR/NEMO-forcing/bathymetry/Salish Sea 25m Grid.txt'\n",
    "!head /ocean/sallen/allen/research/MEOPAR/NEMO-forcing/bathymetry/Salish\\ Sea\\ 25m\\ Grid.txt"
   ]
  },
  {
   "cell_type": "code",
   "execution_count": 3,
   "metadata": {
    "collapsed": false
   },
   "outputs": [
    {
     "data": {
      "text/html": [
       "<div>\n",
       "<table border=\"1\" class=\"dataframe\">\n",
       "  <thead>\n",
       "    <tr style=\"text-align: right;\">\n",
       "      <th></th>\n",
       "      <th>x</th>\n",
       "      <th>y</th>\n",
       "      <th>depth</th>\n",
       "    </tr>\n",
       "  </thead>\n",
       "  <tbody>\n",
       "    <tr>\n",
       "      <th>0</th>\n",
       "      <td>451425.0</td>\n",
       "      <td>5342645.0</td>\n",
       "      <td>164.593</td>\n",
       "    </tr>\n",
       "    <tr>\n",
       "      <th>1</th>\n",
       "      <td>451450.0</td>\n",
       "      <td>5342645.0</td>\n",
       "      <td>164.953</td>\n",
       "    </tr>\n",
       "    <tr>\n",
       "      <th>2</th>\n",
       "      <td>451475.0</td>\n",
       "      <td>5342645.0</td>\n",
       "      <td>165.782</td>\n",
       "    </tr>\n",
       "    <tr>\n",
       "      <th>3</th>\n",
       "      <td>451500.0</td>\n",
       "      <td>5342645.0</td>\n",
       "      <td>165.901</td>\n",
       "    </tr>\n",
       "    <tr>\n",
       "      <th>4</th>\n",
       "      <td>451325.0</td>\n",
       "      <td>5342670.0</td>\n",
       "      <td>162.446</td>\n",
       "    </tr>\n",
       "    <tr>\n",
       "      <th>5</th>\n",
       "      <td>451350.0</td>\n",
       "      <td>5342670.0</td>\n",
       "      <td>162.775</td>\n",
       "    </tr>\n",
       "    <tr>\n",
       "      <th>6</th>\n",
       "      <td>451375.0</td>\n",
       "      <td>5342670.0</td>\n",
       "      <td>162.745</td>\n",
       "    </tr>\n",
       "    <tr>\n",
       "      <th>7</th>\n",
       "      <td>451400.0</td>\n",
       "      <td>5342670.0</td>\n",
       "      <td>163.344</td>\n",
       "    </tr>\n",
       "    <tr>\n",
       "      <th>8</th>\n",
       "      <td>451425.0</td>\n",
       "      <td>5342670.0</td>\n",
       "      <td>164.193</td>\n",
       "    </tr>\n",
       "    <tr>\n",
       "      <th>9</th>\n",
       "      <td>451450.0</td>\n",
       "      <td>5342670.0</td>\n",
       "      <td>164.603</td>\n",
       "    </tr>\n",
       "    <tr>\n",
       "      <th>10</th>\n",
       "      <td>451475.0</td>\n",
       "      <td>5342670.0</td>\n",
       "      <td>165.232</td>\n",
       "    </tr>\n",
       "    <tr>\n",
       "      <th>11</th>\n",
       "      <td>451500.0</td>\n",
       "      <td>5342670.0</td>\n",
       "      <td>165.731</td>\n",
       "    </tr>\n",
       "    <tr>\n",
       "      <th>12</th>\n",
       "      <td>451175.0</td>\n",
       "      <td>5342695.0</td>\n",
       "      <td>161.909</td>\n",
       "    </tr>\n",
       "    <tr>\n",
       "      <th>13</th>\n",
       "      <td>451200.0</td>\n",
       "      <td>5342695.0</td>\n",
       "      <td>161.718</td>\n",
       "    </tr>\n",
       "    <tr>\n",
       "      <th>14</th>\n",
       "      <td>451225.0</td>\n",
       "      <td>5342695.0</td>\n",
       "      <td>161.758</td>\n",
       "    </tr>\n",
       "  </tbody>\n",
       "</table>\n",
       "</div>"
      ],
      "text/plain": [
       "           x          y    depth\n",
       "0   451425.0  5342645.0  164.593\n",
       "1   451450.0  5342645.0  164.953\n",
       "2   451475.0  5342645.0  165.782\n",
       "3   451500.0  5342645.0  165.901\n",
       "4   451325.0  5342670.0  162.446\n",
       "5   451350.0  5342670.0  162.775\n",
       "6   451375.0  5342670.0  162.745\n",
       "7   451400.0  5342670.0  163.344\n",
       "8   451425.0  5342670.0  164.193\n",
       "9   451450.0  5342670.0  164.603\n",
       "10  451475.0  5342670.0  165.232\n",
       "11  451500.0  5342670.0  165.731\n",
       "12  451175.0  5342695.0  161.909\n",
       "13  451200.0  5342695.0  161.718\n",
       "14  451225.0  5342695.0  161.758"
      ]
     },
     "execution_count": 3,
     "metadata": {},
     "output_type": "execute_result"
    }
   ],
   "source": [
    "mydata = pd.read_csv(filename, header=None, names=['x','y','depth'])\n",
    "mydata[0:15]"
   ]
  },
  {
   "cell_type": "code",
   "execution_count": 22,
   "metadata": {
    "collapsed": false
   },
   "outputs": [
    {
     "data": {
      "text/plain": [
       "[<matplotlib.lines.Line2D at 0x7f370b559320>]"
      ]
     },
     "execution_count": 22,
     "metadata": {},
     "output_type": "execute_result"
    },
    {
     "data": {
      "image/png": "[encoded data removed]",
      "text/plain": [
       "<matplotlib.figure.Figure at 0x7f370b646160>"
      ]
     },
     "metadata": {},
     "output_type": "display_data"
    }
   ],
   "source": [
    "plt.plot(mydata.x, mydata.y, 'o')"
   ]
  },
  {
   "cell_type": "code",
   "execution_count": 9,
   "metadata": {
    "collapsed": false
   },
   "outputs": [],
   "source": [
    "lats = np.zeros(len(mydata))\n",
    "lons = np.zeros(len(mydata))\n",
    "for i in range(len(mydata)):\n",
    "    lats[i], lons[i] = utm.to_latlon(mydata.x[i], mydata.y[i], 10, northern=True)\n"
   ]
  },
  {
   "cell_type": "code",
   "execution_count": 18,
   "metadata": {
    "collapsed": false
   },
   "outputs": [],
   "source": [
    "file = open('latlondepth', 'wb')"
   ]
  },
  {
   "cell_type": "code",
   "execution_count": 19,
   "metadata": {
    "collapsed": false
   },
   "outputs": [],
   "source": [
    "pickle.dump([lats, lons, mydata.depth], file, protocol=None, fix_imports=True)"
   ]
  },
  {
   "cell_type": "code",
   "execution_count": 20,
   "metadata": {
    "collapsed": false
   },
   "outputs": [
    {
     "name": "stdout",
     "output_type": "stream",
     "text": [
      "48.23516311 -123.65415872 451425.0 5342645.0\n"
     ]
    }
   ],
   "source": [
    "print (lats[0], lons[0], mydata.x[0], mydata.y[0])"
   ]
  },
  {
   "cell_type": "code",
   "execution_count": 37,
   "metadata": {
    "collapsed": false
   },
   "outputs": [
    {
     "name": "stdout",
     "output_type": "stream",
     "text": [
      "13108913\n",
      "162.775\n"
     ]
    }
   ],
   "source": [
    "tot = len(mydata)\n",
    "newlat = []\n",
    "newlon = []\n",
    "newdep = []\n",
    "print (tot)\n",
    "print (mydata.depth[5])"
   ]
  },
  {
   "cell_type": "code",
   "execution_count": 38,
   "metadata": {
    "collapsed": false
   },
   "outputs": [],
   "source": [
    "for i in range(tot):\n",
    "    if lats[i] < 49.2 and lats[i] > 49 and lons[i] < -123.4 and lons[i] > -123.6:\n",
    "        newlat.append(lats[i])\n",
    "        newlon.append(lons[i])\n",
    "        newdep.append(mydata.depth[i])"
   ]
  },
  {
   "cell_type": "code",
   "execution_count": 39,
   "metadata": {
    "collapsed": false
   },
   "outputs": [
    {
     "data": {
      "text/plain": [
       "375961"
      ]
     },
     "execution_count": 39,
     "metadata": {},
     "output_type": "execute_result"
    }
   ],
   "source": [
    "len(newdep)"
   ]
  },
  {
   "cell_type": "code",
   "execution_count": 41,
   "metadata": {
    "collapsed": false
   },
   "outputs": [
    {
     "data": {
      "text/plain": [
       "[<matplotlib.lines.Line2D at 0x7fb337bc84e0>]"
      ]
     },
     "execution_count": 41,
     "metadata": {},
     "output_type": "execute_result"
    },
    {
     "data": {
      "image/png": "[encoded data removed]",
      "text/plain": [
       "<matplotlib.figure.Figure at 0x7fb33a2507f0>"
      ]
     },
     "metadata": {},
     "output_type": "display_data"
    }
   ],
   "source": [
    "plt.plot(newlon, newlat, 'o')"
   ]
  },
  {
   "cell_type": "code",
   "execution_count": null,
   "metadata": {
    "collapsed": true
   },
   "outputs": [],
   "source": []
  }
 ],
 "metadata": {
  "kernelspec": {
   "display_name": "Python 3",
   "language": "python",
   "name": "python3"
  },
  "language_info": {
   "codemirror_mode": {
    "name": "ipython",
    "version": 3
   },
   "file_extension": ".py",
   "mimetype": "text/x-python",
   "name": "python",
   "nbconvert_exporter": "python",
   "pygments_lexer": "ipython3",
   "version": "3.5.2"
  }
 },
 "nbformat": 4,
 "nbformat_minor": 0
}
