{
 "cells": [
  {
   "cell_type": "code",
   "execution_count": 1,
   "metadata": {},
   "outputs": [
    {
     "name": "stderr",
     "output_type": "stream",
     "text": [
      "/home/sallen/anaconda/envs/py38/lib/python3.7/site-packages/dask/config.py:168: YAMLLoadWarning: calling yaml.load() without Loader=... is deprecated, as the default Loader is unsafe. Please read https://msg.pyyaml.org/load for full details.\n",
      "  data = yaml.load(f.read()) or {}\n",
      "/home/sallen/anaconda/envs/py38/lib/python3.7/site-packages/distributed/config.py:20: YAMLLoadWarning: calling yaml.load() without Loader=... is deprecated, as the default Loader is unsafe. Please read https://msg.pyyaml.org/load for full details.\n",
      "  defaults = yaml.load(f)\n"
     ]
    }
   ],
   "source": [
    "import arrow\n",
    "import datetime\n",
    "import matplotlib.pyplot as plt\n",
    "import netCDF4 as nc\n",
    "import numpy as np\n",
    "import os\n",
    "import pandas as pd\n",
    "import pickle\n",
    "import xarray as xr\n",
    "\n",
    "%matplotlib inline"
   ]
  },
  {
   "cell_type": "markdown",
   "metadata": {},
   "source": [
    "## The Grid ##"
   ]
  },
  {
   "cell_type": "code",
   "execution_count": 2,
   "metadata": {},
   "outputs": [],
   "source": [
    "mesh = nc.Dataset('/home/sallen/MEOPAR/grid/mesh_mask201702.nc')\n",
    "#mesh = nc.Dataset('../../../myResults/mesh_mask201702.nc')\n",
    "gdepw = mesh.variables['gdepw_1d'][0]\n",
    "bathy = nc.Dataset('/home/sallen/MEOPAR/grid/bathymetry_201702.nc')\n",
    "#bathy = nc.Dataset('../../../myResults/bathymetry_201702.nc')\n",
    "lats = bathy.variables['nav_lat'][:]\n",
    "lons = bathy.variables['nav_lon'][:]\n",
    "mesh.close()\n",
    "bathy.close()"
   ]
  },
  {
   "cell_type": "markdown",
   "metadata": {},
   "source": [
    "## Functions ##"
   ]
  },
  {
   "cell_type": "code",
   "execution_count": 3,
   "metadata": {
    "scrolled": false
   },
   "outputs": [],
   "source": [
    "def calculate_transport(basedir, dir1, section):\n",
    "    filename = 'ariane_positions_quantitative.nc'\n",
    "    with nc.Dataset(os.path.join('/data/sallen/results/Ariane',basedir, dir1, filename)) as dataset:\n",
    "#    with nc.Dataset(os.path.join('../',basedir, dir1, filename)) as dataset:\n",
    "        final_section = dataset.variables['final_section'][:]\n",
    "        final_transport = dataset.variables['final_transp'][:]\n",
    "        vic_transport = np.sum(np.where(final_section == section, final_transport, 0))\n",
    "    return (vic_transport/24.)"
   ]
  },
  {
   "cell_type": "code",
   "execution_count": 52,
   "metadata": {},
   "outputs": [],
   "source": [
    "def calculate_all(basedir, dir1, section, allv):\n",
    "    final = {}\n",
    "    mean = {}    \n",
    "    filename = 'ariane_positions_quantitative.nc'\n",
    "    fullfile = os.path.join('/data/sallen/results/Ariane',basedir, dir1, filename)\n",
    "    try:\n",
    "        if os.stat(fullfile).st_size > 0:\n",
    "            filegood = True\n",
    "            with nc.Dataset(fullfile) as dataset:\n",
    "#           with nc.Dataset(os.path.join('../',basedir, dir1, filename)) as dataset:\n",
    "                final_section = dataset.variables['final_section'][:]\n",
    "                final_transport = dataset.variables['final_transp'][:]\n",
    "                vic_transport = np.sum(np.where(final_section == section, final_transport, 0))\n",
    "                for variable in allv:\n",
    "                    if variable == 'final_age':\n",
    "                        scale = 86400. # convert from seconds to days\n",
    "                    else:\n",
    "                        scale = 1.\n",
    "                    final[variable] = dataset.variables[variable][:]/scale\n",
    "                    mean[variable] = np.sum(np.where(final_section == section, final_transport*final[variable], 0))/vic_transport\n",
    "        else:\n",
    "            filegood = False\n",
    "            vic_transport = float('NaN')\n",
    "            print (\"empty file\", dir1)\n",
    "    except OSError:\n",
    "        filegood = False\n",
    "        vic_transport = float('NaN')\n",
    "        print ('Missing Data', dir1)\n",
    "    return filegood, vic_transport/24., mean"
   ]
  },
  {
   "cell_type": "code",
   "execution_count": 5,
   "metadata": {},
   "outputs": [],
   "source": [
    "def get_data(start, endtime, basedir, section):\n",
    "    transport = np.zeros(365*2+1)\n",
    "    timerange = arrow.Arrow.range('day', start, endtime)\n",
    "    time = []\n",
    "    for i, r in enumerate(timerange):\n",
    "        dir1 = r.format('DDMMMYY').lower()\n",
    "        transport[i] = calculate_transport(basedir, dir1, section)\n",
    "#        transport[i] = calculate_transport('./', './', section)\n",
    "        time.append(r.datetime)\n",
    "    return time, transport[:len(timerange)]  "
   ]
  },
  {
   "cell_type": "code",
   "execution_count": 46,
   "metadata": {},
   "outputs": [],
   "source": [
    "def get_data_all(start, endtime, basedir, section, allv):\n",
    "    timerange = arrow.Arrow.range('day', start, endtime)\n",
    "    length = (endtime-start).days + 1\n",
    "    transport = np.zeros(length)\n",
    "    mean = {}\n",
    "    for variable in allv:\n",
    "        mean[variable] = np.zeros(length)\n",
    "    time = []\n",
    "    for i, r in enumerate(timerange):\n",
    "        dir1 = r.format('DDMMMYY').lower()\n",
    "#        print (dir1)\n",
    "        filegood, transport[i], meanday = calculate_all(basedir, dir1, section, allv)\n",
    "        for variable in allv:\n",
    "            if filegood:\n",
    "                mean[variable][i] = meanday[variable]\n",
    "            else:\n",
    "                mean[variable][i] = float('NaN')\n",
    "        time.append(r.datetime)\n",
    "    return time, transport, mean"
   ]
  },
  {
   "cell_type": "code",
   "execution_count": 7,
   "metadata": {},
   "outputs": [],
   "source": [
    "def save_position(basedir, dir1, section, fi, ff):\n",
    "    print(fi, ff)\n",
    "    filename = 'ariane_positions_quantitative.nc'\n",
    "    with nc.Dataset(os.path.join('/data/sallen/results/Ariane',basedir, dir1, filename)) as dataset:\n",
    "#    with nc.Dataset(os.path.join('../',basedir, dir1, filename)) as dataset:\n",
    "        final_section = dataset.variables['final_section'][:]\n",
    "        final_transport = dataset.variables['final_transp'][:]\n",
    "        final_depth = dataset.variables['final_depth'][:]\n",
    "        final_lon = dataset.variables['final_lon'][:]\n",
    "        final_lat = dataset.variables['final_lat'][:]\n",
    "        init_depth = dataset.variables['init_depth'][:]\n",
    "        init_lat = dataset.variables['init_lat'][:]\n",
    "        init_lon = dataset.variables['init_lon'][:]\n",
    "        for part in range(final_section.shape[0]):\n",
    "            if final_section[part] == section:\n",
    "                fi.write('{0:4f} {1:4f} {2:4f} {3:4f} \\n'.format(\n",
    "                    init_depth[part], init_lat[part], init_lon[part], final_transport[part]))\n",
    "                ff.write('{0:4f} {1:4f} {2:4f} {3:4f} \\n'.format(\n",
    "                    final_depth[part], final_lat[part], final_lon[part], final_transport[part]))\n",
    "    "
   ]
  },
  {
   "cell_type": "markdown",
   "metadata": {},
   "source": [
    "## Get the Data ##"
   ]
  },
  {
   "cell_type": "code",
   "execution_count": 57,
   "metadata": {},
   "outputs": [
    {
     "name": "stderr",
     "output_type": "stream",
     "text": [
      "/home/sallen/anaconda/envs/py38/lib/python3.7/site-packages/ipykernel_launcher.py:19: UserWarning: WARNING: missing_value not used since it\n",
      "cannot be safely cast to variable data type\n"
     ]
    },
    {
     "name": "stdout",
     "output_type": "stream",
     "text": [
      "Missing Data 04sep18\n"
     ]
    }
   ],
   "source": [
    "# Full South Vic -> PR (2)\n",
    "year = 2018\n",
    "allv = ['final_age', 'final_depth', 'final_salt', 'final_temp', 'final_lon', \n",
    "        'init_depth', 'init_salt', 'init_temp', 'init_lat']\n",
    "start = datetime.datetime(year, 1, 1)\n",
    "endtime = datetime.datetime(year, 12, 31)\n",
    "time, transport, mean = get_data_all(start, endtime, 'FullSouth', 2, allv)\n",
    "fullsouth_all = pd.DataFrame(data=transport, index=time, columns=['transport'])\n",
    "for variable in allv:\n",
    "    fullsouth_all = fullsouth_all.assign(mycol=pd.Series(mean[variable]).values)\n",
    "    fullsouth_all.rename(columns={'mycol':variable}, inplace=True)\n",
    "fullsouth_all\n",
    "fullsouth_all.to_csv('Vic_to_PR_'+str(year)+'_v3.csv')"
   ]
  },
  {
   "cell_type": "code",
   "execution_count": 58,
   "metadata": {},
   "outputs": [
    {
     "name": "stderr",
     "output_type": "stream",
     "text": [
      "/home/sallen/anaconda/envs/py38/lib/python3.7/site-packages/ipykernel_launcher.py:19: UserWarning: WARNING: missing_value not used since it\n",
      "cannot be safely cast to variable data type\n"
     ]
    },
    {
     "name": "stdout",
     "output_type": "stream",
     "text": [
      "Missing Data 04sep18\n"
     ]
    }
   ],
   "source": [
    "# Full South Vic -> GI (3)\n",
    "year = 2018\n",
    "allv = ['final_age', 'final_depth', 'final_salt', 'final_temp', 'final_lon', \n",
    "        'init_depth', 'init_salt', 'init_temp', 'init_lat']\n",
    "start = datetime.datetime(year, 1, 1)\n",
    "endtime = datetime.datetime(year, 12, 31)\n",
    "time, transport, mean = get_data_all(start, endtime, 'FullSouth', 3, allv)\n",
    "fullsouth_all = pd.DataFrame(data=transport, index=time, columns=['transport'])\n",
    "for variable in allv:\n",
    "    fullsouth_all = fullsouth_all.assign(mycol=pd.Series(mean[variable]).values)\n",
    "    fullsouth_all.rename(columns={'mycol':variable}, inplace=True)\n",
    "fullsouth_all\n",
    "fullsouth_all.to_csv('Vic_to_GI_'+str(year)+'_v3.csv')"
   ]
  },
  {
   "cell_type": "code",
   "execution_count": 59,
   "metadata": {},
   "outputs": [
    {
     "name": "stderr",
     "output_type": "stream",
     "text": [
      "/home/sallen/anaconda/envs/py38/lib/python3.7/site-packages/ipykernel_launcher.py:19: UserWarning: WARNING: missing_value not used since it\n",
      "cannot be safely cast to variable data type\n"
     ]
    }
   ],
   "source": [
    "# Back North into PR from Vic\n",
    "year = 2018\n",
    "allv = ['final_age', 'final_depth', 'final_salt', 'final_temp', 'final_lon', \n",
    "        'init_depth', 'init_salt', 'init_temp', 'init_lat']\n",
    "start = datetime.datetime(year, 1, 1)\n",
    "endtime = datetime.datetime(year, 12, 31)\n",
    "time, transport, mean = get_data_all(start, endtime, 'BackNorth', 2, allv)\n",
    "fullsouth_all = pd.DataFrame(data=transport, index=time, columns=['transport'])\n",
    "for variable in allv:\n",
    "    fullsouth_all = fullsouth_all.assign(mycol=pd.Series(mean[variable]).values)\n",
    "    fullsouth_all.rename(columns={'mycol':variable}, inplace=True)\n",
    "fullsouth_all\n",
    "fullsouth_all.to_csv('PR_from_Vic_'+str(year)+'_v3.csv')"
   ]
  },
  {
   "cell_type": "code",
   "execution_count": 60,
   "metadata": {},
   "outputs": [
    {
     "name": "stderr",
     "output_type": "stream",
     "text": [
      "/home/sallen/anaconda/envs/py38/lib/python3.7/site-packages/ipykernel_launcher.py:19: UserWarning: WARNING: missing_value not used since it\n",
      "cannot be safely cast to variable data type\n"
     ]
    }
   ],
   "source": [
    "# In GIslands into GI from Vic\n",
    "year = 2018\n",
    "allv = ['final_age', 'final_depth', 'final_salt', 'final_temp', 'final_lon', \n",
    "        'init_depth', 'init_salt', 'init_temp', 'init_lat']\n",
    "start = datetime.datetime(year, 1, 1)\n",
    "endtime = datetime.datetime(year, 12, 31)\n",
    "time, transport, mean = get_data_all(start, endtime, 'InGIslands', 2, allv)\n",
    "fullsouth_all = pd.DataFrame(data=transport, index=time, columns=['transport'])\n",
    "for variable in allv:\n",
    "    fullsouth_all = fullsouth_all.assign(mycol=pd.Series(mean[variable]).values)\n",
    "    fullsouth_all.rename(columns={'mycol':variable}, inplace=True)\n",
    "fullsouth_all\n",
    "fullsouth_all.to_csv('GI_from_Vic_'+str(year)+'_v3.csv')"
   ]
  },
  {
   "cell_type": "code",
   "execution_count": 61,
   "metadata": {
    "scrolled": false
   },
   "outputs": [
    {
     "name": "stderr",
     "output_type": "stream",
     "text": [
      "/home/sallen/anaconda/envs/py38/lib/python3.7/site-packages/ipykernel_launcher.py:19: UserWarning: WARNING: missing_value not used since it\n",
      "cannot be safely cast to variable data type\n"
     ]
    }
   ],
   "source": [
    "# Full North PR to Vic\n",
    "year = 2018\n",
    "allv = ['final_age', 'final_depth', 'final_salt', 'final_temp', 'final_lon', \n",
    "        'init_depth', 'init_salt', 'init_temp', 'init_lat']\n",
    "start = datetime.datetime(year, 1, 1)\n",
    "endtime = datetime.datetime(year, 12, 31)\n",
    "time, transport, mean = get_data_all(start, endtime, 'FullNorth', 2, allv)\n",
    "fullnorth_all = pd.DataFrame(data=transport, index=time, columns=['transport'])\n",
    "for variable in allv:\n",
    "    fullnorth_all = fullnorth_all.assign(mycol=pd.Series(mean[variable]).values)\n",
    "    fullnorth_all.rename(columns={'mycol':variable}, inplace=True)\n",
    "fullnorth_all\n",
    "fullnorth_all.to_csv('PR_to_Vic_'+str(year)+'_v3.csv')"
   ]
  },
  {
   "cell_type": "code",
   "execution_count": 62,
   "metadata": {},
   "outputs": [
    {
     "name": "stderr",
     "output_type": "stream",
     "text": [
      "/home/sallen/anaconda/envs/py38/lib/python3.7/site-packages/ipykernel_launcher.py:19: UserWarning: WARNING: missing_value not used since it\n",
      "cannot be safely cast to variable data type\n"
     ]
    }
   ],
   "source": [
    "# South G Islands GI to Vic\n",
    "year = 2018\n",
    "allv = ['final_age', 'final_depth', 'final_salt', 'final_temp', 'final_lon', \n",
    "        'init_depth', 'init_salt', 'init_temp', 'init_lat']\n",
    "start = datetime.datetime(year, 1, 1)\n",
    "endtime = datetime.datetime(year, 12, 31)\n",
    "time, transport, mean = get_data_all(start, endtime, 'SouthGIslands', 2, allv)\n",
    "fullsouth_all = pd.DataFrame(data=transport, index=time, columns=['transport'])\n",
    "for variable in allv:\n",
    "    fullsouth_all = fullsouth_all.assign(mycol=pd.Series(mean[variable]).values)\n",
    "    fullsouth_all.rename(columns={'mycol':variable}, inplace=True)\n",
    "fullsouth_all\n",
    "fullsouth_all.to_csv('GI_to_Vic_'+str(year)+'_v3.csv')"
   ]
  },
  {
   "cell_type": "code",
   "execution_count": 63,
   "metadata": {},
   "outputs": [
    {
     "name": "stderr",
     "output_type": "stream",
     "text": [
      "/home/sallen/anaconda/envs/py38/lib/python3.7/site-packages/ipykernel_launcher.py:19: UserWarning: WARNING: missing_value not used since it\n",
      "cannot be safely cast to variable data type\n"
     ]
    }
   ],
   "source": [
    "# BackSouth Vic from PR\n",
    "year = 2018\n",
    "allv = ['final_age', 'final_depth', 'final_salt', 'final_temp', 'final_lon', \n",
    "        'init_depth', 'init_salt', 'init_temp', 'init_lat']\n",
    "start = datetime.datetime(year, 1, 1)\n",
    "endtime = datetime.datetime(year, 12, 31)\n",
    "time, transport, mean = get_data_all(start, endtime, 'BackSouth', 2, allv)\n",
    "fullsouth_all = pd.DataFrame(data=transport, index=time, columns=['transport'])\n",
    "for variable in allv:\n",
    "    fullsouth_all = fullsouth_all.assign(mycol=pd.Series(mean[variable]).values)\n",
    "    fullsouth_all.rename(columns={'mycol':variable}, inplace=True)\n",
    "fullsouth_all\n",
    "fullsouth_all.to_csv('Vic_from_PR_'+str(year)+'_v3.csv')"
   ]
  },
  {
   "cell_type": "code",
   "execution_count": 64,
   "metadata": {},
   "outputs": [
    {
     "name": "stderr",
     "output_type": "stream",
     "text": [
      "/home/sallen/anaconda/envs/py38/lib/python3.7/site-packages/ipykernel_launcher.py:19: UserWarning: WARNING: missing_value not used since it\n",
      "cannot be safely cast to variable data type\n"
     ]
    }
   ],
   "source": [
    "# BackSouth Vic from GI\n",
    "year = 2018\n",
    "allv = ['final_age', 'final_depth', 'final_salt', 'final_temp', 'final_lon', \n",
    "        'init_depth', 'init_salt', 'init_temp', 'init_lat']\n",
    "start = datetime.datetime(year, 1, 1)\n",
    "endtime = datetime.datetime(year, 12, 31)\n",
    "time, transport, mean = get_data_all(start, endtime, 'BackSouth', 3, allv)\n",
    "fullnorth_all = pd.DataFrame(data=transport, index=time, columns=['transport'])\n",
    "for variable in allv:\n",
    "    fullnorth_all = fullnorth_all.assign(mycol=pd.Series(mean[variable]).values)\n",
    "    fullnorth_all.rename(columns={'mycol':variable}, inplace=True)\n",
    "fullnorth_all\n",
    "fullnorth_all.to_csv('Vic_from_GI_'+str(year)+'_v3.csv')"
   ]
  },
  {
   "cell_type": "code",
   "execution_count": null,
   "metadata": {
    "collapsed": true
   },
   "outputs": [],
   "source": [
    "fi = open('south_init.txt', 'a')\n",
    "ff = open('south_final.txt', 'a')\n",
    "save_position('./', './', 2, fi, ff)\n",
    "fi.close() \n",
    "ff.close()"
   ]
  },
  {
   "cell_type": "code",
   "execution_count": null,
   "metadata": {
    "collapsed": true
   },
   "outputs": [],
   "source": [
    "#Victoria_sill_j = 178-1;\n",
    "#    Victoria_sill_i = np.arange(235,302+1)-1\n",
    "fig, ax = plt.subplots(1, 2, figsize=(10, 5))\n",
    "with open('south_init.txt', 'r') as fi:\n",
    "    mydata = np.loadtxt(fi)\n",
    "my_lats_edges = lats[235-1:302-1, 178-1] - (lats[235, 178] - lats[234, 178])/2.\n",
    "my_deps_edges = -gdepw[28::-1]\n",
    "H, xs, ys = np.histogram2d(mydata[:, 0], mydata[:, 1],  bins = [my_deps_edges, my_lats_edges],\n",
    "                        weights=mydata2[:,3])\n",
    "mesh = ax[0].pcolormesh(my_lats_edges[:-1], my_deps_edges[:-1], H)\n",
    "fig.colorbar(mesh, ax=ax[0])\n",
    "\n",
    "with open('south_final.txt', 'r') as ff:\n",
    "    mydata2 = np.loadtxt(ff)\n",
    "my_lons_edges = lons[387-1, 262-1:309-1] - (lons[387, 300] - lons[387, 301])/2.\n",
    "H, xs, ys = np.histogram2d(mydata2[:, 0], mydata2[:, 2],  bins = [my_deps_edges, my_lons_edges],\n",
    "                        weights=mydata2[:,3])\n",
    "mesh = ax[1].pcolormesh(my_lons_edges[:-1], my_deps_edges[:-1], H)\n",
    "fig.colorbar(mesh, ax=ax[1])\n"
   ]
  },
  {
   "cell_type": "code",
   "execution_count": null,
   "metadata": {
    "collapsed": true
   },
   "outputs": [],
   "source": [
    "fig, ax = plt.subplots(1, 1, figsize=(18, 6))\n",
    "ax2 = ax.twinx()\n",
    "fullsouth_transport.plot(ax=ax, y='transport', label=\"South to North\", legend=False)\n",
    "fullnorth_transport.plot(ax=ax, y='transport', label=\"North to South (shallow)\", legend=False)\n",
    "fullsouth_transport_16.plot(ax=ax, y='transport', label=\"South to North (deep)\", legend=False, c='b')\n",
    "fullnorth_transport_16.plot(ax=ax, y='transport', label=\"North to South (shallow)\", legend=False, c='g')\n",
    "#low_pass_tide.plot(ax=ax2, c='r')\n",
    "ax.set_xlim(fullsouth_transport.index[0], time[-1])\n",
    "ax.legend()"
   ]
  },
  {
   "cell_type": "markdown",
   "metadata": {},
   "source": [
    "## Calculation of Tides moved to \"Calculate Tides\" ##\n",
    "Here just read them"
   ]
  },
  {
   "cell_type": "code",
   "execution_count": null,
   "metadata": {
    "collapsed": true
   },
   "outputs": [],
   "source": [
    "low_pass_tide = pd.read_csv('low_pass_tide.csv')\n",
    "low_pass_tide.plot()"
   ]
  },
  {
   "cell_type": "code",
   "execution_count": null,
   "metadata": {
    "collapsed": true
   },
   "outputs": [],
   "source": [
    "fig, ax = plt.subplots(1, 1, figsize=(14, 5))\n",
    "ax2 = ax.twinx()\n",
    "lag = 0\n",
    "ii, jj = 0-min(0,lag), 290-min(0,lag)\n",
    "ax.plot(range(ii, jj), fullnorth_transport['transport'][ii+lag:jj+lag])\n",
    "ax2.plot(range(ii, jj), -low_pass_tide['uVelocity'][ii:jj], 'r')"
   ]
  },
  {
   "cell_type": "code",
   "execution_count": null,
   "metadata": {
    "collapsed": true
   },
   "outputs": [],
   "source": [
    "fig, ax = plt.subplots(1, 1, figsize=(14, 5))\n",
    "ax2 = ax.twinx()\n",
    "lag = 0\n",
    "ii, jj = 150-min(0,lag), 290-min(0,lag)\n",
    "ax.plot(range(ii, jj), fullnorth_transport['transport'][ii+lag:jj+lag], 'o-')\n",
    "ax2.plot(range(ii, jj), low_pass_tide['uVelocity'][ii:jj], 'r')"
   ]
  },
  {
   "cell_type": "markdown",
   "metadata": {},
   "source": [
    "## Summer Deep Water Variability ##"
   ]
  },
  {
   "cell_type": "code",
   "execution_count": null,
   "metadata": {
    "collapsed": true
   },
   "outputs": [],
   "source": [
    "fig, ax = plt.subplots(1, 1, figsize=(14, 5))\n",
    "ax2 = ax.twinx()\n",
    "lag = -3\n",
    "ii, jj = 190, 300\n",
    "ax.plot(range(ii, jj),fullsouth_transport['transport'][ii+lag:jj+lag])\n",
    "ax2.plot(range(ii, jj), -low_pass_tide['uVelocity'][ii:jj], 'r')"
   ]
  },
  {
   "cell_type": "markdown",
   "metadata": {},
   "source": [
    "## Spring Deep Water Variability ##"
   ]
  },
  {
   "cell_type": "code",
   "execution_count": null,
   "metadata": {
    "collapsed": true
   },
   "outputs": [],
   "source": [
    "fig, ax = plt.subplots(1, 1, figsize=(14, 5))\n",
    "ax2 = ax.twinx()\n",
    "lag = -3\n",
    "ii, jj = 100, 190\n",
    "ax.plot(range(ii, jj),fullsouth_transport['transport'][ii+lag:jj+lag])\n",
    "ax2.plot(range(ii, jj), -low_pass_tide['uVelocity'][ii:jj], 'r')"
   ]
  },
  {
   "cell_type": "markdown",
   "metadata": {},
   "source": [
    "## Winter Deep Water Variability : note change in lag"
   ]
  },
  {
   "cell_type": "code",
   "execution_count": null,
   "metadata": {
    "collapsed": true
   },
   "outputs": [],
   "source": [
    "fig, ax = plt.subplots(1, 1, figsize=(14, 5))\n",
    "ax2 = ax.twinx()\n",
    "lag = -5\n",
    "ii, jj = 0-lag, 100\n",
    "ax.plot(range(ii, jj),fullsouth_transport['transport'][ii+lag:jj+lag])\n",
    "ax2.plot(range(ii, jj), -low_pass_tide['uVelocity'][ii:jj], 'r')"
   ]
  },
  {
   "cell_type": "code",
   "execution_count": null,
   "metadata": {
    "collapsed": true
   },
   "outputs": [],
   "source": [
    "mesh = nc.Dataset('/home/sallen/MEOPAR/grid/mesh_mask201702.nc')"
   ]
  },
  {
   "cell_type": "code",
   "execution_count": null,
   "metadata": {
    "collapsed": true
   },
   "outputs": [],
   "source": [
    "tracers = nc.Dataset('https://salishsea.eos.ubc.ca/erddap/griddap/ubcSSg3DTracerFields1hV17-02')\n",
    "iY = 258; iX = 178; iZ = 28\n",
    "iY2 = 388; iX2 = 271\n",
    "salinity = tracers.variables['salinity'][0:24*365:24, :iZ, iY, iX]\n",
    "salinity2 = tracers.variables['salinity'][0:24*365:24, :iZ, iY2, iX2]"
   ]
  },
  {
   "cell_type": "code",
   "execution_count": null,
   "metadata": {
    "collapsed": true
   },
   "outputs": [],
   "source": [
    "e3t = mesh.variables['e3t_0'][0, :iZ, iY, iX]"
   ]
  },
  {
   "cell_type": "code",
   "execution_count": null,
   "metadata": {
    "collapsed": true
   },
   "outputs": [],
   "source": [
    "saldiff = np.zeros(365)\n",
    "for i in range(365):\n",
    "    saldiff[i] = np.sum(salinity[i]*e3t) - np.sum(salinity2[i]*e3t)"
   ]
  },
  {
   "cell_type": "code",
   "execution_count": null,
   "metadata": {
    "collapsed": true
   },
   "outputs": [],
   "source": [
    "fig, ax = plt.subplots(1, 1, figsize=(16, 5))\n",
    "ax2 = ax.twinx()\n",
    "ax.plot(saldiff)\n",
    "ax2.plot(range(0, 290), fullsouth_transport['transport'][0:290], 'g')"
   ]
  },
  {
   "cell_type": "code",
   "execution_count": null,
   "metadata": {
    "collapsed": true
   },
   "outputs": [],
   "source": [
    "fs = open('gulfisland_fullsouth_early2015', 'wb')\n",
    "pickle.dump(gulfislands, fs)\n",
    "fs.close()"
   ]
  },
  {
   "cell_type": "code",
   "execution_count": null,
   "metadata": {
    "collapsed": true
   },
   "outputs": [],
   "source": [
    "fs = open('fullsouth_early2015', 'wb')\n",
    "pickle.dump(fullsouth_transport, fs)\n",
    "fs.close()"
   ]
  },
  {
   "cell_type": "code",
   "execution_count": null,
   "metadata": {
    "collapsed": true
   },
   "outputs": [],
   "source": [
    "vic_transport_2015 = pickle.load('vic_transport_2015')\n",
    "plt.plot(vic_transport_2015)"
   ]
  },
  {
   "cell_type": "code",
   "execution_count": null,
   "metadata": {
    "collapsed": true
   },
   "outputs": [],
   "source": [
    "fs = open('vic_transport_2015', 'wb')\n",
    "pickle.dump(vic_transport, fs)"
   ]
  },
  {
   "cell_type": "code",
   "execution_count": null,
   "metadata": {
    "collapsed": true
   },
   "outputs": [],
   "source": [
    "vsq = pd.read_csv('../day_avg_tide_pd.csv')"
   ]
  },
  {
   "cell_type": "code",
   "execution_count": null,
   "metadata": {
    "collapsed": true,
    "scrolled": false
   },
   "outputs": [],
   "source": [
    "fig, ax = plt.subplots(1, 5, figsize=(18, 5))\n",
    "for i, lag in enumerate(range(-7, 7, 3)):\n",
    "    ax[i].plot(vsq[99+lag:99+365+lag].uVelocity, vic_transport, '*')\n",
    "#    print (np.correlate(vsq[99+lag:99+365+lag], vic_transport[:]), lag, mode='valid')"
   ]
  },
  {
   "cell_type": "code",
   "execution_count": null,
   "metadata": {
    "collapsed": true
   },
   "outputs": [],
   "source": [
    "print (final_section[:10])"
   ]
  },
  {
   "cell_type": "code",
   "execution_count": null,
   "metadata": {
    "collapsed": true
   },
   "outputs": [],
   "source": [
    "print (final_transport[:10])"
   ]
  },
  {
   "cell_type": "code",
   "execution_count": null,
   "metadata": {
    "collapsed": true
   },
   "outputs": [],
   "source": []
  }
 ],
 "metadata": {
  "anaconda-cloud": {},
  "kernelspec": {
   "display_name": "Python 3",
   "language": "python",
   "name": "python3"
  },
  "language_info": {
   "codemirror_mode": {
    "name": "ipython",
    "version": 3
   },
   "file_extension": ".py",
   "mimetype": "text/x-python",
   "name": "python",
   "nbconvert_exporter": "python",
   "pygments_lexer": "ipython3",
   "version": "3.7.3"
  },
  "toc": {
   "colors": {
    "hover_highlight": "#DAA520",
    "running_highlight": "#FF0000",
    "selected_highlight": "#FFD700"
   },
   "moveMenuLeft": true,
   "nav_menu": {
    "height": "12px",
    "width": "252px"
   },
   "navigate_menu": true,
   "number_sections": true,
   "sideBar": true,
   "skip_h1_title": false,
   "threshold": 4,
   "toc_cell": false,
   "toc_position": {},
   "toc_section_display": "block",
   "toc_window_display": true,
   "widenNotebook": false
  }
 },
 "nbformat": 4,
 "nbformat_minor": 2
}
