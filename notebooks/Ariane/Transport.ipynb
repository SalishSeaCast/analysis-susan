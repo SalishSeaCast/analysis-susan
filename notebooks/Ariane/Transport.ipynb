{
 "cells": [
  {
   "cell_type": "code",
   "execution_count": 1,
   "metadata": {},
   "outputs": [],
   "source": [
    "import arrow\n",
    "import datetime\n",
    "import matplotlib.pyplot as plt\n",
    "import netCDF4 as nc\n",
    "import numpy as np\n",
    "import os\n",
    "import pandas as pd\n",
    "import pickle\n",
    "import xarray as xr\n",
    "\n",
    "%matplotlib inline"
   ]
  },
  {
   "cell_type": "markdown",
   "metadata": {},
   "source": [
    "## The Grid ##"
   ]
  },
  {
   "cell_type": "code",
   "execution_count": 2,
   "metadata": {
    "tags": []
   },
   "outputs": [],
   "source": [
    "mesh = nc.Dataset('/home/sallen/MEOPAR/grid/mesh_mask201702.nc')\n",
    "#mesh = nc.Dataset('../../../myResults/mesh_mask201702.nc')\n",
    "gdepw = mesh.variables['gdepw_1d'][0]\n",
    "bathy = nc.Dataset('/home/sallen/MEOPAR/grid/bathymetry_201702.nc')\n",
    "#bathy = nc.Dataset('../../../myResults/bathymetry_201702.nc')\n",
    "lats = bathy.variables['nav_lat'][:]\n",
    "lons = bathy.variables['nav_lon'][:]\n",
    "mesh.close()\n",
    "bathy.close()"
   ]
  },
  {
   "cell_type": "markdown",
   "metadata": {},
   "source": [
    "## Functions ##"
   ]
  },
  {
   "cell_type": "code",
   "execution_count": 3,
   "metadata": {
    "tags": []
   },
   "outputs": [],
   "source": [
    "def calculate_transport(basedir, dir1, section):\n",
    "    filename = 'ariane_positions_quantitative.nc'\n",
    "    with nc.Dataset(os.path.join('/data/sallen/results/Ariane',basedir, dir1, filename)) as dataset:\n",
    "        final_section = dataset.variables['final_section'][:]\n",
    "        final_transport = dataset.variables['final_transp'][:]\n",
    "        vic_transport = np.sum(np.where(final_section == section, final_transport, 0))\n",
    "    return (vic_transport/24.)"
   ]
  },
  {
   "cell_type": "code",
   "execution_count": 4,
   "metadata": {
    "tags": []
   },
   "outputs": [],
   "source": [
    "def calculate_all(basedir, dir1, section, allv, loop=None):\n",
    "    final = {}\n",
    "    mean = {}    \n",
    "    filename = 'ariane_positions_quantitative.nc'\n",
    "    fullfile = os.path.join('/data/sallen/results/Ariane',basedir, dir1, filename)\n",
    "    try:\n",
    "        if os.stat(fullfile).st_size > 0:\n",
    "            filegood = True\n",
    "            with nc.Dataset(fullfile) as dataset:\n",
    "                final_section = dataset.variables['final_section'][:]\n",
    "                final_transport = dataset.variables['final_transp'][:]\n",
    "                final_age = dataset.variables['final_age'][:]\n",
    "                if loop == None:\n",
    "                    vic_transport = np.sum(np.where(final_section == section, final_transport, 0))\n",
    "                elif loop == 'Short':\n",
    "                    vic_transport = np.sum(np.where((final_section == section) & (final_age <= 24*3600), final_transport, 0))\n",
    "                elif loop == 'Long':\n",
    "                    vic_transport = np.sum(np.where((final_section == section) & (final_age > 24*3600), final_transport, 0))\n",
    "                for variable in allv:\n",
    "                    if variable == 'final_age':\n",
    "                        scale = 86400. # convert from seconds to days\n",
    "                    else:\n",
    "                        scale = 1.\n",
    "                    final[variable] = dataset.variables[variable][:]/scale\n",
    "                    if loop == None:\n",
    "                        mean[variable] = np.sum(np.where(final_section == section, final_transport*final[variable], 0))/vic_transport\n",
    "                    elif loop == 'Short':\n",
    "                        mean[variable] = np.sum(np.where((final_section == section) & (final_age <= 24*3600), \n",
    "                                                         final_transport*final[variable], 0))/vic_transport\n",
    "                    elif loop == 'Long':\n",
    "                        mean[variable] = np.sum(np.where((final_section == section) & (final_age > 24*3600), \n",
    "                                                         final_transport*final[variable], 0))/vic_transport\n",
    "                \n",
    "        else:\n",
    "            filegood = False\n",
    "            vic_transport = float('NaN')\n",
    "            print (\"empty file\", dir1)\n",
    "    except OSError:\n",
    "        filegood = False\n",
    "        vic_transport = float('NaN')\n",
    "        print ('Missing Data', dir1)\n",
    "    return filegood, vic_transport/24., mean"
   ]
  },
  {
   "cell_type": "code",
   "execution_count": 5,
   "metadata": {
    "tags": []
   },
   "outputs": [],
   "source": [
    "def get_data(start, endtime, basedir, section):\n",
    "    transport = np.zeros(365*2+1)\n",
    "    timerange = arrow.Arrow.range('day', start, endtime)\n",
    "    time = []\n",
    "    for i, r in enumerate(timerange):\n",
    "        dir1 = r.format('DDMMMYY').lower()\n",
    "        transport[i] = calculate_transport(basedir, dir1, section)\n",
    "        transport[i] = calculate_transport('./', './', section)\n",
    "        time.append(r.datetime)\n",
    "    return time, transport[:len(timerange)]  "
   ]
  },
  {
   "cell_type": "code",
   "execution_count": 6,
   "metadata": {
    "tags": []
   },
   "outputs": [],
   "source": [
    "def get_data_all(start, endtime, basedir, section, allv, loop=None):\n",
    "    timerange = arrow.Arrow.range('day', start, endtime)\n",
    "    length = (endtime-start).days + 1\n",
    "    transport = np.zeros(length)\n",
    "    mean = {}\n",
    "    for variable in allv:\n",
    "        mean[variable] = np.zeros(length)\n",
    "    time = []\n",
    "    for i, r in enumerate(timerange):\n",
    "        dir1 = r.format('DDMMMYY').lower()\n",
    "        filegood, transport[i], meanday = calculate_all(basedir, dir1, section, allv, loop)\n",
    "        for variable in allv:\n",
    "            if filegood:\n",
    "                mean[variable][i] = meanday[variable]\n",
    "            else:\n",
    "                mean[variable][i] = float('NaN')\n",
    "        time.append(r.datetime)\n",
    "    return time, transport, mean"
   ]
  },
  {
   "cell_type": "code",
   "execution_count": 7,
   "metadata": {
    "tags": []
   },
   "outputs": [],
   "source": [
    "def save_position(basedir, dir1, section, fi, ff):\n",
    "    print(fi, ff)\n",
    "    filename = 'ariane_positions_quantitative.nc'\n",
    "    with nc.Dataset(os.path.join('/data/sallen/results/Ariane',basedir, dir1, filename)) as dataset:\n",
    "        final_section = dataset.variables['final_section'][:]\n",
    "        final_transport = dataset.variables['final_transp'][:]\n",
    "        final_depth = dataset.variables['final_depth'][:]\n",
    "        final_lon = dataset.variables['final_lon'][:]\n",
    "        final_lat = dataset.variables['final_lat'][:]\n",
    "        init_depth = dataset.variables['init_depth'][:]\n",
    "        init_lat = dataset.variables['init_lat'][:]\n",
    "        init_lon = dataset.variables['init_lon'][:]\n",
    "        for part in range(final_section.shape[0]):\n",
    "            if final_section[part] == section:\n",
    "                fi.write('{0:4f} {1:4f} {2:4f} {3:4f} \\n'.format(\n",
    "                    init_depth[part], init_lat[part], init_lon[part], final_transport[part]))\n",
    "                ff.write('{0:4f} {1:4f} {2:4f} {3:4f} \\n'.format(\n",
    "                    final_depth[part], final_lat[part], final_lon[part], final_transport[part]))\n",
    "    "
   ]
  },
  {
   "cell_type": "markdown",
   "metadata": {},
   "source": [
    "## Get the Data ##"
   ]
  },
  {
   "cell_type": "markdown",
   "metadata": {},
   "source": [
    "### Meanders ###"
   ]
  },
  {
   "cell_type": "code",
   "execution_count": 9,
   "metadata": {},
   "outputs": [],
   "source": [
    "years = [2015, 2016, 2017, 2018]"
   ]
  },
  {
   "cell_type": "code",
   "execution_count": 9,
   "metadata": {},
   "outputs": [
    {
     "data": {
      "text/html": [
       "<div><svg style=\"position: absolute; width: 0; height: 0; overflow: hidden\">\n",
       "<defs>\n",
       "<symbol id=\"icon-database\" viewBox=\"0 0 32 32\">\n",
       "<path d=\"M16 0c-8.837 0-16 2.239-16 5v4c0 2.761 7.163 5 16 5s16-2.239 16-5v-4c0-2.761-7.163-5-16-5z\"></path>\n",
       "<path d=\"M16 17c-8.837 0-16-2.239-16-5v6c0 2.761 7.163 5 16 5s16-2.239 16-5v-6c0 2.761-7.163 5-16 5z\"></path>\n",
       "<path d=\"M16 26c-8.837 0-16-2.239-16-5v6c0 2.761 7.163 5 16 5s16-2.239 16-5v-6c0 2.761-7.163 5-16 5z\"></path>\n",
       "</symbol>\n",
       "<symbol id=\"icon-file-text2\" viewBox=\"0 0 32 32\">\n",
       "<path d=\"M28.681 7.159c-0.694-0.947-1.662-2.053-2.724-3.116s-2.169-2.030-3.116-2.724c-1.612-1.182-2.393-1.319-2.841-1.319h-15.5c-1.378 0-2.5 1.121-2.5 2.5v27c0 1.378 1.122 2.5 2.5 2.5h23c1.378 0 2.5-1.122 2.5-2.5v-19.5c0-0.448-0.137-1.23-1.319-2.841zM24.543 5.457c0.959 0.959 1.712 1.825 2.268 2.543h-4.811v-4.811c0.718 0.556 1.584 1.309 2.543 2.268zM28 29.5c0 0.271-0.229 0.5-0.5 0.5h-23c-0.271 0-0.5-0.229-0.5-0.5v-27c0-0.271 0.229-0.5 0.5-0.5 0 0 15.499-0 15.5 0v7c0 0.552 0.448 1 1 1h7v19.5z\"></path>\n",
       "<path d=\"M23 26h-14c-0.552 0-1-0.448-1-1s0.448-1 1-1h14c0.552 0 1 0.448 1 1s-0.448 1-1 1z\"></path>\n",
       "<path d=\"M23 22h-14c-0.552 0-1-0.448-1-1s0.448-1 1-1h14c0.552 0 1 0.448 1 1s-0.448 1-1 1z\"></path>\n",
       "<path d=\"M23 18h-14c-0.552 0-1-0.448-1-1s0.448-1 1-1h14c0.552 0 1 0.448 1 1s-0.448 1-1 1z\"></path>\n",
       "</symbol>\n",
       "</defs>\n",
       "</svg>\n",
       "<style>/* CSS stylesheet for displaying xarray objects in jupyterlab.\n",
       " *\n",
       " */\n",
       "\n",
       ":root {\n",
       "  --xr-font-color0: var(--jp-content-font-color0, rgba(0, 0, 0, 1));\n",
       "  --xr-font-color2: var(--jp-content-font-color2, rgba(0, 0, 0, 0.54));\n",
       "  --xr-font-color3: var(--jp-content-font-color3, rgba(0, 0, 0, 0.38));\n",
       "  --xr-border-color: var(--jp-border-color2, #e0e0e0);\n",
       "  --xr-disabled-color: var(--jp-layout-color3, #bdbdbd);\n",
       "  --xr-background-color: var(--jp-layout-color0, white);\n",
       "  --xr-background-color-row-even: var(--jp-layout-color1, white);\n",
       "  --xr-background-color-row-odd: var(--jp-layout-color2, #eeeeee);\n",
       "}\n",
       "\n",
       "html[theme=dark],\n",
       "body.vscode-dark {\n",
       "  --xr-font-color0: rgba(255, 255, 255, 1);\n",
       "  --xr-font-color2: rgba(255, 255, 255, 0.54);\n",
       "  --xr-font-color3: rgba(255, 255, 255, 0.38);\n",
       "  --xr-border-color: #1F1F1F;\n",
       "  --xr-disabled-color: #515151;\n",
       "  --xr-background-color: #111111;\n",
       "  --xr-background-color-row-even: #111111;\n",
       "  --xr-background-color-row-odd: #313131;\n",
       "}\n",
       "\n",
       ".xr-wrap {\n",
       "  display: block;\n",
       "  min-width: 300px;\n",
       "  max-width: 700px;\n",
       "}\n",
       "\n",
       ".xr-text-repr-fallback {\n",
       "  /* fallback to plain text repr when CSS is not injected (untrusted notebook) */\n",
       "  display: none;\n",
       "}\n",
       "\n",
       ".xr-header {\n",
       "  padding-top: 6px;\n",
       "  padding-bottom: 6px;\n",
       "  margin-bottom: 4px;\n",
       "  border-bottom: solid 1px var(--xr-border-color);\n",
       "}\n",
       "\n",
       ".xr-header > div,\n",
       ".xr-header > ul {\n",
       "  display: inline;\n",
       "  margin-top: 0;\n",
       "  margin-bottom: 0;\n",
       "}\n",
       "\n",
       ".xr-obj-type,\n",
       ".xr-array-name {\n",
       "  margin-left: 2px;\n",
       "  margin-right: 10px;\n",
       "}\n",
       "\n",
       ".xr-obj-type {\n",
       "  color: var(--xr-font-color2);\n",
       "}\n",
       "\n",
       ".xr-sections {\n",
       "  padding-left: 0 !important;\n",
       "  display: grid;\n",
       "  grid-template-columns: 150px auto auto 1fr 20px 20px;\n",
       "}\n",
       "\n",
       ".xr-section-item {\n",
       "  display: contents;\n",
       "}\n",
       "\n",
       ".xr-section-item input {\n",
       "  display: none;\n",
       "}\n",
       "\n",
       ".xr-section-item input + label {\n",
       "  color: var(--xr-disabled-color);\n",
       "}\n",
       "\n",
       ".xr-section-item input:enabled + label {\n",
       "  cursor: pointer;\n",
       "  color: var(--xr-font-color2);\n",
       "}\n",
       "\n",
       ".xr-section-item input:enabled + label:hover {\n",
       "  color: var(--xr-font-color0);\n",
       "}\n",
       "\n",
       ".xr-section-summary {\n",
       "  grid-column: 1;\n",
       "  color: var(--xr-font-color2);\n",
       "  font-weight: 500;\n",
       "}\n",
       "\n",
       ".xr-section-summary > span {\n",
       "  display: inline-block;\n",
       "  padding-left: 0.5em;\n",
       "}\n",
       "\n",
       ".xr-section-summary-in:disabled + label {\n",
       "  color: var(--xr-font-color2);\n",
       "}\n",
       "\n",
       ".xr-section-summary-in + label:before {\n",
       "  display: inline-block;\n",
       "  content: '►';\n",
       "  font-size: 11px;\n",
       "  width: 15px;\n",
       "  text-align: center;\n",
       "}\n",
       "\n",
       ".xr-section-summary-in:disabled + label:before {\n",
       "  color: var(--xr-disabled-color);\n",
       "}\n",
       "\n",
       ".xr-section-summary-in:checked + label:before {\n",
       "  content: '▼';\n",
       "}\n",
       "\n",
       ".xr-section-summary-in:checked + label > span {\n",
       "  display: none;\n",
       "}\n",
       "\n",
       ".xr-section-summary,\n",
       ".xr-section-inline-details {\n",
       "  padding-top: 4px;\n",
       "  padding-bottom: 4px;\n",
       "}\n",
       "\n",
       ".xr-section-inline-details {\n",
       "  grid-column: 2 / -1;\n",
       "}\n",
       "\n",
       ".xr-section-details {\n",
       "  display: none;\n",
       "  grid-column: 1 / -1;\n",
       "  margin-bottom: 5px;\n",
       "}\n",
       "\n",
       ".xr-section-summary-in:checked ~ .xr-section-details {\n",
       "  display: contents;\n",
       "}\n",
       "\n",
       ".xr-array-wrap {\n",
       "  grid-column: 1 / -1;\n",
       "  display: grid;\n",
       "  grid-template-columns: 20px auto;\n",
       "}\n",
       "\n",
       ".xr-array-wrap > label {\n",
       "  grid-column: 1;\n",
       "  vertical-align: top;\n",
       "}\n",
       "\n",
       ".xr-preview {\n",
       "  color: var(--xr-font-color3);\n",
       "}\n",
       "\n",
       ".xr-array-preview,\n",
       ".xr-array-data {\n",
       "  padding: 0 5px !important;\n",
       "  grid-column: 2;\n",
       "}\n",
       "\n",
       ".xr-array-data,\n",
       ".xr-array-in:checked ~ .xr-array-preview {\n",
       "  display: none;\n",
       "}\n",
       "\n",
       ".xr-array-in:checked ~ .xr-array-data,\n",
       ".xr-array-preview {\n",
       "  display: inline-block;\n",
       "}\n",
       "\n",
       ".xr-dim-list {\n",
       "  display: inline-block !important;\n",
       "  list-style: none;\n",
       "  padding: 0 !important;\n",
       "  margin: 0;\n",
       "}\n",
       "\n",
       ".xr-dim-list li {\n",
       "  display: inline-block;\n",
       "  padding: 0;\n",
       "  margin: 0;\n",
       "}\n",
       "\n",
       ".xr-dim-list:before {\n",
       "  content: '(';\n",
       "}\n",
       "\n",
       ".xr-dim-list:after {\n",
       "  content: ')';\n",
       "}\n",
       "\n",
       ".xr-dim-list li:not(:last-child):after {\n",
       "  content: ',';\n",
       "  padding-right: 5px;\n",
       "}\n",
       "\n",
       ".xr-has-index {\n",
       "  font-weight: bold;\n",
       "}\n",
       "\n",
       ".xr-var-list,\n",
       ".xr-var-item {\n",
       "  display: contents;\n",
       "}\n",
       "\n",
       ".xr-var-item > div,\n",
       ".xr-var-item label,\n",
       ".xr-var-item > .xr-var-name span {\n",
       "  background-color: var(--xr-background-color-row-even);\n",
       "  margin-bottom: 0;\n",
       "}\n",
       "\n",
       ".xr-var-item > .xr-var-name:hover span {\n",
       "  padding-right: 5px;\n",
       "}\n",
       "\n",
       ".xr-var-list > li:nth-child(odd) > div,\n",
       ".xr-var-list > li:nth-child(odd) > label,\n",
       ".xr-var-list > li:nth-child(odd) > .xr-var-name span {\n",
       "  background-color: var(--xr-background-color-row-odd);\n",
       "}\n",
       "\n",
       ".xr-var-name {\n",
       "  grid-column: 1;\n",
       "}\n",
       "\n",
       ".xr-var-dims {\n",
       "  grid-column: 2;\n",
       "}\n",
       "\n",
       ".xr-var-dtype {\n",
       "  grid-column: 3;\n",
       "  text-align: right;\n",
       "  color: var(--xr-font-color2);\n",
       "}\n",
       "\n",
       ".xr-var-preview {\n",
       "  grid-column: 4;\n",
       "}\n",
       "\n",
       ".xr-var-name,\n",
       ".xr-var-dims,\n",
       ".xr-var-dtype,\n",
       ".xr-preview,\n",
       ".xr-attrs dt {\n",
       "  white-space: nowrap;\n",
       "  overflow: hidden;\n",
       "  text-overflow: ellipsis;\n",
       "  padding-right: 10px;\n",
       "}\n",
       "\n",
       ".xr-var-name:hover,\n",
       ".xr-var-dims:hover,\n",
       ".xr-var-dtype:hover,\n",
       ".xr-attrs dt:hover {\n",
       "  overflow: visible;\n",
       "  width: auto;\n",
       "  z-index: 1;\n",
       "}\n",
       "\n",
       ".xr-var-attrs,\n",
       ".xr-var-data {\n",
       "  display: none;\n",
       "  background-color: var(--xr-background-color) !important;\n",
       "  padding-bottom: 5px !important;\n",
       "}\n",
       "\n",
       ".xr-var-attrs-in:checked ~ .xr-var-attrs,\n",
       ".xr-var-data-in:checked ~ .xr-var-data {\n",
       "  display: block;\n",
       "}\n",
       "\n",
       ".xr-var-data > table {\n",
       "  float: right;\n",
       "}\n",
       "\n",
       ".xr-var-name span,\n",
       ".xr-var-data,\n",
       ".xr-attrs {\n",
       "  padding-left: 25px !important;\n",
       "}\n",
       "\n",
       ".xr-attrs,\n",
       ".xr-var-attrs,\n",
       ".xr-var-data {\n",
       "  grid-column: 1 / -1;\n",
       "}\n",
       "\n",
       "dl.xr-attrs {\n",
       "  padding: 0;\n",
       "  margin: 0;\n",
       "  display: grid;\n",
       "  grid-template-columns: 125px auto;\n",
       "}\n",
       "\n",
       ".xr-attrs dt,\n",
       ".xr-attrs dd {\n",
       "  padding: 0;\n",
       "  margin: 0;\n",
       "  float: left;\n",
       "  padding-right: 10px;\n",
       "  width: auto;\n",
       "}\n",
       "\n",
       ".xr-attrs dt {\n",
       "  font-weight: normal;\n",
       "  grid-column: 1;\n",
       "}\n",
       "\n",
       ".xr-attrs dt:hover span {\n",
       "  display: inline-block;\n",
       "  background: var(--xr-background-color);\n",
       "  padding-right: 10px;\n",
       "}\n",
       "\n",
       ".xr-attrs dd {\n",
       "  grid-column: 2;\n",
       "  white-space: pre-wrap;\n",
       "  word-break: break-all;\n",
       "}\n",
       "\n",
       ".xr-icon-database,\n",
       ".xr-icon-file-text2 {\n",
       "  display: inline-block;\n",
       "  vertical-align: middle;\n",
       "  width: 1em;\n",
       "  height: 1.5em !important;\n",
       "  stroke-width: 0;\n",
       "  stroke: currentColor;\n",
       "  fill: currentColor;\n",
       "}\n",
       "</style><pre class='xr-text-repr-fallback'>&lt;xarray.Dataset&gt;\n",
       "Dimensions:        (ntraj: 40842)\n",
       "Dimensions without coordinates: ntraj\n",
       "Data variables: (12/25)\n",
       "    init_x         (ntraj) float64 178.0 178.0 178.0 178.0 ... 178.0 178.0 178.0\n",
       "    init_y         (ntraj) float64 234.5 235.5 236.5 237.5 ... 279.5 280.5 281.5\n",
       "    init_z         (ntraj) float64 1.5 1.5 1.5 1.5 1.5 ... 28.5 28.5 28.5 28.5\n",
       "    init_t         (ntraj) float64 1.0 1.0 1.0 1.0 1.0 ... 24.0 24.0 24.0 24.0\n",
       "    init_age       (ntraj) timedelta64[ns] 00:00:00 00:00:00 ... 00:00:00\n",
       "    init_transp    (ntraj) float64 70.94 125.7 111.4 176.9 ... 528.9 493.7 101.7\n",
       "    ...             ...\n",
       "    init_lon       (ntraj) float64 -123.3 -123.3 -123.3 ... -123.4 -123.4 -123.4\n",
       "    init_lat       (ntraj) float64 48.12 48.12 48.13 48.13 ... 48.3 48.3 48.31\n",
       "    init_depth     (ntraj) float64 -0.5 -0.5 -0.5 -0.5 ... -116.4 -115.9 -113.4\n",
       "    final_lon      (ntraj) float64 -123.3 -123.3 -123.3 ... -123.4 -123.4 -123.4\n",
       "    final_lat      (ntraj) float64 48.12 48.13 48.13 48.13 ... 48.29 48.3 48.3\n",
       "    final_depth    (ntraj) float64 -0.4399 -2.334 -4.07 ... -120.3 -123.9 -115.5\n",
       "Attributes: (12/105)\n",
       "    key_roms:                  .FALSE.\n",
       "    key_symphonie:             .FALSE.\n",
       "    key_B2C_grid:              .FALSE.\n",
       "    key_sequential:            .TRUE.\n",
       "    key_alltracers:            .TRUE.\n",
       "    key_ascii_outputs:         .TRUE.\n",
       "    ...                        ...\n",
       "    ind0_sa:                   1\n",
       "    indn_sa:                   30\n",
       "    maxsize_sa:                2\n",
       "    c_suffix_sa:               _grid_T.nc\n",
       "    nc_var_sa:                 vosaline\n",
       "    nc_att_mask_sa:            NONE</pre><div class='xr-wrap' hidden><div class='xr-header'><div class='xr-obj-type'>xarray.Dataset</div></div><ul class='xr-sections'><li class='xr-section-item'><input id='section-4c977d44-cd1d-41ad-839d-0b2c3bdbde79' class='xr-section-summary-in' type='checkbox' disabled ><label for='section-4c977d44-cd1d-41ad-839d-0b2c3bdbde79' class='xr-section-summary'  title='Expand/collapse section'>Dimensions:</label><div class='xr-section-inline-details'><ul class='xr-dim-list'><li><span>ntraj</span>: 40842</li></ul></div><div class='xr-section-details'></div></li><li class='xr-section-item'><input id='section-17bf1b34-df26-418f-8cf7-c15e0502649d' class='xr-section-summary-in' type='checkbox' disabled ><label for='section-17bf1b34-df26-418f-8cf7-c15e0502649d' class='xr-section-summary'  title='Expand/collapse section'>Coordinates: <span>(0)</span></label><div class='xr-section-inline-details'></div><div class='xr-section-details'><ul class='xr-var-list'></ul></div></li><li class='xr-section-item'><input id='section-a7285d64-07d9-4bfb-9ddd-ef848f2bcf88' class='xr-section-summary-in' type='checkbox'  ><label for='section-a7285d64-07d9-4bfb-9ddd-ef848f2bcf88' class='xr-section-summary' >Data variables: <span>(25)</span></label><div class='xr-section-inline-details'></div><div class='xr-section-details'><ul class='xr-var-list'><li class='xr-var-item'><div class='xr-var-name'><span>init_x</span></div><div class='xr-var-dims'>(ntraj)</div><div class='xr-var-dtype'>float64</div><div class='xr-var-preview xr-preview'>...</div><input id='attrs-bf7a8495-5768-4fbe-b0d9-134fc926deb3' class='xr-var-attrs-in' type='checkbox' ><label for='attrs-bf7a8495-5768-4fbe-b0d9-134fc926deb3' title='Show/Hide attributes'><svg class='icon xr-icon-file-text2'><use xlink:href='#icon-file-text2'></use></svg></label><input id='data-02b1a10e-5380-402e-8884-2eb3db19346a' class='xr-var-data-in' type='checkbox'><label for='data-02b1a10e-5380-402e-8884-2eb3db19346a' title='Show/Hide data repr'><svg class='icon xr-icon-database'><use xlink:href='#icon-database'></use></svg></label><div class='xr-var-attrs'><dl class='xr-attrs'><dt><span>title :</span></dt><dd>What is init_x ?</dd><dt><span>longname :</span></dt><dd>Initial position in i</dd><dt><span>units :</span></dt><dd>No dimension</dd></dl></div><div class='xr-var-data'><pre>array([178., 178., 178., ..., 178., 178., 178.])</pre></div></li><li class='xr-var-item'><div class='xr-var-name'><span>init_y</span></div><div class='xr-var-dims'>(ntraj)</div><div class='xr-var-dtype'>float64</div><div class='xr-var-preview xr-preview'>...</div><input id='attrs-96a8f423-7917-40d6-98df-25b58c7d48c2' class='xr-var-attrs-in' type='checkbox' ><label for='attrs-96a8f423-7917-40d6-98df-25b58c7d48c2' title='Show/Hide attributes'><svg class='icon xr-icon-file-text2'><use xlink:href='#icon-file-text2'></use></svg></label><input id='data-3815a2d9-4581-4ade-bb34-9e0dac6faaf5' class='xr-var-data-in' type='checkbox'><label for='data-3815a2d9-4581-4ade-bb34-9e0dac6faaf5' title='Show/Hide data repr'><svg class='icon xr-icon-database'><use xlink:href='#icon-database'></use></svg></label><div class='xr-var-attrs'><dl class='xr-attrs'><dt><span>title :</span></dt><dd>What is init_y ?</dd><dt><span>longname :</span></dt><dd>Initial position in j</dd><dt><span>units :</span></dt><dd>No dimension</dd></dl></div><div class='xr-var-data'><pre>array([234.5, 235.5, 236.5, ..., 279.5, 280.5, 281.5])</pre></div></li><li class='xr-var-item'><div class='xr-var-name'><span>init_z</span></div><div class='xr-var-dims'>(ntraj)</div><div class='xr-var-dtype'>float64</div><div class='xr-var-preview xr-preview'>...</div><input id='attrs-af0e8aec-910b-4859-b95a-91645db77b37' class='xr-var-attrs-in' type='checkbox' ><label for='attrs-af0e8aec-910b-4859-b95a-91645db77b37' title='Show/Hide attributes'><svg class='icon xr-icon-file-text2'><use xlink:href='#icon-file-text2'></use></svg></label><input id='data-3495f266-f526-45a4-9780-fb9b661d8e2b' class='xr-var-data-in' type='checkbox'><label for='data-3495f266-f526-45a4-9780-fb9b661d8e2b' title='Show/Hide data repr'><svg class='icon xr-icon-database'><use xlink:href='#icon-database'></use></svg></label><div class='xr-var-attrs'><dl class='xr-attrs'><dt><span>title :</span></dt><dd>What is init_z ?</dd><dt><span>longname :</span></dt><dd>Initial position in k</dd><dt><span>units :</span></dt><dd>No dimension</dd></dl></div><div class='xr-var-data'><pre>array([ 1.5,  1.5,  1.5, ..., 28.5, 28.5, 28.5])</pre></div></li><li class='xr-var-item'><div class='xr-var-name'><span>init_t</span></div><div class='xr-var-dims'>(ntraj)</div><div class='xr-var-dtype'>float64</div><div class='xr-var-preview xr-preview'>...</div><input id='attrs-f49306b0-8033-4876-92c7-1ee8d36d97fb' class='xr-var-attrs-in' type='checkbox' ><label for='attrs-f49306b0-8033-4876-92c7-1ee8d36d97fb' title='Show/Hide attributes'><svg class='icon xr-icon-file-text2'><use xlink:href='#icon-file-text2'></use></svg></label><input id='data-329ace69-822e-476c-810b-659f41713f28' class='xr-var-data-in' type='checkbox'><label for='data-329ace69-822e-476c-810b-659f41713f28' title='Show/Hide data repr'><svg class='icon xr-icon-database'><use xlink:href='#icon-database'></use></svg></label><div class='xr-var-attrs'><dl class='xr-attrs'><dt><span>title :</span></dt><dd>What is init_t ?</dd><dt><span>longname :</span></dt><dd>Initial position in l (time)</dd><dt><span>units :</span></dt><dd>See global attributes...</dd></dl></div><div class='xr-var-data'><pre>array([ 1.,  1.,  1., ..., 24., 24., 24.])</pre></div></li><li class='xr-var-item'><div class='xr-var-name'><span>init_age</span></div><div class='xr-var-dims'>(ntraj)</div><div class='xr-var-dtype'>timedelta64[ns]</div><div class='xr-var-preview xr-preview'>...</div><input id='attrs-1caed90b-cd78-4d39-b114-549bd20a7f96' class='xr-var-attrs-in' type='checkbox' ><label for='attrs-1caed90b-cd78-4d39-b114-549bd20a7f96' title='Show/Hide attributes'><svg class='icon xr-icon-file-text2'><use xlink:href='#icon-file-text2'></use></svg></label><input id='data-f17133f9-3058-4dbb-a5d6-881d2352ccea' class='xr-var-data-in' type='checkbox'><label for='data-f17133f9-3058-4dbb-a5d6-881d2352ccea' title='Show/Hide data repr'><svg class='icon xr-icon-database'><use xlink:href='#icon-database'></use></svg></label><div class='xr-var-attrs'><dl class='xr-attrs'><dt><span>title :</span></dt><dd>What is init_age ?</dd><dt><span>longname :</span></dt><dd>Initial age (time)</dd></dl></div><div class='xr-var-data'><pre>array([0, 0, 0, ..., 0, 0, 0], dtype=&#x27;timedelta64[ns]&#x27;)</pre></div></li><li class='xr-var-item'><div class='xr-var-name'><span>init_transp</span></div><div class='xr-var-dims'>(ntraj)</div><div class='xr-var-dtype'>float64</div><div class='xr-var-preview xr-preview'>...</div><input id='attrs-d6abb3cd-cc70-4061-8bd2-e8c182d56a27' class='xr-var-attrs-in' type='checkbox' ><label for='attrs-d6abb3cd-cc70-4061-8bd2-e8c182d56a27' title='Show/Hide attributes'><svg class='icon xr-icon-file-text2'><use xlink:href='#icon-file-text2'></use></svg></label><input id='data-ea837dfe-afcb-4a97-b8d1-aa7870c4cb41' class='xr-var-data-in' type='checkbox'><label for='data-ea837dfe-afcb-4a97-b8d1-aa7870c4cb41' title='Show/Hide data repr'><svg class='icon xr-icon-database'><use xlink:href='#icon-database'></use></svg></label><div class='xr-var-attrs'><dl class='xr-attrs'><dt><span>title :</span></dt><dd>What is init_transp ?</dd><dt><span>longname :</span></dt><dd>Initial transport</dd><dt><span>units :</span></dt><dd>m3/s</dd></dl></div><div class='xr-var-data'><pre>array([ 70.936137, 125.736613, 111.442549, ..., 528.89877 , 493.702598,\n",
       "       101.680164])</pre></div></li><li class='xr-var-item'><div class='xr-var-name'><span>init_temp</span></div><div class='xr-var-dims'>(ntraj)</div><div class='xr-var-dtype'>float32</div><div class='xr-var-preview xr-preview'>...</div><input id='attrs-62832e38-5a8e-43d8-a7ee-893523712b8d' class='xr-var-attrs-in' type='checkbox' ><label for='attrs-62832e38-5a8e-43d8-a7ee-893523712b8d' title='Show/Hide attributes'><svg class='icon xr-icon-file-text2'><use xlink:href='#icon-file-text2'></use></svg></label><input id='data-fa80c24e-b6f7-4bf8-8d6d-cd487be61698' class='xr-var-data-in' type='checkbox'><label for='data-fa80c24e-b6f7-4bf8-8d6d-cd487be61698' title='Show/Hide data repr'><svg class='icon xr-icon-database'><use xlink:href='#icon-database'></use></svg></label><div class='xr-var-attrs'><dl class='xr-attrs'><dt><span>title :</span></dt><dd>What is init_temp ?</dd><dt><span>longname :</span></dt><dd>Initial temperature</dd><dt><span>units :</span></dt><dd>degres</dd></dl></div><div class='xr-var-data'><pre>array([10.205647, 10.110914, 10.04063 , ...,  9.009487,  9.024521,  9.015411],\n",
       "      dtype=float32)</pre></div></li><li class='xr-var-item'><div class='xr-var-name'><span>init_salt</span></div><div class='xr-var-dims'>(ntraj)</div><div class='xr-var-dtype'>float32</div><div class='xr-var-preview xr-preview'>...</div><input id='attrs-a068408c-903f-4f35-b4a4-1e2c502316fc' class='xr-var-attrs-in' type='checkbox' ><label for='attrs-a068408c-903f-4f35-b4a4-1e2c502316fc' title='Show/Hide attributes'><svg class='icon xr-icon-file-text2'><use xlink:href='#icon-file-text2'></use></svg></label><input id='data-90ad9978-fd46-4c49-8eec-7c0251bc3cc0' class='xr-var-data-in' type='checkbox'><label for='data-90ad9978-fd46-4c49-8eec-7c0251bc3cc0' title='Show/Hide data repr'><svg class='icon xr-icon-database'><use xlink:href='#icon-database'></use></svg></label><div class='xr-var-attrs'><dl class='xr-attrs'><dt><span>title :</span></dt><dd>What is init_salt ?</dd><dt><span>longname :</span></dt><dd>Initial salinity</dd><dt><span>units :</span></dt><dd>psu</dd></dl></div><div class='xr-var-data'><pre>array([31.098911, 31.24799 , 31.73251 , ..., 32.79876 , 32.781776, 32.789715],\n",
       "      dtype=float32)</pre></div></li><li class='xr-var-item'><div class='xr-var-name'><span>init_dens</span></div><div class='xr-var-dims'>(ntraj)</div><div class='xr-var-dtype'>float32</div><div class='xr-var-preview xr-preview'>...</div><input id='attrs-17ecd227-afa9-4a54-9366-74b8ce524722' class='xr-var-attrs-in' type='checkbox' ><label for='attrs-17ecd227-afa9-4a54-9366-74b8ce524722' title='Show/Hide attributes'><svg class='icon xr-icon-file-text2'><use xlink:href='#icon-file-text2'></use></svg></label><input id='data-3643b1e6-e16f-4461-a383-9558cb515db0' class='xr-var-data-in' type='checkbox'><label for='data-3643b1e6-e16f-4461-a383-9558cb515db0' title='Show/Hide data repr'><svg class='icon xr-icon-database'><use xlink:href='#icon-database'></use></svg></label><div class='xr-var-attrs'><dl class='xr-attrs'><dt><span>title :</span></dt><dd>What is init_dens ?</dd><dt><span>longname :</span></dt><dd>Initial density</dd><dt><span>units :</span></dt><dd>...</dd></dl></div><div class='xr-var-data'><pre>array([24.32661 , 24.458504, 24.847664, ..., 25.847467, 25.831812, 25.83946 ],\n",
       "      dtype=float32)</pre></div></li><li class='xr-var-item'><div class='xr-var-name'><span>final_x</span></div><div class='xr-var-dims'>(ntraj)</div><div class='xr-var-dtype'>float64</div><div class='xr-var-preview xr-preview'>...</div><input id='attrs-9c34b000-6958-4750-af32-0a205559ff85' class='xr-var-attrs-in' type='checkbox' ><label for='attrs-9c34b000-6958-4750-af32-0a205559ff85' title='Show/Hide attributes'><svg class='icon xr-icon-file-text2'><use xlink:href='#icon-file-text2'></use></svg></label><input id='data-1f74a109-3499-4bd4-a833-63ca6ffaf6a4' class='xr-var-data-in' type='checkbox'><label for='data-1f74a109-3499-4bd4-a833-63ca6ffaf6a4' title='Show/Hide data repr'><svg class='icon xr-icon-database'><use xlink:href='#icon-database'></use></svg></label><div class='xr-var-attrs'><dl class='xr-attrs'><dt><span>title :</span></dt><dd>What is final_x ?</dd><dt><span>longname :</span></dt><dd>Final position in x (or i)</dd><dt><span>units :</span></dt><dd>No dimension</dd></dl></div><div class='xr-var-data'><pre>array([178., 178., 178., ..., 178., 178., 178.])</pre></div></li><li class='xr-var-item'><div class='xr-var-name'><span>final_y</span></div><div class='xr-var-dims'>(ntraj)</div><div class='xr-var-dtype'>float64</div><div class='xr-var-preview xr-preview'>...</div><input id='attrs-56f9d30d-9e7b-424c-b813-d4e4e24056a3' class='xr-var-attrs-in' type='checkbox' ><label for='attrs-56f9d30d-9e7b-424c-b813-d4e4e24056a3' title='Show/Hide attributes'><svg class='icon xr-icon-file-text2'><use xlink:href='#icon-file-text2'></use></svg></label><input id='data-b835c0ae-616b-466e-9c54-3e3f8e4d3931' class='xr-var-data-in' type='checkbox'><label for='data-b835c0ae-616b-466e-9c54-3e3f8e4d3931' title='Show/Hide data repr'><svg class='icon xr-icon-database'><use xlink:href='#icon-database'></use></svg></label><div class='xr-var-attrs'><dl class='xr-attrs'><dt><span>title :</span></dt><dd>What is final_y ?</dd><dt><span>longname :</span></dt><dd>Final position in y (or j)</dd><dt><span>units :</span></dt><dd>No dimension</dd></dl></div><div class='xr-var-data'><pre>array([235.450553, 236.703355, 236.97978 , ..., 277.94714 , 279.058188,\n",
       "       280.4133  ])</pre></div></li><li class='xr-var-item'><div class='xr-var-name'><span>final_z</span></div><div class='xr-var-dims'>(ntraj)</div><div class='xr-var-dtype'>float64</div><div class='xr-var-preview xr-preview'>...</div><input id='attrs-6a7c14e3-fe33-4566-8571-2862e4544ee2' class='xr-var-attrs-in' type='checkbox' ><label for='attrs-6a7c14e3-fe33-4566-8571-2862e4544ee2' title='Show/Hide attributes'><svg class='icon xr-icon-file-text2'><use xlink:href='#icon-file-text2'></use></svg></label><input id='data-9eb18737-ddaa-4322-afaf-a3de094fc9f5' class='xr-var-data-in' type='checkbox'><label for='data-9eb18737-ddaa-4322-afaf-a3de094fc9f5' title='Show/Hide data repr'><svg class='icon xr-icon-database'><use xlink:href='#icon-database'></use></svg></label><div class='xr-var-attrs'><dl class='xr-attrs'><dt><span>title :</span></dt><dd>What is final_z ?</dd><dt><span>longname :</span></dt><dd>Final position in z (or k)</dd><dt><span>units :</span></dt><dd>No dimension</dd></dl></div><div class='xr-var-data'><pre>array([ 1.439877,  3.334215,  5.070437, ..., 28.574117, 28.779154, 28.429596])</pre></div></li><li class='xr-var-item'><div class='xr-var-name'><span>final_t</span></div><div class='xr-var-dims'>(ntraj)</div><div class='xr-var-dtype'>float64</div><div class='xr-var-preview xr-preview'>...</div><input id='attrs-01a774e7-4642-4095-b21a-f5623ebc3175' class='xr-var-attrs-in' type='checkbox' ><label for='attrs-01a774e7-4642-4095-b21a-f5623ebc3175' title='Show/Hide attributes'><svg class='icon xr-icon-file-text2'><use xlink:href='#icon-file-text2'></use></svg></label><input id='data-75268f23-1d7c-4165-b39f-c2d128cab9f9' class='xr-var-data-in' type='checkbox'><label for='data-75268f23-1d7c-4165-b39f-c2d128cab9f9' title='Show/Hide data repr'><svg class='icon xr-icon-database'><use xlink:href='#icon-database'></use></svg></label><div class='xr-var-attrs'><dl class='xr-attrs'><dt><span>title :</span></dt><dd>What is final_t ?</dd><dt><span>longname :</span></dt><dd>Final position in t (time)</dd><dt><span>units :</span></dt><dd>See global attributes...</dd></dl></div><div class='xr-var-data'><pre>array([ 4.813784,  5.299366,  5.20379 , ..., 30.589475, 30.7155  , 30.084686])</pre></div></li><li class='xr-var-item'><div class='xr-var-name'><span>final_age</span></div><div class='xr-var-dims'>(ntraj)</div><div class='xr-var-dtype'>timedelta64[ns]</div><div class='xr-var-preview xr-preview'>...</div><input id='attrs-53c811f0-79cb-4457-ba15-94f0df9066f4' class='xr-var-attrs-in' type='checkbox' ><label for='attrs-53c811f0-79cb-4457-ba15-94f0df9066f4' title='Show/Hide attributes'><svg class='icon xr-icon-file-text2'><use xlink:href='#icon-file-text2'></use></svg></label><input id='data-10dac6e7-ced6-4bde-9e5e-64af63ca5512' class='xr-var-data-in' type='checkbox'><label for='data-10dac6e7-ced6-4bde-9e5e-64af63ca5512' title='Show/Hide data repr'><svg class='icon xr-icon-database'><use xlink:href='#icon-database'></use></svg></label><div class='xr-var-attrs'><dl class='xr-attrs'><dt><span>title :</span></dt><dd>What is fial_age ?</dd><dt><span>longname :</span></dt><dd>Final Age.</dd></dl></div><div class='xr-var-data'><pre>array([13729623292829, 15477719061538, 15133645620675, ..., 23722110025696,\n",
       "       24175801791627, 21904868276763], dtype=&#x27;timedelta64[ns]&#x27;)</pre></div></li><li class='xr-var-item'><div class='xr-var-name'><span>final_transp</span></div><div class='xr-var-dims'>(ntraj)</div><div class='xr-var-dtype'>float64</div><div class='xr-var-preview xr-preview'>...</div><input id='attrs-33684de4-2787-4885-8351-ad0f7399a6c9' class='xr-var-attrs-in' type='checkbox' ><label for='attrs-33684de4-2787-4885-8351-ad0f7399a6c9' title='Show/Hide attributes'><svg class='icon xr-icon-file-text2'><use xlink:href='#icon-file-text2'></use></svg></label><input id='data-f56681b2-0151-4f24-8554-223cb98caf0a' class='xr-var-data-in' type='checkbox'><label for='data-f56681b2-0151-4f24-8554-223cb98caf0a' title='Show/Hide data repr'><svg class='icon xr-icon-database'><use xlink:href='#icon-database'></use></svg></label><div class='xr-var-attrs'><dl class='xr-attrs'><dt><span>title :</span></dt><dd>What is final_transp ?</dd><dt><span>longname :</span></dt><dd>Final transport</dd><dt><span>units :</span></dt><dd>m3/s</dd></dl></div><div class='xr-var-data'><pre>array([ 70.936137, 125.736613, 111.442549, ..., 528.89877 , 493.702598,\n",
       "       101.680164])</pre></div></li><li class='xr-var-item'><div class='xr-var-name'><span>final_section</span></div><div class='xr-var-dims'>(ntraj)</div><div class='xr-var-dtype'>float64</div><div class='xr-var-preview xr-preview'>...</div><input id='attrs-ac5dacf2-7934-4663-9448-1618b6a82ccb' class='xr-var-attrs-in' type='checkbox' ><label for='attrs-ac5dacf2-7934-4663-9448-1618b6a82ccb' title='Show/Hide attributes'><svg class='icon xr-icon-file-text2'><use xlink:href='#icon-file-text2'></use></svg></label><input id='data-ad5ae5a8-14f5-4ed9-a18d-1e5e6d72d0f7' class='xr-var-data-in' type='checkbox'><label for='data-ad5ae5a8-14f5-4ed9-a18d-1e5e6d72d0f7' title='Show/Hide data repr'><svg class='icon xr-icon-database'><use xlink:href='#icon-database'></use></svg></label><div class='xr-var-attrs'><dl class='xr-attrs'><dt><span>title :</span></dt><dd>What is final_section ?</dd><dt><span>longname :</span></dt><dd>Final section</dd><dt><span>units :</span></dt><dd>No dimension</dd></dl></div><div class='xr-var-data'><pre>array([0., 0., 0., ..., 0., 0., 0.])</pre></div></li><li class='xr-var-item'><div class='xr-var-name'><span>final_temp</span></div><div class='xr-var-dims'>(ntraj)</div><div class='xr-var-dtype'>float32</div><div class='xr-var-preview xr-preview'>...</div><input id='attrs-0a009d49-d7e3-4d17-b58b-496d505a6015' class='xr-var-attrs-in' type='checkbox' ><label for='attrs-0a009d49-d7e3-4d17-b58b-496d505a6015' title='Show/Hide attributes'><svg class='icon xr-icon-file-text2'><use xlink:href='#icon-file-text2'></use></svg></label><input id='data-7d3e7b31-359e-42e0-a1bc-93148f996a62' class='xr-var-data-in' type='checkbox'><label for='data-7d3e7b31-359e-42e0-a1bc-93148f996a62' title='Show/Hide data repr'><svg class='icon xr-icon-database'><use xlink:href='#icon-database'></use></svg></label><div class='xr-var-attrs'><dl class='xr-attrs'><dt><span>title :</span></dt><dd>What is final_temp ?</dd><dt><span>longname :</span></dt><dd>Final temperature</dd><dt><span>units :</span></dt><dd>degres</dd></dl></div><div class='xr-var-data'><pre>array([10.134648, 10.032112, 10.014908, ...,  9.108043,  9.094237,  9.017263],\n",
       "      dtype=float32)</pre></div></li><li class='xr-var-item'><div class='xr-var-name'><span>final_salt</span></div><div class='xr-var-dims'>(ntraj)</div><div class='xr-var-dtype'>float32</div><div class='xr-var-preview xr-preview'>...</div><input id='attrs-b0681bd2-f3f8-451e-aec2-1c8a7b5861c5' class='xr-var-attrs-in' type='checkbox' ><label for='attrs-b0681bd2-f3f8-451e-aec2-1c8a7b5861c5' title='Show/Hide attributes'><svg class='icon xr-icon-file-text2'><use xlink:href='#icon-file-text2'></use></svg></label><input id='data-99c2f089-0601-4638-9878-9bddc37d0576' class='xr-var-data-in' type='checkbox'><label for='data-99c2f089-0601-4638-9878-9bddc37d0576' title='Show/Hide data repr'><svg class='icon xr-icon-database'><use xlink:href='#icon-database'></use></svg></label><div class='xr-var-attrs'><dl class='xr-attrs'><dt><span>title :</span></dt><dd>What is final_salt ?</dd><dt><span>longname :</span></dt><dd>Final salinity</dd><dt><span>units :</span></dt><dd>psu</dd></dl></div><div class='xr-var-data'><pre>array([30.96328 , 31.599962, 31.698166, ..., 32.686836, 32.699505, 32.788967],\n",
       "      dtype=float32)</pre></div></li><li class='xr-var-item'><div class='xr-var-name'><span>final_dens</span></div><div class='xr-var-dims'>(ntraj)</div><div class='xr-var-dtype'>float32</div><div class='xr-var-preview xr-preview'>...</div><input id='attrs-874d127b-5171-4a91-a575-fd468f36a0de' class='xr-var-attrs-in' type='checkbox' ><label for='attrs-874d127b-5171-4a91-a575-fd468f36a0de' title='Show/Hide attributes'><svg class='icon xr-icon-file-text2'><use xlink:href='#icon-file-text2'></use></svg></label><input id='data-8f1774ac-d48f-47d9-93a5-5e7df7a7daaa' class='xr-var-data-in' type='checkbox'><label for='data-8f1774ac-d48f-47d9-93a5-5e7df7a7daaa' title='Show/Hide data repr'><svg class='icon xr-icon-database'><use xlink:href='#icon-database'></use></svg></label><div class='xr-var-attrs'><dl class='xr-attrs'><dt><span>title :</span></dt><dd>What is final_dens ?</dd><dt><span>longname :</span></dt><dd>Final density</dd><dt><span>units :</span></dt><dd>...</dd></dl></div><div class='xr-var-data'><pre>array([24.232826, 24.745808, 24.825188, ..., 25.74434 , 25.756437, 25.838583],\n",
       "      dtype=float32)</pre></div></li><li class='xr-var-item'><div class='xr-var-name'><span>init_lon</span></div><div class='xr-var-dims'>(ntraj)</div><div class='xr-var-dtype'>float64</div><div class='xr-var-preview xr-preview'>...</div><input id='attrs-5dec1030-846d-46f1-b5e6-e2beb96b3ac8' class='xr-var-attrs-in' type='checkbox' ><label for='attrs-5dec1030-846d-46f1-b5e6-e2beb96b3ac8' title='Show/Hide attributes'><svg class='icon xr-icon-file-text2'><use xlink:href='#icon-file-text2'></use></svg></label><input id='data-161d3e0a-e673-4a23-b837-ec55a6c1367e' class='xr-var-data-in' type='checkbox'><label for='data-161d3e0a-e673-4a23-b837-ec55a6c1367e' title='Show/Hide data repr'><svg class='icon xr-icon-database'><use xlink:href='#icon-database'></use></svg></label><div class='xr-var-attrs'><dl class='xr-attrs'><dt><span>title :</span></dt><dd>What is init_lon ?</dd><dt><span>longname :</span></dt><dd>Initial position in longitude</dd><dt><span>units :</span></dt><dd>No dimension</dd></dl></div><div class='xr-var-data'><pre>array([-123.255348, -123.258667, -123.261986, ..., -123.404854, -123.40818 ,\n",
       "       -123.411507])</pre></div></li><li class='xr-var-item'><div class='xr-var-name'><span>init_lat</span></div><div class='xr-var-dims'>(ntraj)</div><div class='xr-var-dtype'>float64</div><div class='xr-var-preview xr-preview'>...</div><input id='attrs-a3fb8788-af6b-4a59-bb81-0e76d3dfa503' class='xr-var-attrs-in' type='checkbox' ><label for='attrs-a3fb8788-af6b-4a59-bb81-0e76d3dfa503' title='Show/Hide attributes'><svg class='icon xr-icon-file-text2'><use xlink:href='#icon-file-text2'></use></svg></label><input id='data-e64b3c6c-4864-4a4b-82ff-248b63be26ca' class='xr-var-data-in' type='checkbox'><label for='data-e64b3c6c-4864-4a4b-82ff-248b63be26ca' title='Show/Hide data repr'><svg class='icon xr-icon-database'><use xlink:href='#icon-database'></use></svg></label><div class='xr-var-attrs'><dl class='xr-attrs'><dt><span>title :</span></dt><dd>What is init_lat ?</dd><dt><span>longname :</span></dt><dd>Initial position in latitude</dd><dt><span>units :</span></dt><dd>No dimension</dd></dl></div><div class='xr-var-data'><pre>array([48.120514, 48.12448 , 48.128446, ..., 48.298944, 48.302908, 48.306871])</pre></div></li><li class='xr-var-item'><div class='xr-var-name'><span>init_depth</span></div><div class='xr-var-dims'>(ntraj)</div><div class='xr-var-dtype'>float64</div><div class='xr-var-preview xr-preview'>...</div><input id='attrs-41f4e0a2-4e39-429f-b2e0-734810417b6a' class='xr-var-attrs-in' type='checkbox' ><label for='attrs-41f4e0a2-4e39-429f-b2e0-734810417b6a' title='Show/Hide attributes'><svg class='icon xr-icon-file-text2'><use xlink:href='#icon-file-text2'></use></svg></label><input id='data-06b4794d-2625-4e6a-a8dd-26f3bad75950' class='xr-var-data-in' type='checkbox'><label for='data-06b4794d-2625-4e6a-a8dd-26f3bad75950' title='Show/Hide data repr'><svg class='icon xr-icon-database'><use xlink:href='#icon-database'></use></svg></label><div class='xr-var-attrs'><dl class='xr-attrs'><dt><span>title :</span></dt><dd>What is init_depth?</dd><dt><span>longname :</span></dt><dd>Initial position in depth</dd><dt><span>units :</span></dt><dd>No dimension</dd></dl></div><div class='xr-var-data'><pre>array([  -0.500001,   -0.500001,   -0.500001, ..., -116.431034, -115.868534,\n",
       "       -113.399784])</pre></div></li><li class='xr-var-item'><div class='xr-var-name'><span>final_lon</span></div><div class='xr-var-dims'>(ntraj)</div><div class='xr-var-dtype'>float64</div><div class='xr-var-preview xr-preview'>...</div><input id='attrs-cf27b886-97c5-458a-b68f-183ea57df41b' class='xr-var-attrs-in' type='checkbox' ><label for='attrs-cf27b886-97c5-458a-b68f-183ea57df41b' title='Show/Hide attributes'><svg class='icon xr-icon-file-text2'><use xlink:href='#icon-file-text2'></use></svg></label><input id='data-4c984e5e-88a0-4216-b852-f95b54eb7cbb' class='xr-var-data-in' type='checkbox'><label for='data-4c984e5e-88a0-4216-b852-f95b54eb7cbb' title='Show/Hide data repr'><svg class='icon xr-icon-database'><use xlink:href='#icon-database'></use></svg></label><div class='xr-var-attrs'><dl class='xr-attrs'><dt><span>title :</span></dt><dd>What is final_lon ?</dd><dt><span>longname :</span></dt><dd>Final position in longitude</dd><dt><span>units :</span></dt><dd>No dimension</dd></dl></div><div class='xr-var-data'><pre>array([-123.258503, -123.262661, -123.263578, ..., -123.399688, -123.403384,\n",
       "       -123.407892])</pre></div></li><li class='xr-var-item'><div class='xr-var-name'><span>final_lat</span></div><div class='xr-var-dims'>(ntraj)</div><div class='xr-var-dtype'>float64</div><div class='xr-var-preview xr-preview'>...</div><input id='attrs-a3a9d41f-ed7f-4cb6-ac02-32bf07d722e5' class='xr-var-attrs-in' type='checkbox' ><label for='attrs-a3a9d41f-ed7f-4cb6-ac02-32bf07d722e5' title='Show/Hide attributes'><svg class='icon xr-icon-file-text2'><use xlink:href='#icon-file-text2'></use></svg></label><input id='data-d7af7c09-6500-4c99-b754-afa682c6bb83' class='xr-var-data-in' type='checkbox'><label for='data-d7af7c09-6500-4c99-b754-afa682c6bb83' title='Show/Hide data repr'><svg class='icon xr-icon-database'><use xlink:href='#icon-database'></use></svg></label><div class='xr-var-attrs'><dl class='xr-attrs'><dt><span>title :</span></dt><dd>What is final_lat ?</dd><dt><span>longname :</span></dt><dd>Final position in latitude</dd><dt><span>units :</span></dt><dd>No dimension</dd></dl></div><div class='xr-var-data'><pre>array([48.124284, 48.129252, 48.130348, ..., 48.29279 , 48.297193, 48.302564])</pre></div></li><li class='xr-var-item'><div class='xr-var-name'><span>final_depth</span></div><div class='xr-var-dims'>(ntraj)</div><div class='xr-var-dtype'>float64</div><div class='xr-var-preview xr-preview'>...</div><input id='attrs-1a5cd798-90c5-4106-80cb-66f7c6fa3cfd' class='xr-var-attrs-in' type='checkbox' ><label for='attrs-1a5cd798-90c5-4106-80cb-66f7c6fa3cfd' title='Show/Hide attributes'><svg class='icon xr-icon-file-text2'><use xlink:href='#icon-file-text2'></use></svg></label><input id='data-f31bcb7c-9fa3-4297-b50d-1d6edecd6785' class='xr-var-data-in' type='checkbox'><label for='data-f31bcb7c-9fa3-4297-b50d-1d6edecd6785' title='Show/Hide data repr'><svg class='icon xr-icon-database'><use xlink:href='#icon-database'></use></svg></label><div class='xr-var-attrs'><dl class='xr-attrs'><dt><span>title :</span></dt><dd>What is final_depth?</dd><dt><span>longname :</span></dt><dd>Final position in depth</dd><dt><span>units :</span></dt><dd>No dimension</dd></dl></div><div class='xr-var-data'><pre>array([  -0.439878,   -2.334226,   -4.070488, ..., -120.293894, -123.869309,\n",
       "       -115.488465])</pre></div></li></ul></div></li><li class='xr-section-item'><input id='section-1ee270b8-8b5c-4aea-8c2d-a15191d45bfd' class='xr-section-summary-in' type='checkbox'  ><label for='section-1ee270b8-8b5c-4aea-8c2d-a15191d45bfd' class='xr-section-summary' >Attributes: <span>(105)</span></label><div class='xr-section-inline-details'></div><div class='xr-section-details'><dl class='xr-attrs'><dt><span>key_roms :</span></dt><dd>.FALSE.</dd><dt><span>key_symphonie :</span></dt><dd>.FALSE.</dd><dt><span>key_B2C_grid :</span></dt><dd>.FALSE.</dd><dt><span>key_sequential :</span></dt><dd>.TRUE.</dd><dt><span>key_alltracers :</span></dt><dd>.TRUE.</dd><dt><span>key_ascii_outputs :</span></dt><dd>.TRUE.</dd><dt><span>key_iU_jV_kW :</span></dt><dd>.FALSE.</dd><dt><span>key_read_age :</span></dt><dd>.FALSE.</dd><dt><span>mode :</span></dt><dd>quantitative</dd><dt><span>forback :</span></dt><dd>forward</dd><dt><span>bin :</span></dt><dd>nobin</dd><dt><span>init_final :</span></dt><dd>init</dd><dt><span>nmax :</span></dt><dd>60000</dd><dt><span>tunit :</span></dt><dd>3600.0</dd><dt><span>ntfic :</span></dt><dd>1</dd><dt><span>tcyc :</span></dt><dd>2592000.0</dd><dt><span>key_approximatesigma :</span></dt><dd>.FALSE.</dd><dt><span>key_computesigma :</span></dt><dd>.TRUE.</dd><dt><span>zsigma :</span></dt><dd>100.0</dd><dt><span>memory_log :</span></dt><dd>.TRUE.</dd><dt><span>output_netcdf_large_file :</span></dt><dd>.FALSE.</dd><dt><span>key_interp_temporal :</span></dt><dd>.FALSE.</dd><dt><span>maxcycles :</span></dt><dd>1</dd><dt><span>key_2dquant :</span></dt><dd>.FALSE.</dd><dt><span>key_eco :</span></dt><dd>.TRUE.</dd><dt><span>key_reducmem :</span></dt><dd>.TRUE.</dd><dt><span>imt_reg_start :</span></dt><dd>177</dd><dt><span>imt_reg_end :</span></dt><dd>369</dd><dt><span>imt_reg :</span></dt><dd>193</dd><dt><span>jmt_reg_start :</span></dt><dd>220</dd><dt><span>jmt_reg_end :</span></dt><dd>400</dd><dt><span>jmt_reg :</span></dt><dd>181</dd><dt><span>kmt_reg_start :</span></dt><dd>1</dd><dt><span>kmt_reg_end :</span></dt><dd>40</dd><dt><span>kmt_reg :</span></dt><dd>40</dd><dt><span>key_unitm3 :</span></dt><dd>.TRUE.</dd><dt><span>key_nointerpolstats :</span></dt><dd>.FALSE.</dd><dt><span>max_transport :</span></dt><dd>1000.0</dd><dt><span>lmin :</span></dt><dd>1</dd><dt><span>lmax :</span></dt><dd>24</dd><dt><span>imt :</span></dt><dd>398</dd><dt><span>jmt :</span></dt><dd>898</dd><dt><span>kmt :</span></dt><dd>40</dd><dt><span>lmt :</span></dt><dd>720</dd><dt><span>key_computew :</span></dt><dd>.FALSE.</dd><dt><span>w_surf_option :</span></dt><dd></dd><dt><span>key_partialsteps :</span></dt><dd>.TRUE.</dd><dt><span>key_jfold :</span></dt><dd>.FALSE.</dd><dt><span>pivot :</span></dt><dd>T</dd><dt><span>key_periodic :</span></dt><dd>.FALSE.</dd><dt><span>dir_mesh :</span></dt><dd>/home/sallen/MEOPAR/grid/</dd><dt><span>fn_mesh :</span></dt><dd>mesh_mask201702.nc</dd><dt><span>nc_var_xx_tt :</span></dt><dd>glamt</dd><dt><span>nc_var_xx_uu :</span></dt><dd>glamu</dd><dt><span>nc_var_zz_ww :</span></dt><dd>gdepw_0</dd><dt><span>nc_var_e2u :</span></dt><dd>e2u</dd><dt><span>nc_var_e1v :</span></dt><dd>e1v</dd><dt><span>nc_var_e1t :</span></dt><dd>e1t</dd><dt><span>nc_var_e2t :</span></dt><dd>e2t</dd><dt><span>nc_var_e3t :</span></dt><dd>e3t_0</dd><dt><span>nc_var_tmask :</span></dt><dd>tmask</dd><dt><span>nc_mask_val :</span></dt><dd>0.0</dd><dt><span>c_dir_zo :</span></dt><dd>Links</dd><dt><span>c_prefix_zo :</span></dt><dd>SalishSea_1h_</dd><dt><span>ind0_zo :</span></dt><dd>1</dd><dt><span>indn_zo :</span></dt><dd>30</dd><dt><span>maxsize_zo :</span></dt><dd>2</dd><dt><span>c_suffix_zo :</span></dt><dd>_grid_U.nc</dd><dt><span>nc_var_zo :</span></dt><dd>vozocrtx</dd><dt><span>nc_var_eivu :</span></dt><dd>NONE</dd><dt><span>nc_att_mask_zo :</span></dt><dd>NONE</dd><dt><span>c_dir_me :</span></dt><dd>Links</dd><dt><span>c_prefix_me :</span></dt><dd>SalishSea_1h_</dd><dt><span>ind0_me :</span></dt><dd>1</dd><dt><span>indn_me :</span></dt><dd>30</dd><dt><span>maxsize_me :</span></dt><dd>2</dd><dt><span>c_suffix_me :</span></dt><dd>_grid_V.nc</dd><dt><span>nc_var_me :</span></dt><dd>vomecrty</dd><dt><span>nc_var_eivv :</span></dt><dd>NONE</dd><dt><span>nc_att_mask_me :</span></dt><dd>NONE</dd><dt><span>c_dir_ve :</span></dt><dd>Links</dd><dt><span>c_prefix_ve :</span></dt><dd>SalishSea_1h_</dd><dt><span>ind0_ve :</span></dt><dd>1</dd><dt><span>indn_ve :</span></dt><dd>30</dd><dt><span>maxsize_ve :</span></dt><dd>2</dd><dt><span>c_suffix_ve :</span></dt><dd>_grid_W.nc</dd><dt><span>nc_var_ve :</span></dt><dd>vovecrtz</dd><dt><span>nc_var_eivw :</span></dt><dd>NONE</dd><dt><span>nc_att_mask_ve :</span></dt><dd>NONE</dd><dt><span>c_dir_te :</span></dt><dd>Links</dd><dt><span>c_prefix_te :</span></dt><dd>SalishSea_1h_</dd><dt><span>ind0_te :</span></dt><dd>1</dd><dt><span>indn_te :</span></dt><dd>30</dd><dt><span>maxsize_te :</span></dt><dd>2</dd><dt><span>c_suffix_te :</span></dt><dd>_grid_T.nc</dd><dt><span>nc_var_te :</span></dt><dd>votemper</dd><dt><span>nc_att_mask_te :</span></dt><dd>NONE</dd><dt><span>c_dir_sa :</span></dt><dd>Links</dd><dt><span>c_prefix_sa :</span></dt><dd>SalishSea_1h_</dd><dt><span>ind0_sa :</span></dt><dd>1</dd><dt><span>indn_sa :</span></dt><dd>30</dd><dt><span>maxsize_sa :</span></dt><dd>2</dd><dt><span>c_suffix_sa :</span></dt><dd>_grid_T.nc</dd><dt><span>nc_var_sa :</span></dt><dd>vosaline</dd><dt><span>nc_att_mask_sa :</span></dt><dd>NONE</dd></dl></div></li></ul></div></div>"
      ],
      "text/plain": [
       "<xarray.Dataset>\n",
       "Dimensions:        (ntraj: 40842)\n",
       "Dimensions without coordinates: ntraj\n",
       "Data variables: (12/25)\n",
       "    init_x         (ntraj) float64 ...\n",
       "    init_y         (ntraj) float64 ...\n",
       "    init_z         (ntraj) float64 ...\n",
       "    init_t         (ntraj) float64 ...\n",
       "    init_age       (ntraj) timedelta64[ns] ...\n",
       "    init_transp    (ntraj) float64 ...\n",
       "    ...             ...\n",
       "    init_lon       (ntraj) float64 ...\n",
       "    init_lat       (ntraj) float64 ...\n",
       "    init_depth     (ntraj) float64 ...\n",
       "    final_lon      (ntraj) float64 ...\n",
       "    final_lat      (ntraj) float64 ...\n",
       "    final_depth    (ntraj) float64 ...\n",
       "Attributes: (12/105)\n",
       "    key_roms:                  .FALSE.\n",
       "    key_symphonie:             .FALSE.\n",
       "    key_B2C_grid:              .FALSE.\n",
       "    key_sequential:            .TRUE.\n",
       "    key_alltracers:            .TRUE.\n",
       "    key_ascii_outputs:         .TRUE.\n",
       "    ...                        ...\n",
       "    ind0_sa:                   1\n",
       "    indn_sa:                   30\n",
       "    maxsize_sa:                2\n",
       "    c_suffix_sa:               _grid_T.nc\n",
       "    nc_var_sa:                 vosaline\n",
       "    nc_att_mask_sa:            NONE"
      ]
     },
     "execution_count": 9,
     "metadata": {},
     "output_type": "execute_result"
    }
   ],
   "source": [
    "one_case = xr.open_dataset('/data/sallen/results/Ariane/FullSouth/01nov15/ariane_positions_quantitative.nc')\n",
    "one_case"
   ]
  },
  {
   "cell_type": "code",
   "execution_count": 12,
   "metadata": {},
   "outputs": [
    {
     "name": "stdout",
     "output_type": "stream",
     "text": [
      "<xarray.DataArray ()>\n",
      "array(0.)\n"
     ]
    }
   ],
   "source": [
    "print ((one_case.init_transp - one_case.final_transp).sum())"
   ]
  },
  {
   "cell_type": "code",
   "execution_count": 57,
   "metadata": {},
   "outputs": [
    {
     "name": "stdout",
     "output_type": "stream",
     "text": [
      "7287 nan\n",
      "nan\n"
     ]
    }
   ],
   "source": [
    "for ii in range(7300):\n",
    "    if np.isnan(one_case.final_section[ii]):\n",
    "        print (ii, one_case.final_section[ii].values)\n",
    "print (one_case.final_section[7287].values)"
   ]
  },
  {
   "cell_type": "code",
   "execution_count": 40,
   "metadata": {},
   "outputs": [
    {
     "data": {
      "text/plain": [
       "(0.0, 24.0)"
      ]
     },
     "execution_count": 40,
     "metadata": {},
     "output_type": "execute_result"
    },
    {
     "data": {
      "image/png": "[encoded data removed]",
      "text/plain": [
       "<Figure size 432x288 with 1 Axes>"
      ]
     },
     "metadata": {
      "needs_background": "light"
     },
     "output_type": "display_data"
    }
   ],
   "source": [
    "#plt.hist((one_case.final_age[one_case.final_section == 0].values/1e9/3600))\n",
    "plt.plot(one_case.final_age[one_case.final_section == 0].values/np.timedelta64(1, 'h'), 'o')\n",
    "plt.ylim(0, 24)"
   ]
  },
  {
   "cell_type": "code",
   "execution_count": 50,
   "metadata": {},
   "outputs": [],
   "source": [
    "myvalues = (one_case.final_age[one_case.final_section == 0].values/np.timedelta64(1, 'h'))\n",
    "sortvalues= np.sort(myvalues)"
   ]
  },
  {
   "cell_type": "code",
   "execution_count": 53,
   "metadata": {},
   "outputs": [
    {
     "data": {
      "image/png": "[encoded data removed]",
      "text/plain": [
       "<Figure size 432x288 with 1 Axes>"
      ]
     },
     "metadata": {
      "needs_background": "light"
     },
     "output_type": "display_data"
    }
   ],
   "source": [
    "plt.plot(sortvalues)\n",
    "plt.ylim(0, 48);"
   ]
  },
  {
   "cell_type": "markdown",
   "metadata": {},
   "source": [
    "Victoria Sill Meanders"
   ]
  },
  {
   "cell_type": "code",
   "execution_count": 12,
   "metadata": {},
   "outputs": [
    {
     "name": "stderr",
     "output_type": "stream",
     "text": [
      "<ipython-input-4-4ab44c4032cd>:18: UserWarning: WARNING: missing_value not used since it\n",
      "cannot be safely cast to variable data type\n",
      "  final[variable] = dataset.variables[variable][:]/scale\n"
     ]
    }
   ],
   "source": [
    "# Full South Vic Meanders\n",
    "year = 2015\n",
    "allv = ['final_age', 'final_depth', 'final_salt', 'final_temp', 'final_lon', \n",
    "        'init_depth', 'init_salt', 'init_temp', 'init_lat']\n",
    "start = datetime.datetime(year, 1, 1)\n",
    "endtime = datetime.datetime(year, 12, 31)\n",
    "time, transport, mean = get_data_all(start, endtime, 'FullSouth', 0, allv)\n",
    "fullsouth_all = pd.DataFrame(data=transport, index=time, columns=['transport'])\n",
    "for variable in allv:\n",
    "    fullsouth_all = fullsouth_all.assign(mycol=pd.Series(mean[variable]).values)\n",
    "    fullsouth_all.rename(columns={'mycol':variable}, inplace=True)\n",
    "fullsouth_all\n",
    "fullsouth_all.to_csv('Vic_meanders_'+str(year)+'_v3.csv')"
   ]
  },
  {
   "cell_type": "code",
   "execution_count": 60,
   "metadata": {},
   "outputs": [
    {
     "name": "stderr",
     "output_type": "stream",
     "text": [
      "<ipython-input-58-8c8f3492929a>:24: UserWarning: WARNING: missing_value not used since it\n",
      "cannot be safely cast to variable data type\n",
      "  final[variable] = dataset.variables[variable][:]/scale\n"
     ]
    },
    {
     "name": "stdout",
     "output_type": "stream",
     "text": [
      "2015\n",
      "2016\n",
      "2017\n",
      "Missing Data 04sep18\n",
      "2018\n"
     ]
    }
   ],
   "source": [
    "# Full South Vic Tidal Pumping\n",
    "for year in years:\n",
    "    allv = ['final_age', 'final_depth', 'final_salt', 'final_temp', 'final_lon', \n",
    "            'init_depth', 'init_salt', 'init_temp', 'init_lat']\n",
    "    start = datetime.datetime(year, 1, 1)\n",
    "    endtime = datetime.datetime(year, 12, 31)\n",
    "    time, transport, mean = get_data_all(start, endtime, 'FullSouth', 0, allv, loop='Short')\n",
    "    fullsouth_all = pd.DataFrame(data=transport, index=time, columns=['transport'])\n",
    "    for variable in allv:\n",
    "        fullsouth_all = fullsouth_all.assign(mycol=pd.Series(mean[variable]).values)\n",
    "        fullsouth_all.rename(columns={'mycol':variable}, inplace=True)\n",
    "    fullsouth_all\n",
    "    fullsouth_all.to_csv('Vic_tidalpump_'+str(year)+'_v3.csv')\n",
    "    print (year)"
   ]
  },
  {
   "cell_type": "code",
   "execution_count": 61,
   "metadata": {},
   "outputs": [
    {
     "name": "stderr",
     "output_type": "stream",
     "text": [
      "<ipython-input-58-8c8f3492929a>:24: UserWarning: WARNING: missing_value not used since it\n",
      "cannot be safely cast to variable data type\n",
      "  final[variable] = dataset.variables[variable][:]/scale\n"
     ]
    },
    {
     "name": "stdout",
     "output_type": "stream",
     "text": [
      "2015\n",
      "2016\n",
      "2017\n",
      "Missing Data 04sep18\n",
      "2018\n"
     ]
    }
   ],
   "source": [
    "# Full South Vic Loops\n",
    "for year in years:\n",
    "    allv = ['final_age', 'final_depth', 'final_salt', 'final_temp', 'final_lon', \n",
    "            'init_depth', 'init_salt', 'init_temp', 'init_lat']\n",
    "    start = datetime.datetime(year, 1, 1)\n",
    "    endtime = datetime.datetime(year, 12, 31)\n",
    "    time, transport, mean = get_data_all(start, endtime, 'FullSouth', 0, allv, loop='Long')\n",
    "    fullsouth_all = pd.DataFrame(data=transport, index=time, columns=['transport'])\n",
    "    for variable in allv:\n",
    "        fullsouth_all = fullsouth_all.assign(mycol=pd.Series(mean[variable]).values)\n",
    "        fullsouth_all.rename(columns={'mycol':variable}, inplace=True)\n",
    "    fullsouth_all\n",
    "    fullsouth_all.to_csv('Vic_loops_'+str(year)+'_v3.csv')\n",
    "    print (year)"
   ]
  },
  {
   "cell_type": "code",
   "execution_count": 17,
   "metadata": {},
   "outputs": [
    {
     "name": "stderr",
     "output_type": "stream",
     "text": [
      "<ipython-input-4-4ab44c4032cd>:18: UserWarning: WARNING: missing_value not used since it\n",
      "cannot be safely cast to variable data type\n",
      "  final[variable] = dataset.variables[variable][:]/scale\n"
     ]
    }
   ],
   "source": [
    "# BackSouth Vic Meanders\n",
    "year = 2015\n",
    "allv = ['final_age', 'final_depth', 'final_salt', 'final_temp', 'final_lon', \n",
    "        'init_depth', 'init_salt', 'init_temp', 'init_lat']\n",
    "start = datetime.datetime(year, 1, 1)\n",
    "endtime = datetime.datetime(year, 12, 31)\n",
    "time, transport, mean = get_data_all(start, endtime, 'BackSouth', 0, allv)\n",
    "fullsouth_all = pd.DataFrame(data=transport, index=time, columns=['transport'])\n",
    "for variable in allv:\n",
    "    fullsouth_all = fullsouth_all.assign(mycol=pd.Series(mean[variable]).values)\n",
    "    fullsouth_all.rename(columns={'mycol':variable}, inplace=True)\n",
    "fullsouth_all.to_csv('Vic_back_meanders_'+str(year)+'_v3.csv')"
   ]
  },
  {
   "cell_type": "markdown",
   "metadata": {},
   "source": [
    "PR and GI together meanders"
   ]
  },
  {
   "cell_type": "code",
   "execution_count": 21,
   "metadata": {},
   "outputs": [
    {
     "name": "stderr",
     "output_type": "stream",
     "text": [
      "<ipython-input-4-4ab44c4032cd>:18: UserWarning: WARNING: missing_value not used since it\n",
      "cannot be safely cast to variable data type\n",
      "  final[variable] = dataset.variables[variable][:]/scale\n"
     ]
    }
   ],
   "source": [
    "# Full North PR Meanders\n",
    "year = 2015\n",
    "allv = ['final_age', 'final_depth', 'final_salt', 'final_temp', 'final_lon', \n",
    "        'init_depth', 'init_salt', 'init_temp', 'init_lat']\n",
    "start = datetime.datetime(year, 1, 1)\n",
    "endtime = datetime.datetime(year, 12, 31)\n",
    "time, transport, mean = get_data_all(start, endtime, 'FullNorth', 0, allv)\n",
    "fullnorth_all = pd.DataFrame(data=transport, index=time, columns=['transport'])\n",
    "for variable in allv:\n",
    "    fullnorth_all = fullnorth_all.assign(mycol=pd.Series(mean[variable]).values)\n",
    "    fullnorth_all.rename(columns={'mycol':variable}, inplace=True)\n",
    "fullnorth_all\n",
    "fullnorth_all.to_csv('PR_meanders_'+str(year)+'_v3.csv')"
   ]
  },
  {
   "cell_type": "code",
   "execution_count": 10,
   "metadata": {},
   "outputs": [
    {
     "name": "stderr",
     "output_type": "stream",
     "text": [
      "/tmp/ipykernel_1042277/2938400006.py:24: UserWarning: WARNING: missing_value not used since it\n",
      "cannot be safely cast to variable data type\n",
      "  final[variable] = dataset.variables[variable][:]/scale\n"
     ]
    },
    {
     "name": "stdout",
     "output_type": "stream",
     "text": [
      "2015\n"
     ]
    },
    {
     "name": "stderr",
     "output_type": "stream",
     "text": [
      "/tmp/ipykernel_1042277/2938400006.py:24: UserWarning: WARNING: missing_value not used since it\n",
      "cannot be safely cast to variable data type\n",
      "  final[variable] = dataset.variables[variable][:]/scale\n"
     ]
    },
    {
     "name": "stdout",
     "output_type": "stream",
     "text": [
      "2016\n"
     ]
    },
    {
     "name": "stderr",
     "output_type": "stream",
     "text": [
      "/tmp/ipykernel_1042277/2938400006.py:24: UserWarning: WARNING: missing_value not used since it\n",
      "cannot be safely cast to variable data type\n",
      "  final[variable] = dataset.variables[variable][:]/scale\n"
     ]
    },
    {
     "name": "stdout",
     "output_type": "stream",
     "text": [
      "Missing Data 12aug17\n",
      "2017\n"
     ]
    },
    {
     "name": "stderr",
     "output_type": "stream",
     "text": [
      "/tmp/ipykernel_1042277/2938400006.py:24: UserWarning: WARNING: missing_value not used since it\n",
      "cannot be safely cast to variable data type\n",
      "  final[variable] = dataset.variables[variable][:]/scale\n"
     ]
    },
    {
     "name": "stdout",
     "output_type": "stream",
     "text": [
      "2018\n"
     ]
    }
   ],
   "source": [
    "# Full North PR Tidal Pumping\n",
    "for year in years:\n",
    "    allv = ['final_age', 'final_depth', 'final_salt', 'final_temp', 'final_lon', \n",
    "            'init_depth', 'init_salt', 'init_temp', 'init_lat']\n",
    "    start = datetime.datetime(year, 1, 1)\n",
    "    endtime = datetime.datetime(year, 12, 31)\n",
    "    time, transport, mean = get_data_all(start, endtime, 'FullNorth', 0, allv, loop='Short')\n",
    "    fullnorth_all = pd.DataFrame(data=transport, index=time, columns=['transport'])\n",
    "    for variable in allv:\n",
    "        fullnorth_all = fullnorth_all.assign(mycol=pd.Series(mean[variable]).values)\n",
    "        fullnorth_all.rename(columns={'mycol':variable}, inplace=True)\n",
    "    fullnorth_all.to_csv('PR_tidalpump_'+str(year)+'_v3.csv')\n",
    "    print (year)"
   ]
  },
  {
   "cell_type": "code",
   "execution_count": 11,
   "metadata": {},
   "outputs": [
    {
     "name": "stderr",
     "output_type": "stream",
     "text": [
      "/tmp/ipykernel_1042277/2938400006.py:24: UserWarning: WARNING: missing_value not used since it\n",
      "cannot be safely cast to variable data type\n",
      "  final[variable] = dataset.variables[variable][:]/scale\n"
     ]
    },
    {
     "name": "stdout",
     "output_type": "stream",
     "text": [
      "2015\n"
     ]
    },
    {
     "name": "stderr",
     "output_type": "stream",
     "text": [
      "/tmp/ipykernel_1042277/2938400006.py:24: UserWarning: WARNING: missing_value not used since it\n",
      "cannot be safely cast to variable data type\n",
      "  final[variable] = dataset.variables[variable][:]/scale\n"
     ]
    },
    {
     "name": "stdout",
     "output_type": "stream",
     "text": [
      "2016\n"
     ]
    },
    {
     "name": "stderr",
     "output_type": "stream",
     "text": [
      "/tmp/ipykernel_1042277/2938400006.py:24: UserWarning: WARNING: missing_value not used since it\n",
      "cannot be safely cast to variable data type\n",
      "  final[variable] = dataset.variables[variable][:]/scale\n"
     ]
    },
    {
     "name": "stdout",
     "output_type": "stream",
     "text": [
      "Missing Data 12aug17\n",
      "2017\n"
     ]
    },
    {
     "name": "stderr",
     "output_type": "stream",
     "text": [
      "/tmp/ipykernel_1042277/2938400006.py:24: UserWarning: WARNING: missing_value not used since it\n",
      "cannot be safely cast to variable data type\n",
      "  final[variable] = dataset.variables[variable][:]/scale\n"
     ]
    },
    {
     "name": "stdout",
     "output_type": "stream",
     "text": [
      "2018\n"
     ]
    }
   ],
   "source": [
    "# Full North PR Loops\n",
    "for year in years:\n",
    "    allv = ['final_age', 'final_depth', 'final_salt', 'final_temp', 'final_lon', \n",
    "            'init_depth', 'init_salt', 'init_temp', 'init_lat']\n",
    "    start = datetime.datetime(year, 1, 1)\n",
    "    endtime = datetime.datetime(year, 12, 31)\n",
    "    time, transport, mean = get_data_all(start, endtime, 'FullNorth', 0, allv, loop='Long')\n",
    "    fullnorth_all = pd.DataFrame(data=transport, index=time, columns=['transport'])\n",
    "    for variable in allv:\n",
    "        fullnorth_all = fullnorth_all.assign(mycol=pd.Series(mean[variable]).values)\n",
    "        fullnorth_all.rename(columns={'mycol':variable}, inplace=True)\n",
    "    fullnorth_all.to_csv('PR_loops_'+str(year)+'_v3.csv')\n",
    "    print (year)"
   ]
  },
  {
   "cell_type": "code",
   "execution_count": 24,
   "metadata": {},
   "outputs": [
    {
     "name": "stderr",
     "output_type": "stream",
     "text": [
      "<ipython-input-4-4ab44c4032cd>:18: UserWarning: WARNING: missing_value not used since it\n",
      "cannot be safely cast to variable data type\n",
      "  final[variable] = dataset.variables[variable][:]/scale\n"
     ]
    },
    {
     "name": "stdout",
     "output_type": "stream",
     "text": [
      "Missing Data 12aug17\n"
     ]
    }
   ],
   "source": [
    "# Full North PR -> GI Meanders\n",
    "for year in years:\n",
    "    allv = ['final_age', 'final_depth', 'final_salt', 'final_temp', 'final_lon', \n",
    "            'init_depth', 'init_salt', 'init_temp', 'init_lat']\n",
    "    start = datetime.datetime(year, 1, 1)\n",
    "    endtime = datetime.datetime(year, 12, 31)\n",
    "    time, transport, mean = get_data_all(start, endtime, 'FullNorth', 3, allv)\n",
    "    fullnorth_all = pd.DataFrame(data=transport, index=time, columns=['transport'])\n",
    "    for variable in allv:\n",
    "        fullnorth_all = fullnorth_all.assign(mycol=pd.Series(mean[variable]).values)\n",
    "        fullnorth_all.rename(columns={'mycol':variable}, inplace=True)\n",
    "    fullnorth_all\n",
    "    fullnorth_all.to_csv('PR_to_GI_meanders_'+str(year)+'_v3.csv')"
   ]
  },
  {
   "cell_type": "code",
   "execution_count": 12,
   "metadata": {},
   "outputs": [
    {
     "name": "stderr",
     "output_type": "stream",
     "text": [
      "/tmp/ipykernel_1042277/2938400006.py:24: UserWarning: WARNING: missing_value not used since it\n",
      "cannot be safely cast to variable data type\n",
      "  final[variable] = dataset.variables[variable][:]/scale\n"
     ]
    },
    {
     "name": "stdout",
     "output_type": "stream",
     "text": [
      "2015\n"
     ]
    },
    {
     "name": "stderr",
     "output_type": "stream",
     "text": [
      "/tmp/ipykernel_1042277/2938400006.py:24: UserWarning: WARNING: missing_value not used since it\n",
      "cannot be safely cast to variable data type\n",
      "  final[variable] = dataset.variables[variable][:]/scale\n"
     ]
    },
    {
     "name": "stdout",
     "output_type": "stream",
     "text": [
      "2016\n"
     ]
    },
    {
     "name": "stderr",
     "output_type": "stream",
     "text": [
      "/tmp/ipykernel_1042277/2938400006.py:24: UserWarning: WARNING: missing_value not used since it\n",
      "cannot be safely cast to variable data type\n",
      "  final[variable] = dataset.variables[variable][:]/scale\n"
     ]
    },
    {
     "name": "stdout",
     "output_type": "stream",
     "text": [
      "Missing Data 12aug17\n",
      "2017\n"
     ]
    },
    {
     "name": "stderr",
     "output_type": "stream",
     "text": [
      "/tmp/ipykernel_1042277/2938400006.py:24: UserWarning: WARNING: missing_value not used since it\n",
      "cannot be safely cast to variable data type\n",
      "  final[variable] = dataset.variables[variable][:]/scale\n"
     ]
    },
    {
     "name": "stdout",
     "output_type": "stream",
     "text": [
      "2018\n"
     ]
    }
   ],
   "source": [
    "# Full North PR -> GI Tidal Pumping\n",
    "for year in years:\n",
    "    allv = ['final_age', 'final_depth', 'final_salt', 'final_temp', 'final_lon', \n",
    "            'init_depth', 'init_salt', 'init_temp', 'init_lat']\n",
    "    start = datetime.datetime(year, 1, 1)\n",
    "    endtime = datetime.datetime(year, 12, 31)\n",
    "    time, transport, mean = get_data_all(start, endtime, 'FullNorth', 3, allv, loop='Short')\n",
    "    fullnorth_all = pd.DataFrame(data=transport, index=time, columns=['transport'])\n",
    "    for variable in allv:\n",
    "        fullnorth_all = fullnorth_all.assign(mycol=pd.Series(mean[variable]).values)\n",
    "        fullnorth_all.rename(columns={'mycol':variable}, inplace=True)\n",
    "    fullnorth_all.to_csv('PR_to_GI_tidalpump_'+str(year)+'_v3.csv')\n",
    "    print (year)"
   ]
  },
  {
   "cell_type": "code",
   "execution_count": 13,
   "metadata": {},
   "outputs": [
    {
     "name": "stderr",
     "output_type": "stream",
     "text": [
      "/tmp/ipykernel_1042277/2938400006.py:24: UserWarning: WARNING: missing_value not used since it\n",
      "cannot be safely cast to variable data type\n",
      "  final[variable] = dataset.variables[variable][:]/scale\n"
     ]
    },
    {
     "name": "stdout",
     "output_type": "stream",
     "text": [
      "2015\n"
     ]
    },
    {
     "name": "stderr",
     "output_type": "stream",
     "text": [
      "/tmp/ipykernel_1042277/2938400006.py:24: UserWarning: WARNING: missing_value not used since it\n",
      "cannot be safely cast to variable data type\n",
      "  final[variable] = dataset.variables[variable][:]/scale\n"
     ]
    },
    {
     "name": "stdout",
     "output_type": "stream",
     "text": [
      "2016\n"
     ]
    },
    {
     "name": "stderr",
     "output_type": "stream",
     "text": [
      "/tmp/ipykernel_1042277/2938400006.py:24: UserWarning: WARNING: missing_value not used since it\n",
      "cannot be safely cast to variable data type\n",
      "  final[variable] = dataset.variables[variable][:]/scale\n"
     ]
    },
    {
     "name": "stdout",
     "output_type": "stream",
     "text": [
      "Missing Data 12aug17\n",
      "2017\n"
     ]
    },
    {
     "name": "stderr",
     "output_type": "stream",
     "text": [
      "/tmp/ipykernel_1042277/2938400006.py:24: UserWarning: WARNING: missing_value not used since it\n",
      "cannot be safely cast to variable data type\n",
      "  final[variable] = dataset.variables[variable][:]/scale\n"
     ]
    },
    {
     "name": "stdout",
     "output_type": "stream",
     "text": [
      "2018\n"
     ]
    }
   ],
   "source": [
    "# Full North PR -> GI Tidal Pumping\n",
    "for year in years:\n",
    "    allv = ['final_age', 'final_depth', 'final_salt', 'final_temp', 'final_lon', \n",
    "            'init_depth', 'init_salt', 'init_temp', 'init_lat']\n",
    "    start = datetime.datetime(year, 1, 1)\n",
    "    endtime = datetime.datetime(year, 12, 31)\n",
    "    time, transport, mean = get_data_all(start, endtime, 'FullNorth', 3, allv, loop='Long')\n",
    "    fullnorth_all = pd.DataFrame(data=transport, index=time, columns=['transport'])\n",
    "    for variable in allv:\n",
    "        fullnorth_all = fullnorth_all.assign(mycol=pd.Series(mean[variable]).values)\n",
    "        fullnorth_all.rename(columns={'mycol':variable}, inplace=True)\n",
    "    fullnorth_all.to_csv('PR_to_GI_loops_'+str(year)+'_v3.csv')\n",
    "    print (year)"
   ]
  },
  {
   "cell_type": "code",
   "execution_count": 30,
   "metadata": {},
   "outputs": [
    {
     "name": "stderr",
     "output_type": "stream",
     "text": [
      "<ipython-input-4-4ab44c4032cd>:18: UserWarning: WARNING: missing_value not used since it\n",
      "cannot be safely cast to variable data type\n",
      "  final[variable] = dataset.variables[variable][:]/scale\n"
     ]
    },
    {
     "name": "stdout",
     "output_type": "stream",
     "text": [
      "Missing Data 20aug17\n"
     ]
    }
   ],
   "source": [
    "# South G Islands GI meanders\n",
    "for year in years:\n",
    "    allv = ['final_age', 'final_depth', 'final_salt', 'final_temp', 'final_lon', \n",
    "            'init_depth', 'init_salt', 'init_temp', 'init_lat']\n",
    "    start = datetime.datetime(year, 1, 1)\n",
    "    endtime = datetime.datetime(year, 12, 31)\n",
    "    time, transport, mean = get_data_all(start, endtime, 'SouthGIslands', 0, allv)\n",
    "    fullsouth_all = pd.DataFrame(data=transport, index=time, columns=['transport'])\n",
    "    for variable in allv:\n",
    "        fullsouth_all = fullsouth_all.assign(mycol=pd.Series(mean[variable]).values)\n",
    "        fullsouth_all.rename(columns={'mycol':variable}, inplace=True)\n",
    "    fullsouth_all\n",
    "    fullsouth_all.to_csv('GI_meanders_'+str(year)+'_v3.csv')"
   ]
  },
  {
   "cell_type": "code",
   "execution_count": 14,
   "metadata": {},
   "outputs": [
    {
     "name": "stderr",
     "output_type": "stream",
     "text": [
      "/tmp/ipykernel_1042277/2938400006.py:24: UserWarning: WARNING: missing_value not used since it\n",
      "cannot be safely cast to variable data type\n",
      "  final[variable] = dataset.variables[variable][:]/scale\n"
     ]
    },
    {
     "name": "stdout",
     "output_type": "stream",
     "text": [
      "2015\n"
     ]
    },
    {
     "name": "stderr",
     "output_type": "stream",
     "text": [
      "/tmp/ipykernel_1042277/2938400006.py:24: UserWarning: WARNING: missing_value not used since it\n",
      "cannot be safely cast to variable data type\n",
      "  final[variable] = dataset.variables[variable][:]/scale\n"
     ]
    },
    {
     "name": "stdout",
     "output_type": "stream",
     "text": [
      "2016\n"
     ]
    },
    {
     "name": "stderr",
     "output_type": "stream",
     "text": [
      "/tmp/ipykernel_1042277/2938400006.py:24: UserWarning: WARNING: missing_value not used since it\n",
      "cannot be safely cast to variable data type\n",
      "  final[variable] = dataset.variables[variable][:]/scale\n"
     ]
    },
    {
     "name": "stdout",
     "output_type": "stream",
     "text": [
      "Missing Data 20aug17\n",
      "2017\n"
     ]
    },
    {
     "name": "stderr",
     "output_type": "stream",
     "text": [
      "/tmp/ipykernel_1042277/2938400006.py:24: UserWarning: WARNING: missing_value not used since it\n",
      "cannot be safely cast to variable data type\n",
      "  final[variable] = dataset.variables[variable][:]/scale\n"
     ]
    },
    {
     "name": "stdout",
     "output_type": "stream",
     "text": [
      "2018\n"
     ]
    }
   ],
   "source": [
    "# South G Islands Tidal Pumping\n",
    "for year in years:\n",
    "    allv = ['final_age', 'final_depth', 'final_salt', 'final_temp', 'final_lon', \n",
    "            'init_depth', 'init_salt', 'init_temp', 'init_lat']\n",
    "    start = datetime.datetime(year, 1, 1)\n",
    "    endtime = datetime.datetime(year, 12, 31)\n",
    "    time, transport, mean = get_data_all(start, endtime, 'SouthGIslands', 0, allv, loop='Short')\n",
    "    fullsouth_all = pd.DataFrame(data=transport, index=time, columns=['transport'])\n",
    "    for variable in allv:\n",
    "        fullsouth_all = fullsouth_all.assign(mycol=pd.Series(mean[variable]).values)\n",
    "        fullsouth_all.rename(columns={'mycol':variable}, inplace=True)\n",
    "    fullsouth_all.to_csv('GI_tidalpump_'+str(year)+'_v3.csv')\n",
    "    print (year)"
   ]
  },
  {
   "cell_type": "code",
   "execution_count": 15,
   "metadata": {},
   "outputs": [
    {
     "name": "stderr",
     "output_type": "stream",
     "text": [
      "/tmp/ipykernel_1042277/2938400006.py:24: UserWarning: WARNING: missing_value not used since it\n",
      "cannot be safely cast to variable data type\n",
      "  final[variable] = dataset.variables[variable][:]/scale\n"
     ]
    },
    {
     "name": "stdout",
     "output_type": "stream",
     "text": [
      "2015\n"
     ]
    },
    {
     "name": "stderr",
     "output_type": "stream",
     "text": [
      "/tmp/ipykernel_1042277/2938400006.py:24: UserWarning: WARNING: missing_value not used since it\n",
      "cannot be safely cast to variable data type\n",
      "  final[variable] = dataset.variables[variable][:]/scale\n"
     ]
    },
    {
     "name": "stdout",
     "output_type": "stream",
     "text": [
      "2016\n"
     ]
    },
    {
     "name": "stderr",
     "output_type": "stream",
     "text": [
      "/tmp/ipykernel_1042277/2938400006.py:24: UserWarning: WARNING: missing_value not used since it\n",
      "cannot be safely cast to variable data type\n",
      "  final[variable] = dataset.variables[variable][:]/scale\n"
     ]
    },
    {
     "name": "stdout",
     "output_type": "stream",
     "text": [
      "Missing Data 20aug17\n",
      "2017\n"
     ]
    },
    {
     "name": "stderr",
     "output_type": "stream",
     "text": [
      "/tmp/ipykernel_1042277/2938400006.py:24: UserWarning: WARNING: missing_value not used since it\n",
      "cannot be safely cast to variable data type\n",
      "  final[variable] = dataset.variables[variable][:]/scale\n"
     ]
    },
    {
     "name": "stdout",
     "output_type": "stream",
     "text": [
      "2018\n"
     ]
    }
   ],
   "source": [
    "# South G Islands Loops\n",
    "for year in years:\n",
    "    allv = ['final_age', 'final_depth', 'final_salt', 'final_temp', 'final_lon', \n",
    "            'init_depth', 'init_salt', 'init_temp', 'init_lat']\n",
    "    start = datetime.datetime(year, 1, 1)\n",
    "    endtime = datetime.datetime(year, 12, 31)\n",
    "    time, transport, mean = get_data_all(start, endtime, 'SouthGIslands', 0, allv, loop='Long')\n",
    "    fullsouth_all = pd.DataFrame(data=transport, index=time, columns=['transport'])\n",
    "    for variable in allv:\n",
    "        fullsouth_all = fullsouth_all.assign(mycol=pd.Series(mean[variable]).values)\n",
    "        fullsouth_all.rename(columns={'mycol':variable}, inplace=True)\n",
    "    fullsouth_all.to_csv('GI_loops_'+str(year)+'_v3.csv')\n",
    "    print (year)"
   ]
  },
  {
   "cell_type": "code",
   "execution_count": 31,
   "metadata": {},
   "outputs": [
    {
     "name": "stderr",
     "output_type": "stream",
     "text": [
      "<ipython-input-4-4ab44c4032cd>:18: UserWarning: WARNING: missing_value not used since it\n",
      "cannot be safely cast to variable data type\n",
      "  final[variable] = dataset.variables[variable][:]/scale\n"
     ]
    },
    {
     "name": "stdout",
     "output_type": "stream",
     "text": [
      "Missing Data 20aug17\n"
     ]
    }
   ],
   "source": [
    "# South G Islands GI -> PR meanders\n",
    "for year in years:\n",
    "    allv = ['final_age', 'final_depth', 'final_salt', 'final_temp', 'final_lon', \n",
    "            'init_depth', 'init_salt', 'init_temp', 'init_lat']\n",
    "    start = datetime.datetime(year, 1, 1)\n",
    "    endtime = datetime.datetime(year, 12, 31)\n",
    "    time, transport, mean = get_data_all(start, endtime, 'SouthGIslands', 3, allv)\n",
    "    fullsouth_all = pd.DataFrame(data=transport, index=time, columns=['transport'])\n",
    "    for variable in allv:\n",
    "        fullsouth_all = fullsouth_all.assign(mycol=pd.Series(mean[variable]).values)\n",
    "        fullsouth_all.rename(columns={'mycol':variable}, inplace=True)\n",
    "    fullsouth_all\n",
    "    fullsouth_all.to_csv('GI_to_PR_meanders_'+str(year)+'_v3.csv')"
   ]
  },
  {
   "cell_type": "code",
   "execution_count": 16,
   "metadata": {},
   "outputs": [
    {
     "name": "stderr",
     "output_type": "stream",
     "text": [
      "/tmp/ipykernel_1042277/2938400006.py:24: UserWarning: WARNING: missing_value not used since it\n",
      "cannot be safely cast to variable data type\n",
      "  final[variable] = dataset.variables[variable][:]/scale\n"
     ]
    },
    {
     "name": "stdout",
     "output_type": "stream",
     "text": [
      "2015\n"
     ]
    },
    {
     "name": "stderr",
     "output_type": "stream",
     "text": [
      "/tmp/ipykernel_1042277/2938400006.py:24: UserWarning: WARNING: missing_value not used since it\n",
      "cannot be safely cast to variable data type\n",
      "  final[variable] = dataset.variables[variable][:]/scale\n",
      "/tmp/ipykernel_1042277/2938400006.py:28: RuntimeWarning: invalid value encountered in scalar divide\n",
      "  mean[variable] = np.sum(np.where((final_section == section) & (final_age <= 24*3600),\n"
     ]
    },
    {
     "name": "stdout",
     "output_type": "stream",
     "text": [
      "2016\n"
     ]
    },
    {
     "name": "stderr",
     "output_type": "stream",
     "text": [
      "/tmp/ipykernel_1042277/2938400006.py:24: UserWarning: WARNING: missing_value not used since it\n",
      "cannot be safely cast to variable data type\n",
      "  final[variable] = dataset.variables[variable][:]/scale\n"
     ]
    },
    {
     "name": "stdout",
     "output_type": "stream",
     "text": [
      "Missing Data 20aug17\n",
      "2017\n"
     ]
    },
    {
     "name": "stderr",
     "output_type": "stream",
     "text": [
      "/tmp/ipykernel_1042277/2938400006.py:24: UserWarning: WARNING: missing_value not used since it\n",
      "cannot be safely cast to variable data type\n",
      "  final[variable] = dataset.variables[variable][:]/scale\n"
     ]
    },
    {
     "name": "stdout",
     "output_type": "stream",
     "text": [
      "2018\n"
     ]
    }
   ],
   "source": [
    "# South G Islands -> PR Tidal Pumping\n",
    "for year in years:\n",
    "    allv = ['final_age', 'final_depth', 'final_salt', 'final_temp', 'final_lon', \n",
    "            'init_depth', 'init_salt', 'init_temp', 'init_lat']\n",
    "    start = datetime.datetime(year, 1, 1)\n",
    "    endtime = datetime.datetime(year, 12, 31)\n",
    "    time, transport, mean = get_data_all(start, endtime, 'SouthGIslands', 3, allv, loop='Short')\n",
    "    fullsouth_all = pd.DataFrame(data=transport, index=time, columns=['transport'])\n",
    "    for variable in allv:\n",
    "        fullsouth_all = fullsouth_all.assign(mycol=pd.Series(mean[variable]).values)\n",
    "        fullsouth_all.rename(columns={'mycol':variable}, inplace=True)\n",
    "    fullsouth_all.to_csv('GI_to_PR_tidalpump_'+str(year)+'_v3.csv')\n",
    "    print (year)"
   ]
  },
  {
   "cell_type": "code",
   "execution_count": 17,
   "metadata": {},
   "outputs": [
    {
     "name": "stderr",
     "output_type": "stream",
     "text": [
      "/tmp/ipykernel_1042277/2938400006.py:24: UserWarning: WARNING: missing_value not used since it\n",
      "cannot be safely cast to variable data type\n",
      "  final[variable] = dataset.variables[variable][:]/scale\n"
     ]
    },
    {
     "name": "stdout",
     "output_type": "stream",
     "text": [
      "2015\n"
     ]
    },
    {
     "name": "stderr",
     "output_type": "stream",
     "text": [
      "/tmp/ipykernel_1042277/2938400006.py:24: UserWarning: WARNING: missing_value not used since it\n",
      "cannot be safely cast to variable data type\n",
      "  final[variable] = dataset.variables[variable][:]/scale\n"
     ]
    },
    {
     "name": "stdout",
     "output_type": "stream",
     "text": [
      "2016\n"
     ]
    },
    {
     "name": "stderr",
     "output_type": "stream",
     "text": [
      "/tmp/ipykernel_1042277/2938400006.py:24: UserWarning: WARNING: missing_value not used since it\n",
      "cannot be safely cast to variable data type\n",
      "  final[variable] = dataset.variables[variable][:]/scale\n"
     ]
    },
    {
     "name": "stdout",
     "output_type": "stream",
     "text": [
      "Missing Data 20aug17\n",
      "2017\n"
     ]
    },
    {
     "name": "stderr",
     "output_type": "stream",
     "text": [
      "/tmp/ipykernel_1042277/2938400006.py:24: UserWarning: WARNING: missing_value not used since it\n",
      "cannot be safely cast to variable data type\n",
      "  final[variable] = dataset.variables[variable][:]/scale\n"
     ]
    },
    {
     "name": "stdout",
     "output_type": "stream",
     "text": [
      "2018\n"
     ]
    }
   ],
   "source": [
    "# South G Islands -> PR Tidal Pumping\n",
    "for year in years:\n",
    "    allv = ['final_age', 'final_depth', 'final_salt', 'final_temp', 'final_lon', \n",
    "            'init_depth', 'init_salt', 'init_temp', 'init_lat']\n",
    "    start = datetime.datetime(year, 1, 1)\n",
    "    endtime = datetime.datetime(year, 12, 31)\n",
    "    time, transport, mean = get_data_all(start, endtime, 'SouthGIslands', 3, allv, loop='Long')\n",
    "    fullsouth_all = pd.DataFrame(data=transport, index=time, columns=['transport'])\n",
    "    for variable in allv:\n",
    "        fullsouth_all = fullsouth_all.assign(mycol=pd.Series(mean[variable]).values)\n",
    "        fullsouth_all.rename(columns={'mycol':variable}, inplace=True)\n",
    "    fullsouth_all.to_csv('GI_to_PR_loops_'+str(year)+'_v3.csv')\n",
    "    print (year)"
   ]
  },
  {
   "cell_type": "code",
   "execution_count": 25,
   "metadata": {},
   "outputs": [
    {
     "name": "stderr",
     "output_type": "stream",
     "text": [
      "<ipython-input-4-4ab44c4032cd>:18: UserWarning: WARNING: missing_value not used since it\n",
      "cannot be safely cast to variable data type\n",
      "  final[variable] = dataset.variables[variable][:]/scale\n"
     ]
    }
   ],
   "source": [
    "# Back North PR meanders\n",
    "for year in years:\n",
    "    allv = ['final_age', 'final_depth', 'final_salt', 'final_temp', 'final_lon', \n",
    "            'init_depth', 'init_salt', 'init_temp', 'init_lat']\n",
    "    start = datetime.datetime(year, 1, 1)\n",
    "    endtime = datetime.datetime(year, 12, 31)\n",
    "    time, transport, mean = get_data_all(start, endtime, 'BackNorth', 0, allv)\n",
    "    fullsouth_all = pd.DataFrame(data=transport, index=time, columns=['transport'])\n",
    "    for variable in allv:\n",
    "        fullsouth_all = fullsouth_all.assign(mycol=pd.Series(mean[variable]).values)\n",
    "        fullsouth_all.rename(columns={'mycol':variable}, inplace=True)\n",
    "    fullsouth_all\n",
    "    fullsouth_all.to_csv('PR_back_meanders_'+str(year)+'_v3.csv')"
   ]
  },
  {
   "cell_type": "code",
   "execution_count": 26,
   "metadata": {},
   "outputs": [
    {
     "name": "stderr",
     "output_type": "stream",
     "text": [
      "<ipython-input-4-4ab44c4032cd>:18: UserWarning: WARNING: missing_value not used since it\n",
      "cannot be safely cast to variable data type\n",
      "  final[variable] = dataset.variables[variable][:]/scale\n"
     ]
    }
   ],
   "source": [
    "# Back PR from GI meanders\n",
    "for year in years:\n",
    "    allv = ['final_age', 'final_depth', 'final_salt', 'final_temp', 'final_lon', \n",
    "            'init_depth', 'init_salt', 'init_temp', 'init_lat']\n",
    "    start = datetime.datetime(year, 1, 1)\n",
    "    endtime = datetime.datetime(year, 12, 31)\n",
    "    time, transport, mean = get_data_all(start, endtime, 'BackNorth', 3, allv)\n",
    "    fullsouth_all = pd.DataFrame(data=transport, index=time, columns=['transport'])\n",
    "    for variable in allv:\n",
    "        fullsouth_all = fullsouth_all.assign(mycol=pd.Series(mean[variable]).values)\n",
    "        fullsouth_all.rename(columns={'mycol':variable}, inplace=True)\n",
    "    fullsouth_all\n",
    "    fullsouth_all.to_csv('PR_from_GI_meanders_'+str(year)+'_v3.csv')"
   ]
  },
  {
   "cell_type": "code",
   "execution_count": 28,
   "metadata": {},
   "outputs": [
    {
     "name": "stderr",
     "output_type": "stream",
     "text": [
      "<ipython-input-4-4ab44c4032cd>:18: UserWarning: WARNING: missing_value not used since it\n",
      "cannot be safely cast to variable data type\n",
      "  final[variable] = dataset.variables[variable][:]/scale\n"
     ]
    }
   ],
   "source": [
    "# In GIslands into GI from Vic\n",
    "for year in years:\n",
    "    allv = ['final_age', 'final_depth', 'final_salt', 'final_temp', 'final_lon', \n",
    "            'init_depth', 'init_salt', 'init_temp', 'init_lat']\n",
    "    start = datetime.datetime(year, 1, 1)\n",
    "    endtime = datetime.datetime(year, 12, 31)\n",
    "    time, transport, mean = get_data_all(start, endtime, 'InGIslands', 0, allv)\n",
    "    fullsouth_all = pd.DataFrame(data=transport, index=time, columns=['transport'])\n",
    "    for variable in allv:\n",
    "        fullsouth_all = fullsouth_all.assign(mycol=pd.Series(mean[variable]).values)\n",
    "        fullsouth_all.rename(columns={'mycol':variable}, inplace=True)\n",
    "    fullsouth_all\n",
    "    fullsouth_all.to_csv('GI_back_meanders_'+str(year)+'_v3.csv')"
   ]
  },
  {
   "cell_type": "code",
   "execution_count": 29,
   "metadata": {},
   "outputs": [
    {
     "name": "stderr",
     "output_type": "stream",
     "text": [
      "<ipython-input-4-4ab44c4032cd>:18: UserWarning: WARNING: missing_value not used since it\n",
      "cannot be safely cast to variable data type\n",
      "  final[variable] = dataset.variables[variable][:]/scale\n"
     ]
    }
   ],
   "source": [
    "# In GIslands into GI from PR\n",
    "for year in years:\n",
    "    allv = ['final_age', 'final_depth', 'final_salt', 'final_temp', 'final_lon', \n",
    "            'init_depth', 'init_salt', 'init_temp', 'init_lat']\n",
    "    start = datetime.datetime(year, 1, 1)\n",
    "    endtime = datetime.datetime(year, 12, 31)\n",
    "    time, transport, mean = get_data_all(start, endtime, 'InGIslands', 3, allv)\n",
    "    fullsouth_all = pd.DataFrame(data=transport, index=time, columns=['transport'])\n",
    "    for variable in allv:\n",
    "        fullsouth_all = fullsouth_all.assign(mycol=pd.Series(mean[variable]).values)\n",
    "        fullsouth_all.rename(columns={'mycol':variable}, inplace=True)\n",
    "    fullsouth_all\n",
    "    fullsouth_all.to_csv('GI_from_PI_meanders_'+str(year)+'_v3.csv')"
   ]
  },
  {
   "cell_type": "markdown",
   "metadata": {},
   "source": [
    "### Original, Transect to Transect Fluxes ###"
   ]
  },
  {
   "cell_type": "code",
   "execution_count": null,
   "metadata": {},
   "outputs": [],
   "source": []
  },
  {
   "cell_type": "code",
   "execution_count": 57,
   "metadata": {},
   "outputs": [
    {
     "name": "stderr",
     "output_type": "stream",
     "text": [
      "/home/sallen/anaconda/envs/py38/lib/python3.7/site-packages/ipykernel_launcher.py:19: UserWarning: WARNING: missing_value not used since it\n",
      "cannot be safely cast to variable data type\n"
     ]
    },
    {
     "name": "stdout",
     "output_type": "stream",
     "text": [
      "Missing Data 04sep18\n"
     ]
    }
   ],
   "source": [
    "# Full South Vic -> PR (2)\n",
    "year = 2018\n",
    "allv = ['final_age', 'final_depth', 'final_salt', 'final_temp', 'final_lon', \n",
    "        'init_depth', 'init_salt', 'init_temp', 'init_lat']\n",
    "start = datetime.datetime(year, 1, 1)\n",
    "endtime = datetime.datetime(year, 12, 31)\n",
    "time, transport, mean = get_data_all(start, endtime, 'FullSouth', 2, allv)\n",
    "fullsouth_all = pd.DataFrame(data=transport, index=time, columns=['transport'])\n",
    "for variable in allv:\n",
    "    fullsouth_all = fullsouth_all.assign(mycol=pd.Series(mean[variable]).values)\n",
    "    fullsouth_all.rename(columns={'mycol':variable}, inplace=True)\n",
    "fullsouth_all\n",
    "fullsouth_all.to_csv('Vic_to_PR_'+str(year)+'_v3.csv')"
   ]
  },
  {
   "cell_type": "code",
   "execution_count": 58,
   "metadata": {},
   "outputs": [
    {
     "name": "stderr",
     "output_type": "stream",
     "text": [
      "/home/sallen/anaconda/envs/py38/lib/python3.7/site-packages/ipykernel_launcher.py:19: UserWarning: WARNING: missing_value not used since it\n",
      "cannot be safely cast to variable data type\n"
     ]
    },
    {
     "name": "stdout",
     "output_type": "stream",
     "text": [
      "Missing Data 04sep18\n"
     ]
    }
   ],
   "source": [
    "# Full South Vic -> GI (3)\n",
    "year = 2018\n",
    "allv = ['final_age', 'final_depth', 'final_salt', 'final_temp', 'final_lon', \n",
    "        'init_depth', 'init_salt', 'init_temp', 'init_lat']\n",
    "start = datetime.datetime(year, 1, 1)\n",
    "endtime = datetime.datetime(year, 12, 31)\n",
    "time, transport, mean = get_data_all(start, endtime, 'FullSouth', 3, allv)\n",
    "fullsouth_all = pd.DataFrame(data=transport, index=time, columns=['transport'])\n",
    "for variable in allv:\n",
    "    fullsouth_all = fullsouth_all.assign(mycol=pd.Series(mean[variable]).values)\n",
    "    fullsouth_all.rename(columns={'mycol':variable}, inplace=True)\n",
    "fullsouth_all\n",
    "fullsouth_all.to_csv('Vic_to_GI_'+str(year)+'_v3.csv')"
   ]
  },
  {
   "cell_type": "code",
   "execution_count": 59,
   "metadata": {},
   "outputs": [
    {
     "name": "stderr",
     "output_type": "stream",
     "text": [
      "/home/sallen/anaconda/envs/py38/lib/python3.7/site-packages/ipykernel_launcher.py:19: UserWarning: WARNING: missing_value not used since it\n",
      "cannot be safely cast to variable data type\n"
     ]
    }
   ],
   "source": [
    "# Back North into PR from Vic\n",
    "year = 2018\n",
    "allv = ['final_age', 'final_depth', 'final_salt', 'final_temp', 'final_lon', \n",
    "        'init_depth', 'init_salt', 'init_temp', 'init_lat']\n",
    "start = datetime.datetime(year, 1, 1)\n",
    "endtime = datetime.datetime(year, 12, 31)\n",
    "time, transport, mean = get_data_all(start, endtime, 'BackNorth', 2, allv)\n",
    "fullsouth_all = pd.DataFrame(data=transport, index=time, columns=['transport'])\n",
    "for variable in allv:\n",
    "    fullsouth_all = fullsouth_all.assign(mycol=pd.Series(mean[variable]).values)\n",
    "    fullsouth_all.rename(columns={'mycol':variable}, inplace=True)\n",
    "fullsouth_all\n",
    "fullsouth_all.to_csv('PR_from_Vic_'+str(year)+'_v3.csv')"
   ]
  },
  {
   "cell_type": "code",
   "execution_count": 60,
   "metadata": {},
   "outputs": [
    {
     "name": "stderr",
     "output_type": "stream",
     "text": [
      "/home/sallen/anaconda/envs/py38/lib/python3.7/site-packages/ipykernel_launcher.py:19: UserWarning: WARNING: missing_value not used since it\n",
      "cannot be safely cast to variable data type\n"
     ]
    }
   ],
   "source": [
    "# In GIslands into GI from Vic\n",
    "year = 2018\n",
    "allv = ['final_age', 'final_depth', 'final_salt', 'final_temp', 'final_lon', \n",
    "        'init_depth', 'init_salt', 'init_temp', 'init_lat']\n",
    "start = datetime.datetime(year, 1, 1)\n",
    "endtime = datetime.datetime(year, 12, 31)\n",
    "time, transport, mean = get_data_all(start, endtime, 'InGIslands', 2, allv)\n",
    "fullsouth_all = pd.DataFrame(data=transport, index=time, columns=['transport'])\n",
    "for variable in allv:\n",
    "    fullsouth_all = fullsouth_all.assign(mycol=pd.Series(mean[variable]).values)\n",
    "    fullsouth_all.rename(columns={'mycol':variable}, inplace=True)\n",
    "fullsouth_all\n",
    "fullsouth_all.to_csv('GI_from_Vic_'+str(year)+'_v3.csv')"
   ]
  },
  {
   "cell_type": "code",
   "execution_count": 61,
   "metadata": {},
   "outputs": [
    {
     "name": "stderr",
     "output_type": "stream",
     "text": [
      "/home/sallen/anaconda/envs/py38/lib/python3.7/site-packages/ipykernel_launcher.py:19: UserWarning: WARNING: missing_value not used since it\n",
      "cannot be safely cast to variable data type\n"
     ]
    }
   ],
   "source": [
    "# Full North PR to Vic\n",
    "year = 2018\n",
    "allv = ['final_age', 'final_depth', 'final_salt', 'final_temp', 'final_lon', \n",
    "        'init_depth', 'init_salt', 'init_temp', 'init_lat']\n",
    "start = datetime.datetime(year, 1, 1)\n",
    "endtime = datetime.datetime(year, 12, 31)\n",
    "time, transport, mean = get_data_all(start, endtime, 'FullNorth', 2, allv)\n",
    "fullnorth_all = pd.DataFrame(data=transport, index=time, columns=['transport'])\n",
    "for variable in allv:\n",
    "    fullnorth_all = fullnorth_all.assign(mycol=pd.Series(mean[variable]).values)\n",
    "    fullnorth_all.rename(columns={'mycol':variable}, inplace=True)\n",
    "fullnorth_all\n",
    "fullnorth_all.to_csv('PR_to_Vic_'+str(year)+'_v3.csv')"
   ]
  },
  {
   "cell_type": "code",
   "execution_count": 62,
   "metadata": {},
   "outputs": [
    {
     "name": "stderr",
     "output_type": "stream",
     "text": [
      "/home/sallen/anaconda/envs/py38/lib/python3.7/site-packages/ipykernel_launcher.py:19: UserWarning: WARNING: missing_value not used since it\n",
      "cannot be safely cast to variable data type\n"
     ]
    }
   ],
   "source": [
    "# South G Islands GI to Vic\n",
    "year = 2018\n",
    "allv = ['final_age', 'final_depth', 'final_salt', 'final_temp', 'final_lon', \n",
    "        'init_depth', 'init_salt', 'init_temp', 'init_lat']\n",
    "start = datetime.datetime(year, 1, 1)\n",
    "endtime = datetime.datetime(year, 12, 31)\n",
    "time, transport, mean = get_data_all(start, endtime, 'SouthGIslands', 2, allv)\n",
    "fullsouth_all = pd.DataFrame(data=transport, index=time, columns=['transport'])\n",
    "for variable in allv:\n",
    "    fullsouth_all = fullsouth_all.assign(mycol=pd.Series(mean[variable]).values)\n",
    "    fullsouth_all.rename(columns={'mycol':variable}, inplace=True)\n",
    "fullsouth_all\n",
    "fullsouth_all.to_csv('GI_to_Vic_'+str(year)+'_v3.csv')"
   ]
  },
  {
   "cell_type": "code",
   "execution_count": 63,
   "metadata": {},
   "outputs": [
    {
     "name": "stderr",
     "output_type": "stream",
     "text": [
      "/home/sallen/anaconda/envs/py38/lib/python3.7/site-packages/ipykernel_launcher.py:19: UserWarning: WARNING: missing_value not used since it\n",
      "cannot be safely cast to variable data type\n"
     ]
    }
   ],
   "source": [
    "# BackSouth Vic from PR\n",
    "year = 2018\n",
    "allv = ['final_age', 'final_depth', 'final_salt', 'final_temp', 'final_lon', \n",
    "        'init_depth', 'init_salt', 'init_temp', 'init_lat']\n",
    "start = datetime.datetime(year, 1, 1)\n",
    "endtime = datetime.datetime(year, 12, 31)\n",
    "time, transport, mean = get_data_all(start, endtime, 'BackSouth', 2, allv)\n",
    "fullsouth_all = pd.DataFrame(data=transport, index=time, columns=['transport'])\n",
    "for variable in allv:\n",
    "    fullsouth_all = fullsouth_all.assign(mycol=pd.Series(mean[variable]).values)\n",
    "    fullsouth_all.rename(columns={'mycol':variable}, inplace=True)\n",
    "fullsouth_all\n",
    "fullsouth_all.to_csv('Vic_from_PR_'+str(year)+'_v3.csv')"
   ]
  },
  {
   "cell_type": "code",
   "execution_count": 64,
   "metadata": {},
   "outputs": [
    {
     "name": "stderr",
     "output_type": "stream",
     "text": [
      "/home/sallen/anaconda/envs/py38/lib/python3.7/site-packages/ipykernel_launcher.py:19: UserWarning: WARNING: missing_value not used since it\n",
      "cannot be safely cast to variable data type\n"
     ]
    }
   ],
   "source": [
    "# BackSouth Vic from GI\n",
    "year = 2018\n",
    "allv = ['final_age', 'final_depth', 'final_salt', 'final_temp', 'final_lon', \n",
    "        'init_depth', 'init_salt', 'init_temp', 'init_lat']\n",
    "start = datetime.datetime(year, 1, 1)\n",
    "endtime = datetime.datetime(year, 12, 31)\n",
    "time, transport, mean = get_data_all(start, endtime, 'BackSouth', 3, allv)\n",
    "fullnorth_all = pd.DataFrame(data=transport, index=time, columns=['transport'])\n",
    "for variable in allv:\n",
    "    fullnorth_all = fullnorth_all.assign(mycol=pd.Series(mean[variable]).values)\n",
    "    fullnorth_all.rename(columns={'mycol':variable}, inplace=True)\n",
    "fullnorth_all\n",
    "fullnorth_all.to_csv('Vic_from_GI_'+str(year)+'_v3.csv')"
   ]
  },
  {
   "cell_type": "markdown",
   "metadata": {},
   "source": [
    "fi = open('south_init.txt', 'a')\n",
    "ff = open('south_final.txt', 'a')\n",
    "save_position('./', './', 2, fi, ff)\n",
    "fi.close() \n",
    "ff.close()"
   ]
  },
  {
   "cell_type": "code",
   "execution_count": 62,
   "metadata": {},
   "outputs": [],
   "source": [
    "#Victoria_sill_j = 178-1;\n",
    "#    Victoria_sill_i = np.arange(235,302+1)-1\n",
    "fig, ax = plt.subplots(1, 2, figsize=(10, 5))\n",
    "with open('south_init.txt', 'r') as fi:\n",
    "    mydata = np.loadtxt(fi)\n",
    "my_lats_edges = lats[235-1:302-1, 178-1] - (lats[235, 178] - lats[234, 178])/2.\n",
    "my_deps_edges = -gdepw[28::-1]\n",
    "H, xs, ys = np.histogram2d(mydata[:, 0], mydata[:, 1],  bins = [my_deps_edges, my_lats_edges],\n",
    "                        weights=mydata2[:,3])\n",
    "mesh = ax[0].pcolormesh(my_lats_edges[:-1], my_deps_edges[:-1], H)\n",
    "fig.colorbar(mesh, ax=ax[0])\n",
    "\n",
    "with open('south_final.txt', 'r') as ff:\n",
    "    mydata2 = np.loadtxt(ff)\n",
    "my_lons_edges = lons[387-1, 262-1:309-1] - (lons[387, 300] - lons[387, 301])/2.\n",
    "H, xs, ys = np.histogram2d(mydata2[:, 0], mydata2[:, 2],  bins = [my_deps_edges, my_lons_edges],\n",
    "                        weights=mydata2[:,3])\n",
    "mesh = ax[1].pcolormesh(my_lons_edges[:-1], my_deps_edges[:-1], H)\n",
    "fig.colorbar(mesh, ax=ax[1])\n"
   ]
  },
  {
   "cell_type": "code",
   "execution_count": 63,
   "metadata": {},
   "outputs": [
    {
     "name": "stderr",
     "output_type": "stream",
     "text": [
      "/home/sallen/anaconda/envs/py37/lib/python3.7/site-packages/ipykernel_launcher.py:19: UserWarning: WARNING: missing_value not used since it\n",
      "cannot be safely cast to variable data type\n"
     ]
    },
    {
     "name": "stdout",
     "output_type": "stream",
     "text": [
      "Missing Data 04sep18\n"
     ]
    }
   ],
   "source": [
    "# to Puget Sound from Victoria Sill (#4)  (Discovery is #5)\n",
    "number = 4\n",
    "time, transport, mean = get_data_all(start, endtime, 'FullSouth', number, allv)\n",
    "fullnorth_all = pd.DataFrame(data=transport, index=time, columns=['transport'])\n",
    "for variable in allv:\n",
    "    fullnorth_all = fullnorth_all.assign(mycol=pd.Series(mean[variable]).values)\n",
    "    fullnorth_all.rename(columns={'mycol':variable}, inplace=True)\n",
    "fullnorth_all\n",
    "fullnorth_all.to_csv('Puget_from_VS_'+str(year)+'_v3.csv')\n"
   ]
  },
  {
   "cell_type": "code",
   "execution_count": 64,
   "metadata": {},
   "outputs": [
    {
     "name": "stderr",
     "output_type": "stream",
     "text": [
      "/home/sallen/anaconda/envs/py37/lib/python3.7/site-packages/ipykernel_launcher.py:19: UserWarning: WARNING: missing_value not used since it\n",
      "cannot be safely cast to variable data type\n"
     ]
    },
    {
     "name": "stdout",
     "output_type": "stream",
     "text": [
      "Missing Data 04sep18\n"
     ]
    }
   ],
   "source": [
    "# to Discovery from Victoria Sill (#5)\n",
    "number = 5\n",
    "time, transport, mean = get_data_all(start, endtime, 'FullSouth', number, allv)\n",
    "fullnorth_all = pd.DataFrame(data=transport, index=time, columns=['transport'])\n",
    "for variable in allv:\n",
    "    fullnorth_all = fullnorth_all.assign(mycol=pd.Series(mean[variable]).values)\n",
    "    fullnorth_all.rename(columns={'mycol':variable}, inplace=True)\n",
    "fullnorth_all\n",
    "fullnorth_all.to_csv('Discovery_from_VS_'+str(year)+'_v3.csv')"
   ]
  },
  {
   "cell_type": "code",
   "execution_count": 65,
   "metadata": {},
   "outputs": [
    {
     "name": "stderr",
     "output_type": "stream",
     "text": [
      "/home/sallen/anaconda/envs/py37/lib/python3.7/site-packages/ipykernel_launcher.py:19: UserWarning: WARNING: missing_value not used since it\n",
      "cannot be safely cast to variable data type\n"
     ]
    }
   ],
   "source": [
    "# to Puget Sound from Point Roberts (#4)  (Discovery is #5)\n",
    "number = 4\n",
    "time, transport, mean = get_data_all(start, endtime, 'FullNorth', number, allv)\n",
    "fullnorth_all = pd.DataFrame(data=transport, index=time, columns=['transport'])\n",
    "for variable in allv:\n",
    "    fullnorth_all = fullnorth_all.assign(mycol=pd.Series(mean[variable]).values)\n",
    "    fullnorth_all.rename(columns={'mycol':variable}, inplace=True)\n",
    "fullnorth_all\n",
    "fullnorth_all.to_csv('Puget_from_PR_'+str(year)+'_v3.csv')"
   ]
  },
  {
   "cell_type": "code",
   "execution_count": 66,
   "metadata": {},
   "outputs": [
    {
     "name": "stderr",
     "output_type": "stream",
     "text": [
      "/home/sallen/anaconda/envs/py37/lib/python3.7/site-packages/ipykernel_launcher.py:19: UserWarning: WARNING: missing_value not used since it\n",
      "cannot be safely cast to variable data type\n"
     ]
    }
   ],
   "source": [
    "# to Discovery from Point Roberts (#5)\n",
    "number = 5\n",
    "time, transport, mean = get_data_all(start, endtime, 'FullNorth', number, allv)\n",
    "fullnorth_all = pd.DataFrame(data=transport, index=time, columns=['transport'])\n",
    "for variable in allv:\n",
    "    fullnorth_all = fullnorth_all.assign(mycol=pd.Series(mean[variable]).values)\n",
    "    fullnorth_all.rename(columns={'mycol':variable}, inplace=True)\n",
    "fullnorth_all\n",
    "fullnorth_all.to_csv('Discovery_from_PR_'+str(year)+'_v3.csv')"
   ]
  },
  {
   "cell_type": "code",
   "execution_count": null,
   "metadata": {
    "collapsed": true,
    "jupyter": {
     "outputs_hidden": true
    }
   },
   "outputs": [],
   "source": [
    "fig, ax = plt.subplots(1, 1, figsize=(14, 5))\n",
    "ax2 = ax.twinx()\n",
    "lag = -3\n",
    "ii, jj = 190, 300\n",
    "ax.plot(range(ii, jj),fullsouth_transport['transport'][ii+lag:jj+lag])\n",
    "ax2.plot(range(ii, jj), -low_pass_tide['uVelocity'][ii:jj], 'r')"
   ]
  },
  {
   "cell_type": "markdown",
   "metadata": {},
   "source": [
    "# to Puget Sound from Gulf Islands (#4)  (Discovery is #5)\n",
    "number = 4\n",
    "time, transport, mean = get_data_all(start, endtime, 'SouthGIslands', number, allv)\n",
    "fullnorth_all = pd.DataFrame(data=transport, index=time, columns=['transport'])\n",
    "for variable in allv:\n",
    "    fullnorth_all = fullnorth_all.assign(mycol=pd.Series(mean[variable]).values)\n",
    "    fullnorth_all.rename(columns={'mycol':variable}, inplace=True)\n",
    "fullnorth_all\n",
    "fullnorth_all.to_csv('Puget_from_GI_'+str(year)+'_v3.csv')"
   ]
  },
  {
   "cell_type": "code",
   "execution_count": null,
   "metadata": {
    "collapsed": true,
    "jupyter": {
     "outputs_hidden": true
    }
   },
   "outputs": [],
   "source": [
    "fig, ax = plt.subplots(1, 1, figsize=(14, 5))\n",
    "ax2 = ax.twinx()\n",
    "lag = -3\n",
    "ii, jj = 100, 190\n",
    "ax.plot(range(ii, jj),fullsouth_transport['transport'][ii+lag:jj+lag])\n",
    "ax2.plot(range(ii, jj), -low_pass_tide['uVelocity'][ii:jj], 'r')"
   ]
  },
  {
   "cell_type": "markdown",
   "metadata": {},
   "source": [
    "# to Discovery from Gulf Islands (#5)\n",
    "number = 5\n",
    "time, transport, mean = get_data_all(start, endtime, 'SouthGIslands', number, allv)\n",
    "fullnorth_all = pd.DataFrame(data=transport, index=time, columns=['transport'])\n",
    "for variable in allv:\n",
    "    fullnorth_all = fullnorth_all.assign(mycol=pd.Series(mean[variable]).values)\n",
    "    fullnorth_all.rename(columns={'mycol':variable}, inplace=True)\n",
    "fullnorth_all\n",
    "fullnorth_all.to_csv('Discovery_from_GI_'+str(year)+'_v3.csv')"
   ]
  },
  {
   "cell_type": "code",
   "execution_count": 69,
   "metadata": {},
   "outputs": [
    {
     "name": "stderr",
     "output_type": "stream",
     "text": [
      "/home/sallen/anaconda/envs/py37/lib/python3.7/site-packages/ipykernel_launcher.py:19: UserWarning: WARNING: missing_value not used since it\n",
      "cannot be safely cast to variable data type\n"
     ]
    }
   ],
   "source": [
    "# from Puget Sound to Victoria Sill (#4)  (Discovery is #5)\n",
    "number = 4\n",
    "time, transport, mean = get_data_all(start, endtime, 'BackSouth', number, allv)\n",
    "fullnorth_all = pd.DataFrame(data=transport, index=time, columns=['transport'])\n",
    "for variable in allv:\n",
    "    fullnorth_all = fullnorth_all.assign(mycol=pd.Series(mean[variable]).values)\n",
    "    fullnorth_all.rename(columns={'mycol':variable}, inplace=True)\n",
    "fullnorth_all\n",
    "fullnorth_all.to_csv('Puget_to_VS_'+str(year)+'_v3.csv')"
   ]
  },
  {
   "cell_type": "code",
   "execution_count": 70,
   "metadata": {},
   "outputs": [
    {
     "name": "stderr",
     "output_type": "stream",
     "text": [
      "/home/sallen/anaconda/envs/py37/lib/python3.7/site-packages/ipykernel_launcher.py:19: UserWarning: WARNING: missing_value not used since it\n",
      "cannot be safely cast to variable data type\n"
     ]
    }
   ],
   "source": [
    "# from Discovery to Victoria Sill (#5)\n",
    "number = 5\n",
    "time, transport, mean = get_data_all(start, endtime, 'BackSouth', number, allv)\n",
    "fullnorth_all = pd.DataFrame(data=transport, index=time, columns=['transport'])\n",
    "for variable in allv:\n",
    "    fullnorth_all = fullnorth_all.assign(mycol=pd.Series(mean[variable]).values)\n",
    "    fullnorth_all.rename(columns={'mycol':variable}, inplace=True)\n",
    "fullnorth_all\n",
    "fullnorth_all.to_csv('Discovery_to_VS_'+str(year)+'_v3.csv')"
   ]
  },
  {
   "cell_type": "code",
   "execution_count": 71,
   "metadata": {},
   "outputs": [
    {
     "name": "stderr",
     "output_type": "stream",
     "text": [
      "/home/sallen/anaconda/envs/py37/lib/python3.7/site-packages/ipykernel_launcher.py:19: UserWarning: WARNING: missing_value not used since it\n",
      "cannot be safely cast to variable data type\n"
     ]
    }
   ],
   "source": [
    "# from Puget Sound to Point Roberts (#4)  (Discovery is #5)\n",
    "number = 4\n",
    "time, transport, mean = get_data_all(start, endtime, 'BackNorth', number, allv)\n",
    "fullnorth_all = pd.DataFrame(data=transport, index=time, columns=['transport'])\n",
    "for variable in allv:\n",
    "    fullnorth_all = fullnorth_all.assign(mycol=pd.Series(mean[variable]).values)\n",
    "    fullnorth_all.rename(columns={'mycol':variable}, inplace=True)\n",
    "fullnorth_all\n",
    "fullnorth_all.to_csv('Puget_to_PR_'+str(year)+'_v3.csv')"
   ]
  },
  {
   "cell_type": "code",
   "execution_count": 72,
   "metadata": {},
   "outputs": [
    {
     "name": "stderr",
     "output_type": "stream",
     "text": [
      "/home/sallen/anaconda/envs/py37/lib/python3.7/site-packages/ipykernel_launcher.py:19: UserWarning: WARNING: missing_value not used since it\n",
      "cannot be safely cast to variable data type\n",
      "/home/sallen/anaconda/envs/py37/lib/python3.7/site-packages/ipykernel_launcher.py:20: RuntimeWarning: invalid value encountered in double_scalars\n"
     ]
    }
   ],
   "source": [
    "# from Discovery to Point Roberts (#5)\n",
    "number = 5\n",
    "time, transport, mean = get_data_all(start, endtime, 'BackNorth', number, allv)\n",
    "fullnorth_all = pd.DataFrame(data=transport, index=time, columns=['transport'])\n",
    "for variable in allv:\n",
    "    fullnorth_all = fullnorth_all.assign(mycol=pd.Series(mean[variable]).values)\n",
    "    fullnorth_all.rename(columns={'mycol':variable}, inplace=True)\n",
    "fullnorth_all\n",
    "fullnorth_all.to_csv('Discovery_to_PR_'+str(year)+'_v3.csv')"
   ]
  },
  {
   "cell_type": "code",
   "execution_count": 73,
   "metadata": {},
   "outputs": [
    {
     "name": "stderr",
     "output_type": "stream",
     "text": [
      "/home/sallen/anaconda/envs/py37/lib/python3.7/site-packages/ipykernel_launcher.py:19: UserWarning: WARNING: missing_value not used since it\n",
      "cannot be safely cast to variable data type\n"
     ]
    }
   ],
   "source": [
    "# from Puget Sound to Gulf Islands (#4)  (Discovery is #5)\n",
    "number = 4\n",
    "time, transport, mean = get_data_all(start, endtime, 'InGIslands', number, allv)\n",
    "fullnorth_all = pd.DataFrame(data=transport, index=time, columns=['transport'])\n",
    "for variable in allv:\n",
    "    fullnorth_all = fullnorth_all.assign(mycol=pd.Series(mean[variable]).values)\n",
    "    fullnorth_all.rename(columns={'mycol':variable}, inplace=True)\n",
    "fullnorth_all\n",
    "fullnorth_all.to_csv('Puget_to_GI_'+str(year)+'_v3.csv')"
   ]
  },
  {
   "cell_type": "code",
   "execution_count": 74,
   "metadata": {},
   "outputs": [
    {
     "name": "stderr",
     "output_type": "stream",
     "text": [
      "/home/sallen/anaconda/envs/py37/lib/python3.7/site-packages/ipykernel_launcher.py:20: RuntimeWarning: invalid value encountered in double_scalars\n",
      "/home/sallen/anaconda/envs/py37/lib/python3.7/site-packages/ipykernel_launcher.py:19: UserWarning: WARNING: missing_value not used since it\n",
      "cannot be safely cast to variable data type\n"
     ]
    }
   ],
   "source": [
    "# from Discovery to Gulf Islands (#5)\n",
    "number = 5\n",
    "time, transport, mean = get_data_all(start, endtime, 'InGIslands', number, allv)\n",
    "fullnorth_all = pd.DataFrame(data=transport, index=time, columns=['transport'])\n",
    "for variable in allv:\n",
    "    fullnorth_all = fullnorth_all.assign(mycol=pd.Series(mean[variable]).values)\n",
    "    fullnorth_all.rename(columns={'mycol':variable}, inplace=True)\n",
    "fullnorth_all\n",
    "fullnorth_all.to_csv('Discovery_to_GI_'+str(year)+'_v3.csv')"
   ]
  },
  {
   "cell_type": "code",
   "execution_count": null,
   "metadata": {
    "collapsed": true,
    "jupyter": {
     "outputs_hidden": true
    }
   },
   "outputs": [],
   "source": [
    "fs = open('gulfisland_fullsouth_early2015', 'wb')\n",
    "pickle.dump(gulfislands, fs)\n",
    "fs.close()"
   ]
  },
  {
   "cell_type": "code",
   "execution_count": null,
   "metadata": {
    "collapsed": true,
    "jupyter": {
     "outputs_hidden": true
    }
   },
   "outputs": [],
   "source": [
    "fs = open('fullsouth_early2015', 'wb')\n",
    "pickle.dump(fullsouth_transport, fs)\n",
    "fs.close()"
   ]
  },
  {
   "cell_type": "code",
   "execution_count": null,
   "metadata": {
    "collapsed": true,
    "jupyter": {
     "outputs_hidden": true
    }
   },
   "outputs": [],
   "source": [
    "vic_transport_2015 = pickle.load('vic_transport_2015')\n",
    "plt.plot(vic_transport_2015)"
   ]
  },
  {
   "cell_type": "code",
   "execution_count": null,
   "metadata": {
    "collapsed": true,
    "jupyter": {
     "outputs_hidden": true
    }
   },
   "outputs": [],
   "source": [
    "fs = open('vic_transport_2015', 'wb')\n",
    "pickle.dump(vic_transport, fs)"
   ]
  },
  {
   "cell_type": "code",
   "execution_count": null,
   "metadata": {
    "collapsed": true,
    "jupyter": {
     "outputs_hidden": true
    }
   },
   "outputs": [],
   "source": [
    "vsq = pd.read_csv('../day_avg_tide_pd.csv')"
   ]
  },
  {
   "cell_type": "code",
   "execution_count": null,
   "metadata": {
    "collapsed": true,
    "jupyter": {
     "outputs_hidden": true
    }
   },
   "outputs": [],
   "source": [
    "fig, ax = plt.subplots(1, 5, figsize=(18, 5))\n",
    "for i, lag in enumerate(range(-7, 7, 3)):\n",
    "    ax[i].plot(vsq[99+lag:99+365+lag].uVelocity, vic_transport, '*')\n",
    "#    print (np.correlate(vsq[99+lag:99+365+lag], vic_transport[:]), lag, mode='valid')"
   ]
  },
  {
   "cell_type": "code",
   "execution_count": null,
   "metadata": {
    "collapsed": true,
    "jupyter": {
     "outputs_hidden": true
    }
   },
   "outputs": [],
   "source": [
    "print (final_section[:10])"
   ]
  },
  {
   "cell_type": "code",
   "execution_count": null,
   "metadata": {
    "collapsed": true,
    "jupyter": {
     "outputs_hidden": true
    }
   },
   "outputs": [],
   "source": [
    "print (final_transport[:10])"
   ]
  },
  {
   "cell_type": "code",
   "execution_count": null,
   "metadata": {
    "collapsed": true,
    "jupyter": {
     "outputs_hidden": true
    }
   },
   "outputs": [],
   "source": []
  }
 ],
 "metadata": {
  "anaconda-cloud": {},
  "kernelspec": {
   "display_name": "Python 3 (ipykernel)",
   "language": "python",
   "name": "python3"
  },
  "language_info": {
   "codemirror_mode": {
    "name": "ipython",
    "version": 3
   },
   "file_extension": ".py",
   "mimetype": "text/x-python",
   "name": "python",
   "nbconvert_exporter": "python",
   "pygments_lexer": "ipython3",
   "version": "3.11.6"
  },
  "toc": {
   "nav_menu": {
    "height": "12px",
    "width": "252px"
   },
   "number_sections": true,
   "sideBar": true,
   "skip_h1_title": false,
   "toc_cell": false,
   "toc_position": {},
   "toc_section_display": "block",
   "toc_window_display": true
  }
 },
 "nbformat": 4,
 "nbformat_minor": 4
}
