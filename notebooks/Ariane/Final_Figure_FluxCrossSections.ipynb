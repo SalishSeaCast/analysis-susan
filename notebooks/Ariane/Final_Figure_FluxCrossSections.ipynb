{
 "cells": [
  {
   "cell_type": "markdown",
   "id": "45a684da-23b5-44e5-adb7-176048022777",
   "metadata": {},
   "source": [
    "## Plot the Yearly Flux Cross-sections for Final Figure"
   ]
  },
  {
   "cell_type": "code",
   "execution_count": 1,
   "id": "919196bb-adf5-4288-bdc7-5f9e4112eb4b",
   "metadata": {},
   "outputs": [],
   "source": [
    "import cmocean.cm as cm\n",
    "import glob\n",
    "import matplotlib.pyplot as plt\n",
    "import matplotlib as mpl\n",
    "from matplotlib import gridspec\n",
    "from matplotlib.patches import Rectangle\n",
    "from matplotlib.collections import PatchCollection\n",
    "from matplotlib.colors import LinearSegmentedColormap\n",
    "import numpy as np\n",
    "import scipy.interpolate as interp\n",
    "import xarray as xr"
   ]
  },
  {
   "cell_type": "code",
   "execution_count": 2,
   "id": "8188a53e-5d77-4f6d-a4ee-afd31157811f",
   "metadata": {},
   "outputs": [],
   "source": [
    "plt.rcParams['font.size'] = 36\n",
    "\n",
    "# get colormap\n",
    "ncolors = 256\n",
    "oldmaps = ['Purples', 'Blues', 'Greens', 'Oranges']\n",
    "newmaps = ['Purples_alpha', 'Blues_alpha', 'Greens_alpha', 'Oranges_alpha']\n",
    "\n",
    "for oldmap, newmap in zip(oldmaps, newmaps):\n",
    "    color_array = plt.get_cmap(oldmap)(range(ncolors))\n",
    "\n",
    "    # change alpha values\n",
    "    color_array[:,-1] = np.linspace(0.0, 1.0, ncolors)\n",
    "\n",
    "    # create a colormap object\n",
    "    map_object = LinearSegmentedColormap.from_list(name=newmap, colors=color_array)\n",
    "\n",
    "    # register this new colormap with matplotlib\n",
    "    plt.register_cmap(cmap=map_object)"
   ]
  },
  {
   "cell_type": "code",
   "execution_count": 3,
   "id": "65730d47-362c-4378-851a-2a2bdb295a09",
   "metadata": {},
   "outputs": [],
   "source": [
    "mymesh = xr.open_dataset('/home/sallen/MEOPAR/grid/mesh_mask201702.nc')\n",
    "depthf = interp.interp1d(mymesh.z, mymesh.gdepw_1d)\n",
    "figrid = 386\n",
    "igrid = figrid-1\n",
    "fjgrid = 177\n",
    "jgrid = fjgrid-1\n",
    "tmask = mymesh.tmask[0]\n",
    "fmask = mymesh.fmask[0, :, igrid]\n",
    "fmask2 = mymesh.fmask[0, :, :, jgrid]\n",
    "f_lons = mymesh.glamf[0, igrid]\n",
    "f_lats = mymesh.gphif[0, :, jgrid]\n",
    "u_lons = mymesh.glamv[0, igrid]    # note switch to v with the switch from t to f\n",
    "v_lats = mymesh.gphiv[0, :, jgrid] \n",
    "w_depths = mymesh.gdepw_1d\n",
    "xs, ys = np.meshgrid(np.array(mymesh.glamv[0, igrid]), np.array(mymesh.gdept_1d))"
   ]
  },
  {
   "cell_type": "code",
   "execution_count": 4,
   "id": "bd195fde-b909-4e5e-8193-712953cf5fcf",
   "metadata": {},
   "outputs": [],
   "source": [
    "m2lon = ((u_lons[314]-u_lons[260])/(mymesh.e2f[0, igrid, 260:314].sum())).values\n",
    "m2lat = ((v_lats[301]-v_lats[234])/(mymesh.e2f[0, 234:301, jgrid].sum())).values"
   ]
  },
  {
   "cell_type": "code",
   "execution_count": 5,
   "id": "ba51d77b-c01b-4e91-b004-5095b386546a",
   "metadata": {},
   "outputs": [],
   "source": [
    "def draw_patches(fmask, ll, ul, u_lons, w_depths):\n",
    "    maxw = w_depths.shape[0] - 1\n",
    "    topo = []\n",
    "    for i in range(ll,ul):\n",
    "        for j in range(maxw):\n",
    "            if fmask[j, i] == 0:\n",
    "                rect = Rectangle((u_lons[i], w_depths[j]), u_lons[i+1]-u_lons[i], w_depths[j+1]-w_depths[j])\n",
    "                topo.append(rect)\n",
    "    pc = PatchCollection(topo, facecolors='lightgray', edgecolors='lightgray')\n",
    "    return(pc)"
   ]
  },
  {
   "cell_type": "code",
   "execution_count": 6,
   "id": "f2adb6a9-8f22-48e6-9b0f-5c9c687a4e89",
   "metadata": {},
   "outputs": [],
   "source": [
    "def draw_patches_vic(fmask, ll, ul, v_lats, w_depths, alpha=1):\n",
    "    topo = []\n",
    "    for i in range(ll, ul):\n",
    "        for j in range(39):\n",
    "            if fmask[j, i] == 0:\n",
    "                rect = Rectangle((v_lats[i], w_depths[j]), v_lats[i+1]-v_lats[i], w_depths[j+1]-w_depths[j])\n",
    "                topo.append(rect)\n",
    "    pc = PatchCollection(topo, facecolors='lightgray', edgecolors='lightgray', alpha=alpha)\n",
    "    return(pc)"
   ]
  },
  {
   "cell_type": "code",
   "execution_count": 7,
   "id": "d3512bee-77bb-4980-8162-155ea1e192c8",
   "metadata": {},
   "outputs": [],
   "source": [
    "def get_data_forward(month, year, section=2):\n",
    "    amonth = glob.glob('/data/sallen/results/Ariane/FullNorth/*'+month+str(year)+'/ariane_positions_quantitative.nc')\n",
    "    mydata = xr.open_dataset(amonth[0])\n",
    "    lons = mydata.init_lon[(mydata.final_section==section)]\n",
    "    depths = depthf(mydata.init_z[(mydata.final_section==section)]-1.)[0]\n",
    "    transports = mydata.init_transp[(mydata.final_section==section)]\n",
    "    sals = mydata.init_salt[(mydata.final_section==section)]\n",
    "    mydata.close()\n",
    "    for f in amonth[1:]:\n",
    "        mydata = xr.open_dataset(f)\n",
    "        lons = np.concatenate((lons, mydata.init_lon[(mydata.final_section==section)]))\n",
    "        depths = np.concatenate((depths, depthf(mydata.init_z[(mydata.final_section==section)]-1.)[0]))\n",
    "        transports = np.concatenate((transports, mydata.init_transp[(mydata.final_section==section)]))\n",
    "        sals = np.concatenate((sals, mydata.init_salt[(mydata.final_section==section)]))\n",
    "        mydata.close()\n",
    "    return lons, depths, transports, sals"
   ]
  },
  {
   "cell_type": "code",
   "execution_count": 8,
   "id": "544f4a8a-62e8-48e1-b0cf-8afe18064633",
   "metadata": {},
   "outputs": [],
   "source": [
    "def get_data_forward_vic(month, year, section=2):\n",
    "    amonth = glob.glob('/data/sallen/results/Ariane/FullSouth/*'+month+str(year)+'/ariane_positions_quantitative.nc')\n",
    "    mydata = xr.open_dataset(amonth[0])\n",
    "    lats = mydata.init_lat[(mydata.final_section==section)]\n",
    "    depths = depthf(mydata.init_z[(mydata.final_section==section)]-1.)[0]\n",
    "    transports = mydata.init_transp[(mydata.final_section==section)]\n",
    "    sals = mydata.final_salt[(mydata.final_section==section)]\n",
    "    mydata.close()\n",
    "    for f in amonth[1:]:\n",
    "        mydata = xr.open_dataset(f)\n",
    "        lats = np.concatenate((lats, mydata.init_lat[(mydata.final_section==section)]))\n",
    "        depths = np.concatenate((depths, depthf(mydata.init_z[(mydata.final_section==section)]-1.)[0]))\n",
    "        transports = np.concatenate((transports, mydata.init_transp[(mydata.final_section==section)]))\n",
    "        sals = np.concatenate((sals, mydata.final_salt[(mydata.final_section==section)]))\n",
    "        mydata.close()\n",
    "    return lats, depths, transports, sals"
   ]
  },
  {
   "cell_type": "code",
   "execution_count": 9,
   "id": "d26df1c3-cb73-4964-9ce9-095441838b80",
   "metadata": {},
   "outputs": [],
   "source": [
    "def get_data_backward_gi(month, year, section = 2):\n",
    "    amonth = glob.glob('/data/sallen/results/Ariane/InGIslands/*'+month+str(year)+'/ariane_positions_quantitative.nc')\n",
    "    mydata = xr.open_dataset(amonth[0])\n",
    "    lons = mydata.init_lon[(mydata.final_section==section)]\n",
    "    depths = depthf(mydata.init_z[(mydata.final_section==section)]-1.)[0]\n",
    "    transports = mydata.init_transp[(mydata.final_section==section)]\n",
    "    sals = mydata.init_salt[(mydata.final_section==section)]\n",
    "    mydata.close()\n",
    "    for f in amonth[1:]:\n",
    "        mydata = xr.open_dataset(f)\n",
    "        lons = np.concatenate((lons, mydata.init_lon[(mydata.final_section==section)]))\n",
    "        depths = np.concatenate((depths, depthf(mydata.init_z[(mydata.final_section==section)]-1.)[0]))\n",
    "        transports = np.concatenate((transports, mydata.init_transp[(mydata.final_section==section)]))\n",
    "        sals = np.concatenate((sals, mydata.init_salt[(mydata.final_section==section)]))\n",
    "        mydata.close()\n",
    "    return lons, depths, transports, sals"
   ]
  },
  {
   "cell_type": "code",
   "execution_count": 10,
   "id": "3a06a06a-dabc-491c-9ef6-fe6899a27eb0",
   "metadata": {},
   "outputs": [],
   "source": [
    "def get_data_backward_gi_vic(month, year, section = 3):\n",
    "    amonth = glob.glob('/data/sallen/results/Ariane/BackSouth/*'+month+str(year)+'/ariane_positions_quantitative.nc')\n",
    "    mydata = xr.open_dataset(amonth[0])\n",
    "    lats = mydata.init_lat[(mydata.final_section==section)]\n",
    "    depths = depthf(mydata.init_z[(mydata.final_section==section)]-1.)[0]\n",
    "    transports = mydata.init_transp[(mydata.final_section==section)]\n",
    "    sals = mydata.final_salt[(mydata.final_section==section)]\n",
    "    mydata.close()\n",
    "    for f in amonth[1:]:\n",
    "        mydata = xr.open_dataset(f)\n",
    "        lats = np.concatenate((lats, mydata.init_lat[(mydata.final_section==section)]))\n",
    "        depths = np.concatenate((depths, depthf(mydata.init_z[(mydata.final_section==section)]-1.)[0]))\n",
    "        transports = np.concatenate((transports, mydata.init_transp[(mydata.final_section==section)]))\n",
    "        sals = np.concatenate((sals, mydata.final_salt[(mydata.final_section==section)]))\n",
    "        mydata.close()\n",
    "    return lats, depths, transports, sals"
   ]
  },
  {
   "cell_type": "code",
   "execution_count": 11,
   "id": "e0128b13-d5af-4c5d-8478-2bd31897f43e",
   "metadata": {},
   "outputs": [],
   "source": [
    "def get_data_forward_gi(month, year, section = 2):\n",
    "    amonth = glob.glob('/data/sallen/results/Ariane/SouthGIslands//*'+month+str(year)+'/ariane_positions_quantitative.nc')\n",
    "    mydata = xr.open_dataset(amonth[0])\n",
    "    lons = mydata.init_lon[(mydata.final_section==section)]\n",
    "    depths = depthf(mydata.init_z[(mydata.final_section==section)]-1.)[0]\n",
    "    transports = mydata.init_transp[(mydata.final_section==section)]\n",
    "    sals = mydata.init_salt[(mydata.final_section==section)]\n",
    "    mydata.close()\n",
    "    for f in amonth[1:]:\n",
    "        mydata = xr.open_dataset(f)\n",
    "        lons = np.concatenate((lons, mydata.init_lon[(mydata.final_section==section)]))\n",
    "        depths = np.concatenate((depths, depthf(mydata.init_z[(mydata.final_section==section)]-1.)[0]))\n",
    "        transports = np.concatenate((transports, mydata.init_transp[(mydata.final_section==section)]))\n",
    "        sals = np.concatenate((sals, mydata.init_salt[(mydata.final_section==section)]))\n",
    "        mydata.close()\n",
    "    return lons, depths, transports, sals"
   ]
  },
  {
   "cell_type": "code",
   "execution_count": 12,
   "id": "c1e92765-664e-44c4-a453-c19c6fb78db9",
   "metadata": {},
   "outputs": [],
   "source": [
    "def get_data_forward_gi_vic(month, year, section = 3):\n",
    "    amonth = glob.glob('/data/sallen/results/Ariane/FullSouth//*'+month+str(year)+'/ariane_positions_quantitative.nc')\n",
    "    mydata = xr.open_dataset(amonth[0])\n",
    "    lats = mydata.init_lat[(mydata.final_section==section)]\n",
    "    depths = depthf(mydata.init_z[(mydata.final_section==section)]-1.)[0]\n",
    "    transports = mydata.init_transp[(mydata.final_section==section)]\n",
    "    sals = mydata.final_salt[(mydata.final_section==section)]\n",
    "    mydata.close()\n",
    "    for f in amonth[1:]:\n",
    "        mydata = xr.open_dataset(f)\n",
    "        lats = np.concatenate((lats, mydata.init_lat[(mydata.final_section==section)]))\n",
    "        depths = np.concatenate((depths, depthf(mydata.init_z[(mydata.final_section==section)]-1.)[0]))\n",
    "        transports = np.concatenate((transports, mydata.init_transp[(mydata.final_section==section)]))\n",
    "        sals = np.concatenate((sals, mydata.final_salt[(mydata.final_section==section)]))\n",
    "        mydata.close()\n",
    "    return lats, depths, transports, sals"
   ]
  },
  {
   "cell_type": "code",
   "execution_count": 13,
   "id": "c0ad7b16-d9c0-4ea9-aced-d733fb9855c4",
   "metadata": {},
   "outputs": [],
   "source": [
    "def get_data_backward(month, year, section=2):\n",
    "    amonth = glob.glob('/data/sallen/results/Ariane/BackNorth/*'+month+str(year)+'/ariane_positions_quantitative.nc')\n",
    "    mydata = xr.open_dataset(amonth[0])\n",
    "    lons = mydata.init_lon[(mydata.final_section==section)]\n",
    "    depths = depthf(mydata.init_z[(mydata.final_section==section)]-1.)[0]\n",
    "    transports = mydata.init_transp[(mydata.final_section==section)]\n",
    "    sals = mydata.init_salt[(mydata.final_section==section)]\n",
    "    mydata.close()\n",
    "    for f in amonth[1:]:\n",
    "        mydata = xr.open_dataset(f)\n",
    "        lons = np.concatenate((lons, mydata.init_lon[(mydata.final_section==section)]))\n",
    "        depths = np.concatenate((depths, depthf(mydata.init_z[(mydata.final_section==section)]-1.)[0]))\n",
    "        transports = np.concatenate((transports, mydata.init_transp[(mydata.final_section==section)]))\n",
    "        sals = np.concatenate((sals, mydata.init_salt[(mydata.final_section==section)]))\n",
    "        mydata.close()\n",
    "    return lons, depths, transports, sals"
   ]
  },
  {
   "cell_type": "code",
   "execution_count": 14,
   "id": "6f9f9a42-b3de-4bac-8157-cedce7f662ee",
   "metadata": {},
   "outputs": [],
   "source": [
    "def get_data_backward_vic(month, year, section=2):\n",
    "    amonth = glob.glob('/data/sallen/results/Ariane/BackSouth/*'+month+str(year)+'/ariane_positions_quantitative.nc')\n",
    "    mydata = xr.open_dataset(amonth[0])\n",
    "    lats = mydata.init_lat[(mydata.final_section==section)]\n",
    "    depths = depthf(mydata.init_z[(mydata.final_section==section)]-1.)[0]\n",
    "    transports = mydata.init_transp[(mydata.final_section==section)]\n",
    "    sals = mydata.final_salt[(mydata.final_section==section)]\n",
    "    mydata.close()\n",
    "    for f in amonth[1:]:\n",
    "        mydata = xr.open_dataset(f)\n",
    "        lats = np.concatenate((lats, mydata.init_lat[(mydata.final_section==section)]))\n",
    "        depths = np.concatenate((depths, depthf(mydata.init_z[(mydata.final_section==section)]-1.)[0]))\n",
    "        transports = np.concatenate((transports, mydata.init_transp[(mydata.final_section==section)]))\n",
    "        sals = np.concatenate((sals, mydata.final_salt[(mydata.final_section==section)]))\n",
    "        mydata.close()\n",
    "    return lats, depths, transports, sals"
   ]
  },
  {
   "cell_type": "code",
   "execution_count": 15,
   "id": "f4eea84b-7986-45fb-bab2-869dec8e9df9",
   "metadata": {},
   "outputs": [
    {
     "name": "stdout",
     "output_type": "stream",
     "text": [
      "15\n",
      "16\n",
      "17\n",
      "18\n"
     ]
    }
   ],
   "source": [
    "month = {1:'jan', 2: 'feb', 3: 'mar', 4: 'apr', 5: 'may', 6: 'jun', 7: 'jul', \n",
    "         8: 'aug', 9: 'sep', 10: 'oct', 11: 'nov', 12: 'dec'}\n",
    "lons, depths, transports, sals = np.array([]), np.array([]), np.array([]), np.array([])\n",
    "months = 4*np.ones_like(lons)\n",
    "years = 15*np.ones_like(lons)\n",
    "for y in [15, 16, 17, 18]:\n",
    "    print(y)\n",
    "    for m in month:\n",
    "        newlons, newdepths, newtransports, newsals = get_data_backward(month[m], y)\n",
    "        newmonths = m*np.ones_like(newlons)\n",
    "        newyears = y*np.ones_like(newlons)\n",
    "        lons = np.concatenate((lons, newlons))\n",
    "        depths = np.concatenate((depths, newdepths))\n",
    "        transports = np.concatenate((transports, newtransports))\n",
    "        sals = np.concatenate((sals, newsals))\n",
    "        months = np.concatenate((months, newmonths))\n",
    "        years = np.concatenate((years, newyears))\n",
    "        \n",
    "        newlons, newdepths, newtransports, newsals = get_data_backward_gi(month[m], y)\n",
    "        newmonths = m*np.ones_like(newlons)\n",
    "        newyears = y*np.ones_like(newlons)\n",
    "        lons = np.concatenate((lons, newlons))\n",
    "        depths = np.concatenate((depths, newdepths))\n",
    "        transports = np.concatenate((transports, newtransports))\n",
    "        sals = np.concatenate((sals, newsals))\n",
    "        months = np.concatenate((months, newmonths))\n",
    "        years = np.concatenate((years, newyears))"
   ]
  },
  {
   "cell_type": "code",
   "execution_count": 16,
   "id": "58993599-6295-4624-827f-9d5c9acedc9b",
   "metadata": {},
   "outputs": [
    {
     "name": "stdout",
     "output_type": "stream",
     "text": [
      "15\n",
      "16\n",
      "17\n",
      "18\n"
     ]
    }
   ],
   "source": [
    "month = {1:'jan', 2: 'feb', 3: 'mar', 4: 'apr', 5: 'may', 6: 'jun', 7: 'jul', \n",
    "         8: 'aug', 9: 'sep', 10: 'oct', 11: 'nov', 12: 'dec'}\n",
    "olons, odepths, otransports, osals = np.array([]), np.array([]), np.array([]), np.array([])\n",
    "omonths = 4*np.ones_like(olons)\n",
    "oyears = 15*np.ones_like(olons)\n",
    "for y in [15, 16, 17, 18]:\n",
    "    print(y)\n",
    "    for m in month:\n",
    "        newlons, newdepths, newtransports, newsals = get_data_forward(month[m], y)\n",
    "        newmonths = m*np.ones_like(newlons)\n",
    "        newyears = y*np.ones_like(newlons)\n",
    "        olons = np.concatenate((olons, newlons))\n",
    "        odepths = np.concatenate((odepths, newdepths))\n",
    "        otransports = np.concatenate((otransports, newtransports))\n",
    "        osals = np.concatenate((osals, newsals))\n",
    "        omonths = np.concatenate((omonths, newmonths))\n",
    "        oyears = np.concatenate((oyears, newyears))\n",
    "        \n",
    "        newlons, newdepths, newtransports, newsals = get_data_forward_gi(month[m], y)\n",
    "        newmonths = m*np.ones_like(newlons)\n",
    "        newyears = y*np.ones_like(newlons)\n",
    "        olons = np.concatenate((olons, newlons))\n",
    "        odepths = np.concatenate((odepths, newdepths))\n",
    "        otransports = np.concatenate((otransports, newtransports))\n",
    "        osals = np.concatenate((osals, newsals))\n",
    "        omonths = np.concatenate((omonths, newmonths))\n",
    "        oyears = np.concatenate((oyears, newyears))"
   ]
  },
  {
   "cell_type": "code",
   "execution_count": 20,
   "id": "5c927e83-dca2-4fe0-9645-1a85891f8a6b",
   "metadata": {},
   "outputs": [
    {
     "name": "stdout",
     "output_type": "stream",
     "text": [
      "oo 31870.904511511468 26740.307183473386 5130.597328038051\n",
      "11.059173899088456\n",
      "oo 25952.223241768603 19524.70486665357 6427.518375115036\n",
      "2.643509514932847\n",
      "3.4226393475352457\n",
      "0.761932724039425\n",
      "45212.61098342584\n"
     ]
    },
    {
     "data": {
      "image/png": "[encoded data removed]",
      "text/plain": [
       "<Figure size 1080x720 with 1 Axes>"
      ]
     },
     "metadata": {
      "needs_background": "light"
     },
     "output_type": "display_data"
    }
   ],
   "source": [
    "fig, ax = plt.subplots(1, 1, figsize=(15, 10))\n",
    "jmin = 210\n",
    "gridding = 2\n",
    "sisal = 30\n",
    "\n",
    "v2max = 0.01 / otransports[osals <= sisal].sum() / m2lon * 24 * 365 * 4\n",
    "print ('oo', otransports.sum()/ (24 * 365 * 4), otransports[osals < sisal].sum()/ (24 * 365 * 4), \n",
    "       otransports[osals >= sisal].sum()/ (24 * 365 * 4))\n",
    "c, xedge, yedge, im2 = ax.hist2d(olons[osals < sisal], \n",
    "                                odepths[osals < sisal],\n",
    "                                weights=otransports[osals < sisal],\n",
    "                                bins=[np.array(f_lons[jmin:314:gridding]), new_ws], cmap='Greens_alpha', \n",
    "                                vmax=v2max, density=True,)\n",
    "\n",
    "print (c.max()/v2max)\n",
    "\n",
    "vmax = 0.01 / transports[sals < 31.2].sum() / m2lon * 24 * 365 * 4\n",
    "print ('oo', transports.sum()/ (24 * 365 * 4), transports[sals < 31.2].sum()/ (24 * 365 * 4), \n",
    "       transports[sals >= 31.2].sum()/ (24 * 365 * 4))\n",
    "\n",
    "c, xedge, yedge, im = ax.hist2d(lons[sals < 31.2], \n",
    "                                depths[sals < 31.2],\n",
    "                                weights=transports[sals < 31.2],\n",
    "                                bins=[np.array(f_lons[jmin:314:gridding]), new_ws], cmap='Oranges_alpha', \n",
    "                                    vmax=vmax, density=True)\n",
    "print (c.max()/vmax)\n",
    "\n",
    "vmax = 0.01 / transports[sals >= 31.2].sum() / m2lon * 24 * 365 * 4\n",
    "c, xedge, yedge, im = ax.hist2d(lons[sals >= 31.2], \n",
    "                                depths[sals >= 31.2],\n",
    "                                weights=transports[sals >= 31.2],\n",
    "                                bins=[np.array(f_lons[jmin:314:gridding]), new_ws], cmap='Purples_alpha', \n",
    "                                    vmax=vmax, density=True,)\n",
    "\n",
    "print (c.max()/vmax)\n",
    "\n",
    "v2max = 0.01 / otransports[osals > sisal].sum() / m2lon * 24 * 365 * 4\n",
    "c, xedge, yedge, im2 = ax.hist2d(olons[osals >= sisal], \n",
    "                                odepths[osals >= sisal],\n",
    "                                weights=otransports[osals >= sisal],\n",
    "                                bins=[np.array(f_lons[jmin:314:gridding]), new_ws], cmap='Blues_alpha', \n",
    "                                vmax=v2max, density=True)\n",
    "\n",
    "print (c.max()/v2max)\n",
    "\n",
    "\n",
    "\n",
    "ax.invert_yaxis()\n",
    "ax.set_ylim(250, 0)\n",
    "ax.set_xticks([])\n",
    "ax.text(-123.57, 270, \"West\")\n",
    "ax.text(-123.1, 270, \"East\")\n",
    "pc = draw_patches(fmask, jmin, 314, np.array(u_lons), np.array(w_depths[0]))\n",
    "ax.add_collection(pc);\n",
    "print ((mymesh.e1f[0, igrid, jmin:314].sum()).values)\n",
    "fig.savefig('oroberts_final.png')"
   ]
  },
  {
   "cell_type": "code",
   "execution_count": 21,
   "id": "b24a0c90-fa35-4e94-9405-73e3e85a9d69",
   "metadata": {},
   "outputs": [
    {
     "name": "stdout",
     "output_type": "stream",
     "text": [
      "15\n",
      "16\n",
      "17\n",
      "18\n"
     ]
    }
   ],
   "source": [
    "month = {1:'jan', 2: 'feb', 3: 'mar', 4: 'apr', 5: 'may', 6: 'jun', 7: 'jul', \n",
    "         8: 'aug', 9: 'sep', 10: 'oct', 11: 'nov', 12: 'dec'}\n",
    "lons, depths, transports, sals = np.array([]), np.array([]), np.array([]), np.array([])\n",
    "months = 4*np.ones_like(lons)\n",
    "years = 15*np.ones_like(lons)\n",
    "for y in [15, 16, 17, 18]:\n",
    "    print(y)\n",
    "    for m in month:\n",
    "        newlons, newdepths, newtransports, newsals = get_data_backward_vic(month[m], y)\n",
    "        newmonths = m*np.ones_like(newlons)\n",
    "        newyears = y*np.ones_like(newlons)\n",
    "        lons = np.concatenate((lons, newlons))\n",
    "        depths = np.concatenate((depths, newdepths))\n",
    "        transports = np.concatenate((transports, newtransports))\n",
    "        sals = np.concatenate((sals, newsals))\n",
    "        months = np.concatenate((months, newmonths))\n",
    "        years = np.concatenate((years, newyears))\n",
    "        \n",
    "        newlons, newdepths, newtransports, newsals = get_data_backward_gi_vic(month[m], y)\n",
    "        newmonths = m*np.ones_like(newlons)\n",
    "        newyears = y*np.ones_like(newlons)\n",
    "        lons = np.concatenate((lons, newlons))\n",
    "        depths = np.concatenate((depths, newdepths))\n",
    "        transports = np.concatenate((transports, newtransports))\n",
    "        sals = np.concatenate((sals, newsals))\n",
    "        months = np.concatenate((months, newmonths))\n",
    "        years = np.concatenate((years, newyears))"
   ]
  },
  {
   "cell_type": "code",
   "execution_count": 22,
   "id": "8d0b7c36-b344-42fd-9ef6-26602b3a7efb",
   "metadata": {},
   "outputs": [
    {
     "name": "stdout",
     "output_type": "stream",
     "text": [
      "15\n",
      "16\n",
      "17\n",
      "18\n"
     ]
    }
   ],
   "source": [
    "month = {1:'jan', 2: 'feb', 3: 'mar', 4: 'apr', 5: 'may', 6: 'jun', 7: 'jul', \n",
    "         8: 'aug', 9: 'sep', 10: 'oct', 11: 'nov', 12: 'dec'}\n",
    "olons, odepths, otransports, osals = np.array([]), np.array([]), np.array([]), np.array([])\n",
    "omonths = 4*np.ones_like(olons)\n",
    "oyears = 15*np.ones_like(olons)\n",
    "for y in [15, 16, 17, 18]:\n",
    "    print(y)\n",
    "    for m in month:\n",
    "        newlons, newdepths, newtransports, newsals = get_data_forward_vic(month[m], y)\n",
    "        newmonths = m*np.ones_like(newlons)\n",
    "        newyears = y*np.ones_like(newlons)\n",
    "        olons = np.concatenate((olons, newlons))\n",
    "        odepths = np.concatenate((odepths, newdepths))\n",
    "        otransports = np.concatenate((otransports, newtransports))\n",
    "        osals = np.concatenate((osals, newsals))\n",
    "        omonths = np.concatenate((omonths, newmonths))\n",
    "        oyears = np.concatenate((oyears, newyears))\n",
    "        \n",
    "        newlons, newdepths, newtransports, newsals = get_data_forward_gi_vic(month[m], y)\n",
    "        newmonths = m*np.ones_like(newlons)\n",
    "        newyears = y*np.ones_like(newlons)\n",
    "        olons = np.concatenate((olons, newlons))\n",
    "        odepths = np.concatenate((odepths, newdepths))\n",
    "        otransports = np.concatenate((otransports, newtransports))\n",
    "        osals = np.concatenate((osals, newsals))\n",
    "        omonths = np.concatenate((omonths, newmonths))\n",
    "        oyears = np.concatenate((oyears, newyears))"
   ]
  },
  {
   "cell_type": "code",
   "execution_count": 24,
   "id": "cb133f81-94a6-46f5-b2f4-a4a452d5d6a3",
   "metadata": {},
   "outputs": [
    {
     "name": "stdout",
     "output_type": "stream",
     "text": [
      "oo 1112208465.1924486 935953646.5997791 176254818.5926676\n",
      "5.446429832539066\n",
      "oo 906491677.6605598 681792440.4049758 224699237.2555846\n",
      "2.45928290351305\n",
      "0.9165026140189085\n",
      "0.8639584274433374\n",
      "35823.448754892044\n"
     ]
    },
    {
     "data": {
      "image/png": "[encoded data removed]",
      "text/plain": [
       "<Figure size 855.398x432 with 1 Axes>"
      ]
     },
     "metadata": {
      "needs_background": "light"
     },
     "output_type": "display_data"
    }
   ],
   "source": [
    "width_scale = 35.8/45.2\n",
    "fig, ax = plt.subplots(1, 1, figsize=(15*width_scale, 10*150/250))\n",
    "imin, imax = 234-2, 301+2\n",
    "gridding = 2\n",
    "sisal = 30\n",
    "idsal = 31.2\n",
    "\n",
    "vmax = 0.01 / transports[sals < sisal].sum() / m2lat * 24 * 365 * 4\n",
    "print ('oo', transports.sum(), transports[sals < sisal].sum(), transports[sals >= sisal].sum())\n",
    "\n",
    "c, xedge, yedge, im = ax.hist2d(lons[sals < sisal], \n",
    "                                depths[sals < sisal],\n",
    "                                weights=transports[sals < sisal],\n",
    "                                bins=[np.array(f_lats[imin:imax:gridding]), new_ws], cmap='Greens_alpha', \n",
    "                                    vmax=vmax, density=True)\n",
    "print (c.max()/vmax)\n",
    "\n",
    "v2max = 0.01 / otransports[osals <= idsal].sum() / m2lat * 24 * 365 * 4\n",
    "print ('oo', otransports.sum(), otransports[osals < idsal].sum(), otransports[osals >= idsal].sum())\n",
    "c, xedge, yedge, im2 = ax.hist2d(olons[osals < idsal], \n",
    "                                odepths[osals < idsal],\n",
    "                                weights=otransports[osals < idsal],\n",
    "                                bins=[np.array(f_lats[imin:imax:gridding]), new_ws], cmap='Oranges_alpha', \n",
    "                                vmax=v2max, density=True,)\n",
    "print (c.max()/v2max)\n",
    "\n",
    "\n",
    "\n",
    "vmax = 0.01 / transports[sals >= sisal].sum() / m2lat * 24 * 365 * 4\n",
    "c, xedge, yedge, im = ax.hist2d(lons[sals >= sisal], \n",
    "                                depths[sals >= sisal],\n",
    "                                weights=transports[sals >= sisal],\n",
    "                                bins=[np.array(f_lats[imin:imax:gridding]), new_ws], cmap='Blues_alpha', \n",
    "                                    vmax=vmax, density=True,)\n",
    "\n",
    "print (c.max()/vmax)\n",
    "\n",
    "v2max = 0.01 / otransports[osals > idsal].sum() / m2lat * 24 * 365 * 4\n",
    "c, xedge, yedge, im2 = ax.hist2d(olons[osals >= idsal], \n",
    "                                odepths[osals >= idsal],\n",
    "                                weights=otransports[osals >= idsal],\n",
    "                                bins=[np.array(f_lats[imin:imax:gridding]), new_ws], cmap='Purples_alpha', \n",
    "                                vmax=v2max, density=True)\n",
    "\n",
    "print (c.max()/v2max)\n",
    "\n",
    "\n",
    "\n",
    "ax.invert_yaxis()\n",
    "ax.set_ylim(150, 0)\n",
    "ax.invert_xaxis()\n",
    "ax.text(48.37, 170, 'North')\n",
    "ax.text(48.15, 170, 'South')\n",
    "ax.set_xticks([])\n",
    "pc = draw_patches_vic(fmask2, imin, imax, np.array(v_lats), np.array(w_depths[0]))\n",
    "ax.add_collection(pc);\n",
    "\n",
    "print ((mymesh.e2f[0, imin:imax, jgrid].sum()).values)\n",
    "fig.savefig('victoria_final.png')"
   ]
  },
  {
   "cell_type": "code",
   "execution_count": 96,
   "id": "42e84310-627d-4b91-8c61-d6b9af3ee450",
   "metadata": {},
   "outputs": [
    {
     "name": "stdout",
     "output_type": "stream",
     "text": [
      "[26.59728865 26.28684983 25.70331479 24.64073198 22.81323256 19.95870258\n",
      " 16.10792044]\n"
     ]
    }
   ],
   "source": [
    "print (e3t[30:23:-1].values)"
   ]
  },
  {
   "cell_type": "code",
   "execution_count": 99,
   "id": "636f726c-b7ed-43dd-be28-c8361c7abedf",
   "metadata": {},
   "outputs": [
    {
     "data": {
      "text/plain": [
       "array(19.79981227)"
      ]
     },
     "execution_count": 99,
     "metadata": {},
     "output_type": "execute_result"
    }
   ],
   "source": [
    "(e3t[23]+e3t[22]).values"
   ]
  },
  {
   "cell_type": "code",
   "execution_count": 105,
   "id": "27c6634a-847a-4215-a968-1e76ff773aa1",
   "metadata": {},
   "outputs": [
    {
     "data": {
      "text/plain": [
       "array(14.79823468)"
      ]
     },
     "execution_count": 105,
     "metadata": {},
     "output_type": "execute_result"
    }
   ],
   "source": [
    "(e3t[21:15:-1].sum()).values"
   ]
  },
  {
   "cell_type": "code",
   "execution_count": 108,
   "id": "8a6599f1-784e-4116-a80c-857e7c477e2c",
   "metadata": {},
   "outputs": [
    {
     "data": {
      "text/plain": [
       "array(15.09450132)"
      ]
     },
     "execution_count": 108,
     "metadata": {},
     "output_type": "execute_result"
    }
   ],
   "source": [
    "(e3t[:15].sum()).values"
   ]
  },
  {
   "cell_type": "code",
   "execution_count": 109,
   "id": "d8aeeb8b-d115-4cf5-8e61-c70a83af938e",
   "metadata": {},
   "outputs": [],
   "source": [
    "def sumthemup(array):\n",
    "    newarray = np.empty((10))\n",
    "    newarray[0] = array[0:15].sum()\n",
    "    newarray[1] = array[15:21].sum()\n",
    "    newarray[2] = array[22] + array[23]\n",
    "    newarray[3:10] = array[24:31]\n",
    "    return newarray"
   ]
  },
  {
   "cell_type": "code",
   "execution_count": 18,
   "id": "5adbc405-b8d0-4dd2-8103-3da8648470ae",
   "metadata": {},
   "outputs": [
    {
     "data": {
      "text/plain": [
       "array([  0.        ,  15.09625559,  31.10103509,  50.96323669,\n",
       "        67.05207424,  86.96747037, 109.73706598, 134.34593444,\n",
       "       160.02956159, 186.30527815, 212.89655735])"
      ]
     },
     "execution_count": 18,
     "metadata": {},
     "output_type": "execute_result"
    }
   ],
   "source": [
    "new_ws = np.empty((11))\n",
    "new_ws[0] = w_depths[0, 0]\n",
    "new_ws[1] = w_depths[0, 15]\n",
    "new_ws[2] = w_depths[0, 22]\n",
    "new_ws[3:] = w_depths[0, 24:32]\n",
    "new_ws"
   ]
  },
  {
   "cell_type": "code",
   "execution_count": null,
   "id": "5311adfa-a60b-4285-8ec8-f22323894703",
   "metadata": {},
   "outputs": [],
   "source": []
  }
 ],
 "metadata": {
  "kernelspec": {
   "display_name": "py39",
   "language": "python",
   "name": "py39"
  },
  "language_info": {
   "codemirror_mode": {
    "name": "ipython",
    "version": 3
   },
   "file_extension": ".py",
   "mimetype": "text/x-python",
   "name": "python",
   "nbconvert_exporter": "python",
   "pygments_lexer": "ipython3",
   "version": "3.9.2"
  }
 },
 "nbformat": 4,
 "nbformat_minor": 5
}
