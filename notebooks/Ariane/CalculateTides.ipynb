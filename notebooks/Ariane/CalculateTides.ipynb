{
 "cells": [
  {
   "cell_type": "markdown",
   "metadata": {},
   "source": [
    "Move the cells I used to calculate the tides from \"Transport\" so just read them in there"
   ]
  },
  {
   "cell_type": "code",
   "execution_count": 5,
   "metadata": {},
   "outputs": [],
   "source": [
    "import arrow\n",
    "import datetime\n",
    "import matplotlib.pyplot as plt\n",
    "import os\n",
    "import xarray as xr\n",
    "\n",
    "%matplotlib inline"
   ]
  },
  {
   "cell_type": "code",
   "execution_count": 6,
   "metadata": {},
   "outputs": [],
   "source": [
    "basedir = '/results2/SalishSea/nowcast-green.201806/'\n",
    "iY = 344; iX = 276; iZ = 10 "
   ]
  },
  {
   "cell_type": "code",
   "execution_count": null,
   "metadata": {
    "scrolled": false
   },
   "outputs": [
    {
     "name": "stdout",
     "output_type": "stream",
     "text": [
      "0\n"
     ]
    }
   ],
   "source": [
    "year = 2017\n",
    "start = datetime.datetime(year, 1, 1)\n",
    "endtime = datetime.datetime(year, 12, 31)\n",
    "timerange = arrow.Arrow.range('day', start, endtime)\n",
    "for i, day in enumerate(timerange):\n",
    "    dir1 = day.format('DDMMMYY').lower()\n",
    "    ymd = day.format('YYYYMMDD')\n",
    "    filename = 'SalishSea_1h_'+ymd+'_'+ymd+'_grid_U.nc'\n",
    "    fullfile = os.path.join(basedir, dir1, filename)\n",
    "    u_vel = xr.open_dataset(fullfile)\n",
    "    velocity = u_vel['vozocrtx'].isel(y=iY, x=iX).sel(depthu=iZ, method='nearest')\n",
    "    u_vel.close()\n",
    "    if i == 0:\n",
    "        velocity_year = velocity.copy(deep=True)\n",
    "        velocity.close()\n",
    "    else:\n",
    "        velocity_year = xr.concat([velocity_year, velocity], dim='time_counter')\n",
    "        velocity.close()\n",
    "    if i % 10 == 0:\n",
    "        print (i)"
   ]
  },
  {
   "cell_type": "code",
   "execution_count": null,
   "metadata": {},
   "outputs": [],
   "source": [
    "2+2"
   ]
  },
  {
   "cell_type": "code",
   "execution_count": null,
   "metadata": {},
   "outputs": [],
   "source": [
    "velocity_year.plot()"
   ]
  },
  {
   "cell_type": "code",
   "execution_count": null,
   "metadata": {},
   "outputs": [],
   "source": [
    "velocity_year.to_netcdf('velocity_2016.nc')"
   ]
  },
  {
   "cell_type": "code",
   "execution_count": null,
   "metadata": {},
   "outputs": [],
   "source": [
    "u_vel   = xr.open_dataset('https://salishsea.eos.ubc.ca/erddap/griddap/ubcSSg3DuGridFields1hV17-02')\n",
    "iY = 344; iX = 276; iZ = 10 \n",
    "velocity2015 = u_vel.uVelocity.sel(time ='2015', depth=iZ, gridX=iX, gridY=iY, method='nearest')\n",
    "velocity2016 = u_vel.uVelocity.sel(time ='2016', depth=iZ, gridX=iX, gridY=iY, method='nearest')\n",
    "velocity2017 = u_vel.uVelocity.sel(time ='2017', depth=iZ, gridX=iX, gridY=iY, method='nearest')"
   ]
  },
  {
   "cell_type": "code",
   "execution_count": null,
   "metadata": {},
   "outputs": [],
   "source": [
    "# Yes, do run this.  Its gets the data which makes the next cell happy.\n",
    "fig, ax = plt.subplots(1, 1, figsize=(10, 5))\n",
    "velocity2015.plot()\n",
    "velocity2016.plot()\n",
    "velocity2017.plot()"
   ]
  },
  {
   "cell_type": "code",
   "execution_count": null,
   "metadata": {},
   "outputs": [],
   "source": [
    "velocity = xr.concat([velocity2015, velocity2016], dim='time')\n",
    "velsquared = velocity * velocity\n",
    "day_avg_tide_vel = velsquared.resample('1D', dim='time', how='mean')"
   ]
  },
  {
   "cell_type": "code",
   "execution_count": null,
   "metadata": {},
   "outputs": [],
   "source": [
    "day_avg_tide_pd = day_avg_tide_vel.to_dataframe()\n",
    "day_avg_tide_pd = day_avg_tide_pd.drop('depth', 1)\n",
    "day_avg_tide_pd = day_avg_tide_pd.drop('gridY', 1)\n",
    "day_avg_tide_pd = day_avg_tide_pd.drop('gridX', 1)\n",
    "day_avg_tide_pd.to_csv('day_avg_tide_pd.csv')"
   ]
  },
  {
   "cell_type": "code",
   "execution_count": null,
   "metadata": {},
   "outputs": [],
   "source": [
    "low_pass_tide = pd.rolling_mean(day_avg_tide_pd, 4, center=True)\n",
    "low_pass_tide.to_csv('low_pass_tide.csv')\n",
    "low_pass_tide.plot()"
   ]
  }
 ],
 "metadata": {
  "anaconda-cloud": {},
  "kernelspec": {
   "display_name": "Python 3",
   "language": "python",
   "name": "python3"
  },
  "language_info": {
   "codemirror_mode": {
    "name": "ipython",
    "version": 3
   },
   "file_extension": ".py",
   "mimetype": "text/x-python",
   "name": "python",
   "nbconvert_exporter": "python",
   "pygments_lexer": "ipython3",
   "version": "3.7.3"
  },
  "toc": {
   "colors": {
    "hover_highlight": "#DAA520",
    "running_highlight": "#FF0000",
    "selected_highlight": "#FFD700"
   },
   "moveMenuLeft": true,
   "nav_menu": {
    "height": "12px",
    "width": "252px"
   },
   "navigate_menu": true,
   "number_sections": true,
   "sideBar": true,
   "threshold": 4,
   "toc_cell": false,
   "toc_section_display": "block",
   "toc_window_display": false,
   "widenNotebook": false
  }
 },
 "nbformat": 4,
 "nbformat_minor": 2
}
