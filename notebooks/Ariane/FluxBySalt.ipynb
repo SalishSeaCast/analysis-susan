{
 "cells": [
  {
   "cell_type": "code",
   "execution_count": 1,
   "metadata": {
    "collapsed": false
   },
   "outputs": [
    {
     "name": "stderr",
     "output_type": "stream",
     "text": [
      "/home/sallen/anaconda/envs/py36/lib/python3.6/site-packages/cmocean/tools.py:76: MatplotlibDeprecationWarning: The is_string_like function was deprecated in version 2.1.\n",
      "  if not mpl.cbook.is_string_like(rgbin[0]):\n"
     ]
    }
   ],
   "source": [
    "import cmocean.cm as cm\n",
    "import glob\n",
    "import matplotlib.pyplot as plt\n",
    "import matplotlib as mpl\n",
    "from cycler import cycler\n",
    "import numpy as np\n",
    "import xarray as xr\n",
    "\n",
    "%matplotlib inline\n",
    "plt.rcParams['font.size'] = 14"
   ]
  },
  {
   "cell_type": "code",
   "execution_count": 2,
   "metadata": {
    "collapsed": true
   },
   "outputs": [],
   "source": [
    "def get_data_backward_gi(month, section = 2):\n",
    "    amonth = glob.glob('/data/sallen/results/Ariane/InGIslands/*'+month+'15/ariane_positions_quantitative.nc')\n",
    "    mydata = xr.open_dataset(amonth[0])\n",
    "    sals = mydata.final_salt[(mydata.final_section==section)]\n",
    "    transports = mydata.final_transp[(mydata.final_section==section)]\n",
    "    for f in amonth[1:]:\n",
    "        mydata = xr.open_dataset(f)\n",
    "        sals = np.concatenate((sals, mydata.final_salt[(mydata.final_section==section)]))\n",
    "        transports = np.concatenate((transports, mydata.final_transp[(mydata.final_section==section)]))\n",
    "    return sals, transports"
   ]
  },
  {
   "cell_type": "code",
   "execution_count": 3,
   "metadata": {
    "collapsed": true
   },
   "outputs": [],
   "source": [
    "def get_data_forward_gi(month, section = 2):\n",
    "    amonth = glob.glob('/data/sallen/results/Ariane/SouthGIslands//*'+month+'15/ariane_positions_quantitative.nc')\n",
    "    mydata = xr.open_dataset(amonth[0])\n",
    "    sals = mydata.init_salt[(mydata.final_section==section)]\n",
    "    transports = mydata.init_transp[(mydata.final_section==section)]\n",
    "    for f in amonth[1:]:\n",
    "        mydata = xr.open_dataset(f)\n",
    "        sals = np.concatenate((sals, mydata.init_salt[(mydata.final_section==section)]))\n",
    "        transports = np.concatenate((transports, mydata.init_transp[(mydata.final_section==section)]))\n",
    "    return sals, transports"
   ]
  },
  {
   "cell_type": "code",
   "execution_count": 4,
   "metadata": {
    "collapsed": true
   },
   "outputs": [],
   "source": [
    "def get_data_forward(month, section=2):\n",
    "    amonth = glob.glob('/data/sallen/results/Ariane/FullNorth/*'+month+'15/ariane_positions_quantitative.nc')\n",
    "    mydata = xr.open_dataset(amonth[0])\n",
    "    sals = mydata.init_salt[(mydata.final_section==section)]\n",
    "    transports = mydata.init_transp[(mydata.final_section==section)]\n",
    "    for f in amonth[1:]:\n",
    "        mydata = xr.open_dataset(f)\n",
    "        sals = np.concatenate((sals, mydata.init_salt[(mydata.final_section==section)]))\n",
    "        transports = np.concatenate((transports, mydata.init_transp[(mydata.final_section==section)]))\n",
    "    return sals, transports"
   ]
  },
  {
   "cell_type": "code",
   "execution_count": 5,
   "metadata": {
    "collapsed": true
   },
   "outputs": [],
   "source": [
    "def get_data_backward(month, section=2):\n",
    "    amonth = glob.glob('/data/sallen/results/Ariane/BackNorth/*'+month+'15/ariane_positions_quantitative.nc')\n",
    "    mydata = xr.open_dataset(amonth[0])\n",
    "    sals = mydata.init_salt[(mydata.final_section==section)]\n",
    "    transports = mydata.init_transp[(mydata.final_section==section)]\n",
    "    for f in amonth[1:]:\n",
    "        mydata = xr.open_dataset(f)\n",
    "        sals = np.concatenate((sals, mydata.init_salt[(mydata.final_section==section)]))\n",
    "        transports = np.concatenate((transports, mydata.init_transp[(mydata.final_section==section)]))\n",
    "    return sals, transports"
   ]
  },
  {
   "cell_type": "code",
   "execution_count": 6,
   "metadata": {
    "collapsed": false
   },
   "outputs": [
    {
     "name": "stdout",
     "output_type": "stream",
     "text": [
      "1\n",
      "2\n",
      "3\n",
      "5\n",
      "6\n",
      "7\n",
      "8\n",
      "9\n",
      "10\n",
      "11\n",
      "12\n"
     ]
    }
   ],
   "source": [
    "month = {1:'jan', 2: 'feb', 3: 'mar', 5: 'may', 6: 'jun', 7: 'jul', \n",
    "         8: 'aug', 9: 'sep', 10: 'oct', 11: 'nov', 12: 'dec'}\n",
    "sals, transports = get_data_backward('apr')\n",
    "months = 4*np.ones_like(sals)\n",
    "for m in month:\n",
    "    print(m)\n",
    "    newsals, newtransports = get_data_backward(month[m])\n",
    "    newmonths = m*np.ones_like(newsals)\n",
    "    sals = np.concatenate((sals, newsals))\n",
    "    transports = np.concatenate((transports, newtransports))\n",
    "    months = np.concatenate((months, newmonths))"
   ]
  },
  {
   "cell_type": "code",
   "execution_count": 7,
   "metadata": {
    "collapsed": false
   },
   "outputs": [
    {
     "name": "stdout",
     "output_type": "stream",
     "text": [
      "1\n",
      "2\n",
      "3\n",
      "5\n",
      "6\n",
      "7\n",
      "8\n",
      "9\n",
      "10\n",
      "11\n",
      "12\n"
     ]
    }
   ],
   "source": [
    "fsals, ftransports = get_data_forward('apr')\n",
    "fmonths = 4*np.ones_like(fsals)\n",
    "for m in month:\n",
    "    print(m)\n",
    "    newsals, newtransports = get_data_forward(month[m])\n",
    "    newmonths = m*np.ones_like(newsals)\n",
    "    fsals = np.concatenate((fsals, newsals))\n",
    "    ftransports = np.concatenate((ftransports, newtransports))\n",
    "    fmonths = np.concatenate((fmonths, newmonths))"
   ]
  },
  {
   "cell_type": "code",
   "execution_count": 8,
   "metadata": {
    "collapsed": false
   },
   "outputs": [
    {
     "name": "stdout",
     "output_type": "stream",
     "text": [
      "1\n",
      "2\n",
      "3\n",
      "5\n",
      "6\n",
      "7\n",
      "8\n",
      "9\n",
      "10\n",
      "11\n",
      "12\n"
     ]
    }
   ],
   "source": [
    "gsals, gtransports = get_data_backward_gi('apr')\n",
    "gmonths = 4*np.ones_like(gsals)\n",
    "for m in month:\n",
    "    print(m)\n",
    "    newsals, newtransports = get_data_backward_gi(month[m])\n",
    "    newmonths = m*np.ones_like(newsals)\n",
    "    gsals = np.concatenate((gsals, newsals))\n",
    "    gtransports = np.concatenate((gtransports, newtransports))\n",
    "    gmonths = np.concatenate((gmonths, newmonths))"
   ]
  },
  {
   "cell_type": "code",
   "execution_count": 9,
   "metadata": {
    "collapsed": false
   },
   "outputs": [
    {
     "name": "stdout",
     "output_type": "stream",
     "text": [
      "1\n",
      "2\n",
      "3\n",
      "5\n",
      "6\n",
      "7\n",
      "8\n",
      "9\n",
      "10\n",
      "11\n",
      "12\n"
     ]
    }
   ],
   "source": [
    "gfsals, gftransports = get_data_forward_gi('apr')\n",
    "gfmonths = 4*np.ones_like(gfsals)\n",
    "for m in month:\n",
    "    print(m)\n",
    "    newsals, newtransports = get_data_forward_gi(month[m])\n",
    "    newmonths = m*np.ones_like(newsals)\n",
    "    gfsals = np.concatenate((gfsals, newsals))\n",
    "    gftransports = np.concatenate((gftransports, newtransports))\n",
    "    gfmonths = np.concatenate((gfmonths, newmonths))"
   ]
  },
  {
   "cell_type": "code",
   "execution_count": 10,
   "metadata": {
    "collapsed": false
   },
   "outputs": [
    {
     "data": {
      "image/png": "[encoded data removed]",
      "text/plain": [
       "<Figure size 1080x720 with 3 Axes>"
      ]
     },
     "metadata": {},
     "output_type": "display_data"
    }
   ],
   "source": [
    "fig, axs = plt.subplots(1, 2, figsize=(15, 10))\n",
    "salt_bins = np.arange(20, 33, 0.5)\n",
    "#salt_bins = np.arange(29.5-12*1.5, 31+4*1.5, 1.5)\n",
    "month_bins = np.arange(0.5, 13, 1)\n",
    "c, xedge, yedge, im = axs[0].hist2d(np.concatenate((months, gmonths)), \n",
    "                                np.concatenate((sals, gsals)),\n",
    "                                weights=np.concatenate((transports, gtransports))/24/30.5,\n",
    "                                bins=[month_bins, salt_bins], cmap=cm.matter, vmax=18000)\n",
    "c1 = c.copy()\n",
    "#cb1 = fig.colorbar(im, ax=axs[0]) \n",
    "#cb1.set_label('m s$^{-3}$', labelpad=2)\n",
    "c, xedge, yedge, im = axs[1].hist2d(np.concatenate((fmonths, gfmonths)), \n",
    "                                np.concatenate((fsals, gfsals)),\n",
    "                                weights=np.concatenate((ftransports, gftransports))/24/30.5,\n",
    "                                bins=[month_bins, salt_bins], cmap=cm.matter, vmax=18000)\n",
    "cb1 = fig.colorbar(im, ax=axs[1]) \n",
    "cb1.set_label('m s$^{-3}$', labelpad=2)\n",
    "for ax in axs:\n",
    "    ax.invert_yaxis()\n",
    "    ax.set_xlabel(\"Month in 2015\");\n",
    "axs[0].set_ylabel('Salinity (g kg$^{-1}$)')\n",
    "axs[0].set_title('Flux into Strait of Georgia')\n",
    "axs[1].set_title('Flux out of Strait of Georgia');"
   ]
  },
  {
   "cell_type": "code",
   "execution_count": 28,
   "metadata": {
    "collapsed": false
   },
   "outputs": [
    {
     "data": {
      "image/png": "[encoded data removed]",
      "text/plain": [
       "<Figure size 864x360 with 2 Axes>"
      ]
     },
     "metadata": {},
     "output_type": "display_data"
    }
   ],
   "source": [
    "mycolors = ['#e377c2', '#9467bd', '#17becf', '#1f77b4']\n",
    "custom_lines = [mpl.lines.Line2D([0], [0], color=mycolors[0]),\n",
    "                mpl.lines.Line2D([0], [0], color=mycolors[1]),\n",
    "                mpl.lines.Line2D([0], [0], color=mycolors[2]),\n",
    "                mpl.lines.Line2D([0], [0], color=mycolors[3])]\n",
    "mpl.rcParams['axes.prop_cycle'] = cycler(color=mycolors)\n",
    "fig, axs = plt.subplots(1, 2, figsize=(12, 5))\n",
    "axs[0].plot(range(1, 13), np.sum(c1[:, 13:], axis=1), 'o-', color=mycolors[3])\n",
    "axs[1].plot(range(1, 13), np.sum(c[:, 13:], axis=1), 'o-', color=mycolors[3])\n",
    "axs[0].plot(range(1, 13), c1[:, 12], 'o-', color=mycolors[2])\n",
    "axs[1].plot(range(1, 13), c[:, 12], 'o-', color=mycolors[2])\n",
    "axs[0].plot(range(1, 13), c1[:, 11]+c1[:, 10]+c1[:, 9], 'o-', color=mycolors[1])\n",
    "axs[1].plot(range(1, 13), c[:, 11]+c[:, 10]+c[:, 9], 'o-', color=mycolors[1])\n",
    "axs[0].plot(range(1, 13), np.sum(c1[:, :9], axis=1), 'o-', color=mycolors[0])\n",
    "axs[1].plot(range(1, 13), np.sum(c[:, :9], axis=1), 'o-', color=mycolors[0])\n",
    "axs[1].legend(custom_lines, ['< 25 g/kg', '25-29.5 g/kg', '29.5-31 g/kg', '> 31 g/kg'])\n",
    "for ax in axs:\n",
    "    ax.set_ylim((0, 50e3))\n",
    "    ax.set_xlabel('Month in 2015')\n",
    "# doesn't make sense, check ranges."
   ]
  },
  {
   "cell_type": "code",
   "execution_count": 12,
   "metadata": {
    "collapsed": false
   },
   "outputs": [
    {
     "name": "stdout",
     "output_type": "stream",
     "text": [
      "-1791.1927026\n",
      "26912.2423708\n",
      "1.44675047835e+12\n",
      "25917.4568568\n",
      "21765.1104061\n",
      "2506.72476106\n",
      "7879.58575064\n",
      "-1220.51453892\n"
     ]
    }
   ],
   "source": [
    "print ((np.sum(c1, axis=1) - np.sum(c, axis=1)).mean())\n",
    "print (np.sum(c1, axis=1).mean())\n",
    "print (np.sum(c1, axis=1).mean()*20*1020*30.5*86400/1000.)\n",
    "print ((transports.sum())/(24*365))\n",
    "print ((ftransports.sum())/(24*365))\n",
    "print ((gtransports.sum())/(24*365))\n",
    "print ((gftransports.sum())/(24*365))\n",
    "print ((transports.sum()+gtransports.sum() - ftransports.sum() - gftransports.sum())/(24.*365))"
   ]
  },
  {
   "cell_type": "code",
   "execution_count": 13,
   "metadata": {
    "collapsed": false
   },
   "outputs": [
    {
     "name": "stdout",
     "output_type": "stream",
     "text": [
      "(12,)\n"
     ]
    }
   ],
   "source": [
    "saltflux=np.zeros((12))\n",
    "fsaltflux = np.zeros_like(saltflux)\n",
    "gsaltflux = np.zeros_like(saltflux)\n",
    "gfsaltflux = np.zeros_like(saltflux)\n",
    "\n",
    "print(saltflux.shape)\n",
    "for i in range(1, 13):\n",
    "    saltflux[i-1] = (sals[months==i]*transports[months==i]).sum()*1020/1e6/24/30.5\n",
    "    fsaltflux[i-1] = (fsals[fmonths==i]*ftransports[fmonths==i]).sum()*1020/1e6/24/30.5\n",
    "    gsaltflux[i-1] = (gsals[gmonths==i]*gtransports[gmonths==i]).sum()*1020/1e6/24/30.5\n",
    "    gfsaltflux[i-1] = (gfsals[gfmonths==i]*gftransports[gfmonths==i]).sum()*1020/1e6/24/30.5"
   ]
  },
  {
   "cell_type": "code",
   "execution_count": 14,
   "metadata": {
    "collapsed": false
   },
   "outputs": [
    {
     "data": {
      "image/png": "[encoded data removed]",
      "text/plain": [
       "<Figure size 432x288 with 1 Axes>"
      ]
     },
     "metadata": {},
     "output_type": "display_data"
    }
   ],
   "source": [
    "fig, ax = plt.subplots(1, 1)\n",
    "ax.plot(range(1, 13), saltflux+gsaltflux, label='Salt Flux In')\n",
    "ax.plot(range(1, 13), fsaltflux+gfsaltflux, label='Salt Flux Out')\n",
    "#plt.plot(range(1,13), fsaltflux)\n",
    "#plt.plot(range(1, 13), gfsaltflux)\n",
    "ax.legend(loc='upper left')\n",
    "ax.set_ylabel('Salt Flux (Mg s$^{-1}$)')\n",
    "ax.set_xlabel('Month in 2015');"
   ]
  },
  {
   "cell_type": "code",
   "execution_count": 15,
   "metadata": {
    "collapsed": false
   },
   "outputs": [
    {
     "name": "stdout",
     "output_type": "stream",
     "text": [
      "10704.8295105 10030.7260964 2720.6983505\n"
     ]
    }
   ],
   "source": [
    "print (saltflux.sum()+gsaltflux.sum(), fsaltflux.sum()+gfsaltflux.sum(), gfsaltflux.sum())"
   ]
  },
  {
   "cell_type": "code",
   "execution_count": 16,
   "metadata": {
    "collapsed": false
   },
   "outputs": [
    {
     "data": {
      "text/plain": [
       "0.0110376"
      ]
     },
     "execution_count": 16,
     "metadata": {},
     "output_type": "execute_result"
    }
   ],
   "source": [
    "fraserriver = 3500 * 86400 * 365\n",
    "fraserriver/1e13"
   ]
  },
  {
   "cell_type": "code",
   "execution_count": 17,
   "metadata": {
    "collapsed": false
   },
   "outputs": [
    {
     "name": "stdout",
     "output_type": "stream",
     "text": [
      "1\n",
      "2\n",
      "3\n",
      "5\n",
      "6\n",
      "7\n",
      "8\n",
      "9\n",
      "10\n",
      "11\n",
      "12\n"
     ]
    }
   ],
   "source": [
    "section=5\n",
    "ssals, stransports = get_data_forward('apr', section=section)\n",
    "smonths = 4*np.ones_like(ssals)\n",
    "for m in month:\n",
    "    print(m)\n",
    "    newsals, newtransports = get_data_forward(month[m], section=section)\n",
    "    newmonths = m*np.ones_like(newsals)\n",
    "    stransports = np.concatenate((stransports, newtransports))\n",
    "    smonths = np.concatenate((smonths, newmonths))"
   ]
  },
  {
   "cell_type": "code",
   "execution_count": 18,
   "metadata": {
    "collapsed": false
   },
   "outputs": [
    {
     "name": "stdout",
     "output_type": "stream",
     "text": [
      "452.693001596\n"
     ]
    }
   ],
   "source": [
    "print (stransports.sum()/(24*365))"
   ]
  },
  {
   "cell_type": "code",
   "execution_count": 19,
   "metadata": {
    "collapsed": false
   },
   "outputs": [
    {
     "name": "stdout",
     "output_type": "stream",
     "text": [
      "1\n",
      "2\n",
      "3\n",
      "5\n",
      "6\n",
      "7\n",
      "8\n",
      "9\n",
      "10\n",
      "11\n",
      "12\n",
      "177.519283205\n"
     ]
    }
   ],
   "source": [
    "section=5\n",
    "ssals, stransports = get_data_backward('apr', section=section)\n",
    "smonths = 4*np.ones_like(ssals)\n",
    "for m in month:\n",
    "    print(m)\n",
    "    newsals, newtransports = get_data_backward(month[m], section=section)\n",
    "    newmonths = m*np.ones_like(newsals)\n",
    "    stransports = np.concatenate((stransports, newtransports))\n",
    "    smonths = np.concatenate((smonths, newmonths))\n",
    "print (stransports.sum()/(24*365))"
   ]
  },
  {
   "cell_type": "code",
   "execution_count": 20,
   "metadata": {
    "collapsed": false
   },
   "outputs": [
    {
     "name": "stdout",
     "output_type": "stream",
     "text": [
      "1\n",
      "2\n",
      "3\n",
      "5\n",
      "6\n",
      "7\n",
      "8\n",
      "9\n",
      "10\n",
      "11\n",
      "12\n"
     ]
    }
   ],
   "source": [
    "section=5\n",
    "ssals, stransports = get_data_forward_gi('apr', section=section)\n",
    "smonths = 4*np.ones_like(ssals)\n",
    "for m in month:\n",
    "    print(m)\n",
    "    newsals, newtransports = get_data_forward_gi(month[m], section=section)\n",
    "    newmonths = m*np.ones_like(newsals)\n",
    "    stransports = np.concatenate((stransports, newtransports))\n",
    "    smonths = np.concatenate((smonths, newmonths))"
   ]
  },
  {
   "cell_type": "code",
   "execution_count": 21,
   "metadata": {
    "collapsed": false
   },
   "outputs": [
    {
     "name": "stdout",
     "output_type": "stream",
     "text": [
      "26.0410419916\n"
     ]
    }
   ],
   "source": [
    "print (stransports.sum()/(24*365))"
   ]
  },
  {
   "cell_type": "code",
   "execution_count": 22,
   "metadata": {
    "collapsed": false
   },
   "outputs": [
    {
     "name": "stdout",
     "output_type": "stream",
     "text": [
      "1\n",
      "2\n",
      "3\n",
      "5\n",
      "6\n",
      "7\n",
      "8\n",
      "9\n",
      "10\n",
      "11\n",
      "12\n",
      "13.8794466385\n"
     ]
    }
   ],
   "source": [
    "section=5\n",
    "ssals, stransports = get_data_backward_gi('apr', section=section)\n",
    "smonths = 4*np.ones_like(ssals)\n",
    "for m in month:\n",
    "    print(m)\n",
    "    newsals, newtransports = get_data_backward_gi(month[m], section=section)\n",
    "    newmonths = m*np.ones_like(newsals)\n",
    "    stransports = np.concatenate((stransports, newtransports))\n",
    "    smonths = np.concatenate((smonths, newmonths))\n",
    "print (stransports.sum()/(24*365))"
   ]
  },
  {
   "cell_type": "code",
   "execution_count": 56,
   "metadata": {
    "collapsed": false
   },
   "outputs": [
    {
     "name": "stdout",
     "output_type": "stream",
     "text": [
      "33.099999999999994\n",
      "30.8\n"
     ]
    }
   ],
   "source": [
    "print(21.1+7.7+4+0.3)\n",
    "print(25.5+2.6+2.5+0.2)"
   ]
  },
  {
   "cell_type": "code",
   "execution_count": null,
   "metadata": {
    "collapsed": true
   },
   "outputs": [],
   "source": []
  }
 ],
 "metadata": {
  "kernelspec": {
   "display_name": "Python 3",
   "language": "python",
   "name": "python3"
  },
  "language_info": {
   "codemirror_mode": {
    "name": "ipython",
    "version": 3
   },
   "file_extension": ".py",
   "mimetype": "text/x-python",
   "name": "python",
   "nbconvert_exporter": "python",
   "pygments_lexer": "ipython3",
   "version": "3.6.5"
  }
 },
 "nbformat": 4,
 "nbformat_minor": 2
}
