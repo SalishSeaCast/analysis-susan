{
 "cells": [
  {
   "cell_type": "markdown",
   "metadata": {},
   "source": [
    "For the reviewer, looking at the tides beyond the one point"
   ]
  },
  {
   "cell_type": "code",
   "execution_count": 1,
   "metadata": {},
   "outputs": [],
   "source": [
    "import arrow\n",
    "import datetime\n",
    "import matplotlib.pyplot as plt\n",
    "import numpy as np\n",
    "import os\n",
    "import pandas as pd\n",
    "import statsmodels.api as sm\n",
    "import xarray as xr\n",
    "\n",
    "%matplotlib inline"
   ]
  },
  {
   "cell_type": "code",
   "execution_count": 2,
   "metadata": {},
   "outputs": [],
   "source": [
    "basedir = '/results2/SalishSea/nowcast-green.202111/'\n",
    "iY = 344; iX = 276; iZ = 10 "
   ]
  },
  {
   "cell_type": "code",
   "execution_count": 3,
   "metadata": {},
   "outputs": [
    {
     "name": "stdout",
     "output_type": "stream",
     "text": [
      "0\n",
      "10\n",
      "20\n",
      "30\n",
      "40\n",
      "50\n",
      "60\n",
      "70\n",
      "80\n",
      "90\n",
      "100\n",
      "110\n",
      "120\n",
      "130\n",
      "140\n",
      "150\n",
      "160\n",
      "170\n",
      "180\n",
      "190\n",
      "200\n",
      "210\n",
      "220\n",
      "230\n",
      "240\n",
      "250\n",
      "260\n",
      "270\n",
      "280\n",
      "290\n",
      "300\n",
      "310\n",
      "320\n",
      "330\n",
      "340\n",
      "350\n",
      "360\n"
     ]
    }
   ],
   "source": [
    "year = 2015\n",
    "start = datetime.datetime(year, 1, 1)\n",
    "endtime = datetime.datetime(year, 12, 31)\n",
    "timerange = arrow.Arrow.range('day', start, endtime)\n",
    "for i, day in enumerate(timerange):\n",
    "    dir1 = day.format('DDMMMYY').lower()\n",
    "    ymd = day.format('YYYYMMDD')\n",
    "    filename = 'SalishSea_1h_'+ymd+'_'+ymd+'_grid_U.nc'\n",
    "    fullfile = os.path.join(basedir, dir1, filename)\n",
    "    u_vel = xr.open_dataset(fullfile)\n",
    "    velocity = u_vel['vozocrtx'].isel(y=iY, x=iX).sel(depthu=iZ, method='nearest')\n",
    "    u_vel.close()\n",
    "    if i == 0:\n",
    "        velocity_year = velocity.copy(deep=True)\n",
    "        velocity.close()\n",
    "    else:\n",
    "        velocity_year = xr.concat([velocity_year, velocity], dim='time_counter')\n",
    "        velocity.close()\n",
    "    if i % 10 == 0:\n",
    "        print (i)"
   ]
  },
  {
   "cell_type": "markdown",
   "metadata": {},
   "source": [
    "### Total velocity, v component too."
   ]
  },
  {
   "cell_type": "code",
   "execution_count": 4,
   "metadata": {},
   "outputs": [
    {
     "name": "stdout",
     "output_type": "stream",
     "text": [
      "0\n",
      "10\n",
      "20\n",
      "30\n",
      "40\n",
      "50\n",
      "60\n",
      "70\n",
      "80\n",
      "90\n",
      "100\n",
      "110\n",
      "120\n",
      "130\n",
      "140\n",
      "150\n",
      "160\n",
      "170\n",
      "180\n",
      "190\n",
      "200\n",
      "210\n",
      "220\n",
      "230\n",
      "240\n",
      "250\n",
      "260\n",
      "270\n",
      "280\n",
      "290\n",
      "300\n",
      "310\n",
      "320\n",
      "330\n",
      "340\n",
      "350\n",
      "360\n"
     ]
    }
   ],
   "source": [
    "year = 2015\n",
    "start = datetime.datetime(year, 1, 1)\n",
    "endtime = datetime.datetime(year, 12, 31)\n",
    "timerange = arrow.Arrow.range('day', start, endtime)\n",
    "for i, day in enumerate(timerange):\n",
    "    dir1 = day.format('DDMMMYY').lower()\n",
    "    ymd = day.format('YYYYMMDD')\n",
    "    filename = 'SalishSea_1h_'+ymd+'_'+ymd+'_grid_U.nc'\n",
    "    fullfile = os.path.join(basedir, dir1, filename)\n",
    "    u_vel = xr.open_dataset(fullfile)\n",
    "    velocity = u_vel['vozocrtx'].isel(y=iY, x=iX).sel(depthu=iZ, method='nearest')\n",
    "    u_vel.close()\n",
    "    filename = 'SalishSea_1h_'+ymd+'_'+ymd+'_grid_V.nc'\n",
    "    fullfile = os.path.join(basedir, dir1, filename)\n",
    "    v_vel = xr.open_dataset(fullfile)\n",
    "    v_velocity = v_vel['vomecrty'].isel(y=[iY-1, iY], x=iX).sel(depthv=iZ, method='nearest').mean(axis=1)\n",
    "    vv = velocity**2 + v_velocity**2\n",
    "    if i == 0:\n",
    "        velocity_year = velocity.copy(deep=True)\n",
    "        vv_year = vv.copy(deep=True)\n",
    "        velocity.close()\n",
    "        v_velocity.close()\n",
    "        vv.close()\n",
    "    else:\n",
    "        velocity_year = xr.concat([velocity_year, velocity], dim='time_counter')\n",
    "        vv_year = xr.concat([vv_year, vv], dim='time_counter')\n",
    "        velocity.close()\n",
    "        v_velocity.close()\n",
    "        vv.close()\n",
    "    if i % 10 == 0:\n",
    "        print (i)"
   ]
  },
  {
   "cell_type": "code",
   "execution_count": 5,
   "metadata": {},
   "outputs": [
    {
     "data": {
      "image/png": "[encoded data removed]",
      "text/plain": [
       "<Figure size 432x288 with 1 Axes>"
      ]
     },
     "metadata": {
      "needs_background": "light"
     },
     "output_type": "display_data"
    }
   ],
   "source": [
    "plt.hist2d(velocity_year**2, vv_year, bins=20);"
   ]
  },
  {
   "cell_type": "code",
   "execution_count": 6,
   "metadata": {},
   "outputs": [
    {
     "name": "stdout",
     "output_type": "stream",
     "text": [
      "[[1.         0.99388073]\n",
      " [0.99388073 1.        ]]\n"
     ]
    },
    {
     "data": {
      "text/html": [
       "<table class=\"simpletable\">\n",
       "<caption>OLS Regression Results</caption>\n",
       "<tr>\n",
       "  <th>Dep. Variable:</th>            <td>y</td>        <th>  R-squared (uncentered):</th>       <td>   0.991</td> \n",
       "</tr>\n",
       "<tr>\n",
       "  <th>Model:</th>                   <td>OLS</td>       <th>  Adj. R-squared (uncentered):</th>  <td>   0.991</td> \n",
       "</tr>\n",
       "<tr>\n",
       "  <th>Method:</th>             <td>Least Squares</td>  <th>  F-statistic:       </th>           <td>1.019e+06</td>\n",
       "</tr>\n",
       "<tr>\n",
       "  <th>Date:</th>             <td>Wed, 26 Jun 2024</td> <th>  Prob (F-statistic):</th>            <td>  0.00</td>  \n",
       "</tr>\n",
       "<tr>\n",
       "  <th>Time:</th>                 <td>16:15:24</td>     <th>  Log-Likelihood:    </th>           <td>  9533.0</td> \n",
       "</tr>\n",
       "<tr>\n",
       "  <th>No. Observations:</th>      <td>  8760</td>      <th>  AIC:               </th>          <td>-1.906e+04</td>\n",
       "</tr>\n",
       "<tr>\n",
       "  <th>Df Residuals:</th>          <td>  8759</td>      <th>  BIC:               </th>          <td>-1.906e+04</td>\n",
       "</tr>\n",
       "<tr>\n",
       "  <th>Df Model:</th>              <td>     1</td>      <th>                     </th>               <td> </td>    \n",
       "</tr>\n",
       "<tr>\n",
       "  <th>Covariance Type:</th>      <td>nonrobust</td>    <th>                     </th>               <td> </td>    \n",
       "</tr>\n",
       "</table>\n",
       "<table class=\"simpletable\">\n",
       "<tr>\n",
       "   <td></td>     <th>coef</th>     <th>std err</th>      <th>t</th>      <th>P>|t|</th>  <th>[0.025</th>    <th>0.975]</th>  \n",
       "</tr>\n",
       "<tr>\n",
       "  <th>x1</th> <td>    1.0527</td> <td>    0.001</td> <td> 1009.298</td> <td> 0.000</td> <td>    1.051</td> <td>    1.055</td>\n",
       "</tr>\n",
       "</table>\n",
       "<table class=\"simpletable\">\n",
       "<tr>\n",
       "  <th>Omnibus:</th>       <td>4390.688</td> <th>  Durbin-Watson:     </th> <td>   1.112</td> \n",
       "</tr>\n",
       "<tr>\n",
       "  <th>Prob(Omnibus):</th>  <td> 0.000</td>  <th>  Jarque-Bera (JB):  </th> <td>46320.621</td>\n",
       "</tr>\n",
       "<tr>\n",
       "  <th>Skew:</th>           <td> 2.163</td>  <th>  Prob(JB):          </th> <td>    0.00</td> \n",
       "</tr>\n",
       "<tr>\n",
       "  <th>Kurtosis:</th>       <td>13.402</td>  <th>  Cond. No.          </th> <td>    1.00</td> \n",
       "</tr>\n",
       "</table><br/><br/>Notes:<br/>[1] R² is computed without centering (uncentered) since the model does not contain a constant.<br/>[2] Standard Errors assume that the covariance matrix of the errors is correctly specified."
      ],
      "text/plain": [
       "<class 'statsmodels.iolib.summary.Summary'>\n",
       "\"\"\"\n",
       "                                 OLS Regression Results                                \n",
       "=======================================================================================\n",
       "Dep. Variable:                      y   R-squared (uncentered):                   0.991\n",
       "Model:                            OLS   Adj. R-squared (uncentered):              0.991\n",
       "Method:                 Least Squares   F-statistic:                          1.019e+06\n",
       "Date:                Wed, 26 Jun 2024   Prob (F-statistic):                        0.00\n",
       "Time:                        16:15:24   Log-Likelihood:                          9533.0\n",
       "No. Observations:                8760   AIC:                                 -1.906e+04\n",
       "Df Residuals:                    8759   BIC:                                 -1.906e+04\n",
       "Df Model:                           1                                                  \n",
       "Covariance Type:            nonrobust                                                  \n",
       "==============================================================================\n",
       "                 coef    std err          t      P>|t|      [0.025      0.975]\n",
       "------------------------------------------------------------------------------\n",
       "x1             1.0527      0.001   1009.298      0.000       1.051       1.055\n",
       "==============================================================================\n",
       "Omnibus:                     4390.688   Durbin-Watson:                   1.112\n",
       "Prob(Omnibus):                  0.000   Jarque-Bera (JB):            46320.621\n",
       "Skew:                           2.163   Prob(JB):                         0.00\n",
       "Kurtosis:                      13.402   Cond. No.                         1.00\n",
       "==============================================================================\n",
       "\n",
       "Notes:\n",
       "[1] R² is computed without centering (uncentered) since the model does not contain a constant.\n",
       "[2] Standard Errors assume that the covariance matrix of the errors is correctly specified.\n",
       "\"\"\""
      ]
     },
     "execution_count": 6,
     "metadata": {},
     "output_type": "execute_result"
    }
   ],
   "source": [
    "y = vv_year.values\n",
    "x = velocity_year.values**2\n",
    "\n",
    "nansInArray = (np.isnan(y) | np.isnan(x))\n",
    "print (np.corrcoef(x[~nansInArray], y[~nansInArray]))\n",
    "\n",
    "model11 = sm.OLS(y, x, missing='drop').fit()\n",
    "model11.summary()"
   ]
  },
  {
   "cell_type": "markdown",
   "metadata": {},
   "source": [
    "### Answer\n",
    "\n",
    "Highly correlated (R2 = 0.991) with a coefficient of 1.053pm0.002"
   ]
  },
  {
   "cell_type": "markdown",
   "metadata": {},
   "source": [
    "### Max each day instead of the average of the square"
   ]
  },
  {
   "cell_type": "code",
   "execution_count": 10,
   "metadata": {},
   "outputs": [
    {
     "name": "stdout",
     "output_type": "stream",
     "text": [
      "0\n",
      "10\n",
      "20\n",
      "30\n",
      "40\n",
      "50\n",
      "60\n",
      "70\n",
      "80\n",
      "90\n",
      "100\n",
      "110\n",
      "120\n",
      "150\n",
      "160\n",
      "170\n",
      "180\n",
      "190\n",
      "200\n",
      "210\n",
      "220\n",
      "230\n",
      "240\n",
      "250\n",
      "260\n",
      "270\n",
      "280\n",
      "290\n",
      "300\n",
      "310\n",
      "320\n",
      "330\n",
      "340\n",
      "350\n",
      "360\n"
     ]
    }
   ],
   "source": [
    "year = 2015\n",
    "start = datetime.datetime(year, 1, 1)\n",
    "endtime = datetime.datetime(year, 12, 31)\n",
    "timerange = arrow.Arrow.range('day', start, endtime)\n",
    "for i, day in enumerate(timerange):\n",
    "    dir1 = day.format('DDMMMYY').lower()\n",
    "    ymd = day.format('YYYYMMDD')\n",
    "    filename = 'SalishSea_1h_'+ymd+'_'+ymd+'_grid_U.nc'\n",
    "    fullfile = os.path.join(basedir, dir1, filename)\n",
    "    u_vel = xr.open_dataset(fullfile)\n",
    "    velocity = u_vel['vozocrtx'].isel(y=iY, x=iX).sel(depthu=iZ, method='nearest')\n",
    "    u_vel.close()\n",
    "    filename = 'SalishSea_1h_'+ymd+'_'+ymd+'_grid_V.nc'\n",
    "    fullfile = os.path.join(basedir, dir1, filename)\n",
    "    v_vel = xr.open_dataset(fullfile)\n",
    "    v_velocity = v_vel['vomecrty'].isel(y=[iY-1, iY], x=iX).sel(depthv=iZ, method='nearest').mean(axis=1)\n",
    "    vv = (velocity**2 + v_velocity**2).max(axis=0)\n",
    "    if i == 0:\n",
    "        velocity_year = velocity.copy(deep=True)\n",
    "        vv_year = vv.copy(deep=True)\n",
    "        velocity.close()\n",
    "        v_velocity.close()\n",
    "        vv.close()\n",
    "    else:\n",
    "        velocity_year = xr.concat([velocity_year, velocity], dim='time_counter')\n",
    "        vv_year = xr.concat([vv_year, vv], dim='time_counter')\n",
    "        velocity.close()\n",
    "        v_velocity.close()\n",
    "        vv.close()\n",
    "    if i % 10 == 0:\n",
    "        print (i)"
   ]
  },
  {
   "cell_type": "code",
   "execution_count": 11,
   "metadata": {},
   "outputs": [
    {
     "data": {
      "image/png": "[encoded data removed]",
      "text/plain": [
       "<Figure size 432x288 with 1 Axes>"
      ]
     },
     "metadata": {
      "needs_background": "light"
     },
     "output_type": "display_data"
    }
   ],
   "source": [
    "#plt.plot(velocity_year**2, marker= 'o')\n",
    "#plt.plot(24*np.arange(365), vv_year, marker= 'o')\n",
    "daily = (velocity_year**2).resample(time_counter='1D').mean()\n",
    "#plt.plot(24*np.arange(365), daily, marker = 'o')\n",
    "#plt.plot(daily, vv_year, 'o')\n",
    "day_avg_tide_pd = daily.to_dataframe()\n",
    "previous = day_avg_tide_pd.rolling(4, center=True).mean()\n",
    "new_pd = vv_year.to_dataframe(name='vv_year')\n",
    "new = new_pd.rolling(4, center=True).mean()\n",
    "plt.hist2d(previous.vozocrtx, new.vv_year, bins=np.arange(0, 6, 0.5));"
   ]
  },
  {
   "cell_type": "code",
   "execution_count": 12,
   "metadata": {},
   "outputs": [
    {
     "name": "stdout",
     "output_type": "stream",
     "text": [
      "[[1.         0.91955293]\n",
      " [0.91955293 1.        ]]\n"
     ]
    },
    {
     "data": {
      "text/html": [
       "<table class=\"simpletable\">\n",
       "<caption>OLS Regression Results</caption>\n",
       "<tr>\n",
       "  <th>Dep. Variable:</th>            <td>y</td>        <th>  R-squared (uncentered):</th>      <td>   0.978</td> \n",
       "</tr>\n",
       "<tr>\n",
       "  <th>Model:</th>                   <td>OLS</td>       <th>  Adj. R-squared (uncentered):</th> <td>   0.978</td> \n",
       "</tr>\n",
       "<tr>\n",
       "  <th>Method:</th>             <td>Least Squares</td>  <th>  F-statistic:       </th>          <td>1.596e+04</td>\n",
       "</tr>\n",
       "<tr>\n",
       "  <th>Date:</th>             <td>Wed, 26 Jun 2024</td> <th>  Prob (F-statistic):</th>          <td>6.93e-301</td>\n",
       "</tr>\n",
       "<tr>\n",
       "  <th>Time:</th>                 <td>18:01:48</td>     <th>  Log-Likelihood:    </th>          <td> -100.88</td> \n",
       "</tr>\n",
       "<tr>\n",
       "  <th>No. Observations:</th>      <td>   362</td>      <th>  AIC:               </th>          <td>   203.8</td> \n",
       "</tr>\n",
       "<tr>\n",
       "  <th>Df Residuals:</th>          <td>   361</td>      <th>  BIC:               </th>          <td>   207.6</td> \n",
       "</tr>\n",
       "<tr>\n",
       "  <th>Df Model:</th>              <td>     1</td>      <th>                     </th>              <td> </td>    \n",
       "</tr>\n",
       "<tr>\n",
       "  <th>Covariance Type:</th>      <td>nonrobust</td>    <th>                     </th>              <td> </td>    \n",
       "</tr>\n",
       "</table>\n",
       "<table class=\"simpletable\">\n",
       "<tr>\n",
       "   <td></td>     <th>coef</th>     <th>std err</th>      <th>t</th>      <th>P>|t|</th>  <th>[0.025</th>    <th>0.975]</th>  \n",
       "</tr>\n",
       "<tr>\n",
       "  <th>x1</th> <td>    3.6310</td> <td>    0.029</td> <td>  126.346</td> <td> 0.000</td> <td>    3.574</td> <td>    3.688</td>\n",
       "</tr>\n",
       "</table>\n",
       "<table class=\"simpletable\">\n",
       "<tr>\n",
       "  <th>Omnibus:</th>       <td> 6.348</td> <th>  Durbin-Watson:     </th> <td>   0.250</td>\n",
       "</tr>\n",
       "<tr>\n",
       "  <th>Prob(Omnibus):</th> <td> 0.042</td> <th>  Jarque-Bera (JB):  </th> <td>   8.397</td>\n",
       "</tr>\n",
       "<tr>\n",
       "  <th>Skew:</th>          <td>-0.127</td> <th>  Prob(JB):          </th> <td>  0.0150</td>\n",
       "</tr>\n",
       "<tr>\n",
       "  <th>Kurtosis:</th>      <td> 3.702</td> <th>  Cond. No.          </th> <td>    1.00</td>\n",
       "</tr>\n",
       "</table><br/><br/>Notes:<br/>[1] R² is computed without centering (uncentered) since the model does not contain a constant.<br/>[2] Standard Errors assume that the covariance matrix of the errors is correctly specified."
      ],
      "text/plain": [
       "<class 'statsmodels.iolib.summary.Summary'>\n",
       "\"\"\"\n",
       "                                 OLS Regression Results                                \n",
       "=======================================================================================\n",
       "Dep. Variable:                      y   R-squared (uncentered):                   0.978\n",
       "Model:                            OLS   Adj. R-squared (uncentered):              0.978\n",
       "Method:                 Least Squares   F-statistic:                          1.596e+04\n",
       "Date:                Wed, 26 Jun 2024   Prob (F-statistic):                   6.93e-301\n",
       "Time:                        18:01:48   Log-Likelihood:                         -100.88\n",
       "No. Observations:                 362   AIC:                                      203.8\n",
       "Df Residuals:                     361   BIC:                                      207.6\n",
       "Df Model:                           1                                                  \n",
       "Covariance Type:            nonrobust                                                  \n",
       "==============================================================================\n",
       "                 coef    std err          t      P>|t|      [0.025      0.975]\n",
       "------------------------------------------------------------------------------\n",
       "x1             3.6310      0.029    126.346      0.000       3.574       3.688\n",
       "==============================================================================\n",
       "Omnibus:                        6.348   Durbin-Watson:                   0.250\n",
       "Prob(Omnibus):                  0.042   Jarque-Bera (JB):                8.397\n",
       "Skew:                          -0.127   Prob(JB):                       0.0150\n",
       "Kurtosis:                       3.702   Cond. No.                         1.00\n",
       "==============================================================================\n",
       "\n",
       "Notes:\n",
       "[1] R² is computed without centering (uncentered) since the model does not contain a constant.\n",
       "[2] Standard Errors assume that the covariance matrix of the errors is correctly specified.\n",
       "\"\"\""
      ]
     },
     "execution_count": 12,
     "metadata": {},
     "output_type": "execute_result"
    }
   ],
   "source": [
    "y = new.vv_year.values\n",
    "x = previous.vozocrtx.values\n",
    "\n",
    "nansInArray = (np.isnan(y) | np.isnan(x))\n",
    "print (np.corrcoef(x[~nansInArray], y[~nansInArray]))\n",
    "\n",
    "model11 = sm.OLS(y, x, missing='drop').fit()\n",
    "model11.summary()"
   ]
  },
  {
   "cell_type": "markdown",
   "metadata": {},
   "source": [
    "### Answer\n",
    "\n",
    "Daily maximum velocity rolling averaged over 4 days is well correlated with the mean velocity squared rolling average over 4 days. However, the coefficient is 3.63pm0.06"
   ]
  },
  {
   "cell_type": "markdown",
   "metadata": {},
   "source": [
    "### Depth Average"
   ]
  },
  {
   "cell_type": "code",
   "execution_count": 5,
   "metadata": {},
   "outputs": [],
   "source": [
    "meshmask = xr.open_dataset('/home/sallen/MEOPAR/grid/mesh_mask202108.nc')\n",
    "umask = meshmask.umask[0]\n",
    "meshmask.close()"
   ]
  },
  {
   "cell_type": "code",
   "execution_count": 8,
   "metadata": {},
   "outputs": [
    {
     "name": "stdout",
     "output_type": "stream",
     "text": [
      "0\n",
      "10\n",
      "20\n",
      "30\n",
      "40\n",
      "50\n",
      "60\n",
      "70\n",
      "80\n",
      "90\n",
      "100\n",
      "110\n",
      "120\n",
      "130\n",
      "140\n",
      "150\n",
      "160\n",
      "170\n",
      "180\n",
      "190\n",
      "200\n",
      "210\n",
      "220\n",
      "230\n",
      "240\n",
      "250\n",
      "260\n",
      "270\n",
      "280\n",
      "290\n",
      "300\n",
      "310\n",
      "320\n",
      "330\n",
      "340\n",
      "350\n",
      "360\n"
     ]
    }
   ],
   "source": [
    "year = 2015\n",
    "start = datetime.datetime(year, 1, 1)\n",
    "endtime = datetime.datetime(year, 12, 31)\n",
    "timerange = arrow.Arrow.range('day', start, endtime)\n",
    "for i, day in enumerate(timerange):\n",
    "    dir1 = day.format('DDMMMYY').lower()\n",
    "    ymd = day.format('YYYYMMDD')\n",
    "    filename = 'SalishSea_1h_'+ymd+'_'+ymd+'_grid_U.nc'\n",
    "    fullfile = os.path.join(basedir, dir1, filename)\n",
    "    u_vel = xr.open_dataset(fullfile)\n",
    "    velocity = u_vel['vozocrtx'].isel(y=iY, x=iX)\n",
    "    u_vel.close()\n",
    "    filename = 'SalishSea_1h_'+ymd+'_'+ymd+'_grid_V.nc'\n",
    "    fullfile = os.path.join(basedir, dir1, filename)\n",
    "    v_vel = xr.open_dataset(fullfile)\n",
    "    v_velocity = v_vel['vomecrty'].isel(y=[iY-1, iY], x=iX).mean(axis=2)\n",
    "    v_vel.close()\n",
    "    filename = 'SalishSea_1h_'+ymd+'_'+ymd+'_grid_T.nc'\n",
    "    fullfile = os.path.join(basedir, dir1, filename)\n",
    "    gridT = xr.open_dataset(fullfile)\n",
    "    e3u = gridT['e3t'].isel(y=iY, x=[iX-1, iX]).min(axis=2)\n",
    "    e3u = e3u.rename({'deptht': 'z'})\n",
    "    velocity = velocity.rename({'depthu': 'z'})\n",
    "    v_velocity = v_velocity.rename({'depthv': 'z'})\n",
    "    vs = (velocity**2 + v_velocity**2)\n",
    "    va = (vs * e3u).where(umask[:, iY, iX] == 1).sum(axis=1) / (e3u.where(umask[:, iY, iX] == 1).sum(axis=1))\n",
    "    vv = va.max(axis=0)\n",
    "    if i == 0:\n",
    "        vv_year = vv.copy(deep=True)\n",
    "        velocity.close()\n",
    "        v_velocity.close()\n",
    "        vv.close()\n",
    "    else:\n",
    "        vv_year = xr.concat([vv_year, vv], dim='time_counter')\n",
    "        velocity.close()\n",
    "        v_velocity.close()\n",
    "        vv.close()\n",
    "    if i % 10 == 0:\n",
    "        print (i)"
   ]
  },
  {
   "cell_type": "code",
   "execution_count": 16,
   "metadata": {},
   "outputs": [
    {
     "data": {
      "image/png": "[encoded data removed]",
      "text/plain": [
       "<Figure size 432x288 with 1 Axes>"
      ]
     },
     "metadata": {
      "needs_background": "light"
     },
     "output_type": "display_data"
    }
   ],
   "source": [
    "daily = (velocity_year**2).resample(time_counter='1D').mean()\n",
    "day_avg_tide_pd = daily.to_dataframe()\n",
    "previous = day_avg_tide_pd.rolling(4, center=True).mean()\n",
    "new_pd = vv_year.to_dataframe(name='vv_year')\n",
    "new = new_pd.rolling(4, center=True).mean()\n",
    "plt.hist2d(previous.vozocrtx, new.vv_year, bins=np.arange(0, 6, 0.5));"
   ]
  },
  {
   "cell_type": "code",
   "execution_count": 18,
   "metadata": {},
   "outputs": [
    {
     "name": "stdout",
     "output_type": "stream",
     "text": [
      "[[1.         0.89790163]\n",
      " [0.89790163 1.        ]]\n"
     ]
    },
    {
     "data": {
      "text/html": [
       "<table class=\"simpletable\">\n",
       "<caption>OLS Regression Results</caption>\n",
       "<tr>\n",
       "  <th>Dep. Variable:</th>            <td>y</td>        <th>  R-squared (uncentered):</th>      <td>   0.972</td> \n",
       "</tr>\n",
       "<tr>\n",
       "  <th>Model:</th>                   <td>OLS</td>       <th>  Adj. R-squared (uncentered):</th> <td>   0.972</td> \n",
       "</tr>\n",
       "<tr>\n",
       "  <th>Method:</th>             <td>Least Squares</td>  <th>  F-statistic:       </th>          <td>1.253e+04</td>\n",
       "</tr>\n",
       "<tr>\n",
       "  <th>Date:</th>             <td>Tue, 18 Jun 2024</td> <th>  Prob (F-statistic):</th>          <td>2.33e-282</td>\n",
       "</tr>\n",
       "<tr>\n",
       "  <th>Time:</th>                 <td>13:42:06</td>     <th>  Log-Likelihood:    </th>          <td> -27.453</td> \n",
       "</tr>\n",
       "<tr>\n",
       "  <th>No. Observations:</th>      <td>   362</td>      <th>  AIC:               </th>          <td>   56.91</td> \n",
       "</tr>\n",
       "<tr>\n",
       "  <th>Df Residuals:</th>          <td>   361</td>      <th>  BIC:               </th>          <td>   60.80</td> \n",
       "</tr>\n",
       "<tr>\n",
       "  <th>Df Model:</th>              <td>     1</td>      <th>                     </th>              <td> </td>    \n",
       "</tr>\n",
       "<tr>\n",
       "  <th>Covariance Type:</th>      <td>nonrobust</td>    <th>                     </th>              <td> </td>    \n",
       "</tr>\n",
       "</table>\n",
       "<table class=\"simpletable\">\n",
       "<tr>\n",
       "   <td></td>     <th>coef</th>     <th>std err</th>      <th>t</th>      <th>P>|t|</th>  <th>[0.025</th>    <th>0.975]</th>  \n",
       "</tr>\n",
       "<tr>\n",
       "  <th>x1</th> <td>    2.6261</td> <td>    0.023</td> <td>  111.926</td> <td> 0.000</td> <td>    2.580</td> <td>    2.672</td>\n",
       "</tr>\n",
       "</table>\n",
       "<table class=\"simpletable\">\n",
       "<tr>\n",
       "  <th>Omnibus:</th>       <td> 0.869</td> <th>  Durbin-Watson:     </th> <td>   0.183</td>\n",
       "</tr>\n",
       "<tr>\n",
       "  <th>Prob(Omnibus):</th> <td> 0.648</td> <th>  Jarque-Bera (JB):  </th> <td>   0.928</td>\n",
       "</tr>\n",
       "<tr>\n",
       "  <th>Skew:</th>          <td>-0.028</td> <th>  Prob(JB):          </th> <td>   0.629</td>\n",
       "</tr>\n",
       "<tr>\n",
       "  <th>Kurtosis:</th>      <td> 2.758</td> <th>  Cond. No.          </th> <td>    1.00</td>\n",
       "</tr>\n",
       "</table><br/><br/>Notes:<br/>[1] R² is computed without centering (uncentered) since the model does not contain a constant.<br/>[2] Standard Errors assume that the covariance matrix of the errors is correctly specified."
      ],
      "text/plain": [
       "<class 'statsmodels.iolib.summary.Summary'>\n",
       "\"\"\"\n",
       "                                 OLS Regression Results                                \n",
       "=======================================================================================\n",
       "Dep. Variable:                      y   R-squared (uncentered):                   0.972\n",
       "Model:                            OLS   Adj. R-squared (uncentered):              0.972\n",
       "Method:                 Least Squares   F-statistic:                          1.253e+04\n",
       "Date:                Tue, 18 Jun 2024   Prob (F-statistic):                   2.33e-282\n",
       "Time:                        13:42:06   Log-Likelihood:                         -27.453\n",
       "No. Observations:                 362   AIC:                                      56.91\n",
       "Df Residuals:                     361   BIC:                                      60.80\n",
       "Df Model:                           1                                                  \n",
       "Covariance Type:            nonrobust                                                  \n",
       "==============================================================================\n",
       "                 coef    std err          t      P>|t|      [0.025      0.975]\n",
       "------------------------------------------------------------------------------\n",
       "x1             2.6261      0.023    111.926      0.000       2.580       2.672\n",
       "==============================================================================\n",
       "Omnibus:                        0.869   Durbin-Watson:                   0.183\n",
       "Prob(Omnibus):                  0.648   Jarque-Bera (JB):                0.928\n",
       "Skew:                          -0.028   Prob(JB):                        0.629\n",
       "Kurtosis:                       2.758   Cond. No.                         1.00\n",
       "==============================================================================\n",
       "\n",
       "Notes:\n",
       "[1] R² is computed without centering (uncentered) since the model does not contain a constant.\n",
       "[2] Standard Errors assume that the covariance matrix of the errors is correctly specified.\n",
       "\"\"\""
      ]
     },
     "execution_count": 18,
     "metadata": {},
     "output_type": "execute_result"
    }
   ],
   "source": [
    "y = new.vv_year.values\n",
    "x = previous.vozocrtx.values\n",
    "\n",
    "nansInArray = (np.isnan(y) | np.isnan(x))\n",
    "print (np.corrcoef(x[~nansInArray], y[~nansInArray]))\n",
    "\n",
    "model12 = sm.OLS(y, x, missing='drop').fit()\n",
    "model12.summary()"
   ]
  },
  {
   "cell_type": "markdown",
   "metadata": {},
   "source": [
    "### Answer ###\n",
    "\n",
    "Daily maximum depth-averaged velocity rolling averaged over 4 days is well correlated (0.90) with the mean u-velocity squared rolling average over 4 days. The coefficient is 2.63pm0.04\n"
   ]
  },
  {
   "cell_type": "markdown",
   "metadata": {},
   "source": [
    "## Now Look at a Point in Haro Strait ##"
   ]
  },
  {
   "cell_type": "code",
   "execution_count": 32,
   "metadata": {},
   "outputs": [
    {
     "data": {
      "image/png": "[encoded data removed]",
      "text/plain": [
       "<Figure size 432x288 with 2 Axes>"
      ]
     },
     "metadata": {
      "needs_background": "light"
     },
     "output_type": "display_data"
    }
   ],
   "source": [
    "umask[0, 200:400, 100:300].plot()\n",
    "plt.plot(130, 110, 'rx');\n",
    "jY = 200+110; jX = 100+130;"
   ]
  },
  {
   "cell_type": "code",
   "execution_count": 34,
   "metadata": {},
   "outputs": [
    {
     "name": "stdout",
     "output_type": "stream",
     "text": [
      "0\n",
      "10\n",
      "20\n",
      "30\n",
      "40\n",
      "50\n",
      "60\n",
      "70\n",
      "80\n",
      "90\n",
      "100\n",
      "110\n",
      "120\n",
      "130\n",
      "140\n",
      "150\n",
      "160\n",
      "170\n",
      "180\n",
      "190\n",
      "200\n",
      "210\n",
      "220\n",
      "230\n",
      "240\n",
      "250\n",
      "260\n",
      "270\n",
      "280\n",
      "290\n",
      "300\n",
      "320\n",
      "330\n",
      "340\n",
      "350\n",
      "360\n"
     ]
    }
   ],
   "source": [
    "year = 2015\n",
    "start = datetime.datetime(year, 1, 1)\n",
    "endtime = datetime.datetime(year, 12, 31)\n",
    "timerange = arrow.Arrow.range('day', start, endtime)\n",
    "for i, day in enumerate(timerange):\n",
    "    dir1 = day.format('DDMMMYY').lower()\n",
    "    ymd = day.format('YYYYMMDD')\n",
    "    filename = 'SalishSea_1h_'+ymd+'_'+ymd+'_grid_U.nc'\n",
    "    fullfile = os.path.join(basedir, dir1, filename)\n",
    "    u_vel = xr.open_dataset(fullfile)\n",
    "    velocity = u_vel['vozocrtx'].isel(y=jY, x=jX)\n",
    "    u_vel.close()\n",
    "    filename = 'SalishSea_1h_'+ymd+'_'+ymd+'_grid_V.nc'\n",
    "    fullfile = os.path.join(basedir, dir1, filename)\n",
    "    v_vel = xr.open_dataset(fullfile)\n",
    "    v_velocity = v_vel['vomecrty'].isel(y=[jY-1, jY], x=jX).mean(axis=2)\n",
    "    v_vel.close()\n",
    "    filename = 'SalishSea_1h_'+ymd+'_'+ymd+'_grid_T.nc'\n",
    "    fullfile = os.path.join(basedir, dir1, filename)\n",
    "    gridT = xr.open_dataset(fullfile)\n",
    "    e3u = gridT['e3t'].isel(y=jY, x=[jX-1, jX]).min(axis=2)\n",
    "    e3u = e3u.rename({'deptht': 'z'})\n",
    "    velocity = velocity.rename({'depthu': 'z'})\n",
    "    v_velocity = v_velocity.rename({'depthv': 'z'})\n",
    "    vs = (velocity**2 + v_velocity**2)\n",
    "    va = (vs * e3u).where(umask[:, jY, jX] == 1).sum(axis=1) / (e3u.where(umask[:, jY, jX] == 1).sum(axis=1))\n",
    "    vh = va.max(axis=0)\n",
    "    if i == 0:\n",
    "        vh_year = vh.copy(deep=True)\n",
    "        velocity.close()\n",
    "        v_velocity.close()\n",
    "        vh.close()\n",
    "    else:\n",
    "        vh_year = xr.concat([vh_year, vh], dim='time_counter')\n",
    "        velocity.close()\n",
    "        v_velocity.close()\n",
    "        vh.close()\n",
    "    if i % 10 == 0:\n",
    "        print (i)"
   ]
  },
  {
   "cell_type": "code",
   "execution_count": 37,
   "metadata": {},
   "outputs": [
    {
     "data": {
      "image/png": "[encoded data removed]",
      "text/plain": [
       "<Figure size 432x288 with 1 Axes>"
      ]
     },
     "metadata": {
      "needs_background": "light"
     },
     "output_type": "display_data"
    }
   ],
   "source": [
    "new_pd = vh_year.to_dataframe(name='vh_year')\n",
    "new = new_pd.rolling(4, center=True).mean()\n",
    "plt.hist2d(previous.vozocrtx, new.vh_year, bins=np.arange(0, 2, 0.1));"
   ]
  },
  {
   "cell_type": "code",
   "execution_count": 38,
   "metadata": {},
   "outputs": [
    {
     "name": "stdout",
     "output_type": "stream",
     "text": [
      "[[1.         0.86823385]\n",
      " [0.86823385 1.        ]]\n"
     ]
    },
    {
     "data": {
      "text/html": [
       "<table class=\"simpletable\">\n",
       "<caption>OLS Regression Results</caption>\n",
       "<tr>\n",
       "  <th>Dep. Variable:</th>            <td>y</td>        <th>  R-squared (uncentered):</th>      <td>   0.957</td> \n",
       "</tr>\n",
       "<tr>\n",
       "  <th>Model:</th>                   <td>OLS</td>       <th>  Adj. R-squared (uncentered):</th> <td>   0.957</td> \n",
       "</tr>\n",
       "<tr>\n",
       "  <th>Method:</th>             <td>Least Squares</td>  <th>  F-statistic:       </th>          <td>   8108.</td> \n",
       "</tr>\n",
       "<tr>\n",
       "  <th>Date:</th>             <td>Wed, 19 Jun 2024</td> <th>  Prob (F-statistic):</th>          <td>1.94e-249</td>\n",
       "</tr>\n",
       "<tr>\n",
       "  <th>Time:</th>                 <td>09:58:02</td>     <th>  Log-Likelihood:    </th>          <td>  223.78</td> \n",
       "</tr>\n",
       "<tr>\n",
       "  <th>No. Observations:</th>      <td>   362</td>      <th>  AIC:               </th>          <td>  -445.6</td> \n",
       "</tr>\n",
       "<tr>\n",
       "  <th>Df Residuals:</th>          <td>   361</td>      <th>  BIC:               </th>          <td>  -441.7</td> \n",
       "</tr>\n",
       "<tr>\n",
       "  <th>Df Model:</th>              <td>     1</td>      <th>                     </th>              <td> </td>    \n",
       "</tr>\n",
       "<tr>\n",
       "  <th>Covariance Type:</th>      <td>nonrobust</td>    <th>                     </th>              <td> </td>    \n",
       "</tr>\n",
       "</table>\n",
       "<table class=\"simpletable\">\n",
       "<tr>\n",
       "   <td></td>     <th>coef</th>     <th>std err</th>      <th>t</th>      <th>P>|t|</th>  <th>[0.025</th>    <th>0.975]</th>  \n",
       "</tr>\n",
       "<tr>\n",
       "  <th>x1</th> <td>    1.0555</td> <td>    0.012</td> <td>   90.045</td> <td> 0.000</td> <td>    1.032</td> <td>    1.079</td>\n",
       "</tr>\n",
       "</table>\n",
       "<table class=\"simpletable\">\n",
       "<tr>\n",
       "  <th>Omnibus:</th>       <td>19.941</td> <th>  Durbin-Watson:     </th> <td>   0.185</td>\n",
       "</tr>\n",
       "<tr>\n",
       "  <th>Prob(Omnibus):</th> <td> 0.000</td> <th>  Jarque-Bera (JB):  </th> <td>  22.292</td>\n",
       "</tr>\n",
       "<tr>\n",
       "  <th>Skew:</th>          <td>-0.606</td> <th>  Prob(JB):          </th> <td>1.44e-05</td>\n",
       "</tr>\n",
       "<tr>\n",
       "  <th>Kurtosis:</th>      <td> 2.917</td> <th>  Cond. No.          </th> <td>    1.00</td>\n",
       "</tr>\n",
       "</table><br/><br/>Notes:<br/>[1] R² is computed without centering (uncentered) since the model does not contain a constant.<br/>[2] Standard Errors assume that the covariance matrix of the errors is correctly specified."
      ],
      "text/plain": [
       "<class 'statsmodels.iolib.summary.Summary'>\n",
       "\"\"\"\n",
       "                                 OLS Regression Results                                \n",
       "=======================================================================================\n",
       "Dep. Variable:                      y   R-squared (uncentered):                   0.957\n",
       "Model:                            OLS   Adj. R-squared (uncentered):              0.957\n",
       "Method:                 Least Squares   F-statistic:                              8108.\n",
       "Date:                Wed, 19 Jun 2024   Prob (F-statistic):                   1.94e-249\n",
       "Time:                        09:58:02   Log-Likelihood:                          223.78\n",
       "No. Observations:                 362   AIC:                                     -445.6\n",
       "Df Residuals:                     361   BIC:                                     -441.7\n",
       "Df Model:                           1                                                  \n",
       "Covariance Type:            nonrobust                                                  \n",
       "==============================================================================\n",
       "                 coef    std err          t      P>|t|      [0.025      0.975]\n",
       "------------------------------------------------------------------------------\n",
       "x1             1.0555      0.012     90.045      0.000       1.032       1.079\n",
       "==============================================================================\n",
       "Omnibus:                       19.941   Durbin-Watson:                   0.185\n",
       "Prob(Omnibus):                  0.000   Jarque-Bera (JB):               22.292\n",
       "Skew:                          -0.606   Prob(JB):                     1.44e-05\n",
       "Kurtosis:                       2.917   Cond. No.                         1.00\n",
       "==============================================================================\n",
       "\n",
       "Notes:\n",
       "[1] R² is computed without centering (uncentered) since the model does not contain a constant.\n",
       "[2] Standard Errors assume that the covariance matrix of the errors is correctly specified.\n",
       "\"\"\""
      ]
     },
     "execution_count": 38,
     "metadata": {},
     "output_type": "execute_result"
    }
   ],
   "source": [
    "y = new.vh_year.values\n",
    "x = previous.vozocrtx.values\n",
    "\n",
    "nansInArray = (np.isnan(y) | np.isnan(x))\n",
    "print (np.corrcoef(x[~nansInArray], y[~nansInArray]))\n",
    "\n",
    "model13 = sm.OLS(y, x, missing='drop').fit()\n",
    "model13.summary()"
   ]
  },
  {
   "cell_type": "code",
   "execution_count": 17,
   "metadata": {},
   "outputs": [
    {
     "data": {
      "text/plain": [
       "<xarray.Dataset>\n",
       "Dimensions:        (time_counter: 35064)\n",
       "Coordinates:\n",
       "    nav_lat        float32 48.74564\n",
       "    depthu         float32 9.502433\n",
       "    nav_lon        float32 -123.106224\n",
       "    time_centered  (time_counter) datetime64[ns] 2015-01-01T00:30:00 ... 2018-12-31T23:30:00\n",
       "  * time_counter   (time_counter) datetime64[ns] 2015-01-01T00:30:00 ... 2018-12-31T23:30:00\n",
       "Data variables:\n",
       "    vozocrtx       (time_counter) float32 1.5254081 1.7519335 ... 1.4587202"
      ]
     },
     "execution_count": 17,
     "metadata": {},
     "output_type": "execute_result"
    }
   ],
   "source": [
    "velsquared = velocity * velocity\n",
    "velsquared"
   ]
  },
  {
   "cell_type": "code",
   "execution_count": 18,
   "metadata": {},
   "outputs": [],
   "source": [
    "day_avg_tide_vel = velsquared.resample(time_counter='1D').mean()"
   ]
  },
  {
   "cell_type": "code",
   "execution_count": 20,
   "metadata": {},
   "outputs": [
    {
     "data": {
      "image/png": "[encoded data removed]",
      "text/plain": [
       "<Figure size 432x288 with 1 Axes>"
      ]
     },
     "metadata": {
      "needs_background": "light"
     },
     "output_type": "display_data"
    }
   ],
   "source": [
    "day_avg_tide_vel.vozocrtx.plot();"
   ]
  },
  {
   "cell_type": "code",
   "execution_count": 25,
   "metadata": {},
   "outputs": [
    {
     "data": {
      "text/plain": [
       "<matplotlib.axes._subplots.AxesSubplot at 0x7f380a681588>"
      ]
     },
     "execution_count": 25,
     "metadata": {},
     "output_type": "execute_result"
    },
    {
     "data": {
      "image/png": "[encoded data removed]",
      "text/plain": [
       "<Figure size 432x288 with 1 Axes>"
      ]
     },
     "metadata": {
      "needs_background": "light"
     },
     "output_type": "display_data"
    }
   ],
   "source": [
    "day_avg_tide_pd = day_avg_tide_vel.to_dataframe()\n",
    "day_avg_tide_pd = day_avg_tide_pd.drop('depthu', 1)\n",
    "day_avg_tide_pd = day_avg_tide_pd.drop('nav_lat', 1)\n",
    "day_avg_tide_pd = day_avg_tide_pd.drop('nav_lon', 1)\n",
    "day_avg_tide_pd.to_csv('day_avg_tide_pd.csv')\n",
    "day_avg_tide_pd.plot()"
   ]
  },
  {
   "cell_type": "code",
   "execution_count": 30,
   "metadata": {},
   "outputs": [
    {
     "data": {
      "text/plain": [
       "<matplotlib.axes._subplots.AxesSubplot at 0x7f380a1917f0>"
      ]
     },
     "execution_count": 30,
     "metadata": {},
     "output_type": "execute_result"
    },
    {
     "data": {
      "image/png": "[encoded data removed]",
      "text/plain": [
       "<Figure size 432x288 with 1 Axes>"
      ]
     },
     "metadata": {
      "needs_background": "light"
     },
     "output_type": "display_data"
    }
   ],
   "source": [
    "low_pass_tide = day_avg_tide_pd.rolling(4, center=True).mean()\n",
    "low_pass_tide.to_csv('low_pass_tide.csv')\n",
    "low_pass_tide.plot()"
   ]
  },
  {
   "cell_type": "code",
   "execution_count": 31,
   "metadata": {},
   "outputs": [],
   "source": [
    "velocity2015.close()\n",
    "velocity2016.close()\n",
    "velocity2017.close()\n",
    "velocity2018.close()"
   ]
  },
  {
   "cell_type": "code",
   "execution_count": null,
   "metadata": {},
   "outputs": [],
   "source": []
  },
  {
   "cell_type": "code",
   "execution_count": null,
   "metadata": {},
   "outputs": [],
   "source": []
  }
 ],
 "metadata": {
  "anaconda-cloud": {},
  "kernelspec": {
   "display_name": "py39",
   "language": "python",
   "name": "py39"
  },
  "language_info": {
   "codemirror_mode": {
    "name": "ipython",
    "version": 3
   },
   "file_extension": ".py",
   "mimetype": "text/x-python",
   "name": "python",
   "nbconvert_exporter": "python",
   "pygments_lexer": "ipython3",
   "version": "3.9.2"
  },
  "toc": {
   "colors": {
    "hover_highlight": "#DAA520",
    "running_highlight": "#FF0000",
    "selected_highlight": "#FFD700"
   },
   "moveMenuLeft": true,
   "nav_menu": {
    "height": "12px",
    "width": "252px"
   },
   "navigate_menu": true,
   "number_sections": true,
   "sideBar": true,
   "threshold": 4,
   "toc_cell": false,
   "toc_section_display": "block",
   "toc_window_display": false,
   "widenNotebook": false
  }
 },
 "nbformat": 4,
 "nbformat_minor": 4
}
