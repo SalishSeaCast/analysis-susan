{
 "cells": [
  {
   "cell_type": "code",
   "execution_count": 122,
   "metadata": {
    "collapsed": false
   },
   "outputs": [],
   "source": [
    "import glob\n",
    "import matplotlib.pyplot as plt\n",
    "import numpy as np\n",
    "import xarray as xr\n",
    "\n",
    "from salishsea_tools import viz_tools\n",
    "\n",
    "%matplotlib inline"
   ]
  },
  {
   "cell_type": "code",
   "execution_count": 143,
   "metadata": {
    "collapsed": false
   },
   "outputs": [
    {
     "name": "stdout",
     "output_type": "stream",
     "text": [
      "(898, 398)\n"
     ]
    }
   ],
   "source": [
    "bathydata = xr.open_dataset('/home/sallen/MEOPAR/grid/bathymetry_201702.nc')\n",
    "bathy = bathydata['Bathymetry']\n",
    "meshdata = xr.open_dataset('/home/sallen/MEOPAR/grid/mesh_mask201702.nc')\n",
    "gdept_1d = meshdata['gdept_1d']\n",
    "e3t_1d = meshdata['e3t_1d']\n",
    "umask = meshdata['umask'][0]\n",
    "vmask = meshdata['vmask'][0]\n",
    "tmask = meshdata['tmask'][0]\n",
    "realdepthdata = xr.open_dataset('/home/sallen/MEOPAR/grid/AfterNEMOBathy201702.nc')\n",
    "realdepth = realdepthdata['Bathymetry']\n",
    "print (realdepth.shape)\n",
    "\n",
    "g = 9.8"
   ]
  },
  {
   "cell_type": "code",
   "execution_count": 10,
   "metadata": {
    "collapsed": false
   },
   "outputs": [
    {
     "data": {
      "text/plain": [
       "[<matplotlib.lines.Line2D at 0x7f2014be7400>]"
      ]
     },
     "execution_count": 10,
     "metadata": {},
     "output_type": "execute_result"
    },
    {
     "data": {
      "image/png": "[encoded data removed]",
      "text/plain": [
       "<Figure size 432x288 with 2 Axes>"
      ]
     },
     "metadata": {},
     "output_type": "display_data"
    }
   ],
   "source": [
    "bathy[850:890, 30:130].plot()\n",
    "plt.plot([50-30, 110-30], [870-850, 870-850], 'm-')"
   ]
  },
  {
   "cell_type": "markdown",
   "metadata": {},
   "source": [
    "So along 870, from 50 to 110"
   ]
  },
  {
   "cell_type": "code",
   "execution_count": 29,
   "metadata": {
    "collapsed": true
   },
   "outputs": [],
   "source": [
    "iii = 870\n",
    "jmin = 50\n",
    "jmax = 110"
   ]
  },
  {
   "cell_type": "code",
   "execution_count": 41,
   "metadata": {
    "collapsed": false
   },
   "outputs": [
    {
     "name": "stdout",
     "output_type": "stream",
     "text": [
      "121.86651840226745\n"
     ]
    },
    {
     "data": {
      "image/png": "[encoded data removed]",
      "text/plain": [
       "<Figure size 432x288 with 1 Axes>"
      ]
     },
     "metadata": {},
     "output_type": "display_data"
    }
   ],
   "source": [
    "bathy[iii, jmin:jmax].plot()\n",
    "print (gdept_1d.values[0, 27])"
   ]
  },
  {
   "cell_type": "code",
   "execution_count": 79,
   "metadata": {
    "collapsed": true
   },
   "outputs": [],
   "source": [
    "kmax = 31"
   ]
  },
  {
   "cell_type": "markdown",
   "metadata": {},
   "source": [
    "201812 2016 results are split across results/results2  \n",
    "so use 201806 results in nowcast-green\n",
    "NOPE no e3t so 2017 in results2"
   ]
  },
  {
   "cell_type": "code",
   "execution_count": 106,
   "metadata": {
    "collapsed": false,
    "scrolled": false
   },
   "outputs": [
    {
     "name": "stdout",
     "output_type": "stream",
     "text": [
      "/results2/SalishSea/hindcast.201812_annex/03sep17/SalishSea_1h_*_grid_V.nc\n",
      "/results2/SalishSea/hindcast.201812_annex/16mar17/SalishSea_1h_*_grid_V.nc\n",
      "/results2/SalishSea/hindcast.201812_annex/11apr17/SalishSea_1h_*_grid_V.nc\n",
      "/results2/SalishSea/hindcast.201812_annex/10feb17/SalishSea_1h_*_grid_V.nc\n",
      "/results2/SalishSea/hindcast.201812_annex/01aug17/SalishSea_1h_*_grid_V.nc\n",
      "/results2/SalishSea/hindcast.201812_annex/05feb17/SalishSea_1h_*_grid_V.nc\n",
      "/results2/SalishSea/hindcast.201812_annex/01jul17/SalishSea_1h_*_grid_V.nc\n",
      "/results2/SalishSea/hindcast.201812_annex/24aug17/SalishSea_1h_*_grid_V.nc\n",
      "/results2/SalishSea/hindcast.201812_annex/04nov17/SalishSea_1h_*_grid_V.nc\n",
      "/results2/SalishSea/hindcast.201812_annex/09dec17/SalishSea_1h_*_grid_V.nc\n",
      "/results2/SalishSea/hindcast.201812_annex/14feb17/SalishSea_1h_*_grid_V.nc\n",
      "/results2/SalishSea/hindcast.201812_annex/26mar17/SalishSea_1h_*_grid_V.nc\n",
      "/results2/SalishSea/hindcast.201812_annex/02jun17/SalishSea_1h_*_grid_V.nc\n",
      "/results2/SalishSea/hindcast.201812_annex/15sep17/SalishSea_1h_*_grid_V.nc\n",
      "/results2/SalishSea/hindcast.201812_annex/02may17/SalishSea_1h_*_grid_V.nc\n",
      "/results2/SalishSea/hindcast.201812_annex/06jun17/SalishSea_1h_*_grid_V.nc\n",
      "/results2/SalishSea/hindcast.201812_annex/12aug17/SalishSea_1h_*_grid_V.nc\n",
      "/results2/SalishSea/hindcast.201812_annex/04apr17/SalishSea_1h_*_grid_V.nc\n",
      "/results2/SalishSea/hindcast.201812_annex/22apr17/SalishSea_1h_*_grid_V.nc\n",
      "/results2/SalishSea/hindcast.201812_annex/25nov17/SalishSea_1h_*_grid_V.nc\n",
      "/results2/SalishSea/hindcast.201812_annex/20oct17/SalishSea_1h_*_grid_V.nc\n",
      "/results2/SalishSea/hindcast.201812_annex/13sep17/SalishSea_1h_*_grid_V.nc\n",
      "/results2/SalishSea/hindcast.201812_annex/02jul17/SalishSea_1h_*_grid_V.nc\n",
      "/results2/SalishSea/hindcast.201812_annex/06jul17/SalishSea_1h_*_grid_V.nc\n",
      "/results2/SalishSea/hindcast.201812_annex/10may17/SalishSea_1h_*_grid_V.nc\n",
      "/results2/SalishSea/hindcast.201812_annex/19jul17/SalishSea_1h_*_grid_V.nc\n",
      "/results2/SalishSea/hindcast.201812_annex/23jul17/SalishSea_1h_*_grid_V.nc\n",
      "/results2/SalishSea/hindcast.201812_annex/13jul17/SalishSea_1h_*_grid_V.nc\n",
      "/results2/SalishSea/hindcast.201812_annex/18aug17/SalishSea_1h_*_grid_V.nc\n",
      "/results2/SalishSea/hindcast.201812_annex/12apr17/SalishSea_1h_*_grid_V.nc\n",
      "/results2/SalishSea/hindcast.201812_annex/19mar17/SalishSea_1h_*_grid_V.nc\n",
      "/results2/SalishSea/hindcast.201812_annex/06aug17/SalishSea_1h_*_grid_V.nc\n",
      "/results2/SalishSea/hindcast.201812_annex/28dec17/SalishSea_1h_*_grid_V.nc\n",
      "/results2/SalishSea/hindcast.201812_annex/10nov17/SalishSea_1h_*_grid_V.nc\n",
      "/results2/SalishSea/hindcast.201812_annex/05dec17/SalishSea_1h_*_grid_V.nc\n",
      "/results2/SalishSea/hindcast.201812_annex/31mar17/SalishSea_1h_*_grid_V.nc\n",
      "/results2/SalishSea/hindcast.201812_annex/25apr17/SalishSea_1h_*_grid_V.nc\n",
      "/results2/SalishSea/hindcast.201812_annex/10sep17/SalishSea_1h_*_grid_V.nc\n",
      "/results2/SalishSea/hindcast.201812_annex/30jul17/SalishSea_1h_*_grid_V.nc\n",
      "/results2/SalishSea/hindcast.201812_annex/23dec17/SalishSea_1h_*_grid_V.nc\n",
      "/results2/SalishSea/hindcast.201812_annex/10jul17/SalishSea_1h_*_grid_V.nc\n",
      "/results2/SalishSea/hindcast.201812_annex/12dec17/SalishSea_1h_*_grid_V.nc\n",
      "/results2/SalishSea/hindcast.201812_annex/09apr17/SalishSea_1h_*_grid_V.nc\n",
      "/results2/SalishSea/hindcast.201812_annex/31aug17/SalishSea_1h_*_grid_V.nc\n",
      "/results2/SalishSea/hindcast.201812_annex/15jan17/SalishSea_1h_*_grid_V.nc\n",
      "/results2/SalishSea/hindcast.201812_annex/17aug17/SalishSea_1h_*_grid_V.nc\n",
      "/results2/SalishSea/hindcast.201812_annex/23feb17/SalishSea_1h_*_grid_V.nc\n",
      "/results2/SalishSea/hindcast.201812_annex/30jan17/SalishSea_1h_*_grid_V.nc\n",
      "/results2/SalishSea/hindcast.201812_annex/23oct17/SalishSea_1h_*_grid_V.nc\n",
      "/results2/SalishSea/hindcast.201812_annex/26jul17/SalishSea_1h_*_grid_V.nc\n",
      "/results2/SalishSea/hindcast.201812_annex/24feb17/SalishSea_1h_*_grid_V.nc\n",
      "/results2/SalishSea/hindcast.201812_annex/03aug17/SalishSea_1h_*_grid_V.nc\n",
      "/results2/SalishSea/hindcast.201812_annex/24sep17/SalishSea_1h_*_grid_V.nc\n",
      "/results2/SalishSea/hindcast.201812_annex/17jun17/SalishSea_1h_*_grid_V.nc\n",
      "/results2/SalishSea/hindcast.201812_annex/08jan17/SalishSea_1h_*_grid_V.nc\n",
      "/results2/SalishSea/hindcast.201812_annex/03oct17/SalishSea_1h_*_grid_V.nc\n",
      "/results2/SalishSea/hindcast.201812_annex/04dec17/SalishSea_1h_*_grid_V.nc\n",
      "/results2/SalishSea/hindcast.201812_annex/30nov17/SalishSea_1h_*_grid_V.nc\n",
      "/results2/SalishSea/hindcast.201812_annex/15mar17/SalishSea_1h_*_grid_V.nc\n",
      "/results2/SalishSea/hindcast.201812_annex/24apr17/SalishSea_1h_*_grid_V.nc\n",
      "/results2/SalishSea/hindcast.201812_annex/21nov17/SalishSea_1h_*_grid_V.nc\n",
      "/results2/SalishSea/hindcast.201812_annex/02aug17/SalishSea_1h_*_grid_V.nc\n",
      "/results2/SalishSea/hindcast.201812_annex/21apr17/SalishSea_1h_*_grid_V.nc\n",
      "/results2/SalishSea/hindcast.201812_annex/02nov17/SalishSea_1h_*_grid_V.nc\n",
      "/results2/SalishSea/hindcast.201812_annex/03jul17/SalishSea_1h_*_grid_V.nc\n",
      "/results2/SalishSea/hindcast.201812_annex/18apr17/SalishSea_1h_*_grid_V.nc\n",
      "/results2/SalishSea/hindcast.201812_annex/26jun17/SalishSea_1h_*_grid_V.nc\n",
      "/results2/SalishSea/hindcast.201812_annex/25aug17/SalishSea_1h_*_grid_V.nc\n",
      "/results2/SalishSea/hindcast.201812_annex/04sep17/SalishSea_1h_*_grid_V.nc\n",
      "/results2/SalishSea/hindcast.201812_annex/27apr17/SalishSea_1h_*_grid_V.nc\n",
      "/results2/SalishSea/hindcast.201812_annex/22jun17/SalishSea_1h_*_grid_V.nc\n",
      "/results2/SalishSea/hindcast.201812_annex/27jul17/SalishSea_1h_*_grid_V.nc\n",
      "/results2/SalishSea/hindcast.201812_annex/27jun17/SalishSea_1h_*_grid_V.nc\n",
      "/results2/SalishSea/hindcast.201812_annex/06may17/SalishSea_1h_*_grid_V.nc\n",
      "/results2/SalishSea/hindcast.201812_annex/13aug17/SalishSea_1h_*_grid_V.nc\n",
      "/results2/SalishSea/hindcast.201812_annex/10jan17/SalishSea_1h_*_grid_V.nc\n",
      "/results2/SalishSea/hindcast.201812_annex/23jun17/SalishSea_1h_*_grid_V.nc\n",
      "/results2/SalishSea/hindcast.201812_annex/31jan17/SalishSea_1h_*_grid_V.nc\n",
      "/results2/SalishSea/hindcast.201812_annex/02dec17/SalishSea_1h_*_grid_V.nc\n",
      "/results2/SalishSea/hindcast.201812_annex/17sep17/SalishSea_1h_*_grid_V.nc\n",
      "/results2/SalishSea/hindcast.201812_annex/07mar17/SalishSea_1h_*_grid_V.nc\n",
      "/results2/SalishSea/hindcast.201812_annex/30sep17/SalishSea_1h_*_grid_V.nc\n",
      "/results2/SalishSea/hindcast.201812_annex/25may17/SalishSea_1h_*_grid_V.nc\n",
      "/results2/SalishSea/hindcast.201812_annex/19feb17/SalishSea_1h_*_grid_V.nc\n",
      "/results2/SalishSea/hindcast.201812_annex/02mar17/SalishSea_1h_*_grid_V.nc\n",
      "/results2/SalishSea/hindcast.201812_annex/24mar17/SalishSea_1h_*_grid_V.nc\n",
      "/results2/SalishSea/hindcast.201812_annex/07oct17/SalishSea_1h_*_grid_V.nc\n",
      "/results2/SalishSea/hindcast.201812_annex/22feb17/SalishSea_1h_*_grid_V.nc\n",
      "/results2/SalishSea/hindcast.201812_annex/09sep17/SalishSea_1h_*_grid_V.nc\n",
      "/results2/SalishSea/hindcast.201812_annex/12jun17/SalishSea_1h_*_grid_V.nc\n",
      "/results2/SalishSea/hindcast.201812_annex/09jan17/SalishSea_1h_*_grid_V.nc\n",
      "/results2/SalishSea/hindcast.201812_annex/08dec17/SalishSea_1h_*_grid_V.nc\n",
      "/results2/SalishSea/hindcast.201812_annex/29nov17/SalishSea_1h_*_grid_V.nc\n",
      "/results2/SalishSea/hindcast.201812_annex/16sep17/SalishSea_1h_*_grid_V.nc\n",
      "/results2/SalishSea/hindcast.201812_annex/08may17/SalishSea_1h_*_grid_V.nc\n",
      "/results2/SalishSea/hindcast.201812_annex/01oct17/SalishSea_1h_*_grid_V.nc\n",
      "/results2/SalishSea/hindcast.201812_annex/18oct17/SalishSea_1h_*_grid_V.nc\n",
      "/results2/SalishSea/hindcast.201812_annex/21jul17/SalishSea_1h_*_grid_V.nc\n",
      "/results2/SalishSea/hindcast.201812_annex/31may17/SalishSea_1h_*_grid_V.nc\n",
      "/results2/SalishSea/hindcast.201812_annex/03dec17/SalishSea_1h_*_grid_V.nc\n",
      "/results2/SalishSea/hindcast.201812_annex/08jun17/SalishSea_1h_*_grid_V.nc\n",
      "/results2/SalishSea/hindcast.201812_annex/09feb17/SalishSea_1h_*_grid_V.nc\n",
      "/results2/SalishSea/hindcast.201812_annex/14may17/SalishSea_1h_*_grid_V.nc\n",
      "/results2/SalishSea/hindcast.201812_annex/28jun17/SalishSea_1h_*_grid_V.nc\n",
      "/results2/SalishSea/hindcast.201812_annex/07jan17/SalishSea_1h_*_grid_V.nc\n",
      "/results2/SalishSea/hindcast.201812_annex/13apr17/SalishSea_1h_*_grid_V.nc\n",
      "/results2/SalishSea/hindcast.201812_annex/28nov17/SalishSea_1h_*_grid_V.nc\n",
      "/results2/SalishSea/hindcast.201812_annex/30may17/SalishSea_1h_*_grid_V.nc\n",
      "/results2/SalishSea/hindcast.201812_annex/07dec17/SalishSea_1h_*_grid_V.nc\n",
      "/results2/SalishSea/hindcast.201812_annex/13dec17/SalishSea_1h_*_grid_V.nc\n",
      "/results2/SalishSea/hindcast.201812_annex/16jan17/SalishSea_1h_*_grid_V.nc\n",
      "/results2/SalishSea/hindcast.201812_annex/29jul17/SalishSea_1h_*_grid_V.nc\n",
      "/results2/SalishSea/hindcast.201812_annex/16nov17/SalishSea_1h_*_grid_V.nc\n",
      "/results2/SalishSea/hindcast.201812_annex/31dec17/SalishSea_1h_*_grid_V.nc\n",
      "/results2/SalishSea/hindcast.201812_annex/09aug17/SalishSea_1h_*_grid_V.nc\n",
      "/results2/SalishSea/hindcast.201812_annex/05jun17/SalishSea_1h_*_grid_V.nc\n",
      "/results2/SalishSea/hindcast.201812_annex/29sep17/SalishSea_1h_*_grid_V.nc\n",
      "/results2/SalishSea/hindcast.201812_annex/20jan17/SalishSea_1h_*_grid_V.nc\n",
      "/results2/SalishSea/hindcast.201812_annex/17feb17/SalishSea_1h_*_grid_V.nc\n",
      "/results2/SalishSea/hindcast.201812_annex/15jul17/SalishSea_1h_*_grid_V.nc\n",
      "/results2/SalishSea/hindcast.201812_annex/16jun17/SalishSea_1h_*_grid_V.nc\n",
      "/results2/SalishSea/hindcast.201812_annex/29apr17/SalishSea_1h_*_grid_V.nc\n",
      "/results2/SalishSea/hindcast.201812_annex/06apr17/SalishSea_1h_*_grid_V.nc\n",
      "/results2/SalishSea/hindcast.201812_annex/23nov17/SalishSea_1h_*_grid_V.nc\n",
      "/results2/SalishSea/hindcast.201812_annex/11nov17/SalishSea_1h_*_grid_V.nc\n",
      "/results2/SalishSea/hindcast.201812_annex/15aug17/SalishSea_1h_*_grid_V.nc\n",
      "/results2/SalishSea/hindcast.201812_annex/09jun17/SalishSea_1h_*_grid_V.nc\n",
      "/results2/SalishSea/hindcast.201812_annex/07apr17/SalishSea_1h_*_grid_V.nc\n",
      "/results2/SalishSea/hindcast.201812_annex/16oct17/SalishSea_1h_*_grid_V.nc\n",
      "/results2/SalishSea/hindcast.201812_annex/25feb17/SalishSea_1h_*_grid_V.nc\n",
      "/results2/SalishSea/hindcast.201812_annex/02oct17/SalishSea_1h_*_grid_V.nc\n",
      "/results2/SalishSea/hindcast.201812_annex/19apr17/SalishSea_1h_*_grid_V.nc\n",
      "/results2/SalishSea/hindcast.201812_annex/26feb17/SalishSea_1h_*_grid_V.nc\n",
      "/results2/SalishSea/hindcast.201812_annex/15feb17/SalishSea_1h_*_grid_V.nc\n",
      "/results2/SalishSea/hindcast.201812_annex/03mar17/SalishSea_1h_*_grid_V.nc\n",
      "/results2/SalishSea/hindcast.201812_annex/27dec17/SalishSea_1h_*_grid_V.nc\n",
      "/results2/SalishSea/hindcast.201812_annex/03apr17/SalishSea_1h_*_grid_V.nc\n",
      "/results2/SalishSea/hindcast.201812_annex/01jan17/SalishSea_1h_*_grid_V.nc\n",
      "/results2/SalishSea/hindcast.201812_annex/17mar17/SalishSea_1h_*_grid_V.nc\n",
      "/results2/SalishSea/hindcast.201812_annex/01feb17/SalishSea_1h_*_grid_V.nc\n",
      "/results2/SalishSea/hindcast.201812_annex/16dec17/SalishSea_1h_*_grid_V.nc\n",
      "/results2/SalishSea/hindcast.201812_annex/15may17/SalishSea_1h_*_grid_V.nc\n",
      "/results2/SalishSea/hindcast.201812_annex/17nov17/SalishSea_1h_*_grid_V.nc\n",
      "/results2/SalishSea/hindcast.201812_annex/05oct17/SalishSea_1h_*_grid_V.nc\n",
      "/results2/SalishSea/hindcast.201812_annex/26may17/SalishSea_1h_*_grid_V.nc\n",
      "/results2/SalishSea/hindcast.201812_annex/22may17/SalishSea_1h_*_grid_V.nc\n",
      "/results2/SalishSea/hindcast.201812_annex/02jan17/SalishSea_1h_*_grid_V.nc\n",
      "/results2/SalishSea/hindcast.201812_annex/09mar17/SalishSea_1h_*_grid_V.nc\n",
      "/results2/SalishSea/hindcast.201812_annex/27mar17/SalishSea_1h_*_grid_V.nc\n",
      "/results2/SalishSea/hindcast.201812_annex/15jun17/SalishSea_1h_*_grid_V.nc\n",
      "/results2/SalishSea/hindcast.201812_annex/26nov17/SalishSea_1h_*_grid_V.nc\n",
      "/results2/SalishSea/hindcast.201812_annex/18mar17/SalishSea_1h_*_grid_V.nc\n",
      "/results2/SalishSea/hindcast.201812_annex/29mar17/SalishSea_1h_*_grid_V.nc\n",
      "/results2/SalishSea/hindcast.201812_annex/18jul17/SalishSea_1h_*_grid_V.nc\n",
      "/results2/SalishSea/hindcast.201812_annex/22dec17/SalishSea_1h_*_grid_V.nc\n",
      "/results2/SalishSea/hindcast.201812_annex/11dec17/SalishSea_1h_*_grid_V.nc\n",
      "/results2/SalishSea/hindcast.201812_annex/30apr17/SalishSea_1h_*_grid_V.nc\n",
      "/results2/SalishSea/hindcast.201812_annex/12jul17/SalishSea_1h_*_grid_V.nc\n",
      "/results2/SalishSea/hindcast.201812_annex/15nov17/SalishSea_1h_*_grid_V.nc\n",
      "/results2/SalishSea/hindcast.201812_annex/13oct17/SalishSea_1h_*_grid_V.nc\n",
      "/results2/SalishSea/hindcast.201812_annex/20dec17/SalishSea_1h_*_grid_V.nc\n",
      "/results2/SalishSea/hindcast.201812_annex/18dec17/SalishSea_1h_*_grid_V.nc\n",
      "/results2/SalishSea/hindcast.201812_annex/23jan17/SalishSea_1h_*_grid_V.nc\n",
      "/results2/SalishSea/hindcast.201812_annex/09jul17/SalishSea_1h_*_grid_V.nc\n",
      "/results2/SalishSea/hindcast.201812_annex/14oct17/SalishSea_1h_*_grid_V.nc\n",
      "/results2/SalishSea/hindcast.201812_annex/27sep17/SalishSea_1h_*_grid_V.nc\n",
      "/results2/SalishSea/hindcast.201812_annex/14apr17/SalishSea_1h_*_grid_V.nc\n",
      "/results2/SalishSea/hindcast.201812_annex/14nov17/SalishSea_1h_*_grid_V.nc\n",
      "/results2/SalishSea/hindcast.201812_annex/06jan17/SalishSea_1h_*_grid_V.nc\n",
      "/results2/SalishSea/hindcast.201812_annex/16feb17/SalishSea_1h_*_grid_V.nc\n",
      "/results2/SalishSea/hindcast.201812_annex/08aug17/SalishSea_1h_*_grid_V.nc\n",
      "/results2/SalishSea/hindcast.201812_annex/13jun17/SalishSea_1h_*_grid_V.nc\n",
      "/results2/SalishSea/hindcast.201812_annex/25sep17/SalishSea_1h_*_grid_V.nc\n",
      "/results2/SalishSea/hindcast.201812_annex/07nov17/SalishSea_1h_*_grid_V.nc\n",
      "/results2/SalishSea/hindcast.201812_annex/09nov17/SalishSea_1h_*_grid_V.nc\n",
      "/results2/SalishSea/hindcast.201812_annex/14jun17/SalishSea_1h_*_grid_V.nc\n",
      "/results2/SalishSea/hindcast.201812_annex/20jul17/SalishSea_1h_*_grid_V.nc\n",
      "/results2/SalishSea/hindcast.201812_annex/04mar17/SalishSea_1h_*_grid_V.nc\n",
      "/results2/SalishSea/hindcast.201812_annex/13mar17/SalishSea_1h_*_grid_V.nc\n",
      "/results2/SalishSea/hindcast.201812_annex/06mar17/SalishSea_1h_*_grid_V.nc\n",
      "/results2/SalishSea/hindcast.201812_annex/27aug17/SalishSea_1h_*_grid_V.nc\n",
      "/results2/SalishSea/hindcast.201812_annex/01may17/SalishSea_1h_*_grid_V.nc\n",
      "/results2/SalishSea/hindcast.201812_annex/24may17/SalishSea_1h_*_grid_V.nc\n",
      "/results2/SalishSea/hindcast.201812_annex/21dec17/SalishSea_1h_*_grid_V.nc\n",
      "/results2/SalishSea/hindcast.201812_annex/08nov17/SalishSea_1h_*_grid_V.nc\n",
      "/results2/SalishSea/hindcast.201812_annex/30jun17/SalishSea_1h_*_grid_V.nc\n",
      "/results2/SalishSea/hindcast.201812_annex/11jan17/SalishSea_1h_*_grid_V.nc\n",
      "/results2/SalishSea/hindcast.201812_annex/08sep17/SalishSea_1h_*_grid_V.nc\n",
      "/results2/SalishSea/hindcast.201812_annex/13feb17/SalishSea_1h_*_grid_V.nc\n",
      "/results2/SalishSea/hindcast.201812_annex/29dec17/SalishSea_1h_*_grid_V.nc\n",
      "/results2/SalishSea/hindcast.201812_annex/10jun17/SalishSea_1h_*_grid_V.nc\n",
      "/results2/SalishSea/hindcast.201812_annex/17apr17/SalishSea_1h_*_grid_V.nc\n",
      "/results2/SalishSea/hindcast.201812_annex/04jul17/SalishSea_1h_*_grid_V.nc\n",
      "/results2/SalishSea/hindcast.201812_annex/06dec17/SalishSea_1h_*_grid_V.nc\n",
      "/results2/SalishSea/hindcast.201812_annex/19jan17/SalishSea_1h_*_grid_V.nc\n",
      "/results2/SalishSea/hindcast.201812_annex/06feb17/SalishSea_1h_*_grid_V.nc\n",
      "/results2/SalishSea/hindcast.201812_annex/29aug17/SalishSea_1h_*_grid_V.nc\n",
      "/results2/SalishSea/hindcast.201812_annex/01sep17/SalishSea_1h_*_grid_V.nc\n",
      "/results2/SalishSea/hindcast.201812_annex/31jul17/SalishSea_1h_*_grid_V.nc\n",
      "/results2/SalishSea/hindcast.201812_annex/03may17/SalishSea_1h_*_grid_V.nc\n",
      "/results2/SalishSea/hindcast.201812_annex/26oct17/SalishSea_1h_*_grid_V.nc\n",
      "/results2/SalishSea/hindcast.201812_annex/03jan17/SalishSea_1h_*_grid_V.nc\n",
      "/results2/SalishSea/hindcast.201812_annex/30dec17/SalishSea_1h_*_grid_V.nc\n",
      "/results2/SalishSea/hindcast.201812_annex/19jun17/SalishSea_1h_*_grid_V.nc\n",
      "/results2/SalishSea/hindcast.201812_annex/27nov17/SalishSea_1h_*_grid_V.nc\n",
      "/results2/SalishSea/hindcast.201812_annex/21feb17/SalishSea_1h_*_grid_V.nc\n",
      "/results2/SalishSea/hindcast.201812_annex/07jul17/SalishSea_1h_*_grid_V.nc\n",
      "/results2/SalishSea/hindcast.201812_annex/29jun17/SalishSea_1h_*_grid_V.nc\n",
      "/results2/SalishSea/hindcast.201812_annex/21aug17/SalishSea_1h_*_grid_V.nc\n",
      "/results2/SalishSea/hindcast.201812_annex/15oct17/SalishSea_1h_*_grid_V.nc\n",
      "/results2/SalishSea/hindcast.201812_annex/26apr17/SalishSea_1h_*_grid_V.nc\n",
      "/results2/SalishSea/hindcast.201812_annex/29jan17/SalishSea_1h_*_grid_V.nc\n",
      "/results2/SalishSea/hindcast.201812_annex/11jun17/SalishSea_1h_*_grid_V.nc\n",
      "/results2/SalishSea/hindcast.201812_annex/20feb17/SalishSea_1h_*_grid_V.nc\n",
      "/results2/SalishSea/hindcast.201812_annex/05sep17/SalishSea_1h_*_grid_V.nc\n",
      "/results2/SalishSea/hindcast.201812_annex/23may17/SalishSea_1h_*_grid_V.nc\n",
      "/results2/SalishSea/hindcast.201812_annex/17may17/SalishSea_1h_*_grid_V.nc\n",
      "/results2/SalishSea/hindcast.201812_annex/20jun17/SalishSea_1h_*_grid_V.nc\n",
      "/results2/SalishSea/hindcast.201812_annex/21sep17/SalishSea_1h_*_grid_V.nc\n",
      "/results2/SalishSea/hindcast.201812_annex/01dec17/SalishSea_1h_*_grid_V.nc\n",
      "/results2/SalishSea/hindcast.201812_annex/22sep17/SalishSea_1h_*_grid_V.nc\n",
      "/results2/SalishSea/hindcast.201812_annex/28oct17/SalishSea_1h_*_grid_V.nc\n",
      "/results2/SalishSea/hindcast.201812_annex/18may17/SalishSea_1h_*_grid_V.nc\n",
      "/results2/SalishSea/hindcast.201812_annex/07jun17/SalishSea_1h_*_grid_V.nc\n",
      "/results2/SalishSea/hindcast.201812_annex/14jul17/SalishSea_1h_*_grid_V.nc\n",
      "/results2/SalishSea/hindcast.201812_annex/27oct17/SalishSea_1h_*_grid_V.nc\n",
      "/results2/SalishSea/hindcast.201812_annex/15apr17/SalishSea_1h_*_grid_V.nc\n",
      "/results2/SalishSea/hindcast.201812_annex/17oct17/SalishSea_1h_*_grid_V.nc\n",
      "/results2/SalishSea/hindcast.201812_annex/10dec17/SalishSea_1h_*_grid_V.nc\n",
      "/results2/SalishSea/hindcast.201812_annex/13jan17/SalishSea_1h_*_grid_V.nc\n",
      "/results2/SalishSea/hindcast.201812_annex/27jan17/SalishSea_1h_*_grid_V.nc\n",
      "/results2/SalishSea/hindcast.201812_annex/22oct17/SalishSea_1h_*_grid_V.nc\n",
      "/results2/SalishSea/hindcast.201812_annex/11oct17/SalishSea_1h_*_grid_V.nc\n",
      "/results2/SalishSea/hindcast.201812_annex/20apr17/SalishSea_1h_*_grid_V.nc\n",
      "/results2/SalishSea/hindcast.201812_annex/22mar17/SalishSea_1h_*_grid_V.nc\n",
      "/results2/SalishSea/hindcast.201812_annex/06oct17/SalishSea_1h_*_grid_V.nc\n",
      "/results2/SalishSea/hindcast.201812_annex/01mar17/SalishSea_1h_*_grid_V.nc\n",
      "/results2/SalishSea/hindcast.201812_annex/14sep17/SalishSea_1h_*_grid_V.nc\n",
      "/results2/SalishSea/hindcast.201812_annex/06nov17/SalishSea_1h_*_grid_V.nc\n",
      "/results2/SalishSea/hindcast.201812_annex/20may17/SalishSea_1h_*_grid_V.nc\n",
      "/results2/SalishSea/hindcast.201812_annex/18jun17/SalishSea_1h_*_grid_V.nc\n",
      "/results2/SalishSea/hindcast.201812_annex/28sep17/SalishSea_1h_*_grid_V.nc\n",
      "/results2/SalishSea/hindcast.201812_annex/17jan17/SalishSea_1h_*_grid_V.nc\n",
      "/results2/SalishSea/hindcast.201812_annex/26jan17/SalishSea_1h_*_grid_V.nc\n",
      "/results2/SalishSea/hindcast.201812_annex/19sep17/SalishSea_1h_*_grid_V.nc\n",
      "/results2/SalishSea/hindcast.201812_annex/04aug17/SalishSea_1h_*_grid_V.nc\n",
      "/results2/SalishSea/hindcast.201812_annex/05mar17/SalishSea_1h_*_grid_V.nc\n",
      "/results2/SalishSea/hindcast.201812_annex/21jun17/SalishSea_1h_*_grid_V.nc\n",
      "/results2/SalishSea/hindcast.201812_annex/04feb17/SalishSea_1h_*_grid_V.nc\n",
      "/results2/SalishSea/hindcast.201812_annex/10apr17/SalishSea_1h_*_grid_V.nc\n",
      "/results2/SalishSea/hindcast.201812_annex/16may17/SalishSea_1h_*_grid_V.nc\n",
      "/results2/SalishSea/hindcast.201812_annex/04oct17/SalishSea_1h_*_grid_V.nc\n",
      "/results2/SalishSea/hindcast.201812_annex/18sep17/SalishSea_1h_*_grid_V.nc\n",
      "/results2/SalishSea/hindcast.201812_annex/08feb17/SalishSea_1h_*_grid_V.nc\n",
      "/results2/SalishSea/hindcast.201812_annex/14dec17/SalishSea_1h_*_grid_V.nc\n",
      "/results2/SalishSea/hindcast.201812_annex/01jun17/SalishSea_1h_*_grid_V.nc\n",
      "/results2/SalishSea/hindcast.201812_annex/07aug17/SalishSea_1h_*_grid_V.nc\n",
      "/results2/SalishSea/hindcast.201812_annex/28apr17/SalishSea_1h_*_grid_V.nc\n",
      "/results2/SalishSea/hindcast.201812_annex/02sep17/SalishSea_1h_*_grid_V.nc\n",
      "/results2/SalishSea/hindcast.201812_annex/23sep17/SalishSea_1h_*_grid_V.nc\n",
      "/results2/SalishSea/hindcast.201812_annex/05aug17/SalishSea_1h_*_grid_V.nc\n",
      "/results2/SalishSea/hindcast.201812_annex/16apr17/SalishSea_1h_*_grid_V.nc\n",
      "/results2/SalishSea/hindcast.201812_annex/14mar17/SalishSea_1h_*_grid_V.nc\n",
      "/results2/SalishSea/hindcast.201812_annex/30oct17/SalishSea_1h_*_grid_V.nc\n",
      "/results2/SalishSea/hindcast.201812_annex/22aug17/SalishSea_1h_*_grid_V.nc\n",
      "/results2/SalishSea/hindcast.201812_annex/14aug17/SalishSea_1h_*_grid_V.nc\n",
      "/results2/SalishSea/hindcast.201812_annex/10mar17/SalishSea_1h_*_grid_V.nc\n",
      "/results2/SalishSea/hindcast.201812_annex/19nov17/SalishSea_1h_*_grid_V.nc\n",
      "/results2/SalishSea/hindcast.201812_annex/20sep17/SalishSea_1h_*_grid_V.nc\n",
      "/results2/SalishSea/hindcast.201812_annex/04jun17/SalishSea_1h_*_grid_V.nc\n",
      "/results2/SalishSea/hindcast.201812_annex/11feb17/SalishSea_1h_*_grid_V.nc\n",
      "/results2/SalishSea/hindcast.201812_annex/14jan17/SalishSea_1h_*_grid_V.nc\n",
      "/results2/SalishSea/hindcast.201812_annex/25jun17/SalishSea_1h_*_grid_V.nc\n",
      "/results2/SalishSea/hindcast.201812_annex/04jan17/SalishSea_1h_*_grid_V.nc\n",
      "/results2/SalishSea/hindcast.201812_annex/05apr17/SalishSea_1h_*_grid_V.nc\n",
      "/results2/SalishSea/hindcast.201812_annex/02feb17/SalishSea_1h_*_grid_V.nc\n",
      "/results2/SalishSea/hindcast.201812_annex/08mar17/SalishSea_1h_*_grid_V.nc\n",
      "/results2/SalishSea/hindcast.201812_annex/24jun17/SalishSea_1h_*_grid_V.nc\n",
      "/results2/SalishSea/hindcast.201812_annex/24jul17/SalishSea_1h_*_grid_V.nc\n",
      "/results2/SalishSea/hindcast.201812_annex/01apr17/SalishSea_1h_*_grid_V.nc\n",
      "/results2/SalishSea/hindcast.201812_annex/19aug17/SalishSea_1h_*_grid_V.nc\n",
      "/results2/SalishSea/hindcast.201812_annex/03feb17/SalishSea_1h_*_grid_V.nc\n",
      "/results2/SalishSea/hindcast.201812_annex/21may17/SalishSea_1h_*_grid_V.nc\n",
      "/results2/SalishSea/hindcast.201812_annex/28mar17/SalishSea_1h_*_grid_V.nc\n",
      "/results2/SalishSea/hindcast.201812_annex/12mar17/SalishSea_1h_*_grid_V.nc\n",
      "/results2/SalishSea/hindcast.201812_annex/26sep17/SalishSea_1h_*_grid_V.nc\n",
      "/results2/SalishSea/hindcast.201812_annex/23apr17/SalishSea_1h_*_grid_V.nc\n",
      "/results2/SalishSea/hindcast.201812_annex/12may17/SalishSea_1h_*_grid_V.nc\n",
      "/results2/SalishSea/hindcast.201812_annex/04may17/SalishSea_1h_*_grid_V.nc\n",
      "/results2/SalishSea/hindcast.201812_annex/12sep17/SalishSea_1h_*_grid_V.nc\n",
      "/results2/SalishSea/hindcast.201812_annex/25mar17/SalishSea_1h_*_grid_V.nc\n",
      "/results2/SalishSea/hindcast.201812_annex/07may17/SalishSea_1h_*_grid_V.nc\n",
      "/results2/SalishSea/hindcast.201812_annex/21mar17/SalishSea_1h_*_grid_V.nc\n",
      "/results2/SalishSea/hindcast.201812_annex/24oct17/SalishSea_1h_*_grid_V.nc\n",
      "/results2/SalishSea/hindcast.201812_annex/02apr17/SalishSea_1h_*_grid_V.nc\n",
      "/results2/SalishSea/hindcast.201812_annex/28jan17/SalishSea_1h_*_grid_V.nc\n",
      "/results2/SalishSea/hindcast.201812_annex/11sep17/SalishSea_1h_*_grid_V.nc\n",
      "/results2/SalishSea/hindcast.201812_annex/22nov17/SalishSea_1h_*_grid_V.nc\n",
      "/results2/SalishSea/hindcast.201812_annex/22jan17/SalishSea_1h_*_grid_V.nc\n",
      "/results2/SalishSea/hindcast.201812_annex/19oct17/SalishSea_1h_*_grid_V.nc\n",
      "/results2/SalishSea/hindcast.201812_annex/03nov17/SalishSea_1h_*_grid_V.nc\n",
      "/results2/SalishSea/hindcast.201812_annex/27may17/SalishSea_1h_*_grid_V.nc\n",
      "/results2/SalishSea/hindcast.201812_annex/13nov17/SalishSea_1h_*_grid_V.nc\n",
      "/results2/SalishSea/hindcast.201812_annex/08apr17/SalishSea_1h_*_grid_V.nc\n",
      "/results2/SalishSea/hindcast.201812_annex/20mar17/SalishSea_1h_*_grid_V.nc\n",
      "/results2/SalishSea/hindcast.201812_annex/27feb17/SalishSea_1h_*_grid_V.nc\n",
      "/results2/SalishSea/hindcast.201812_annex/09may17/SalishSea_1h_*_grid_V.nc\n",
      "/results2/SalishSea/hindcast.201812_annex/03jun17/SalishSea_1h_*_grid_V.nc\n",
      "/results2/SalishSea/hindcast.201812_annex/01nov17/SalishSea_1h_*_grid_V.nc\n",
      "/results2/SalishSea/hindcast.201812_annex/11may17/SalishSea_1h_*_grid_V.nc\n",
      "/results2/SalishSea/hindcast.201812_annex/29oct17/SalishSea_1h_*_grid_V.nc\n",
      "/results2/SalishSea/hindcast.201812_annex/29may17/SalishSea_1h_*_grid_V.nc\n",
      "/results2/SalishSea/hindcast.201812_annex/07sep17/SalishSea_1h_*_grid_V.nc\n",
      "/results2/SalishSea/hindcast.201812_annex/12feb17/SalishSea_1h_*_grid_V.nc\n",
      "/results2/SalishSea/hindcast.201812_annex/24nov17/SalishSea_1h_*_grid_V.nc\n",
      "/results2/SalishSea/hindcast.201812_annex/25dec17/SalishSea_1h_*_grid_V.nc\n",
      "/results2/SalishSea/hindcast.201812_annex/24dec17/SalishSea_1h_*_grid_V.nc\n",
      "/results2/SalishSea/hindcast.201812_annex/10aug17/SalishSea_1h_*_grid_V.nc\n",
      "/results2/SalishSea/hindcast.201812_annex/11mar17/SalishSea_1h_*_grid_V.nc\n",
      "/results2/SalishSea/hindcast.201812_annex/05nov17/SalishSea_1h_*_grid_V.nc\n",
      "/results2/SalishSea/hindcast.201812_annex/26aug17/SalishSea_1h_*_grid_V.nc\n",
      "/results2/SalishSea/hindcast.201812_annex/11aug17/SalishSea_1h_*_grid_V.nc\n",
      "/results2/SalishSea/hindcast.201812_annex/25oct17/SalishSea_1h_*_grid_V.nc\n",
      "/results2/SalishSea/hindcast.201812_annex/15dec17/SalishSea_1h_*_grid_V.nc\n",
      "/results2/SalishSea/hindcast.201812_annex/16aug17/SalishSea_1h_*_grid_V.nc\n",
      "/results2/SalishSea/hindcast.201812_annex/25jul17/SalishSea_1h_*_grid_V.nc\n",
      "/results2/SalishSea/hindcast.201812_annex/11jul17/SalishSea_1h_*_grid_V.nc\n",
      "/results2/SalishSea/hindcast.201812_annex/10oct17/SalishSea_1h_*_grid_V.nc\n",
      "/results2/SalishSea/hindcast.201812_annex/12jan17/SalishSea_1h_*_grid_V.nc\n",
      "/results2/SalishSea/hindcast.201812_annex/12oct17/SalishSea_1h_*_grid_V.nc\n",
      "/results2/SalishSea/hindcast.201812_annex/19may17/SalishSea_1h_*_grid_V.nc\n",
      "/results2/SalishSea/hindcast.201812_annex/13may17/SalishSea_1h_*_grid_V.nc\n",
      "/results2/SalishSea/hindcast.201812_annex/28may17/SalishSea_1h_*_grid_V.nc\n",
      "/results2/SalishSea/hindcast.201812_annex/20aug17/SalishSea_1h_*_grid_V.nc\n",
      "/results2/SalishSea/hindcast.201812_annex/19dec17/SalishSea_1h_*_grid_V.nc\n",
      "/results2/SalishSea/hindcast.201812_annex/07feb17/SalishSea_1h_*_grid_V.nc\n",
      "/results2/SalishSea/hindcast.201812_annex/28aug17/SalishSea_1h_*_grid_V.nc\n",
      "/results2/SalishSea/hindcast.201812_annex/21jan17/SalishSea_1h_*_grid_V.nc\n",
      "/results2/SalishSea/hindcast.201812_annex/08oct17/SalishSea_1h_*_grid_V.nc\n",
      "/results2/SalishSea/hindcast.201812_annex/18nov17/SalishSea_1h_*_grid_V.nc\n",
      "/results2/SalishSea/hindcast.201812_annex/18jan17/SalishSea_1h_*_grid_V.nc\n",
      "/results2/SalishSea/hindcast.201812_annex/17dec17/SalishSea_1h_*_grid_V.nc\n",
      "/results2/SalishSea/hindcast.201812_annex/30mar17/SalishSea_1h_*_grid_V.nc\n",
      "/results2/SalishSea/hindcast.201812_annex/17jul17/SalishSea_1h_*_grid_V.nc\n",
      "/results2/SalishSea/hindcast.201812_annex/18feb17/SalishSea_1h_*_grid_V.nc\n",
      "/results2/SalishSea/hindcast.201812_annex/12nov17/SalishSea_1h_*_grid_V.nc\n",
      "/results2/SalishSea/hindcast.201812_annex/25jan17/SalishSea_1h_*_grid_V.nc\n",
      "/results2/SalishSea/hindcast.201812_annex/23aug17/SalishSea_1h_*_grid_V.nc\n",
      "/results2/SalishSea/hindcast.201812_annex/16jul17/SalishSea_1h_*_grid_V.nc\n",
      "/results2/SalishSea/hindcast.201812_annex/21oct17/SalishSea_1h_*_grid_V.nc\n",
      "/results2/SalishSea/hindcast.201812_annex/09oct17/SalishSea_1h_*_grid_V.nc\n",
      "/results2/SalishSea/hindcast.201812_annex/22jul17/SalishSea_1h_*_grid_V.nc\n",
      "/results2/SalishSea/hindcast.201812_annex/31oct17/SalishSea_1h_*_grid_V.nc\n",
      "/results2/SalishSea/hindcast.201812_annex/26dec17/SalishSea_1h_*_grid_V.nc\n",
      "/results2/SalishSea/hindcast.201812_annex/28feb17/SalishSea_1h_*_grid_V.nc\n",
      "/results2/SalishSea/hindcast.201812_annex/05jul17/SalishSea_1h_*_grid_V.nc\n",
      "/results2/SalishSea/hindcast.201812_annex/28jul17/SalishSea_1h_*_grid_V.nc\n",
      "/results2/SalishSea/hindcast.201812_annex/08jul17/SalishSea_1h_*_grid_V.nc\n",
      "/results2/SalishSea/hindcast.201812_annex/20nov17/SalishSea_1h_*_grid_V.nc\n",
      "/results2/SalishSea/hindcast.201812_annex/30aug17/SalishSea_1h_*_grid_V.nc\n",
      "/results2/SalishSea/hindcast.201812_annex/23mar17/SalishSea_1h_*_grid_V.nc\n",
      "/results2/SalishSea/hindcast.201812_annex/24jan17/SalishSea_1h_*_grid_V.nc\n",
      "/results2/SalishSea/hindcast.201812_annex/05may17/SalishSea_1h_*_grid_V.nc\n",
      "/results2/SalishSea/hindcast.201812_annex/06sep17/SalishSea_1h_*_grid_V.nc\n",
      "/results2/SalishSea/hindcast.201812_annex/05jan17/SalishSea_1h_*_grid_V.nc\n"
     ]
    }
   ],
   "source": [
    "flux = np.zeros((kmax, jmax-jmin))\n",
    "\n",
    "for directory in glob.glob('/results2/SalishSea/hindcast.201812_annex/?????17'):\n",
    "    vfile = directory + '/SalishSea_1h_*_grid_V.nc'\n",
    "    efile = directory + '/SalishSea_1h_*_carp_T.nc'\n",
    "    vel = glob.glob(vfile)[0]\n",
    "    eee = glob.glob(efile)[0]\n",
    "    print (vfile)\n",
    "    with xr.open_dataset(vel)['vomecrty'] as vdata:\n",
    "        with xr.open_dataset(eee)['e3t'] as edata:\n",
    "            vvel = np.array(vdata[:, :kmax, iii, jmin:jmax])\n",
    "            e3t = np.array(edata[:, :kmax, iii, jmin:jmax])\n",
    "            e3tu = np.array(edata[:, :kmax, iii+1, jmin:jmax])\n",
    "            for jj in range(jmax-jmin):\n",
    "                for kk in range(kmax):\n",
    "                    for tt in range(24):\n",
    "                        e3v = min(e3t[tt, kk, jj], e3tu[tt, kk, jj])\n",
    "                        flux[kk, jj] = flux[kk, jj] + (vvel[tt, kk, jj]*e3v)"
   ]
  },
  {
   "cell_type": "code",
   "execution_count": 92,
   "metadata": {
    "collapsed": false
   },
   "outputs": [
    {
     "name": "stdout",
     "output_type": "stream",
     "text": [
      "(31, 60) 31\n"
     ]
    }
   ],
   "source": [
    "print (flux.shape, kmax)"
   ]
  },
  {
   "cell_type": "code",
   "execution_count": 117,
   "metadata": {
    "collapsed": false
   },
   "outputs": [
    {
     "data": {
      "image/png": "[encoded data removed]",
      "text/plain": [
       "<Figure size 432x288 with 2 Axes>"
      ]
     },
     "metadata": {},
     "output_type": "display_data"
    }
   ],
   "source": [
    "flux_forplot = np.empty_like(flux)\n",
    "for j in range(jmax-jmin):\n",
    "    flux_forplot[:kmax, j] = flux[:kmax, j]/(24*365)/e3t_1d[0, :kmax]\n",
    "plt.pcolormesh(np.arange(60), -gdept_1d[0,:kmax], flux_forplot, cmap='bwr', vmax=0.2, vmin=-0.2 )\n",
    "cb = plt.colorbar()\n",
    "cb.set_label('Mean Velocty (m/s)')"
   ]
  },
  {
   "cell_type": "code",
   "execution_count": 108,
   "metadata": {
    "collapsed": false
   },
   "outputs": [
    {
     "name": "stdout",
     "output_type": "stream",
     "text": [
      "-3270.0913376905514\n"
     ]
    }
   ],
   "source": [
    "print (flux[:, 1:].sum()/24/365*440)"
   ]
  },
  {
   "cell_type": "markdown",
   "metadata": {},
   "source": [
    "3300 m3/s south"
   ]
  },
  {
   "cell_type": "code",
   "execution_count": 178,
   "metadata": {
    "collapsed": false,
    "scrolled": false
   },
   "outputs": [
    {
     "name": "stdout",
     "output_type": "stream",
     "text": [
      "/results2/SalishSea/hindcast.201812_annex/15jan17/SalishSea_1h_*_grid_V.nc\n",
      "/results2/SalishSea/hindcast.201812_annex/30jan17/SalishSea_1h_*_grid_V.nc\n",
      "/results2/SalishSea/hindcast.201812_annex/08jan17/SalishSea_1h_*_grid_V.nc\n",
      "/results2/SalishSea/hindcast.201812_annex/10jan17/SalishSea_1h_*_grid_V.nc\n",
      "/results2/SalishSea/hindcast.201812_annex/31jan17/SalishSea_1h_*_grid_V.nc\n",
      "/results2/SalishSea/hindcast.201812_annex/09jan17/SalishSea_1h_*_grid_V.nc\n",
      "/results2/SalishSea/hindcast.201812_annex/07jan17/SalishSea_1h_*_grid_V.nc\n",
      "/results2/SalishSea/hindcast.201812_annex/16jan17/SalishSea_1h_*_grid_V.nc\n",
      "/results2/SalishSea/hindcast.201812_annex/20jan17/SalishSea_1h_*_grid_V.nc\n",
      "/results2/SalishSea/hindcast.201812_annex/01jan17/SalishSea_1h_*_grid_V.nc\n",
      "/results2/SalishSea/hindcast.201812_annex/02jan17/SalishSea_1h_*_grid_V.nc\n",
      "/results2/SalishSea/hindcast.201812_annex/23jan17/SalishSea_1h_*_grid_V.nc\n",
      "/results2/SalishSea/hindcast.201812_annex/06jan17/SalishSea_1h_*_grid_V.nc\n",
      "/results2/SalishSea/hindcast.201812_annex/11jan17/SalishSea_1h_*_grid_V.nc\n",
      "/results2/SalishSea/hindcast.201812_annex/19jan17/SalishSea_1h_*_grid_V.nc\n",
      "/results2/SalishSea/hindcast.201812_annex/03jan17/SalishSea_1h_*_grid_V.nc\n",
      "/results2/SalishSea/hindcast.201812_annex/29jan17/SalishSea_1h_*_grid_V.nc\n",
      "/results2/SalishSea/hindcast.201812_annex/13jan17/SalishSea_1h_*_grid_V.nc\n",
      "/results2/SalishSea/hindcast.201812_annex/27jan17/SalishSea_1h_*_grid_V.nc\n",
      "/results2/SalishSea/hindcast.201812_annex/17jan17/SalishSea_1h_*_grid_V.nc\n",
      "/results2/SalishSea/hindcast.201812_annex/26jan17/SalishSea_1h_*_grid_V.nc\n",
      "/results2/SalishSea/hindcast.201812_annex/14jan17/SalishSea_1h_*_grid_V.nc\n",
      "/results2/SalishSea/hindcast.201812_annex/04jan17/SalishSea_1h_*_grid_V.nc\n",
      "/results2/SalishSea/hindcast.201812_annex/28jan17/SalishSea_1h_*_grid_V.nc\n",
      "/results2/SalishSea/hindcast.201812_annex/22jan17/SalishSea_1h_*_grid_V.nc\n",
      "/results2/SalishSea/hindcast.201812_annex/12jan17/SalishSea_1h_*_grid_V.nc\n",
      "/results2/SalishSea/hindcast.201812_annex/21jan17/SalishSea_1h_*_grid_V.nc\n",
      "/results2/SalishSea/hindcast.201812_annex/18jan17/SalishSea_1h_*_grid_V.nc\n",
      "/results2/SalishSea/hindcast.201812_annex/25jan17/SalishSea_1h_*_grid_V.nc\n",
      "/results2/SalishSea/hindcast.201812_annex/24jan17/SalishSea_1h_*_grid_V.nc\n",
      "/results2/SalishSea/hindcast.201812_annex/05jan17/SalishSea_1h_*_grid_V.nc\n"
     ]
    }
   ],
   "source": [
    "bern = np.zeros((897, 397))\n",
    "\n",
    "for directory in glob.glob('/results2/SalishSea/hindcast.201812_annex/??jan17'):\n",
    "    uvile = directory + '/SalishSea_1h_*_grid_U.nc'\n",
    "    vfile = directory + '/SalishSea_1h_*_grid_V.nc'\n",
    "    efile = directory + '/SalishSea_1h_*_carp_T.nc'\n",
    "    uel = glob.glob(uvile)[0]\n",
    "    vel = glob.glob(vfile)[0]\n",
    "    eee = glob.glob(efile)[0]\n",
    "    print (vfile)\n",
    "    with xr.open_dataset(uel)['vozocrtx'] as udata:\n",
    "        with xr.open_dataset(vel)['vomecrty'] as vdata:\n",
    "            with xr.open_dataset(eee)['e3t'] as edata:\n",
    "                for tt in range(24):\n",
    "                    uvel = np.array(np.array(udata[tt]) * umask)\n",
    "                    vvel = np.array(np.array(vdata[tt]) * vmask)\n",
    "                    e3t = np.array(edata[tt])\n",
    "                    uu, vv = viz_tools.unstagger(uvel, vvel)\n",
    "                    vuu = (uu* e3t[:, :-1, :-1]).sum(axis=0)/(\n",
    "                        realdepth[:-1, :-1]+(1-tmask[0, :-1, :-1]))*tmask[0, :-1, :-1]\n",
    "                    uvv = (vv * e3t[:, :-1, :-1]).sum(axis=0)/(\n",
    "                        realdepth[:-1, :-1]+(1-tmask[0, :-1, :-1]))*tmask[0, :-1, :-1]\n",
    "                    bern = bern + (vuu**2 + uvv**2)/(2*g)"
   ]
  },
  {
   "cell_type": "code",
   "execution_count": 167,
   "metadata": {
    "collapsed": false
   },
   "outputs": [
    {
     "data": {
      "text/plain": [
       "<matplotlib.colorbar.Colorbar at 0x7f1ffd2c81d0>"
      ]
     },
     "execution_count": 167,
     "metadata": {},
     "output_type": "execute_result"
    },
    {
     "data": {
      "image/png": "[encoded data removed]",
      "text/plain": [
       "<Figure size 360x648 with 2 Axes>"
      ]
     },
     "metadata": {},
     "output_type": "display_data"
    }
   ],
   "source": [
    "fig, ax = plt.subplots(1, 1, figsize=(5, 9))\n",
    "colours = ax.pcolormesh(bern/24./9, cmap='bwr', vmax=0.2)\n",
    "fig.colorbar(colours)"
   ]
  },
  {
   "cell_type": "code",
   "execution_count": 172,
   "metadata": {
    "collapsed": false
   },
   "outputs": [
    {
     "data": {
      "text/plain": [
       "(40, 240)"
      ]
     },
     "execution_count": 172,
     "metadata": {},
     "output_type": "execute_result"
    },
    {
     "data": {
      "image/png": "[encoded data removed]",
      "text/plain": [
       "<Figure size 648x648 with 2 Axes>"
      ]
     },
     "metadata": {},
     "output_type": "display_data"
    }
   ],
   "source": [
    "fig, ax = plt.subplots(1, 1, figsize=(9, 9))\n",
    "colours = ax.pcolormesh(bern/24./9, cmap='bwr', vmax=0.01, vmin=-0.01)\n",
    "fig.colorbar(colours)\n",
    "ax.set_ylim(700, 898)\n",
    "ax.set_xlim(40, 240)"
   ]
  },
  {
   "cell_type": "code",
   "execution_count": 177,
   "metadata": {
    "collapsed": false
   },
   "outputs": [
    {
     "name": "stdout",
     "output_type": "stream",
     "text": [
      "<xarray.DataArray ()>\n",
      "array(0.004241)\n",
      "Coordinates:\n",
      "    y        int64 895\n"
     ]
    }
   ],
   "source": [
    "print (bern[895, :].max()/24/9)"
   ]
  },
  {
   "cell_type": "code",
   "execution_count": null,
   "metadata": {
    "collapsed": true
   },
   "outputs": [],
   "source": []
  }
 ],
 "metadata": {
  "kernelspec": {
   "display_name": "Python 3",
   "language": "python",
   "name": "python3"
  },
  "language_info": {
   "codemirror_mode": {
    "name": "ipython",
    "version": 3
   },
   "file_extension": ".py",
   "mimetype": "text/x-python",
   "name": "python",
   "nbconvert_exporter": "python",
   "pygments_lexer": "ipython3",
   "version": "3.6.5"
  }
 },
 "nbformat": 4,
 "nbformat_minor": 2
}
