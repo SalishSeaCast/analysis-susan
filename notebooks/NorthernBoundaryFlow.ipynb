{
 "cells": [
  {
   "cell_type": "code",
   "execution_count": 4,
   "metadata": {
    "collapsed": false
   },
   "outputs": [],
   "source": [
    "import glob\n",
    "import matplotlib.pyplot as plt\n",
    "import netCDF4 as nc\n",
    "import numpy as np\n",
    "import xarray as xr\n",
    "\n",
    "from salishsea_tools import viz_tools\n",
    "\n",
    "%matplotlib inline"
   ]
  },
  {
   "cell_type": "code",
   "execution_count": 5,
   "metadata": {
    "collapsed": false
   },
   "outputs": [
    {
     "name": "stdout",
     "output_type": "stream",
     "text": [
      "(898, 398) (40, 898, 398)\n"
     ]
    }
   ],
   "source": [
    "bathydata = xr.open_dataset('/home/sallen/MEOPAR/grid/bathymetry_201702.nc')\n",
    "bathy = bathydata['Bathymetry']\n",
    "meshdata = xr.open_dataset('/home/sallen/MEOPAR/grid/mesh_mask201702.nc')\n",
    "gdept_1d = meshdata['gdept_1d']\n",
    "e3t_1d = meshdata['e3t_1d']\n",
    "e3t_0 = meshdata['e3t_0'][0]\n",
    "umask = meshdata['umask'][0]\n",
    "vmask = meshdata['vmask'][0]\n",
    "tmask = meshdata['tmask'][0]\n",
    "realdepthdata = xr.open_dataset('/home/sallen/MEOPAR/grid/AfterNEMOBathy201702.nc')\n",
    "realdepth = realdepthdata['Bathymetry']\n",
    "print (realdepth.shape, e3t_0.shape)\n",
    "\n",
    "g = 9.8"
   ]
  },
  {
   "cell_type": "code",
   "execution_count": 6,
   "metadata": {
    "collapsed": false
   },
   "outputs": [
    {
     "data": {
      "text/plain": [
       "[<matplotlib.lines.Line2D at 0x7f35e7a79cf8>]"
      ]
     },
     "execution_count": 6,
     "metadata": {},
     "output_type": "execute_result"
    },
    {
     "data": {
      "image/png": "[encoded data removed]",
      "text/plain": [
       "<Figure size 432x288 with 2 Axes>"
      ]
     },
     "metadata": {},
     "output_type": "display_data"
    }
   ],
   "source": [
    "bathy[850:890, 30:130].plot()\n",
    "plt.plot([50-30, 110-30], [870-850, 870-850], 'm-')"
   ]
  },
  {
   "cell_type": "markdown",
   "metadata": {},
   "source": [
    "So along 870, from 50 to 110"
   ]
  },
  {
   "cell_type": "code",
   "execution_count": 7,
   "metadata": {
    "collapsed": true
   },
   "outputs": [],
   "source": [
    "iii = 870\n",
    "jmin = 50\n",
    "jmax = 110"
   ]
  },
  {
   "cell_type": "code",
   "execution_count": 8,
   "metadata": {
    "collapsed": false
   },
   "outputs": [
    {
     "name": "stdout",
     "output_type": "stream",
     "text": [
      "121.86651840226745\n"
     ]
    },
    {
     "data": {
      "image/png": "[encoded data removed]",
      "text/plain": [
       "<Figure size 432x288 with 1 Axes>"
      ]
     },
     "metadata": {},
     "output_type": "display_data"
    }
   ],
   "source": [
    "bathy[iii, jmin:jmax].plot()\n",
    "print (gdept_1d.values[0, 27])"
   ]
  },
  {
   "cell_type": "code",
   "execution_count": 9,
   "metadata": {
    "collapsed": false
   },
   "outputs": [
    {
     "data": {
      "text/plain": [
       "<xarray.DataArray ()>\n",
       "array(411545.855272)"
      ]
     },
     "execution_count": 9,
     "metadata": {},
     "output_type": "execute_result"
    }
   ],
   "source": [
    "area = (e3t_0[:, iii, jmin:jmax] * 440 * tmask[:, iii, jmin:jmax]).sum()\n",
    "area"
   ]
  },
  {
   "cell_type": "code",
   "execution_count": 10,
   "metadata": {
    "collapsed": true
   },
   "outputs": [],
   "source": [
    "kmax = 31"
   ]
  },
  {
   "cell_type": "markdown",
   "metadata": {},
   "source": [
    "201812 2016 results are split across results/results2  \n",
    "so use 201806 results in nowcast-green\n",
    "NOPE no e3t so 2017 in results2"
   ]
  },
  {
   "cell_type": "code",
   "execution_count": 24,
   "metadata": {
    "collapsed": false,
    "scrolled": false
   },
   "outputs": [],
   "source": [
    "def find_flux(directories):\n",
    "    icount = 0.\n",
    "    flux = np.zeros((kmax, jmax-jmin))\n",
    "    for directory in glob.glob(directories):\n",
    "        vfile = directory + '/SKOG_1d_*_grid_V*.nc'\n",
    "        for vel in glob.glob(vfile):\n",
    "            eee = vel.replace('grid_V', 'carp_T')\n",
    "            print (icount)\n",
    "            ds = nc.Dataset(vel)\n",
    "            vdata = ds['vomecrty']\n",
    "            vvel = np.array(vdata[0, :kmax, iii, jmin:jmax])\n",
    "            ds.close()\n",
    "            de = nc.Dataset(eee)\n",
    "            edata = de['e3t']\n",
    "            e3t = np.array(edata[0, :kmax, iii, jmin:jmax])\n",
    "            e3tu = np.array(edata[0, :kmax, iii+1, jmin:jmax])\n",
    "            de.close()\n",
    "            for jj in range(jmax-jmin):\n",
    "                for kk in range(kmax):\n",
    "                    e3v = min(e3t[kk, jj], e3tu[kk, jj])\n",
    "                    flux[kk, jj] = flux[kk, jj] + (vvel[kk, jj]*e3v)\n",
    "            icount = icount +1\n",
    "    return flux, icount"
   ]
  },
  {
   "cell_type": "code",
   "execution_count": 25,
   "metadata": {
    "collapsed": false
   },
   "outputs": [
    {
     "name": "stdout",
     "output_type": "stream",
     "text": [
      "0.0\n",
      "1.0\n",
      "2.0\n",
      "3.0\n",
      "4.0\n",
      "5.0\n",
      "6.0\n",
      "7.0\n",
      "8.0\n",
      "9.0\n",
      "10.0\n",
      "11.0\n",
      "12.0\n",
      "13.0\n",
      "14.0\n",
      "15.0\n",
      "16.0\n",
      "17.0\n",
      "18.0\n",
      "19.0\n",
      "20.0\n",
      "21.0\n",
      "22.0\n",
      "23.0\n",
      "24.0\n",
      "25.0\n",
      "26.0\n",
      "27.0\n",
      "28.0\n",
      "29.0\n",
      "30.0\n",
      "31.0\n",
      "32.0\n",
      "33.0\n",
      "34.0\n",
      "35.0\n",
      "36.0\n",
      "37.0\n",
      "38.0\n",
      "39.0\n",
      "40.0\n",
      "41.0\n",
      "42.0\n",
      "43.0\n",
      "44.0\n",
      "45.0\n",
      "46.0\n",
      "47.0\n",
      "48.0\n",
      "49.0\n",
      "50.0\n",
      "51.0\n",
      "52.0\n",
      "53.0\n",
      "54.0\n",
      "55.0\n",
      "56.0\n",
      "57.0\n",
      "58.0\n",
      "59.0\n",
      "60.0\n",
      "61.0\n",
      "62.0\n",
      "63.0\n",
      "64.0\n",
      "65.0\n",
      "66.0\n",
      "67.0\n",
      "68.0\n",
      "69.0\n",
      "70.0\n",
      "71.0\n",
      "72.0\n",
      "73.0\n",
      "74.0\n",
      "75.0\n",
      "76.0\n",
      "77.0\n",
      "78.0\n",
      "79.0\n",
      "80.0\n",
      "81.0\n",
      "82.0\n",
      "83.0\n",
      "84.0\n",
      "85.0\n",
      "86.0\n",
      "87.0\n",
      "88.0\n",
      "89.0\n",
      "90.0\n",
      "91.0\n",
      "92.0\n",
      "93.0\n",
      "94.0\n",
      "95.0\n",
      "96.0\n",
      "97.0\n",
      "98.0\n",
      "99.0\n",
      "100.0\n",
      "101.0\n",
      "102.0\n",
      "103.0\n",
      "104.0\n",
      "105.0\n",
      "106.0\n",
      "107.0\n",
      "108.0\n",
      "109.0\n",
      "110.0\n",
      "111.0\n",
      "112.0\n",
      "113.0\n",
      "114.0\n",
      "115.0\n",
      "116.0\n",
      "117.0\n",
      "118.0\n",
      "119.0\n",
      "120.0\n",
      "121.0\n",
      "122.0\n",
      "123.0\n",
      "124.0\n",
      "125.0\n",
      "126.0\n",
      "127.0\n",
      "128.0\n",
      "129.0\n",
      "130.0\n",
      "131.0\n",
      "132.0\n",
      "133.0\n",
      "134.0\n",
      "135.0\n",
      "136.0\n",
      "137.0\n",
      "138.0\n",
      "139.0\n",
      "140.0\n",
      "141.0\n",
      "142.0\n",
      "143.0\n",
      "144.0\n",
      "145.0\n",
      "146.0\n",
      "147.0\n",
      "148.0\n",
      "149.0\n",
      "150.0\n",
      "151.0\n",
      "152.0\n",
      "153.0\n",
      "154.0\n",
      "155.0\n",
      "156.0\n",
      "157.0\n",
      "158.0\n",
      "159.0\n",
      "160.0\n",
      "161.0\n",
      "162.0\n",
      "163.0\n",
      "164.0\n",
      "165.0\n",
      "166.0\n",
      "167.0\n",
      "168.0\n",
      "169.0\n",
      "170.0\n",
      "171.0\n",
      "172.0\n",
      "173.0\n",
      "174.0\n",
      "175.0\n",
      "176.0\n",
      "177.0\n",
      "178.0\n",
      "179.0\n",
      "180.0\n",
      "181.0\n",
      "182.0\n",
      "183.0\n",
      "184.0\n",
      "185.0\n",
      "186.0\n",
      "187.0\n",
      "188.0\n",
      "189.0\n",
      "190.0\n",
      "191.0\n",
      "192.0\n",
      "193.0\n",
      "194.0\n",
      "195.0\n",
      "196.0\n",
      "197.0\n",
      "198.0\n",
      "199.0\n",
      "200.0\n",
      "201.0\n",
      "202.0\n",
      "203.0\n",
      "204.0\n",
      "205.0\n",
      "206.0\n",
      "207.0\n",
      "208.0\n",
      "209.0\n",
      "210.0\n",
      "211.0\n",
      "212.0\n",
      "213.0\n",
      "214.0\n",
      "215.0\n",
      "216.0\n",
      "217.0\n",
      "218.0\n",
      "219.0\n",
      "220.0\n",
      "221.0\n",
      "222.0\n",
      "223.0\n",
      "224.0\n",
      "225.0\n",
      "226.0\n",
      "227.0\n",
      "228.0\n",
      "229.0\n",
      "230.0\n",
      "231.0\n",
      "232.0\n",
      "233.0\n",
      "234.0\n",
      "235.0\n",
      "236.0\n",
      "237.0\n",
      "238.0\n",
      "239.0\n",
      "240.0\n",
      "241.0\n",
      "242.0\n",
      "243.0\n",
      "244.0\n",
      "245.0\n",
      "246.0\n",
      "247.0\n",
      "248.0\n",
      "249.0\n",
      "250.0\n",
      "251.0\n",
      "252.0\n",
      "253.0\n",
      "254.0\n",
      "255.0\n",
      "256.0\n",
      "257.0\n",
      "258.0\n",
      "259.0\n",
      "260.0\n",
      "261.0\n",
      "262.0\n",
      "263.0\n",
      "264.0\n",
      "265.0\n",
      "266.0\n",
      "267.0\n",
      "268.0\n",
      "269.0\n",
      "270.0\n",
      "271.0\n",
      "272.0\n",
      "273.0\n",
      "274.0\n",
      "275.0\n",
      "276.0\n",
      "277.0\n",
      "278.0\n",
      "279.0\n",
      "280.0\n",
      "281.0\n",
      "282.0\n",
      "283.0\n",
      "284.0\n",
      "285.0\n",
      "286.0\n",
      "287.0\n",
      "288.0\n",
      "289.0\n",
      "290.0\n",
      "291.0\n",
      "292.0\n",
      "293.0\n",
      "294.0\n",
      "295.0\n",
      "296.0\n",
      "297.0\n",
      "298.0\n",
      "299.0\n",
      "300.0\n",
      "301.0\n",
      "302.0\n",
      "303.0\n",
      "304.0\n",
      "305.0\n",
      "306.0\n",
      "307.0\n",
      "308.0\n",
      "309.0\n",
      "310.0\n",
      "311.0\n",
      "312.0\n",
      "313.0\n",
      "314.0\n",
      "315.0\n",
      "316.0\n",
      "317.0\n",
      "318.0\n",
      "319.0\n",
      "320.0\n",
      "321.0\n",
      "322.0\n",
      "323.0\n",
      "324.0\n",
      "325.0\n",
      "326.0\n",
      "327.0\n",
      "328.0\n",
      "329.0\n",
      "330.0\n",
      "331.0\n",
      "332.0\n",
      "333.0\n",
      "334.0\n",
      "335.0\n",
      "336.0\n",
      "337.0\n",
      "338.0\n",
      "339.0\n",
      "340.0\n",
      "341.0\n",
      "342.0\n",
      "343.0\n",
      "344.0\n",
      "345.0\n",
      "346.0\n",
      "347.0\n",
      "348.0\n",
      "349.0\n",
      "350.0\n",
      "351.0\n",
      "352.0\n",
      "353.0\n",
      "354.0\n",
      "355.0\n",
      "356.0\n",
      "357.0\n",
      "358.0\n",
      "359.0\n",
      "360.0\n",
      "361.0\n",
      "362.0\n",
      "363.0\n",
      "364.0\n",
      "365.0\n",
      "366.0\n"
     ]
    }
   ],
   "source": [
    "flux, icount = find_flux('/data/sallen/results/MEOPAR/SKOG/BR_2016_lessSSH_*')"
   ]
  },
  {
   "cell_type": "code",
   "execution_count": 26,
   "metadata": {
    "collapsed": false
   },
   "outputs": [
    {
     "name": "stdout",
     "output_type": "stream",
     "text": [
      "(31, 60) 31\n"
     ]
    }
   ],
   "source": [
    "print (flux.shape, kmax)"
   ]
  },
  {
   "cell_type": "code",
   "execution_count": 27,
   "metadata": {
    "collapsed": false,
    "scrolled": true
   },
   "outputs": [
    {
     "data": {
      "image/png": "[encoded data removed]",
      "text/plain": [
       "<Figure size 432x288 with 2 Axes>"
      ]
     },
     "metadata": {},
     "output_type": "display_data"
    }
   ],
   "source": [
    "flux_forplot = np.empty_like(flux)\n",
    "for j in range(jmax-jmin):\n",
    "    flux_forplot[:kmax, j] = flux[:kmax, j]/(366)/e3t_1d[0, :kmax]\n",
    "plt.pcolormesh(np.arange(60), -gdept_1d[0,:kmax], flux_forplot, cmap='bwr', vmax=0.2, vmin=-0.2 )\n",
    "cb = plt.colorbar()\n",
    "cb.set_label('Mean Velocity (m/s)')"
   ]
  },
  {
   "cell_type": "code",
   "execution_count": 30,
   "metadata": {
    "collapsed": false
   },
   "outputs": [
    {
     "name": "stdout",
     "output_type": "stream",
     "text": [
      "1418.585345298406\n",
      "<xarray.DataArray ()>\n",
      "array(0.003447)\n",
      "<xarray.DataArray ()>\n",
      "array(26.803622)  km in 90 days\n"
     ]
    },
    {
     "data": {
      "text/plain": [
       "[<matplotlib.lines.Line2D at 0x7f35e43c0160>]"
      ]
     },
     "execution_count": 30,
     "metadata": {},
     "output_type": "execute_result"
    },
    {
     "data": {
      "image/png": "[encoded data removed]",
      "text/plain": [
       "<Figure size 432x288 with 2 Axes>"
      ]
     },
     "metadata": {},
     "output_type": "display_data"
    }
   ],
   "source": [
    "print (flux[:, 1:].sum()/366*440)\n",
    "print (flux[:, 1:].sum()/366*440/area)\n",
    "print (flux[:, 1:].sum()/366*440/area * 86400 * 90/ 1000, ' km in 90 days')\n",
    "bathy[890-120:890, 30:150].plot()\n",
    "plt.plot([50-30, 110-30], [870-890+120, 870-890+120], 'm-')"
   ]
  },
  {
   "cell_type": "code",
   "execution_count": 43,
   "metadata": {
    "collapsed": false
   },
   "outputs": [
    {
     "data": {
      "text/plain": [
       "[<matplotlib.lines.Line2D at 0x7f35e40ef358>]"
      ]
     },
     "execution_count": 43,
     "metadata": {},
     "output_type": "execute_result"
    },
    {
     "data": {
      "image/png": "[encoded data removed]",
      "text/plain": [
       "<Figure size 432x288 with 2 Axes>"
      ]
     },
     "metadata": {},
     "output_type": "display_data"
    }
   ],
   "source": [
    "bathy[898-40:898, 30:150].plot()\n",
    "plt.plot([45-30, 75-30], [885-898+40, 885-898+40], 'm-')"
   ]
  },
  {
   "cell_type": "code",
   "execution_count": 50,
   "metadata": {
    "collapsed": false
   },
   "outputs": [
    {
     "data": {
      "text/plain": [
       "[<matplotlib.lines.Line2D at 0x7f35e3d41828>]"
      ]
     },
     "execution_count": 50,
     "metadata": {},
     "output_type": "execute_result"
    },
    {
     "data": {
      "image/png": "[encoded data removed]",
      "text/plain": [
       "<Figure size 432x288 with 1 Axes>"
      ]
     },
     "metadata": {},
     "output_type": "display_data"
    }
   ],
   "source": [
    "bathy[868, 55:85].plot()\n",
    "bathy[869, 55:85].plot()\n",
    "bathy[870, 55:85].plot()\n",
    "bathy[871, 55:85].plot()\n",
    "bathy[872, 55:85].plot()\n",
    "\n"
   ]
  },
  {
   "cell_type": "code",
   "execution_count": 52,
   "metadata": {
    "collapsed": false
   },
   "outputs": [
    {
     "data": {
      "text/plain": [
       "[<matplotlib.lines.Line2D at 0x7f35e3c95710>]"
      ]
     },
     "execution_count": 52,
     "metadata": {},
     "output_type": "execute_result"
    },
    {
     "data": {
      "image/png": "[encoded data removed]",
      "text/plain": [
       "<Figure size 432x288 with 1 Axes>"
      ]
     },
     "metadata": {},
     "output_type": "display_data"
    }
   ],
   "source": [
    "bathy[883, 45:75].plot()\n",
    "bathy[884, 45:75].plot(linewidth=2) #884 45:75 \n",
    "bathy[885, 45:75].plot(linewidth=2)\n",
    "bathy[886, 45:75].plot()\n",
    "bathy[887, 45:75].plot()"
   ]
  },
  {
   "cell_type": "code",
   "execution_count": 36,
   "metadata": {
    "collapsed": false
   },
   "outputs": [
    {
     "name": "stdout",
     "output_type": "stream",
     "text": [
      "1630 876.6666666666665 0.5\n",
      "3052.5\n"
     ]
    }
   ],
   "source": [
    "#0.98 gives 3050 m3/s \n",
    "#0.62 given 1420 m3/s\n",
    "print (3050-1420, 3050-(3050-1420)*0.48/0.36, 0.5)\n",
    "print (0.25*(3530+3050+3270+2360))"
   ]
  },
  {
   "cell_type": "markdown",
   "metadata": {},
   "source": [
    "3300 m3/s south"
   ]
  },
  {
   "cell_type": "code",
   "execution_count": null,
   "metadata": {
    "collapsed": false,
    "scrolled": false
   },
   "outputs": [],
   "source": [
    "bern = np.zeros((897, 397))\n",
    "\n",
    "for directory in glob.glob('/results2/SalishSea/hindcast.201812_annex/??jan17'):\n",
    "    uvile = directory + '/SalishSea_1h_*_grid_U.nc'\n",
    "    vfile = directory + '/SalishSea_1h_*_grid_V.nc'\n",
    "    efile = directory + '/SalishSea_1h_*_carp_T.nc'\n",
    "    uel = glob.glob(uvile)[0]\n",
    "    vel = glob.glob(vfile)[0]\n",
    "    eee = glob.glob(efile)[0]\n",
    "    print (vfile)\n",
    "    with xr.open_dataset(uel)['vozocrtx'] as udata:\n",
    "        with xr.open_dataset(vel)['vomecrty'] as vdata:\n",
    "            with xr.open_dataset(eee)['e3t'] as edata:\n",
    "                for tt in range(24):\n",
    "                    uvel = np.array(np.array(udata[tt]) * umask)\n",
    "                    vvel = np.array(np.array(vdata[tt]) * vmask)\n",
    "                    e3t = np.array(edata[tt])\n",
    "                    uu, vv = viz_tools.unstagger(uvel, vvel)\n",
    "                    vuu = (uu* e3t[:, :-1, :-1]).sum(axis=0)/(\n",
    "                        realdepth[:-1, :-1]+(1-tmask[0, :-1, :-1]))*tmask[0, :-1, :-1]\n",
    "                    uvv = (vv * e3t[:, :-1, :-1]).sum(axis=0)/(\n",
    "                        realdepth[:-1, :-1]+(1-tmask[0, :-1, :-1]))*tmask[0, :-1, :-1]\n",
    "                    bern = bern + (vuu**2 + uvv**2)/(2*g)"
   ]
  },
  {
   "cell_type": "code",
   "execution_count": null,
   "metadata": {
    "collapsed": false
   },
   "outputs": [],
   "source": [
    "fig, ax = plt.subplots(1, 1, figsize=(5, 9))\n",
    "colours = ax.pcolormesh(bern/24./9, cmap='bwr', vmax=0.2)\n",
    "fig.colorbar(colours)"
   ]
  },
  {
   "cell_type": "code",
   "execution_count": null,
   "metadata": {
    "collapsed": false
   },
   "outputs": [],
   "source": [
    "fig, ax = plt.subplots(1, 1, figsize=(9, 9))\n",
    "colours = ax.pcolormesh(bern/24./9, cmap='bwr', vmax=0.01, vmin=-0.01)\n",
    "fig.colorbar(colours)\n",
    "ax.set_ylim(700, 898)\n",
    "ax.set_xlim(40, 240)"
   ]
  },
  {
   "cell_type": "code",
   "execution_count": null,
   "metadata": {
    "collapsed": false
   },
   "outputs": [],
   "source": [
    "print (bern[895, :].max()/24/9)"
   ]
  },
  {
   "cell_type": "code",
   "execution_count": null,
   "metadata": {
    "collapsed": true
   },
   "outputs": [],
   "source": []
  }
 ],
 "metadata": {
  "kernelspec": {
   "display_name": "Python 3",
   "language": "python",
   "name": "python3"
  },
  "language_info": {
   "codemirror_mode": {
    "name": "ipython",
    "version": 3
   },
   "file_extension": ".py",
   "mimetype": "text/x-python",
   "name": "python",
   "nbconvert_exporter": "python",
   "pygments_lexer": "ipython3",
   "version": "3.6.5"
  }
 },
 "nbformat": 4,
 "nbformat_minor": 2
}
