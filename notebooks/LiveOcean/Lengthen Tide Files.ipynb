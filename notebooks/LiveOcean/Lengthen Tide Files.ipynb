{
 "cells": [
  {
   "cell_type": "code",
   "execution_count": 4,
   "metadata": {
    "collapsed": true
   },
   "outputs": [],
   "source": [
    "import matplotlib.pyplot as plt\n",
    "import netCDF4 as nc\n",
    "import numpy as np\n",
    "import xarray as xr\n",
    "\n",
    "%matplotlib inline"
   ]
  },
  {
   "cell_type": "code",
   "execution_count": 5,
   "metadata": {
    "collapsed": true
   },
   "outputs": [],
   "source": [
    "imin = 376 - 1  # want 376\n",
    "imax = 470 # want 470\n",
    "rim = 10\n",
    "nxb = np.arange(imin, imax) + 1"
   ]
  },
  {
   "cell_type": "code",
   "execution_count": 6,
   "metadata": {
    "collapsed": true
   },
   "outputs": [],
   "source": [
    "consts = ['M2', 'S2', 'N2', 'K2', 'K1', 'O1', 'Q1', 'P1']\n",
    "directory = '/home/sallen/MEOPAR/tides/west/'\n",
    "lead = 'SalishSea_N36_AF_west_tide_'\n",
    "endi = '_grid_T.nc'\n",
    "newlead = 'SalishSea_N36_long_west_tide_'"
   ]
  },
  {
   "cell_type": "code",
   "execution_count": 7,
   "metadata": {
    "collapsed": true
   },
   "outputs": [],
   "source": [
    "# was running, fortran, 381 to 467\n",
    "# want to run, 380 to 470 so add one to start and 3 to end\n",
    "addtostart = (381-1) - imin"
   ]
  },
  {
   "cell_type": "code",
   "execution_count": 11,
   "metadata": {
    "collapsed": true
   },
   "outputs": [],
   "source": [
    "def pad(xds, v1='z1', v2='z2'):\n",
    "    nz1 = np.zeros((1, imax-imin))\n",
    "    nz1[0, addtostart:87+addtostart] = xds[v1][:]\n",
    "    nz2 = np.zeros((1, imax-imin))\n",
    "    nz2[0, addtostart:87+addtostart] = xds[v2][:]\n",
    "    data = {v1: nz1, v2: nz2}\n",
    "    print(data[v1].shape)\n",
    "    return data"
   ]
  },
  {
   "cell_type": "code",
   "execution_count": 20,
   "metadata": {
    "collapsed": true
   },
   "outputs": [],
   "source": [
    "def make_new_files(v1='z1', v2='z2', endi='_grid_T.nc'):\n",
    "    for const in consts:\n",
    "        print (const, directory+lead+const+endi)\n",
    "        xds = xr.open_dataset(directory+lead+const+endi)\n",
    "        data = pad(xds, v1=v1, v2=v2)\n",
    "\n",
    "        da = {}\n",
    "        for var in [v1, v2]:\n",
    "            da[var] = xr.DataArray(data=data[var], \n",
    "                 name=var,\n",
    "                 dims=('yb', 'xb'),\n",
    "                 coords={'yb': [0], 'xb': nxb},\n",
    "                 attrs=xds[var].attrs)\n",
    "\n",
    "        ds = xr.Dataset(data_vars={v1: da[v1],\n",
    "                          v2: da[v2]},\n",
    "               coords={'yb': [0], 'xb': nxb},\n",
    "               attrs=xds.attrs)\n",
    "\n",
    "        ds.to_netcdf(newlead+const+endi)\n",
    "\n",
    "        print(ds)\n",
    "    return xds, ds"
   ]
  },
  {
   "cell_type": "code",
   "execution_count": 21,
   "metadata": {},
   "outputs": [
    {
     "name": "stdout",
     "output_type": "stream",
     "text": [
      "M2 /home/sallen/MEOPAR/tides/west/SalishSea_N36_AF_west_tide_M2_grid_T.nc\n",
      "(1, 95)\n",
      "<xarray.Dataset>\n",
      "Dimensions:  (xb: 95, yb: 1)\n",
      "Coordinates:\n",
      "  * yb       (yb) int64 0\n",
      "  * xb       (xb) int64 376 377 378 379 380 381 382 383 384 385 386 387 388 ...\n",
      "Data variables:\n",
      "    z2       (yb, xb) float64 0.0 0.0 0.0 0.0 0.0 0.0 0.0 0.0 0.0 0.0 ...\n",
      "    z1       (yb, xb) float64 0.0 0.0 0.0 0.0 0.0 0.0 0.0 0.0 0.0 0.0 ...\n",
      "Attributes:\n",
      "    description:  Tide data from WebTide - K1 phase shifted\n",
      "S2 /home/sallen/MEOPAR/tides/west/SalishSea_N36_AF_west_tide_S2_grid_T.nc\n",
      "(1, 95)\n",
      "<xarray.Dataset>\n",
      "Dimensions:  (xb: 95, yb: 1)\n",
      "Coordinates:\n",
      "  * yb       (yb) int64 0\n",
      "  * xb       (xb) int64 376 377 378 379 380 381 382 383 384 385 386 387 388 ...\n",
      "Data variables:\n",
      "    z2       (yb, xb) float64 0.0 0.0 0.0 0.0 0.0 0.0 0.0 0.0 0.0 0.0 ...\n",
      "    z1       (yb, xb) float64 0.0 0.0 0.0 0.0 0.0 0.0 0.0 0.0 0.0 0.0 ...\n",
      "Attributes:\n",
      "    description:  Tide data from WebTide - K1 phase shifted\n",
      "N2 /home/sallen/MEOPAR/tides/west/SalishSea_N36_AF_west_tide_N2_grid_T.nc\n",
      "(1, 95)\n",
      "<xarray.Dataset>\n",
      "Dimensions:  (xb: 95, yb: 1)\n",
      "Coordinates:\n",
      "  * yb       (yb) int64 0\n",
      "  * xb       (xb) int64 376 377 378 379 380 381 382 383 384 385 386 387 388 ...\n",
      "Data variables:\n",
      "    z2       (yb, xb) float64 0.0 0.0 0.0 0.0 0.0 0.0 0.0 0.0 0.0 0.0 ...\n",
      "    z1       (yb, xb) float64 0.0 0.0 0.0 0.0 0.0 0.0 0.0 0.0 0.0 0.0 ...\n",
      "Attributes:\n",
      "    description:  Tide data from WebTide - K1 phase shifted\n",
      "K2 /home/sallen/MEOPAR/tides/west/SalishSea_N36_AF_west_tide_K2_grid_T.nc\n",
      "(1, 95)\n",
      "<xarray.Dataset>\n",
      "Dimensions:  (xb: 95, yb: 1)\n",
      "Coordinates:\n",
      "  * yb       (yb) int64 0\n",
      "  * xb       (xb) int64 376 377 378 379 380 381 382 383 384 385 386 387 388 ...\n",
      "Data variables:\n",
      "    z2       (yb, xb) float64 0.0 0.0 0.0 0.0 0.0 -0.0 -0.0 -0.0 -0.0 -0.0 ...\n",
      "    z1       (yb, xb) float64 0.0 0.0 0.0 0.0 0.0 0.0 0.0 0.0 0.0 0.0 ...\n",
      "Attributes:\n",
      "    description:  Tide data from WebTide - K1 phase shifted\n",
      "K1 /home/sallen/MEOPAR/tides/west/SalishSea_N36_AF_west_tide_K1_grid_T.nc\n",
      "(1, 95)\n",
      "<xarray.Dataset>\n",
      "Dimensions:  (xb: 95, yb: 1)\n",
      "Coordinates:\n",
      "  * yb       (yb) int64 0\n",
      "  * xb       (xb) int64 376 377 378 379 380 381 382 383 384 385 386 387 388 ...\n",
      "Data variables:\n",
      "    z2       (yb, xb) float64 0.0 0.0 0.0 0.0 0.0 0.0 0.0 0.0 0.0 0.0 ...\n",
      "    z1       (yb, xb) float64 0.0 0.0 0.0 0.0 0.0 0.0 0.0 0.0 0.0 0.0 ...\n",
      "Attributes:\n",
      "    description:  Tide data from WebTide - K1 phase shifted\n",
      "O1 /home/sallen/MEOPAR/tides/west/SalishSea_N36_AF_west_tide_O1_grid_T.nc\n",
      "(1, 95)\n",
      "<xarray.Dataset>\n",
      "Dimensions:  (xb: 95, yb: 1)\n",
      "Coordinates:\n",
      "  * yb       (yb) int64 0\n",
      "  * xb       (xb) int64 376 377 378 379 380 381 382 383 384 385 386 387 388 ...\n",
      "Data variables:\n",
      "    z2       (yb, xb) float64 0.0 0.0 0.0 0.0 0.0 0.0 0.0 0.0 0.0 0.0 ...\n",
      "    z1       (yb, xb) float64 0.0 0.0 0.0 0.0 0.0 0.0 0.0 0.0 0.0 0.0 ...\n",
      "Attributes:\n",
      "    description:  Tide data from WebTide - K1 phase shifted\n",
      "Q1 /home/sallen/MEOPAR/tides/west/SalishSea_N36_AF_west_tide_Q1_grid_T.nc\n",
      "(1, 95)\n",
      "<xarray.Dataset>\n",
      "Dimensions:  (xb: 95, yb: 1)\n",
      "Coordinates:\n",
      "  * yb       (yb) int64 0\n",
      "  * xb       (xb) int64 376 377 378 379 380 381 382 383 384 385 386 387 388 ...\n",
      "Data variables:\n",
      "    z2       (yb, xb) float64 0.0 0.0 0.0 0.0 0.0 0.0 0.0 0.0 0.0 0.0 ...\n",
      "    z1       (yb, xb) float64 0.0 0.0 0.0 0.0 0.0 0.0 0.0 0.0 0.0 0.0 ...\n",
      "Attributes:\n",
      "    description:  Tide data from WebTide - K1 phase shifted\n",
      "P1 /home/sallen/MEOPAR/tides/west/SalishSea_N36_AF_west_tide_P1_grid_T.nc\n",
      "(1, 95)\n",
      "<xarray.Dataset>\n",
      "Dimensions:  (xb: 95, yb: 1)\n",
      "Coordinates:\n",
      "  * yb       (yb) int64 0\n",
      "  * xb       (xb) int64 376 377 378 379 380 381 382 383 384 385 386 387 388 ...\n",
      "Data variables:\n",
      "    z2       (yb, xb) float64 0.0 0.0 0.0 0.0 0.0 -0.0 -0.0 -0.0 -0.0 -0.0 ...\n",
      "    z1       (yb, xb) float64 0.0 0.0 0.0 0.0 0.0 0.0 0.0 0.0 0.0 0.0 ...\n",
      "Attributes:\n",
      "    description:  Tide data from WebTide - K1 phase shifted\n"
     ]
    }
   ],
   "source": [
    "endi = '_grid_T.nc'\n",
    "xds, ds = make_new_files(v1='z1', v2='z2', endi=endi)"
   ]
  },
  {
   "cell_type": "code",
   "execution_count": 15,
   "metadata": {},
   "outputs": [
    {
     "name": "stdout",
     "output_type": "stream",
     "text": [
      "M2 /home/sallen/MEOPAR/tides/west/SalishSea_N36_AF_west_tide_M2_grid_U.nc\n",
      "(1, 95)\n",
      "<xarray.Dataset>\n",
      "Dimensions:  (xb: 95, yb: 1)\n",
      "Coordinates:\n",
      "  * yb       (yb) int64 0\n",
      "  * xb       (xb) int64 376 377 378 379 380 381 382 383 384 385 386 387 388 ...\n",
      "Data variables:\n",
      "    u2       (yb, xb) float64 0.0 0.0 0.0 0.0 0.0 0.0 0.0 0.0 0.0 0.0 ...\n",
      "    u1       (yb, xb) float64 0.0 0.0 0.0 0.0 0.0 0.0 0.0 0.0 0.0 0.0 -0.135 ...\n",
      "Attributes:\n",
      "    description:  Tide data from WebTide - K1 phase shifted\n",
      "S2 /home/sallen/MEOPAR/tides/west/SalishSea_N36_AF_west_tide_S2_grid_U.nc\n",
      "(1, 95)\n",
      "<xarray.Dataset>\n",
      "Dimensions:  (xb: 95, yb: 1)\n",
      "Coordinates:\n",
      "  * yb       (yb) int64 0\n",
      "  * xb       (xb) int64 376 377 378 379 380 381 382 383 384 385 386 387 388 ...\n",
      "Data variables:\n",
      "    u2       (yb, xb) float64 0.0 0.0 0.0 0.0 0.0 0.0 0.0 0.0 0.0 0.0 ...\n",
      "    u1       (yb, xb) float64 0.0 0.0 0.0 0.0 0.0 0.0 0.0 0.0 0.0 0.0 ...\n",
      "Attributes:\n",
      "    description:  Tide data from WebTide - K1 phase shifted\n",
      "N2 /home/sallen/MEOPAR/tides/west/SalishSea_N36_AF_west_tide_N2_grid_U.nc\n",
      "(1, 95)\n",
      "<xarray.Dataset>\n",
      "Dimensions:  (xb: 95, yb: 1)\n",
      "Coordinates:\n",
      "  * yb       (yb) int64 0\n",
      "  * xb       (xb) int64 376 377 378 379 380 381 382 383 384 385 386 387 388 ...\n",
      "Data variables:\n",
      "    u2       (yb, xb) float64 0.0 0.0 0.0 0.0 0.0 0.0 0.0 0.0 0.0 0.0 ...\n",
      "    u1       (yb, xb) float64 0.0 0.0 0.0 0.0 0.0 0.0 0.0 0.0 0.0 0.0 ...\n",
      "Attributes:\n",
      "    description:  Tide data from WebTide - K1 phase shifted\n",
      "K2 /home/sallen/MEOPAR/tides/west/SalishSea_N36_AF_west_tide_K2_grid_U.nc\n",
      "(1, 95)\n",
      "<xarray.Dataset>\n",
      "Dimensions:  (xb: 95, yb: 1)\n",
      "Coordinates:\n",
      "  * yb       (yb) int64 0\n",
      "  * xb       (xb) int64 376 377 378 379 380 381 382 383 384 385 386 387 388 ...\n",
      "Data variables:\n",
      "    u2       (yb, xb) float64 0.0 0.0 0.0 0.0 0.0 0.0 0.0 0.0 0.0 0.0 ...\n",
      "    u1       (yb, xb) float64 0.0 0.0 0.0 0.0 0.0 0.0 0.0 0.0 0.0 0.0 ...\n",
      "Attributes:\n",
      "    description:  Tide data from WebTide - K1 phase shifted\n",
      "K1 /home/sallen/MEOPAR/tides/west/SalishSea_N36_AF_west_tide_K1_grid_U.nc\n",
      "(1, 95)\n",
      "<xarray.Dataset>\n",
      "Dimensions:  (xb: 95, yb: 1)\n",
      "Coordinates:\n",
      "  * yb       (yb) int64 0\n",
      "  * xb       (xb) int64 376 377 378 379 380 381 382 383 384 385 386 387 388 ...\n",
      "Data variables:\n",
      "    u2       (yb, xb) float64 0.0 0.0 0.0 0.0 0.0 0.0 0.0 0.0 0.0 0.0 ...\n",
      "    u1       (yb, xb) float64 0.0 0.0 0.0 0.0 0.0 0.0 0.0 0.0 0.0 0.0 -0.258 ...\n",
      "Attributes:\n",
      "    description:  Tide data from WebTide - K1 phase shifted\n",
      "O1 /home/sallen/MEOPAR/tides/west/SalishSea_N36_AF_west_tide_O1_grid_U.nc\n",
      "(1, 95)\n",
      "<xarray.Dataset>\n",
      "Dimensions:  (xb: 95, yb: 1)\n",
      "Coordinates:\n",
      "  * yb       (yb) int64 0\n",
      "  * xb       (xb) int64 376 377 378 379 380 381 382 383 384 385 386 387 388 ...\n",
      "Data variables:\n",
      "    u2       (yb, xb) float64 0.0 0.0 0.0 0.0 0.0 0.0 0.0 0.0 0.0 0.0 ...\n",
      "    u1       (yb, xb) float64 0.0 0.0 0.0 0.0 0.0 0.0 0.0 0.0 0.0 0.0 ...\n",
      "Attributes:\n",
      "    description:  Tide data from WebTide - K1 phase shifted\n",
      "Q1 /home/sallen/MEOPAR/tides/west/SalishSea_N36_AF_west_tide_Q1_grid_U.nc\n",
      "(1, 95)\n",
      "<xarray.Dataset>\n",
      "Dimensions:  (xb: 95, yb: 1)\n",
      "Coordinates:\n",
      "  * yb       (yb) int64 0\n",
      "  * xb       (xb) int64 376 377 378 379 380 381 382 383 384 385 386 387 388 ...\n",
      "Data variables:\n",
      "    u2       (yb, xb) float64 0.0 0.0 0.0 0.0 0.0 0.0 0.0 0.0 0.0 0.0 ...\n",
      "    u1       (yb, xb) float64 0.0 0.0 0.0 0.0 0.0 0.0 0.0 0.0 0.0 0.0 ...\n",
      "Attributes:\n",
      "    description:  Tide data from WebTide - K1 phase shifted\n",
      "P1 /home/sallen/MEOPAR/tides/west/SalishSea_N36_AF_west_tide_P1_grid_U.nc\n",
      "(1, 95)\n",
      "<xarray.Dataset>\n",
      "Dimensions:  (xb: 95, yb: 1)\n",
      "Coordinates:\n",
      "  * yb       (yb) int64 0\n",
      "  * xb       (xb) int64 376 377 378 379 380 381 382 383 384 385 386 387 388 ...\n",
      "Data variables:\n",
      "    u2       (yb, xb) float64 0.0 0.0 0.0 0.0 0.0 0.0 0.0 0.0 0.0 0.0 ...\n",
      "    u1       (yb, xb) float64 0.0 0.0 0.0 0.0 0.0 0.0 0.0 0.0 0.0 0.0 ...\n",
      "Attributes:\n",
      "    description:  Tide data from WebTide - K1 phase shifted\n"
     ]
    }
   ],
   "source": [
    "endi = '_grid_U.nc'\n",
    "make_new_files(v1='u1', v2='u2', endi=endi)"
   ]
  },
  {
   "cell_type": "code",
   "execution_count": 16,
   "metadata": {},
   "outputs": [
    {
     "name": "stdout",
     "output_type": "stream",
     "text": [
      "M2 /home/sallen/MEOPAR/tides/west/SalishSea_N36_AF_west_tide_M2_grid_V.nc\n",
      "(1, 95)\n",
      "<xarray.Dataset>\n",
      "Dimensions:  (xb: 95, yb: 1)\n",
      "Coordinates:\n",
      "  * yb       (yb) int64 0\n",
      "  * xb       (xb) int64 376 377 378 379 380 381 382 383 384 385 386 387 388 ...\n",
      "Data variables:\n",
      "    v1       (yb, xb) float64 0.0 0.0 0.0 0.0 0.0 0.0 0.0 0.0 0.0 0.08164 ...\n",
      "    v2       (yb, xb) float64 0.0 0.0 0.0 0.0 0.0 0.0 0.0 0.0 0.0 0.2224 ...\n",
      "Attributes:\n",
      "    description:  Tide data from WebTide - K1 phase shifted\n",
      "S2 /home/sallen/MEOPAR/tides/west/SalishSea_N36_AF_west_tide_S2_grid_V.nc\n",
      "(1, 95)\n",
      "<xarray.Dataset>\n",
      "Dimensions:  (xb: 95, yb: 1)\n",
      "Coordinates:\n",
      "  * yb       (yb) int64 0\n",
      "  * xb       (xb) int64 376 377 378 379 380 381 382 383 384 385 386 387 388 ...\n",
      "Data variables:\n",
      "    v1       (yb, xb) float64 0.0 0.0 0.0 0.0 0.0 0.0 0.0 0.0 0.0 -0.006629 ...\n",
      "    v2       (yb, xb) float64 0.0 0.0 0.0 0.0 0.0 0.0 0.0 0.0 0.0 0.05913 ...\n",
      "Attributes:\n",
      "    description:  Tide data from WebTide - K1 phase shifted\n",
      "N2 /home/sallen/MEOPAR/tides/west/SalishSea_N36_AF_west_tide_N2_grid_V.nc\n",
      "(1, 95)\n",
      "<xarray.Dataset>\n",
      "Dimensions:  (xb: 95, yb: 1)\n",
      "Coordinates:\n",
      "  * yb       (yb) int64 0\n",
      "  * xb       (xb) int64 376 377 378 379 380 381 382 383 384 385 386 387 388 ...\n",
      "Data variables:\n",
      "    v1       (yb, xb) float64 0.0 0.0 0.0 0.0 0.0 0.0 0.0 0.0 0.0 0.03664 ...\n",
      "    v2       (yb, xb) float64 0.0 0.0 0.0 0.0 0.0 0.0 0.0 0.0 0.0 0.03317 ...\n",
      "Attributes:\n",
      "    description:  Tide data from WebTide - K1 phase shifted\n",
      "K2 /home/sallen/MEOPAR/tides/west/SalishSea_N36_AF_west_tide_K2_grid_V.nc\n",
      "(1, 95)\n",
      "<xarray.Dataset>\n",
      "Dimensions:  (xb: 95, yb: 1)\n",
      "Coordinates:\n",
      "  * yb       (yb) int64 0\n",
      "  * xb       (xb) int64 376 377 378 379 380 381 382 383 384 385 386 387 388 ...\n",
      "Data variables:\n",
      "    v1       (yb, xb) float64 0.0 0.0 0.0 0.0 0.0 0.0 0.0 0.0 0.0 -0.00017 ...\n",
      "    v2       (yb, xb) float64 0.0 0.0 0.0 0.0 0.0 0.0 0.0 0.0 0.0 0.01398 ...\n",
      "Attributes:\n",
      "    description:  Tide data from WebTide - K1 phase shifted\n",
      "K1 /home/sallen/MEOPAR/tides/west/SalishSea_N36_AF_west_tide_K1_grid_V.nc\n",
      "(1, 95)\n",
      "<xarray.Dataset>\n",
      "Dimensions:  (xb: 95, yb: 1)\n",
      "Coordinates:\n",
      "  * yb       (yb) int64 0\n",
      "  * xb       (xb) int64 376 377 378 379 380 381 382 383 384 385 386 387 388 ...\n",
      "Data variables:\n",
      "    v1       (yb, xb) float64 0.0 0.0 0.0 0.0 0.0 0.0 0.0 0.0 0.0 0.1379 ...\n",
      "    v2       (yb, xb) float64 0.0 0.0 0.0 0.0 0.0 0.0 0.0 0.0 0.0 -0.03681 ...\n",
      "Attributes:\n",
      "    description:  Tide data from WebTide - K1 phase shifted\n",
      "O1 /home/sallen/MEOPAR/tides/west/SalishSea_N36_AF_west_tide_O1_grid_V.nc\n",
      "(1, 95)\n",
      "<xarray.Dataset>\n",
      "Dimensions:  (xb: 95, yb: 1)\n",
      "Coordinates:\n",
      "  * yb       (yb) int64 0\n",
      "  * xb       (xb) int64 376 377 378 379 380 381 382 383 384 385 386 387 388 ...\n",
      "Data variables:\n",
      "    v1       (yb, xb) float64 0.0 0.0 0.0 0.0 0.0 0.0 0.0 0.0 0.0 0.06196 ...\n",
      "    v2       (yb, xb) float64 0.0 0.0 0.0 0.0 0.0 0.0 0.0 0.0 0.0 -0.04097 ...\n",
      "Attributes:\n",
      "    description:  Tide data from WebTide - K1 phase shifted\n",
      "Q1 /home/sallen/MEOPAR/tides/west/SalishSea_N36_AF_west_tide_Q1_grid_V.nc\n",
      "(1, 95)\n",
      "<xarray.Dataset>\n",
      "Dimensions:  (xb: 95, yb: 1)\n",
      "Coordinates:\n",
      "  * yb       (yb) int64 0\n",
      "  * xb       (xb) int64 376 377 378 379 380 381 382 383 384 385 386 387 388 ...\n",
      "Data variables:\n",
      "    v1       (yb, xb) float64 0.0 0.0 0.0 0.0 0.0 0.0 0.0 0.0 0.0 0.006724 ...\n",
      "    v2       (yb, xb) float64 0.0 0.0 0.0 0.0 0.0 0.0 0.0 0.0 0.0 -0.004687 ...\n",
      "Attributes:\n",
      "    description:  Tide data from WebTide - K1 phase shifted\n",
      "P1 /home/sallen/MEOPAR/tides/west/SalishSea_N36_AF_west_tide_P1_grid_V.nc\n",
      "(1, 95)\n",
      "<xarray.Dataset>\n",
      "Dimensions:  (xb: 95, yb: 1)\n",
      "Coordinates:\n",
      "  * yb       (yb) int64 0\n",
      "  * xb       (xb) int64 376 377 378 379 380 381 382 383 384 385 386 387 388 ...\n",
      "Data variables:\n",
      "    v1       (yb, xb) float64 0.0 0.0 0.0 0.0 0.0 0.0 0.0 0.0 0.0 0.04197 ...\n",
      "    v2       (yb, xb) float64 0.0 0.0 0.0 0.0 0.0 0.0 0.0 0.0 0.0 -0.014 ...\n",
      "Attributes:\n",
      "    description:  Tide data from WebTide - K1 phase shifted\n"
     ]
    }
   ],
   "source": [
    "endi = '_grid_V.nc'\n",
    "make_new_files(v1='v1', v2='v2', endi=endi)"
   ]
  },
  {
   "cell_type": "code",
   "execution_count": 23,
   "metadata": {},
   "outputs": [
    {
     "name": "stdout",
     "output_type": "stream",
     "text": [
      "<xarray.Dataset>\n",
      "Dimensions:  (xb: 87, yb: 1)\n",
      "Coordinates:\n",
      "  * xb       (xb) int32 384 385 386 387 388 389 390 391 392 393 394 395 396 ...\n",
      "  * yb       (yb) int32 1\n",
      "Data variables:\n",
      "    nbidta   (yb, xb) int32 ...\n",
      "    nbjdta   (yb, xb) int32 ...\n",
      "    nbrdta   (yb, xb) int32 ...\n",
      "    z1       (yb, xb) float32 ...\n",
      "    z2       (yb, xb) float32 ...\n",
      "Attributes:\n",
      "    description:  Tide data from WebTide - K1 phase shifted\n",
      "<xarray.Dataset>\n",
      "Dimensions:  (xb: 95, yb: 1)\n",
      "Coordinates:\n",
      "  * yb       (yb) int64 0\n",
      "  * xb       (xb) int64 376 377 378 379 380 381 382 383 384 385 386 387 388 ...\n",
      "Data variables:\n",
      "    z2       (yb, xb) float64 0.0 0.0 0.0 0.0 0.0 -0.0 -0.0 -0.0 -0.0 -0.0 ...\n",
      "    z1       (yb, xb) float64 0.0 0.0 0.0 0.0 0.0 0.0 0.0 0.0 0.0 0.0 ...\n",
      "Attributes:\n",
      "    description:  Tide data from WebTide - K1 phase shifted\n"
     ]
    }
   ],
   "source": [
    "print (xds)\n",
    "print (ds)"
   ]
  },
  {
   "cell_type": "code",
   "execution_count": 24,
   "metadata": {},
   "outputs": [
    {
     "name": "stdout",
     "output_type": "stream",
     "text": [
      "<xarray.DataArray 'z1' (yb: 1, xb: 87)>\n",
      "array([[ 0.      ,  0.      ,  0.      ,  0.      ,  0.      , -0.081714,\n",
      "        -0.081207, -0.080675, -0.080142, -0.079659, -0.079269, -0.078878,\n",
      "        -0.078427, -0.077935, -0.077321, -0.076688, -0.076187, -0.075692,\n",
      "        -0.075172, -0.074682, -0.074205, -0.073758, -0.073327, -0.072898,\n",
      "        -0.072473, -0.072089, -0.071694, -0.071298, -0.070906, -0.070539,\n",
      "        -0.070185, -0.069832, -0.069478, -0.069125, -0.068772, -0.068441,\n",
      "        -0.068111, -0.06778 , -0.067449, -0.067129, -0.066824, -0.066522,\n",
      "        -0.06623 , -0.065944, -0.06566 , -0.065387, -0.065137, -0.064888,\n",
      "        -0.06464 , -0.064377, -0.06417 , -0.063967, -0.063759, -0.063552,\n",
      "        -0.063348, -0.063183, -0.063018, -0.062853, -0.062689, -0.062524,\n",
      "        -0.062363, -0.062206, -0.062049, -0.061892, -0.061735, -0.061578,\n",
      "        -0.061411, -0.06124 , -0.06107 , -0.0609  , -0.06073 , -0.060551,\n",
      "        -0.060343, -0.060134, -0.059925, -0.059713, -0.059494, -0.059255,\n",
      "        -0.059033, -0.05882 , -0.058561, -0.058266,  0.      ,  0.      ,\n",
      "         0.      ,  0.      ,  0.      ]], dtype=float32)\n",
      "Coordinates:\n",
      "  * xb       (xb) int32 384 385 386 387 388 389 390 391 392 393 394 395 396 ...\n",
      "  * yb       (yb) int32 1\n",
      "Attributes:\n",
      "    units:     m\n",
      "    longname:  tidal elevation: cosine\n"
     ]
    }
   ],
   "source": [
    "print(xds.z1[0:10])"
   ]
  },
  {
   "cell_type": "code",
   "execution_count": 25,
   "metadata": {},
   "outputs": [
    {
     "name": "stdout",
     "output_type": "stream",
     "text": [
      "<xarray.DataArray 'z1' (yb: 1, xb: 95)>\n",
      "array([[ 0.      ,  0.      ,  0.      ,  0.      ,  0.      ,  0.      ,\n",
      "         0.      ,  0.      ,  0.      ,  0.      , -0.081714, -0.081207,\n",
      "        -0.080675, -0.080142, -0.079659, -0.079269, -0.078878, -0.078427,\n",
      "        -0.077935, -0.077321, -0.076688, -0.076187, -0.075692, -0.075172,\n",
      "        -0.074682, -0.074205, -0.073758, -0.073327, -0.072898, -0.072473,\n",
      "        -0.072089, -0.071694, -0.071298, -0.070906, -0.070539, -0.070185,\n",
      "        -0.069832, -0.069478, -0.069125, -0.068772, -0.068441, -0.068111,\n",
      "        -0.06778 , -0.067449, -0.067129, -0.066824, -0.066522, -0.06623 ,\n",
      "        -0.065944, -0.06566 , -0.065387, -0.065137, -0.064888, -0.06464 ,\n",
      "        -0.064377, -0.06417 , -0.063967, -0.063759, -0.063552, -0.063348,\n",
      "        -0.063183, -0.063018, -0.062853, -0.062689, -0.062524, -0.062363,\n",
      "        -0.062206, -0.062049, -0.061892, -0.061735, -0.061578, -0.061411,\n",
      "        -0.06124 , -0.06107 , -0.0609  , -0.06073 , -0.060551, -0.060343,\n",
      "        -0.060134, -0.059925, -0.059713, -0.059494, -0.059255, -0.059033,\n",
      "        -0.05882 , -0.058561, -0.058266,  0.      ,  0.      ,  0.      ,\n",
      "         0.      ,  0.      ,  0.      ,  0.      ,  0.      ]])\n",
      "Coordinates:\n",
      "  * yb       (yb) int64 0\n",
      "  * xb       (xb) int64 376 377 378 379 380 381 382 383 384 385 386 387 388 ...\n",
      "Attributes:\n",
      "    units:     m\n",
      "    longname:  tidal elevation: cosine\n"
     ]
    }
   ],
   "source": [
    "print(ds.z1[0:10])"
   ]
  },
  {
   "cell_type": "code",
   "execution_count": 26,
   "metadata": {},
   "outputs": [
    {
     "name": "stdout",
     "output_type": "stream",
     "text": [
      "<xarray.DataArray 'z1' (yb: 1, xb: 87)>\n",
      "array([[ 0.      ,  0.      ,  0.      ,  0.      ,  0.      , -0.081714,\n",
      "        -0.081207, -0.080675, -0.080142, -0.079659, -0.079269, -0.078878,\n",
      "        -0.078427, -0.077935, -0.077321, -0.076688, -0.076187, -0.075692,\n",
      "        -0.075172, -0.074682, -0.074205, -0.073758, -0.073327, -0.072898,\n",
      "        -0.072473, -0.072089, -0.071694, -0.071298, -0.070906, -0.070539,\n",
      "        -0.070185, -0.069832, -0.069478, -0.069125, -0.068772, -0.068441,\n",
      "        -0.068111, -0.06778 , -0.067449, -0.067129, -0.066824, -0.066522,\n",
      "        -0.06623 , -0.065944, -0.06566 , -0.065387, -0.065137, -0.064888,\n",
      "        -0.06464 , -0.064377, -0.06417 , -0.063967, -0.063759, -0.063552,\n",
      "        -0.063348, -0.063183, -0.063018, -0.062853, -0.062689, -0.062524,\n",
      "        -0.062363, -0.062206, -0.062049, -0.061892, -0.061735, -0.061578,\n",
      "        -0.061411, -0.06124 , -0.06107 , -0.0609  , -0.06073 , -0.060551,\n",
      "        -0.060343, -0.060134, -0.059925, -0.059713, -0.059494, -0.059255,\n",
      "        -0.059033, -0.05882 , -0.058561, -0.058266,  0.      ,  0.      ,\n",
      "         0.      ,  0.      ,  0.      ]], dtype=float32)\n",
      "Coordinates:\n",
      "  * xb       (xb) int32 384 385 386 387 388 389 390 391 392 393 394 395 396 ...\n",
      "  * yb       (yb) int32 1\n",
      "Attributes:\n",
      "    units:     m\n",
      "    longname:  tidal elevation: cosine\n"
     ]
    }
   ],
   "source": [
    "print(xds.z1[-10:])"
   ]
  },
  {
   "cell_type": "code",
   "execution_count": 27,
   "metadata": {},
   "outputs": [
    {
     "name": "stdout",
     "output_type": "stream",
     "text": [
      "<xarray.DataArray 'z1' (yb: 1, xb: 95)>\n",
      "array([[ 0.      ,  0.      ,  0.      ,  0.      ,  0.      ,  0.      ,\n",
      "         0.      ,  0.      ,  0.      ,  0.      , -0.081714, -0.081207,\n",
      "        -0.080675, -0.080142, -0.079659, -0.079269, -0.078878, -0.078427,\n",
      "        -0.077935, -0.077321, -0.076688, -0.076187, -0.075692, -0.075172,\n",
      "        -0.074682, -0.074205, -0.073758, -0.073327, -0.072898, -0.072473,\n",
      "        -0.072089, -0.071694, -0.071298, -0.070906, -0.070539, -0.070185,\n",
      "        -0.069832, -0.069478, -0.069125, -0.068772, -0.068441, -0.068111,\n",
      "        -0.06778 , -0.067449, -0.067129, -0.066824, -0.066522, -0.06623 ,\n",
      "        -0.065944, -0.06566 , -0.065387, -0.065137, -0.064888, -0.06464 ,\n",
      "        -0.064377, -0.06417 , -0.063967, -0.063759, -0.063552, -0.063348,\n",
      "        -0.063183, -0.063018, -0.062853, -0.062689, -0.062524, -0.062363,\n",
      "        -0.062206, -0.062049, -0.061892, -0.061735, -0.061578, -0.061411,\n",
      "        -0.06124 , -0.06107 , -0.0609  , -0.06073 , -0.060551, -0.060343,\n",
      "        -0.060134, -0.059925, -0.059713, -0.059494, -0.059255, -0.059033,\n",
      "        -0.05882 , -0.058561, -0.058266,  0.      ,  0.      ,  0.      ,\n",
      "         0.      ,  0.      ,  0.      ,  0.      ,  0.      ]])\n",
      "Coordinates:\n",
      "  * yb       (yb) int64 0\n",
      "  * xb       (xb) int64 376 377 378 379 380 381 382 383 384 385 386 387 388 ...\n",
      "Attributes:\n",
      "    units:     m\n",
      "    longname:  tidal elevation: cosine\n"
     ]
    }
   ],
   "source": [
    "print(ds.z1[-10:])"
   ]
  },
  {
   "cell_type": "code",
   "execution_count": null,
   "metadata": {
    "collapsed": true
   },
   "outputs": [],
   "source": []
  }
 ],
 "metadata": {
  "anaconda-cloud": {},
  "kernelspec": {
   "display_name": "Python [conda env:py3]",
   "language": "python",
   "name": "conda-env-py3-py"
  },
  "language_info": {
   "codemirror_mode": {
    "name": "ipython",
    "version": 3
   },
   "file_extension": ".py",
   "mimetype": "text/x-python",
   "name": "python",
   "nbconvert_exporter": "python",
   "pygments_lexer": "ipython3",
   "version": "3.5.2"
  },
  "toc": {
   "colors": {
    "hover_highlight": "#DAA520",
    "running_highlight": "#FF0000",
    "selected_highlight": "#FFD700"
   },
   "moveMenuLeft": true,
   "nav_menu": {
    "height": "12px",
    "width": "252px"
   },
   "navigate_menu": true,
   "number_sections": true,
   "sideBar": true,
   "threshold": 4,
   "toc_cell": false,
   "toc_section_display": "block",
   "toc_window_display": false,
   "widenNotebook": false
  }
 },
 "nbformat": 4,
 "nbformat_minor": 2
}
