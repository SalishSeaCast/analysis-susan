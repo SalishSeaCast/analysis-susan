{
 "cells": [
  {
   "cell_type": "code",
   "execution_count": 1,
   "metadata": {
    "collapsed": true
   },
   "outputs": [],
   "source": [
    "import matplotlib.pyplot as plt\n",
    "import netCDF4 as nc\n",
    "import numpy as np\n",
    "import xarray as xr\n",
    "\n",
    "%matplotlib inline"
   ]
  },
  {
   "cell_type": "code",
   "execution_count": 2,
   "metadata": {},
   "outputs": [
    {
     "name": "stdout",
     "output_type": "stream",
     "text": [
      "(950,)\n"
     ]
    }
   ],
   "source": [
    "imin = 376 - 1  # want 380\n",
    "imax = 470 # want 470\n",
    "rim = 10\n",
    "nx = np.arange(imin, imax) + 1\n",
    "nxb = nx\n",
    "for ii in range(rim-1):\n",
    "    nxb = np.append(nxb, nx)\n",
    "print(nxb.shape)"
   ]
  },
  {
   "cell_type": "code",
   "execution_count": 3,
   "metadata": {},
   "outputs": [
    {
     "name": "stdout",
     "output_type": "stream",
     "text": [
      "<xarray.Dataset>\n",
      "Dimensions:       (deptht: 40, time_counter: 1, xbT: 870, yb: 1)\n",
      "Coordinates:\n",
      "  * deptht        (deptht) float32 0.5 1.5 2.50001 3.50003 4.50007 5.50015 ...\n",
      "  * time_counter  (time_counter) float32 0.0\n",
      "Dimensions without coordinates: xbT, yb\n",
      "Data variables:\n",
      "    nav_lat       (yb, xbT) float32 ...\n",
      "    nav_lon       (yb, xbT) float32 ...\n",
      "    nbidta        (yb, xbT) int32 ...\n",
      "    nbjdta        (yb, xbT) int32 ...\n",
      "    nbrdta        (yb, xbT) int32 ...\n",
      "    NH4           (time_counter, deptht, yb, xbT) float32 ...\n",
      "    DIA           (time_counter, deptht, yb, xbT) float32 ...\n",
      "    CRY           (time_counter, deptht, yb, xbT) float32 ...\n",
      "    MYRI          (time_counter, deptht, yb, xbT) float32 ...\n",
      "    MICZ          (time_counter, deptht, yb, xbT) float32 ...\n",
      "    PON           (time_counter, deptht, yb, xbT) float32 ...\n",
      "    DON           (time_counter, deptht, yb, xbT) float32 ...\n",
      "    bSi           (time_counter, deptht, yb, xbT) float32 ...\n",
      "    O2            (time_counter, deptht, yb, xbT) float32 ...\n",
      "    tur           (time_counter, deptht, yb, xbT) float32 ...\n"
     ]
    }
   ],
   "source": [
    "filename = 'tracers/west/bioOBC_const.nc'\n",
    "xds = xr.open_dataset('/results/nowcast-sys/'+filename, decode_times=False)\n",
    "print (xds)"
   ]
  },
  {
   "cell_type": "code",
   "execution_count": 4,
   "metadata": {
    "collapsed": true
   },
   "outputs": [],
   "source": [
    "varis = ['NH4', 'DIA', 'CRY', 'MYRI', 'MICZ', 'PON', 'DON', 'bSi', 'O2', 'tur']"
   ]
  },
  {
   "cell_type": "code",
   "execution_count": 5,
   "metadata": {},
   "outputs": [
    {
     "name": "stdout",
     "output_type": "stream",
     "text": [
      "<xarray.DataArray 'NH4' ()>\n",
      "array(0.0, dtype=float32)\n",
      "Coordinates:\n",
      "    deptht        float32 0.5\n",
      "    time_counter  float32 0.0\n",
      "<xarray.DataArray 'NH4' ()>\n",
      "array(0.0, dtype=float32)\n",
      "Coordinates:\n",
      "    deptht        float32 1.5\n",
      "    time_counter  float32 0.0\n",
      "<xarray.DataArray 'NH4' ()>\n",
      "array(0.0, dtype=float32)\n",
      "Coordinates:\n",
      "    deptht        float32 2.50001\n",
      "    time_counter  float32 0.0\n",
      "<xarray.DataArray 'NH4' ()>\n",
      "array(0.0, dtype=float32)\n",
      "Coordinates:\n",
      "    deptht        float32 3.50003\n",
      "    time_counter  float32 0.0\n",
      "<xarray.DataArray 'NH4' ()>\n",
      "array(0.0, dtype=float32)\n",
      "Coordinates:\n",
      "    deptht        float32 4.50007\n",
      "    time_counter  float32 0.0\n",
      "<xarray.DataArray 'NH4' ()>\n",
      "array(0.0, dtype=float32)\n",
      "Coordinates:\n",
      "    deptht        float32 5.50015\n",
      "    time_counter  float32 0.0\n",
      "<xarray.DataArray 'NH4' ()>\n",
      "array(0.0, dtype=float32)\n",
      "Coordinates:\n",
      "    deptht        float32 6.50031\n",
      "    time_counter  float32 0.0\n",
      "<xarray.DataArray 'NH4' ()>\n",
      "array(0.0, dtype=float32)\n",
      "Coordinates:\n",
      "    deptht        float32 7.50062\n",
      "    time_counter  float32 0.0\n",
      "<xarray.DataArray 'NH4' ()>\n",
      "array(0.0, dtype=float32)\n",
      "Coordinates:\n",
      "    deptht        float32 8.50124\n",
      "    time_counter  float32 0.0\n",
      "<xarray.DataArray 'NH4' ()>\n",
      "array(0.0, dtype=float32)\n",
      "Coordinates:\n",
      "    deptht        float32 9.50243\n",
      "    time_counter  float32 0.0\n",
      "<xarray.DataArray 'NH4' ()>\n",
      "array(0.0, dtype=float32)\n",
      "Coordinates:\n",
      "    deptht        float32 10.5048\n",
      "    time_counter  float32 0.0\n",
      "<xarray.DataArray 'NH4' ()>\n",
      "array(0.0, dtype=float32)\n",
      "Coordinates:\n",
      "    deptht        float32 11.5093\n",
      "    time_counter  float32 0.0\n",
      "<xarray.DataArray 'NH4' ()>\n",
      "array(0.0, dtype=float32)\n",
      "Coordinates:\n",
      "    deptht        float32 12.5182\n",
      "    time_counter  float32 0.0\n",
      "<xarray.DataArray 'NH4' ()>\n",
      "array(0.0, dtype=float32)\n",
      "Coordinates:\n",
      "    deptht        float32 13.5354\n",
      "    time_counter  float32 0.0\n",
      "<xarray.DataArray 'NH4' ()>\n",
      "array(0.0, dtype=float32)\n",
      "Coordinates:\n",
      "    deptht        float32 14.569\n",
      "    time_counter  float32 0.0\n",
      "<xarray.DataArray 'NH4' ()>\n",
      "array(0.0, dtype=float32)\n",
      "Coordinates:\n",
      "    deptht        float32 15.6343\n",
      "    time_counter  float32 0.0\n",
      "<xarray.DataArray 'NH4' ()>\n",
      "array(0.0, dtype=float32)\n",
      "Coordinates:\n",
      "    deptht        float32 16.7612\n",
      "    time_counter  float32 0.0\n",
      "<xarray.DataArray 'NH4' ()>\n",
      "array(0.0, dtype=float32)\n",
      "Coordinates:\n",
      "    deptht        float32 18.0071\n",
      "    time_counter  float32 0.0\n",
      "<xarray.DataArray 'NH4' ()>\n",
      "array(0.0, dtype=float32)\n",
      "Coordinates:\n",
      "    deptht        float32 19.4818\n",
      "    time_counter  float32 0.0\n",
      "<xarray.DataArray 'NH4' ()>\n",
      "array(0.0, dtype=float32)\n",
      "Coordinates:\n",
      "    deptht        float32 21.39\n",
      "    time_counter  float32 0.0\n",
      "<xarray.DataArray 'NH4' ()>\n",
      "array(0.0, dtype=float32)\n",
      "Coordinates:\n",
      "    deptht        float32 24.1003\n",
      "    time_counter  float32 0.0\n",
      "<xarray.DataArray 'NH4' ()>\n",
      "array(0.0, dtype=float32)\n",
      "Coordinates:\n",
      "    deptht        float32 28.2299\n",
      "    time_counter  float32 0.0\n",
      "<xarray.DataArray 'NH4' ()>\n",
      "array(0.0, dtype=float32)\n",
      "Coordinates:\n",
      "    deptht        float32 34.6858\n",
      "    time_counter  float32 0.0\n",
      "<xarray.DataArray 'NH4' ()>\n",
      "array(0.0, dtype=float32)\n",
      "Coordinates:\n",
      "    deptht        float32 44.5177\n",
      "    time_counter  float32 0.0\n",
      "<xarray.DataArray 'NH4' ()>\n",
      "array(0.0, dtype=float32)\n",
      "Coordinates:\n",
      "    deptht        float32 58.4843\n",
      "    time_counter  float32 0.0\n",
      "<xarray.DataArray 'NH4' ()>\n",
      "array(0.0, dtype=float32)\n",
      "Coordinates:\n",
      "    deptht        float32 76.5856\n",
      "    time_counter  float32 0.0\n",
      "<xarray.DataArray 'NH4' ()>\n",
      "array(0.0, dtype=float32)\n",
      "Coordinates:\n",
      "    deptht        float32 98.063\n",
      "    time_counter  float32 0.0\n",
      "<xarray.DataArray 'NH4' ()>\n",
      "array(0.0, dtype=float32)\n",
      "Coordinates:\n",
      "    deptht        float32 121.867\n",
      "    time_counter  float32 0.0\n",
      "<xarray.DataArray 'NH4' ()>\n",
      "array(0.0, dtype=float32)\n",
      "Coordinates:\n",
      "    deptht        float32 147.089\n",
      "    time_counter  float32 0.0\n",
      "<xarray.DataArray 'NH4' ()>\n",
      "array(0.0, dtype=float32)\n",
      "Coordinates:\n",
      "    deptht        float32 173.114\n",
      "    time_counter  float32 0.0\n",
      "<xarray.DataArray 'NH4' ()>\n",
      "array(0.0, dtype=float32)\n",
      "Coordinates:\n",
      "    deptht        float32 199.573\n",
      "    time_counter  float32 0.0\n",
      "<xarray.DataArray 'NH4' ()>\n",
      "array(0.0, dtype=float32)\n",
      "Coordinates:\n",
      "    deptht        float32 226.26\n",
      "    time_counter  float32 0.0\n",
      "<xarray.DataArray 'NH4' ()>\n",
      "array(0.0, dtype=float32)\n",
      "Coordinates:\n",
      "    deptht        float32 253.067\n",
      "    time_counter  float32 0.0\n",
      "<xarray.DataArray 'NH4' ()>\n",
      "array(0.0, dtype=float32)\n",
      "Coordinates:\n",
      "    deptht        float32 279.935\n",
      "    time_counter  float32 0.0\n",
      "<xarray.DataArray 'NH4' ()>\n",
      "array(0.0, dtype=float32)\n",
      "Coordinates:\n",
      "    deptht        float32 306.834\n",
      "    time_counter  float32 0.0\n",
      "<xarray.DataArray 'NH4' ()>\n",
      "array(0.0, dtype=float32)\n",
      "Coordinates:\n",
      "    deptht        float32 333.75\n",
      "    time_counter  float32 0.0\n",
      "<xarray.DataArray 'NH4' ()>\n",
      "array(0.0, dtype=float32)\n",
      "Coordinates:\n",
      "    deptht        float32 360.675\n",
      "    time_counter  float32 0.0\n",
      "<xarray.DataArray 'NH4' ()>\n",
      "array(0.0, dtype=float32)\n",
      "Coordinates:\n",
      "    deptht        float32 387.603\n",
      "    time_counter  float32 0.0\n",
      "<xarray.DataArray 'NH4' ()>\n",
      "array(0.0, dtype=float32)\n",
      "Coordinates:\n",
      "    deptht        float32 414.534\n",
      "    time_counter  float32 0.0\n",
      "<xarray.DataArray 'NH4' ()>\n",
      "array(0.0, dtype=float32)\n",
      "Coordinates:\n",
      "    deptht        float32 441.466\n",
      "    time_counter  float32 0.0\n"
     ]
    }
   ],
   "source": [
    "NH4 = xds.NH4[:]\n",
    "for id in range(40):\n",
    "    print(np.max(NH4[0,id,0,0]) - np.min(NH4[0, id, 0, 0]))"
   ]
  },
  {
   "cell_type": "code",
   "execution_count": 6,
   "metadata": {},
   "outputs": [
    {
     "name": "stdout",
     "output_type": "stream",
     "text": [
      "NH4 <xarray.DataArray 'NH4' ()>\n",
      "array(0.9848267436027527)\n",
      "DIA <xarray.DataArray 'DIA' ()>\n",
      "array(0.0)\n",
      "CRY <xarray.DataArray 'CRY' ()>\n",
      "array(0.0)\n",
      "MYRI <xarray.DataArray 'MYRI' ()>\n",
      "array(0.0)\n",
      "MICZ <xarray.DataArray 'MICZ' ()>\n",
      "array(0.0)\n",
      "PON <xarray.DataArray 'PON' ()>\n",
      "array(0.0)\n",
      "DON <xarray.DataArray 'DON' ()>\n",
      "array(0.0)\n",
      "bSi <xarray.DataArray 'bSi' ()>\n",
      "array(0.0)\n",
      "O2 <xarray.DataArray 'O2' ()>\n",
      "array(0.0)\n",
      "tur <xarray.DataArray 'tur' ()>\n",
      "array(0.0)\n"
     ]
    }
   ],
   "source": [
    "for vari in varis:\n",
    "    print (vari, np.max(xds[vari][:])-np.min(xds[vari][:]))"
   ]
  },
  {
   "cell_type": "code",
   "execution_count": 7,
   "metadata": {},
   "outputs": [
    {
     "name": "stdout",
     "output_type": "stream",
     "text": [
      "(1, 40, 1, 870)\n"
     ]
    }
   ],
   "source": [
    "print (xds['tur'].shape)"
   ]
  },
  {
   "cell_type": "code",
   "execution_count": 8,
   "metadata": {
    "collapsed": true
   },
   "outputs": [],
   "source": [
    "# was running, fortran, 381 to 467\n",
    "# want to run, 380 to 470 so add one to start and 3 to end"
   ]
  },
  {
   "cell_type": "code",
   "execution_count": 9,
   "metadata": {
    "collapsed": true
   },
   "outputs": [],
   "source": [
    "def pad(xds, vari, data, rim, nd=40):\n",
    "    nz1 = np.ones((1, nd, 1, rim*(imax-imin)))\n",
    "    for idd in range(nd):\n",
    "        factor = float(xds[vari][0, idd, 0, 45])\n",
    "        nz1[0, idd, 0, :] = nz1[0, idd, 0, :] * factor\n",
    "    data[vari] = nz1\n",
    "    return data"
   ]
  },
  {
   "cell_type": "code",
   "execution_count": 10,
   "metadata": {},
   "outputs": [
    {
     "ename": "NameError",
     "evalue": "name 'data' is not defined",
     "output_type": "error",
     "traceback": [
      "\u001b[0;31m---------------------------------------------------------------------------\u001b[0m",
      "\u001b[0;31mNameError\u001b[0m                                 Traceback (most recent call last)",
      "\u001b[0;32m<ipython-input-10-0eb563b4cb82>\u001b[0m in \u001b[0;36m<module>\u001b[0;34m()\u001b[0m\n\u001b[0;32m----> 1\u001b[0;31m \u001b[0mprint\u001b[0m\u001b[0;34m(\u001b[0m\u001b[0mdata\u001b[0m\u001b[0;34m[\u001b[0m\u001b[0;34m'NH4'\u001b[0m\u001b[0;34m]\u001b[0m\u001b[0;34m.\u001b[0m\u001b[0mshape\u001b[0m\u001b[0;34m)\u001b[0m\u001b[0;34m\u001b[0m\u001b[0m\n\u001b[0m\u001b[1;32m      2\u001b[0m \u001b[0mprint\u001b[0m\u001b[0;34m(\u001b[0m\u001b[0mnxb\u001b[0m\u001b[0;34m.\u001b[0m\u001b[0mshape\u001b[0m\u001b[0;34m)\u001b[0m\u001b[0;34m\u001b[0m\u001b[0m\n\u001b[1;32m      3\u001b[0m \u001b[0mprint\u001b[0m\u001b[0;34m(\u001b[0m\u001b[0mxds\u001b[0m\u001b[0;34m.\u001b[0m\u001b[0mdeptht\u001b[0m\u001b[0;34m.\u001b[0m\u001b[0mshape\u001b[0m\u001b[0;34m)\u001b[0m\u001b[0;34m\u001b[0m\u001b[0m\n\u001b[1;32m      4\u001b[0m \u001b[0mprint\u001b[0m\u001b[0;34m(\u001b[0m\u001b[0mxds\u001b[0m\u001b[0;34m.\u001b[0m\u001b[0mtime_counter\u001b[0m\u001b[0;34m)\u001b[0m\u001b[0;34m\u001b[0m\u001b[0m\n",
      "\u001b[0;31mNameError\u001b[0m: name 'data' is not defined"
     ]
    }
   ],
   "source": [
    "print(data['NH4'].shape)\n",
    "print(nxb.shape)\n",
    "print(xds.deptht.shape)\n",
    "print(xds.time_counter)"
   ]
  },
  {
   "cell_type": "code",
   "execution_count": 11,
   "metadata": {},
   "outputs": [
    {
     "name": "stdout",
     "output_type": "stream",
     "text": [
      "NH4 (1, 40, 1, 950)\n",
      "DIA (1, 40, 1, 950)\n",
      "CRY (1, 40, 1, 950)\n",
      "MYRI (1, 40, 1, 950)\n",
      "MICZ (1, 40, 1, 950)\n",
      "PON (1, 40, 1, 950)\n",
      "DON (1, 40, 1, 950)\n",
      "bSi (1, 40, 1, 950)\n",
      "O2 (1, 40, 1, 950)\n",
      "tur (1, 40, 1, 950)\n"
     ]
    }
   ],
   "source": [
    "data = {}\n",
    "for vari in varis:\n",
    "    data = pad(xds, vari, data, rim)\n",
    "\n",
    "da = {}\n",
    "for var in varis:\n",
    "    print(var, data[var].shape)\n",
    "    da[var] = xr.DataArray(\n",
    "        data=data[var],\n",
    "        name=var,\n",
    "        dims=('time_counter', 'deptht', 'yb', 'xb'),\n",
    "        coords={\n",
    "            'time_counter': xds.time_counter,\n",
    "            'deptht': xds.deptht,\n",
    "            'yb': [0],\n",
    "            'xb': nxb,\n",
    "        },\n",
    "        attrs=xds[var].attrs)"
   ]
  },
  {
   "cell_type": "code",
   "execution_count": 12,
   "metadata": {},
   "outputs": [
    {
     "name": "stdout",
     "output_type": "stream",
     "text": [
      "<xarray.Dataset>\n",
      "Dimensions:       (deptht: 40, time_counter: 1, xb: 950, yb: 1)\n",
      "Coordinates:\n",
      "  * yb            (yb) int64 0\n",
      "  * xb            (xb) int64 376 377 378 379 380 381 382 383 384 385 386 387 ...\n",
      "  * deptht        (deptht) float32 0.5 1.5 2.50001 3.50003 4.50007 5.50015 ...\n",
      "  * time_counter  (time_counter) float32 0.0\n",
      "Data variables:\n",
      "    MYRI          (time_counter, deptht, yb, xb) float64 1e-08 1e-08 1e-08 ...\n",
      "    MICZ          (time_counter, deptht, yb, xb) float64 1e-08 1e-08 1e-08 ...\n",
      "    O2            (time_counter, deptht, yb, xb) float64 160.0 160.0 160.0 ...\n",
      "    CRY           (time_counter, deptht, yb, xb) float64 1e-08 1e-08 1e-08 ...\n",
      "    bSi           (time_counter, deptht, yb, xb) float64 7.747e-06 7.747e-06 ...\n",
      "    DIA           (time_counter, deptht, yb, xb) float64 1e-08 1e-08 1e-08 ...\n",
      "    DON           (time_counter, deptht, yb, xb) float64 4.676 4.676 4.676 ...\n",
      "    NH4           (time_counter, deptht, yb, xb) float64 0.2405 0.2405 ...\n",
      "    tur           (time_counter, deptht, yb, xb) float64 0.0 0.0 0.0 0.0 0.0 ...\n",
      "    PON           (time_counter, deptht, yb, xb) float64 1.347 1.347 1.347 ...\n"
     ]
    }
   ],
   "source": [
    "ds = xr.Dataset(data_vars=da,\n",
    "               coords={'time_counter': xds.time_counter,\n",
    "                         'deptht': xds.deptht,\n",
    "                         'yb': [0], 'xb': nxb},\n",
    "               attrs=xds.attrs)\n",
    "\n",
    "ds.to_netcdf('bioOBC_const_long.nc', unlimited_dims=('time_counter'),)\n",
    "\n",
    "print(ds)"
   ]
  },
  {
   "cell_type": "code",
   "execution_count": 13,
   "metadata": {},
   "outputs": [
    {
     "name": "stdout",
     "output_type": "stream",
     "text": [
      "<xarray.DataArray 'NH4' (deptht: 40)>\n",
      "array([  2.404570e-01,   3.658873e-01,   3.802824e-01,   3.914739e-01,\n",
      "         4.021020e-01,   4.723583e-01,   5.327533e-01,   5.766485e-01,\n",
      "         6.028428e-01,   6.235945e-01,   6.900732e-01,   7.107338e-01,\n",
      "         7.163171e-01,   7.180485e-01,   7.181028e-01,   7.933621e-01,\n",
      "         9.218616e-01,   9.562190e-01,   9.848267e-01,   9.778820e-01,\n",
      "         9.655148e-01,   9.037943e-01,   5.324652e-01,   2.799609e-01,\n",
      "         1.999781e-01,   6.547938e-02,   2.000105e-02,   3.222063e-04,\n",
      "         2.693543e-14,   1.058683e-24,   2.791703e-35,   0.000000e+00,\n",
      "         0.000000e+00,   0.000000e+00,   0.000000e+00,   0.000000e+00,\n",
      "         0.000000e+00,   0.000000e+00,   0.000000e+00,   0.000000e+00])\n",
      "Coordinates:\n",
      "    yb            int64 0\n",
      "    xb            int64 421\n",
      "  * deptht        (deptht) float32 0.5 1.5 2.50001 3.50003 4.50007 5.50015 ...\n",
      "    time_counter  float32 0.0\n",
      "Attributes:\n",
      "    grid:       SalishSea2\n",
      "    units:      muM\n",
      "    long_name:  Ammonia\n"
     ]
    }
   ],
   "source": [
    "print(ds.NH4[0, :, 0, 45])"
   ]
  },
  {
   "cell_type": "code",
   "execution_count": null,
   "metadata": {
    "collapsed": true
   },
   "outputs": [],
   "source": []
  }
 ],
 "metadata": {
  "anaconda-cloud": {},
  "kernelspec": {
   "display_name": "Python 3",
   "language": "python",
   "name": "python3"
  },
  "language_info": {
   "codemirror_mode": {
    "name": "ipython",
    "version": 3
   },
   "file_extension": ".py",
   "mimetype": "text/x-python",
   "name": "python",
   "nbconvert_exporter": "python",
   "pygments_lexer": "ipython3",
   "version": "3.6.4"
  },
  "toc": {
   "colors": {
    "hover_highlight": "#DAA520",
    "running_highlight": "#FF0000",
    "selected_highlight": "#FFD700"
   },
   "moveMenuLeft": true,
   "nav_menu": {
    "height": "12px",
    "width": "252px"
   },
   "navigate_menu": true,
   "number_sections": true,
   "sideBar": true,
   "threshold": 4,
   "toc_cell": false,
   "toc_section_display": "block",
   "toc_window_display": false,
   "widenNotebook": false
  }
 },
 "nbformat": 4,
 "nbformat_minor": 2
}
