{
 "cells": [
  {
   "cell_type": "markdown",
   "metadata": {},
   "source": [
    "Return to Live Ocean Files and see if we can do better"
   ]
  },
  {
   "cell_type": "code",
   "execution_count": 46,
   "metadata": {
    "collapsed": true
   },
   "outputs": [],
   "source": [
    "import cmocean.cm as cm\n",
    "import datetime\n",
    "import importlib\n",
    "import matplotlib.pyplot as plt\n",
    "import mpl_toolkits.basemap as Basemap\n",
    "import netCDF4 as nc\n",
    "import numpy as np\n",
    "import os\n",
    "import scipy.interpolate as sinter\n",
    "import xarray as xr\n",
    "\n",
    "from salishsea_tools import LiveOcean_grid as grid\n",
    "from salishsea_tools import gsw_calls\n",
    "from salishsea_tools import LiveOcean_BCs as nancy\n",
    "\n",
    "%matplotlib inline"
   ]
  },
  {
   "cell_type": "code",
   "execution_count": 47,
   "metadata": {},
   "outputs": [
    {
     "data": {
      "text/plain": [
       "<module 'salishsea_tools.LiveOcean_BCs' from '/ocean/sallen/allen/research/Meopar/Tools/SalishSeaTools/salishsea_tools/LiveOcean_BCs.py'>"
      ]
     },
     "execution_count": 47,
     "metadata": {},
     "output_type": "execute_result"
    }
   ],
   "source": [
    "importlib.reload(nancy)"
   ]
  },
  {
   "cell_type": "markdown",
   "metadata": {},
   "source": [
    "# Define some stuff"
   ]
  },
  {
   "cell_type": "code",
   "execution_count": 48,
   "metadata": {
    "collapsed": true
   },
   "outputs": [],
   "source": [
    "# Create metadeta for temperature and salinity (Live Ocean variables, NEMO grid)\n",
    "var_meta = {'vosaline': {'grid': 'SalishSea2',\n",
    "                             'long_name': 'Practical Salinity',\n",
    "                             'units': 'psu'},\n",
    "                'votemper': {'grid': 'SalishSea2',\n",
    "                             'long_name': 'Potential Temperature',\n",
    "                             'units': 'deg C'},\n",
    "                'NO3':      {'grid': 'SalishSea2',\n",
    "                             'long_name': 'Nitrate',\n",
    "                             'units': 'muM'},\n",
    "                'Si':       {'grid': 'SalishSea2',\n",
    "                             'long_name': 'Nitrate',\n",
    "                             'units': 'muM'},\n",
    "                }\n",
    "\n",
    "# Mapping from LiveOcean TS names to NEMO TS names\n",
    "LO_to_NEMO_var_map = {'salt': 'vosaline',\n",
    "                          'temp': 'votemper',\n",
    "                          'NO3': 'NO3',\n",
    "                          'Si': 'Si'}\n"
   ]
  },
  {
   "cell_type": "markdown",
   "metadata": {},
   "source": [
    "# Load BC information and Specify the New Grid\n",
    " "
   ]
  },
  {
   "cell_type": "code",
   "execution_count": 49,
   "metadata": {},
   "outputs": [],
   "source": [
    "depBC, lonBC, latBC, shape = nancy.load_SalishSea_boundary_grid(imin=376-1, imax=470, rim=10, \n",
    "                                                          meshfilename='/home/sallen/MEOPAR/grid/mesh_mask201702.nc')"
   ]
  },
  {
   "cell_type": "markdown",
   "metadata": {},
   "source": [
    "# Get the Live Ocean File"
   ]
  },
  {
   "cell_type": "code",
   "execution_count": 50,
   "metadata": {},
   "outputs": [],
   "source": [
    "date = '2017-12-30'\n",
    "d = nancy.load_LiveOcean(date)"
   ]
  },
  {
   "cell_type": "markdown",
   "metadata": {},
   "source": [
    "# Process Live Ocean File"
   ]
  },
  {
   "cell_type": "markdown",
   "metadata": {},
   "source": [
    "## Depth Interpolation"
   ]
  },
  {
   "cell_type": "code",
   "execution_count": 51,
   "metadata": {
    "collapsed": true
   },
   "outputs": [],
   "source": [
    "interps = nancy.interpolate_to_NEMO_depths(d, depBC)"
   ]
  },
  {
   "cell_type": "markdown",
   "metadata": {},
   "source": [
    "## Convert to TEOS-10"
   ]
  },
  {
   "cell_type": "code",
   "execution_count": 52,
   "metadata": {},
   "outputs": [],
   "source": [
    "var_meta, interps['salt'], interps['temp'] = \\\n",
    "            nancy._convert_TS_to_TEOS10(\n",
    "                var_meta, interps['salt'], interps['temp'])"
   ]
  },
  {
   "cell_type": "markdown",
   "metadata": {},
   "source": [
    "## Remove South of Tatoosh"
   ]
  },
  {
   "cell_type": "code",
   "execution_count": 53,
   "metadata": {},
   "outputs": [],
   "source": [
    "interps = nancy.remove_south_of_Tatoosh(interps)"
   ]
  },
  {
   "cell_type": "markdown",
   "metadata": {},
   "source": [
    "## Fill"
   ]
  },
  {
   "cell_type": "code",
   "execution_count": 54,
   "metadata": {},
   "outputs": [],
   "source": [
    "interps = nancy.fill_box(interps)"
   ]
  },
  {
   "cell_type": "markdown",
   "metadata": {},
   "source": [
    "## Convect"
   ]
  },
  {
   "cell_type": "code",
   "execution_count": 55,
   "metadata": {
    "collapsed": true
   },
   "outputs": [],
   "source": [
    "sigma = gsw_calls.generic_gsw_caller('gsw_sigma0.m', [interps['salt'][:], interps['temp'][:] ])"
   ]
  },
  {
   "cell_type": "code",
   "execution_count": 56,
   "metadata": {},
   "outputs": [],
   "source": [
    "sigma, interps = nancy.convect(sigma, interps)"
   ]
  },
  {
   "cell_type": "markdown",
   "metadata": {},
   "source": [
    "## Extend to Depth"
   ]
  },
  {
   "cell_type": "code",
   "execution_count": 57,
   "metadata": {
    "collapsed": true
   },
   "outputs": [],
   "source": [
    "interps = nancy.extend_to_depth(interps)"
   ]
  },
  {
   "cell_type": "markdown",
   "metadata": {},
   "source": [
    "## Interpolate Horizontally onto NEMO grid"
   ]
  },
  {
   "cell_type": "code",
   "execution_count": 58,
   "metadata": {},
   "outputs": [],
   "source": [
    "interpl = nancy.interpolate_to_NEMO_lateral(interps, d, lonBC, latBC, shape)"
   ]
  },
  {
   "cell_type": "markdown",
   "metadata": {},
   "source": [
    "## Convect Again"
   ]
  },
  {
   "cell_type": "code",
   "execution_count": 59,
   "metadata": {
    "collapsed": true
   },
   "outputs": [],
   "source": [
    "sigmal = gsw_calls.generic_gsw_caller('gsw_sigma0.m', [interpl['salt'][:], interpl['temp'][:] ])"
   ]
  },
  {
   "cell_type": "code",
   "execution_count": 60,
   "metadata": {},
   "outputs": [
    {
     "name": "stdout",
     "output_type": "stream",
     "text": [
      "0.001\n",
      "0.0\n"
     ]
    }
   ],
   "source": [
    "print(np.nanmax(sigmal[:-1, :, :] - sigmal[1:, :, :]))\n",
    "sigmal, interpl = nancy.convect(sigmal, interpl)\n",
    "print(np.nanmax(sigmal[:-1, :, :] - sigmal[1:, :, :]))"
   ]
  },
  {
   "cell_type": "markdown",
   "metadata": {},
   "source": [
    "## Reorder Array"
   ]
  },
  {
   "cell_type": "code",
   "execution_count": 61,
   "metadata": {
    "collapsed": true
   },
   "outputs": [],
   "source": [
    "for var in interpl.keys():\n",
    "    interpl[var] = np.swapaxes(interpl[var], 1, 2)\n",
    "    interpl[var] = interpl[var].reshape(1, interpl[var].shape[0], 1, interpl[var].shape[2]*interpl[var].shape[1])\n"
   ]
  },
  {
   "cell_type": "markdown",
   "metadata": {},
   "source": [
    "## Calculate Quantities LiveOcean doesn't Track like SI"
   ]
  },
  {
   "cell_type": "code",
   "execution_count": 62,
   "metadata": {},
   "outputs": [],
   "source": [
    "interpl['Si'] = nancy.calculate_Si_from_NO3(interpl['NO3'])"
   ]
  },
  {
   "cell_type": "markdown",
   "metadata": {},
   "source": [
    "# Write Out File"
   ]
  },
  {
   "cell_type": "code",
   "execution_count": 63,
   "metadata": {},
   "outputs": [],
   "source": [
    "ts = d.ocean_time.data\n",
    "ds = nancy.prepare_dataset(interpl, var_meta, LO_to_NEMO_var_map, depBC, ts)"
   ]
  },
  {
   "cell_type": "code",
   "execution_count": 64,
   "metadata": {},
   "outputs": [
    {
     "data": {
      "text/plain": [
       "<xarray.Dataset>\n",
       "Dimensions:       (deptht: 40, time_counter: 1, xbT: 950, yb: 1)\n",
       "Coordinates:\n",
       "  * yb            (yb) int64 1\n",
       "  * deptht        (deptht) float64 0.5 1.5 2.5 3.5 4.5 5.5 6.5 7.501 8.501 ...\n",
       "  * time_counter  (time_counter) datetime64[ns] 2017-12-30T12:00:00\n",
       "  * xbT           (xbT) int64 0 1 2 3 4 5 6 7 8 9 10 11 12 13 14 15 16 17 18 ...\n",
       "Data variables:\n",
       "    vosaline      (time_counter, deptht, yb, xbT) float64 30.57 30.57 30.57 ...\n",
       "    votemper      (time_counter, deptht, yb, xbT) float64 7.848 7.848 7.849 ...\n",
       "    NO3           (time_counter, deptht, yb, xbT) float64 9.85 9.85 9.852 ...\n",
       "    Si            (time_counter, deptht, yb, xbT) float64 11.6 11.6 11.6 ...\n",
       "Attributes:\n",
       "    institution:           UBC EOAS\n",
       "    source:                http://nbviewer.jupyter.org/urls/bitbucket.org/sal...\n",
       "    creator_name:          Salish Sea MEOPAR Project Contributors\n",
       "    summary:               Temperature, Salinity and Nitrate from the Live Oc...\n",
       "    acknowledgements:      Live Ocean http://faculty.washington.edu/pmacc/LO/...\n",
       "    institution_fullname:  Earth, Ocean & Atmospheric Sciences, University of...\n",
       "    history:               [2017-12-30] File creation.\n",
       "    creator_url:           https://salishsea-meopar-docs.readthedocs.org/\n",
       "    creator_email:         sallen@eoas.ubc.ca"
      ]
     },
     "execution_count": 64,
     "metadata": {},
     "output_type": "execute_result"
    }
   ],
   "source": [
    "ds"
   ]
  },
  {
   "cell_type": "code",
   "execution_count": 65,
   "metadata": {},
   "outputs": [
    {
     "name": "stdout",
     "output_type": "stream",
     "text": [
      "single_LO_y2017m12d30.nc\n"
     ]
    }
   ],
   "source": [
    "basename = 'single_LO'\n",
    "sdt = datetime.datetime.strptime(date, '%Y-%m-%d')\n",
    "filename = '{}_{}.nc'.format(\n",
    "                basename, sdt.strftime('y%Ym%md%d'))\n",
    "print(filename)"
   ]
  },
  {
   "cell_type": "code",
   "execution_count": 66,
   "metadata": {},
   "outputs": [],
   "source": [
    "encoding = {\n",
    "    var: {\n",
    "       'zlib': True\n",
    "    }\n",
    "    for var in ds.data_vars\n",
    "}\n",
    "encoding['time_counter'] = {'units': 'minutes since 1970-01-01 00:00'}"
   ]
  },
  {
   "cell_type": "code",
   "execution_count": 67,
   "metadata": {},
   "outputs": [],
   "source": [
    "ds.to_netcdf(path='stuffit.nc', unlimited_dims=('time_counter'),\n",
    "             encoding=encoding, \n",
    "             )       "
   ]
  },
  {
   "cell_type": "code",
   "execution_count": 68,
   "metadata": {},
   "outputs": [],
   "source": [
    "os.rename('stuffit.nc', filename)"
   ]
  },
  {
   "cell_type": "code",
   "execution_count": null,
   "metadata": {
    "collapsed": true
   },
   "outputs": [],
   "source": []
  }
 ],
 "metadata": {
  "anaconda-cloud": {},
  "kernelspec": {
   "display_name": "Python [conda env:py3]",
   "language": "python",
   "name": "conda-env-py3-py"
  },
  "language_info": {
   "codemirror_mode": {
    "name": "ipython",
    "version": 3
   },
   "file_extension": ".py",
   "mimetype": "text/x-python",
   "name": "python",
   "nbconvert_exporter": "python",
   "pygments_lexer": "ipython3",
   "version": "3.5.2"
  },
  "toc": {
   "colors": {
    "hover_highlight": "#DAA520",
    "running_highlight": "#FF0000",
    "selected_highlight": "#FFD700"
   },
   "moveMenuLeft": true,
   "nav_menu": {
    "height": "269px",
    "width": "252px"
   },
   "navigate_menu": true,
   "number_sections": true,
   "sideBar": true,
   "threshold": 4,
   "toc_cell": false,
   "toc_section_display": "block",
   "toc_window_display": true,
   "widenNotebook": false
  }
 },
 "nbformat": 4,
 "nbformat_minor": 2
}
