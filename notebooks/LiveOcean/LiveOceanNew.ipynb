{
 "cells": [
  {
   "cell_type": "markdown",
   "metadata": {},
   "source": [
    "Return to Live Ocean Files and see if we can do better"
   ]
  },
  {
   "cell_type": "code",
   "execution_count": 86,
   "metadata": {
    "collapsed": true
   },
   "outputs": [],
   "source": [
    "import cmocean.cm as cm\n",
    "import datetime\n",
    "import matplotlib.pyplot as plt\n",
    "import mpl_toolkits.basemap as Basemap\n",
    "import netCDF4 as nc\n",
    "import numpy as np\n",
    "import os\n",
    "import scipy.interpolate as sinter\n",
    "import xarray as xr\n",
    "\n",
    "from salishsea_tools import LiveOcean_grid as grid\n",
    "from salishsea_tools import gsw_calls\n",
    "from salishsea_tools import LiveOcean_BCs as nancy\n",
    "\n",
    "%matplotlib inline"
   ]
  },
  {
   "cell_type": "markdown",
   "metadata": {},
   "source": [
    "# Define some stuff"
   ]
  },
  {
   "cell_type": "code",
   "execution_count": 87,
   "metadata": {
    "collapsed": true
   },
   "outputs": [],
   "source": [
    "var_meta = {'vosaline': {'grid': 'SalishSea2',\n",
    "                             'long_name': 'Practical Salinity',\n",
    "                             'units': 'psu'},\n",
    "                'votemper': {'grid': 'SalishSea2',\n",
    "                             'long_name': 'Potential Temperature',\n",
    "                             'units': 'deg C'}\n",
    "                }\n",
    "\n",
    "\n",
    "LO_to_NEMO_var_map = {'salt': 'vosaline',\n",
    "                          'temp': 'votemper',\n",
    "                     'NO3': 'NO3'}\n",
    "\n",
    "# Initialize var_arrays dict\n",
    "NEMO_var_arrays = {key: [] for key in LO_to_NEMO_var_map.values()}\n",
    "\n",
    "    "
   ]
  },
  {
   "cell_type": "markdown",
   "metadata": {},
   "source": [
    "# Load BC information\n",
    "    depBC, lonBC, latBC, shape = load_SalishSea_boundary_grid(fname=NEMO_BC)"
   ]
  },
  {
   "cell_type": "markdown",
   "metadata": {},
   "source": [
    "# Specify the (New) Boundary Grid"
   ]
  },
  {
   "cell_type": "code",
   "execution_count": 88,
   "metadata": {
    "collapsed": true
   },
   "outputs": [],
   "source": [
    "# this replace's Nancy's function load_SalishSea_boundary_grid\n",
    "imin = 381 - 1  # want 380  # have 381\n",
    "imax = 467 # want 470 # have 467\n",
    "rim = 10\n",
    "\n",
    "with nc.Dataset('/home/sallen/MEOPAR/grid/mesh_mask201702.nc') as meshfile:\n",
    "\n",
    "    lonBC = meshfile.variables['nav_lon'][imin:imax, 0:rim]\n",
    "    latBC = meshfile.variables['nav_lat'][imin:imax, 0:rim]\n",
    "    mbathy = meshfile.variables['mbathy'][0, imin:imax, 0:rim]\n",
    "    gdepw = meshfile.variables['gdepw_0'][0, :, imin:imax, 0:rim]\n",
    "    surface_tmask = meshfile.variables['tmask'][0, 0, imin:imax, 0:rim]\n",
    "    tmask = meshfile.variables['tmask'][0, :, imin:imax, 0:rim]\n",
    "    depBC = meshfile.variables['gdept_1d'][0]\n",
    "\n",
    "surface_tmask = np.abs(surface_tmask - 1)\n",
    "tmask = tmask -1\n",
    "shape = lonBC.shape\n",
    "\n",
    "NEMO_depth = np.zeros(shape)\n",
    "for i in range(shape[1]):\n",
    "    for j in range(shape[0]):\n",
    "        level = mbathy[j, i]\n",
    "        NEMO_depth[j, i] = gdepw[level, j, i]\n",
    "NEMO_raw = np.copy(NEMO_depth)\n",
    "NEMO_depth = np.ma.masked_array(NEMO_depth, mask=surface_tmask)"
   ]
  },
  {
   "cell_type": "markdown",
   "metadata": {},
   "source": [
    "# Get the Live Ocean File"
   ]
  },
  {
   "cell_type": "code",
   "execution_count": 89,
   "metadata": {},
   "outputs": [
    {
     "name": "stdout",
     "output_type": "stream",
     "text": [
      "/results/forcing/LiveOcean/downloaded/20171227/low_passed_UBC.nc\n",
      "dict_keys(['h', 'lon_u', 'lon_rho', 'mask_rho', 'lon_v', 'pm', 'M', 'mask_v', 'pn', 'mask_u', 'lat_u', 'DX', 'DY', 'L', 'lat_rho', 'lat_v'])\n",
      "dict_keys(['N', 'Cs_r', 'Vtransform', 's_rho', 'hc'])\n",
      "dict_keys(['ocean_time', 'time'])\n"
     ]
    }
   ],
   "source": [
    "# this replaces Nancy's load_LiveOcean\n",
    "LO_dir='/results/forcing/LiveOcean/downloaded/'\n",
    "start = '2017-12-27'\n",
    "sdt = datetime.datetime.strptime(start, '%Y-%m-%d')\n",
    "file = os.path.join(LO_dir, sdt.strftime('%Y%m%d'), 'low_passed_UBC.nc')\n",
    "print(file)\n",
    "\n",
    "G, S, T = grid.get_basic_info(file)\n",
    "\n",
    "print (G.keys())\n",
    "print (S.keys())\n",
    "print (T.keys())"
   ]
  },
  {
   "cell_type": "code",
   "execution_count": 90,
   "metadata": {},
   "outputs": [],
   "source": [
    "d = xr.open_dataset(file)\n",
    "zeta = d.zeta.values[0]\n",
    "z_rho = grid.get_z(G['h'], zeta, S)\n",
    "zrho_DA = xr.DataArray(\n",
    "    np.expand_dims(z_rho, 0),\n",
    "    dims=['ocean_time', 's_rho', 'eta_rho', 'xi_rho'],\n",
    "        coords={'ocean_time': d.ocean_time.values[:],\n",
    "                's_rho': d.s_rho.values[:],\n",
    "                'eta_rho': d.eta_rho.values[:],\n",
    "                'xi_rho': d.xi_rho.values[:]},\n",
    "        attrs={'units': 'metres',\n",
    "               'positive': 'up',\n",
    "               'long_name': 'Depth at s-levels',\n",
    "               'field': 'z_rho ,scalar'})\n",
    "d = d.assign(z_rho=zrho_DA)"
   ]
  },
  {
   "cell_type": "markdown",
   "metadata": {},
   "source": [
    "# Process Live Ocean File"
   ]
  },
  {
   "cell_type": "markdown",
   "metadata": {},
   "source": [
    "## Depth Interpolation"
   ]
  },
  {
   "cell_type": "code",
   "execution_count": 91,
   "metadata": {},
   "outputs": [
    {
     "name": "stdout",
     "output_type": "stream",
     "text": [
      "(40, 31, 26)\n"
     ]
    }
   ],
   "source": [
    "var_names = ['salt', 'temp', 'NO3']\n",
    "dataset = d\n",
    "interps = {}\n",
    "for var_name in var_names:\n",
    "    var_interp = np.zeros(dataset[var_name][0].shape)\n",
    "    for j in range(var_interp.shape[1]):\n",
    "        for i in range(var_interp.shape[2]):\n",
    "            LO_depths = dataset.z_rho.values[0, :, j, i]\n",
    "            var = dataset[var_name].values[0, :, j, i]\n",
    "            var_interp[:, j, i] = np.interp(\n",
    "                -depBC, LO_depths, var, left=np.nan)\n",
    "            # NEMO depths are positive, LiveOcean are negative\n",
    "    interps[var_name] = np.ma.masked_invalid(var_interp)\n",
    "print(interps['salt'].shape)"
   ]
  },
  {
   "cell_type": "code",
   "execution_count": 92,
   "metadata": {
    "collapsed": true
   },
   "outputs": [],
   "source": [
    "lonsLO = dataset.lon_rho.values[0, :]\n",
    "latsLO = dataset.lat_rho.values[:, 0]"
   ]
  },
  {
   "cell_type": "markdown",
   "metadata": {},
   "source": [
    "fig, ax = plt.subplots(1, 1)\n",
    "ax.pcolormesh(lonsLO, latsLO, interps['salt'][0], cmap=cm.haline)\n",
    "ax.pcolormesh(lonBC, latBC, 1-tmask[0], cmap='copper')"
   ]
  },
  {
   "cell_type": "markdown",
   "metadata": {},
   "source": [
    "## Convert to TEOS-10"
   ]
  },
  {
   "cell_type": "code",
   "execution_count": 93,
   "metadata": {
    "collapsed": true
   },
   "outputs": [],
   "source": [
    "var_meta, interps['salt'], interps['temp'] = \\\n",
    "            nancy._convert_TS_to_TEOS10(\n",
    "                var_meta, interps['salt'], interps['temp'])"
   ]
  },
  {
   "cell_type": "markdown",
   "metadata": {},
   "source": [
    "## Remove South of Tatoosh"
   ]
  },
  {
   "cell_type": "code",
   "execution_count": 94,
   "metadata": {
    "collapsed": true
   },
   "outputs": [],
   "source": [
    "for var in var_names:\n",
    "    for i in range(6):\n",
    "        for j in range(17):\n",
    "            interps[var][:, i, j] = np.nan\n",
    "\n",
    "    interps[var] = np.ma.masked_invalid(interps[var][:])"
   ]
  },
  {
   "cell_type": "markdown",
   "metadata": {},
   "source": [
    "fig, axs = plt.subplots(7, 7, figsize=(20, 20))\n",
    "for i in range(7):\n",
    "    for j in range(7):\n",
    "        axs[j, i].pcolormesh(interps['NO3'][i+j*5], vmax=40, vmin=0)\n",
    "        axs[j, i].text(20, 23, str(i+j*5))\n",
    "        axs[j, i].set_xlim(0, 26)\n",
    "        axs[j, i].set_ylim(0, 31)"
   ]
  },
  {
   "cell_type": "markdown",
   "metadata": {},
   "source": [
    "fig, axs = plt.subplots(7, 7, figsize=(20, 20))\n",
    "for i in range(7):\n",
    "    for j in range(7):\n",
    "        axs[j, i].pcolormesh(interps['temp'][i+j*5], cmap=cm.haline)\n",
    "        axs[j, i].text(20, 23, str(i+j*5))\n",
    "        axs[j, i].set_xlim(0, 26)\n",
    "        axs[j, i].set_ylim(0, 31)"
   ]
  },
  {
   "cell_type": "markdown",
   "metadata": {},
   "source": [
    "## Fill"
   ]
  },
  {
   "cell_type": "code",
   "execution_count": 95,
   "metadata": {},
   "outputs": [],
   "source": [
    "for var in var_names:\n",
    "    for k in range(35):\n",
    "        array = np.ma.masked_invalid(interps[var][k])\n",
    "        xx, yy = np.meshgrid(range(26), range(31))\n",
    "        x1 = xx[~array.mask]\n",
    "        y1 = yy[~array.mask]\n",
    "        newarr = array[~array.mask]\n",
    "        interps[var][k] = sinter.griddata((x1, y1), newarr.ravel(),\n",
    "                         (xx, yy), method='nearest')"
   ]
  },
  {
   "cell_type": "markdown",
   "metadata": {},
   "source": [
    "fig, axs = plt.subplots(7, 7, figsize=(20, 20))\n",
    "for i in range(7):\n",
    "    for j in range(7):\n",
    "        axs[j, i].pcolormesh(interps['salt'][i+j*5], cmap=cm.haline, vmax=34.5, vmin=30)\n",
    "        axs[j, i].text(20, 23, str(i+j*5))\n",
    "        axs[j, i].set_xlim(0, 26)\n",
    "        axs[j, i].set_ylim(0, 31)"
   ]
  },
  {
   "cell_type": "markdown",
   "metadata": {},
   "source": [
    "fig, axs = plt.subplots(7, 7, figsize=(20, 20))\n",
    "for i in range(7):\n",
    "    for j in range(7):\n",
    "        axs[j, i].pcolormesh(interps['temp'][i+j*5], cmap=cm.thermal, vmax=9, vmin=7)\n",
    "        axs[j, i].text(20, 23, str(i+j*5))\n",
    "        axs[j, i].set_xlim(0, 26)\n",
    "        axs[j, i].set_ylim(0, 31)"
   ]
  },
  {
   "cell_type": "markdown",
   "metadata": {},
   "source": [
    "## Convect"
   ]
  },
  {
   "cell_type": "code",
   "execution_count": 96,
   "metadata": {
    "collapsed": true
   },
   "outputs": [],
   "source": [
    "sigma = gsw_calls.generic_gsw_caller('gsw_sigma0.m', [interps['salt'][:], interps['temp'][:] ])"
   ]
  },
  {
   "cell_type": "code",
   "execution_count": 97,
   "metadata": {
    "collapsed": true,
    "scrolled": false
   },
   "outputs": [],
   "source": [
    "def convect(sigma, interps, var_names):\n",
    "    kmax, imax, jmax = sigma.shape\n",
    "    good = False\n",
    "    while not good:\n",
    "        print('Loop')\n",
    "        good = True\n",
    "        for k in range(kmax - 1):\n",
    "            for i in range(imax):\n",
    "                for j in range(jmax):\n",
    "                    if sigma[k, i, j] > sigma[k + 1, i, j]:\n",
    "                        good = False\n",
    "                        for var in var_names:\n",
    "                            interps[var][k, i, j], interps[var][\n",
    "                                k + 1, i, j] = interps[var][\n",
    "                                    k + 1, i, j], interps[var][k, i, j]\n",
    "                        sigma[k, i, j], sigma[k + 1, i, j] = sigma[\n",
    "                            k + 1, i, j], sigma[k, i, j]\n",
    "    return sigma, interps"
   ]
  },
  {
   "cell_type": "code",
   "execution_count": 98,
   "metadata": {},
   "outputs": [
    {
     "name": "stdout",
     "output_type": "stream",
     "text": [
      "Loop\n",
      "Loop\n",
      "Loop\n",
      "Loop\n",
      "Loop\n",
      "Loop\n",
      "Loop\n",
      "Loop\n",
      "Loop\n",
      "Loop\n",
      "Loop\n",
      "Loop\n",
      "Loop\n",
      "Loop\n",
      "Loop\n",
      "Loop\n",
      "Loop\n",
      "Loop\n",
      "Loop\n",
      "Loop\n",
      "Loop\n",
      "Loop\n"
     ]
    }
   ],
   "source": [
    "sigma, interps = convect(sigma, interps, var_names)"
   ]
  },
  {
   "cell_type": "markdown",
   "metadata": {},
   "source": [
    "columns = 7\n",
    "rows = 5\n",
    "fig, axs = plt.subplots(rows, columns, figsize=(20, 20))\n",
    "for i in range(columns):\n",
    "    for j in range(rows):\n",
    "        axs[j, i].pcolormesh(interps['salt'][i+j*columns], cmap='plasma', vmax=34.5, vmin=30)\n",
    "        axs[j, i].text(20, 23, str(i+j*columns))\n",
    "        axs[j, i].set_xlim(0, 26)\n",
    "        axs[j, i].set_ylim(0, 31)\n",
    "print(np.mean(interps['salt'][0]))\n",
    "print(np.mean(interps['salt'][15]))\n",
    "print(np.mean(interps['salt'][30]))\n"
   ]
  },
  {
   "cell_type": "markdown",
   "metadata": {},
   "source": [
    "columns = 7\n",
    "rows = 5\n",
    "fig, axs = plt.subplots(rows, columns, figsize=(20, 20))\n",
    "for i in range(columns):\n",
    "    for j in range(rows):\n",
    "        axs[j, i].pcolormesh(interps['temp'][i+j*columns], cmap=cm.thermal, vmax=9, vmin=7)\n",
    "        axs[j, i].text(20, 23, str(i+j*columns))\n",
    "        axs[j, i].set_xlim(0, 26)\n",
    "        axs[j, i].set_ylim(0, 31)\n",
    "print(np.mean(interps['temp'][0]))\n",
    "print(np.mean(interps['temp'][15]))\n",
    "print(np.mean(interps['temp'][30]))"
   ]
  },
  {
   "cell_type": "markdown",
   "metadata": {},
   "source": [
    "fig, ax = plt.subplots(1, 1)\n",
    "mesh = ax.pcolormesh(sigma[:-1, :, 5] - sigma[1:, :, 5], vmin=-2, vmax=2, cmap='bwr')\n",
    "fig.colorbar(mesh)\n",
    "ax.invert_yaxis()\n",
    "print(np.nanmax(sigma[:-1, :, :] - sigma[1:, :, :]))"
   ]
  },
  {
   "cell_type": "markdown",
   "metadata": {},
   "source": [
    "## Extend to Depth"
   ]
  },
  {
   "cell_type": "code",
   "execution_count": 99,
   "metadata": {
    "collapsed": true
   },
   "outputs": [],
   "source": [
    "for var in var_names:\n",
    "    interps[var][35:] = interps[var][34]"
   ]
  },
  {
   "cell_type": "markdown",
   "metadata": {},
   "source": [
    "## Interpolate Horizontally onto NEMO grid"
   ]
  },
  {
   "cell_type": "code",
   "execution_count": 100,
   "metadata": {
    "collapsed": true
   },
   "outputs": [],
   "source": [
    "interpl = {}\n",
    "for var in var_names:\n",
    "    var_new = np.zeros((interps[var].shape[0], shape[0], shape[1]))\n",
    "    for k in range(var_new.shape[0]):\n",
    "        var_grid = interps[var][k, :, :]\n",
    "        var_new[k, ...] = Basemap.interp(\n",
    "            var_grid, lonsLO, latsLO, lonBC, latBC)\n",
    "    interpl[var] = var_new"
   ]
  },
  {
   "cell_type": "markdown",
   "metadata": {},
   "source": [
    "## Convect Again"
   ]
  },
  {
   "cell_type": "code",
   "execution_count": 101,
   "metadata": {
    "collapsed": true
   },
   "outputs": [],
   "source": [
    "sigmal = gsw_calls.generic_gsw_caller('gsw_sigma0.m', [interpl['salt'][:], interpl['temp'][:] ])"
   ]
  },
  {
   "cell_type": "code",
   "execution_count": 102,
   "metadata": {},
   "outputs": [
    {
     "name": "stdout",
     "output_type": "stream",
     "text": [
      "0.001\n",
      "Loop\n",
      "Loop\n",
      "Loop\n",
      "Loop\n",
      "Loop\n",
      "Loop\n",
      "Loop\n",
      "Loop\n",
      "0.0\n"
     ]
    }
   ],
   "source": [
    "print(np.nanmax(sigmal[:-1, :, :] - sigmal[1:, :, :]))\n",
    "sigmal, interpl = convect(sigmal, interpl, var_names)\n",
    "print(np.nanmax(sigmal[:-1, :, :] - sigmal[1:, :, :]))"
   ]
  },
  {
   "cell_type": "markdown",
   "metadata": {},
   "source": [
    "rows, columns = 4, 10\n",
    "fig, axs = plt.subplots(rows, columns, figsize=(10, 10))\n",
    "for i in range(columns):\n",
    "    for j in range(rows):\n",
    "        axs[j, i].pcolormesh(interpl['salt'][i+j*columns], cmap='plasma', vmax=34.5, vmin=30)\n",
    "        axs[j, i].text(5, 80, str(i+j*columns))\n",
    "        axs[j, i].set_xlim(0, 10)\n",
    "        axs[j, i].set_ylim(0, 91)\n",
    "print(np.mean(interpl['salt'][0]))\n",
    "print(np.mean(interpl['salt'][15]))\n",
    "print(np.mean(interpl['salt'][30]))"
   ]
  },
  {
   "cell_type": "markdown",
   "metadata": {},
   "source": [
    "rows, columns = 5, 2\n",
    "fig, axs = plt.subplots(rows, columns, figsize=(30, 10))\n",
    "for i in range(columns):\n",
    "    for j in range(rows):\n",
    "        axs[j, i].pcolormesh(range(interpl['salt'].shape[1]), -depBC, \n",
    "                             np.ma.masked_array(interpl['salt'][:,:,i+j*columns], mask=tmask[:, :, i+j*columns]), cmap='plasma', vmax=34.5, vmin=30)\n",
    "        axs[j, i].set_ylim(-300, 0)\n",
    "        axs[j, i].set_xlim(0, 91)\n",
    "print (interpl['salt'].shape)"
   ]
  },
  {
   "cell_type": "markdown",
   "metadata": {},
   "source": [
    "rows, columns = 5, 2\n",
    "fig, axs = plt.subplots(rows, columns, figsize=(30, 10))\n",
    "for i in range(columns):\n",
    "    for j in range(rows):\n",
    "        axs[j, i].pcolormesh(range(interpl['temp'].shape[1]), -depBC, \n",
    "                             np.ma.masked_array(interpl['temp'][:,:,i+j*columns], mask=tmask[:, :, i+j*columns]), cmap=cm.thermal, vmax=9, vmin=7)\n",
    "        axs[j, i].set_ylim(-300, 0)\n",
    "        axs[j, i].set_xlim(0, 91)\n",
    "print (interpl['temp'].shape)"
   ]
  },
  {
   "cell_type": "code",
   "execution_count": 103,
   "metadata": {},
   "outputs": [
    {
     "name": "stdout",
     "output_type": "stream",
     "text": [
      "0.0\n"
     ]
    },
    {
     "data": {
      "image/png": "[encoded data removed]",
      "text/plain": [
       "<matplotlib.figure.Figure at 0x7f447ca65a20>"
      ]
     },
     "metadata": {},
     "output_type": "display_data"
    }
   ],
   "source": [
    "rows, columns = 5, 2\n",
    "fig, axs = plt.subplots(rows, columns, figsize=(30, 10))\n",
    "for i in range(columns):\n",
    "    for j in range(rows):\n",
    "        axs[j, i].pcolormesh(range(sigmal.shape[1]), -depBC[1:], \n",
    "                             np.ma.masked_array(sigmal[:-1,:,i+j*columns] - sigmal[1:, :, i+j*columns], \n",
    "                                                mask=tmask[1:, :, i+j*columns]), cmap=cm.curl, vmax=1, vmin=-1)\n",
    "        axs[j, i].set_ylim(-300, 0)\n",
    "        axs[j, i].set_xlim(0, 91)\n",
    "print(np.nanmax(sigmal[:-1, :, :] - sigmal[1:, :, :]))"
   ]
  },
  {
   "cell_type": "markdown",
   "metadata": {},
   "source": [
    "rows, columns = 10, 8\n",
    "fig, axs = plt.subplots(rows, columns, figsize=(30, 10))\n",
    "for i in range(columns):\n",
    "    for j in range(rows):\n",
    "        axs[j, i].pcolormesh(range(interpl['salt'].shape[2]), -depBC, \n",
    "                             np.ma.masked_array(interpl['salt'][:,i+j*columns], mask=tmask[:, i+j*columns]), cmap='plasma', vmax=34.5, vmin=30)\n",
    "        axs[j, i].set_ylim(-300, 0)\n",
    "        axs[j, i].set_xlim(0, 10)\n",
    "print (interpl['salt'].shape)"
   ]
  },
  {
   "cell_type": "markdown",
   "metadata": {},
   "source": [
    "# Write Out File"
   ]
  },
  {
   "cell_type": "code",
   "execution_count": 104,
   "metadata": {
    "collapsed": true
   },
   "outputs": [],
   "source": [
    "# Add some global attributes\n",
    "ds_attrs = {\n",
    "        'acknowledgements':\n",
    "            'Live Ocean http://faculty.washington.edu/pmacc/LO/LiveOcean.html',\n",
    "        'creator_email': 'sallen@eoas.ubc.ca',\n",
    "        'creator_name': 'Salish Sea MEOPAR Project Contributors',\n",
    "        'creator_url': 'https://salishsea-meopar-docs.readthedocs.org/',\n",
    "        'institution': 'UBC EOAS',\n",
    "        'institution_fullname': ('Earth, Ocean & Atmospheric Sciences,'\n",
    "                                 ' University of British Columbia'),\n",
    "        'summary': ('Temperature, Salinity and Nitrate from the Live Ocean model'\n",
    "                    ' interpolated in space onto the Salish Sea NEMO Model'\n",
    "                    ' western open boundary.'),\n",
    "        'source': ('http://nbviewer.jupyter.org/urls/bitbucket.org/'\n",
    "                   'salishsea/.../LiveOceanNew'),\n",
    "        'history':\n",
    "            ('[{}] File creation.'\n",
    "             .format(datetime.datetime.today().strftime('%Y-%m-%d')))\n",
    "    }\n",
    "\n",
    "    \n"
   ]
  },
  {
   "cell_type": "code",
   "execution_count": 105,
   "metadata": {
    "collapsed": true
   },
   "outputs": [],
   "source": [
    "# make xarrays\n",
    "var_attrs = {'salt' :\n",
    "    {'_FillValue': np.nan,\n",
    "              'grid': \"SalishSea2\",\n",
    "              'long_name': \"Reference Salinity\",\n",
    "              'units': \"g/kg\"},\n",
    "             'temp' :\n",
    "             {'_FillValue': np.nan,\n",
    "              'grid': \"SalishSea2\",\n",
    "              'long_name': \"Conservative Temperature\",\n",
    "              'units': \"oC\"},\n",
    "            'NO3' :\n",
    "            {'_FillValue': np.nan,\n",
    "            'grid': \"SalishSea2\",\n",
    "            'units': \"muM\",\n",
    "            'long_name': \"Nitrate\"}}"
   ]
  },
  {
   "cell_type": "code",
   "execution_count": 106,
   "metadata": {},
   "outputs": [
    {
     "data": {
      "text/plain": [
       "(40, 87, 10)"
      ]
     },
     "execution_count": 106,
     "metadata": {},
     "output_type": "execute_result"
    }
   ],
   "source": [
    "interpl['salt'].shape"
   ]
  },
  {
   "cell_type": "code",
   "execution_count": 107,
   "metadata": {},
   "outputs": [
    {
     "data": {
      "text/plain": [
       "(1, 40, 1, 870)"
      ]
     },
     "execution_count": 107,
     "metadata": {},
     "output_type": "execute_result"
    }
   ],
   "source": [
    "for var in var_names:\n",
    "    interpl[var] = np.swapaxes(interpl[var], 1, 2)\n",
    "    interpl[var] = interpl[var].reshape(1, interpl[var].shape[0], 1, interpl[var].shape[2]*interpl[var].shape[1])\n",
    "interpl['salt'].shape"
   ]
  },
  {
   "cell_type": "code",
   "execution_count": 108,
   "metadata": {
    "collapsed": true
   },
   "outputs": [],
   "source": [
    "da = {}\n",
    "for var in var_names:\n",
    "    da[var] = xr.DataArray(data=interpl[var], \n",
    "                 name=LO_to_NEMO_var_map[var],\n",
    "                 dims=('time_counter', 'deptht', 'yb', 'xbT'),\n",
    "                 coords={'time_counter': [0],\n",
    "                        'deptht': depBC,\n",
    "                        'yb': [1],\n",
    "                        'xbT' : np.arange(interpl[var].shape[3])},\n",
    "                 attrs=var_attrs[var])"
   ]
  },
  {
   "cell_type": "code",
   "execution_count": 109,
   "metadata": {},
   "outputs": [],
   "source": [
    "ds = xr.Dataset(data_vars={'vosaline': da['salt'],\n",
    "                          'votemper': da['temp'],\n",
    "                          'NO3': da['NO3']\n",
    "                          },\n",
    "               coords={'time_counter': [0],\n",
    "                        'deptht': depBC,\n",
    "                        'yb': [1],\n",
    "                        'xbT' : np.arange(interpl['salt'].shape[3])},\n",
    "               attrs=ds_attrs)"
   ]
  },
  {
   "cell_type": "code",
   "execution_count": 110,
   "metadata": {},
   "outputs": [
    {
     "data": {
      "text/plain": [
       "<xarray.Dataset>\n",
       "Dimensions:       (deptht: 40, time_counter: 1, xbT: 870, yb: 1)\n",
       "Coordinates:\n",
       "  * deptht        (deptht) float64 0.5 1.5 2.5 3.5 4.5 5.5 6.5 7.501 8.501 ...\n",
       "  * time_counter  (time_counter) int64 0\n",
       "  * yb            (yb) int64 1\n",
       "  * xbT           (xbT) int64 0 1 2 3 4 5 6 7 8 9 10 11 12 13 14 15 16 17 18 ...\n",
       "Data variables:\n",
       "    vosaline      (time_counter, deptht, yb, xbT) float64 31.11 31.06 31.03 ...\n",
       "    votemper      (time_counter, deptht, yb, xbT) float64 7.723 7.725 7.742 ...\n",
       "    NO3           (time_counter, deptht, yb, xbT) float64 12.2 11.56 11.23 ...\n",
       "Attributes:\n",
       "    creator_url:           https://salishsea-meopar-docs.readthedocs.org/\n",
       "    source:                http://nbviewer.jupyter.org/urls/bitbucket.org/sal...\n",
       "    creator_email:         sallen@eoas.ubc.ca\n",
       "    institution:           UBC EOAS\n",
       "    acknowledgements:      Live Ocean http://faculty.washington.edu/pmacc/LO/...\n",
       "    creator_name:          Salish Sea MEOPAR Project Contributors\n",
       "    institution_fullname:  Earth, Ocean & Atmospheric Sciences, University of...\n",
       "    history:               [2017-12-27] File creation.\n",
       "    summary:               Temperature, Salinity and Nitrate from the Live Oc..."
      ]
     },
     "execution_count": 110,
     "metadata": {},
     "output_type": "execute_result"
    }
   ],
   "source": [
    "ds"
   ]
  },
  {
   "cell_type": "code",
   "execution_count": 111,
   "metadata": {},
   "outputs": [
    {
     "name": "stdout",
     "output_type": "stream",
     "text": [
      "single_LO_y2017m12d27.nc\n"
     ]
    }
   ],
   "source": [
    "filename = 'single_LO_'+sdt.strftime('y%Ym%md%d')+'.nc'\n",
    "print(filename)"
   ]
  },
  {
   "cell_type": "code",
   "execution_count": 112,
   "metadata": {},
   "outputs": [],
   "source": [
    "ds.to_netcdf(path='stuffit.nc', unlimited_dims=('time_counter'))\n",
    "#        encoding={'time_counter': {'units': 'minutes since 1970-01-01 00:00'}},"
   ]
  },
  {
   "cell_type": "code",
   "execution_count": 113,
   "metadata": {},
   "outputs": [],
   "source": [
    "os.rename('stuffit.nc', filename)"
   ]
  },
  {
   "cell_type": "code",
   "execution_count": null,
   "metadata": {
    "collapsed": true
   },
   "outputs": [],
   "source": []
  }
 ],
 "metadata": {
  "anaconda-cloud": {},
  "kernelspec": {
   "display_name": "Python [conda env:py3]",
   "language": "python",
   "name": "conda-env-py3-py"
  },
  "language_info": {
   "codemirror_mode": {
    "name": "ipython",
    "version": 3
   },
   "file_extension": ".py",
   "mimetype": "text/x-python",
   "name": "python",
   "nbconvert_exporter": "python",
   "pygments_lexer": "ipython3",
   "version": "3.5.2"
  },
  "toc": {
   "colors": {
    "hover_highlight": "#DAA520",
    "running_highlight": "#FF0000",
    "selected_highlight": "#FFD700"
   },
   "moveMenuLeft": true,
   "nav_menu": {
    "height": "269px",
    "width": "252px"
   },
   "navigate_menu": true,
   "number_sections": true,
   "sideBar": true,
   "threshold": 4,
   "toc_cell": false,
   "toc_section_display": "block",
   "toc_window_display": true,
   "widenNotebook": false
  }
 },
 "nbformat": 4,
 "nbformat_minor": 2
}
