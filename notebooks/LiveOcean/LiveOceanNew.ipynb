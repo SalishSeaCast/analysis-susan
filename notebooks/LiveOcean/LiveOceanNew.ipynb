{
 "cells": [
  {
   "cell_type": "markdown",
   "metadata": {},
   "source": [
    "Return to Live Ocean Files and see if we can do better"
   ]
  },
  {
   "cell_type": "code",
   "execution_count": 60,
   "metadata": {
    "collapsed": true
   },
   "outputs": [],
   "source": [
    "import cmocean.cm as cm\n",
    "import datetime\n",
    "import importlib\n",
    "import matplotlib.pyplot as plt\n",
    "import mpl_toolkits.basemap as Basemap\n",
    "import netCDF4 as nc\n",
    "import numpy as np\n",
    "import os\n",
    "import scipy.interpolate as sinter\n",
    "import xarray as xr\n",
    "\n",
    "from salishsea_tools import LiveOcean_grid as grid\n",
    "from salishsea_tools import gsw_calls\n",
    "from salishsea_tools import LiveOcean_BCs as nancy\n",
    "\n",
    "%matplotlib inline"
   ]
  },
  {
   "cell_type": "code",
   "execution_count": 61,
   "metadata": {},
   "outputs": [
    {
     "data": {
      "text/plain": [
       "<module 'salishsea_tools.LiveOcean_BCs' from '/ocean/sallen/allen/research/Meopar/Tools/SalishSeaTools/salishsea_tools/LiveOcean_BCs.py'>"
      ]
     },
     "execution_count": 61,
     "metadata": {},
     "output_type": "execute_result"
    }
   ],
   "source": [
    "importlib.reload(nancy)"
   ]
  },
  {
   "cell_type": "markdown",
   "metadata": {},
   "source": [
    "# Define some stuff"
   ]
  },
  {
   "cell_type": "code",
   "execution_count": 62,
   "metadata": {
    "collapsed": true
   },
   "outputs": [],
   "source": [
    "var_meta = {'vosaline': {'grid': 'SalishSea2',\n",
    "                             'long_name': 'Practical Salinity',\n",
    "                             'units': 'psu'},\n",
    "                'votemper': {'grid': 'SalishSea2',\n",
    "                             'long_name': 'Potential Temperature',\n",
    "                             'units': 'deg C'}\n",
    "                }\n",
    "\n",
    "\n",
    "LO_to_NEMO_var_map = {'salt': 'vosaline',\n",
    "                          'temp': 'votemper',\n",
    "                     'NO3': 'NO3'}\n",
    "\n",
    "\n",
    "    "
   ]
  },
  {
   "cell_type": "markdown",
   "metadata": {},
   "source": [
    "# Load BC information\n",
    " "
   ]
  },
  {
   "cell_type": "code",
   "execution_count": 63,
   "metadata": {},
   "outputs": [],
   "source": [
    "depBC, lonBC, latBC, shape = nancy.load_SalishSea_boundary_grid(imin=376-1, imax=470, rim=10, \n",
    "                                                          meshfilename='/home/sallen/MEOPAR/grid/mesh_mask201702.nc')"
   ]
  },
  {
   "cell_type": "markdown",
   "metadata": {},
   "source": [
    "# Specify the (New) Boundary Grid"
   ]
  },
  {
   "cell_type": "markdown",
   "metadata": {
    "collapsed": true
   },
   "source": [
    "imin = 376 - 1  # want 376  # have 381\n",
    "imax = 470 # want 470 # have 467\n",
    "rim = 10 # and remember that NEMO doesn't use the first grid point\n",
    "\n",
    "with nc.Dataset('/home/sallen/MEOPAR/grid/mesh_mask201702.nc') as meshfile:\n",
    "\n",
    "\n",
    "    lonBC = meshfile.variables['nav_lon'][imin:imax, 1:rim+1]\n",
    "    latBC = meshfile.variables['nav_lat'][imin:imax, 1:rim+1]\n",
    "    mbathy = meshfile.variables['mbathy'][0, imin:imax, 1:rim+1]\n",
    "    gdepw = meshfile.variables['gdepw_0'][0, :, imin:imax, 1:rim+1]\n",
    "    surface_tmask = meshfile.variables['tmask'][0, 0, imin:imax, 1:rim+1]\n",
    "    tmask = meshfile.variables['tmask'][0, :, imin:imax, 1:rim+1]\n",
    "    depBC = meshfile.variables['gdept_1d'][0]\n",
    "\n",
    "surface_tmask = np.abs(surface_tmask - 1)\n",
    "tmask = tmask -1\n",
    "shape = lonBC.shape\n",
    "\n",
    "NEMO_depth = np.zeros(shape)\n",
    "for i in range(shape[1]):\n",
    "    for j in range(shape[0]):\n",
    "        level = mbathy[j, i]\n",
    "        NEMO_depth[j, i] = gdepw[level, j, i]\n",
    "NEMO_raw = np.copy(NEMO_depth)\n",
    "NEMO_depth = np.ma.masked_array(NEMO_depth, mask=surface_tmask)"
   ]
  },
  {
   "cell_type": "markdown",
   "metadata": {},
   "source": [
    "# Get the Live Ocean File"
   ]
  },
  {
   "cell_type": "code",
   "execution_count": 64,
   "metadata": {},
   "outputs": [],
   "source": [
    "date = '2017-12-29'\n",
    "d = nancy.load_LiveOcean(date)"
   ]
  },
  {
   "cell_type": "markdown",
   "metadata": {},
   "source": [
    "# Process Live Ocean File"
   ]
  },
  {
   "cell_type": "markdown",
   "metadata": {},
   "source": [
    "## Depth Interpolation"
   ]
  },
  {
   "cell_type": "markdown",
   "metadata": {},
   "source": [
    "def interpolate_to_NEMO_depths(dataset, depBC,\n",
    "    var_names = ['salt', 'temp', 'NO3']):\n",
    "\n",
    "    interps = {}\n",
    "    for var_name in var_names:\n",
    "        var_interp = np.zeros(dataset[var_name][0].shape)\n",
    "        for j in range(var_interp.shape[1]):\n",
    "            for i in range(var_interp.shape[2]):\n",
    "                LO_depths = dataset.z_rho.values[0, :, j, i]\n",
    "                var = dataset[var_name].values[0, :, j, i]\n",
    "                var_interp[:, j, i] = np.interp(\n",
    "                    -depBC, LO_depths, var, left=np.nan)\n",
    "        interps[var_name] = np.ma.masked_invalid(var_interp)\n",
    "    return interps"
   ]
  },
  {
   "cell_type": "code",
   "execution_count": 65,
   "metadata": {
    "collapsed": true
   },
   "outputs": [],
   "source": [
    "interps = nancy.interpolate_to_NEMO_depths(d, depBC)"
   ]
  },
  {
   "cell_type": "code",
   "execution_count": 66,
   "metadata": {},
   "outputs": [],
   "source": [
    "dataset = d\n",
    "lonsLO = dataset.lon_rho.values[0, :]\n",
    "latsLO = dataset.lat_rho.values[:, 0]"
   ]
  },
  {
   "cell_type": "markdown",
   "metadata": {},
   "source": [
    "fig, ax = plt.subplots(1, 1)\n",
    "ax.pcolormesh(lonsLO, latsLO, interps['salt'][0], cmap=cm.haline)\n",
    "ax.pcolormesh(lonBC, latBC, 1-tmask[0], cmap='copper')"
   ]
  },
  {
   "cell_type": "markdown",
   "metadata": {},
   "source": [
    "## Convert to TEOS-10"
   ]
  },
  {
   "cell_type": "code",
   "execution_count": 67,
   "metadata": {},
   "outputs": [],
   "source": [
    "var_meta, interps['salt'], interps['temp'] = \\\n",
    "            nancy._convert_TS_to_TEOS10(\n",
    "                var_meta, interps['salt'], interps['temp'])"
   ]
  },
  {
   "cell_type": "markdown",
   "metadata": {},
   "source": [
    "## Remove South of Tatoosh"
   ]
  },
  {
   "cell_type": "markdown",
   "metadata": {
    "collapsed": true
   },
   "source": [
    "for var in interps.keys():\n",
    "    print (var)\n",
    "    for i in range(6):\n",
    "        for j in range(17):\n",
    "            interps[var][:, i, j] = np.nan\n",
    "\n",
    "    interps[var] = np.ma.masked_invalid(interps[var][:])"
   ]
  },
  {
   "cell_type": "code",
   "execution_count": 68,
   "metadata": {},
   "outputs": [],
   "source": [
    "interps = nancy.remove_south_of_Tatoosh(interps)"
   ]
  },
  {
   "cell_type": "markdown",
   "metadata": {},
   "source": [
    "fig, axs = plt.subplots(7, 7, figsize=(20, 20))\n",
    "for i in range(7):\n",
    "    for j in range(7):\n",
    "        axs[j, i].pcolormesh(interps['NO3'][i+j*5], vmax=40, vmin=0)\n",
    "        axs[j, i].text(20, 23, str(i+j*5))\n",
    "        axs[j, i].set_xlim(0, 26)\n",
    "        axs[j, i].set_ylim(0, 31)"
   ]
  },
  {
   "cell_type": "markdown",
   "metadata": {},
   "source": [
    "fig, axs = plt.subplots(7, 7, figsize=(20, 20))\n",
    "for i in range(7):\n",
    "    for j in range(7):\n",
    "        axs[j, i].pcolormesh(interps['temp'][i+j*5], cmap=cm.haline)\n",
    "        axs[j, i].text(20, 23, str(i+j*5))\n",
    "        axs[j, i].set_xlim(0, 26)\n",
    "        axs[j, i].set_ylim(0, 31)"
   ]
  },
  {
   "cell_type": "markdown",
   "metadata": {},
   "source": [
    "## Fill"
   ]
  },
  {
   "cell_type": "markdown",
   "metadata": {},
   "source": [
    "def fill_box(interps, maxk=35):\n",
    "    for var in interps.keys():\n",
    "        for k in range(maxk):\n",
    "            array = np.ma.masked_invalid(interps[var][k])\n",
    "            xx, yy = np.meshgrid(range(interps[var].shape[2]), \n",
    "                                 range(interps[var].shape[1]))\n",
    "            x1 = xx[~array.mask]\n",
    "            y1 = yy[~array.mask]\n",
    "            newarr = array[~array.mask]\n",
    "            interps[var][k] = sinter.griddata((x1, y1), newarr.ravel(),\n",
    "                         (xx, yy), method='nearest')\n",
    "    return interps"
   ]
  },
  {
   "cell_type": "code",
   "execution_count": 69,
   "metadata": {},
   "outputs": [],
   "source": [
    "interps = nancy.fill_box(interps)"
   ]
  },
  {
   "cell_type": "markdown",
   "metadata": {},
   "source": [
    "fig, axs = plt.subplots(7, 7, figsize=(20, 20))\n",
    "for i in range(7):\n",
    "    for j in range(7):\n",
    "        axs[j, i].pcolormesh(interps['salt'][i+j*5], cmap=cm.haline, vmax=34.5, vmin=30)\n",
    "        axs[j, i].text(20, 23, str(i+j*5))\n",
    "        axs[j, i].set_xlim(0, 26)\n",
    "        axs[j, i].set_ylim(0, 31)"
   ]
  },
  {
   "cell_type": "markdown",
   "metadata": {},
   "source": [
    "fig, axs = plt.subplots(7, 7, figsize=(20, 20))\n",
    "for i in range(7):\n",
    "    for j in range(7):\n",
    "        axs[j, i].pcolormesh(interps['temp'][i+j*5], cmap=cm.thermal, vmax=9, vmin=7)\n",
    "        axs[j, i].text(20, 23, str(i+j*5))\n",
    "        axs[j, i].set_xlim(0, 26)\n",
    "        axs[j, i].set_ylim(0, 31)"
   ]
  },
  {
   "cell_type": "markdown",
   "metadata": {},
   "source": [
    "## Convect"
   ]
  },
  {
   "cell_type": "code",
   "execution_count": 70,
   "metadata": {
    "collapsed": true
   },
   "outputs": [],
   "source": [
    "sigma = gsw_calls.generic_gsw_caller('gsw_sigma0.m', [interps['salt'][:], interps['temp'][:] ])"
   ]
  },
  {
   "cell_type": "markdown",
   "metadata": {
    "collapsed": true,
    "scrolled": false
   },
   "source": [
    "def convect(sigma, interps, var_names):\n",
    "    kmax, imax, jmax = sigma.shape\n",
    "    good = False\n",
    "    while not good:\n",
    "        print('Loop')\n",
    "        good = True\n",
    "        for k in range(kmax - 1):\n",
    "            for i in range(imax):\n",
    "                for j in range(jmax):\n",
    "                    if sigma[k, i, j] > sigma[k + 1, i, j]:\n",
    "                        good = False\n",
    "                        for var in var_names:\n",
    "                            interps[var][k, i, j], interps[var][\n",
    "                                k + 1, i, j] = interps[var][\n",
    "                                    k + 1, i, j], interps[var][k, i, j]\n",
    "                        sigma[k, i, j], sigma[k + 1, i, j] = sigma[\n",
    "                            k + 1, i, j], sigma[k, i, j]\n",
    "    return sigma, interps"
   ]
  },
  {
   "cell_type": "code",
   "execution_count": 71,
   "metadata": {},
   "outputs": [],
   "source": [
    "sigma, interps = nancy.convect(sigma, interps)"
   ]
  },
  {
   "cell_type": "markdown",
   "metadata": {},
   "source": [
    "columns = 7\n",
    "rows = 5\n",
    "fig, axs = plt.subplots(rows, columns, figsize=(20, 20))\n",
    "for i in range(columns):\n",
    "    for j in range(rows):\n",
    "        axs[j, i].pcolormesh(interps['salt'][i+j*columns], cmap='plasma', vmax=34.5, vmin=30)\n",
    "        axs[j, i].text(20, 23, str(i+j*columns))\n",
    "        axs[j, i].set_xlim(0, 26)\n",
    "        axs[j, i].set_ylim(0, 31)\n",
    "print(np.mean(interps['salt'][0]))\n",
    "print(np.mean(interps['salt'][15]))\n",
    "print(np.mean(interps['salt'][30]))\n"
   ]
  },
  {
   "cell_type": "markdown",
   "metadata": {},
   "source": [
    "columns = 7\n",
    "rows = 5\n",
    "fig, axs = plt.subplots(rows, columns, figsize=(20, 20))\n",
    "for i in range(columns):\n",
    "    for j in range(rows):\n",
    "        axs[j, i].pcolormesh(interps['temp'][i+j*columns], cmap=cm.thermal, vmax=9, vmin=7)\n",
    "        axs[j, i].text(20, 23, str(i+j*columns))\n",
    "        axs[j, i].set_xlim(0, 26)\n",
    "        axs[j, i].set_ylim(0, 31)\n",
    "print(np.mean(interps['temp'][0]))\n",
    "print(np.mean(interps['temp'][15]))\n",
    "print(np.mean(interps['temp'][30]))"
   ]
  },
  {
   "cell_type": "markdown",
   "metadata": {},
   "source": [
    "fig, ax = plt.subplots(1, 1)\n",
    "mesh = ax.pcolormesh(sigma[:-1, :, 5] - sigma[1:, :, 5], vmin=-2, vmax=2, cmap='bwr')\n",
    "fig.colorbar(mesh)\n",
    "ax.invert_yaxis()\n",
    "print(np.nanmax(sigma[:-1, :, :] - sigma[1:, :, :]))"
   ]
  },
  {
   "cell_type": "markdown",
   "metadata": {},
   "source": [
    "## Extend to Depth"
   ]
  },
  {
   "cell_type": "markdown",
   "metadata": {
    "collapsed": true
   },
   "source": [
    "var_names = interps.keys()\n",
    "for var in var_names:\n",
    "    interps[var][35:] = interps[var][34]"
   ]
  },
  {
   "cell_type": "code",
   "execution_count": 72,
   "metadata": {
    "collapsed": true
   },
   "outputs": [],
   "source": [
    "interps = nancy.extend_to_depth(interps)"
   ]
  },
  {
   "cell_type": "markdown",
   "metadata": {},
   "source": [
    "## Interpolate Horizontally onto NEMO grid"
   ]
  },
  {
   "cell_type": "code",
   "execution_count": 73,
   "metadata": {
    "collapsed": true
   },
   "outputs": [],
   "source": [
    "def interpolate_to_NEMO_lateral(interps, dataset, NEMOlon, NEMOlat, shape):\n",
    "    interpl = {}\n",
    "    lonsLO = dataset.lon_rho.values[0, :]\n",
    "    latsLO = dataset.lat_rho.values[:, 0]\n",
    "    for var in interps.keys():\n",
    "        var_new = np.zeros((interps[var].shape[0], shape[0], shape[1]))\n",
    "        for k in range(var_new.shape[0]):\n",
    "            var_grid = interps[var][k, :, :]\n",
    "            var_new[k, ...] = Basemap.interp(\n",
    "                var_grid, lonsLO, latsLO, NEMOlon, NEMOlat)\n",
    "        interpl[var] = var_new\n",
    "    return interpl"
   ]
  },
  {
   "cell_type": "code",
   "execution_count": 74,
   "metadata": {},
   "outputs": [],
   "source": [
    "interpl = nancy.interpolate_to_NEMO_lateral(interps, d, lonBC, latBC, shape)"
   ]
  },
  {
   "cell_type": "markdown",
   "metadata": {},
   "source": [
    "## Convect Again"
   ]
  },
  {
   "cell_type": "code",
   "execution_count": 75,
   "metadata": {
    "collapsed": true
   },
   "outputs": [],
   "source": [
    "sigmal = gsw_calls.generic_gsw_caller('gsw_sigma0.m', [interpl['salt'][:], interpl['temp'][:] ])"
   ]
  },
  {
   "cell_type": "code",
   "execution_count": 76,
   "metadata": {},
   "outputs": [
    {
     "name": "stdout",
     "output_type": "stream",
     "text": [
      "0.001\n",
      "0.0\n"
     ]
    }
   ],
   "source": [
    "print(np.nanmax(sigmal[:-1, :, :] - sigmal[1:, :, :]))\n",
    "sigmal, interpl = nancy.convect(sigmal, interpl)\n",
    "print(np.nanmax(sigmal[:-1, :, :] - sigmal[1:, :, :]))"
   ]
  },
  {
   "cell_type": "markdown",
   "metadata": {},
   "source": [
    "rows, columns = 4, 10\n",
    "fig, axs = plt.subplots(rows, columns, figsize=(10, 10))\n",
    "for i in range(columns):\n",
    "    for j in range(rows):\n",
    "        axs[j, i].pcolormesh(interpl['salt'][i+j*columns], cmap='plasma', vmax=34.5, vmin=30)\n",
    "        axs[j, i].text(5, 80, str(i+j*columns))\n",
    "        axs[j, i].set_xlim(0, 10)\n",
    "        axs[j, i].set_ylim(0, 91)\n",
    "print(np.mean(interpl['salt'][0]))\n",
    "print(np.mean(interpl['salt'][15]))\n",
    "print(np.mean(interpl['salt'][30]))"
   ]
  },
  {
   "cell_type": "markdown",
   "metadata": {},
   "source": [
    "rows, columns = 5, 2\n",
    "fig, axs = plt.subplots(rows, columns, figsize=(30, 10))\n",
    "for i in range(columns):\n",
    "    for j in range(rows):\n",
    "        axs[j, i].pcolormesh(range(interpl['salt'].shape[1]), -depBC, \n",
    "                             np.ma.masked_array(interpl['salt'][:,:,i+j*columns], mask=tmask[:, :, i+j*columns]), cmap='plasma', vmax=34.5, vmin=30)\n",
    "        axs[j, i].set_ylim(-300, 0)\n",
    "        axs[j, i].set_xlim(0, imax-imin)\n",
    "print (interpl['salt'].shape)"
   ]
  },
  {
   "cell_type": "markdown",
   "metadata": {},
   "source": [
    "rows, columns = 5, 2\n",
    "fig, axs = plt.subplots(rows, columns, figsize=(30, 10))\n",
    "for i in range(columns):\n",
    "    for j in range(rows):\n",
    "        axs[j, i].pcolormesh(range(interpl['temp'].shape[1]), -depBC, \n",
    "                             np.ma.masked_array(interpl['temp'][:,:,i+j*columns], mask=tmask[:, :, i+j*columns]), cmap=cm.thermal, vmax=9, vmin=7)\n",
    "        axs[j, i].set_ylim(-300, 0)\n",
    "        axs[j, i].set_xlim(0, 91)\n",
    "print (interpl['temp'].shape)"
   ]
  },
  {
   "cell_type": "markdown",
   "metadata": {},
   "source": [
    "rows, columns = 5, 2\n",
    "fig, axs = plt.subplots(rows, columns, figsize=(30, 10))\n",
    "for i in range(columns):\n",
    "    for j in range(rows):\n",
    "        axs[j, i].pcolormesh(range(sigmal.shape[1]), -depBC[1:], \n",
    "                             np.ma.masked_array(sigmal[:-1,:,i+j*columns] - sigmal[1:, :, i+j*columns], \n",
    "                                                mask=tmask[1:, :, i+j*columns]), cmap=cm.curl, vmax=1, vmin=-1)\n",
    "        axs[j, i].set_ylim(-300, 0)\n",
    "        axs[j, i].set_xlim(0, imax-imin)\n",
    "print(np.nanmax(sigmal[:-1, :, :] - sigmal[1:, :, :]))"
   ]
  },
  {
   "cell_type": "markdown",
   "metadata": {},
   "source": [
    "rows, columns = 10, 8\n",
    "fig, axs = plt.subplots(rows, columns, figsize=(30, 10))\n",
    "for i in range(columns):\n",
    "    for j in range(rows):\n",
    "        axs[j, i].pcolormesh(range(interpl['salt'].shape[2]), -depBC, \n",
    "                             np.ma.masked_array(interpl['salt'][:,i+j*columns], mask=tmask[:, i+j*columns]), cmap='plasma', vmax=34.5, vmin=30)\n",
    "        axs[j, i].set_ylim(-300, 0)\n",
    "        axs[j, i].set_xlim(0, 10)\n",
    "print (interpl['salt'].shape)"
   ]
  },
  {
   "cell_type": "markdown",
   "metadata": {},
   "source": [
    "# Write Out File"
   ]
  },
  {
   "cell_type": "code",
   "execution_count": 77,
   "metadata": {
    "collapsed": true
   },
   "outputs": [],
   "source": [
    "# Add some global attributes\n",
    "ds_attrs = {\n",
    "        'acknowledgements':\n",
    "            'Live Ocean http://faculty.washington.edu/pmacc/LO/LiveOcean.html',\n",
    "        'creator_email': 'sallen@eoas.ubc.ca',\n",
    "        'creator_name': 'Salish Sea MEOPAR Project Contributors',\n",
    "        'creator_url': 'https://salishsea-meopar-docs.readthedocs.org/',\n",
    "        'institution': 'UBC EOAS',\n",
    "        'institution_fullname': ('Earth, Ocean & Atmospheric Sciences,'\n",
    "                                 ' University of British Columbia'),\n",
    "        'summary': ('Temperature, Salinity and Nitrate from the Live Ocean model'\n",
    "                    ' interpolated in space onto the Salish Sea NEMO Model'\n",
    "                    ' western open boundary. Silicon from Nitrate.'),\n",
    "        'source': ('http://nbviewer.jupyter.org/urls/bitbucket.org/'\n",
    "                   'salishsea/.../LiveOceanNew'),\n",
    "        'history':\n",
    "            ('[{}] File creation.'\n",
    "             .format(datetime.datetime.today().strftime('%Y-%m-%d')))\n",
    "    }\n",
    "\n",
    "    \n"
   ]
  },
  {
   "cell_type": "code",
   "execution_count": 78,
   "metadata": {},
   "outputs": [],
   "source": [
    "# make xarrays\n",
    "var_attrs = {'salt' :\n",
    "    {'_FillValue': np.nan,\n",
    "              'grid': \"SalishSea2\",\n",
    "              'long_name': \"Reference Salinity\",\n",
    "              'units': \"g/kg\"},\n",
    "             'temp' :\n",
    "             {'_FillValue': np.nan,\n",
    "              'grid': \"SalishSea2\",\n",
    "              'long_name': \"Conservative Temperature\",\n",
    "              'units': \"oC\"},\n",
    "            'NO3' :\n",
    "            {'_FillValue': np.nan,\n",
    "            'grid': \"SalishSea2\",\n",
    "            'units': \"muM\",\n",
    "            'long_name': \"Nitrate\"},\n",
    "             'Si' :\n",
    "            {'_FillValue': np.nan,\n",
    "            'grid': \"SalishSea2\",\n",
    "            'units': \"muM\",\n",
    "            'long_name': \"Silicon\"}\n",
    "            }"
   ]
  },
  {
   "cell_type": "code",
   "execution_count": 79,
   "metadata": {},
   "outputs": [
    {
     "data": {
      "text/plain": [
       "(40, 95, 10)"
      ]
     },
     "execution_count": 79,
     "metadata": {},
     "output_type": "execute_result"
    }
   ],
   "source": [
    "interpl['salt'].shape"
   ]
  },
  {
   "cell_type": "code",
   "execution_count": 80,
   "metadata": {},
   "outputs": [
    {
     "data": {
      "text/plain": [
       "(1, 40, 1, 950)"
      ]
     },
     "execution_count": 80,
     "metadata": {},
     "output_type": "execute_result"
    }
   ],
   "source": [
    "for var in interpl.keys():\n",
    "    interpl[var] = np.swapaxes(interpl[var], 1, 2)\n",
    "    interpl[var] = interpl[var].reshape(1, interpl[var].shape[0], 1, interpl[var].shape[2]*interpl[var].shape[1])\n",
    "interpl['salt'].shape"
   ]
  },
  {
   "cell_type": "markdown",
   "metadata": {},
   "source": [
    "## Calculate Quantities LiveOcean doesn't Track like SI"
   ]
  },
  {
   "cell_type": "code",
   "execution_count": 81,
   "metadata": {
    "collapsed": true
   },
   "outputs": [],
   "source": [
    "xtra_var = ['Si']\n",
    "calculated = {}\n",
    "\n",
    "# see fit in SivsN\n",
    "a, b, c = 0, 1.03, 0.015\n",
    "calculated['Si'] = a + b * interpl['NO3'] + c * interpl['NO3']**2"
   ]
  },
  {
   "cell_type": "code",
   "execution_count": 82,
   "metadata": {},
   "outputs": [],
   "source": [
    "da = {}\n",
    "for var in interpl.keys():\n",
    "    da[var] = xr.DataArray(data=interpl[var], \n",
    "                 name=LO_to_NEMO_var_map[var],\n",
    "                 dims=('time_counter', 'deptht', 'yb', 'xbT'),\n",
    "                 coords={'time_counter': [0],\n",
    "                        'deptht': depBC,\n",
    "                        'yb': [1],\n",
    "                        'xbT' : np.arange(interpl[var].shape[3])},\n",
    "                 attrs=var_attrs[var])\n",
    "for var in xtra_var:\n",
    "    da[var] = xr.DataArray(data=calculated[var],\n",
    "                          name = var,\n",
    "                          dims=('time_counter', 'deptht', 'yb', 'xbT'),\n",
    "                 coords={'time_counter': [0],\n",
    "                        'deptht': depBC,\n",
    "                        'yb': [1],\n",
    "                        'xbT' : np.arange(calculated[var].shape[3])},\n",
    "                 attrs=var_attrs[var])"
   ]
  },
  {
   "cell_type": "code",
   "execution_count": 83,
   "metadata": {},
   "outputs": [],
   "source": [
    "ds = xr.Dataset(data_vars={'vosaline': da['salt'],\n",
    "                          'votemper': da['temp'],\n",
    "                          'NO3': da['NO3'],\n",
    "                           'Si': da['Si']\n",
    "                          },\n",
    "               coords={'time_counter': [0],\n",
    "                        'deptht': depBC,\n",
    "                        'yb': [1],\n",
    "                        'xbT' : np.arange(interpl['salt'].shape[3])},\n",
    "               attrs=ds_attrs)"
   ]
  },
  {
   "cell_type": "code",
   "execution_count": 84,
   "metadata": {},
   "outputs": [
    {
     "data": {
      "text/plain": [
       "<xarray.Dataset>\n",
       "Dimensions:       (deptht: 40, time_counter: 1, xbT: 950, yb: 1)\n",
       "Coordinates:\n",
       "  * time_counter  (time_counter) int64 0\n",
       "  * deptht        (deptht) float64 0.5 1.5 2.5 3.5 4.5 5.5 6.5 7.501 8.501 ...\n",
       "  * xbT           (xbT) int64 0 1 2 3 4 5 6 7 8 9 10 11 12 13 14 15 16 17 18 ...\n",
       "  * yb            (yb) int64 1\n",
       "Data variables:\n",
       "    Si            (time_counter, deptht, yb, xbT) float64 11.23 11.23 11.24 ...\n",
       "    vosaline      (time_counter, deptht, yb, xbT) float64 30.56 30.56 30.56 ...\n",
       "    NO3           (time_counter, deptht, yb, xbT) float64 9.572 9.572 9.574 ...\n",
       "    votemper      (time_counter, deptht, yb, xbT) float64 7.83 7.83 7.83 ...\n",
       "Attributes:\n",
       "    acknowledgements:      Live Ocean http://faculty.washington.edu/pmacc/LO/...\n",
       "    source:                http://nbviewer.jupyter.org/urls/bitbucket.org/sal...\n",
       "    creator_name:          Salish Sea MEOPAR Project Contributors\n",
       "    summary:               Temperature, Salinity and Nitrate from the Live Oc...\n",
       "    institution_fullname:  Earth, Ocean & Atmospheric Sciences, University of...\n",
       "    institution:           UBC EOAS\n",
       "    creator_url:           https://salishsea-meopar-docs.readthedocs.org/\n",
       "    history:               [2017-12-29] File creation.\n",
       "    creator_email:         sallen@eoas.ubc.ca"
      ]
     },
     "execution_count": 84,
     "metadata": {},
     "output_type": "execute_result"
    }
   ],
   "source": [
    "ds"
   ]
  },
  {
   "cell_type": "code",
   "execution_count": 85,
   "metadata": {},
   "outputs": [
    {
     "name": "stdout",
     "output_type": "stream",
     "text": [
      "single_LO_y2017m12d29.nc\n"
     ]
    }
   ],
   "source": [
    "sdt = datetime.datetime.strptime(date, '%Y-%m-%d')\n",
    "filename = 'single_LO_'+sdt.strftime('y%Ym%md%d')+'.nc'\n",
    "print(filename)"
   ]
  },
  {
   "cell_type": "code",
   "execution_count": 86,
   "metadata": {},
   "outputs": [],
   "source": [
    "ds.to_netcdf(path='stuffit.nc', unlimited_dims=('time_counter'),\n",
    "#             encoding={'time_counter': {'units': 'minutes since 1970-01-01 00:00'}}, \n",
    "             )       "
   ]
  },
  {
   "cell_type": "code",
   "execution_count": 87,
   "metadata": {},
   "outputs": [],
   "source": [
    "os.rename('stuffit.nc', filename)"
   ]
  },
  {
   "cell_type": "code",
   "execution_count": 88,
   "metadata": {},
   "outputs": [
    {
     "data": {
      "text/plain": [
       "<matplotlib.colorbar.Colorbar at 0x7f7ee5d2e2b0>"
      ]
     },
     "execution_count": 88,
     "metadata": {},
     "output_type": "execute_result"
    },
    {
     "data": {
      "image/png": "[encoded data removed]",
      "text/plain": [
       "<matplotlib.figure.Figure at 0x7f7f047e7630>"
      ]
     },
     "metadata": {},
     "output_type": "display_data"
    }
   ],
   "source": [
    "plt.pcolormesh(calculated['Si'][0, :, 0, :95])\n",
    "plt.colorbar()"
   ]
  },
  {
   "cell_type": "code",
   "execution_count": null,
   "metadata": {
    "collapsed": true
   },
   "outputs": [],
   "source": []
  }
 ],
 "metadata": {
  "anaconda-cloud": {},
  "kernelspec": {
   "display_name": "Python [conda env:py3]",
   "language": "python",
   "name": "conda-env-py3-py"
  },
  "language_info": {
   "codemirror_mode": {
    "name": "ipython",
    "version": 3
   },
   "file_extension": ".py",
   "mimetype": "text/x-python",
   "name": "python",
   "nbconvert_exporter": "python",
   "pygments_lexer": "ipython3",
   "version": "3.5.2"
  },
  "toc": {
   "colors": {
    "hover_highlight": "#DAA520",
    "running_highlight": "#FF0000",
    "selected_highlight": "#FFD700"
   },
   "moveMenuLeft": true,
   "nav_menu": {
    "height": "269px",
    "width": "252px"
   },
   "navigate_menu": true,
   "number_sections": true,
   "sideBar": true,
   "threshold": 4,
   "toc_cell": false,
   "toc_section_display": "block",
   "toc_window_display": true,
   "widenNotebook": false
  }
 },
 "nbformat": 4,
 "nbformat_minor": 2
}
