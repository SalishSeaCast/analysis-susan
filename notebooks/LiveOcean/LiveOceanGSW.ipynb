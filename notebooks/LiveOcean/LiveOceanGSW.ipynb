{
 "cells": [
  {
   "cell_type": "markdown",
   "metadata": {},
   "source": [
    "Return to Live Ocean Files and see if we can do better"
   ]
  },
  {
   "cell_type": "code",
   "execution_count": 2,
   "metadata": {
    "collapsed": true
   },
   "outputs": [],
   "source": [
    "import cmocean.cm as cm\n",
    "import datetime\n",
    "import gsw\n",
    "import importlib\n",
    "import matplotlib.pyplot as plt\n",
    "import mpl_toolkits.basemap as Basemap\n",
    "import netCDF4 as nc\n",
    "import numpy as np\n",
    "import os\n",
    "import scipy.interpolate as sinter\n",
    "import xarray as xr\n",
    "\n",
    "from salishsea_tools import LiveOcean_grid as grid\n",
    "from salishsea_tools import LiveOcean_BCs as nancy\n",
    "\n",
    "%matplotlib inline"
   ]
  },
  {
   "cell_type": "code",
   "execution_count": 47,
   "metadata": {},
   "outputs": [
    {
     "data": {
      "text/plain": [
       "<module 'salishsea_tools.LiveOcean_BCs' from '/ocean/sallen/allen/research/Meopar/Tools/SalishSeaTools/salishsea_tools/LiveOcean_BCs.py'>"
      ]
     },
     "execution_count": 47,
     "metadata": {},
     "output_type": "execute_result"
    }
   ],
   "source": [
    "importlib.reload(nancy)"
   ]
  },
  {
   "cell_type": "markdown",
   "metadata": {},
   "source": [
    "# Define some stuff"
   ]
  },
  {
   "cell_type": "code",
   "execution_count": 3,
   "metadata": {
    "collapsed": true
   },
   "outputs": [],
   "source": [
    "# Create metadeta for temperature and salinity (Live Ocean variables, NEMO grid)\n",
    "var_meta = {'vosaline': {'grid': 'SalishSea2',\n",
    "                             'long_name': 'Practical Salinity',\n",
    "                             'units': 'psu'},\n",
    "                'votemper': {'grid': 'SalishSea2',\n",
    "                             'long_name': 'Potential Temperature',\n",
    "                             'units': 'deg C'},\n",
    "                'NO3':      {'grid': 'SalishSea2',\n",
    "                             'long_name': 'Nitrate',\n",
    "                             'units': 'muM'},\n",
    "                'Si':       {'grid': 'SalishSea2',\n",
    "                             'long_name': 'Nitrate',\n",
    "                             'units': 'muM'},\n",
    "                'OXY':      {'grid': 'SalishSea2',\n",
    "                             'long_name': 'Oxygen',\n",
    "                             'units': 'muM'},\n",
    "                'DIC':      {'grid': 'SalishSea2',\n",
    "                             'long_name': 'Dissolved Inorganic Carbon',\n",
    "                             'units': 'muM'},\n",
    "                'TA':       {'grid': 'SalishSea2',\n",
    "                             'long_name': 'Total Alkalinity',\n",
    "                             'units': 'muM'},\n",
    "                }\n",
    "\n",
    "# Mapping from LiveOcean TS names to NEMO TS names\n",
    "LO_to_NEMO_var_map = {'salt': 'vosaline',\n",
    "                          'temp': 'votemper',\n",
    "                          'NO3': 'NO3',\n",
    "                          'Si': 'Si',\n",
    "                      'oxygen': 'OXY',\n",
    "                         'TIC': 'DIC',\n",
    "                  'alkalinity': 'TA',}\n"
   ]
  },
  {
   "cell_type": "markdown",
   "metadata": {},
   "source": [
    "# Load BC information and Specify the New Grid\n",
    " "
   ]
  },
  {
   "cell_type": "code",
   "execution_count": 4,
   "metadata": {
    "collapsed": true
   },
   "outputs": [],
   "source": [
    "depBC, lonBC, latBC, shape = nancy.load_SalishSea_boundary_grid(imin=376-1, imax=470, rim=10, \n",
    "                                                          meshfilename='/home/sallen/MEOPAR/grid/mesh_mask201702.nc')"
   ]
  },
  {
   "cell_type": "markdown",
   "metadata": {},
   "source": [
    "# Get the Live Ocean File"
   ]
  },
  {
   "cell_type": "code",
   "execution_count": 5,
   "metadata": {
    "collapsed": true
   },
   "outputs": [],
   "source": [
    "date = '2018-11-09'\n",
    "d = nancy.load_LiveOcean(date)"
   ]
  },
  {
   "cell_type": "markdown",
   "metadata": {},
   "source": [
    "# Process Live Ocean File"
   ]
  },
  {
   "cell_type": "markdown",
   "metadata": {},
   "source": [
    "## Depth Interpolation"
   ]
  },
  {
   "cell_type": "code",
   "execution_count": 22,
   "metadata": {},
   "outputs": [
    {
     "name": "stdout",
     "output_type": "stream",
     "text": [
      "(30, 98, 57)\n",
      "(40,)\n",
      "(30,)\n",
      "98\n"
     ]
    }
   ],
   "source": [
    "print(d.salt[0].shape)\n",
    "print(depBC.shape)\n",
    "print(d.z_rho.values[0, :, 1, 1].shape)\n",
    "print(d['salt'][0, 0].shape[0])"
   ]
  },
  {
   "cell_type": "code",
   "execution_count": 24,
   "metadata": {},
   "outputs": [],
   "source": [
    "interps = nancy.interpolate_to_NEMO_depths(d, depBC, var_names=(var for var in LO_to_NEMO_var_map if var != 'Si'))"
   ]
  },
  {
   "cell_type": "markdown",
   "metadata": {},
   "source": [
    "## Convert to TEOS-10"
   ]
  },
  {
   "cell_type": "code",
   "execution_count": 25,
   "metadata": {
    "collapsed": true
   },
   "outputs": [],
   "source": [
    "new_meta = var_meta.copy()\n",
    "new_meta['vosaline']['long_name'] = 'Reference Salinity'\n",
    "new_meta['vosaline']['units'] = 'g/kg'\n",
    "new_meta['votemper']['long_name'] = 'Conservative Temperature'"
   ]
  },
  {
   "cell_type": "code",
   "execution_count": 26,
   "metadata": {
    "collapsed": true
   },
   "outputs": [],
   "source": [
    "sal_ref = gsw.SR_from_SP(interps['salt'])"
   ]
  },
  {
   "cell_type": "code",
   "execution_count": 27,
   "metadata": {
    "collapsed": true
   },
   "outputs": [],
   "source": [
    "temp_cons = gsw.CT_from_pt(sal_ref[:], interps['temp'])"
   ]
  },
  {
   "cell_type": "code",
   "execution_count": 28,
   "metadata": {
    "collapsed": true
   },
   "outputs": [],
   "source": [
    "interps['salt'] = sal_ref\n",
    "interps['temp'] = temp_cons\n",
    "var_meta = new_meta"
   ]
  },
  {
   "cell_type": "markdown",
   "metadata": {},
   "source": [
    "## Remove South of Tatoosh"
   ]
  },
  {
   "cell_type": "code",
   "execution_count": 29,
   "metadata": {
    "collapsed": true
   },
   "outputs": [],
   "source": [
    "interps = nancy.remove_south_of_Tatoosh(interps)"
   ]
  },
  {
   "cell_type": "markdown",
   "metadata": {},
   "source": [
    "## Fill"
   ]
  },
  {
   "cell_type": "code",
   "execution_count": 30,
   "metadata": {
    "collapsed": true
   },
   "outputs": [],
   "source": [
    "interps = nancy.fill_box(interps)"
   ]
  },
  {
   "cell_type": "markdown",
   "metadata": {},
   "source": [
    "## Convect"
   ]
  },
  {
   "cell_type": "code",
   "execution_count": 31,
   "metadata": {
    "collapsed": true
   },
   "outputs": [],
   "source": [
    "sigma = gsw.sigma0(interps['salt'][:], interps['temp'][:] )"
   ]
  },
  {
   "cell_type": "code",
   "execution_count": 32,
   "metadata": {
    "collapsed": true
   },
   "outputs": [],
   "source": [
    "sigma, interps = nancy.convect(sigma, interps)"
   ]
  },
  {
   "cell_type": "markdown",
   "metadata": {},
   "source": [
    "## Extend to Depth"
   ]
  },
  {
   "cell_type": "code",
   "execution_count": 33,
   "metadata": {
    "collapsed": true
   },
   "outputs": [],
   "source": [
    "interps = nancy.extend_to_depth(interps)"
   ]
  },
  {
   "cell_type": "markdown",
   "metadata": {},
   "source": [
    "## Interpolate Horizontally onto NEMO grid"
   ]
  },
  {
   "cell_type": "code",
   "execution_count": 34,
   "metadata": {
    "collapsed": true
   },
   "outputs": [],
   "source": [
    "interpl = nancy.interpolate_to_NEMO_lateral(interps, d, lonBC, latBC, shape)"
   ]
  },
  {
   "cell_type": "markdown",
   "metadata": {},
   "source": [
    "## Convect Again and Stabilize"
   ]
  },
  {
   "cell_type": "code",
   "execution_count": 35,
   "metadata": {
    "collapsed": true
   },
   "outputs": [],
   "source": [
    "sigmal = gsw.sigma0(interpl['salt'][:], interpl['temp'][:])"
   ]
  },
  {
   "cell_type": "code",
   "execution_count": 36,
   "metadata": {},
   "outputs": [
    {
     "name": "stdout",
     "output_type": "stream",
     "text": [
      "0.0\n",
      "0.0\n"
     ]
    }
   ],
   "source": [
    "print(np.nanmax(sigmal[:-1, :, :] - sigmal[1:, :, :]))\n",
    "sigmal, interpl = nancy.convect(sigmal, interpl)\n",
    "interpl = nancy.stabilize(sigmal, interpl)\n",
    "print(np.nanmax(sigmal[:-1, :, :] - sigmal[1:, :, :]))"
   ]
  },
  {
   "cell_type": "markdown",
   "metadata": {},
   "source": [
    "## Reorder Array"
   ]
  },
  {
   "cell_type": "code",
   "execution_count": 37,
   "metadata": {
    "collapsed": true
   },
   "outputs": [],
   "source": [
    "for var in interpl.keys():\n",
    "    interpl[var] = np.swapaxes(interpl[var], 1, 2)\n",
    "    interpl[var] = interpl[var].reshape(1, interpl[var].shape[0], 1, interpl[var].shape[2]*interpl[var].shape[1])\n"
   ]
  },
  {
   "cell_type": "markdown",
   "metadata": {},
   "source": [
    "## Calculate Quantities LiveOcean doesn't Track like SI"
   ]
  },
  {
   "cell_type": "code",
   "execution_count": 38,
   "metadata": {
    "collapsed": true
   },
   "outputs": [],
   "source": [
    "interpl['Si'] = nancy.calculate_Si_from_NO3(interpl['NO3'])"
   ]
  },
  {
   "cell_type": "markdown",
   "metadata": {},
   "source": [
    "# Write Out File"
   ]
  },
  {
   "cell_type": "code",
   "execution_count": 39,
   "metadata": {
    "collapsed": true
   },
   "outputs": [],
   "source": [
    "ts = d.ocean_time.data\n",
    "ds = nancy.prepare_dataset(interpl, var_meta, LO_to_NEMO_var_map, depBC, ts)"
   ]
  },
  {
   "cell_type": "code",
   "execution_count": 40,
   "metadata": {},
   "outputs": [
    {
     "data": {
      "text/plain": [
       "<xarray.Dataset>\n",
       "Dimensions:       (deptht: 40, time_counter: 1, xbT: 950, yb: 1)\n",
       "Coordinates:\n",
       "  * time_counter  (time_counter) datetime64[ns] 2018-11-10T12:00:00\n",
       "  * yb            (yb) int64 1\n",
       "  * deptht        (deptht) float64 0.5 1.5 2.5 3.5 4.5 5.5 6.5 7.501 8.501 ...\n",
       "  * xbT           (xbT) int64 0 1 2 3 4 5 6 7 8 9 10 11 12 13 14 15 16 17 18 ...\n",
       "Data variables:\n",
       "    vosaline      (time_counter, deptht, yb, xbT) float64 30.46 30.46 30.46 ...\n",
       "    TA            (time_counter, deptht, yb, xbT) float64 2.174e+03 ...\n",
       "    NO3           (time_counter, deptht, yb, xbT) float64 8.086 8.086 8.086 ...\n",
       "    DIC           (time_counter, deptht, yb, xbT) float64 1.985e+03 ...\n",
       "    OXY           (time_counter, deptht, yb, xbT) float64 276.2 276.2 276.2 ...\n",
       "    Si            (time_counter, deptht, yb, xbT) float64 17.38 17.38 17.38 ...\n",
       "    votemper      (time_counter, deptht, yb, xbT) float64 10.65 10.65 10.65 ...\n",
       "Attributes:\n",
       "    creator_name:          Salish Sea MEOPAR Project Contributors\n",
       "    summary:               Temperature, Salinity, Nitrate, Oxygen, DIC and TA...\n",
       "    institution:           UBC EOAS\n",
       "    source:                http://nbviewer.jupyter.org/urls/bitbucket.org/sal...\n",
       "    creator_url:           https://salishsea-meopar-docs.readthedocs.org/\n",
       "    history:               [2018-11-09] File creation.\n",
       "    creator_email:         sallen@eoas.ubc.ca\n",
       "    acknowledgements:      Live Ocean http://faculty.washington.edu/pmacc/LO/...\n",
       "    institution_fullname:  Earth, Ocean & Atmospheric Sciences, University of..."
      ]
     },
     "execution_count": 40,
     "metadata": {},
     "output_type": "execute_result"
    }
   ],
   "source": [
    "ds"
   ]
  },
  {
   "cell_type": "code",
   "execution_count": 41,
   "metadata": {},
   "outputs": [
    {
     "name": "stdout",
     "output_type": "stream",
     "text": [
      "single_LO_y2018m11d09.nc\n"
     ]
    }
   ],
   "source": [
    "basename = 'single_LO'\n",
    "sdt = datetime.datetime.strptime(date, '%Y-%m-%d')\n",
    "filename = '{}_{}.nc'.format(\n",
    "                basename, sdt.strftime('y%Ym%md%d'))\n",
    "print(filename)"
   ]
  },
  {
   "cell_type": "code",
   "execution_count": 42,
   "metadata": {
    "collapsed": true
   },
   "outputs": [],
   "source": [
    "encoding = {\n",
    "    var: {\n",
    "       'zlib': True\n",
    "    }\n",
    "    for var in ds.data_vars\n",
    "}\n",
    "encoding['time_counter'] = {'units': 'minutes since 1970-01-01 00:00'}"
   ]
  },
  {
   "cell_type": "code",
   "execution_count": 43,
   "metadata": {
    "collapsed": true
   },
   "outputs": [],
   "source": [
    "ds.to_netcdf(path='stuffit.nc', unlimited_dims=('time_counter'),\n",
    "             encoding=encoding, \n",
    "             )       "
   ]
  },
  {
   "cell_type": "code",
   "execution_count": 44,
   "metadata": {
    "collapsed": true
   },
   "outputs": [],
   "source": [
    "os.rename('stuffit.nc', filename)"
   ]
  },
  {
   "cell_type": "code",
   "execution_count": 45,
   "metadata": {
    "collapsed": true
   },
   "outputs": [],
   "source": [
    "ds.close()"
   ]
  },
  {
   "cell_type": "markdown",
   "metadata": {},
   "source": [
    "# Just use Module"
   ]
  },
  {
   "cell_type": "code",
   "execution_count": 48,
   "metadata": {},
   "outputs": [
    {
     "data": {
      "text/plain": [
       "<module 'salishsea_tools.LiveOcean_BCs' from '/ocean/sallen/allen/research/Meopar/Tools/SalishSeaTools/salishsea_tools/LiveOcean_BCs.py'>"
      ]
     },
     "execution_count": 48,
     "metadata": {},
     "output_type": "execute_result"
    }
   ],
   "source": [
    "importlib.reload(nancy)"
   ]
  },
  {
   "cell_type": "code",
   "execution_count": 49,
   "metadata": {
    "collapsed": true
   },
   "outputs": [],
   "source": [
    "filepath = nancy.create_LiveOcean_TS_BCs('2018-11-09', bc_dir='./')"
   ]
  },
  {
   "cell_type": "code",
   "execution_count": null,
   "metadata": {
    "collapsed": true
   },
   "outputs": [],
   "source": [
    "before = nc.Dataset('/results/forcing/LiveOcean/boundary_conditions/LiveOcean_v201712_y2018m02d19.nc')\n",
    "after = nc.Dataset('./LiveOcean_v201712_y2018m02d19.nc')\n",
    "before = nc.Dataset('./LiveOcean_v201712_y2018m02d19.nc.nosalt')"
   ]
  },
  {
   "cell_type": "code",
   "execution_count": null,
   "metadata": {
    "collapsed": true
   },
   "outputs": [],
   "source": [
    "salt_before = before.variables['vosaline'][0]\n",
    "salt_after = after.variables['vosaline'][0]\n",
    "salt_before.shape"
   ]
  },
  {
   "cell_type": "code",
   "execution_count": null,
   "metadata": {
    "collapsed": true
   },
   "outputs": [],
   "source": [
    "fig, ax = plt.subplots(1,3 ,figsize=(20,5))\n",
    "mesh = ax[0].pcolormesh(salt_before[:,0], vmax=34.1, vmin = 31.5)\n",
    "fig.colorbar(mesh, ax=ax[0])\n",
    "mesh = ax[1].pcolormesh(salt_after[:,0], vmax=34.1, vmin = 31.5)\n",
    "fig.colorbar(mesh, ax=ax[1])\n",
    "mesh = ax[2].pcolormesh(salt_after[:, 0] - salt_before[:, 0], cmap=cm.curl, vmax=0.1, vmin=-0.1)\n",
    "fig.colorbar(mesh, ax=ax[2])\n",
    "for ax in [ax[0], ax[1], ax[2]]:\n",
    "    ax.invert_yaxis()\n",
    "print (np.max(salt_after - salt_before), np.min(salt_after - salt_before))"
   ]
  },
  {
   "cell_type": "code",
   "execution_count": null,
   "metadata": {
    "collapsed": true
   },
   "outputs": [],
   "source": [
    "fig, ax = plt.subplots(1,3 ,figsize=(20,5))\n",
    "mesh = ax[0].pcolormesh(salt_before[1:, 0] -salt_before[:-1, 0], cmap='bwr', vmax=0.1, vmin=-0.1)\n",
    "fig.colorbar(mesh, ax=ax[0])\n",
    "mesh = ax[1].pcolormesh(salt_after[1:, 0] - salt_after[:-1, 0], cmap='bwr', vmax=0.1, vmin=-0.1)\n",
    "fig.colorbar(mesh, ax=ax[1])\n",
    "mesh = ax[2].pcolormesh(salt_after[:, 0] - salt_before[:, 0], cmap='bwr', vmax=0.1, vmin=-0.1)\n",
    "fig.colorbar(mesh, ax=ax[2])\n",
    "for ax in [ax[0], ax[1], ax[2]]:\n",
    "    ax.invert_yaxis()"
   ]
  },
  {
   "cell_type": "code",
   "execution_count": null,
   "metadata": {
    "collapsed": true
   },
   "outputs": [],
   "source": [
    "temp_before = before.variables['votemper'][0]\n",
    "temp_after = after.variables['votemper'][0]"
   ]
  },
  {
   "cell_type": "code",
   "execution_count": null,
   "metadata": {
    "collapsed": true
   },
   "outputs": [],
   "source": [
    "fig, ax = plt.subplots(1,3 ,figsize=(20,5))\n",
    "mesh = ax[0].pcolormesh(temp_before[1:, 0] - temp_before[0:-1, 0], cmap='bwr', vmin=-0.6, vmax=0.6 )\n",
    "fig.colorbar(mesh, ax=ax[0])\n",
    "mesh = ax[1].pcolormesh(temp_after[1:, 0] -temp_after[0:-1, 0], cmap='bwr', vmin=-0.6, vmax=0.6)\n",
    "fig.colorbar(mesh, ax=ax[1])\n",
    "mesh = ax[2].pcolormesh(temp_after[:, 0] - temp_before[:, 0], cmap='bwr', vmax=0.1, vmin=-0.1)\n",
    "fig.colorbar(mesh, ax=ax[2])\n",
    "for ax in [ax[0], ax[1], ax[2]]:\n",
    "    ax.invert_yaxis()"
   ]
  },
  {
   "cell_type": "code",
   "execution_count": null,
   "metadata": {
    "collapsed": true
   },
   "outputs": [],
   "source": []
  }
 ],
 "metadata": {
  "anaconda-cloud": {},
  "kernelspec": {
   "display_name": "Python [conda env:py3]",
   "language": "python",
   "name": "conda-env-py3-py"
  },
  "language_info": {
   "codemirror_mode": {
    "name": "ipython",
    "version": 3
   },
   "file_extension": ".py",
   "mimetype": "text/x-python",
   "name": "python",
   "nbconvert_exporter": "python",
   "pygments_lexer": "ipython3",
   "version": "3.5.2"
  },
  "toc": {
   "colors": {
    "hover_highlight": "#DAA520",
    "running_highlight": "#FF0000",
    "selected_highlight": "#FFD700"
   },
   "moveMenuLeft": true,
   "nav_menu": {
    "height": "269px",
    "width": "252px"
   },
   "navigate_menu": true,
   "number_sections": true,
   "sideBar": false,
   "threshold": 4,
   "toc_cell": false,
   "toc_position": {
    "height": "409px",
    "left": "2px",
    "right": "1292.08px",
    "top": "246px",
    "width": "212px"
   },
   "toc_section_display": "block",
   "toc_window_display": true,
   "widenNotebook": false
  }
 },
 "nbformat": 4,
 "nbformat_minor": 2
}
