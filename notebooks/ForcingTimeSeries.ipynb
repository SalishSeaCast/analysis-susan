{
 "cells": [
  {
   "cell_type": "markdown",
   "metadata": {},
   "source": [
    "Collect and Process the Comparison DataSets"
   ]
  },
  {
   "cell_type": "code",
   "execution_count": 1,
   "metadata": {},
   "outputs": [
    {
     "name": "stderr",
     "output_type": "stream",
     "text": [
      "/home/sallen/anaconda/envs/py3/lib/python3.5/site-packages/pandas/computation/__init__.py:19: UserWarning: The installed version of numexpr 2.4.4 is not supported in pandas and will be not be used\n",
      "\n",
      "  UserWarning)\n"
     ]
    }
   ],
   "source": [
    "import datetime\n",
    "import matplotlib.pyplot as plt\n",
    "import numpy as np\n",
    "import pandas as pd\n",
    "\n",
    "%matplotlib inline"
   ]
  },
  {
   "cell_type": "code",
   "execution_count": 3,
   "metadata": {
    "collapsed": true
   },
   "outputs": [],
   "source": [
    "river_flow_file = '/data/dlatorne/SOG-projects/SOG-forcing/ECget/Fraser_flow'\n",
    "wind_one_file= '/ocean/sallen/allen/research/sog/SOG_10/SOG-forcing/wind/SH_pp.dat'\n",
    "wind_two_file = '/data/dlatorne/SOG-projects/SoG-bloomcast-ensemble/run/Sandheads_wind'"
   ]
  },
  {
   "cell_type": "code",
   "execution_count": 14,
   "metadata": {},
   "outputs": [
    {
     "name": "stdout",
     "output_type": "stream",
     "text": [
      "   year  month  day  RiverFlux       date\n",
      "0  2013     10   17   1709.085 2013-10-17\n",
      "1  2013     10   18   1676.078 2013-10-18\n",
      "2  2013     10   19   1653.680 2013-10-19\n",
      "3  2013     10   20   1636.592 2013-10-20\n"
     ]
    }
   ],
   "source": [
    "river_flow = pd.read_csv(river_flow_file, sep=' ', header=None, names=['year', 'month', 'day', 'RiverFlux'])\n",
    "dateonly = river_flow.drop('RiverFlux', 1)\n",
    "dateonly = pd.to_datetime(dateonly)\n",
    "river_flow['date'] = pd.Series(dateonly, index=river_flow.index)\n",
    "print (river_flow[0:4])"
   ]
  },
  {
   "cell_type": "code",
   "execution_count": null,
   "metadata": {
    "collapsed": true
   },
   "outputs": [],
   "source": [
    "wind_one = pd.read_csv(wind_one_file, delim_whitespace=True, header=None, \n",
    "                       names=['day', 'month', 'year', 'hour', 'u_wind', 'v_wind'])\n",
    "dateonly = wind_one.drop('u_wind', 1)\n",
    "dateonly = dateonly.drop('v_wind', 1)\n",
    "dateonly = pd.to_datetime(dateonly)\n",
    "\n",
    "wind_one['datetime'] = pd.Series(dateonly, index=wind_one.index)\n",
    "print (wind_one[0:4])"
   ]
  },
  {
   "cell_type": "code",
   "execution_count": 67,
   "metadata": {},
   "outputs": [
    {
     "name": "stdout",
     "output_type": "stream",
     "text": [
      "        day  month  year  hour    u_wind    v_wind            datetime\n",
      "420767   31     12  2014  23.0 -0.821758  1.762265 2014-12-31 23:00:00\n",
      "420768    1      1  2015   0.0 -0.193679  2.213766 2015-01-01 00:00:00\n",
      "        day  month  year  hour    u_wind    v_wind   datetime\n",
      "418992   19     10  2014   0.0 -1.294095  4.829629 2014-10-19\n"
     ]
    }
   ],
   "source": [
    "print (wind_one[420767:420769])\n",
    "print (wind_one[418992:418993])"
   ]
  },
  {
   "cell_type": "code",
   "execution_count": 23,
   "metadata": {},
   "outputs": [
    {
     "name": "stdout",
     "output_type": "stream",
     "text": [
      "   day  month  year  hour    u_wind    v_wind            datetime\n",
      "0    1      1  2015   0.0 -0.193679  2.213766 2015-01-01 00:00:00\n",
      "1    1      1  2015   1.0  0.575153  2.146502 2015-01-01 01:00:00\n",
      "2    1      1  2015   2.0  0.796634  1.137711 2015-01-01 02:00:00\n",
      "3    1      1  2015   3.0 -0.227542 -0.159327 2015-01-01 03:00:00\n"
     ]
    }
   ],
   "source": [
    "wind_two = pd.read_csv(wind_two_file, delim_whitespace=True, header=None, \n",
    "                       names=['day', 'month', 'year', 'hour', 'u_wind', 'v_wind'])\n",
    "dateonly = wind_two.drop('u_wind', 1)\n",
    "dateonly = dateonly.drop('v_wind', 1)\n",
    "dateonly = pd.to_datetime(dateonly)\n",
    "\n",
    "wind_two['datetime'] = pd.Series(dateonly, index=wind_one.index)\n",
    "print (wind_two[0:4])"
   ]
  },
  {
   "cell_type": "code",
   "execution_count": 68,
   "metadata": {},
   "outputs": [
    {
     "name": "stdout",
     "output_type": "stream",
     "text": [
      "        day  month  year  hour    u_wind    v_wind            datetime\n",
      "418992   19     10  2014   0.0 -1.294095  4.829629 2014-10-19 00:00:00\n",
      "418993   19     10  2014   1.0 -1.995697  4.279787 2014-10-19 01:00:00\n",
      "418994   19     10  2014   2.0  0.411569  4.704253 2014-10-19 02:00:00\n",
      "418995   19     10  2014   3.0  3.345863  4.778387 2014-10-19 03:00:00\n",
      "       day  month  year  hour    u_wind    v_wind            datetime\n",
      "11540   25      4  2016  20.0  3.413134  2.389902 2016-04-25 20:00:00\n",
      "11541   25      4  2016  21.0  1.767767  1.767767 2016-04-25 21:00:00\n",
      "11542   25      4  2016  22.0 -1.752595  2.502965 2016-04-25 22:00:00\n"
     ]
    }
   ],
   "source": [
    "wind = wind_one[418992:420768].append(wind_two)\n",
    "print (wind[0:4])\n",
    "print (wind[-4:-1])"
   ]
  },
  {
   "cell_type": "code",
   "execution_count": 51,
   "metadata": {
    "collapsed": true
   },
   "outputs": [],
   "source": [
    "river_flow.to_csv('river_flow.csv')\n"
   ]
  },
  {
   "cell_type": "code",
   "execution_count": 69,
   "metadata": {},
   "outputs": [
    {
     "name": "stdout",
     "output_type": "stream",
     "text": [
      "                     day  month  year  hour    u_wind    v_wind\n",
      "datetime                                                       \n",
      "2014-10-19 00:00:00   19     10  2014   0.0 -1.294095  4.829629\n",
      "2014-10-19 01:00:00   19     10  2014   1.0 -1.995697  4.279787\n",
      "2014-10-19 02:00:00   19     10  2014   2.0  0.411569  4.704253\n",
      "2014-10-19 03:00:00   19     10  2014   3.0  3.345863  4.778387\n"
     ]
    },
    {
     "name": "stderr",
     "output_type": "stream",
     "text": [
      "/home/sallen/anaconda/envs/py3/lib/python3.5/site-packages/ipykernel/__main__.py:3: FutureWarning: how in .resample() is deprecated\n",
      "the new syntax is .resample(...).mean()\n",
      "  app.launch_new_instance()\n"
     ]
    }
   ],
   "source": [
    "wind = wind.set_index('datetime')\n",
    "print (wind[0:4])\n",
    "day_avg_wind = wind.resample('1D', how='mean')"
   ]
  },
  {
   "cell_type": "code",
   "execution_count": 70,
   "metadata": {},
   "outputs": [
    {
     "name": "stdout",
     "output_type": "stream",
     "text": [
      "            day  month  year  hour    u_wind    v_wind\n",
      "datetime                                              \n",
      "2016-04-22   22      4  2016  11.5  0.528146 -0.461204\n",
      "2016-04-23   23      4  2016  11.5  2.818962  3.940065\n",
      "2016-04-24   24      4  2016  11.5  0.674369 -4.427742\n"
     ]
    }
   ],
   "source": [
    "print (day_avg_wind[-4:-1])"
   ]
  },
  {
   "cell_type": "code",
   "execution_count": 71,
   "metadata": {
    "collapsed": true
   },
   "outputs": [],
   "source": [
    "day_avg_wind.to_csv('wind.csv')"
   ]
  },
  {
   "cell_type": "code",
   "execution_count": null,
   "metadata": {
    "collapsed": true
   },
   "outputs": [],
   "source": []
  }
 ],
 "metadata": {
  "kernelspec": {
   "display_name": "Python 3",
   "language": "python",
   "name": "python3"
  },
  "language_info": {
   "codemirror_mode": {
    "name": "ipython",
    "version": 3
   },
   "file_extension": ".py",
   "mimetype": "text/x-python",
   "name": "python",
   "nbconvert_exporter": "python",
   "pygments_lexer": "ipython3",
   "version": "3.6.4"
  }
 },
 "nbformat": 4,
 "nbformat_minor": 1
}
