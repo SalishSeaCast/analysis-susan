{
 "cells": [
  {
   "cell_type": "code",
   "execution_count": 1,
   "metadata": {},
   "outputs": [],
   "source": [
    "import numpy as np\n",
    "import matplotlib.pyplot as plt\n",
    "\n",
    "%matplotlib inline"
   ]
  },
  {
   "cell_type": "code",
   "execution_count": 57,
   "metadata": {},
   "outputs": [],
   "source": [
    "#data = np.loadtxt('/home/sallen/MEOPAR/ANALYSIS/analysis-michael/land-processor-elimination/lpe_lookup_table.csv', delimiter=',')\n",
    "data = np.loadtxt('/home/sallen/MEOPAR/grid/bathymetry_double_202206.csv', delimiter=',')\n",
    "#data = np.loadtxt('/home/sallen/MEOPAR/grid/bathymetry_202108.csv', delimiter=',')\n",
    "gridx = 398*2\n",
    "gridy = 898*2"
   ]
  },
  {
   "cell_type": "code",
   "execution_count": 58,
   "metadata": {},
   "outputs": [],
   "source": [
    "square = data[:, 1]/data[:, 0] - 9/4.\n",
    "total = data[:, 1]*data[:, 0]\n",
    "efficient = total/data[:, 2]\n",
    "sizex = (gridx/data[:, 0]+1).astype(int)\n",
    "sizey = (gridy/data[:, 1]+1).astype(int)"
   ]
  },
  {
   "cell_type": "code",
   "execution_count": 85,
   "metadata": {},
   "outputs": [
    {
     "name": "stdout",
     "output_type": "stream",
     "text": [
      "400\n",
      "1320\n"
     ]
    },
    {
     "data": {
      "image/png": "[encoded data removed]",
      "text/plain": [
       "<Figure size 432x288 with 1 Axes>"
      ]
     },
     "metadata": {
      "needs_background": "light"
     },
     "output_type": "display_data"
    }
   ],
   "source": [
    "plt.plot(data[:, 2], sizex*sizey, 'o')\n",
    "guide = 40*10\n",
    "#plt.xlim((1500, 3000))\n",
    "plt.grid()\n",
    "#plt.ylim((16*16, 20*20))\n",
    "\n",
    "print (guide)\n",
    "print (33*40)"
   ]
  },
  {
   "cell_type": "code",
   "execution_count": 98,
   "metadata": {},
   "outputs": [
    {
     "name": "stdout",
     "output_type": "stream",
     "text": [
      "[ 25.  75. 782.] 0.75 2.39769820971867 1875.0 32 24 768\n",
      "[ 25.  76. 790.] 0.79 2.4050632911392404 1900.0 32 24 768\n",
      "[ 32.  60. 797.] -0.375 2.4090338770388957 1920.0 25 30 750\n",
      "[ 35.  55. 799.] -0.6785714285714286 2.4092615769712142 1925.0 23 33 759\n",
      "[ 38.  50. 798.] -0.9342105263157894 2.380952380952381 1900.0 21 36 756\n"
     ]
    }
   ],
   "source": [
    "minsize = 75\n",
    "for i, datum in enumerate(data[:]):\n",
    "    if (datum[2] < 800):\n",
    "        if (sizex[i] <= minsize):\n",
    "            if (sizey[i] <= minsize):\n",
    "#        if (datum[2] == 335):\n",
    "#               if (efficient[i] > 2.82):\n",
    "                if (abs(square[i]) < 1):\n",
    "                    if (sizex[i]*sizey[i] <= 770):\n",
    "                        print(datum, square[i], efficient[i], total[i], sizex[i], sizey[i], sizex[i]*sizey[i])"
   ]
  },
  {
   "cell_type": "code",
   "execution_count": 114,
   "metadata": {},
   "outputs": [
    {
     "name": "stdout",
     "output_type": "stream",
     "text": [
      "23.025641025641026 36.18181818181818 144\n"
     ]
    }
   ],
   "source": [
    "print (898/39, 398/11, 8*18)"
   ]
  },
  {
   "cell_type": "markdown",
   "metadata": {},
   "source": [
    "# 201702\n",
    "[ 15.  36. 279.] 0.1499999999999999 1.935483870967742 540.0  \n",
    "[ 16.  34. 278.] -0.125 1.9568345323741008 544.0  \n",
    "[ 18.  30. 276.] -0.5833333333333333 1.9565217391304348 540.0  "
   ]
  },
  {
   "cell_type": "markdown",
   "metadata": {},
   "source": [
    "* One : 4 x 9 : 30 for 36 : exactly square\n",
    "* Two : 6 x 14 : 62 for 84 : 0.08 from square\n",
    "* Three: 8 x 18 : 95 for 144 : exactly square\n",
    "* Four: 11 x 20 : 127 for 220 : 0.43   - 125 for 201803p\n",
    "*       9 x 22 : 126 for 198 : 0.19\n",
    "* Five: 12 x 23 : 157 for 276 : 0.33   - 156 for 201803p\n",
    "*      11 x 25 : 156 for 275 : 0.02\n",
    "* Six: 13 x 26 : 191 for 338 : 0.25\n",
    "*     12 x 28 : 190 for 336 : 0.08\n",
    "* Seven: 15 x 28 : 222 for 420 : 0.38\n",
    "*       14 x 29 : 219 for 406: 0.18\n",
    "* Eight: 15 x 32 : 254 for 480: 0.12\n",
    "* Nine: 15 x 37: 286 for 555 : 0.21\n",
    "*        16 x 34: 278 for 544 : 0.12\n",
    "* Ten : 16 x 39 = 317 for 624 : 0.19"
   ]
  },
  {
   "cell_type": "code",
   "execution_count": null,
   "metadata": {
    "collapsed": true,
    "jupyter": {
     "outputs_hidden": true
    }
   },
   "outputs": [],
   "source": [
    "[  11.   33.  198.] 0.75 1.83333333333 363.0"
   ]
  },
  {
   "cell_type": "markdown",
   "metadata": {},
   "source": [
    "14X29 + 5 = 224  equiv 406  or 14X28 + 7 = 392\n",
    "11X30 + 6 = 192  equiv 275\n",
    "11X25 + 4 = 160  equiv 330"
   ]
  },
  {
   "cell_type": "code",
   "execution_count": 13,
   "metadata": {},
   "outputs": [
    {
     "data": {
      "text/plain": [
       "100.8"
      ]
     },
     "execution_count": 13,
     "metadata": {},
     "output_type": "execute_result"
    }
   ],
   "source": [
    "12*6*14/2/5"
   ]
  },
  {
   "cell_type": "code",
   "execution_count": 14,
   "metadata": {},
   "outputs": [
    {
     "data": {
      "text/plain": [
       "70.0"
      ]
     },
     "execution_count": 14,
     "metadata": {},
     "output_type": "execute_result"
    }
   ],
   "source": [
    "12/6*14/2*5"
   ]
  },
  {
   "cell_type": "code",
   "execution_count": 15,
   "metadata": {},
   "outputs": [
    {
     "data": {
      "text/plain": [
       "540.0"
      ]
     },
     "execution_count": 15,
     "metadata": {},
     "output_type": "execute_result"
    }
   ],
   "source": [
    "2160/4"
   ]
  },
  {
   "cell_type": "code",
   "execution_count": 16,
   "metadata": {},
   "outputs": [
    {
     "data": {
      "text/plain": [
       "2175"
      ]
     },
     "execution_count": 16,
     "metadata": {},
     "output_type": "execute_result"
    }
   ],
   "source": [
    "725*3"
   ]
  },
  {
   "cell_type": "code",
   "execution_count": 22,
   "metadata": {},
   "outputs": [
    {
     "data": {
      "text/plain": [
       "288"
      ]
     },
     "execution_count": 22,
     "metadata": {},
     "output_type": "execute_result"
    }
   ],
   "source": [
    "32*9"
   ]
  },
  {
   "cell_type": "code",
   "execution_count": 32,
   "metadata": {},
   "outputs": [
    {
     "data": {
      "text/plain": [
       "320"
      ]
     },
     "execution_count": 32,
     "metadata": {},
     "output_type": "execute_result"
    }
   ],
   "source": [
    "40*8"
   ]
  },
  {
   "cell_type": "code",
   "execution_count": null,
   "metadata": {},
   "outputs": [],
   "source": []
  }
 ],
 "metadata": {
  "anaconda-cloud": {},
  "jupytext": {
   "cell_metadata_filter": "all",
   "notebook_metadata_filter": "all,-language_info,-toc,-latex_envs",
   "text_representation": {
    "extension": ".py",
    "format_name": "percent",
    "format_version": "1.3",
    "jupytext_version": "1.3.3"
   }
  },
  "kernelspec": {
   "display_name": "Python 3",
   "language": "python",
   "name": "python3"
  },
  "language_info": {
   "codemirror_mode": {
    "name": "ipython",
    "version": 3
   },
   "file_extension": ".py",
   "mimetype": "text/x-python",
   "name": "python",
   "nbconvert_exporter": "python",
   "pygments_lexer": "ipython3",
   "version": "3.9.2"
  },
  "toc": {
   "base_numbering": 1,
   "nav_menu": {
    "height": "12px",
    "width": "252px"
   },
   "number_sections": true,
   "sideBar": true,
   "skip_h1_title": false,
   "title_cell": "Table of Contents",
   "title_sidebar": "Contents",
   "toc_cell": false,
   "toc_position": {},
   "toc_section_display": "block",
   "toc_window_display": false
  }
 },
 "nbformat": 4,
 "nbformat_minor": 4
}
