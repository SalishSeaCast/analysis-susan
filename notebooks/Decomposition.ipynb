{
 "cells": [
  {
   "cell_type": "code",
   "execution_count": 2,
   "metadata": {},
   "outputs": [],
   "source": [
    "import numpy as np\n",
    "import matplotlib.pyplot as plt\n",
    "\n",
    "%matplotlib inline"
   ]
  },
  {
   "cell_type": "code",
   "execution_count": 3,
   "metadata": {},
   "outputs": [],
   "source": [
    "#data = np.loadtxt('/home/sallen/MEOPAR/ANALYSIS/analysis-michael/land-processor-elimination/lpe_lookup_table.csv', delimiter=',')\n",
    "#data = np.loadtxt('/home/sallen/MEOPAR/grid/bathymetry_double_202206.csv', delimiter=',')\n",
    "data = np.loadtxt('/home/sallen/MEOPAR/grid/bathymetry_202108.csv', delimiter=',')\n",
    "gridx = 398\n",
    "gridy = 898"
   ]
  },
  {
   "cell_type": "code",
   "execution_count": 4,
   "metadata": {},
   "outputs": [],
   "source": [
    "square = data[:, 1] / data[:, 0] - 9/4.\n",
    "total = data[:, 1] * data[:, 0]\n",
    "efficient = total / data[:, 2]\n",
    "sizex = (gridx/data[:, 0] + 1).astype(int)\n",
    "sizey = (gridy/data[:, 1] + 1).astype(int)"
   ]
  },
  {
   "cell_type": "code",
   "execution_count": 7,
   "metadata": {},
   "outputs": [
    {
     "name": "stdout",
     "output_type": "stream",
     "text": [
      "120\n"
     ]
    },
    {
     "data": {
      "image/png": "[encoded data removed]",
      "text/plain": [
       "<Figure size 640x480 with 1 Axes>"
      ]
     },
     "metadata": {},
     "output_type": "display_data"
    }
   ],
   "source": [
    "number_nodes = 3\n",
    "node_size = 40\n",
    "\n",
    "plt.plot(data[:, 2], sizex*sizey, 'o')\n",
    "guide = number_nodes * node_size\n",
    "plt.xlim((guide-node_size, guide+node_size))\n",
    "plt.grid()\n",
    "#plt.ylim((45, 900))\n",
    "print (guide)"
   ]
  },
  {
   "cell_type": "code",
   "execution_count": 18,
   "metadata": {},
   "outputs": [
    {
     "name": "stdout",
     "output_type": "stream",
     "text": [
      "[ 10.  17. 103.] -0.55 1.6504854368932038 170.0 40 53 2120\n",
      "[ 10.  19. 113.] -0.3500000000000001 1.6814159292035398 190.0 40 48 1920\n",
      "[ 10.  20. 119.] -0.25 1.680672268907563 200.0 40 45 1800\n",
      "[ 11.  16. 106.] -0.7954545454545454 1.6603773584905661 176.0 37 57 2109\n",
      "[ 11.  17. 111.] -0.7045454545454546 1.6846846846846846 187.0 37 53 1961\n",
      "[ 11.  18. 117.] -0.6136363636363635 1.6923076923076923 198.0 37 50 1850\n",
      "[ 12.  16. 116.] -0.9166666666666667 1.6551724137931034 192.0 34 57 1938\n"
     ]
    }
   ],
   "source": [
    "minsize = 80\n",
    "efficiency = 1.65\n",
    "for i, datum in enumerate(data[:]):\n",
    "    if (datum[2] < guide):\n",
    "        if (sizex[i] <= minsize):\n",
    "            if (sizey[i] <= minsize):\n",
    "                if (efficient[i] > efficiency):\n",
    "                    if (abs(square[i]) < 1):\n",
    "                        print(datum, square[i], efficient[i], total[i], sizex[i], sizey[i], sizex[i]*sizey[i])\n",
    "                    else:\n",
    "                        print('Not Square', datum, square[i], efficient[i], total[i], sizex[i], sizey[i], sizex[i]*sizey[i])"
   ]
  },
  {
   "cell_type": "code",
   "execution_count": 25,
   "metadata": {},
   "outputs": [
    {
     "name": "stdout",
     "output_type": "stream",
     "text": [
      "Not Square [ 19.  67. 575.] 1273.0 1.276315789473684 2.213913043478261 21 14 294\n",
      "[ 21.  61. 567.] 1281.0 0.6547619047619047 2.259259259259259 19 15 285\n",
      "[ 22.  58. 574.] 1276.0 0.38636363636363624 2.2229965156794425 19 16 304\n",
      "[ 24.  53. 571.] 1272.0 -0.04166666666666652 2.227670753064799 17 17 289\n",
      "[ 25.  51. 566.] 1275.0 -0.20999999999999996 2.2526501766784452 16 18 288\n",
      "[ 29.  44. 570.] 1276.0 -0.7327586206896552 2.23859649122807 14 21 294\n"
     ]
    }
   ],
   "source": [
    "minsize = 40\n",
    "lots = 1270\n",
    "for i, datum in enumerate(data[:]):\n",
    "    if (datum[2] < guide):\n",
    "        if (sizex[i] <= minsize):\n",
    "            if (sizey[i] <= minsize):\n",
    "                if (total[i] > lots):\n",
    "                    if (abs(square[i]) < 1):\n",
    "                        print(datum, total[i], square[i], efficient[i], sizex[i], sizey[i], sizex[i]*sizey[i])\n",
    "                    else:\n",
    "                        print('Not Square', datum, total[i], square[i], efficient[i], sizex[i], sizey[i], sizex[i]*sizey[i])"
   ]
  },
  {
   "cell_type": "code",
   "execution_count": 13,
   "metadata": {},
   "outputs": [
    {
     "name": "stdout",
     "output_type": "stream",
     "text": [
      "23.025641025641026 36.18181818181818 144\n"
     ]
    }
   ],
   "source": [
    "print (898/39, 398/11, 8*18)"
   ]
  },
  {
   "cell_type": "markdown",
   "metadata": {},
   "source": [
    "# 201702\n",
    "[ 15.  36. 279.] 0.1499999999999999 1.935483870967742 540.0  \n",
    "[ 16.  34. 278.] -0.125 1.9568345323741008 544.0  \n",
    "[ 18.  30. 276.] -0.5833333333333333 1.9565217391304348 540.0  "
   ]
  },
  {
   "cell_type": "markdown",
   "metadata": {},
   "source": [
    "* One : 4 x 9 : 30 for 36 : exactly square\n",
    "* Two : 6 x 14 : 62 for 84 : 0.08 from square\n",
    "* Three: 8 x 18 : 95 for 144 : exactly square\n",
    "* Four: 11 x 20 : 127 for 220 : 0.43   - 125 for 201803p\n",
    "*       9 x 22 : 126 for 198 : 0.19\n",
    "* Five: 12 x 23 : 157 for 276 : 0.33   - 156 for 201803p\n",
    "*      11 x 25 : 156 for 275 : 0.02\n",
    "* Six: 13 x 26 : 191 for 338 : 0.25\n",
    "*     12 x 28 : 190 for 336 : 0.08\n",
    "* Seven: 15 x 28 : 222 for 420 : 0.38\n",
    "*       14 x 29 : 219 for 406: 0.18\n",
    "* Eight: 15 x 32 : 254 for 480: 0.12\n",
    "* Nine: 15 x 37: 286 for 555 : 0.21\n",
    "*        16 x 34: 278 for 544 : 0.12\n",
    "* Ten : 16 x 39 = 317 for 624 : 0.19"
   ]
  },
  {
   "cell_type": "code",
   "execution_count": null,
   "metadata": {},
   "outputs": [],
   "source": [
    "[  11.   33.  198.] 0.75 1.83333333333 363.0"
   ]
  },
  {
   "cell_type": "markdown",
   "metadata": {},
   "source": [
    "14X29 + 5 = 224  equiv 406  or 14X28 + 7 = 392\n",
    "11X30 + 6 = 192  equiv 275\n",
    "11X25 + 4 = 160  equiv 330"
   ]
  },
  {
   "cell_type": "code",
   "execution_count": null,
   "metadata": {},
   "outputs": [],
   "source": [
    "12*6*14/2/5"
   ]
  },
  {
   "cell_type": "code",
   "execution_count": null,
   "metadata": {},
   "outputs": [],
   "source": [
    "12/6*14/2*5"
   ]
  },
  {
   "cell_type": "code",
   "execution_count": null,
   "metadata": {},
   "outputs": [],
   "source": [
    "2160/4"
   ]
  },
  {
   "cell_type": "code",
   "execution_count": null,
   "metadata": {},
   "outputs": [],
   "source": [
    "725*3"
   ]
  },
  {
   "cell_type": "code",
   "execution_count": null,
   "metadata": {},
   "outputs": [],
   "source": [
    "32*9"
   ]
  },
  {
   "cell_type": "code",
   "execution_count": null,
   "metadata": {},
   "outputs": [],
   "source": [
    "40*8"
   ]
  },
  {
   "cell_type": "code",
   "execution_count": null,
   "metadata": {},
   "outputs": [],
   "source": [
    "data[:, 2].max()"
   ]
  },
  {
   "cell_type": "code",
   "execution_count": null,
   "metadata": {},
   "outputs": [],
   "source": []
  }
 ],
 "metadata": {
  "anaconda-cloud": {},
  "jupytext": {
   "cell_metadata_filter": "all",
   "notebook_metadata_filter": "all,-language_info,-toc,-latex_envs",
   "text_representation": {
    "extension": ".py",
    "format_name": "percent",
    "format_version": "1.3",
    "jupytext_version": "1.3.3"
   }
  },
  "kernelspec": {
   "display_name": "Python 3 (ipykernel)",
   "language": "python",
   "name": "python3"
  },
  "language_info": {
   "codemirror_mode": {
    "name": "ipython",
    "version": 3
   },
   "file_extension": ".py",
   "mimetype": "text/x-python",
   "name": "python",
   "nbconvert_exporter": "python",
   "pygments_lexer": "ipython3",
   "version": "3.11.11"
  },
  "toc": {
   "base_numbering": 1,
   "nav_menu": {
    "height": "12px",
    "width": "252px"
   },
   "number_sections": true,
   "sideBar": true,
   "skip_h1_title": false,
   "title_cell": "Table of Contents",
   "title_sidebar": "Contents",
   "toc_cell": false,
   "toc_position": {},
   "toc_section_display": "block",
   "toc_window_display": false
  }
 },
 "nbformat": 4,
 "nbformat_minor": 4
}
