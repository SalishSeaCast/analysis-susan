{
 "cells": [
  {
   "cell_type": "code",
   "execution_count": 2,
   "metadata": {},
   "outputs": [],
   "source": [
    "import numpy as np\n",
    "import matplotlib.pyplot as plt\n",
    "\n",
    "%matplotlib inline"
   ]
  },
  {
   "cell_type": "code",
   "execution_count": 3,
   "metadata": {},
   "outputs": [],
   "source": [
    "#data = np.loadtxt('/home/sallen/MEOPAR/NEMO-forcing/grid/bathymetry_201702.csv', delimiter=',')\n",
    "data = np.loadtxt('/Users/sallen/Documents/MEOPAR/grid/bathymetry_201702.csv', delimiter=',')"
   ]
  },
  {
   "cell_type": "code",
   "execution_count": 4,
   "metadata": {},
   "outputs": [],
   "source": [
    "square = data[:, 1]/data[:, 0] - 9/4.\n",
    "total = data[:, 1]*data[:, 0]\n",
    "efficient = total/data[:, 2]"
   ]
  },
  {
   "cell_type": "code",
   "execution_count": 5,
   "metadata": {},
   "outputs": [
    {
     "name": "stdout",
     "output_type": "stream",
     "text": [
      "280\n"
     ]
    },
    {
     "data": {
      "image/png": "[encoded data removed]",
      "text/plain": [
       "<Figure size 432x288 with 1 Axes>"
      ]
     },
     "metadata": {
      "needs_background": "light"
     },
     "output_type": "display_data"
    }
   ],
   "source": [
    "plt.plot(data[:, 2], total, 'o')\n",
    "guide = 40*7\n",
    "plt.xlim((guide-40, guide))\n",
    "plt.grid()\n",
    "plt.ylim((400, 800))\n",
    "\n",
    "print (guide)"
   ]
  },
  {
   "cell_type": "code",
   "execution_count": 6,
   "metadata": {
    "scrolled": false
   },
   "outputs": [
    {
     "name": "stdout",
     "output_type": "stream",
     "text": [
      "[ 15.  36. 279.] 0.1499999999999999 1.935483870967742 540.0\n",
      "[ 16.  34. 278.] -0.125 1.9568345323741008 544.0\n",
      "[ 18.  30. 276.] -0.5833333333333333 1.9565217391304348 540.0\n"
     ]
    }
   ],
   "source": [
    "for i, datum in enumerate(data[:]):\n",
    "    if (datum[2] > guide-40*7 and datum[2] < guide):\n",
    "#        if (datum[2] == 335):\n",
    "#       if (efficient[i] > 1.9):\n",
    "            if (abs(square[i]) < 1):\n",
    "                if (total[i] >=540):\n",
    "                    print(datum, square[i], efficient[i], total[i])"
   ]
  },
  {
   "cell_type": "markdown",
   "metadata": {
    "collapsed": true
   },
   "source": [
    "* One : 4 x 9 : 30 for 36 : exactly square\n",
    "* Two : 6 x 14 : 62 for 84 : 0.08 from square\n",
    "* Three: 8 x 18 : 95 for 144 : exactly square\n",
    "* Four: 11 x 20 : 127 for 220 : 0.43   - 125 for 201803p\n",
    "*       9 x 22 : 126 for 198 : 0.19\n",
    "* Five: 12 x 23 : 157 for 276 : 0.33   - 156 for 201803p\n",
    "*      11 x 25 : 156 for 275 : 0.02\n",
    "* Six: 13 x 26 : 191 for 338 : 0.25\n",
    "*     12 x 28 : 190 for 336 : 0.08\n",
    "* Seven: 15 x 28 : 222 for 420 : 0.38\n",
    "*       14 x 29 : 219 for 406: 0.18\n",
    "* Eight: 15 x 32 : 254 for 480: 0.12\n",
    "* Nine: 15 x 37: 286 for 555 : 0.21\n",
    "*        16 x 34: 278 for 544 : 0.12\n",
    "* Ten : 16 x 39 = 317 for 624 : 0.19"
   ]
  },
  {
   "cell_type": "code",
   "execution_count": null,
   "metadata": {
    "collapsed": true
   },
   "outputs": [],
   "source": [
    "[  11.   33.  198.] 0.75 1.83333333333 363.0"
   ]
  },
  {
   "cell_type": "markdown",
   "metadata": {},
   "source": [
    "14X29 + 5 = 224  equiv 406  or 14X28 + 7 = 392\n",
    "11X30 + 6 = 192  equiv 275\n",
    "11X25 + 4 = 160  equiv 330"
   ]
  }
 ],
 "metadata": {
  "anaconda-cloud": {},
  "jupytext": {
   "cell_metadata_filter": "all",
   "notebook_metadata_filter": "all,-language_info,-toc,-latex_envs",
   "text_representation": {
    "extension": ".py",
    "format_name": "percent",
    "format_version": "1.3",
    "jupytext_version": "1.3.3"
   }
  },
  "kernelspec": {
   "display_name": "Python 3",
   "language": "python",
   "name": "python3"
  },
  "language_info": {
   "codemirror_mode": {
    "name": "ipython",
    "version": 3
   },
   "file_extension": ".py",
   "mimetype": "text/x-python",
   "name": "python",
   "nbconvert_exporter": "python",
   "pygments_lexer": "ipython3",
   "version": "3.7.6"
  },
  "toc": {
   "base_numbering": 1,
   "nav_menu": {
    "height": "12px",
    "width": "252px"
   },
   "number_sections": true,
   "sideBar": true,
   "skip_h1_title": false,
   "title_cell": "Table of Contents",
   "title_sidebar": "Contents",
   "toc_cell": false,
   "toc_position": {},
   "toc_section_display": "block",
   "toc_window_display": false
  }
 },
 "nbformat": 4,
 "nbformat_minor": 2
}
