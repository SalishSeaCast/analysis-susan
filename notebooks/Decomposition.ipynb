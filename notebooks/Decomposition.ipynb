{
 "cells": [
  {
   "cell_type": "code",
   "execution_count": 2,
   "metadata": {},
   "outputs": [],
   "source": [
    "import numpy as np\n",
    "import matplotlib.pyplot as plt\n",
    "\n",
    "%matplotlib inline"
   ]
  },
  {
   "cell_type": "code",
   "execution_count": 3,
   "metadata": {},
   "outputs": [],
   "source": [
    "data = np.loadtxt('/home/sallen/MEOPAR/NEMO-forcing/grid/bathymetry_201702.csv', delimiter=',')\n",
    "#data = np.loadtxt('/Users/sallen/Documents/MEOPAR/grid/bathymetry_201702.csv', delimiter=',')"
   ]
  },
  {
   "cell_type": "code",
   "execution_count": 4,
   "metadata": {},
   "outputs": [],
   "source": [
    "square = data[:, 1]/data[:, 0] - 9/4.\n",
    "total = data[:, 1]*data[:, 0]\n",
    "efficient = total/data[:, 2]"
   ]
  },
  {
   "cell_type": "code",
   "execution_count": 9,
   "metadata": {},
   "outputs": [
    {
     "name": "stdout",
     "output_type": "stream",
     "text": [
      "240\n"
     ]
    },
    {
     "data": {
      "image/png": "[encoded data removed]",
      "text/plain": [
       "<Figure size 432x288 with 1 Axes>"
      ]
     },
     "metadata": {
      "needs_background": "light"
     },
     "output_type": "display_data"
    }
   ],
   "source": [
    "plt.plot(data[:, 2], total, 'o')\n",
    "guide = 40*6\n",
    "plt.xlim((guide-40, guide))\n",
    "plt.grid()\n",
    "plt.ylim((400, 800))\n",
    "\n",
    "print (guide)"
   ]
  },
  {
   "cell_type": "code",
   "execution_count": 10,
   "metadata": {
    "scrolled": false
   },
   "outputs": [
    {
     "name": "stdout",
     "output_type": "stream",
     "text": [
      "[ 12.  34. 220.] 0.5833333333333335 1.8545454545454545 408.0\n",
      "[ 12.  35. 231.] 0.6666666666666665 1.8181818181818181 420.0\n",
      "[ 12.  36. 231.] 0.75 1.87012987012987 432.0\n",
      "[ 12.  37. 238.] 0.8333333333333335 1.865546218487395 444.0\n",
      "[ 13.  31. 223.] 0.13461538461538458 1.8071748878923768 403.0\n",
      "[ 13.  32. 226.] 0.21153846153846168 1.8407079646017699 416.0\n",
      "[ 13.  33. 236.] 0.2884615384615383 1.8177966101694916 429.0\n",
      "[ 13.  34. 239.] 0.3653846153846154 1.8493723849372385 442.0\n",
      "[ 14.  29. 219.] -0.17857142857142838 1.8538812785388128 406.0\n",
      "[ 14.  30. 226.] -0.1071428571428572 1.8584070796460177 420.0\n",
      "[ 14.  31. 231.] -0.03571428571428559 1.878787878787879 434.0\n",
      "[ 14.  32. 237.] 0.03571428571428559 1.890295358649789 448.0\n",
      "[ 15.  27. 221.] -0.44999999999999996 1.832579185520362 405.0\n",
      "[ 15.  28. 222.] -0.3833333333333333 1.8918918918918919 420.0\n",
      "[ 15.  29. 235.] -0.31666666666666665 1.851063829787234 435.0\n",
      "[ 15.  30. 238.] -0.25 1.8907563025210083 450.0\n",
      "[ 16.  25. 216.] -0.6875 1.8518518518518519 400.0\n",
      "[ 16.  26. 224.] -0.625 1.8571428571428572 416.0\n",
      "[ 16.  27. 236.] -0.5625 1.8305084745762712 432.0\n",
      "[ 17.  24. 222.] -0.838235294117647 1.837837837837838 408.0\n",
      "[ 17.  25. 232.] -0.7794117647058822 1.831896551724138 425.0\n",
      "[ 18.  23. 224.] -0.9722222222222223 1.8482142857142858 414.0\n",
      "[ 18.  24. 237.] -0.9166666666666667 1.8227848101265822 432.0\n",
      "[ 18.  25. 238.] -0.8611111111111112 1.8907563025210083 450.0\n"
     ]
    }
   ],
   "source": [
    "for i, datum in enumerate(data[:]):\n",
    "    if (datum[2] > guide-40*7 and datum[2] < guide):\n",
    "#        if (datum[2] == 335):\n",
    "#       if (efficient[i] > 1.9):\n",
    "            if (abs(square[i]) < 1):\n",
    "                if (total[i] >=400):\n",
    "                    print(datum, square[i], efficient[i], total[i])"
   ]
  },
  {
   "cell_type": "markdown",
   "metadata": {
    "collapsed": true
   },
   "source": [
    "* One : 4 x 9 : 30 for 36 : exactly square\n",
    "* Two : 6 x 14 : 62 for 84 : 0.08 from square\n",
    "* Three: 8 x 18 : 95 for 144 : exactly square\n",
    "* Four: 11 x 20 : 127 for 220 : 0.43   - 125 for 201803p\n",
    "*       9 x 22 : 126 for 198 : 0.19\n",
    "* Five: 12 x 23 : 157 for 276 : 0.33   - 156 for 201803p\n",
    "*      11 x 25 : 156 for 275 : 0.02\n",
    "* Six: 13 x 26 : 191 for 338 : 0.25\n",
    "*     12 x 28 : 190 for 336 : 0.08\n",
    "* Seven: 15 x 28 : 222 for 420 : 0.38\n",
    "*       14 x 29 : 219 for 406: 0.18\n",
    "* Eight: 15 x 32 : 254 for 480: 0.12\n",
    "* Nine: 15 x 37: 286 for 555 : 0.21\n",
    "*        16 x 34: 278 for 544 : 0.12\n",
    "* Ten : 16 x 39 = 317 for 624 : 0.19"
   ]
  },
  {
   "cell_type": "code",
   "execution_count": null,
   "metadata": {
    "collapsed": true
   },
   "outputs": [],
   "source": [
    "[  11.   33.  198.] 0.75 1.83333333333 363.0"
   ]
  },
  {
   "cell_type": "markdown",
   "metadata": {},
   "source": [
    "14X29 + 5 = 224  equiv 406  or 14X28 + 7 = 392\n",
    "11X30 + 6 = 192  equiv 275\n",
    "11X25 + 4 = 160  equiv 330"
   ]
  }
 ],
 "metadata": {
  "anaconda-cloud": {},
  "kernelspec": {
   "display_name": "Python 3",
   "language": "python",
   "name": "python3"
  },
  "language_info": {
   "codemirror_mode": {
    "name": "ipython",
    "version": 3
   },
   "file_extension": ".py",
   "mimetype": "text/x-python",
   "name": "python",
   "nbconvert_exporter": "python",
   "pygments_lexer": "ipython3",
   "version": "3.7.3"
  },
  "toc": {
   "nav_menu": {
    "height": "12px",
    "width": "252px"
   },
   "number_sections": true,
   "sideBar": true,
   "skip_h1_title": false,
   "toc_cell": false,
   "toc_position": {},
   "toc_section_display": "block",
   "toc_window_display": false
  }
 },
 "nbformat": 4,
 "nbformat_minor": 2
}
