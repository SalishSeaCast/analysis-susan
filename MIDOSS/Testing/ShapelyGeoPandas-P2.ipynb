{
 "cells": [
  {
   "cell_type": "code",
   "execution_count": 1,
   "metadata": {},
   "outputs": [],
   "source": [
    "import datetime as dt\n",
    "import matplotlib.pyplot as plt\n",
    "from matplotlib import patches\n",
    "from pathlib import Path\n",
    "import pandas as pd\n",
    "import xarray as xr\n",
    "\n",
    "%matplotlib inline"
   ]
  },
  {
   "cell_type": "code",
   "execution_count": 2,
   "metadata": {},
   "outputs": [],
   "source": [
    "import geopandas\n",
    "from shapely.geometry import Polygon"
   ]
  },
  {
   "cell_type": "code",
   "execution_count": 3,
   "metadata": {},
   "outputs": [],
   "source": [
    "shapefile_dir = Path('/data/MIDOSS/shapefiles/')\n",
    "vessel_type = 'barge'"
   ]
  },
  {
   "cell_type": "markdown",
   "metadata": {},
   "source": [
    "## do some logic testing"
   ]
  },
  {
   "cell_type": "code",
   "execution_count": 100,
   "metadata": {},
   "outputs": [
    {
     "data": {
      "text/plain": [
       "True"
      ]
     },
     "execution_count": 100,
     "metadata": {},
     "output_type": "execute_result"
    }
   ],
   "source": [
    "any([True for x in [3, 4, 5] if x not in [4, 5, 6, 7]])"
   ]
  },
  {
   "cell_type": "code",
   "execution_count": 98,
   "metadata": {},
   "outputs": [
    {
     "data": {
      "text/plain": [
       "[1, 2, 3]"
      ]
     },
     "execution_count": 98,
     "metadata": {},
     "output_type": "execute_result"
    }
   ],
   "source": [
    "[x for x in [1, 2, 3, 4] if x not in [4, 5, 6, 7]]"
   ]
  },
  {
   "cell_type": "markdown",
   "metadata": {},
   "source": [
    "## Back to our Project"
   ]
  },
  {
   "cell_type": "code",
   "execution_count": null,
   "metadata": {},
   "outputs": [],
   "source": [
    "### By number of vessels"
   ]
  },
  {
   "cell_type": "code",
   "execution_count": 122,
   "metadata": {},
   "outputs": [],
   "source": [
    "def find_alone_associated (innerdata, mmsis, month):\n",
    "    associated = 0\n",
    "    alone = 0\n",
    "    generic = ['Canada', 'US', 'Pacific']\n",
    "    aug_generic = ['Canada', 'US', 'Pacific', None]\n",
    "    for ii in mmsis:\n",
    "        tolist = innerdata[innerdata.MMSI_NUM == ii].TO.unique()\n",
    "        if any([True for x in tolist if x in generic]):\n",
    "            if len(tolist) > 4:\n",
    "                associated = associated + 1\n",
    "            elif any([True for x in tolist if x not in aug_generic]):\n",
    "                associate = associated + 1\n",
    "            else:\n",
    "                alone = alone + 1\n",
    "    print (f'Month = {month}. Associated = {associated}, alone = {alone}, ratio alone = {alone/(alone+associated):.2f}')"
   ]
  },
  {
   "cell_type": "code",
   "execution_count": 123,
   "metadata": {},
   "outputs": [
    {
     "name": "stdout",
     "output_type": "stream",
     "text": [
      "Month = 01. Associated = 58, alone = 48, ratio alone = 0.45\n",
      "Month = 02. Associated = 67, alone = 52, ratio alone = 0.44\n",
      "Month = 03. Associated = 71, alone = 44, ratio alone = 0.38\n",
      "Month = 04. Associated = 76, alone = 39, ratio alone = 0.34\n",
      "Month = 05. Associated = 73, alone = 34, ratio alone = 0.32\n",
      "Month = 06. Associated = 80, alone = 34, ratio alone = 0.30\n",
      "Month = 07. Associated = 73, alone = 47, ratio alone = 0.39\n",
      "Month = 08. Associated = 76, alone = 36, ratio alone = 0.32\n",
      "Month = 09. Associated = 70, alone = 38, ratio alone = 0.35\n",
      "Month = 10. Associated = 80, alone = 40, ratio alone = 0.33\n",
      "Month = 11. Associated = 71, alone = 48, ratio alone = 0.40\n",
      "Month = 12. Associated = 71, alone = 38, ratio alone = 0.35\n"
     ]
    }
   ],
   "source": [
    "for i in range(12):\n",
    "    month = f'{i+1:02d}'\n",
    "    innerdata = geopandas.read_file(shapefile_dir / \n",
    "                        f\"{vessel_type}_2018_{month}.shp\")\n",
    "    mmsis = innerdata.MMSI_NUM.unique()\n",
    "    find_alone_associated(innerdata, mmsis, month)"
   ]
  },
  {
   "cell_type": "code",
   "execution_count": 133,
   "metadata": {},
   "outputs": [
    {
     "data": {
      "text/plain": [
       "1382"
      ]
     },
     "execution_count": 133,
     "metadata": {},
     "output_type": "execute_result"
    }
   ],
   "source": [
    "generic = ['Canada', 'US', 'Pacific']\n",
    "innerdata[innerdata.TO.isin(generic)]\n",
    "innerdata[(innerdata.MMSI_NUM == mmsis[5]) & (innerdata.TO.isin(generic))].MMSI_NUM.count()"
   ]
  },
  {
   "cell_type": "code",
   "execution_count": 140,
   "metadata": {},
   "outputs": [],
   "source": [
    "def count_alone_associated (innerdata, mmsis, month):\n",
    "    associated = 0\n",
    "    alone = 0\n",
    "    generic = ['Canada', 'US', 'Pacific']\n",
    "    aug_generic = ['Canada', 'US', 'Pacific', None]\n",
    "    for ii in mmsis:\n",
    "        tolist = innerdata[innerdata.MMSI_NUM == ii].TO.unique()\n",
    "        if any([True for x in tolist if x in generic]):\n",
    "            if len(tolist) > 4:\n",
    "                associated = associated + innerdata[(innerdata.MMSI_NUM == ii) & (\n",
    "                                                    ((innerdata.TO.isin(generic)) & (innerdata.FROM_.isin(aug_generic))\n",
    "                                                     |\n",
    "                                                     ((innerdata.FROM_.isin(generic)) & (innerdata.TO.isin(aug_generic))\n",
    "                                                     )\n",
    "                                                    )\n",
    "                )].MMSI_NUM.count()\n",
    "            elif any([True for x in tolist if x not in aug_generic]):\n",
    "                associate = associated + innerdata[(innerdata.MMSI_NUM == ii) & (\n",
    "                                                    ((innerdata.TO.isin(generic)) & (innerdata.FROM_.isin(aug_generic))\n",
    "                                                     |\n",
    "                                                     ((innerdata.FROM_.isin(generic)) & (innerdata.TO.isin(aug_generic))\n",
    "                                                     )\n",
    "                                                    )\n",
    "                    )].MMSI_NUM.count()\n",
    "            else:\n",
    "                alone = alone + innerdata[(innerdata.MMSI_NUM == ii) & (\n",
    "                                                    ((innerdata.TO.isin(generic)) & (innerdata.FROM_.isin(aug_generic))\n",
    "                                                     |\n",
    "                                                     ((innerdata.FROM_.isin(generic)) & (innerdata.TO.isin(aug_generic))\n",
    "                                                     )\n",
    "                                                    )\n",
    "                    )].MMSI_NUM.count()\n",
    "    print (f'Month = {month}. Associated = {associated}, alone = {alone}, ratio alone = {alone/(alone+associated):.2f}')"
   ]
  },
  {
   "cell_type": "code",
   "execution_count": 141,
   "metadata": {},
   "outputs": [
    {
     "name": "stdout",
     "output_type": "stream",
     "text": [
      "Month = 04. Associated = 172016, alone = 171705, ratio alone = 0.50\n"
     ]
    }
   ],
   "source": [
    "count_alone_associated(innerdata, mmsis, month)"
   ]
  },
  {
   "cell_type": "code",
   "execution_count": 142,
   "metadata": {},
   "outputs": [
    {
     "name": "stdout",
     "output_type": "stream",
     "text": [
      "Month = 01. Associated = 106470, alone = 117671, ratio alone = 0.52\n",
      "Month = 02. Associated = 171753, alone = 132926, ratio alone = 0.44\n",
      "Month = 03. Associated = 172016, alone = 171705, ratio alone = 0.50\n",
      "Month = 04. Associated = 179202, alone = 172528, ratio alone = 0.49\n",
      "Month = 05. Associated = 194134, alone = 138622, ratio alone = 0.42\n",
      "Month = 06. Associated = 174730, alone = 123559, ratio alone = 0.41\n",
      "Month = 07. Associated = 162419, alone = 147476, ratio alone = 0.48\n",
      "Month = 08. Associated = 172016, alone = 97962, ratio alone = 0.36\n",
      "Month = 09. Associated = 177927, alone = 157105, ratio alone = 0.47\n",
      "Month = 10. Associated = 296827, alone = 184810, ratio alone = 0.38\n",
      "Month = 11. Associated = 274600, alone = 231521, ratio alone = 0.46\n",
      "Month = 12. Associated = 307405, alone = 199273, ratio alone = 0.39\n"
     ]
    }
   ],
   "source": [
    "for i in range(12):\n",
    "    month = f'{i+1:02d}'\n",
    "    innerdata = geopandas.read_file(shapefile_dir / \n",
    "                        f\"{vessel_type}_2018_{month}.shp\")\n",
    "    mmsis = innerdata.MMSI_NUM.unique()\n",
    "    count_alone_associated(innerdata, mmsis, month)"
   ]
  },
  {
   "cell_type": "code",
   "execution_count": 143,
   "metadata": {},
   "outputs": [],
   "source": [
    "assoc = [106470, 171753, 172016, 179202, 194134, 174730, 162419, 172016, 177927, 296827, 274600, 307405]\n",
    "lonely = [117671, 132926, 171705, 172528, 138622, 123559, 147476, 97962, 157105, 184810, 231521, 199273]"
   ]
  },
  {
   "cell_type": "code",
   "execution_count": 146,
   "metadata": {},
   "outputs": [
    {
     "name": "stdout",
     "output_type": "stream",
     "text": [
      "0.4396972605299793\n"
     ]
    }
   ],
   "source": [
    "print (sum(lonely) / (sum(assoc) + sum(lonely)))"
   ]
  },
  {
   "cell_type": "markdown",
   "metadata": {},
   "source": [
    "So by number of vessels, about 0.35 are not associated with terminals in a month.  By number of generic tracks, 0.44 are not associated with terminals."
   ]
  },
  {
   "cell_type": "code",
   "execution_count": null,
   "metadata": {},
   "outputs": [],
   "source": []
  }
 ],
 "metadata": {
  "kernelspec": {
   "display_name": "py39",
   "language": "python",
   "name": "py39"
  },
  "language_info": {
   "codemirror_mode": {
    "name": "ipython",
    "version": 3
   },
   "file_extension": ".py",
   "mimetype": "text/x-python",
   "name": "python",
   "nbconvert_exporter": "python",
   "pygments_lexer": "ipython3",
   "version": "3.9.2"
  }
 },
 "nbformat": 4,
 "nbformat_minor": 4
}
